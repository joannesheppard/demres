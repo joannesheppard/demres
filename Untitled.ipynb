{
 "cells": [
  {
   "cell_type": "code",
   "execution_count": 1,
   "metadata": {
    "collapsed": false
   },
   "outputs": [],
   "source": [
    "import pandas as pd\n",
    "from my_functions import *\n",
    "import datetime"
   ]
  },
  {
   "cell_type": "code",
   "execution_count": 2,
   "metadata": {
    "collapsed": false
   },
   "outputs": [],
   "source": [
    "create_pt_features()"
   ]
  },
  {
   "cell_type": "code",
   "execution_count": 3,
   "metadata": {
    "collapsed": false
   },
   "outputs": [],
   "source": [
    "features = pd.read_csv('data/pt_data/pt_features.csv',delimiter=',',parse_dates=True)"
   ]
  },
  {
   "cell_type": "code",
   "execution_count": 4,
   "metadata": {
    "collapsed": false
   },
   "outputs": [
    {
     "data": {
      "text/html": [
       "<div>\n",
       "<table border=\"1\" class=\"dataframe\">\n",
       "  <thead>\n",
       "    <tr style=\"text-align: right;\">\n",
       "      <th></th>\n",
       "      <th>patID</th>\n",
       "      <th>pracID</th>\n",
       "      <th>gender</th>\n",
       "      <th>birthyear</th>\n",
       "      <th>case_index</th>\n",
       "      <th>matchID</th>\n",
       "      <th>data_start</th>\n",
       "      <th>data_end</th>\n",
       "      <th>isCase</th>\n",
       "      <th>prediagnosis_data_length_in_days</th>\n",
       "    </tr>\n",
       "  </thead>\n",
       "  <tbody>\n",
       "    <tr>\n",
       "      <th>0</th>\n",
       "      <td>4923328</td>\n",
       "      <td>328</td>\n",
       "      <td>2</td>\n",
       "      <td>1916</td>\n",
       "      <td>2003-07-01</td>\n",
       "      <td>4355328</td>\n",
       "      <td>2000-01-01</td>\n",
       "      <td>2009-02-07</td>\n",
       "      <td>True</td>\n",
       "      <td>1277</td>\n",
       "    </tr>\n",
       "    <tr>\n",
       "      <th>1</th>\n",
       "      <td>1959216</td>\n",
       "      <td>216</td>\n",
       "      <td>1</td>\n",
       "      <td>1933</td>\n",
       "      <td>2011-02-25</td>\n",
       "      <td>6290216</td>\n",
       "      <td>2000-01-01</td>\n",
       "      <td>2012-06-01</td>\n",
       "      <td>True</td>\n",
       "      <td>4073</td>\n",
       "    </tr>\n",
       "    <tr>\n",
       "      <th>2</th>\n",
       "      <td>9271420</td>\n",
       "      <td>420</td>\n",
       "      <td>1</td>\n",
       "      <td>1917</td>\n",
       "      <td>2003-06-20</td>\n",
       "      <td>2770420</td>\n",
       "      <td>2003-01-02</td>\n",
       "      <td>2009-12-29</td>\n",
       "      <td>True</td>\n",
       "      <td>169</td>\n",
       "    </tr>\n",
       "    <tr>\n",
       "      <th>3</th>\n",
       "      <td>548429</td>\n",
       "      <td>429</td>\n",
       "      <td>2</td>\n",
       "      <td>1925</td>\n",
       "      <td>2005-05-11</td>\n",
       "      <td>5473429</td>\n",
       "      <td>2000-01-01</td>\n",
       "      <td>2012-06-01</td>\n",
       "      <td>True</td>\n",
       "      <td>1957</td>\n",
       "    </tr>\n",
       "    <tr>\n",
       "      <th>4</th>\n",
       "      <td>14185081</td>\n",
       "      <td>81</td>\n",
       "      <td>2</td>\n",
       "      <td>1917</td>\n",
       "      <td>2005-02-28</td>\n",
       "      <td>5951081</td>\n",
       "      <td>2000-01-01</td>\n",
       "      <td>2007-01-27</td>\n",
       "      <td>True</td>\n",
       "      <td>1885</td>\n",
       "    </tr>\n",
       "  </tbody>\n",
       "</table>\n",
       "</div>"
      ],
      "text/plain": [
       "      patID  pracID  gender  birthyear  case_index  matchID  data_start  \\\n",
       "0   4923328     328       2       1916  2003-07-01  4355328  2000-01-01   \n",
       "1   1959216     216       1       1933  2011-02-25  6290216  2000-01-01   \n",
       "2   9271420     420       1       1917  2003-06-20  2770420  2003-01-02   \n",
       "3    548429     429       2       1925  2005-05-11  5473429  2000-01-01   \n",
       "4  14185081      81       2       1917  2005-02-28  5951081  2000-01-01   \n",
       "\n",
       "     data_end isCase  prediagnosis_data_length_in_days  \n",
       "0  2009-02-07   True                              1277  \n",
       "1  2012-06-01   True                              4073  \n",
       "2  2009-12-29   True                               169  \n",
       "3  2012-06-01   True                              1957  \n",
       "4  2007-01-27   True                              1885  "
      ]
     },
     "execution_count": 4,
     "metadata": {},
     "output_type": "execute_result"
    }
   ],
   "source": [
    "features.head(5)"
   ]
  },
  {
   "cell_type": "code",
   "execution_count": 6,
   "metadata": {
    "collapsed": false
   },
   "outputs": [],
   "source": [
    "insom_entries = pd.read_csv('data/pt_data/proc_insomnia_clinicalentries.csv',delimiter=',')"
   ]
  },
  {
   "cell_type": "code",
   "execution_count": 27,
   "metadata": {
    "collapsed": false
   },
   "outputs": [
    {
     "data": {
      "text/html": [
       "<div>\n",
       "<table border=\"1\" class=\"dataframe\">\n",
       "  <thead>\n",
       "    <tr style=\"text-align: right;\">\n",
       "      <th></th>\n",
       "      <th>patid</th>\n",
       "      <th>eventdate</th>\n",
       "      <th>sysdate</th>\n",
       "      <th>constype</th>\n",
       "      <th>consid</th>\n",
       "      <th>medcode</th>\n",
       "      <th>staffid</th>\n",
       "      <th>textid</th>\n",
       "      <th>episode</th>\n",
       "      <th>enttype</th>\n",
       "      <th>adid</th>\n",
       "      <th>file</th>\n",
       "    </tr>\n",
       "  </thead>\n",
       "  <tbody>\n",
       "    <tr>\n",
       "      <th>31137</th>\n",
       "      <td>1467</td>\n",
       "      <td>01/02/2008</td>\n",
       "      <td>01/02/2008</td>\n",
       "      <td>1</td>\n",
       "      <td>618</td>\n",
       "      <td>4537</td>\n",
       "      <td>4467</td>\n",
       "      <td>255</td>\n",
       "      <td>4</td>\n",
       "      <td>2</td>\n",
       "      <td>0</td>\n",
       "      <td>2</td>\n",
       "    </tr>\n",
       "    <tr>\n",
       "      <th>31134</th>\n",
       "      <td>1467</td>\n",
       "      <td>29/11/2007</td>\n",
       "      <td>29/11/2007</td>\n",
       "      <td>1</td>\n",
       "      <td>603</td>\n",
       "      <td>4537</td>\n",
       "      <td>4467</td>\n",
       "      <td>236</td>\n",
       "      <td>4</td>\n",
       "      <td>2</td>\n",
       "      <td>0</td>\n",
       "      <td>2</td>\n",
       "    </tr>\n",
       "    <tr>\n",
       "      <th>31133</th>\n",
       "      <td>1467</td>\n",
       "      <td>23/11/2007</td>\n",
       "      <td>23/11/2007</td>\n",
       "      <td>1</td>\n",
       "      <td>600</td>\n",
       "      <td>4537</td>\n",
       "      <td>4467</td>\n",
       "      <td>0</td>\n",
       "      <td>4</td>\n",
       "      <td>2</td>\n",
       "      <td>0</td>\n",
       "      <td>2</td>\n",
       "    </tr>\n",
       "    <tr>\n",
       "      <th>31135</th>\n",
       "      <td>1467</td>\n",
       "      <td>03/01/2008</td>\n",
       "      <td>03/01/2008</td>\n",
       "      <td>1</td>\n",
       "      <td>612</td>\n",
       "      <td>4537</td>\n",
       "      <td>4467</td>\n",
       "      <td>0</td>\n",
       "      <td>4</td>\n",
       "      <td>2</td>\n",
       "      <td>0</td>\n",
       "      <td>2</td>\n",
       "    </tr>\n",
       "    <tr>\n",
       "      <th>31140</th>\n",
       "      <td>1467</td>\n",
       "      <td>18/05/2009</td>\n",
       "      <td>18/05/2009</td>\n",
       "      <td>1</td>\n",
       "      <td>724</td>\n",
       "      <td>4537</td>\n",
       "      <td>4467</td>\n",
       "      <td>0</td>\n",
       "      <td>4</td>\n",
       "      <td>2</td>\n",
       "      <td>0</td>\n",
       "      <td>2</td>\n",
       "    </tr>\n",
       "  </tbody>\n",
       "</table>\n",
       "</div>"
      ],
      "text/plain": [
       "       patid   eventdate     sysdate  constype  consid  medcode  staffid  \\\n",
       "31137   1467  01/02/2008  01/02/2008         1     618     4537     4467   \n",
       "31134   1467  29/11/2007  29/11/2007         1     603     4537     4467   \n",
       "31133   1467  23/11/2007  23/11/2007         1     600     4537     4467   \n",
       "31135   1467  03/01/2008  03/01/2008         1     612     4537     4467   \n",
       "31140   1467  18/05/2009  18/05/2009         1     724     4537     4467   \n",
       "\n",
       "       textid  episode  enttype  adid  file  \n",
       "31137     255        4        2     0     2  \n",
       "31134     236        4        2     0     2  \n",
       "31133       0        4        2     0     2  \n",
       "31135       0        4        2     0     2  \n",
       "31140       0        4        2     0     2  "
      ]
     },
     "execution_count": 27,
     "metadata": {},
     "output_type": "execute_result"
    }
   ],
   "source": [
    "insom_entries.sort_values('patid').head(5)"
   ]
  },
  {
   "cell_type": "code",
   "execution_count": 50,
   "metadata": {
    "collapsed": false
   },
   "outputs": [
    {
     "data": {
      "text/plain": [
       "36071"
      ]
     },
     "execution_count": 50,
     "metadata": {},
     "output_type": "execute_result"
    }
   ],
   "source": [
    "len(insom_entries[insom_entries==1467])"
   ]
  },
  {
   "cell_type": "code",
   "execution_count": 68,
   "metadata": {
    "collapsed": true
   },
   "outputs": [],
   "source": [
    "insom_entries_by_patid=insom_entries.groupby(['patid','eventdate'])['medcode']"
   ]
  },
  {
   "cell_type": "code",
   "execution_count": 80,
   "metadata": {
    "collapsed": false
   },
   "outputs": [
    {
     "data": {
      "text/plain": [
       "patid  eventdate \n",
       "1467   01/02/2008    1\n",
       "       01/03/2013    1\n",
       "       02/06/2008    1\n",
       "       03/01/2008    1\n",
       "       08/09/2009    1\n",
       "       15/02/2008    1\n",
       "       18/05/2009    1\n",
       "       23/11/2007    1\n",
       "       24/01/2008    1\n",
       "       29/11/2007    1\n",
       "3432   10/11/2008    1\n",
       "       31/12/2004    1\n",
       "3549   09/11/2007    1\n",
       "       10/10/2005    1\n",
       "       20/01/2006    1\n",
       "Name: medcode, dtype: int64"
      ]
     },
     "execution_count": 80,
     "metadata": {},
     "output_type": "execute_result"
    }
   ],
   "source": [
    "insom_entries_by_patid.count().head(15)"
   ]
  },
  {
   "cell_type": "code",
   "execution_count": 77,
   "metadata": {
    "collapsed": false
   },
   "outputs": [
    {
     "data": {
      "text/plain": [
       "31137    4537\n",
       "Name: medcode, dtype: int64"
      ]
     },
     "execution_count": 77,
     "metadata": {},
     "output_type": "execute_result"
    }
   ],
   "source": [
    "insom_entries_by_patid.get_group((1467,'01/02/2008'))"
   ]
  },
  {
   "cell_type": "code",
   "execution_count": 78,
   "metadata": {
    "collapsed": false
   },
   "outputs": [
    {
     "ename": "Exception",
     "evalue": "Column(s) medcode already selected",
     "output_type": "error",
     "traceback": [
      "\u001b[0;31m---------------------------------------------------------------------------\u001b[0m",
      "\u001b[0;31mException\u001b[0m                                 Traceback (most recent call last)",
      "\u001b[0;32m<ipython-input-78-ae1bb12268fe>\u001b[0m in \u001b[0;36m<module>\u001b[0;34m()\u001b[0m\n\u001b[0;32m----> 1\u001b[0;31m \u001b[0minsom_entries_by_patid\u001b[0m\u001b[0;34m[\u001b[0m\u001b[0;36m1467\u001b[0m\u001b[0;34m]\u001b[0m\u001b[0;34m\u001b[0m\u001b[0m\n\u001b[0m",
      "\u001b[0;32m/Library/Frameworks/Python.framework/Versions/3.5/lib/python3.5/site-packages/pandas/core/base.py\u001b[0m in \u001b[0;36m__getitem__\u001b[0;34m(self, key)\u001b[0m\n\u001b[1;32m    328\u001b[0m     \u001b[0;32mdef\u001b[0m \u001b[0m__getitem__\u001b[0m\u001b[0;34m(\u001b[0m\u001b[0mself\u001b[0m\u001b[0;34m,\u001b[0m \u001b[0mkey\u001b[0m\u001b[0;34m)\u001b[0m\u001b[0;34m:\u001b[0m\u001b[0;34m\u001b[0m\u001b[0m\n\u001b[1;32m    329\u001b[0m         \u001b[0;32mif\u001b[0m \u001b[0mself\u001b[0m\u001b[0;34m.\u001b[0m\u001b[0m_selection\u001b[0m \u001b[0;32mis\u001b[0m \u001b[0;32mnot\u001b[0m \u001b[0;32mNone\u001b[0m\u001b[0;34m:\u001b[0m\u001b[0;34m\u001b[0m\u001b[0m\n\u001b[0;32m--> 330\u001b[0;31m             \u001b[0;32mraise\u001b[0m \u001b[0mException\u001b[0m\u001b[0;34m(\u001b[0m\u001b[0;34m'Column(s) %s already selected'\u001b[0m \u001b[0;34m%\u001b[0m \u001b[0mself\u001b[0m\u001b[0;34m.\u001b[0m\u001b[0m_selection\u001b[0m\u001b[0;34m)\u001b[0m\u001b[0;34m\u001b[0m\u001b[0m\n\u001b[0m\u001b[1;32m    331\u001b[0m \u001b[0;34m\u001b[0m\u001b[0m\n\u001b[1;32m    332\u001b[0m         if isinstance(key, (list, tuple, ABCSeries, ABCIndexClass,\n",
      "\u001b[0;31mException\u001b[0m: Column(s) medcode already selected"
     ]
    }
   ],
   "source": [
    "insom_entries_by_patid[1467]"
   ]
  },
  {
   "cell_type": "code",
   "execution_count": null,
   "metadata": {
    "collapsed": true
   },
   "outputs": [],
   "source": []
  }
 ],
 "metadata": {
  "kernelspec": {
   "display_name": "Python 3",
   "language": "python",
   "name": "python3"
  },
  "language_info": {
   "codemirror_mode": {
    "name": "ipython",
    "version": 3
   },
   "file_extension": ".py",
   "mimetype": "text/x-python",
   "name": "python",
   "nbconvert_exporter": "python",
   "pygments_lexer": "ipython3",
   "version": "3.5.0"
  }
 },
 "nbformat": 4,
 "nbformat_minor": 0
}
