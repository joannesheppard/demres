{
 "cells": [
  {
   "cell_type": "code",
   "execution_count": 1,
   "metadata": {
    "collapsed": true
   },
   "outputs": [],
   "source": [
    "%load_ext autoreload"
   ]
  },
  {
   "cell_type": "code",
   "execution_count": 2,
   "metadata": {
    "collapsed": true
   },
   "outputs": [],
   "source": [
    "%autoreload 1"
   ]
  },
  {
   "cell_type": "code",
   "execution_count": 3,
   "metadata": {
    "collapsed": false
   },
   "outputs": [],
   "source": [
    "%aimport my_functions\n",
    "%aimport codelists\n",
    "%aimport constants"
   ]
  },
  {
   "cell_type": "code",
   "execution_count": 4,
   "metadata": {
    "collapsed": false
   },
   "outputs": [],
   "source": [
    "import pandas as pd\n",
    "from my_functions import *\n",
    "import codelists\n",
    "import constants\n",
    "import datetime"
   ]
  },
  {
   "cell_type": "code",
   "execution_count": 5,
   "metadata": {
    "collapsed": false
   },
   "outputs": [
    {
     "data": {
      "text/html": [
       "<style>.container { width:95% !important; }</style>"
      ],
      "text/plain": [
       "<IPython.core.display.HTML object>"
      ]
     },
     "metadata": {},
     "output_type": "display_data"
    }
   ],
   "source": [
    "from IPython.core.display import display, HTML\n",
    "display(HTML(\"<style>.container { width:95% !important; }</style>\"))"
   ]
  },
  {
   "cell_type": "code",
   "execution_count": 6,
   "metadata": {
    "collapsed": false
   },
   "outputs": [],
   "source": [
    "# consultations = pd.read_csv('data/pt_data/consultations.csv',delimiter=',')"
   ]
  },
  {
   "cell_type": "code",
   "execution_count": 7,
   "metadata": {
    "collapsed": true
   },
   "outputs": [],
   "source": [
    "# medcoded_entries = pd.read_csv('data/pt_data/medcoded_entries.csv',delimiter=',')"
   ]
  },
  {
   "cell_type": "code",
   "execution_count": 8,
   "metadata": {
    "collapsed": true
   },
   "outputs": [],
   "source": [
    "# prescriptions = pd.read_csv('data/pt_data/prescriptions.csv',delimiter=',',usecols=['patid','eventdate','sysdate','prodcode'])"
   ]
  },
  {
   "cell_type": "code",
   "execution_count": 9,
   "metadata": {
    "collapsed": false
   },
   "outputs": [],
   "source": [
    "# prescriptions['type']=constants.Entry_Type.prescription"
   ]
  },
  {
   "cell_type": "code",
   "execution_count": 10,
   "metadata": {
    "collapsed": true
   },
   "outputs": [],
   "source": [
    "# all_entries = pd.concat([consultations,medcoded_entries,prescriptions])"
   ]
  },
  {
   "cell_type": "code",
   "execution_count": 11,
   "metadata": {
    "collapsed": false
   },
   "outputs": [],
   "source": [
    "# all_entries.sort_values(by='patid',inplace=True)"
   ]
  },
  {
   "cell_type": "code",
   "execution_count": 12,
   "metadata": {
    "collapsed": false
   },
   "outputs": [],
   "source": [
    "# all_entries.sample(100)"
   ]
  },
  {
   "cell_type": "code",
   "execution_count": 13,
   "metadata": {
    "collapsed": true
   },
   "outputs": [],
   "source": [
    "# all_entries.to_csv('data/pt_data/all_entries.csv',index=False)"
   ]
  },
  {
   "cell_type": "code",
   "execution_count": 14,
   "metadata": {
    "collapsed": true
   },
   "outputs": [],
   "source": [
    "# immunisations = pd.read_csv('data/pt_data/Extract_Immunisation_001.txt',delimiter='\\t',usecols=['patid','sysdate','eventdate','medcode'])"
   ]
  },
  {
   "cell_type": "code",
   "execution_count": 15,
   "metadata": {
    "collapsed": false
   },
   "outputs": [],
   "source": [
    "# immunisations['type']=constants.Entry_Type.immunisation"
   ]
  },
  {
   "cell_type": "code",
   "execution_count": 16,
   "metadata": {
    "collapsed": false
   },
   "outputs": [],
   "source": [
    "# imm_with_info = pd.merge(immunisations,pegmed[['medcode','read term']],how='left')"
   ]
  },
  {
   "cell_type": "code",
   "execution_count": 17,
   "metadata": {
    "collapsed": false
   },
   "outputs": [],
   "source": [
    "# imm_with_info.sample(150)"
   ]
  },
  {
   "cell_type": "code",
   "execution_count": 18,
   "metadata": {
    "collapsed": false
   },
   "outputs": [
    {
     "name": "stdout",
     "output_type": "stream",
     "text": [
      "calling create_medcoded_entries\n",
      "processing clinical\n",
      "processing clinical - concatentating\n",
      "processing clinical - converting to datetime\n",
      "processing tests\n",
      "processing test - concatentating\n",
      "processing test - converting to datetime - eventdate\n",
      "processing test - converting to datetime - sysdate\n",
      "processing referrals\n",
      "processing referrals - converting to datetime - eventdate\n",
      "processing referrals - converting to datetime - sysdate\n",
      "processing immunisations\n",
      "processing immunisations - converting to datetime - eventdate\n",
      "processing referrals - converting to datetime - sysdate\n",
      "concatenating the different entry types\n",
      "writing to csv\n"
     ]
    }
   ],
   "source": [
    "create_medcoded_entries()"
   ]
  },
  {
   "cell_type": "code",
   "execution_count": 19,
   "metadata": {
    "collapsed": false
   },
   "outputs": [
    {
     "name": "stdout",
     "output_type": "stream",
     "text": [
      "calling create_all_entries\n",
      "converting to datetime - eventdate\n",
      "converting to datetime - sysdate\n",
      "concatenating...\n",
      "writing to file...\n"
     ]
    }
   ],
   "source": [
    "create_all_entries()"
   ]
  },
  {
   "cell_type": "code",
   "execution_count": 40,
   "metadata": {
    "collapsed": false
   },
   "outputs": [],
   "source": [
    "all_entries = pd.read_csv('data/pt_data/all_entries.csv',delimiter=',',parse_dates=[0,4],infer_datetime_format=True)"
   ]
  },
  {
   "cell_type": "code",
   "execution_count": 44,
   "metadata": {
    "collapsed": false
   },
   "outputs": [
    {
     "data": {
      "text/html": [
       "<div>\n",
       "<table border=\"1\" class=\"dataframe\">\n",
       "  <thead>\n",
       "    <tr style=\"text-align: right;\">\n",
       "      <th></th>\n",
       "      <th>eventdate</th>\n",
       "      <th>medcode</th>\n",
       "      <th>patid</th>\n",
       "      <th>prodcode</th>\n",
       "      <th>sysdate</th>\n",
       "      <th>type</th>\n",
       "    </tr>\n",
       "  </thead>\n",
       "  <tbody>\n",
       "    <tr>\n",
       "      <th>57019202</th>\n",
       "      <td>2003-08-28</td>\n",
       "      <td>3550.0</td>\n",
       "      <td>1997280</td>\n",
       "      <td>NaN</td>\n",
       "      <td>2003-08-28</td>\n",
       "      <td>2</td>\n",
       "    </tr>\n",
       "    <tr>\n",
       "      <th>100016693</th>\n",
       "      <td>2003-10-06</td>\n",
       "      <td>6.0</td>\n",
       "      <td>19329196</td>\n",
       "      <td>NaN</td>\n",
       "      <td>2007-02-14</td>\n",
       "      <td>4</td>\n",
       "    </tr>\n",
       "    <tr>\n",
       "      <th>92971718</th>\n",
       "      <td>2009-09-03</td>\n",
       "      <td>20.0</td>\n",
       "      <td>3125492</td>\n",
       "      <td>NaN</td>\n",
       "      <td>2009-09-04</td>\n",
       "      <td>3</td>\n",
       "    </tr>\n",
       "    <tr>\n",
       "      <th>42156673</th>\n",
       "      <td>2004-11-25</td>\n",
       "      <td>NaN</td>\n",
       "      <td>16093643</td>\n",
       "      <td>NaN</td>\n",
       "      <td>2008-07-03</td>\n",
       "      <td>0</td>\n",
       "    </tr>\n",
       "    <tr>\n",
       "      <th>48328917</th>\n",
       "      <td>2009-05-12</td>\n",
       "      <td>6470.0</td>\n",
       "      <td>1400096</td>\n",
       "      <td>NaN</td>\n",
       "      <td>2009-05-12</td>\n",
       "      <td>2</td>\n",
       "    </tr>\n",
       "    <tr>\n",
       "      <th>30381884</th>\n",
       "      <td>2011-06-08</td>\n",
       "      <td>NaN</td>\n",
       "      <td>5889435</td>\n",
       "      <td>NaN</td>\n",
       "      <td>2011-06-08</td>\n",
       "      <td>0</td>\n",
       "    </tr>\n",
       "    <tr>\n",
       "      <th>14908086</th>\n",
       "      <td>2008-08-15</td>\n",
       "      <td>NaN</td>\n",
       "      <td>4370202</td>\n",
       "      <td>NaN</td>\n",
       "      <td>2008-08-15</td>\n",
       "      <td>0</td>\n",
       "    </tr>\n",
       "    <tr>\n",
       "      <th>19558239</th>\n",
       "      <td>2011-11-24</td>\n",
       "      <td>NaN</td>\n",
       "      <td>30014263</td>\n",
       "      <td>NaN</td>\n",
       "      <td>2011-11-24</td>\n",
       "      <td>0</td>\n",
       "    </tr>\n",
       "    <tr>\n",
       "      <th>6057989</th>\n",
       "      <td>2007-12-10</td>\n",
       "      <td>NaN</td>\n",
       "      <td>16915089</td>\n",
       "      <td>NaN</td>\n",
       "      <td>2007-12-10</td>\n",
       "      <td>0</td>\n",
       "    </tr>\n",
       "    <tr>\n",
       "      <th>91547168</th>\n",
       "      <td>2012-11-06</td>\n",
       "      <td>14138.0</td>\n",
       "      <td>20763460</td>\n",
       "      <td>NaN</td>\n",
       "      <td>2012-11-06</td>\n",
       "      <td>3</td>\n",
       "    </tr>\n",
       "    <tr>\n",
       "      <th>27718838</th>\n",
       "      <td>2004-08-06</td>\n",
       "      <td>NaN</td>\n",
       "      <td>13715393</td>\n",
       "      <td>NaN</td>\n",
       "      <td>2006-02-13</td>\n",
       "      <td>0</td>\n",
       "    </tr>\n",
       "    <tr>\n",
       "      <th>101589867</th>\n",
       "      <td>2013-02-28</td>\n",
       "      <td>NaN</td>\n",
       "      <td>10789031</td>\n",
       "      <td>46.0</td>\n",
       "      <td>2013-02-28</td>\n",
       "      <td>5</td>\n",
       "    </tr>\n",
       "    <tr>\n",
       "      <th>103021220</th>\n",
       "      <td>2006-06-01</td>\n",
       "      <td>NaN</td>\n",
       "      <td>4813117</td>\n",
       "      <td>55.0</td>\n",
       "      <td>2006-06-01</td>\n",
       "      <td>5</td>\n",
       "    </tr>\n",
       "    <tr>\n",
       "      <th>43093457</th>\n",
       "      <td>2009-05-15</td>\n",
       "      <td>NaN</td>\n",
       "      <td>12764661</td>\n",
       "      <td>NaN</td>\n",
       "      <td>2009-05-15</td>\n",
       "      <td>0</td>\n",
       "    </tr>\n",
       "    <tr>\n",
       "      <th>1977465</th>\n",
       "      <td>2012-03-28</td>\n",
       "      <td>NaN</td>\n",
       "      <td>4042025</td>\n",
       "      <td>NaN</td>\n",
       "      <td>2012-03-28</td>\n",
       "      <td>0</td>\n",
       "    </tr>\n",
       "    <tr>\n",
       "      <th>103730155</th>\n",
       "      <td>2002-12-17</td>\n",
       "      <td>NaN</td>\n",
       "      <td>3170157</td>\n",
       "      <td>2.0</td>\n",
       "      <td>2002-12-17</td>\n",
       "      <td>5</td>\n",
       "    </tr>\n",
       "    <tr>\n",
       "      <th>61600964</th>\n",
       "      <td>1994-10-13</td>\n",
       "      <td>198.0</td>\n",
       "      <td>5074391</td>\n",
       "      <td>NaN</td>\n",
       "      <td>1997-05-27</td>\n",
       "      <td>2</td>\n",
       "    </tr>\n",
       "    <tr>\n",
       "      <th>23649335</th>\n",
       "      <td>1998-03-24</td>\n",
       "      <td>NaN</td>\n",
       "      <td>1908323</td>\n",
       "      <td>NaN</td>\n",
       "      <td>1998-03-24</td>\n",
       "      <td>0</td>\n",
       "    </tr>\n",
       "    <tr>\n",
       "      <th>102399818</th>\n",
       "      <td>2005-02-07</td>\n",
       "      <td>NaN</td>\n",
       "      <td>6144085</td>\n",
       "      <td>82.0</td>\n",
       "      <td>2005-02-07</td>\n",
       "      <td>5</td>\n",
       "    </tr>\n",
       "    <tr>\n",
       "      <th>61059638</th>\n",
       "      <td>2007-02-13</td>\n",
       "      <td>1649.0</td>\n",
       "      <td>6602379</td>\n",
       "      <td>NaN</td>\n",
       "      <td>2007-02-13</td>\n",
       "      <td>2</td>\n",
       "    </tr>\n",
       "    <tr>\n",
       "      <th>16326477</th>\n",
       "      <td>2003-02-27</td>\n",
       "      <td>NaN</td>\n",
       "      <td>4995223</td>\n",
       "      <td>NaN</td>\n",
       "      <td>2003-02-27</td>\n",
       "      <td>0</td>\n",
       "    </tr>\n",
       "    <tr>\n",
       "      <th>65549910</th>\n",
       "      <td>2008-07-31</td>\n",
       "      <td>27767.0</td>\n",
       "      <td>16423470</td>\n",
       "      <td>NaN</td>\n",
       "      <td>2008-08-08</td>\n",
       "      <td>2</td>\n",
       "    </tr>\n",
       "    <tr>\n",
       "      <th>85651652</th>\n",
       "      <td>2001-04-20</td>\n",
       "      <td>14053.0</td>\n",
       "      <td>5855310</td>\n",
       "      <td>NaN</td>\n",
       "      <td>2001-04-20</td>\n",
       "      <td>3</td>\n",
       "    </tr>\n",
       "    <tr>\n",
       "      <th>29707317</th>\n",
       "      <td>2008-01-07</td>\n",
       "      <td>NaN</td>\n",
       "      <td>879426</td>\n",
       "      <td>NaN</td>\n",
       "      <td>2008-01-07</td>\n",
       "      <td>0</td>\n",
       "    </tr>\n",
       "    <tr>\n",
       "      <th>80510271</th>\n",
       "      <td>2007-11-02</td>\n",
       "      <td>10.0</td>\n",
       "      <td>5146191</td>\n",
       "      <td>NaN</td>\n",
       "      <td>2007-11-03</td>\n",
       "      <td>3</td>\n",
       "    </tr>\n",
       "    <tr>\n",
       "      <th>9726070</th>\n",
       "      <td>2002-03-08</td>\n",
       "      <td>NaN</td>\n",
       "      <td>1843137</td>\n",
       "      <td>NaN</td>\n",
       "      <td>2002-03-08</td>\n",
       "      <td>0</td>\n",
       "    </tr>\n",
       "    <tr>\n",
       "      <th>68421907</th>\n",
       "      <td>1999-03-30</td>\n",
       "      <td>2.0</td>\n",
       "      <td>2529541</td>\n",
       "      <td>NaN</td>\n",
       "      <td>1999-05-24</td>\n",
       "      <td>2</td>\n",
       "    </tr>\n",
       "    <tr>\n",
       "      <th>103297199</th>\n",
       "      <td>2002-04-29</td>\n",
       "      <td>NaN</td>\n",
       "      <td>348137</td>\n",
       "      <td>7.0</td>\n",
       "      <td>2002-04-29</td>\n",
       "      <td>5</td>\n",
       "    </tr>\n",
       "    <tr>\n",
       "      <th>48386396</th>\n",
       "      <td>2010-05-14</td>\n",
       "      <td>7971.0</td>\n",
       "      <td>4248097</td>\n",
       "      <td>NaN</td>\n",
       "      <td>2010-05-14</td>\n",
       "      <td>2</td>\n",
       "    </tr>\n",
       "    <tr>\n",
       "      <th>51947112</th>\n",
       "      <td>2008-02-04</td>\n",
       "      <td>13162.0</td>\n",
       "      <td>3687172</td>\n",
       "      <td>NaN</td>\n",
       "      <td>2008-02-04</td>\n",
       "      <td>2</td>\n",
       "    </tr>\n",
       "    <tr>\n",
       "      <th>...</th>\n",
       "      <td>...</td>\n",
       "      <td>...</td>\n",
       "      <td>...</td>\n",
       "      <td>...</td>\n",
       "      <td>...</td>\n",
       "      <td>...</td>\n",
       "    </tr>\n",
       "    <tr>\n",
       "      <th>23898531</th>\n",
       "      <td>2012-10-25</td>\n",
       "      <td>NaN</td>\n",
       "      <td>13061325</td>\n",
       "      <td>NaN</td>\n",
       "      <td>2012-10-25</td>\n",
       "      <td>0</td>\n",
       "    </tr>\n",
       "    <tr>\n",
       "      <th>87412924</th>\n",
       "      <td>2004-11-19</td>\n",
       "      <td>50.0</td>\n",
       "      <td>13096357</td>\n",
       "      <td>NaN</td>\n",
       "      <td>2004-11-22</td>\n",
       "      <td>3</td>\n",
       "    </tr>\n",
       "    <tr>\n",
       "      <th>18661751</th>\n",
       "      <td>2012-10-24</td>\n",
       "      <td>NaN</td>\n",
       "      <td>921255</td>\n",
       "      <td>NaN</td>\n",
       "      <td>2012-10-24</td>\n",
       "      <td>0</td>\n",
       "    </tr>\n",
       "    <tr>\n",
       "      <th>18618055</th>\n",
       "      <td>2002-11-29</td>\n",
       "      <td>NaN</td>\n",
       "      <td>1165254</td>\n",
       "      <td>NaN</td>\n",
       "      <td>2002-11-29</td>\n",
       "      <td>0</td>\n",
       "    </tr>\n",
       "    <tr>\n",
       "      <th>42022317</th>\n",
       "      <td>2007-07-05</td>\n",
       "      <td>NaN</td>\n",
       "      <td>35416640</td>\n",
       "      <td>NaN</td>\n",
       "      <td>2007-07-09</td>\n",
       "      <td>0</td>\n",
       "    </tr>\n",
       "    <tr>\n",
       "      <th>74978912</th>\n",
       "      <td>2010-06-15</td>\n",
       "      <td>37.0</td>\n",
       "      <td>633068</td>\n",
       "      <td>NaN</td>\n",
       "      <td>2010-06-18</td>\n",
       "      <td>3</td>\n",
       "    </tr>\n",
       "    <tr>\n",
       "      <th>19944513</th>\n",
       "      <td>2012-08-30</td>\n",
       "      <td>NaN</td>\n",
       "      <td>24078270</td>\n",
       "      <td>NaN</td>\n",
       "      <td>2012-08-30</td>\n",
       "      <td>0</td>\n",
       "    </tr>\n",
       "    <tr>\n",
       "      <th>35461808</th>\n",
       "      <td>2010-06-24</td>\n",
       "      <td>NaN</td>\n",
       "      <td>3838495</td>\n",
       "      <td>NaN</td>\n",
       "      <td>2010-06-24</td>\n",
       "      <td>0</td>\n",
       "    </tr>\n",
       "    <tr>\n",
       "      <th>88015270</th>\n",
       "      <td>2012-12-03</td>\n",
       "      <td>45.0</td>\n",
       "      <td>7816377</td>\n",
       "      <td>NaN</td>\n",
       "      <td>2012-12-04</td>\n",
       "      <td>3</td>\n",
       "    </tr>\n",
       "    <tr>\n",
       "      <th>86583074</th>\n",
       "      <td>2001-06-21</td>\n",
       "      <td>13.0</td>\n",
       "      <td>1322329</td>\n",
       "      <td>NaN</td>\n",
       "      <td>2004-03-03</td>\n",
       "      <td>3</td>\n",
       "    </tr>\n",
       "    <tr>\n",
       "      <th>105440694</th>\n",
       "      <td>1998-06-15</td>\n",
       "      <td>NaN</td>\n",
       "      <td>7998250</td>\n",
       "      <td>297.0</td>\n",
       "      <td>1998-06-15</td>\n",
       "      <td>5</td>\n",
       "    </tr>\n",
       "    <tr>\n",
       "      <th>19573990</th>\n",
       "      <td>2003-07-29</td>\n",
       "      <td>NaN</td>\n",
       "      <td>2900264</td>\n",
       "      <td>NaN</td>\n",
       "      <td>2003-07-29</td>\n",
       "      <td>0</td>\n",
       "    </tr>\n",
       "    <tr>\n",
       "      <th>92921325</th>\n",
       "      <td>2009-05-15</td>\n",
       "      <td>1862.0</td>\n",
       "      <td>5070490</td>\n",
       "      <td>NaN</td>\n",
       "      <td>2009-05-15</td>\n",
       "      <td>3</td>\n",
       "    </tr>\n",
       "    <tr>\n",
       "      <th>60114001</th>\n",
       "      <td>2006-11-07</td>\n",
       "      <td>1.0</td>\n",
       "      <td>413350</td>\n",
       "      <td>NaN</td>\n",
       "      <td>2006-11-07</td>\n",
       "      <td>2</td>\n",
       "    </tr>\n",
       "    <tr>\n",
       "      <th>93030658</th>\n",
       "      <td>2011-01-28</td>\n",
       "      <td>24.0</td>\n",
       "      <td>5603494</td>\n",
       "      <td>NaN</td>\n",
       "      <td>2011-02-21</td>\n",
       "      <td>3</td>\n",
       "    </tr>\n",
       "    <tr>\n",
       "      <th>5898790</th>\n",
       "      <td>2000-02-01</td>\n",
       "      <td>NaN</td>\n",
       "      <td>30981088</td>\n",
       "      <td>NaN</td>\n",
       "      <td>2000-02-01</td>\n",
       "      <td>0</td>\n",
       "    </tr>\n",
       "    <tr>\n",
       "      <th>653691</th>\n",
       "      <td>2002-04-08</td>\n",
       "      <td>NaN</td>\n",
       "      <td>7305005</td>\n",
       "      <td>NaN</td>\n",
       "      <td>2002-04-08</td>\n",
       "      <td>0</td>\n",
       "    </tr>\n",
       "    <tr>\n",
       "      <th>45000047</th>\n",
       "      <td>2013-03-19</td>\n",
       "      <td>358.0</td>\n",
       "      <td>5732018</td>\n",
       "      <td>NaN</td>\n",
       "      <td>2013-04-10</td>\n",
       "      <td>2</td>\n",
       "    </tr>\n",
       "    <tr>\n",
       "      <th>20778203</th>\n",
       "      <td>1999-09-14</td>\n",
       "      <td>NaN</td>\n",
       "      <td>17560284</td>\n",
       "      <td>NaN</td>\n",
       "      <td>1999-09-14</td>\n",
       "      <td>0</td>\n",
       "    </tr>\n",
       "    <tr>\n",
       "      <th>59007570</th>\n",
       "      <td>2006-03-29</td>\n",
       "      <td>3550.0</td>\n",
       "      <td>4244322</td>\n",
       "      <td>NaN</td>\n",
       "      <td>2006-03-29</td>\n",
       "      <td>2</td>\n",
       "    </tr>\n",
       "    <tr>\n",
       "      <th>99158383</th>\n",
       "      <td>2000-07-13</td>\n",
       "      <td>384.0</td>\n",
       "      <td>7149343</td>\n",
       "      <td>NaN</td>\n",
       "      <td>2000-07-19</td>\n",
       "      <td>1</td>\n",
       "    </tr>\n",
       "    <tr>\n",
       "      <th>37029058</th>\n",
       "      <td>2005-06-10</td>\n",
       "      <td>NaN</td>\n",
       "      <td>2427521</td>\n",
       "      <td>NaN</td>\n",
       "      <td>2005-06-10</td>\n",
       "      <td>0</td>\n",
       "    </tr>\n",
       "    <tr>\n",
       "      <th>103911862</th>\n",
       "      <td>1999-12-17</td>\n",
       "      <td>NaN</td>\n",
       "      <td>3368163</td>\n",
       "      <td>8.0</td>\n",
       "      <td>1999-12-17</td>\n",
       "      <td>5</td>\n",
       "    </tr>\n",
       "    <tr>\n",
       "      <th>20708454</th>\n",
       "      <td>2002-06-25</td>\n",
       "      <td>NaN</td>\n",
       "      <td>11284284</td>\n",
       "      <td>NaN</td>\n",
       "      <td>2002-06-25</td>\n",
       "      <td>0</td>\n",
       "    </tr>\n",
       "    <tr>\n",
       "      <th>66175599</th>\n",
       "      <td>1994-03-30</td>\n",
       "      <td>56.0</td>\n",
       "      <td>756481</td>\n",
       "      <td>NaN</td>\n",
       "      <td>2006-03-30</td>\n",
       "      <td>2</td>\n",
       "    </tr>\n",
       "    <tr>\n",
       "      <th>56864002</th>\n",
       "      <td>2006-06-20</td>\n",
       "      <td>1.0</td>\n",
       "      <td>6069274</td>\n",
       "      <td>NaN</td>\n",
       "      <td>2006-06-20</td>\n",
       "      <td>2</td>\n",
       "    </tr>\n",
       "    <tr>\n",
       "      <th>16499761</th>\n",
       "      <td>2002-06-07</td>\n",
       "      <td>NaN</td>\n",
       "      <td>6671225</td>\n",
       "      <td>NaN</td>\n",
       "      <td>2002-06-07</td>\n",
       "      <td>0</td>\n",
       "    </tr>\n",
       "    <tr>\n",
       "      <th>45791647</th>\n",
       "      <td>2006-03-24</td>\n",
       "      <td>7877.0</td>\n",
       "      <td>412036</td>\n",
       "      <td>NaN</td>\n",
       "      <td>2006-03-24</td>\n",
       "      <td>2</td>\n",
       "    </tr>\n",
       "    <tr>\n",
       "      <th>28519785</th>\n",
       "      <td>2007-01-10</td>\n",
       "      <td>NaN</td>\n",
       "      <td>11435404</td>\n",
       "      <td>NaN</td>\n",
       "      <td>2007-01-11</td>\n",
       "      <td>0</td>\n",
       "    </tr>\n",
       "    <tr>\n",
       "      <th>29532913</th>\n",
       "      <td>2005-11-14</td>\n",
       "      <td>NaN</td>\n",
       "      <td>4130420</td>\n",
       "      <td>NaN</td>\n",
       "      <td>2005-11-14</td>\n",
       "      <td>0</td>\n",
       "    </tr>\n",
       "  </tbody>\n",
       "</table>\n",
       "<p>150 rows × 6 columns</p>\n",
       "</div>"
      ],
      "text/plain": [
       "           eventdate  medcode     patid  prodcode    sysdate  type\n",
       "57019202  2003-08-28   3550.0   1997280       NaN 2003-08-28     2\n",
       "100016693 2003-10-06      6.0  19329196       NaN 2007-02-14     4\n",
       "92971718  2009-09-03     20.0   3125492       NaN 2009-09-04     3\n",
       "42156673  2004-11-25      NaN  16093643       NaN 2008-07-03     0\n",
       "48328917  2009-05-12   6470.0   1400096       NaN 2009-05-12     2\n",
       "30381884  2011-06-08      NaN   5889435       NaN 2011-06-08     0\n",
       "14908086  2008-08-15      NaN   4370202       NaN 2008-08-15     0\n",
       "19558239  2011-11-24      NaN  30014263       NaN 2011-11-24     0\n",
       "6057989   2007-12-10      NaN  16915089       NaN 2007-12-10     0\n",
       "91547168  2012-11-06  14138.0  20763460       NaN 2012-11-06     3\n",
       "27718838  2004-08-06      NaN  13715393       NaN 2006-02-13     0\n",
       "101589867 2013-02-28      NaN  10789031      46.0 2013-02-28     5\n",
       "103021220 2006-06-01      NaN   4813117      55.0 2006-06-01     5\n",
       "43093457  2009-05-15      NaN  12764661       NaN 2009-05-15     0\n",
       "1977465   2012-03-28      NaN   4042025       NaN 2012-03-28     0\n",
       "103730155 2002-12-17      NaN   3170157       2.0 2002-12-17     5\n",
       "61600964  1994-10-13    198.0   5074391       NaN 1997-05-27     2\n",
       "23649335  1998-03-24      NaN   1908323       NaN 1998-03-24     0\n",
       "102399818 2005-02-07      NaN   6144085      82.0 2005-02-07     5\n",
       "61059638  2007-02-13   1649.0   6602379       NaN 2007-02-13     2\n",
       "16326477  2003-02-27      NaN   4995223       NaN 2003-02-27     0\n",
       "65549910  2008-07-31  27767.0  16423470       NaN 2008-08-08     2\n",
       "85651652  2001-04-20  14053.0   5855310       NaN 2001-04-20     3\n",
       "29707317  2008-01-07      NaN    879426       NaN 2008-01-07     0\n",
       "80510271  2007-11-02     10.0   5146191       NaN 2007-11-03     3\n",
       "9726070   2002-03-08      NaN   1843137       NaN 2002-03-08     0\n",
       "68421907  1999-03-30      2.0   2529541       NaN 1999-05-24     2\n",
       "103297199 2002-04-29      NaN    348137       7.0 2002-04-29     5\n",
       "48386396  2010-05-14   7971.0   4248097       NaN 2010-05-14     2\n",
       "51947112  2008-02-04  13162.0   3687172       NaN 2008-02-04     2\n",
       "...              ...      ...       ...       ...        ...   ...\n",
       "23898531  2012-10-25      NaN  13061325       NaN 2012-10-25     0\n",
       "87412924  2004-11-19     50.0  13096357       NaN 2004-11-22     3\n",
       "18661751  2012-10-24      NaN    921255       NaN 2012-10-24     0\n",
       "18618055  2002-11-29      NaN   1165254       NaN 2002-11-29     0\n",
       "42022317  2007-07-05      NaN  35416640       NaN 2007-07-09     0\n",
       "74978912  2010-06-15     37.0    633068       NaN 2010-06-18     3\n",
       "19944513  2012-08-30      NaN  24078270       NaN 2012-08-30     0\n",
       "35461808  2010-06-24      NaN   3838495       NaN 2010-06-24     0\n",
       "88015270  2012-12-03     45.0   7816377       NaN 2012-12-04     3\n",
       "86583074  2001-06-21     13.0   1322329       NaN 2004-03-03     3\n",
       "105440694 1998-06-15      NaN   7998250     297.0 1998-06-15     5\n",
       "19573990  2003-07-29      NaN   2900264       NaN 2003-07-29     0\n",
       "92921325  2009-05-15   1862.0   5070490       NaN 2009-05-15     3\n",
       "60114001  2006-11-07      1.0    413350       NaN 2006-11-07     2\n",
       "93030658  2011-01-28     24.0   5603494       NaN 2011-02-21     3\n",
       "5898790   2000-02-01      NaN  30981088       NaN 2000-02-01     0\n",
       "653691    2002-04-08      NaN   7305005       NaN 2002-04-08     0\n",
       "45000047  2013-03-19    358.0   5732018       NaN 2013-04-10     2\n",
       "20778203  1999-09-14      NaN  17560284       NaN 1999-09-14     0\n",
       "59007570  2006-03-29   3550.0   4244322       NaN 2006-03-29     2\n",
       "99158383  2000-07-13    384.0   7149343       NaN 2000-07-19     1\n",
       "37029058  2005-06-10      NaN   2427521       NaN 2005-06-10     0\n",
       "103911862 1999-12-17      NaN   3368163       8.0 1999-12-17     5\n",
       "20708454  2002-06-25      NaN  11284284       NaN 2002-06-25     0\n",
       "66175599  1994-03-30     56.0    756481       NaN 2006-03-30     2\n",
       "56864002  2006-06-20      1.0   6069274       NaN 2006-06-20     2\n",
       "16499761  2002-06-07      NaN   6671225       NaN 2002-06-07     0\n",
       "45791647  2006-03-24   7877.0    412036       NaN 2006-03-24     2\n",
       "28519785  2007-01-10      NaN  11435404       NaN 2007-01-11     0\n",
       "29532913  2005-11-14      NaN   4130420       NaN 2005-11-14     0\n",
       "\n",
       "[150 rows x 6 columns]"
      ]
     },
     "execution_count": 44,
     "metadata": {},
     "output_type": "execute_result"
    }
   ],
   "source": [
    "all_entries.sample(150)"
   ]
  },
  {
   "cell_type": "code",
   "execution_count": 21,
   "metadata": {
    "collapsed": false
   },
   "outputs": [],
   "source": [
    "# all_entries.drop('Unnamed: 0', axis=1, inplace=True)"
   ]
  },
  {
   "cell_type": "code",
   "execution_count": 43,
   "metadata": {
    "collapsed": false
   },
   "outputs": [],
   "source": [
    "# all_entries[all_entries['type']==5].loc[:,'eventdate'].apply(lambda x: x.date())"
   ]
  },
  {
   "cell_type": "code",
   "execution_count": 36,
   "metadata": {
    "collapsed": false
   },
   "outputs": [],
   "source": [
    "# all_entries.loc[:,'prodcode'].astype(int)"
   ]
  },
  {
   "cell_type": "code",
   "execution_count": 23,
   "metadata": {
    "collapsed": true
   },
   "outputs": [],
   "source": [
    "# pegprod = pd.read_csv('data/dicts/proc_pegasus_prod.csv',delimiter=',')"
   ]
  },
  {
   "cell_type": "code",
   "execution_count": 24,
   "metadata": {
    "collapsed": true
   },
   "outputs": [],
   "source": [
    "# pegmed = pd.read_csv('data/dicts/proc_pegasus_medical.csv',delimiter=',')"
   ]
  },
  {
   "cell_type": "code",
   "execution_count": 25,
   "metadata": {
    "collapsed": true
   },
   "outputs": [],
   "source": [
    "# pt_history = all_entries[all_entries['patid']==3234234]"
   ]
  },
  {
   "cell_type": "code",
   "execution_count": 26,
   "metadata": {
    "collapsed": true
   },
   "outputs": [],
   "source": [
    "# pt_history_elaborated = pd.merge(pt_history,pegmed[['medcode','read term']],how='left')"
   ]
  },
  {
   "cell_type": "code",
   "execution_count": 27,
   "metadata": {
    "collapsed": true
   },
   "outputs": [],
   "source": [
    "# pt_history_elaborated = pd.merge(pt_history_elaborated,pegprod[['prodcode','drug substance name']],how='left')"
   ]
  },
  {
   "cell_type": "code",
   "execution_count": null,
   "metadata": {
    "collapsed": true
   },
   "outputs": [],
   "source": []
  }
 ],
 "metadata": {
  "kernelspec": {
   "display_name": "Python 3",
   "language": "python",
   "name": "python3"
  },
  "language_info": {
   "codemirror_mode": {
    "name": "ipython",
    "version": 3
   },
   "file_extension": ".py",
   "mimetype": "text/x-python",
   "name": "python",
   "nbconvert_exporter": "python",
   "pygments_lexer": "ipython3",
   "version": "3.5.0"
  }
 },
 "nbformat": 4,
 "nbformat_minor": 0
}
