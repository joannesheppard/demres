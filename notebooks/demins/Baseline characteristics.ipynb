{
 "cells": [
  {
   "cell_type": "code",
   "execution_count": 19,
   "metadata": {
    "scrolled": true
   },
   "outputs": [
    {
     "name": "stdout",
     "output_type": "stream",
     "text": [
      "The autoreload extension is already loaded. To reload it, use:\n",
      "  %reload_ext autoreload\n"
     ]
    }
   ],
   "source": [
    "%load_ext autoreload\n",
    "%autoreload 2"
   ]
  },
  {
   "cell_type": "code",
   "execution_count": 20,
   "metadata": {
    "scrolled": true
   },
   "outputs": [
    {
     "name": "stdout",
     "output_type": "stream",
     "text": [
      "/Users/zurfarosa/demres\n"
     ]
    }
   ],
   "source": [
    "cd ~/demres"
   ]
  },
  {
   "cell_type": "code",
   "execution_count": 21,
   "metadata": {
    "scrolled": true
   },
   "outputs": [],
   "source": [
    "import os\n",
    "import sys\n",
    "\n",
    "module_path = os.path.abspath(os.path.join('..'))\n",
    "if module_path not in sys.path:\n",
    "    sys.path.append(module_path)\n",
    "\n",
    "import pandas as pd\n",
    "import numpy as np\n",
    "from datetime import date, timedelta\n",
    "\n",
    "import demres\n",
    "from demres.common.constants import entry_type\n",
    "from demres.demins.constants import Study_Design as sd\n",
    "from demres.common import codelists\n",
    "from demres.common.helper_functions import *\n",
    "from demres.demins.statistical_functions import *"
   ]
  },
  {
   "cell_type": "code",
   "execution_count": 22,
   "metadata": {
    "scrolled": true
   },
   "outputs": [],
   "source": [
    "pd.set_option('display.max_columns', None)\n",
    "pd.options.display.max_rows = 500"
   ]
  },
  {
   "cell_type": "code",
   "execution_count": 23,
   "metadata": {
    "scrolled": true
   },
   "outputs": [],
   "source": [
    "subtype = 'all_dementia' # options: 'alzheimers', 'vascular','all_dementia'"
   ]
  },
  {
   "cell_type": "code",
   "execution_count": 24,
   "metadata": {
    "scrolled": true
   },
   "outputs": [],
   "source": [
    "window = '10_to_5' #options: '12_to_7','10_to_5','8_to_3'"
   ]
  },
  {
   "cell_type": "code",
   "execution_count": 25,
   "metadata": {
    "scrolled": true
   },
   "outputs": [],
   "source": [
    "# pt_features = pd.read_csv('data/pt_data/processed_data/pt_features_demins_'+subtype+'_'+window+'.csv',delimiter=',',parse_dates=['index_date','data_end','data_start'],infer_datetime_format=True )"
   ]
  },
  {
   "cell_type": "code",
   "execution_count": 26,
   "metadata": {},
   "outputs": [],
   "source": [
    "pt_features = pd.read_csv('data/pt_data/processed_data/pt_features_demins_'+subtype+'_'+window+'.csv',delimiter=',',parse_dates=['index_date','data_end','data_start'],infer_datetime_format=True )\n",
    "\n"
   ]
  },
  {
   "cell_type": "code",
   "execution_count": 27,
   "metadata": {
    "scrolled": true
   },
   "outputs": [
    {
     "data": {
      "text/plain": [
       "15209"
      ]
     },
     "execution_count": 27,
     "metadata": {},
     "output_type": "execute_result"
    }
   ],
   "source": [
    "len(pt_features[pt_features['isCase']==True])"
   ]
  },
  {
   "cell_type": "code",
   "execution_count": 28,
   "metadata": {
    "scrolled": true
   },
   "outputs": [
    {
     "data": {
      "text/html": [
       "<div>\n",
       "<style scoped>\n",
       "    .dataframe tbody tr th:only-of-type {\n",
       "        vertical-align: middle;\n",
       "    }\n",
       "\n",
       "    .dataframe tbody tr th {\n",
       "        vertical-align: top;\n",
       "    }\n",
       "\n",
       "    .dataframe thead th {\n",
       "        text-align: right;\n",
       "    }\n",
       "</style>\n",
       "<table border=\"1\" class=\"dataframe\">\n",
       "  <thead>\n",
       "    <tr style=\"text-align: right;\">\n",
       "      <th></th>\n",
       "      <th>patid</th>\n",
       "      <th>yob</th>\n",
       "      <th>pracid</th>\n",
       "      <th>female</th>\n",
       "      <th>index_date</th>\n",
       "      <th>isCase</th>\n",
       "      <th>final dementia medcode</th>\n",
       "      <th>data_end</th>\n",
       "      <th>data_start</th>\n",
       "      <th>matchid</th>\n",
       "      <th>age_at_index_date</th>\n",
       "      <th>insomnia</th>\n",
       "      <th>insomnia_no_hypnotics</th>\n",
       "      <th>stroke</th>\n",
       "      <th>heart_failure</th>\n",
       "      <th>mental_illness</th>\n",
       "      <th>sleep_apnoea</th>\n",
       "      <th>chronic_pulmonary_disease</th>\n",
       "      <th>epilepsy</th>\n",
       "      <th>hypnotics_100_pdds</th>\n",
       "      <th>age_at_index_date:65-69</th>\n",
       "      <th>age_at_index_date:70-74</th>\n",
       "      <th>age_at_index_date:75-79</th>\n",
       "      <th>age_at_index_date:80-84</th>\n",
       "      <th>age_at_index_date:85-89</th>\n",
       "      <th>age_at_index_date:90-99</th>\n",
       "      <th>age_at_index_date:above_99</th>\n",
       "      <th>hypnotic_pdds:00000</th>\n",
       "      <th>hypnotic_pdds:00001_10</th>\n",
       "      <th>hypnotic_pdds:00011_100</th>\n",
       "      <th>hypnotic_pdds:00101_1000</th>\n",
       "      <th>hypnotic_pdds:01001_10000</th>\n",
       "      <th>hypnotic_pdds:10000_and_above</th>\n",
       "    </tr>\n",
       "  </thead>\n",
       "  <tbody>\n",
       "    <tr>\n",
       "      <th>16015</th>\n",
       "      <td>6970416</td>\n",
       "      <td>23</td>\n",
       "      <td>416</td>\n",
       "      <td>1</td>\n",
       "      <td>2006-07-11</td>\n",
       "      <td>False</td>\n",
       "      <td>NaN</td>\n",
       "      <td>2008-11-06</td>\n",
       "      <td>1994-01-31</td>\n",
       "      <td>45732</td>\n",
       "      <td>83</td>\n",
       "      <td>0</td>\n",
       "      <td>0</td>\n",
       "      <td>0</td>\n",
       "      <td>0</td>\n",
       "      <td>0</td>\n",
       "      <td>0</td>\n",
       "      <td>0</td>\n",
       "      <td>0</td>\n",
       "      <td>0.000000</td>\n",
       "      <td>0.0</td>\n",
       "      <td>0.0</td>\n",
       "      <td>0.0</td>\n",
       "      <td>1.0</td>\n",
       "      <td>0.0</td>\n",
       "      <td>0.0</td>\n",
       "      <td>0.0</td>\n",
       "      <td>1.0</td>\n",
       "      <td>0.0</td>\n",
       "      <td>0.0</td>\n",
       "      <td>0.0</td>\n",
       "      <td>0.0</td>\n",
       "      <td>0.0</td>\n",
       "    </tr>\n",
       "    <tr>\n",
       "      <th>26927</th>\n",
       "      <td>9682332</td>\n",
       "      <td>30</td>\n",
       "      <td>332</td>\n",
       "      <td>1</td>\n",
       "      <td>2009-04-01</td>\n",
       "      <td>True</td>\n",
       "      <td>8634.0</td>\n",
       "      <td>2009-12-22</td>\n",
       "      <td>1991-10-31</td>\n",
       "      <td>50469</td>\n",
       "      <td>79</td>\n",
       "      <td>0</td>\n",
       "      <td>0</td>\n",
       "      <td>0</td>\n",
       "      <td>0</td>\n",
       "      <td>1</td>\n",
       "      <td>0</td>\n",
       "      <td>1</td>\n",
       "      <td>0</td>\n",
       "      <td>0.000000</td>\n",
       "      <td>0.0</td>\n",
       "      <td>0.0</td>\n",
       "      <td>1.0</td>\n",
       "      <td>0.0</td>\n",
       "      <td>0.0</td>\n",
       "      <td>0.0</td>\n",
       "      <td>0.0</td>\n",
       "      <td>1.0</td>\n",
       "      <td>0.0</td>\n",
       "      <td>0.0</td>\n",
       "      <td>0.0</td>\n",
       "      <td>0.0</td>\n",
       "      <td>0.0</td>\n",
       "    </tr>\n",
       "    <tr>\n",
       "      <th>26572</th>\n",
       "      <td>1001473</td>\n",
       "      <td>38</td>\n",
       "      <td>473</td>\n",
       "      <td>1</td>\n",
       "      <td>2009-01-13</td>\n",
       "      <td>True</td>\n",
       "      <td>11175.0</td>\n",
       "      <td>2010-12-09</td>\n",
       "      <td>1993-01-31</td>\n",
       "      <td>71218</td>\n",
       "      <td>71</td>\n",
       "      <td>0</td>\n",
       "      <td>0</td>\n",
       "      <td>0</td>\n",
       "      <td>0</td>\n",
       "      <td>1</td>\n",
       "      <td>0</td>\n",
       "      <td>0</td>\n",
       "      <td>0</td>\n",
       "      <td>0.000000</td>\n",
       "      <td>0.0</td>\n",
       "      <td>1.0</td>\n",
       "      <td>0.0</td>\n",
       "      <td>0.0</td>\n",
       "      <td>0.0</td>\n",
       "      <td>0.0</td>\n",
       "      <td>0.0</td>\n",
       "      <td>1.0</td>\n",
       "      <td>0.0</td>\n",
       "      <td>0.0</td>\n",
       "      <td>0.0</td>\n",
       "      <td>0.0</td>\n",
       "      <td>0.0</td>\n",
       "    </tr>\n",
       "    <tr>\n",
       "      <th>19379</th>\n",
       "      <td>16164306</td>\n",
       "      <td>24</td>\n",
       "      <td>306</td>\n",
       "      <td>1</td>\n",
       "      <td>2000-05-17</td>\n",
       "      <td>False</td>\n",
       "      <td>NaN</td>\n",
       "      <td>2005-08-09</td>\n",
       "      <td>1990-01-31</td>\n",
       "      <td>26872</td>\n",
       "      <td>76</td>\n",
       "      <td>0</td>\n",
       "      <td>0</td>\n",
       "      <td>0</td>\n",
       "      <td>0</td>\n",
       "      <td>1</td>\n",
       "      <td>0</td>\n",
       "      <td>1</td>\n",
       "      <td>0</td>\n",
       "      <td>0.000000</td>\n",
       "      <td>0.0</td>\n",
       "      <td>0.0</td>\n",
       "      <td>1.0</td>\n",
       "      <td>0.0</td>\n",
       "      <td>0.0</td>\n",
       "      <td>0.0</td>\n",
       "      <td>0.0</td>\n",
       "      <td>1.0</td>\n",
       "      <td>0.0</td>\n",
       "      <td>0.0</td>\n",
       "      <td>0.0</td>\n",
       "      <td>0.0</td>\n",
       "      <td>0.0</td>\n",
       "    </tr>\n",
       "    <tr>\n",
       "      <th>28782</th>\n",
       "      <td>5545325</td>\n",
       "      <td>17</td>\n",
       "      <td>325</td>\n",
       "      <td>0</td>\n",
       "      <td>2004-11-10</td>\n",
       "      <td>True</td>\n",
       "      <td>6578.0</td>\n",
       "      <td>2011-11-02</td>\n",
       "      <td>1992-01-31</td>\n",
       "      <td>49679</td>\n",
       "      <td>87</td>\n",
       "      <td>1</td>\n",
       "      <td>0</td>\n",
       "      <td>0</td>\n",
       "      <td>1</td>\n",
       "      <td>0</td>\n",
       "      <td>0</td>\n",
       "      <td>0</td>\n",
       "      <td>0</td>\n",
       "      <td>0.257101</td>\n",
       "      <td>0.0</td>\n",
       "      <td>0.0</td>\n",
       "      <td>0.0</td>\n",
       "      <td>0.0</td>\n",
       "      <td>1.0</td>\n",
       "      <td>0.0</td>\n",
       "      <td>0.0</td>\n",
       "      <td>0.0</td>\n",
       "      <td>0.0</td>\n",
       "      <td>1.0</td>\n",
       "      <td>0.0</td>\n",
       "      <td>0.0</td>\n",
       "      <td>0.0</td>\n",
       "    </tr>\n",
       "  </tbody>\n",
       "</table>\n",
       "</div>"
      ],
      "text/plain": [
       "          patid  yob  pracid  female index_date  isCase  \\\n",
       "16015   6970416   23     416       1 2006-07-11   False   \n",
       "26927   9682332   30     332       1 2009-04-01    True   \n",
       "26572   1001473   38     473       1 2009-01-13    True   \n",
       "19379  16164306   24     306       1 2000-05-17   False   \n",
       "28782   5545325   17     325       0 2004-11-10    True   \n",
       "\n",
       "       final dementia medcode   data_end data_start  matchid  \\\n",
       "16015                     NaN 2008-11-06 1994-01-31    45732   \n",
       "26927                  8634.0 2009-12-22 1991-10-31    50469   \n",
       "26572                 11175.0 2010-12-09 1993-01-31    71218   \n",
       "19379                     NaN 2005-08-09 1990-01-31    26872   \n",
       "28782                  6578.0 2011-11-02 1992-01-31    49679   \n",
       "\n",
       "       age_at_index_date  insomnia  insomnia_no_hypnotics  stroke  \\\n",
       "16015                 83         0                      0       0   \n",
       "26927                 79         0                      0       0   \n",
       "26572                 71         0                      0       0   \n",
       "19379                 76         0                      0       0   \n",
       "28782                 87         1                      0       0   \n",
       "\n",
       "       heart_failure  mental_illness  sleep_apnoea  chronic_pulmonary_disease  \\\n",
       "16015              0               0             0                          0   \n",
       "26927              0               1             0                          1   \n",
       "26572              0               1             0                          0   \n",
       "19379              0               1             0                          1   \n",
       "28782              1               0             0                          0   \n",
       "\n",
       "       epilepsy  hypnotics_100_pdds  age_at_index_date:65-69  \\\n",
       "16015         0            0.000000                      0.0   \n",
       "26927         0            0.000000                      0.0   \n",
       "26572         0            0.000000                      0.0   \n",
       "19379         0            0.000000                      0.0   \n",
       "28782         0            0.257101                      0.0   \n",
       "\n",
       "       age_at_index_date:70-74  age_at_index_date:75-79  \\\n",
       "16015                      0.0                      0.0   \n",
       "26927                      0.0                      1.0   \n",
       "26572                      1.0                      0.0   \n",
       "19379                      0.0                      1.0   \n",
       "28782                      0.0                      0.0   \n",
       "\n",
       "       age_at_index_date:80-84  age_at_index_date:85-89  \\\n",
       "16015                      1.0                      0.0   \n",
       "26927                      0.0                      0.0   \n",
       "26572                      0.0                      0.0   \n",
       "19379                      0.0                      0.0   \n",
       "28782                      0.0                      1.0   \n",
       "\n",
       "       age_at_index_date:90-99  age_at_index_date:above_99  \\\n",
       "16015                      0.0                         0.0   \n",
       "26927                      0.0                         0.0   \n",
       "26572                      0.0                         0.0   \n",
       "19379                      0.0                         0.0   \n",
       "28782                      0.0                         0.0   \n",
       "\n",
       "       hypnotic_pdds:00000  hypnotic_pdds:00001_10  hypnotic_pdds:00011_100  \\\n",
       "16015                  1.0                     0.0                      0.0   \n",
       "26927                  1.0                     0.0                      0.0   \n",
       "26572                  1.0                     0.0                      0.0   \n",
       "19379                  1.0                     0.0                      0.0   \n",
       "28782                  0.0                     0.0                      1.0   \n",
       "\n",
       "       hypnotic_pdds:00101_1000  hypnotic_pdds:01001_10000  \\\n",
       "16015                       0.0                        0.0   \n",
       "26927                       0.0                        0.0   \n",
       "26572                       0.0                        0.0   \n",
       "19379                       0.0                        0.0   \n",
       "28782                       0.0                        0.0   \n",
       "\n",
       "       hypnotic_pdds:10000_and_above  \n",
       "16015                            0.0  \n",
       "26927                            0.0  \n",
       "26572                            0.0  \n",
       "19379                            0.0  \n",
       "28782                            0.0  "
      ]
     },
     "execution_count": 28,
     "metadata": {},
     "output_type": "execute_result"
    }
   ],
   "source": [
    "pt_features.sample(5)"
   ]
  },
  {
   "cell_type": "code",
   "execution_count": 29,
   "metadata": {
    "scrolled": true
   },
   "outputs": [
    {
     "data": {
      "text/plain": [
       "Index(['patid', 'yob', 'pracid', 'female', 'index_date', 'isCase',\n",
       "       'final dementia medcode', 'data_end', 'data_start', 'matchid',\n",
       "       'age_at_index_date', 'insomnia', 'insomnia_no_hypnotics', 'stroke',\n",
       "       'heart_failure', 'mental_illness', 'sleep_apnoea',\n",
       "       'chronic_pulmonary_disease', 'epilepsy', 'hypnotics_100_pdds',\n",
       "       'age_at_index_date:65-69', 'age_at_index_date:70-74',\n",
       "       'age_at_index_date:75-79', 'age_at_index_date:80-84',\n",
       "       'age_at_index_date:85-89', 'age_at_index_date:90-99',\n",
       "       'age_at_index_date:above_99', 'hypnotic_pdds:00000',\n",
       "       'hypnotic_pdds:00001_10', 'hypnotic_pdds:00011_100',\n",
       "       'hypnotic_pdds:00101_1000', 'hypnotic_pdds:01001_10000',\n",
       "       'hypnotic_pdds:10000_and_above'],\n",
       "      dtype='object')"
      ]
     },
     "execution_count": 29,
     "metadata": {},
     "output_type": "execute_result"
    }
   ],
   "source": [
    "pt_features.columns"
   ]
  },
  {
   "cell_type": "code",
   "execution_count": 30,
   "metadata": {
    "scrolled": true
   },
   "outputs": [],
   "source": [
    "# characteristics = [column for column in pt_features.columns if column not in [\n",
    "#     'patid',  'yob', 'pracid', 'index_date', 'isCase',\n",
    "#     'final dementia medcode', 'data_start', 'data_end', 'matchid']]"
   ]
  },
  {
   "cell_type": "code",
   "execution_count": 32,
   "metadata": {},
   "outputs": [],
   "source": [
    "columns_for_inclusion = [\n",
    "    'age_at_index_date',\n",
    "    'female',\n",
    "    'stroke',\n",
    "    'heart_failure',\n",
    "    'mental_illness',\n",
    "    'sleep_apnoea', \n",
    "    'chronic_pulmonary_disease', \n",
    "    'epilepsy',\n",
    "    'hypnotics_100_pdds',\n",
    "    'insomnia',\n",
    "    'age_at_index_date:65-69', 'age_at_index_date:70-74',\n",
    "    'age_at_index_date:75-79', 'age_at_index_date:80-84',\n",
    "    'age_at_index_date:85-89', 'age_at_index_date:90-99',\n",
    "    'age_at_index_date:above_99', \n",
    "    'hypnotics_100_pdds','hypnotic_pdds:00000',\n",
    "    'hypnotic_pdds:00001_10', 'hypnotic_pdds:00011_100',\n",
    "    'hypnotic_pdds:00101_1000', 'hypnotic_pdds:01001_10000',\n",
    "    'hypnotic_pdds:10000_and_above'\n",
    "]"
   ]
  },
  {
   "cell_type": "code",
   "execution_count": 33,
   "metadata": {
    "scrolled": true
   },
   "outputs": [],
   "source": [
    "baselines = add_baseline_characteristics(columns_for_inclusion,pt_features)"
   ]
  },
  {
   "cell_type": "code",
   "execution_count": 34,
   "metadata": {},
   "outputs": [
    {
     "data": {
      "text/plain": [
       "(15209, 15209)"
      ]
     },
     "execution_count": 34,
     "metadata": {},
     "output_type": "execute_result"
    }
   ],
   "source": [
    "len(pt_features[pt_features['isCase']==False]),len(pt_features[pt_features['isCase']==True])"
   ]
  },
  {
   "cell_type": "code",
   "execution_count": 35,
   "metadata": {
    "scrolled": true
   },
   "outputs": [
    {
     "data": {
      "text/html": [
       "<div>\n",
       "<style scoped>\n",
       "    .dataframe tbody tr th:only-of-type {\n",
       "        vertical-align: middle;\n",
       "    }\n",
       "\n",
       "    .dataframe tbody tr th {\n",
       "        vertical-align: top;\n",
       "    }\n",
       "\n",
       "    .dataframe thead th {\n",
       "        text-align: right;\n",
       "    }\n",
       "</style>\n",
       "<table border=\"1\" class=\"dataframe\">\n",
       "  <thead>\n",
       "    <tr style=\"text-align: right;\">\n",
       "      <th></th>\n",
       "      <th>Cases</th>\n",
       "      <th>Controls</th>\n",
       "    </tr>\n",
       "  </thead>\n",
       "  <tbody>\n",
       "    <tr>\n",
       "      <th>female</th>\n",
       "      <td>10055 (66.1%)</td>\n",
       "      <td>10055 (66.1%)</td>\n",
       "    </tr>\n",
       "    <tr>\n",
       "      <th>stroke</th>\n",
       "      <td>1662 (10.9%)</td>\n",
       "      <td>1120 (7.4%)</td>\n",
       "    </tr>\n",
       "    <tr>\n",
       "      <th>heart_failure</th>\n",
       "      <td>913 (6.0%)</td>\n",
       "      <td>726 (4.8%)</td>\n",
       "    </tr>\n",
       "    <tr>\n",
       "      <th>mental_illness</th>\n",
       "      <td>5695 (37.4%)</td>\n",
       "      <td>3611 (23.7%)</td>\n",
       "    </tr>\n",
       "    <tr>\n",
       "      <th>sleep_apnoea</th>\n",
       "      <td>25 (0.2%)</td>\n",
       "      <td>19 (0.1%)</td>\n",
       "    </tr>\n",
       "    <tr>\n",
       "      <th>chronic_pulmonary_disease</th>\n",
       "      <td>3449 (22.7%)</td>\n",
       "      <td>2512 (16.5%)</td>\n",
       "    </tr>\n",
       "    <tr>\n",
       "      <th>epilepsy</th>\n",
       "      <td>288 (1.9%)</td>\n",
       "      <td>165 (1.1%)</td>\n",
       "    </tr>\n",
       "    <tr>\n",
       "      <th>insomnia</th>\n",
       "      <td>2689 (17.7%)</td>\n",
       "      <td>1956 (12.9%)</td>\n",
       "    </tr>\n",
       "    <tr>\n",
       "      <th>age_at_index_date:65-69</th>\n",
       "      <td>572 (3.8%)</td>\n",
       "      <td>572 (3.8%)</td>\n",
       "    </tr>\n",
       "    <tr>\n",
       "      <th>age_at_index_date:70-74</th>\n",
       "      <td>1384 (9.1%)</td>\n",
       "      <td>1384 (9.1%)</td>\n",
       "    </tr>\n",
       "    <tr>\n",
       "      <th>age_at_index_date:75-79</th>\n",
       "      <td>2934 (19.3%)</td>\n",
       "      <td>2934 (19.3%)</td>\n",
       "    </tr>\n",
       "    <tr>\n",
       "      <th>age_at_index_date:80-84</th>\n",
       "      <td>4239 (27.9%)</td>\n",
       "      <td>4239 (27.9%)</td>\n",
       "    </tr>\n",
       "    <tr>\n",
       "      <th>age_at_index_date:85-89</th>\n",
       "      <td>3952 (26.0%)</td>\n",
       "      <td>3952 (26.0%)</td>\n",
       "    </tr>\n",
       "    <tr>\n",
       "      <th>age_at_index_date:90-99</th>\n",
       "      <td>1729 (11.4%)</td>\n",
       "      <td>1729 (11.4%)</td>\n",
       "    </tr>\n",
       "    <tr>\n",
       "      <th>age_at_index_date:above_99</th>\n",
       "      <td>23 (0.2%)</td>\n",
       "      <td>23 (0.2%)</td>\n",
       "    </tr>\n",
       "    <tr>\n",
       "      <th>hypnotic_pdds:00000</th>\n",
       "      <td>13043 (85.8%)</td>\n",
       "      <td>13602 (89.4%)</td>\n",
       "    </tr>\n",
       "    <tr>\n",
       "      <th>hypnotic_pdds:00001_10</th>\n",
       "      <td>266 (1.7%)</td>\n",
       "      <td>237 (1.6%)</td>\n",
       "    </tr>\n",
       "    <tr>\n",
       "      <th>hypnotic_pdds:00011_100</th>\n",
       "      <td>803 (5.3%)</td>\n",
       "      <td>638 (4.2%)</td>\n",
       "    </tr>\n",
       "    <tr>\n",
       "      <th>hypnotic_pdds:00101_1000</th>\n",
       "      <td>512 (3.4%)</td>\n",
       "      <td>360 (2.4%)</td>\n",
       "    </tr>\n",
       "    <tr>\n",
       "      <th>hypnotic_pdds:01001_10000</th>\n",
       "      <td>585 (3.8%)</td>\n",
       "      <td>370 (2.4%)</td>\n",
       "    </tr>\n",
       "    <tr>\n",
       "      <th>hypnotic_pdds:10000_and_above</th>\n",
       "      <td>0 (0.0%)</td>\n",
       "      <td>2 (0.0%)</td>\n",
       "    </tr>\n",
       "  </tbody>\n",
       "</table>\n",
       "</div>"
      ],
      "text/plain": [
       "                                       Cases       Controls\n",
       "female                         10055 (66.1%)  10055 (66.1%)\n",
       "stroke                          1662 (10.9%)    1120 (7.4%)\n",
       "heart_failure                     913 (6.0%)     726 (4.8%)\n",
       "mental_illness                  5695 (37.4%)   3611 (23.7%)\n",
       "sleep_apnoea                       25 (0.2%)      19 (0.1%)\n",
       "chronic_pulmonary_disease       3449 (22.7%)   2512 (16.5%)\n",
       "epilepsy                          288 (1.9%)     165 (1.1%)\n",
       "insomnia                        2689 (17.7%)   1956 (12.9%)\n",
       "age_at_index_date:65-69           572 (3.8%)     572 (3.8%)\n",
       "age_at_index_date:70-74          1384 (9.1%)    1384 (9.1%)\n",
       "age_at_index_date:75-79         2934 (19.3%)   2934 (19.3%)\n",
       "age_at_index_date:80-84         4239 (27.9%)   4239 (27.9%)\n",
       "age_at_index_date:85-89         3952 (26.0%)   3952 (26.0%)\n",
       "age_at_index_date:90-99         1729 (11.4%)   1729 (11.4%)\n",
       "age_at_index_date:above_99         23 (0.2%)      23 (0.2%)\n",
       "hypnotic_pdds:00000            13043 (85.8%)  13602 (89.4%)\n",
       "hypnotic_pdds:00001_10            266 (1.7%)     237 (1.6%)\n",
       "hypnotic_pdds:00011_100           803 (5.3%)     638 (4.2%)\n",
       "hypnotic_pdds:00101_1000          512 (3.4%)     360 (2.4%)\n",
       "hypnotic_pdds:01001_10000         585 (3.8%)     370 (2.4%)\n",
       "hypnotic_pdds:10000_and_above       0 (0.0%)       2 (0.0%)"
      ]
     },
     "execution_count": 35,
     "metadata": {},
     "output_type": "execute_result"
    }
   ],
   "source": [
    "baselines[['Cases','Controls']]"
   ]
  }
 ],
 "metadata": {
  "kernelspec": {
   "display_name": "toadkern",
   "language": "python",
   "name": "toadkern"
  },
  "language_info": {
   "codemirror_mode": {
    "name": "ipython",
    "version": 3
   },
   "file_extension": ".py",
   "mimetype": "text/x-python",
   "name": "python",
   "nbconvert_exporter": "python",
   "pygments_lexer": "ipython3",
   "version": "3.6.4"
  }
 },
 "nbformat": 4,
 "nbformat_minor": 2
}
