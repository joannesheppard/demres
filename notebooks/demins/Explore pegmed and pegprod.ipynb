{
 "cells": [
  {
   "cell_type": "code",
   "execution_count": 3,
   "metadata": {},
   "outputs": [],
   "source": [
    "%load_ext autoreload\n",
    "%autoreload 2"
   ]
  },
  {
   "cell_type": "code",
   "execution_count": 4,
   "metadata": {},
   "outputs": [
    {
     "name": "stdout",
     "output_type": "stream",
     "text": [
      "/Users/zurfarosa/demres\n"
     ]
    }
   ],
   "source": [
    "cd ~/demres"
   ]
  },
  {
   "cell_type": "code",
   "execution_count": 5,
   "metadata": {},
   "outputs": [],
   "source": [
    "import os\n",
    "import sys\n",
    "\n",
    "module_path = os.path.abspath(os.path.join('..'))\n",
    "if module_path not in sys.path:\n",
    "    sys.path.append(module_path)\n",
    "\n",
    "import pandas as pd\n",
    "import numpy as np"
   ]
  },
  {
   "cell_type": "code",
   "execution_count": 6,
   "metadata": {},
   "outputs": [],
   "source": [
    "pegmed = pd.read_csv('dicts/proc_pegasus_medical.csv',delimiter=',')\n",
    "pegprod = pd.read_csv('dicts/proc_pegasus_prod.csv',delimiter=',')"
   ]
  },
  {
   "cell_type": "code",
   "execution_count": 7,
   "metadata": {},
   "outputs": [
    {
     "data": {
      "text/html": [
       "<div>\n",
       "<style scoped>\n",
       "    .dataframe tbody tr th:only-of-type {\n",
       "        vertical-align: middle;\n",
       "    }\n",
       "\n",
       "    .dataframe tbody tr th {\n",
       "        vertical-align: top;\n",
       "    }\n",
       "\n",
       "    .dataframe thead th {\n",
       "        text-align: right;\n",
       "    }\n",
       "</style>\n",
       "<table border=\"1\" class=\"dataframe\">\n",
       "  <thead>\n",
       "    <tr style=\"text-align: right;\">\n",
       "      <th></th>\n",
       "      <th>prodcode</th>\n",
       "      <th>gemscriptcode</th>\n",
       "      <th>productname</th>\n",
       "      <th>drugsubstance</th>\n",
       "      <th>strength</th>\n",
       "      <th>formulation</th>\n",
       "      <th>route</th>\n",
       "      <th>bnfcode</th>\n",
       "      <th>bnfchapter</th>\n",
       "    </tr>\n",
       "  </thead>\n",
       "  <tbody>\n",
       "    <tr>\n",
       "      <th>0</th>\n",
       "      <td>2</td>\n",
       "      <td>58976020</td>\n",
       "      <td>Bendroflumethiazide 2.5mg tablets</td>\n",
       "      <td>Bendroflumethiazide</td>\n",
       "      <td>2.5mg</td>\n",
       "      <td>Tablet</td>\n",
       "      <td>Oral</td>\n",
       "      <td>02020100</td>\n",
       "      <td>Thiazides And Related Diuretics</td>\n",
       "    </tr>\n",
       "    <tr>\n",
       "      <th>1</th>\n",
       "      <td>3</td>\n",
       "      <td>52994020</td>\n",
       "      <td>Aspirin 75mg dispersible tablets</td>\n",
       "      <td>Aspirin</td>\n",
       "      <td>75mg</td>\n",
       "      <td>Dispersible tablet</td>\n",
       "      <td>Oral</td>\n",
       "      <td>02090000</td>\n",
       "      <td>Antiplatelet Drugs</td>\n",
       "    </tr>\n",
       "    <tr>\n",
       "      <th>2</th>\n",
       "      <td>4</td>\n",
       "      <td>58897020</td>\n",
       "      <td>Co-proxamol 32.5mg/325mg tablets</td>\n",
       "      <td>Paracetamol/Dextropropoxyphene hydrochloride</td>\n",
       "      <td>325mg + 32.5mg</td>\n",
       "      <td>Tablet</td>\n",
       "      <td>Oral</td>\n",
       "      <td>04070100</td>\n",
       "      <td>Non-opioid Analgesics</td>\n",
       "    </tr>\n",
       "    <tr>\n",
       "      <th>3</th>\n",
       "      <td>5</td>\n",
       "      <td>60153020</td>\n",
       "      <td>Atenolol 50mg tablets</td>\n",
       "      <td>Atenolol</td>\n",
       "      <td>50mg</td>\n",
       "      <td>Tablet</td>\n",
       "      <td>Oral</td>\n",
       "      <td>02040000</td>\n",
       "      <td>Beta-adrenoceptor Blocking Drugs</td>\n",
       "    </tr>\n",
       "    <tr>\n",
       "      <th>4</th>\n",
       "      <td>6</td>\n",
       "      <td>59420020</td>\n",
       "      <td>Furosemide 40mg tablets</td>\n",
       "      <td>Furosemide</td>\n",
       "      <td>40mg</td>\n",
       "      <td>Tablet</td>\n",
       "      <td>Oral</td>\n",
       "      <td>02020200</td>\n",
       "      <td>Loop Diuretics</td>\n",
       "    </tr>\n",
       "  </tbody>\n",
       "</table>\n",
       "</div>"
      ],
      "text/plain": [
       "   prodcode gemscriptcode                        productname  \\\n",
       "0         2      58976020  Bendroflumethiazide 2.5mg tablets   \n",
       "1         3      52994020   Aspirin 75mg dispersible tablets   \n",
       "2         4      58897020   Co-proxamol 32.5mg/325mg tablets   \n",
       "3         5      60153020              Atenolol 50mg tablets   \n",
       "4         6      59420020            Furosemide 40mg tablets   \n",
       "\n",
       "                                  drugsubstance        strength  \\\n",
       "0                           Bendroflumethiazide           2.5mg   \n",
       "1                                       Aspirin            75mg   \n",
       "2  Paracetamol/Dextropropoxyphene hydrochloride  325mg + 32.5mg   \n",
       "3                                      Atenolol            50mg   \n",
       "4                                    Furosemide            40mg   \n",
       "\n",
       "          formulation route   bnfcode                        bnfchapter  \n",
       "0              Tablet  Oral  02020100   Thiazides And Related Diuretics  \n",
       "1  Dispersible tablet  Oral  02090000                Antiplatelet Drugs  \n",
       "2              Tablet  Oral  04070100             Non-opioid Analgesics  \n",
       "3              Tablet  Oral  02040000  Beta-adrenoceptor Blocking Drugs  \n",
       "4              Tablet  Oral  02020200                    Loop Diuretics  "
      ]
     },
     "execution_count": 7,
     "metadata": {},
     "output_type": "execute_result"
    }
   ],
   "source": [
    "pegprod.head(5)"
   ]
  },
  {
   "cell_type": "code",
   "execution_count": 8,
   "metadata": {},
   "outputs": [
    {
     "data": {
      "text/html": [
       "<div>\n",
       "<style scoped>\n",
       "    .dataframe tbody tr th:only-of-type {\n",
       "        vertical-align: middle;\n",
       "    }\n",
       "\n",
       "    .dataframe tbody tr th {\n",
       "        vertical-align: top;\n",
       "    }\n",
       "\n",
       "    .dataframe thead th {\n",
       "        text-align: right;\n",
       "    }\n",
       "</style>\n",
       "<table border=\"1\" class=\"dataframe\">\n",
       "  <thead>\n",
       "    <tr style=\"text-align: right;\">\n",
       "      <th></th>\n",
       "      <th>prodcode</th>\n",
       "      <th>gemscriptcode</th>\n",
       "      <th>productname</th>\n",
       "      <th>drugsubstance</th>\n",
       "      <th>strength</th>\n",
       "      <th>formulation</th>\n",
       "      <th>route</th>\n",
       "      <th>bnfcode</th>\n",
       "      <th>bnfchapter</th>\n",
       "    </tr>\n",
       "  </thead>\n",
       "  <tbody>\n",
       "    <tr>\n",
       "      <th>33</th>\n",
       "      <td>35</td>\n",
       "      <td>58928020</td>\n",
       "      <td>Nitrazepam 5mg tablets</td>\n",
       "      <td>Nitrazepam</td>\n",
       "      <td>5mg</td>\n",
       "      <td>Tablet</td>\n",
       "      <td>Oral</td>\n",
       "      <td>04010100</td>\n",
       "      <td>Hypnotics</td>\n",
       "    </tr>\n",
       "  </tbody>\n",
       "</table>\n",
       "</div>"
      ],
      "text/plain": [
       "    prodcode gemscriptcode             productname drugsubstance strength  \\\n",
       "33        35      58928020  Nitrazepam 5mg tablets    Nitrazepam      5mg   \n",
       "\n",
       "   formulation route   bnfcode bnfchapter  \n",
       "33      Tablet  Oral  04010100  Hypnotics  "
      ]
     },
     "execution_count": 8,
     "metadata": {},
     "output_type": "execute_result"
    }
   ],
   "source": [
    "pegprod[pegprod['prodcode']==35]"
   ]
  },
  {
   "cell_type": "code",
   "execution_count": 9,
   "metadata": {},
   "outputs": [
    {
     "data": {
      "text/html": [
       "<div>\n",
       "<style scoped>\n",
       "    .dataframe tbody tr th:only-of-type {\n",
       "        vertical-align: middle;\n",
       "    }\n",
       "\n",
       "    .dataframe tbody tr th {\n",
       "        vertical-align: top;\n",
       "    }\n",
       "\n",
       "    .dataframe thead th {\n",
       "        text-align: right;\n",
       "    }\n",
       "</style>\n",
       "<table border=\"1\" class=\"dataframe\">\n",
       "  <thead>\n",
       "    <tr style=\"text-align: right;\">\n",
       "      <th></th>\n",
       "      <th>medcode</th>\n",
       "      <th>readcode</th>\n",
       "      <th>desc</th>\n",
       "    </tr>\n",
       "  </thead>\n",
       "  <tbody>\n",
       "    <tr>\n",
       "      <th>0</th>\n",
       "      <td>1</td>\n",
       "      <td>246..00</td>\n",
       "      <td>O/E - blood pressure reading</td>\n",
       "    </tr>\n",
       "    <tr>\n",
       "      <th>1</th>\n",
       "      <td>2</td>\n",
       "      <td>22A..00</td>\n",
       "      <td>O/E - weight</td>\n",
       "    </tr>\n",
       "    <tr>\n",
       "      <th>2</th>\n",
       "      <td>3</td>\n",
       "      <td>229..00</td>\n",
       "      <td>O/E - height</td>\n",
       "    </tr>\n",
       "    <tr>\n",
       "      <th>3</th>\n",
       "      <td>4</td>\n",
       "      <td>423..00</td>\n",
       "      <td>Haemoglobin estimation</td>\n",
       "    </tr>\n",
       "    <tr>\n",
       "      <th>4</th>\n",
       "      <td>5</td>\n",
       "      <td>44J3.00</td>\n",
       "      <td>Serum creatinine</td>\n",
       "    </tr>\n",
       "  </tbody>\n",
       "</table>\n",
       "</div>"
      ],
      "text/plain": [
       "   medcode readcode                          desc\n",
       "0        1  246..00  O/E - blood pressure reading\n",
       "1        2  22A..00                  O/E - weight\n",
       "2        3  229..00                  O/E - height\n",
       "3        4  423..00        Haemoglobin estimation\n",
       "4        5  44J3.00              Serum creatinine"
      ]
     },
     "execution_count": 9,
     "metadata": {},
     "output_type": "execute_result"
    }
   ],
   "source": [
    "pegmed.head(5)"
   ]
  },
  {
   "cell_type": "code",
   "execution_count": null,
   "metadata": {},
   "outputs": [],
   "source": []
  }
 ],
 "metadata": {
  "kernelspec": {
   "display_name": "toadkern",
   "language": "python",
   "name": "toadkern"
  },
  "language_info": {
   "codemirror_mode": {
    "name": "ipython",
    "version": 3
   },
   "file_extension": ".py",
   "mimetype": "text/x-python",
   "name": "python",
   "nbconvert_exporter": "python",
   "pygments_lexer": "ipython3",
   "version": "3.6.4"
  }
 },
 "nbformat": 4,
 "nbformat_minor": 2
}
