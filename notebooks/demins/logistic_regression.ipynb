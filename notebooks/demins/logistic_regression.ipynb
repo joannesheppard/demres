{
 "cells": [
  {
   "cell_type": "code",
   "execution_count": 1,
   "metadata": {},
   "outputs": [],
   "source": [
    "%load_ext autoreload\n",
    "%autoreload 2"
   ]
  },
  {
   "cell_type": "code",
   "execution_count": 2,
   "metadata": {},
   "outputs": [
    {
     "name": "stdout",
     "output_type": "stream",
     "text": [
      "/Users/zurfarosa/demres\n"
     ]
    }
   ],
   "source": [
    "cd ~/demres"
   ]
  },
  {
   "cell_type": "code",
   "execution_count": 3,
   "metadata": {},
   "outputs": [],
   "source": [
    "import os\n",
    "import sys\n",
    "\n",
    "module_path = os.path.abspath(os.path.join('..'))\n",
    "if module_path not in sys.path:\n",
    "    sys.path.append(module_path)\n",
    "\n",
    "import pandas as pd\n",
    "import numpy as np\n",
    "import statsmodels.api as sm\n",
    "from statsmodels.tools.tools import add_constant\n",
    "from statsmodels.stats.outliers_influence import variance_inflation_factor \n",
    "\n",
    "from datetime import date, timedelta\n",
    "\n",
    "import demres\n",
    "from demres.common.constants import entry_type\n",
    "from demres.demins.constants import Study_Design as sd\n",
    "from demres.common import codelists,druglists\n",
    "from demres.common.helper_functions import *\n",
    "from demres.demins.statistical_functions import *\n",
    "from IPython.display import display"
   ]
  },
  {
   "cell_type": "code",
   "execution_count": 4,
   "metadata": {},
   "outputs": [],
   "source": [
    "# workaround for deprecated chisqprob function in statsmodels\n",
    "stats.chisqprob = lambda chisq, df: stats.chi2.sf(chisq, df) "
   ]
  },
  {
   "cell_type": "code",
   "execution_count": 5,
   "metadata": {},
   "outputs": [],
   "source": [
    "pd.set_option('display.max_columns', None)"
   ]
  },
  {
   "cell_type": "code",
   "execution_count": 6,
   "metadata": {},
   "outputs": [],
   "source": [
    "columns_for_inclusion = [\n",
    "    'age_at_index_date',\n",
    "    'female',\n",
    "    'stroke',\n",
    "    'heart_failure',\n",
    "    'mental_illness',\n",
    "    'sleep_apnoea', \n",
    "    'chronic_pulmonary_disease', \n",
    "    'hypnotics_100_pdds',\n",
    "    'insomnia'\n",
    "]"
   ]
  },
  {
   "cell_type": "code",
   "execution_count": 11,
   "metadata": {},
   "outputs": [
    {
     "data": {
      "text/markdown": [
       "**12_to_7**"
      ],
      "text/plain": [
       "<IPython.core.display.Markdown object>"
      ]
     },
     "metadata": {},
     "output_type": "display_data"
    },
    {
     "data": {
      "text/html": [
       "<div>\n",
       "<style scoped>\n",
       "    .dataframe tbody tr th:only-of-type {\n",
       "        vertical-align: middle;\n",
       "    }\n",
       "\n",
       "    .dataframe tbody tr th {\n",
       "        vertical-align: top;\n",
       "    }\n",
       "\n",
       "    .dataframe thead th {\n",
       "        text-align: right;\n",
       "    }\n",
       "</style>\n",
       "<table border=\"1\" class=\"dataframe\">\n",
       "  <thead>\n",
       "    <tr style=\"text-align: right;\">\n",
       "      <th></th>\n",
       "      <th>Univariate OR</th>\n",
       "      <th>Multivariate OR</th>\n",
       "    </tr>\n",
       "  </thead>\n",
       "  <tbody>\n",
       "    <tr>\n",
       "      <th>Age at index date</th>\n",
       "      <td>1.00, (1.00, 1.00), P=1.000</td>\n",
       "      <td>1.00, (1.00, 1.00), P=1.000</td>\n",
       "    </tr>\n",
       "    <tr>\n",
       "      <th>Chronic pulmonary disease</th>\n",
       "      <td>1.39, (1.30, 1.49), P=0.000</td>\n",
       "      <td>1.45, (1.35, 1.57), P=0.000</td>\n",
       "    </tr>\n",
       "    <tr>\n",
       "      <th>Female</th>\n",
       "      <td>1.00, (0.96, 1.04), P=0.992</td>\n",
       "      <td>0.95, (0.89, 1.01), P=0.992</td>\n",
       "    </tr>\n",
       "    <tr>\n",
       "      <th>Heart failure</th>\n",
       "      <td>1.09, (0.96, 1.24), P=0.162</td>\n",
       "      <td>1.01, (0.88, 1.15), P=0.162</td>\n",
       "    </tr>\n",
       "    <tr>\n",
       "      <th>Hypnotics (100 PDDs)</th>\n",
       "      <td>1.02, (1.01, 1.02), P=0.000</td>\n",
       "      <td>1.01, (1.00, 1.02), P=0.000</td>\n",
       "    </tr>\n",
       "    <tr>\n",
       "      <th>Insomnia</th>\n",
       "      <td>1.39, (1.24, 1.55), P=0.000</td>\n",
       "      <td>1.19, (1.06, 1.34), P=0.000</td>\n",
       "    </tr>\n",
       "    <tr>\n",
       "      <th>Mental illness</th>\n",
       "      <td>1.46, (1.38, 1.54), P=0.000</td>\n",
       "      <td>1.67, (1.56, 1.79), P=0.000</td>\n",
       "    </tr>\n",
       "    <tr>\n",
       "      <th>Sleep apnoea</th>\n",
       "      <td>3.60, (1.34, 9.70), P=0.011</td>\n",
       "      <td>2.55, (0.93, 6.96), P=0.011</td>\n",
       "    </tr>\n",
       "    <tr>\n",
       "      <th>Stroke</th>\n",
       "      <td>1.51, (1.37, 1.67), P=0.000</td>\n",
       "      <td>1.53, (1.37, 1.70), P=0.000</td>\n",
       "    </tr>\n",
       "  </tbody>\n",
       "</table>\n",
       "</div>"
      ],
      "text/plain": [
       "                                         Univariate OR  \\\n",
       "Age at index date          1.00, (1.00, 1.00), P=1.000   \n",
       "Chronic pulmonary disease  1.39, (1.30, 1.49), P=0.000   \n",
       "Female                     1.00, (0.96, 1.04), P=0.992   \n",
       "Heart failure              1.09, (0.96, 1.24), P=0.162   \n",
       "Hypnotics (100 PDDs)       1.02, (1.01, 1.02), P=0.000   \n",
       "Insomnia                   1.39, (1.24, 1.55), P=0.000   \n",
       "Mental illness             1.46, (1.38, 1.54), P=0.000   \n",
       "Sleep apnoea               3.60, (1.34, 9.70), P=0.011   \n",
       "Stroke                     1.51, (1.37, 1.67), P=0.000   \n",
       "\n",
       "                                       Multivariate OR  \n",
       "Age at index date          1.00, (1.00, 1.00), P=1.000  \n",
       "Chronic pulmonary disease  1.45, (1.35, 1.57), P=0.000  \n",
       "Female                     0.95, (0.89, 1.01), P=0.992  \n",
       "Heart failure              1.01, (0.88, 1.15), P=0.162  \n",
       "Hypnotics (100 PDDs)       1.01, (1.00, 1.02), P=0.000  \n",
       "Insomnia                   1.19, (1.06, 1.34), P=0.000  \n",
       "Mental illness             1.67, (1.56, 1.79), P=0.000  \n",
       "Sleep apnoea               2.55, (0.93, 6.96), P=0.011  \n",
       "Stroke                     1.53, (1.37, 1.70), P=0.000  "
      ]
     },
     "metadata": {},
     "output_type": "display_data"
    },
    {
     "data": {
      "text/markdown": [
       "**10_to_5**"
      ],
      "text/plain": [
       "<IPython.core.display.Markdown object>"
      ]
     },
     "metadata": {},
     "output_type": "display_data"
    },
    {
     "data": {
      "text/html": [
       "<div>\n",
       "<style scoped>\n",
       "    .dataframe tbody tr th:only-of-type {\n",
       "        vertical-align: middle;\n",
       "    }\n",
       "\n",
       "    .dataframe tbody tr th {\n",
       "        vertical-align: top;\n",
       "    }\n",
       "\n",
       "    .dataframe thead th {\n",
       "        text-align: right;\n",
       "    }\n",
       "</style>\n",
       "<table border=\"1\" class=\"dataframe\">\n",
       "  <thead>\n",
       "    <tr style=\"text-align: right;\">\n",
       "      <th></th>\n",
       "      <th>Univariate OR</th>\n",
       "      <th>Multivariate OR</th>\n",
       "    </tr>\n",
       "  </thead>\n",
       "  <tbody>\n",
       "    <tr>\n",
       "      <th>Age at index date</th>\n",
       "      <td>1.00, (1.00, 1.00), P=1.000</td>\n",
       "      <td>1.00, (1.00, 1.00), P=1.000</td>\n",
       "    </tr>\n",
       "    <tr>\n",
       "      <th>Chronic pulmonary disease</th>\n",
       "      <td>1.39, (1.32, 1.47), P=0.000</td>\n",
       "      <td>1.42, (1.33, 1.51), P=0.000</td>\n",
       "    </tr>\n",
       "    <tr>\n",
       "      <th>Female</th>\n",
       "      <td>1.00, (0.97, 1.03), P=0.994</td>\n",
       "      <td>0.95, (0.90, 1.00), P=0.994</td>\n",
       "    </tr>\n",
       "    <tr>\n",
       "      <th>Heart failure</th>\n",
       "      <td>1.24, (1.11, 1.38), P=0.000</td>\n",
       "      <td>1.14, (1.02, 1.28), P=0.000</td>\n",
       "    </tr>\n",
       "    <tr>\n",
       "      <th>Hypnotics (100 PDDs)</th>\n",
       "      <td>1.02, (1.01, 1.03), P=0.000</td>\n",
       "      <td>1.01, (1.00, 1.02), P=0.000</td>\n",
       "    </tr>\n",
       "    <tr>\n",
       "      <th>Insomnia</th>\n",
       "      <td>1.60, (1.44, 1.77), P=0.000</td>\n",
       "      <td>1.34, (1.20, 1.50), P=0.000</td>\n",
       "    </tr>\n",
       "    <tr>\n",
       "      <th>Mental illness</th>\n",
       "      <td>1.58, (1.51, 1.65), P=0.000</td>\n",
       "      <td>1.79, (1.70, 1.89), P=0.000</td>\n",
       "    </tr>\n",
       "    <tr>\n",
       "      <th>Sleep apnoea</th>\n",
       "      <td>1.35, (0.72, 2.53), P=0.345</td>\n",
       "      <td>0.95, (0.50, 1.81), P=0.345</td>\n",
       "    </tr>\n",
       "    <tr>\n",
       "      <th>Stroke</th>\n",
       "      <td>1.49, (1.38, 1.62), P=0.000</td>\n",
       "      <td>1.47, (1.35, 1.61), P=0.000</td>\n",
       "    </tr>\n",
       "  </tbody>\n",
       "</table>\n",
       "</div>"
      ],
      "text/plain": [
       "                                         Univariate OR  \\\n",
       "Age at index date          1.00, (1.00, 1.00), P=1.000   \n",
       "Chronic pulmonary disease  1.39, (1.32, 1.47), P=0.000   \n",
       "Female                     1.00, (0.97, 1.03), P=0.994   \n",
       "Heart failure              1.24, (1.11, 1.38), P=0.000   \n",
       "Hypnotics (100 PDDs)       1.02, (1.01, 1.03), P=0.000   \n",
       "Insomnia                   1.60, (1.44, 1.77), P=0.000   \n",
       "Mental illness             1.58, (1.51, 1.65), P=0.000   \n",
       "Sleep apnoea               1.35, (0.72, 2.53), P=0.345   \n",
       "Stroke                     1.49, (1.38, 1.62), P=0.000   \n",
       "\n",
       "                                       Multivariate OR  \n",
       "Age at index date          1.00, (1.00, 1.00), P=1.000  \n",
       "Chronic pulmonary disease  1.42, (1.33, 1.51), P=0.000  \n",
       "Female                     0.95, (0.90, 1.00), P=0.994  \n",
       "Heart failure              1.14, (1.02, 1.28), P=0.000  \n",
       "Hypnotics (100 PDDs)       1.01, (1.00, 1.02), P=0.000  \n",
       "Insomnia                   1.34, (1.20, 1.50), P=0.000  \n",
       "Mental illness             1.79, (1.70, 1.89), P=0.000  \n",
       "Sleep apnoea               0.95, (0.50, 1.81), P=0.345  \n",
       "Stroke                     1.47, (1.35, 1.61), P=0.000  "
      ]
     },
     "metadata": {},
     "output_type": "display_data"
    },
    {
     "data": {
      "text/markdown": [
       "**8_to_3**"
      ],
      "text/plain": [
       "<IPython.core.display.Markdown object>"
      ]
     },
     "metadata": {},
     "output_type": "display_data"
    },
    {
     "data": {
      "text/html": [
       "<div>\n",
       "<style scoped>\n",
       "    .dataframe tbody tr th:only-of-type {\n",
       "        vertical-align: middle;\n",
       "    }\n",
       "\n",
       "    .dataframe tbody tr th {\n",
       "        vertical-align: top;\n",
       "    }\n",
       "\n",
       "    .dataframe thead th {\n",
       "        text-align: right;\n",
       "    }\n",
       "</style>\n",
       "<table border=\"1\" class=\"dataframe\">\n",
       "  <thead>\n",
       "    <tr style=\"text-align: right;\">\n",
       "      <th></th>\n",
       "      <th>Univariate OR</th>\n",
       "      <th>Multivariate OR</th>\n",
       "    </tr>\n",
       "  </thead>\n",
       "  <tbody>\n",
       "    <tr>\n",
       "      <th>Age at index date</th>\n",
       "      <td>1.00, (1.00, 1.00), P=1.000</td>\n",
       "      <td>1.00, (1.00, 1.00), P=1.000</td>\n",
       "    </tr>\n",
       "    <tr>\n",
       "      <th>Chronic pulmonary disease</th>\n",
       "      <td>1.41, (1.34, 1.48), P=0.000</td>\n",
       "      <td>1.42, (1.34, 1.50), P=0.000</td>\n",
       "    </tr>\n",
       "    <tr>\n",
       "      <th>Female</th>\n",
       "      <td>1.00, (0.98, 1.03), P=0.995</td>\n",
       "      <td>0.94, (0.90, 0.99), P=0.995</td>\n",
       "    </tr>\n",
       "    <tr>\n",
       "      <th>Heart failure</th>\n",
       "      <td>1.27, (1.16, 1.40), P=0.000</td>\n",
       "      <td>1.16, (1.05, 1.28), P=0.000</td>\n",
       "    </tr>\n",
       "    <tr>\n",
       "      <th>Hypnotics (100 PDDs)</th>\n",
       "      <td>1.02, (1.02, 1.03), P=0.000</td>\n",
       "      <td>1.01, (1.01, 1.02), P=0.000</td>\n",
       "    </tr>\n",
       "    <tr>\n",
       "      <th>Insomnia</th>\n",
       "      <td>1.53, (1.38, 1.70), P=0.000</td>\n",
       "      <td>1.25, (1.12, 1.40), P=0.000</td>\n",
       "    </tr>\n",
       "    <tr>\n",
       "      <th>Mental illness</th>\n",
       "      <td>1.69, (1.62, 1.76), P=0.000</td>\n",
       "      <td>1.93, (1.84, 2.02), P=0.000</td>\n",
       "    </tr>\n",
       "    <tr>\n",
       "      <th>Sleep apnoea</th>\n",
       "      <td>1.24, (0.73, 2.10), P=0.424</td>\n",
       "      <td>0.89, (0.52, 1.53), P=0.424</td>\n",
       "    </tr>\n",
       "    <tr>\n",
       "      <th>Stroke</th>\n",
       "      <td>1.48, (1.38, 1.59), P=0.000</td>\n",
       "      <td>1.45, (1.35, 1.57), P=0.000</td>\n",
       "    </tr>\n",
       "  </tbody>\n",
       "</table>\n",
       "</div>"
      ],
      "text/plain": [
       "                                         Univariate OR  \\\n",
       "Age at index date          1.00, (1.00, 1.00), P=1.000   \n",
       "Chronic pulmonary disease  1.41, (1.34, 1.48), P=0.000   \n",
       "Female                     1.00, (0.98, 1.03), P=0.995   \n",
       "Heart failure              1.27, (1.16, 1.40), P=0.000   \n",
       "Hypnotics (100 PDDs)       1.02, (1.02, 1.03), P=0.000   \n",
       "Insomnia                   1.53, (1.38, 1.70), P=0.000   \n",
       "Mental illness             1.69, (1.62, 1.76), P=0.000   \n",
       "Sleep apnoea               1.24, (0.73, 2.10), P=0.424   \n",
       "Stroke                     1.48, (1.38, 1.59), P=0.000   \n",
       "\n",
       "                                       Multivariate OR  \n",
       "Age at index date          1.00, (1.00, 1.00), P=1.000  \n",
       "Chronic pulmonary disease  1.42, (1.34, 1.50), P=0.000  \n",
       "Female                     0.94, (0.90, 0.99), P=0.995  \n",
       "Heart failure              1.16, (1.05, 1.28), P=0.000  \n",
       "Hypnotics (100 PDDs)       1.01, (1.01, 1.02), P=0.000  \n",
       "Insomnia                   1.25, (1.12, 1.40), P=0.000  \n",
       "Mental illness             1.93, (1.84, 2.02), P=0.000  \n",
       "Sleep apnoea               0.89, (0.52, 1.53), P=0.424  \n",
       "Stroke                     1.45, (1.35, 1.57), P=0.000  "
      ]
     },
     "metadata": {},
     "output_type": "display_data"
    }
   ],
   "source": [
    "for window in sd.exposure_windows:\n",
    "    printbold(window['name'])\n",
    "    pt_features = pd.read_csv('data/processed_data/pt_features_avoid_specific_dementia_' + window['name'] +'.csv',delimiter=',',parse_dates=['index_date','data_end','data_start'],infer_datetime_format=True)\n",
    "#         print(pt_features.columns)\n",
    "    pt_features.loc['intercept'] = 1.0\n",
    "#         display(pt_features.sample(3))\n",
    "    training_cols = [col for col in pt_features.columns if col in columns_for_inclusion]\n",
    "    summary_table,univariate_and_multivariate_results_formatted = calculate_univariate_and_multivariate_ORs(pt_features,covariates=training_cols,main_variables=columns_for_inclusion)\n",
    "    display(univariate_and_multivariate_results_formatted)\n",
    "#     display(summary_table)"
   ]
  },
  {
   "cell_type": "code",
   "execution_count": null,
   "metadata": {},
   "outputs": [],
   "source": []
  }
 ],
 "metadata": {
  "kernelspec": {
   "display_name": "toadkern2",
   "language": "python",
   "name": "toadkern2"
  },
  "language_info": {
   "codemirror_mode": {
    "name": "ipython",
    "version": 3
   },
   "file_extension": ".py",
   "mimetype": "text/x-python",
   "name": "python",
   "nbconvert_exporter": "python",
   "pygments_lexer": "ipython3",
   "version": "3.7.0"
  }
 },
 "nbformat": 4,
 "nbformat_minor": 2
}
