{
 "cells": [
  {
   "cell_type": "code",
   "execution_count": 1,
   "metadata": {
    "collapsed": false,
    "deletable": true,
    "editable": true
   },
   "outputs": [],
   "source": [
    "%load_ext autoreload\n",
    "%autoreload 2"
   ]
  },
  {
   "cell_type": "code",
   "execution_count": 2,
   "metadata": {
    "collapsed": false,
    "deletable": true,
    "editable": true
   },
   "outputs": [
    {
     "name": "stdout",
     "output_type": "stream",
     "text": [
      "/Users/zurfarosa/demres\n"
     ]
    }
   ],
   "source": [
    "cd ~/demres"
   ]
  },
  {
   "cell_type": "code",
   "execution_count": 3,
   "metadata": {
    "collapsed": false,
    "deletable": true,
    "editable": true
   },
   "outputs": [],
   "source": [
    "import os\n",
    "import sys\n",
    "\n",
    "module_path = os.path.abspath(os.path.join('..'))\n",
    "if module_path not in sys.path:\n",
    "    sys.path.append(module_path)\n",
    "\n",
    "import pandas as pd\n",
    "import numpy as np\n",
    "import statsmodels.api as sm\n",
    "from statsmodels.tools.tools import add_constant\n",
    "import pylab as pl\n",
    "from datetime import date, timedelta\n",
    "\n",
    "import demres\n",
    "from demres.common.constants import entry_type\n",
    "from demres.demins.constants import Study_Design as sd\n",
    "from demres.common import codelists\n",
    "from demres.common.helper_functions import *\n",
    "from demres.demins.statistical_functions import *"
   ]
  },
  {
   "cell_type": "code",
   "execution_count": 4,
   "metadata": {
    "collapsed": false,
    "deletable": true,
    "editable": true
   },
   "outputs": [],
   "source": [
    "pd.set_option('display.max_columns', None)"
   ]
  },
  {
   "cell_type": "markdown",
   "metadata": {
    "deletable": true,
    "editable": true
   },
   "source": [
    "## Specifiy dementia subtype"
   ]
  },
  {
   "cell_type": "code",
   "execution_count": 5,
   "metadata": {
    "collapsed": true,
    "deletable": true,
    "editable": true
   },
   "outputs": [],
   "source": [
    "subtype = 'all_dementia' # options: 'alzheimers', 'vascular','all_dementia'"
   ]
  },
  {
   "cell_type": "markdown",
   "metadata": {
    "deletable": true,
    "editable": true
   },
   "source": [
    "## Specify exposure window"
   ]
  },
  {
   "cell_type": "code",
   "execution_count": 6,
   "metadata": {
    "collapsed": true,
    "deletable": true,
    "editable": true
   },
   "outputs": [],
   "source": [
    "window = '10_to_5' #options: '12_to_7','10_to_5','8_to_3'"
   ]
  },
  {
   "cell_type": "markdown",
   "metadata": {
    "deletable": true,
    "editable": true
   },
   "source": [
    "## Load relevant dataframe and create intercept"
   ]
  },
  {
   "cell_type": "code",
   "execution_count": 7,
   "metadata": {
    "collapsed": false,
    "deletable": true,
    "editable": true
   },
   "outputs": [],
   "source": [
    "pt_features = pd.read_csv('data/pt_data/processed_data/pt_features_demins_' + subtype + '_' + window +'.csv',delimiter=',',parse_dates=['index_date','data_end','data_start'],infer_datetime_format=True)"
   ]
  },
  {
   "cell_type": "code",
   "execution_count": 8,
   "metadata": {
    "collapsed": false,
    "deletable": true,
    "editable": true
   },
   "outputs": [
    {
     "data": {
      "text/html": [
       "<div>\n",
       "<table border=\"1\" class=\"dataframe\">\n",
       "  <thead>\n",
       "    <tr style=\"text-align: right;\">\n",
       "      <th></th>\n",
       "      <th>patid</th>\n",
       "      <th>yob</th>\n",
       "      <th>pracid</th>\n",
       "      <th>female</th>\n",
       "      <th>index_date</th>\n",
       "      <th>isCase</th>\n",
       "      <th>final dementia medcode</th>\n",
       "      <th>data_start</th>\n",
       "      <th>data_end</th>\n",
       "      <th>matchid</th>\n",
       "      <th>age_at_index_date</th>\n",
       "      <th>mood_stabilisers_100_pdds</th>\n",
       "      <th>benzo_and_z_drugs_100_pdds</th>\n",
       "      <th>other_sedatives_100_pdds</th>\n",
       "      <th>antipsychotics_100_pdds</th>\n",
       "      <th>depot_antipsychotics_100_pdds</th>\n",
       "      <th>antidepressants_100_pdds</th>\n",
       "    </tr>\n",
       "  </thead>\n",
       "  <tbody>\n",
       "    <tr>\n",
       "      <th>17237</th>\n",
       "      <td>3220538</td>\n",
       "      <td>31</td>\n",
       "      <td>538</td>\n",
       "      <td>1</td>\n",
       "      <td>2008-10-15</td>\n",
       "      <td>False</td>\n",
       "      <td>NaN</td>\n",
       "      <td>1998-08-21</td>\n",
       "      <td>2012-12-13</td>\n",
       "      <td>4697</td>\n",
       "      <td>77</td>\n",
       "      <td>0.0</td>\n",
       "      <td>0.0</td>\n",
       "      <td>0.0</td>\n",
       "      <td>0.000000</td>\n",
       "      <td>0.0</td>\n",
       "      <td>0.0</td>\n",
       "    </tr>\n",
       "    <tr>\n",
       "      <th>12235</th>\n",
       "      <td>15541330</td>\n",
       "      <td>43</td>\n",
       "      <td>330</td>\n",
       "      <td>0</td>\n",
       "      <td>2011-03-24</td>\n",
       "      <td>True</td>\n",
       "      <td>4693.0</td>\n",
       "      <td>2000-03-22</td>\n",
       "      <td>2013-05-09</td>\n",
       "      <td>50213</td>\n",
       "      <td>68</td>\n",
       "      <td>0.0</td>\n",
       "      <td>0.0</td>\n",
       "      <td>0.0</td>\n",
       "      <td>0.227273</td>\n",
       "      <td>0.0</td>\n",
       "      <td>0.0</td>\n",
       "    </tr>\n",
       "    <tr>\n",
       "      <th>6780</th>\n",
       "      <td>5945377</td>\n",
       "      <td>35</td>\n",
       "      <td>377</td>\n",
       "      <td>0</td>\n",
       "      <td>2011-05-05</td>\n",
       "      <td>False</td>\n",
       "      <td>NaN</td>\n",
       "      <td>2001-04-01</td>\n",
       "      <td>2013-05-08</td>\n",
       "      <td>41103</td>\n",
       "      <td>76</td>\n",
       "      <td>0.0</td>\n",
       "      <td>0.0</td>\n",
       "      <td>0.0</td>\n",
       "      <td>0.000000</td>\n",
       "      <td>0.0</td>\n",
       "      <td>0.0</td>\n",
       "    </tr>\n",
       "    <tr>\n",
       "      <th>7994</th>\n",
       "      <td>1838066</td>\n",
       "      <td>18</td>\n",
       "      <td>66</td>\n",
       "      <td>1</td>\n",
       "      <td>2010-11-18</td>\n",
       "      <td>False</td>\n",
       "      <td>NaN</td>\n",
       "      <td>1999-12-13</td>\n",
       "      <td>2012-04-16</td>\n",
       "      <td>13064</td>\n",
       "      <td>92</td>\n",
       "      <td>0.0</td>\n",
       "      <td>0.0</td>\n",
       "      <td>0.0</td>\n",
       "      <td>0.000000</td>\n",
       "      <td>0.0</td>\n",
       "      <td>0.0</td>\n",
       "    </tr>\n",
       "    <tr>\n",
       "      <th>12762</th>\n",
       "      <td>6828315</td>\n",
       "      <td>27</td>\n",
       "      <td>315</td>\n",
       "      <td>1</td>\n",
       "      <td>2009-12-29</td>\n",
       "      <td>False</td>\n",
       "      <td>NaN</td>\n",
       "      <td>1999-11-26</td>\n",
       "      <td>2013-02-14</td>\n",
       "      <td>33131</td>\n",
       "      <td>82</td>\n",
       "      <td>0.0</td>\n",
       "      <td>0.0</td>\n",
       "      <td>0.0</td>\n",
       "      <td>0.000000</td>\n",
       "      <td>0.0</td>\n",
       "      <td>0.0</td>\n",
       "    </tr>\n",
       "  </tbody>\n",
       "</table>\n",
       "</div>"
      ],
      "text/plain": [
       "          patid  yob  pracid  female index_date isCase  \\\n",
       "17237   3220538   31     538       1 2008-10-15  False   \n",
       "12235  15541330   43     330       0 2011-03-24   True   \n",
       "6780    5945377   35     377       0 2011-05-05  False   \n",
       "7994    1838066   18      66       1 2010-11-18  False   \n",
       "12762   6828315   27     315       1 2009-12-29  False   \n",
       "\n",
       "       final dementia medcode data_start   data_end  matchid  \\\n",
       "17237                     NaN 1998-08-21 2012-12-13     4697   \n",
       "12235                  4693.0 2000-03-22 2013-05-09    50213   \n",
       "6780                      NaN 2001-04-01 2013-05-08    41103   \n",
       "7994                      NaN 1999-12-13 2012-04-16    13064   \n",
       "12762                     NaN 1999-11-26 2013-02-14    33131   \n",
       "\n",
       "       age_at_index_date  mood_stabilisers_100_pdds  \\\n",
       "17237                 77                        0.0   \n",
       "12235                 68                        0.0   \n",
       "6780                  76                        0.0   \n",
       "7994                  92                        0.0   \n",
       "12762                 82                        0.0   \n",
       "\n",
       "       benzo_and_z_drugs_100_pdds  other_sedatives_100_pdds  \\\n",
       "17237                         0.0                       0.0   \n",
       "12235                         0.0                       0.0   \n",
       "6780                          0.0                       0.0   \n",
       "7994                          0.0                       0.0   \n",
       "12762                         0.0                       0.0   \n",
       "\n",
       "       antipsychotics_100_pdds  depot_antipsychotics_100_pdds  \\\n",
       "17237                 0.000000                            0.0   \n",
       "12235                 0.227273                            0.0   \n",
       "6780                  0.000000                            0.0   \n",
       "7994                  0.000000                            0.0   \n",
       "12762                 0.000000                            0.0   \n",
       "\n",
       "       antidepressants_100_pdds  \n",
       "17237                       0.0  \n",
       "12235                       0.0  \n",
       "6780                        0.0  \n",
       "7994                        0.0  \n",
       "12762                       0.0  "
      ]
     },
     "execution_count": 8,
     "metadata": {},
     "output_type": "execute_result"
    }
   ],
   "source": [
    "pt_features.sample(5)"
   ]
  },
  {
   "cell_type": "code",
   "execution_count": 9,
   "metadata": {
    "collapsed": false,
    "deletable": true,
    "editable": true
   },
   "outputs": [
    {
     "data": {
      "text/plain": [
       "Index(['patid', 'yob', 'pracid', 'female', 'index_date', 'isCase',\n",
       "       'final dementia medcode', 'data_start', 'data_end', 'matchid',\n",
       "       'age_at_index_date', 'mood_stabilisers_100_pdds',\n",
       "       'benzo_and_z_drugs_100_pdds', 'other_sedatives_100_pdds',\n",
       "       'antipsychotics_100_pdds', 'depot_antipsychotics_100_pdds',\n",
       "       'antidepressants_100_pdds'],\n",
       "      dtype='object')"
      ]
     },
     "execution_count": 9,
     "metadata": {},
     "output_type": "execute_result"
    }
   ],
   "source": [
    "pt_features.columns"
   ]
  },
  {
   "cell_type": "code",
   "execution_count": 10,
   "metadata": {
    "collapsed": false,
    "deletable": true,
    "editable": true
   },
   "outputs": [],
   "source": [
    "pt_features['intercept'] = 1.0"
   ]
  },
  {
   "cell_type": "code",
   "execution_count": 11,
   "metadata": {
    "collapsed": false,
    "deletable": true,
    "editable": true
   },
   "outputs": [],
   "source": [
    "# pt_features.sort_values(by='insomnia_count<=10',ascending=False)"
   ]
  },
  {
   "cell_type": "code",
   "execution_count": 12,
   "metadata": {
    "collapsed": true,
    "deletable": true,
    "editable": true
   },
   "outputs": [],
   "source": [
    "columns_always_for_inclusion = [\n",
    "    'female',\n",
    "    'non_insomnia_GP_consultations', 'stroke',\n",
    "    'non_stroke_vascular_disease', 'hypertension',\n",
    "    'diabetes', 'mental_illness_non_smi', 'mental_illness_smi',\n",
    "    'sleep_apnoea', 'chronic_pulmonary_disease', 'epilepsy',\n",
    "    'mood_stabilisers_100_pdds',\n",
    "    'other_sedatives_100_pdds', 'antidepressants_100_pdds', \n",
    "    'depot_antipsychotics_100_pdds', 'antipsychotics_100_pdds',\n",
    "    'benzo_and_z_drugs_100_pdds'\n",
    "]"
   ]
  },
  {
   "cell_type": "markdown",
   "metadata": {
    "deletable": true,
    "editable": true
   },
   "source": [
    "## Insomnia consultations"
   ]
  },
  {
   "cell_type": "markdown",
   "metadata": {
    "deletable": true,
    "editable": true
   },
   "source": [
    "### insomnia yes/no"
   ]
  },
  {
   "cell_type": "code",
   "execution_count": 13,
   "metadata": {
    "collapsed": false,
    "deletable": true,
    "editable": true
   },
   "outputs": [
    {
     "name": "stdout",
     "output_type": "stream",
     "text": [
      "female  being retained as mean < 0\n",
      "mood_stabilisers_100_pdds  being retained as mean < 0\n",
      "benzo_and_z_drugs_100_pdds  being retained as mean < 0\n",
      "other_sedatives_100_pdds  being retained as mean < 0\n",
      "antipsychotics_100_pdds  being retained as mean < 0\n",
      "depot_antipsychotics_100_pdds  being removed as mean = 0\n",
      "antidepressants_100_pdds  being retained as mean < 0\n",
      "\n",
      "\n",
      "*Stage 1*\n",
      "Univariate results\n",
      "                            Univariate OR  p value  [0.025    0.975]\n",
      "antidepressants_100_pdds            1.042    0.000   1.029     1.056\n",
      "antipsychotics_100_pdds             1.001    0.898   0.980     1.024\n",
      "benzo_and_z_drugs_100_pdds          1.045    0.176   0.980     1.114\n",
      "female                              1.000    1.000   0.968     1.033\n",
      "mood_stabilisers_100_pdds           7.239    0.485   0.028  1869.422\n",
      "other_sedatives_100_pdds            1.041    0.538   0.916     1.183\n",
      "\n",
      "The following covariates were retained during stage 1:\n",
      "\n",
      "['antidepressants_100_pdds', 'benzo_and_z_drugs_100_pdds']\n",
      "\n",
      "The following covariates were NOT retained during stage 1, as p value > 0.25:\n",
      "\n",
      "['antipsychotics_100_pdds', 'female', 'mood_stabilisers_100_pdds', 'other_sedatives_100_pdds']\n",
      "\n",
      "\n",
      "*Stage 2\n",
      "multivariate_results (using just the covariates selected in stage 1):\n",
      "                            odds_ratio  p_value\n",
      "antidepressants_100_pdds        1.0423    0.000\n",
      "benzo_and_z_drugs_100_pdds      1.0438    0.184\n",
      "\n",
      "The following covariates were retained during stage 2:\n",
      " ['antidepressants_100_pdds', 'benzo_and_z_drugs_100_pdds']\n",
      "\n",
      "The following covariates NOT were retained during stage 2, as p value > 0.1:\n",
      " [] \n",
      "\n",
      "\n",
      "*Stage 3*\n",
      "\n",
      "\n",
      "*Stage 4*\n",
      "\n",
      "Add in the covariates removed from the stage 1 model one by one - keep them if p<0.15:\n",
      "\n",
      "Covariate being added: antipsychotics_100_pdds\n",
      "                            odds_ratio  p_value\n",
      "antidepressants_100_pdds        1.0424    0.000\n",
      "benzo_and_z_drugs_100_pdds      1.0439    0.183\n",
      "antipsychotics_100_pdds         0.9971    0.795\n",
      "\n",
      "antipsychotics_100_pdds is being removed, as p_value is 0.795\n",
      "\n",
      "Covariate being added: female\n",
      "                            odds_ratio  p_value\n",
      "antidepressants_100_pdds        1.0435    0.000\n",
      "benzo_and_z_drugs_100_pdds      1.0447    0.176\n",
      "female                          0.9814    0.268\n",
      "\n",
      "female is being removed, as p_value is 0.268\n",
      "\n",
      "Covariate being added: mood_stabilisers_100_pdds\n",
      "                            odds_ratio  p_value\n",
      "antidepressants_100_pdds        1.0418    0.000\n",
      "benzo_and_z_drugs_100_pdds      1.0438    0.184\n",
      "mood_stabilisers_100_pdds       6.3492    0.506\n",
      "\n",
      "mood_stabilisers_100_pdds is being removed, as p_value is 0.506\n",
      "\n",
      "Covariate being added: other_sedatives_100_pdds\n",
      "                            odds_ratio  p_value\n",
      "antidepressants_100_pdds        1.0423    0.000\n",
      "benzo_and_z_drugs_100_pdds      1.0438    0.184\n",
      "other_sedatives_100_pdds        1.0348    0.596\n",
      "\n",
      "other_sedatives_100_pdds is being removed, as p_value is 0.596\n",
      "Final list of covariates:\n",
      " ['antidepressants_100_pdds', 'benzo_and_z_drugs_100_pdds']\n",
      "***Final multivariate analysis***\n",
      "\n",
      "                            Multivariate OR  p value  [0.025  0.975]\n",
      "antidepressants_100_pdds              1.042    0.000   1.029   1.056\n",
      "benzo_and_z_drugs_100_pdds            1.044    0.184   0.980   1.112\n"
     ]
    }
   ],
   "source": [
    "cols_for_inclusion_here = ['insomnia_any','benzo_and_z_drugs_100_pdds']\n",
    "training_cols = [col for col in pt_features.columns if col in cols_for_inclusion_here+columns_always_for_inclusion]\n",
    "summary_table,univariate_and_multivariate_results = purposefully_select_covariates(pt_features,covariates=training_cols,main_variables=cols_for_inclusion_here)"
   ]
  },
  {
   "cell_type": "code",
   "execution_count": 14,
   "metadata": {
    "collapsed": false,
    "deletable": true,
    "editable": true
   },
   "outputs": [
    {
     "data": {
      "text/html": [
       "<div>\n",
       "<table border=\"1\" class=\"dataframe\">\n",
       "  <thead>\n",
       "    <tr style=\"text-align: right;\">\n",
       "      <th></th>\n",
       "      <th>Univariate OR</th>\n",
       "      <th>p value</th>\n",
       "      <th>[0.025</th>\n",
       "      <th>0.975]</th>\n",
       "      <th>Multivariate OR</th>\n",
       "      <th>p value</th>\n",
       "      <th>[0.025</th>\n",
       "      <th>0.975]</th>\n",
       "    </tr>\n",
       "  </thead>\n",
       "  <tbody>\n",
       "    <tr>\n",
       "      <th>antidepressants_100_pdds</th>\n",
       "      <td>1.042</td>\n",
       "      <td>0.000</td>\n",
       "      <td>1.029</td>\n",
       "      <td>1.056</td>\n",
       "      <td>1.042</td>\n",
       "      <td>0.000</td>\n",
       "      <td>1.029</td>\n",
       "      <td>1.056</td>\n",
       "    </tr>\n",
       "    <tr>\n",
       "      <th>benzo_and_z_drugs_100_pdds</th>\n",
       "      <td>1.045</td>\n",
       "      <td>0.176</td>\n",
       "      <td>0.980</td>\n",
       "      <td>1.114</td>\n",
       "      <td>1.044</td>\n",
       "      <td>0.184</td>\n",
       "      <td>0.980</td>\n",
       "      <td>1.112</td>\n",
       "    </tr>\n",
       "  </tbody>\n",
       "</table>\n",
       "</div>"
      ],
      "text/plain": [
       "                            Univariate OR  p value  [0.025  0.975]  \\\n",
       "antidepressants_100_pdds            1.042    0.000   1.029   1.056   \n",
       "benzo_and_z_drugs_100_pdds          1.045    0.176   0.980   1.114   \n",
       "\n",
       "                            Multivariate OR  p value  [0.025  0.975]  \n",
       "antidepressants_100_pdds              1.042    0.000   1.029   1.056  \n",
       "benzo_and_z_drugs_100_pdds            1.044    0.184   0.980   1.112  "
      ]
     },
     "execution_count": 14,
     "metadata": {},
     "output_type": "execute_result"
    }
   ],
   "source": [
    "univariate_and_multivariate_results"
   ]
  },
  {
   "cell_type": "markdown",
   "metadata": {
    "deletable": true,
    "editable": true
   },
   "source": [
    "### insomnia (continuous variable)"
   ]
  },
  {
   "cell_type": "code",
   "execution_count": 15,
   "metadata": {
    "collapsed": false,
    "deletable": true,
    "editable": true
   },
   "outputs": [
    {
     "name": "stdout",
     "output_type": "stream",
     "text": [
      "female  being retained as mean < 0\n",
      "mood_stabilisers_100_pdds  being retained as mean < 0\n",
      "benzo_and_z_drugs_100_pdds  being retained as mean < 0\n",
      "other_sedatives_100_pdds  being retained as mean < 0\n",
      "antipsychotics_100_pdds  being retained as mean < 0\n",
      "depot_antipsychotics_100_pdds  being removed as mean = 0\n",
      "antidepressants_100_pdds  being retained as mean < 0\n",
      "\n",
      "\n",
      "*Stage 1*\n",
      "Univariate results\n",
      "                            Univariate OR  p value  [0.025    0.975]\n",
      "antidepressants_100_pdds            1.042    0.000   1.029     1.056\n",
      "antipsychotics_100_pdds             1.001    0.898   0.980     1.024\n",
      "benzo_and_z_drugs_100_pdds          1.045    0.176   0.980     1.114\n",
      "female                              1.000    1.000   0.968     1.033\n",
      "mood_stabilisers_100_pdds           7.239    0.485   0.028  1869.422\n",
      "other_sedatives_100_pdds            1.041    0.538   0.916     1.183\n",
      "\n",
      "The following covariates were retained during stage 1:\n",
      "\n",
      "['antidepressants_100_pdds', 'benzo_and_z_drugs_100_pdds']\n",
      "\n",
      "The following covariates were NOT retained during stage 1, as p value > 0.25:\n",
      "\n",
      "['antipsychotics_100_pdds', 'female', 'mood_stabilisers_100_pdds', 'other_sedatives_100_pdds']\n",
      "\n",
      "\n",
      "*Stage 2\n",
      "multivariate_results (using just the covariates selected in stage 1):\n",
      "                            odds_ratio  p_value\n",
      "antidepressants_100_pdds        1.0423    0.000\n",
      "benzo_and_z_drugs_100_pdds      1.0438    0.184\n",
      "\n",
      "The following covariates were retained during stage 2:\n",
      " ['antidepressants_100_pdds', 'benzo_and_z_drugs_100_pdds']\n",
      "\n",
      "The following covariates NOT were retained during stage 2, as p value > 0.1:\n",
      " [] \n",
      "\n",
      "\n",
      "*Stage 3*\n",
      "\n",
      "\n",
      "*Stage 4*\n",
      "\n",
      "Add in the covariates removed from the stage 1 model one by one - keep them if p<0.15:\n",
      "\n",
      "Covariate being added: antipsychotics_100_pdds\n",
      "                            odds_ratio  p_value\n",
      "antidepressants_100_pdds        1.0424    0.000\n",
      "benzo_and_z_drugs_100_pdds      1.0439    0.183\n",
      "antipsychotics_100_pdds         0.9971    0.795\n",
      "\n",
      "antipsychotics_100_pdds is being removed, as p_value is 0.795\n",
      "\n",
      "Covariate being added: female\n",
      "                            odds_ratio  p_value\n",
      "antidepressants_100_pdds        1.0435    0.000\n",
      "benzo_and_z_drugs_100_pdds      1.0447    0.176\n",
      "female                          0.9814    0.268\n",
      "\n",
      "female is being removed, as p_value is 0.268\n",
      "\n",
      "Covariate being added: mood_stabilisers_100_pdds\n",
      "                            odds_ratio  p_value\n",
      "antidepressants_100_pdds        1.0418    0.000\n",
      "benzo_and_z_drugs_100_pdds      1.0438    0.184\n",
      "mood_stabilisers_100_pdds       6.3492    0.506\n",
      "\n",
      "mood_stabilisers_100_pdds is being removed, as p_value is 0.506\n",
      "\n",
      "Covariate being added: other_sedatives_100_pdds\n",
      "                            odds_ratio  p_value\n",
      "antidepressants_100_pdds        1.0423    0.000\n",
      "benzo_and_z_drugs_100_pdds      1.0438    0.184\n",
      "other_sedatives_100_pdds        1.0348    0.596\n",
      "\n",
      "other_sedatives_100_pdds is being removed, as p_value is 0.596\n",
      "Final list of covariates:\n",
      " ['antidepressants_100_pdds', 'benzo_and_z_drugs_100_pdds']\n",
      "***Final multivariate analysis***\n",
      "\n",
      "                            Multivariate OR  p value  [0.025  0.975]\n",
      "antidepressants_100_pdds              1.042    0.000   1.029   1.056\n",
      "benzo_and_z_drugs_100_pdds            1.044    0.184   0.980   1.112\n"
     ]
    }
   ],
   "source": [
    "cols_for_inclusion_here = ['insomnia','benzo_and_z_drugs_100_pdds']\n",
    "training_cols = [col for col in pt_features.columns if col in cols_for_inclusion_here+columns_always_for_inclusion]\n",
    "summary_table,univariate_and_multivariate_results = purposefully_select_covariates(pt_features,covariates=training_cols,main_variables=cols_for_inclusion_here)"
   ]
  },
  {
   "cell_type": "code",
   "execution_count": 16,
   "metadata": {
    "collapsed": false,
    "deletable": true,
    "editable": true
   },
   "outputs": [
    {
     "data": {
      "text/html": [
       "<div>\n",
       "<table border=\"1\" class=\"dataframe\">\n",
       "  <thead>\n",
       "    <tr style=\"text-align: right;\">\n",
       "      <th></th>\n",
       "      <th>Univariate OR</th>\n",
       "      <th>p value</th>\n",
       "      <th>[0.025</th>\n",
       "      <th>0.975]</th>\n",
       "      <th>Multivariate OR</th>\n",
       "      <th>p value</th>\n",
       "      <th>[0.025</th>\n",
       "      <th>0.975]</th>\n",
       "    </tr>\n",
       "  </thead>\n",
       "  <tbody>\n",
       "    <tr>\n",
       "      <th>antidepressants_100_pdds</th>\n",
       "      <td>1.042</td>\n",
       "      <td>0.000</td>\n",
       "      <td>1.029</td>\n",
       "      <td>1.056</td>\n",
       "      <td>1.042</td>\n",
       "      <td>0.000</td>\n",
       "      <td>1.029</td>\n",
       "      <td>1.056</td>\n",
       "    </tr>\n",
       "    <tr>\n",
       "      <th>benzo_and_z_drugs_100_pdds</th>\n",
       "      <td>1.045</td>\n",
       "      <td>0.176</td>\n",
       "      <td>0.980</td>\n",
       "      <td>1.114</td>\n",
       "      <td>1.044</td>\n",
       "      <td>0.184</td>\n",
       "      <td>0.980</td>\n",
       "      <td>1.112</td>\n",
       "    </tr>\n",
       "  </tbody>\n",
       "</table>\n",
       "</div>"
      ],
      "text/plain": [
       "                            Univariate OR  p value  [0.025  0.975]  \\\n",
       "antidepressants_100_pdds            1.042    0.000   1.029   1.056   \n",
       "benzo_and_z_drugs_100_pdds          1.045    0.176   0.980   1.114   \n",
       "\n",
       "                            Multivariate OR  p value  [0.025  0.975]  \n",
       "antidepressants_100_pdds              1.042    0.000   1.029   1.056  \n",
       "benzo_and_z_drugs_100_pdds            1.044    0.184   0.980   1.112  "
      ]
     },
     "execution_count": 16,
     "metadata": {},
     "output_type": "execute_result"
    }
   ],
   "source": [
    "univariate_and_multivariate_results"
   ]
  },
  {
   "cell_type": "markdown",
   "metadata": {
    "deletable": true,
    "editable": true
   },
   "source": [
    "### insomnia quantiles"
   ]
  },
  {
   "cell_type": "code",
   "execution_count": 17,
   "metadata": {
    "collapsed": false,
    "deletable": true,
    "editable": true
   },
   "outputs": [
    {
     "name": "stdout",
     "output_type": "stream",
     "text": [
      "female  being retained as mean < 0\n",
      "mood_stabilisers_100_pdds  being retained as mean < 0\n",
      "benzo_and_z_drugs_100_pdds  being retained as mean < 0\n",
      "other_sedatives_100_pdds  being retained as mean < 0\n",
      "antipsychotics_100_pdds  being retained as mean < 0\n",
      "depot_antipsychotics_100_pdds  being removed as mean = 0\n",
      "antidepressants_100_pdds  being retained as mean < 0\n",
      "\n",
      "\n",
      "*Stage 1*\n",
      "Univariate results\n",
      "                            Univariate OR  p value  [0.025    0.975]\n",
      "antidepressants_100_pdds            1.042    0.000   1.029     1.056\n",
      "antipsychotics_100_pdds             1.001    0.898   0.980     1.024\n",
      "benzo_and_z_drugs_100_pdds          1.045    0.176   0.980     1.114\n",
      "female                              1.000    1.000   0.968     1.033\n",
      "mood_stabilisers_100_pdds           7.239    0.485   0.028  1869.422\n",
      "other_sedatives_100_pdds            1.041    0.538   0.916     1.183\n",
      "\n",
      "The following covariates were retained during stage 1:\n",
      "\n",
      "['antidepressants_100_pdds', 'benzo_and_z_drugs_100_pdds']\n",
      "\n",
      "The following covariates were NOT retained during stage 1, as p value > 0.25:\n",
      "\n",
      "['antipsychotics_100_pdds', 'female', 'mood_stabilisers_100_pdds', 'other_sedatives_100_pdds']\n",
      "\n",
      "\n",
      "*Stage 2\n",
      "multivariate_results (using just the covariates selected in stage 1):\n",
      "                            odds_ratio  p_value\n",
      "antidepressants_100_pdds        1.0423    0.000\n",
      "benzo_and_z_drugs_100_pdds      1.0438    0.184\n",
      "\n",
      "The following covariates were retained during stage 2:\n",
      " ['antidepressants_100_pdds', 'benzo_and_z_drugs_100_pdds']\n",
      "\n",
      "The following covariates NOT were retained during stage 2, as p value > 0.1:\n",
      " [] \n",
      "\n",
      "\n",
      "*Stage 3*\n",
      "\n",
      "\n",
      "*Stage 4*\n",
      "\n",
      "Add in the covariates removed from the stage 1 model one by one - keep them if p<0.15:\n",
      "\n",
      "Covariate being added: antipsychotics_100_pdds\n",
      "                            odds_ratio  p_value\n",
      "antidepressants_100_pdds        1.0424    0.000\n",
      "benzo_and_z_drugs_100_pdds      1.0439    0.183\n",
      "antipsychotics_100_pdds         0.9971    0.795\n",
      "\n",
      "antipsychotics_100_pdds is being removed, as p_value is 0.795\n",
      "\n",
      "Covariate being added: female\n",
      "                            odds_ratio  p_value\n",
      "antidepressants_100_pdds        1.0435    0.000\n",
      "benzo_and_z_drugs_100_pdds      1.0447    0.176\n",
      "female                          0.9814    0.268\n",
      "\n",
      "female is being removed, as p_value is 0.268\n",
      "\n",
      "Covariate being added: mood_stabilisers_100_pdds\n",
      "                            odds_ratio  p_value\n",
      "antidepressants_100_pdds        1.0418    0.000\n",
      "benzo_and_z_drugs_100_pdds      1.0438    0.184\n",
      "mood_stabilisers_100_pdds       6.3492    0.506\n",
      "\n",
      "mood_stabilisers_100_pdds is being removed, as p_value is 0.506\n",
      "\n",
      "Covariate being added: other_sedatives_100_pdds\n",
      "                            odds_ratio  p_value\n",
      "antidepressants_100_pdds        1.0423    0.000\n",
      "benzo_and_z_drugs_100_pdds      1.0438    0.184\n",
      "other_sedatives_100_pdds        1.0348    0.596\n",
      "\n",
      "other_sedatives_100_pdds is being removed, as p_value is 0.596\n",
      "Final list of covariates:\n",
      " ['antidepressants_100_pdds', 'benzo_and_z_drugs_100_pdds']\n",
      "***Final multivariate analysis***\n",
      "\n",
      "                            Multivariate OR  p value  [0.025  0.975]\n",
      "antidepressants_100_pdds              1.042    0.000   1.029   1.056\n",
      "benzo_and_z_drugs_100_pdds            1.044    0.184   0.980   1.112\n"
     ]
    }
   ],
   "source": [
    "cols_for_inclusion_here = ['benzo_and_z_drugs_100_pdds','insomnia_count:1_5','insomnia_count:6_10','insomnia_count:above_10']\n",
    "training_cols = [col for col in pt_features.columns if col in cols_for_inclusion_here+columns_always_for_inclusion]\n",
    "summary_table,univariate_and_multivariate_results = purposefully_select_covariates(pt_features,covariates=training_cols,main_variables=cols_for_inclusion_here)"
   ]
  },
  {
   "cell_type": "code",
   "execution_count": 18,
   "metadata": {
    "collapsed": false,
    "deletable": true,
    "editable": true
   },
   "outputs": [
    {
     "data": {
      "text/html": [
       "<div>\n",
       "<table border=\"1\" class=\"dataframe\">\n",
       "  <thead>\n",
       "    <tr style=\"text-align: right;\">\n",
       "      <th></th>\n",
       "      <th>Univariate OR</th>\n",
       "      <th>p value</th>\n",
       "      <th>[0.025</th>\n",
       "      <th>0.975]</th>\n",
       "      <th>Multivariate OR</th>\n",
       "      <th>p value</th>\n",
       "      <th>[0.025</th>\n",
       "      <th>0.975]</th>\n",
       "    </tr>\n",
       "  </thead>\n",
       "  <tbody>\n",
       "    <tr>\n",
       "      <th>antidepressants_100_pdds</th>\n",
       "      <td>1.042</td>\n",
       "      <td>0.000</td>\n",
       "      <td>1.029</td>\n",
       "      <td>1.056</td>\n",
       "      <td>1.042</td>\n",
       "      <td>0.000</td>\n",
       "      <td>1.029</td>\n",
       "      <td>1.056</td>\n",
       "    </tr>\n",
       "    <tr>\n",
       "      <th>benzo_and_z_drugs_100_pdds</th>\n",
       "      <td>1.045</td>\n",
       "      <td>0.176</td>\n",
       "      <td>0.980</td>\n",
       "      <td>1.114</td>\n",
       "      <td>1.044</td>\n",
       "      <td>0.184</td>\n",
       "      <td>0.980</td>\n",
       "      <td>1.112</td>\n",
       "    </tr>\n",
       "  </tbody>\n",
       "</table>\n",
       "</div>"
      ],
      "text/plain": [
       "                            Univariate OR  p value  [0.025  0.975]  \\\n",
       "antidepressants_100_pdds            1.042    0.000   1.029   1.056   \n",
       "benzo_and_z_drugs_100_pdds          1.045    0.176   0.980   1.114   \n",
       "\n",
       "                            Multivariate OR  p value  [0.025  0.975]  \n",
       "antidepressants_100_pdds              1.042    0.000   1.029   1.056  \n",
       "benzo_and_z_drugs_100_pdds            1.044    0.184   0.980   1.112  "
      ]
     },
     "execution_count": 18,
     "metadata": {},
     "output_type": "execute_result"
    }
   ],
   "source": [
    "univariate_and_multivariate_results"
   ]
  },
  {
   "cell_type": "markdown",
   "metadata": {
    "deletable": true,
    "editable": true
   },
   "source": [
    "## Benzo and z-drug PDDs"
   ]
  },
  {
   "cell_type": "code",
   "execution_count": 19,
   "metadata": {
    "collapsed": true,
    "deletable": true,
    "editable": true
   },
   "outputs": [],
   "source": [
    "### benzos yes/no"
   ]
  },
  {
   "cell_type": "code",
   "execution_count": 20,
   "metadata": {
    "collapsed": false,
    "deletable": true,
    "editable": true
   },
   "outputs": [],
   "source": [
    "# cols_for_inclusion_here = ['benzo_and_z_drugs_any']\n",
    "# training_cols = [col for col in pt_features.columns if col in cols_for_inclusion_here+columns_always_for_inclusion]\n",
    "# summary_table,result = purposefully_select_covariates(pt_features,covariates=training_cols,main_variables=cols_for_inclusion_here)"
   ]
  },
  {
   "cell_type": "code",
   "execution_count": 21,
   "metadata": {
    "collapsed": false,
    "deletable": true,
    "editable": true
   },
   "outputs": [],
   "source": [
    "# result"
   ]
  },
  {
   "cell_type": "markdown",
   "metadata": {
    "deletable": true,
    "editable": true
   },
   "source": [
    "### benzo PDDs"
   ]
  },
  {
   "cell_type": "code",
   "execution_count": 22,
   "metadata": {
    "collapsed": false,
    "deletable": true,
    "editable": true
   },
   "outputs": [],
   "source": [
    "# cols_for_inclusion_here = ['benzo_and_z_drugs_pdds']\n",
    "# training_cols = [col for col in pt_features.columns if col in cols_for_inclusion_here+columns_always_for_inclusion]\n",
    "# summary_table,result = purposefully_select_covariates(pt_features,covariates=training_cols,main_variables=cols_for_inclusion_here)"
   ]
  },
  {
   "cell_type": "code",
   "execution_count": 23,
   "metadata": {
    "collapsed": false,
    "deletable": true,
    "editable": true
   },
   "outputs": [],
   "source": [
    "# result"
   ]
  },
  {
   "cell_type": "markdown",
   "metadata": {
    "deletable": true,
    "editable": true
   },
   "source": [
    "### benzos quantiles"
   ]
  },
  {
   "cell_type": "code",
   "execution_count": 24,
   "metadata": {
    "collapsed": false,
    "deletable": true,
    "editable": true
   },
   "outputs": [],
   "source": [
    "# cols_for_inclusion_here = ['benzo_and_z_drugs_pdds:1_10', 'benzo_and_z_drugs_pdds:11_100',\n",
    "#        'benzo_and_z_drugs_pdds:101_1000', 'benzo_and_z_drugs_pdds:1001_10000',\n",
    "#        'benzo_and_z_drugs_pdds:above_10000']\n",
    "# training_cols = [col for col in pt_features.columns if col in cols_for_inclusion_here+columns_always_for_inclusion]\n",
    "# summary_table,result = purposefully_select_covariates(pt_features,covariates=training_cols,main_variables=cols_for_inclusion_here)"
   ]
  },
  {
   "cell_type": "code",
   "execution_count": 25,
   "metadata": {
    "collapsed": false,
    "deletable": true,
    "editable": true
   },
   "outputs": [],
   "source": [
    "# result"
   ]
  },
  {
   "cell_type": "code",
   "execution_count": 28,
   "metadata": {
    "collapsed": false,
    "deletable": true,
    "editable": true
   },
   "outputs": [
    {
     "data": {
      "text/plain": [
       "'antidepressants'"
      ]
     },
     "execution_count": 28,
     "metadata": {},
     "output_type": "execute_result"
    }
   ],
   "source": []
  },
  {
   "cell_type": "code",
   "execution_count": null,
   "metadata": {
    "collapsed": true
   },
   "outputs": [],
   "source": []
  }
 ],
 "metadata": {
  "kernelspec": {
   "display_name": "demres_kernel",
   "language": "python",
   "name": "demres_kernel"
  },
  "language_info": {
   "codemirror_mode": {
    "name": "ipython",
    "version": 3
   },
   "file_extension": ".py",
   "mimetype": "text/x-python",
   "name": "python",
   "nbconvert_exporter": "python",
   "pygments_lexer": "ipython3",
   "version": "3.5.0"
  }
 },
 "nbformat": 4,
 "nbformat_minor": 2
}
