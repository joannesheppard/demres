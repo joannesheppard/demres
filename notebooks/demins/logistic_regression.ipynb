{
 "cells": [
  {
   "cell_type": "code",
   "execution_count": 1,
   "metadata": {},
   "outputs": [],
   "source": [
    "%load_ext autoreload\n",
    "%autoreload 2"
   ]
  },
  {
   "cell_type": "code",
   "execution_count": 2,
   "metadata": {},
   "outputs": [
    {
     "name": "stdout",
     "output_type": "stream",
     "text": [
      "/Users/zurfarosa/demres\n"
     ]
    }
   ],
   "source": [
    "cd ~/demres"
   ]
  },
  {
   "cell_type": "code",
   "execution_count": 3,
   "metadata": {},
   "outputs": [
    {
     "name": "stderr",
     "output_type": "stream",
     "text": [
      "/Users/zurfarosa/demres/env/lib/python3.6/site-packages/statsmodels/compat/pandas.py:56: FutureWarning: The pandas.core.datetools module is deprecated and will be removed in a future version. Please use the pandas.tseries module instead.\n",
      "  from pandas.core import datetools\n"
     ]
    }
   ],
   "source": [
    "import os\n",
    "import sys\n",
    "\n",
    "module_path = os.path.abspath(os.path.join('..'))\n",
    "if module_path not in sys.path:\n",
    "    sys.path.append(module_path)\n",
    "\n",
    "import pandas as pd\n",
    "import numpy as np\n",
    "import statsmodels.api as sm\n",
    "from statsmodels.tools.tools import add_constant\n",
    "from statsmodels.stats.outliers_influence import variance_inflation_factor \n",
    "\n",
    "from datetime import date, timedelta\n",
    "\n",
    "import demres\n",
    "from demres.common.constants import entry_type\n",
    "from demres.demins.constants import Study_Design as sd\n",
    "from demres.common import codelists\n",
    "from demres.common.helper_functions import *\n",
    "from demres.demins.statistical_functions import *"
   ]
  },
  {
   "cell_type": "code",
   "execution_count": 4,
   "metadata": {},
   "outputs": [],
   "source": [
    "pd.set_option('display.max_columns', None)"
   ]
  },
  {
   "cell_type": "markdown",
   "metadata": {},
   "source": [
    "## Specifiy dementia subtype"
   ]
  },
  {
   "cell_type": "code",
   "execution_count": 5,
   "metadata": {},
   "outputs": [],
   "source": [
    "subtype = 'all_dementia' # options: 'alzheimers', 'vascular','all_dementia'"
   ]
  },
  {
   "cell_type": "markdown",
   "metadata": {},
   "source": [
    "## Specify exposure window"
   ]
  },
  {
   "cell_type": "code",
   "execution_count": 16,
   "metadata": {},
   "outputs": [],
   "source": [
    "window = '10_to_5' #options: '12_to_7','10_to_5','8_to_3'"
   ]
  },
  {
   "cell_type": "markdown",
   "metadata": {},
   "source": [
    "## Load relevant dataframe and create intercept"
   ]
  },
  {
   "cell_type": "code",
   "execution_count": 17,
   "metadata": {},
   "outputs": [],
   "source": [
    "pt_features = pd.read_csv('data/pt_data/processed_data/pt_features_demins_' + subtype + '_' + window +'.csv',delimiter=',',parse_dates=['index_date','data_end','data_start'],infer_datetime_format=True)"
   ]
  },
  {
   "cell_type": "code",
   "execution_count": 18,
   "metadata": {},
   "outputs": [
    {
     "data": {
      "text/plain": [
       "Index(['patid', 'yob', 'pracid', 'female', 'index_date', 'isCase',\n",
       "       'final dementia medcode', 'data_end', 'data_start', 'matchid',\n",
       "       'age_at_index_date', 'insomnia', 'insomnia_no_hypnotics', 'stroke',\n",
       "       'heart_failure', 'mental_illness', 'sleep_apnoea',\n",
       "       'chronic_pulmonary_disease', 'epilepsy', 'hypnotics_100_pdds',\n",
       "       'age_at_index_date:65-69', 'age_at_index_date:70-74',\n",
       "       'age_at_index_date:75-79', 'age_at_index_date:80-84',\n",
       "       'age_at_index_date:85-89', 'age_at_index_date:90-99',\n",
       "       'age_at_index_date:above_99', 'hypnotic_pdds:00000',\n",
       "       'hypnotic_pdds:00001_10', 'hypnotic_pdds:00011_100',\n",
       "       'hypnotic_pdds:00101_1000', 'hypnotic_pdds:01001_10000',\n",
       "       'hypnotic_pdds:10000_and_above'],\n",
       "      dtype='object')"
      ]
     },
     "execution_count": 18,
     "metadata": {},
     "output_type": "execute_result"
    }
   ],
   "source": [
    "pt_features.columns"
   ]
  },
  {
   "cell_type": "code",
   "execution_count": 19,
   "metadata": {},
   "outputs": [],
   "source": [
    "pt_features.loc['intercept'] = 1.0"
   ]
  },
  {
   "cell_type": "code",
   "execution_count": 20,
   "metadata": {},
   "outputs": [
    {
     "data": {
      "text/html": [
       "<div>\n",
       "<style scoped>\n",
       "    .dataframe tbody tr th:only-of-type {\n",
       "        vertical-align: middle;\n",
       "    }\n",
       "\n",
       "    .dataframe tbody tr th {\n",
       "        vertical-align: top;\n",
       "    }\n",
       "\n",
       "    .dataframe thead th {\n",
       "        text-align: right;\n",
       "    }\n",
       "</style>\n",
       "<table border=\"1\" class=\"dataframe\">\n",
       "  <thead>\n",
       "    <tr style=\"text-align: right;\">\n",
       "      <th></th>\n",
       "      <th>patid</th>\n",
       "      <th>yob</th>\n",
       "      <th>pracid</th>\n",
       "      <th>female</th>\n",
       "      <th>index_date</th>\n",
       "      <th>isCase</th>\n",
       "      <th>final dementia medcode</th>\n",
       "      <th>data_end</th>\n",
       "      <th>data_start</th>\n",
       "      <th>matchid</th>\n",
       "      <th>age_at_index_date</th>\n",
       "      <th>insomnia</th>\n",
       "      <th>insomnia_no_hypnotics</th>\n",
       "      <th>stroke</th>\n",
       "      <th>heart_failure</th>\n",
       "      <th>mental_illness</th>\n",
       "      <th>sleep_apnoea</th>\n",
       "      <th>chronic_pulmonary_disease</th>\n",
       "      <th>epilepsy</th>\n",
       "      <th>hypnotics_100_pdds</th>\n",
       "      <th>age_at_index_date:65-69</th>\n",
       "      <th>age_at_index_date:70-74</th>\n",
       "      <th>age_at_index_date:75-79</th>\n",
       "      <th>age_at_index_date:80-84</th>\n",
       "      <th>age_at_index_date:85-89</th>\n",
       "      <th>age_at_index_date:90-99</th>\n",
       "      <th>age_at_index_date:above_99</th>\n",
       "      <th>hypnotic_pdds:00000</th>\n",
       "      <th>hypnotic_pdds:00001_10</th>\n",
       "      <th>hypnotic_pdds:00011_100</th>\n",
       "      <th>hypnotic_pdds:00101_1000</th>\n",
       "      <th>hypnotic_pdds:01001_10000</th>\n",
       "      <th>hypnotic_pdds:10000_and_above</th>\n",
       "    </tr>\n",
       "  </thead>\n",
       "  <tbody>\n",
       "    <tr>\n",
       "      <th>10746</th>\n",
       "      <td>17708027.0</td>\n",
       "      <td>15.0</td>\n",
       "      <td>27.0</td>\n",
       "      <td>1.0</td>\n",
       "      <td>2007-09-26 00:00:00</td>\n",
       "      <td>0.0</td>\n",
       "      <td>NaN</td>\n",
       "      <td>2009-10-08 00:00:00</td>\n",
       "      <td>1996-01-31 00:00:00</td>\n",
       "      <td>45234.0</td>\n",
       "      <td>92.0</td>\n",
       "      <td>0.0</td>\n",
       "      <td>0.0</td>\n",
       "      <td>0.0</td>\n",
       "      <td>0.0</td>\n",
       "      <td>1.0</td>\n",
       "      <td>0.0</td>\n",
       "      <td>0.0</td>\n",
       "      <td>0.0</td>\n",
       "      <td>0.0</td>\n",
       "      <td>0.0</td>\n",
       "      <td>0.0</td>\n",
       "      <td>0.0</td>\n",
       "      <td>0.0</td>\n",
       "      <td>0.0</td>\n",
       "      <td>1.0</td>\n",
       "      <td>0.0</td>\n",
       "      <td>1.0</td>\n",
       "      <td>0.0</td>\n",
       "      <td>0.0</td>\n",
       "      <td>0.0</td>\n",
       "      <td>0.0</td>\n",
       "      <td>0.0</td>\n",
       "    </tr>\n",
       "    <tr>\n",
       "      <th>29400</th>\n",
       "      <td>6787373.0</td>\n",
       "      <td>20.0</td>\n",
       "      <td>373.0</td>\n",
       "      <td>1.0</td>\n",
       "      <td>2006-10-19 00:00:00</td>\n",
       "      <td>1.0</td>\n",
       "      <td>1350.0</td>\n",
       "      <td>2013-04-02 00:00:00</td>\n",
       "      <td>1992-11-30 00:00:00</td>\n",
       "      <td>55518.0</td>\n",
       "      <td>86.0</td>\n",
       "      <td>0.0</td>\n",
       "      <td>0.0</td>\n",
       "      <td>0.0</td>\n",
       "      <td>0.0</td>\n",
       "      <td>0.0</td>\n",
       "      <td>0.0</td>\n",
       "      <td>1.0</td>\n",
       "      <td>0.0</td>\n",
       "      <td>0.0</td>\n",
       "      <td>0.0</td>\n",
       "      <td>0.0</td>\n",
       "      <td>0.0</td>\n",
       "      <td>0.0</td>\n",
       "      <td>1.0</td>\n",
       "      <td>0.0</td>\n",
       "      <td>0.0</td>\n",
       "      <td>1.0</td>\n",
       "      <td>0.0</td>\n",
       "      <td>0.0</td>\n",
       "      <td>0.0</td>\n",
       "      <td>0.0</td>\n",
       "      <td>0.0</td>\n",
       "    </tr>\n",
       "    <tr>\n",
       "      <th>15973</th>\n",
       "      <td>18762227.0</td>\n",
       "      <td>28.0</td>\n",
       "      <td>227.0</td>\n",
       "      <td>0.0</td>\n",
       "      <td>2010-03-09 00:00:00</td>\n",
       "      <td>1.0</td>\n",
       "      <td>8634.0</td>\n",
       "      <td>2011-08-04 00:00:00</td>\n",
       "      <td>1996-10-31 00:00:00</td>\n",
       "      <td>34845.0</td>\n",
       "      <td>82.0</td>\n",
       "      <td>0.0</td>\n",
       "      <td>0.0</td>\n",
       "      <td>1.0</td>\n",
       "      <td>0.0</td>\n",
       "      <td>0.0</td>\n",
       "      <td>0.0</td>\n",
       "      <td>0.0</td>\n",
       "      <td>0.0</td>\n",
       "      <td>0.0</td>\n",
       "      <td>0.0</td>\n",
       "      <td>0.0</td>\n",
       "      <td>0.0</td>\n",
       "      <td>1.0</td>\n",
       "      <td>0.0</td>\n",
       "      <td>0.0</td>\n",
       "      <td>0.0</td>\n",
       "      <td>1.0</td>\n",
       "      <td>0.0</td>\n",
       "      <td>0.0</td>\n",
       "      <td>0.0</td>\n",
       "      <td>0.0</td>\n",
       "      <td>0.0</td>\n",
       "    </tr>\n",
       "    <tr>\n",
       "      <th>12941</th>\n",
       "      <td>13078075.0</td>\n",
       "      <td>28.0</td>\n",
       "      <td>75.0</td>\n",
       "      <td>1.0</td>\n",
       "      <td>2009-03-03 00:00:00</td>\n",
       "      <td>1.0</td>\n",
       "      <td>NaN</td>\n",
       "      <td>2011-03-15 00:00:00</td>\n",
       "      <td>1997-01-31 00:00:00</td>\n",
       "      <td>9959.0</td>\n",
       "      <td>81.0</td>\n",
       "      <td>0.0</td>\n",
       "      <td>0.0</td>\n",
       "      <td>0.0</td>\n",
       "      <td>0.0</td>\n",
       "      <td>0.0</td>\n",
       "      <td>0.0</td>\n",
       "      <td>0.0</td>\n",
       "      <td>0.0</td>\n",
       "      <td>0.0</td>\n",
       "      <td>0.0</td>\n",
       "      <td>0.0</td>\n",
       "      <td>0.0</td>\n",
       "      <td>1.0</td>\n",
       "      <td>0.0</td>\n",
       "      <td>0.0</td>\n",
       "      <td>0.0</td>\n",
       "      <td>1.0</td>\n",
       "      <td>0.0</td>\n",
       "      <td>0.0</td>\n",
       "      <td>0.0</td>\n",
       "      <td>0.0</td>\n",
       "      <td>0.0</td>\n",
       "    </tr>\n",
       "    <tr>\n",
       "      <th>5720</th>\n",
       "      <td>1245350.0</td>\n",
       "      <td>17.0</td>\n",
       "      <td>350.0</td>\n",
       "      <td>1.0</td>\n",
       "      <td>2005-07-04 00:00:00</td>\n",
       "      <td>1.0</td>\n",
       "      <td>1917.0</td>\n",
       "      <td>2006-01-06 00:00:00</td>\n",
       "      <td>1993-01-31 00:00:00</td>\n",
       "      <td>52661.0</td>\n",
       "      <td>88.0</td>\n",
       "      <td>0.0</td>\n",
       "      <td>0.0</td>\n",
       "      <td>0.0</td>\n",
       "      <td>1.0</td>\n",
       "      <td>0.0</td>\n",
       "      <td>0.0</td>\n",
       "      <td>0.0</td>\n",
       "      <td>0.0</td>\n",
       "      <td>0.0</td>\n",
       "      <td>0.0</td>\n",
       "      <td>0.0</td>\n",
       "      <td>0.0</td>\n",
       "      <td>0.0</td>\n",
       "      <td>1.0</td>\n",
       "      <td>0.0</td>\n",
       "      <td>0.0</td>\n",
       "      <td>1.0</td>\n",
       "      <td>0.0</td>\n",
       "      <td>0.0</td>\n",
       "      <td>0.0</td>\n",
       "      <td>0.0</td>\n",
       "      <td>0.0</td>\n",
       "    </tr>\n",
       "  </tbody>\n",
       "</table>\n",
       "</div>"
      ],
      "text/plain": [
       "            patid   yob  pracid  female           index_date  isCase  \\\n",
       "10746  17708027.0  15.0    27.0     1.0  2007-09-26 00:00:00     0.0   \n",
       "29400   6787373.0  20.0   373.0     1.0  2006-10-19 00:00:00     1.0   \n",
       "15973  18762227.0  28.0   227.0     0.0  2010-03-09 00:00:00     1.0   \n",
       "12941  13078075.0  28.0    75.0     1.0  2009-03-03 00:00:00     1.0   \n",
       "5720    1245350.0  17.0   350.0     1.0  2005-07-04 00:00:00     1.0   \n",
       "\n",
       "       final dementia medcode             data_end           data_start  \\\n",
       "10746                     NaN  2009-10-08 00:00:00  1996-01-31 00:00:00   \n",
       "29400                  1350.0  2013-04-02 00:00:00  1992-11-30 00:00:00   \n",
       "15973                  8634.0  2011-08-04 00:00:00  1996-10-31 00:00:00   \n",
       "12941                     NaN  2011-03-15 00:00:00  1997-01-31 00:00:00   \n",
       "5720                   1917.0  2006-01-06 00:00:00  1993-01-31 00:00:00   \n",
       "\n",
       "       matchid  age_at_index_date  insomnia  insomnia_no_hypnotics  stroke  \\\n",
       "10746  45234.0               92.0       0.0                    0.0     0.0   \n",
       "29400  55518.0               86.0       0.0                    0.0     0.0   \n",
       "15973  34845.0               82.0       0.0                    0.0     1.0   \n",
       "12941   9959.0               81.0       0.0                    0.0     0.0   \n",
       "5720   52661.0               88.0       0.0                    0.0     0.0   \n",
       "\n",
       "       heart_failure  mental_illness  sleep_apnoea  chronic_pulmonary_disease  \\\n",
       "10746            0.0             1.0           0.0                        0.0   \n",
       "29400            0.0             0.0           0.0                        1.0   \n",
       "15973            0.0             0.0           0.0                        0.0   \n",
       "12941            0.0             0.0           0.0                        0.0   \n",
       "5720             1.0             0.0           0.0                        0.0   \n",
       "\n",
       "       epilepsy  hypnotics_100_pdds  age_at_index_date:65-69  \\\n",
       "10746       0.0                 0.0                      0.0   \n",
       "29400       0.0                 0.0                      0.0   \n",
       "15973       0.0                 0.0                      0.0   \n",
       "12941       0.0                 0.0                      0.0   \n",
       "5720        0.0                 0.0                      0.0   \n",
       "\n",
       "       age_at_index_date:70-74  age_at_index_date:75-79  \\\n",
       "10746                      0.0                      0.0   \n",
       "29400                      0.0                      0.0   \n",
       "15973                      0.0                      0.0   \n",
       "12941                      0.0                      0.0   \n",
       "5720                       0.0                      0.0   \n",
       "\n",
       "       age_at_index_date:80-84  age_at_index_date:85-89  \\\n",
       "10746                      0.0                      0.0   \n",
       "29400                      0.0                      1.0   \n",
       "15973                      1.0                      0.0   \n",
       "12941                      1.0                      0.0   \n",
       "5720                       0.0                      1.0   \n",
       "\n",
       "       age_at_index_date:90-99  age_at_index_date:above_99  \\\n",
       "10746                      1.0                         0.0   \n",
       "29400                      0.0                         0.0   \n",
       "15973                      0.0                         0.0   \n",
       "12941                      0.0                         0.0   \n",
       "5720                       0.0                         0.0   \n",
       "\n",
       "       hypnotic_pdds:00000  hypnotic_pdds:00001_10  hypnotic_pdds:00011_100  \\\n",
       "10746                  1.0                     0.0                      0.0   \n",
       "29400                  1.0                     0.0                      0.0   \n",
       "15973                  1.0                     0.0                      0.0   \n",
       "12941                  1.0                     0.0                      0.0   \n",
       "5720                   1.0                     0.0                      0.0   \n",
       "\n",
       "       hypnotic_pdds:00101_1000  hypnotic_pdds:01001_10000  \\\n",
       "10746                       0.0                        0.0   \n",
       "29400                       0.0                        0.0   \n",
       "15973                       0.0                        0.0   \n",
       "12941                       0.0                        0.0   \n",
       "5720                        0.0                        0.0   \n",
       "\n",
       "       hypnotic_pdds:10000_and_above  \n",
       "10746                            0.0  \n",
       "29400                            0.0  \n",
       "15973                            0.0  \n",
       "12941                            0.0  \n",
       "5720                             0.0  "
      ]
     },
     "execution_count": 20,
     "metadata": {},
     "output_type": "execute_result"
    }
   ],
   "source": [
    "pt_features.sample(5)"
   ]
  },
  {
   "cell_type": "code",
   "execution_count": 21,
   "metadata": {},
   "outputs": [],
   "source": [
    "columns_for_inclusion = [\n",
    "    'age_at_index_date',\n",
    "    'female',\n",
    "    'stroke',\n",
    "    'heart_failure',\n",
    "    'mental_illness',\n",
    "    'sleep_apnoea', \n",
    "    'chronic_pulmonary_disease', \n",
    "#     'epilepsy',\n",
    "    'hypnotics_100_pdds',\n",
    "    'insomnia'\n",
    "    \n",
    "]"
   ]
  },
  {
   "cell_type": "markdown",
   "metadata": {},
   "source": [
    "## Insomnia consultations"
   ]
  },
  {
   "cell_type": "markdown",
   "metadata": {},
   "source": [
    "### insomnia yes/no"
   ]
  },
  {
   "cell_type": "code",
   "execution_count": 22,
   "metadata": {},
   "outputs": [],
   "source": [
    "# workaround for deprecated chisqprob function in statsmodels\n",
    "stats.chisqprob = lambda chisq, df: stats.chi2.sf(chisq, df) "
   ]
  },
  {
   "cell_type": "code",
   "execution_count": 23,
   "metadata": {},
   "outputs": [
    {
     "name": "stdout",
     "output_type": "stream",
     "text": [
      "female  being retained as mean > 0\n",
      "age_at_index_date  being retained as mean > 0\n",
      "insomnia  being retained as mean > 0\n",
      "stroke  being retained as mean > 0\n",
      "heart_failure  being retained as mean > 0\n",
      "mental_illness  being retained as mean > 0\n",
      "sleep_apnoea  being retained as mean > 0\n",
      "chronic_pulmonary_disease  being retained as mean > 0\n",
      "hypnotics_100_pdds  being retained as mean > 0\n",
      "\n",
      "\n"
     ]
    }
   ],
   "source": [
    "training_cols = [col for col in pt_features.columns if col in columns_for_inclusion]\n",
    "summary_table,univariate_and_multivariate_results_formatted = calculate_univariate_and_multivariate_ORs(pt_features,covariates=training_cols,main_variables=columns_for_inclusion)"
   ]
  },
  {
   "cell_type": "code",
   "execution_count": 24,
   "metadata": {},
   "outputs": [
    {
     "data": {
      "text/html": [
       "<div>\n",
       "<style scoped>\n",
       "    .dataframe tbody tr th:only-of-type {\n",
       "        vertical-align: middle;\n",
       "    }\n",
       "\n",
       "    .dataframe tbody tr th {\n",
       "        vertical-align: top;\n",
       "    }\n",
       "\n",
       "    .dataframe thead th {\n",
       "        text-align: right;\n",
       "    }\n",
       "</style>\n",
       "<table border=\"1\" class=\"dataframe\">\n",
       "  <thead>\n",
       "    <tr style=\"text-align: right;\">\n",
       "      <th></th>\n",
       "      <th>Univariate OR</th>\n",
       "      <th>Multivariate OR</th>\n",
       "    </tr>\n",
       "  </thead>\n",
       "  <tbody>\n",
       "    <tr>\n",
       "      <th>Age at index date</th>\n",
       "      <td>1.00, (1.00, 1.00), P=1.000</td>\n",
       "      <td>1.00, (1.00, 1.00), P=1.000</td>\n",
       "    </tr>\n",
       "    <tr>\n",
       "      <th>Chronic pulmonary disease</th>\n",
       "      <td>1.37, (1.30, 1.45), P=0.000</td>\n",
       "      <td>1.39, (1.31, 1.47), P=0.000</td>\n",
       "    </tr>\n",
       "    <tr>\n",
       "      <th>Female</th>\n",
       "      <td>1.00, (0.97, 1.03), P=0.994</td>\n",
       "      <td>0.95, (0.90, 0.99), P=0.994</td>\n",
       "    </tr>\n",
       "    <tr>\n",
       "      <th>Heart failure</th>\n",
       "      <td>1.26, (1.14, 1.39), P=0.000</td>\n",
       "      <td>1.17, (1.05, 1.29), P=0.000</td>\n",
       "    </tr>\n",
       "    <tr>\n",
       "      <th>Hypnotics (100 PDDs)</th>\n",
       "      <td>1.02, (1.01, 1.03), P=0.000</td>\n",
       "      <td>1.01, (1.00, 1.01), P=0.000</td>\n",
       "    </tr>\n",
       "    <tr>\n",
       "      <th>Insomnia</th>\n",
       "      <td>1.38, (1.30, 1.46), P=0.000</td>\n",
       "      <td>1.17, (1.09, 1.26), P=0.000</td>\n",
       "    </tr>\n",
       "    <tr>\n",
       "      <th>Mental illness</th>\n",
       "      <td>1.58, (1.51, 1.64), P=0.000</td>\n",
       "      <td>1.80, (1.71, 1.89), P=0.000</td>\n",
       "    </tr>\n",
       "    <tr>\n",
       "      <th>Sleep apnoea</th>\n",
       "      <td>1.37, (0.76, 2.47), P=0.299</td>\n",
       "      <td>1.02, (0.56, 1.87), P=0.299</td>\n",
       "    </tr>\n",
       "    <tr>\n",
       "      <th>Stroke</th>\n",
       "      <td>1.48, (1.38, 1.60), P=0.000</td>\n",
       "      <td>1.46, (1.34, 1.58), P=0.000</td>\n",
       "    </tr>\n",
       "  </tbody>\n",
       "</table>\n",
       "</div>"
      ],
      "text/plain": [
       "                                         Univariate OR  \\\n",
       "Age at index date          1.00, (1.00, 1.00), P=1.000   \n",
       "Chronic pulmonary disease  1.37, (1.30, 1.45), P=0.000   \n",
       "Female                     1.00, (0.97, 1.03), P=0.994   \n",
       "Heart failure              1.26, (1.14, 1.39), P=0.000   \n",
       "Hypnotics (100 PDDs)       1.02, (1.01, 1.03), P=0.000   \n",
       "Insomnia                   1.38, (1.30, 1.46), P=0.000   \n",
       "Mental illness             1.58, (1.51, 1.64), P=0.000   \n",
       "Sleep apnoea               1.37, (0.76, 2.47), P=0.299   \n",
       "Stroke                     1.48, (1.38, 1.60), P=0.000   \n",
       "\n",
       "                                       Multivariate OR  \n",
       "Age at index date          1.00, (1.00, 1.00), P=1.000  \n",
       "Chronic pulmonary disease  1.39, (1.31, 1.47), P=0.000  \n",
       "Female                     0.95, (0.90, 0.99), P=0.994  \n",
       "Heart failure              1.17, (1.05, 1.29), P=0.000  \n",
       "Hypnotics (100 PDDs)       1.01, (1.00, 1.01), P=0.000  \n",
       "Insomnia                   1.17, (1.09, 1.26), P=0.000  \n",
       "Mental illness             1.80, (1.71, 1.89), P=0.000  \n",
       "Sleep apnoea               1.02, (0.56, 1.87), P=0.299  \n",
       "Stroke                     1.46, (1.34, 1.58), P=0.000  "
      ]
     },
     "execution_count": 24,
     "metadata": {},
     "output_type": "execute_result"
    }
   ],
   "source": [
    "univariate_and_multivariate_results_formatted"
   ]
  },
  {
   "cell_type": "code",
   "execution_count": 25,
   "metadata": {},
   "outputs": [
    {
     "data": {
      "text/html": [
       "<table class=\"simpletable\">\n",
       "<caption>Logit Regression Results</caption>\n",
       "<tr>\n",
       "  <th>Dep. Variable:</th>      <td>isCase</td>      <th>  No. Observations:  </th>   <td> 30419</td>  \n",
       "</tr>\n",
       "<tr>\n",
       "  <th>Model:</th>               <td>Logit</td>      <th>  Df Residuals:      </th>   <td> 30410</td>  \n",
       "</tr>\n",
       "<tr>\n",
       "  <th>Method:</th>               <td>MLE</td>       <th>  Df Model:          </th>   <td>     8</td>  \n",
       "</tr>\n",
       "<tr>\n",
       "  <th>Date:</th>          <td>Thu, 24 May 2018</td> <th>  Pseudo R-squ.:     </th>   <td>0.02242</td> \n",
       "</tr>\n",
       "<tr>\n",
       "  <th>Time:</th>              <td>13:36:34</td>     <th>  Log-Likelihood:    </th>  <td> -20612.</td> \n",
       "</tr>\n",
       "<tr>\n",
       "  <th>converged:</th>           <td>True</td>       <th>  LL-Null:           </th>  <td> -21085.</td> \n",
       "</tr>\n",
       "<tr>\n",
       "  <th> </th>                      <td> </td>        <th>  LLR p-value:       </th> <td>8.709e-199</td>\n",
       "</tr>\n",
       "</table>"
      ],
      "text/plain": [
       "<class 'statsmodels.iolib.table.SimpleTable'>"
      ]
     },
     "execution_count": 25,
     "metadata": {},
     "output_type": "execute_result"
    }
   ],
   "source": [
    "summary_table"
   ]
  },
  {
   "cell_type": "code",
   "execution_count": null,
   "metadata": {},
   "outputs": [],
   "source": []
  },
  {
   "cell_type": "code",
   "execution_count": null,
   "metadata": {},
   "outputs": [],
   "source": []
  },
  {
   "cell_type": "code",
   "execution_count": null,
   "metadata": {},
   "outputs": [],
   "source": []
  },
  {
   "cell_type": "code",
   "execution_count": null,
   "metadata": {},
   "outputs": [],
   "source": []
  }
 ],
 "metadata": {
  "kernelspec": {
   "display_name": "toadkern",
   "language": "python",
   "name": "toadkern"
  },
  "language_info": {
   "codemirror_mode": {
    "name": "ipython",
    "version": 3
   },
   "file_extension": ".py",
   "mimetype": "text/x-python",
   "name": "python",
   "nbconvert_exporter": "python",
   "pygments_lexer": "ipython3",
   "version": "3.6.4"
  }
 },
 "nbformat": 4,
 "nbformat_minor": 2
}
