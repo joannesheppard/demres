{
 "cells": [
  {
   "cell_type": "code",
   "execution_count": 4,
   "metadata": {
    "collapsed": true
   },
   "outputs": [],
   "source": [
    "%load_ext autoreload\n",
    "%autoreload 2"
   ]
  },
  {
   "cell_type": "code",
   "execution_count": 5,
   "metadata": {
    "collapsed": false
   },
   "outputs": [
    {
     "name": "stdout",
     "output_type": "stream",
     "text": [
      "/Users/zurfarosa/demres\n"
     ]
    }
   ],
   "source": [
    "cd ~/demres"
   ]
  },
  {
   "cell_type": "code",
   "execution_count": 10,
   "metadata": {
    "collapsed": false
   },
   "outputs": [],
   "source": [
    "import os\n",
    "import sys\n",
    "\n",
    "module_path = os.path.abspath(os.path.join('..'))\n",
    "if module_path not in sys.path:\n",
    "    sys.path.append(module_path)\n",
    "\n",
    "import pandas as pd\n",
    "import numpy as np\n",
    "import statsmodels.api as sm\n",
    "import pylab as pl\n",
    "from datetime import date, timedelta\n",
    "\n",
    "import demres\n",
    "from demres.common.constants import entry_type\n",
    "from demres.common import codelists\n",
    "from demres.common.helper_functions import *"
   ]
  },
  {
   "cell_type": "code",
   "execution_count": 8,
   "metadata": {
    "collapsed": true
   },
   "outputs": [],
   "source": [
    "pt_features = pd.read_csv('data/pt_data/processed_data/pt_features_demins.csv',delimiter=',',parse_dates=['index_date','data_end','data_start'],infer_datetime_format=True)"
   ]
  },
  {
   "cell_type": "code",
   "execution_count": 9,
   "metadata": {
    "collapsed": false
   },
   "outputs": [
    {
     "data": {
      "text/html": [
       "<div>\n",
       "<table border=\"1\" class=\"dataframe\">\n",
       "  <thead>\n",
       "    <tr style=\"text-align: right;\">\n",
       "      <th></th>\n",
       "      <th>patid</th>\n",
       "      <th>gender</th>\n",
       "      <th>yob</th>\n",
       "      <th>pracid</th>\n",
       "      <th>index_date</th>\n",
       "      <th>isCase</th>\n",
       "      <th>final dementia medcode</th>\n",
       "      <th>data_start</th>\n",
       "      <th>data_end</th>\n",
       "      <th>matchid</th>\n",
       "      <th>insom_count_window0</th>\n",
       "      <th>insom_count_window1</th>\n",
       "      <th>insom_count_window2</th>\n",
       "    </tr>\n",
       "  </thead>\n",
       "  <tbody>\n",
       "    <tr>\n",
       "      <th>0</th>\n",
       "      <td>12440330</td>\n",
       "      <td>2</td>\n",
       "      <td>1925</td>\n",
       "      <td>330</td>\n",
       "      <td>2010-03-30</td>\n",
       "      <td>True</td>\n",
       "      <td>4693.0</td>\n",
       "      <td>2000-03-22</td>\n",
       "      <td>2010-04-09</td>\n",
       "      <td>50163.0</td>\n",
       "      <td>0</td>\n",
       "      <td>0</td>\n",
       "      <td>0</td>\n",
       "    </tr>\n",
       "    <tr>\n",
       "      <th>1</th>\n",
       "      <td>16055443</td>\n",
       "      <td>2</td>\n",
       "      <td>1927</td>\n",
       "      <td>443</td>\n",
       "      <td>2010-12-20</td>\n",
       "      <td>True</td>\n",
       "      <td>1350.0</td>\n",
       "      <td>2000-12-15</td>\n",
       "      <td>2011-01-13</td>\n",
       "      <td>65618.0</td>\n",
       "      <td>0</td>\n",
       "      <td>0</td>\n",
       "      <td>0</td>\n",
       "    </tr>\n",
       "    <tr>\n",
       "      <th>2</th>\n",
       "      <td>2994148</td>\n",
       "      <td>2</td>\n",
       "      <td>1919</td>\n",
       "      <td>148</td>\n",
       "      <td>2007-02-15</td>\n",
       "      <td>True</td>\n",
       "      <td>1916.0</td>\n",
       "      <td>1997-01-20</td>\n",
       "      <td>2007-02-21</td>\n",
       "      <td>21685.0</td>\n",
       "      <td>0</td>\n",
       "      <td>1</td>\n",
       "      <td>1</td>\n",
       "    </tr>\n",
       "    <tr>\n",
       "      <th>3</th>\n",
       "      <td>4552183</td>\n",
       "      <td>1</td>\n",
       "      <td>1939</td>\n",
       "      <td>183</td>\n",
       "      <td>2010-09-29</td>\n",
       "      <td>True</td>\n",
       "      <td>26270.0</td>\n",
       "      <td>2000-09-22</td>\n",
       "      <td>2010-10-28</td>\n",
       "      <td>27826.0</td>\n",
       "      <td>0</td>\n",
       "      <td>0</td>\n",
       "      <td>0</td>\n",
       "    </tr>\n",
       "    <tr>\n",
       "      <th>4</th>\n",
       "      <td>6726262</td>\n",
       "      <td>1</td>\n",
       "      <td>1933</td>\n",
       "      <td>262</td>\n",
       "      <td>2007-02-23</td>\n",
       "      <td>True</td>\n",
       "      <td>9509.0</td>\n",
       "      <td>1997-02-09</td>\n",
       "      <td>2007-03-23</td>\n",
       "      <td>40443.0</td>\n",
       "      <td>0</td>\n",
       "      <td>0</td>\n",
       "      <td>0</td>\n",
       "    </tr>\n",
       "  </tbody>\n",
       "</table>\n",
       "</div>"
      ],
      "text/plain": [
       "      patid  gender   yob  pracid index_date isCase  final dementia medcode  \\\n",
       "0  12440330       2  1925     330 2010-03-30   True                  4693.0   \n",
       "1  16055443       2  1927     443 2010-12-20   True                  1350.0   \n",
       "2   2994148       2  1919     148 2007-02-15   True                  1916.0   \n",
       "3   4552183       1  1939     183 2010-09-29   True                 26270.0   \n",
       "4   6726262       1  1933     262 2007-02-23   True                  9509.0   \n",
       "\n",
       "  data_start   data_end  matchid  insom_count_window0  insom_count_window1  \\\n",
       "0 2000-03-22 2010-04-09  50163.0                    0                    0   \n",
       "1 2000-12-15 2011-01-13  65618.0                    0                    0   \n",
       "2 1997-01-20 2007-02-21  21685.0                    0                    1   \n",
       "3 2000-09-22 2010-10-28  27826.0                    0                    0   \n",
       "4 1997-02-09 2007-03-23  40443.0                    0                    0   \n",
       "\n",
       "   insom_count_window2  \n",
       "0                    0  \n",
       "1                    0  \n",
       "2                    1  \n",
       "3                    0  \n",
       "4                    0  "
      ]
     },
     "execution_count": 9,
     "metadata": {},
     "output_type": "execute_result"
    }
   ],
   "source": [
    "pt_features.head(5)"
   ]
  },
  {
   "cell_type": "code",
   "execution_count": null,
   "metadata": {
    "collapsed": true
   },
   "outputs": [],
   "source": []
  }
 ],
 "metadata": {
  "kernelspec": {
   "display_name": "demres_kernel",
   "language": "python",
   "name": "demres_kernel"
  },
  "language_info": {
   "codemirror_mode": {
    "name": "ipython",
    "version": 3
   },
   "file_extension": ".py",
   "mimetype": "text/x-python",
   "name": "python",
   "nbconvert_exporter": "python",
   "pygments_lexer": "ipython3",
   "version": "3.5.0"
  }
 },
 "nbformat": 4,
 "nbformat_minor": 2
}
