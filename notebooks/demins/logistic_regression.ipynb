{
 "cells": [
  {
   "cell_type": "code",
   "execution_count": 9,
   "metadata": {
    "collapsed": false,
    "deletable": true,
    "editable": true
   },
   "outputs": [
    {
     "name": "stdout",
     "output_type": "stream",
     "text": [
      "The autoreload extension is already loaded. To reload it, use:\n",
      "  %reload_ext autoreload\n"
     ]
    }
   ],
   "source": [
    "%load_ext autoreload\n",
    "%autoreload 2"
   ]
  },
  {
   "cell_type": "code",
   "execution_count": 10,
   "metadata": {
    "collapsed": false,
    "deletable": true,
    "editable": true
   },
   "outputs": [
    {
     "name": "stdout",
     "output_type": "stream",
     "text": [
      "/Users/zurfarosa/demres\n"
     ]
    }
   ],
   "source": [
    "cd ~/demres"
   ]
  },
  {
   "cell_type": "code",
   "execution_count": 11,
   "metadata": {
    "collapsed": false,
    "deletable": true,
    "editable": true
   },
   "outputs": [],
   "source": [
    "import os\n",
    "import sys\n",
    "\n",
    "module_path = os.path.abspath(os.path.join('..'))\n",
    "if module_path not in sys.path:\n",
    "    sys.path.append(module_path)\n",
    "\n",
    "import pandas as pd\n",
    "import numpy as np\n",
    "import statsmodels.api as sm\n",
    "from statsmodels.tools.tools import add_constant\n",
    "import pylab as pl\n",
    "from datetime import date, timedelta\n",
    "\n",
    "import demres\n",
    "from demres.common.constants import entry_type\n",
    "from demres.demins.constants import Study_Design as sd\n",
    "from demres.common import codelists\n",
    "from demres.common.helper_functions import *\n",
    "from demres.demins.statistical_functions import *"
   ]
  },
  {
   "cell_type": "code",
   "execution_count": 12,
   "metadata": {
    "collapsed": false,
    "deletable": true,
    "editable": true
   },
   "outputs": [],
   "source": [
    "pd.set_option('display.max_columns', None)"
   ]
  },
  {
   "cell_type": "markdown",
   "metadata": {
    "deletable": true,
    "editable": true
   },
   "source": [
    "## Specifiy dementia subtype"
   ]
  },
  {
   "cell_type": "code",
   "execution_count": 13,
   "metadata": {
    "collapsed": true,
    "deletable": true,
    "editable": true
   },
   "outputs": [],
   "source": [
    "subtype = 'all_dementia' # options: 'alzheimers', 'vascular','all_dementia'"
   ]
  },
  {
   "cell_type": "markdown",
   "metadata": {},
   "source": [
    "## Specify exposure window"
   ]
  },
  {
   "cell_type": "code",
   "execution_count": 20,
   "metadata": {
    "collapsed": true
   },
   "outputs": [],
   "source": [
    "window = '12_to_7' #options: '12_to_7','10_to_5','8_to_3'"
   ]
  },
  {
   "cell_type": "markdown",
   "metadata": {
    "deletable": true,
    "editable": true
   },
   "source": [
    "## Load relevant dataframe and create intercept"
   ]
  },
  {
   "cell_type": "code",
   "execution_count": 21,
   "metadata": {
    "collapsed": false,
    "deletable": true,
    "editable": true
   },
   "outputs": [],
   "source": [
    "pt_features = pd.read_csv('data/pt_data/processed_data/pt_features_demins_' + subtype + '_' + window +'.csv',delimiter=',',parse_dates=['index_date','data_end','data_start'],infer_datetime_format=True)"
   ]
  },
  {
   "cell_type": "code",
   "execution_count": 22,
   "metadata": {
    "collapsed": false,
    "deletable": true,
    "editable": true
   },
   "outputs": [
    {
     "data": {
      "text/plain": [
       "Index(['patid', 'gender', 'yob', 'pracid', 'index_date', 'isCase',\n",
       "       'final dementia medcode', 'data_start', 'data_end', 'matchid',\n",
       "       'age_at_index_date', 'insomnia', 'insomnia_consultations', 'stroke',\n",
       "       'intellectual_disability',\n",
       "       'CHD_heart_failure_and_peripheral_vascular_disease', 'hypertension',\n",
       "       'diabetes', 'clin_sig_alcohol_use', 'mental_illness_non_smi',\n",
       "       'mental_illness_smi', 'sleep_apnoea', 'current_smoker',\n",
       "       'chronic_pulmonary_disease', 'CKD', 'mood_stabilisers_100_pdds',\n",
       "       'benzo_and_z_drugs_100_pdds', 'other_sedatives_100_pdds',\n",
       "       'fgas_100_pdds', 'sgas_100_pdds', 'sga_depots_100_pdds',\n",
       "       'fga_depots_100_pdds', 'antidepressants_100_pdds',\n",
       "       'non_insomnia_GP_consultations'],\n",
       "      dtype='object')"
      ]
     },
     "execution_count": 22,
     "metadata": {},
     "output_type": "execute_result"
    }
   ],
   "source": [
    "pt_features.columns"
   ]
  },
  {
   "cell_type": "code",
   "execution_count": 23,
   "metadata": {
    "collapsed": false,
    "deletable": true,
    "editable": true
   },
   "outputs": [],
   "source": [
    "pt_features['intercept'] = 1.0"
   ]
  },
  {
   "cell_type": "markdown",
   "metadata": {
    "deletable": true,
    "editable": true
   },
   "source": [
    "## Insomnia consultations"
   ]
  },
  {
   "cell_type": "code",
   "execution_count": 26,
   "metadata": {
    "collapsed": false
   },
   "outputs": [],
   "source": [
    "columns_not_for_inclusion = [\n",
    "        'patid', 'yob', 'pracid', 'index_date', 'isCase',\n",
    "       'final dementia medcode', 'data_start', 'data_end', 'matchid',\n",
    "       'insomnia',\n",
    "       'benzo_and_z_drugs_100_pdds'\n",
    "]\n",
    "\n",
    "training_cols = [col for col in pt_features.columns if col not in columns_not_for_inclusion]\n",
    "# training_cols\n",
    "training_cols.insert(0, training_cols.pop(training_cols.index('insomnia_consultations')))"
   ]
  },
  {
   "cell_type": "code",
   "execution_count": 28,
   "metadata": {
    "collapsed": false,
    "deletable": true,
    "editable": true
   },
   "outputs": [
    {
     "name": "stdout",
     "output_type": "stream",
     "text": [
      "Optimization terminated successfully.\n",
      "         Current function value: 0.684681\n",
      "         Iterations 7\n"
     ]
    }
   ],
   "source": [
    "univariate_results, multivariate_results,multivariate_summary = get_univariate_and_multivariate_results(pt_features,training_cols)"
   ]
  },
  {
   "cell_type": "markdown",
   "metadata": {
    "deletable": true,
    "editable": true
   },
   "source": [
    "### *Univariate results*"
   ]
  },
  {
   "cell_type": "code",
   "execution_count": 29,
   "metadata": {
    "collapsed": false,
    "deletable": true,
    "editable": true
   },
   "outputs": [
    {
     "data": {
      "text/html": [
       "<div>\n",
       "<table border=\"1\" class=\"dataframe\">\n",
       "  <thead>\n",
       "    <tr style=\"text-align: right;\">\n",
       "      <th></th>\n",
       "      <th>odds_ratio</th>\n",
       "      <th>p_value</th>\n",
       "    </tr>\n",
       "  </thead>\n",
       "  <tbody>\n",
       "    <tr>\n",
       "      <th>insomnia_consultations</th>\n",
       "      <td>1.0633</td>\n",
       "      <td>0.003</td>\n",
       "    </tr>\n",
       "    <tr>\n",
       "      <th>gender</th>\n",
       "      <td>1.0000</td>\n",
       "      <td>1.000</td>\n",
       "    </tr>\n",
       "    <tr>\n",
       "      <th>age_at_index_date</th>\n",
       "      <td>1.0000</td>\n",
       "      <td>1.000</td>\n",
       "    </tr>\n",
       "    <tr>\n",
       "      <th>stroke</th>\n",
       "      <td>1.2961</td>\n",
       "      <td>0.003</td>\n",
       "    </tr>\n",
       "    <tr>\n",
       "      <th>CHD_heart_failure_and_peripheral_vascular_disease</th>\n",
       "      <td>1.0746</td>\n",
       "      <td>0.152</td>\n",
       "    </tr>\n",
       "    <tr>\n",
       "      <th>hypertension</th>\n",
       "      <td>0.9189</td>\n",
       "      <td>0.026</td>\n",
       "    </tr>\n",
       "    <tr>\n",
       "      <th>diabetes</th>\n",
       "      <td>1.2102</td>\n",
       "      <td>0.010</td>\n",
       "    </tr>\n",
       "    <tr>\n",
       "      <th>mental_illness_non_smi</th>\n",
       "      <td>1.3423</td>\n",
       "      <td>0.000</td>\n",
       "    </tr>\n",
       "    <tr>\n",
       "      <th>mental_illness_smi</th>\n",
       "      <td>1.6162</td>\n",
       "      <td>0.000</td>\n",
       "    </tr>\n",
       "    <tr>\n",
       "      <th>current_smoker</th>\n",
       "      <td>1.0290</td>\n",
       "      <td>0.612</td>\n",
       "    </tr>\n",
       "    <tr>\n",
       "      <th>chronic_pulmonary_disease</th>\n",
       "      <td>1.1185</td>\n",
       "      <td>0.130</td>\n",
       "    </tr>\n",
       "    <tr>\n",
       "      <th>mood_stabilisers_100_pdds</th>\n",
       "      <td>1.0327</td>\n",
       "      <td>0.000</td>\n",
       "    </tr>\n",
       "    <tr>\n",
       "      <th>other_sedatives_100_pdds</th>\n",
       "      <td>1.0060</td>\n",
       "      <td>0.585</td>\n",
       "    </tr>\n",
       "    <tr>\n",
       "      <th>fgas_100_pdds</th>\n",
       "      <td>1.0195</td>\n",
       "      <td>0.073</td>\n",
       "    </tr>\n",
       "    <tr>\n",
       "      <th>sgas_100_pdds</th>\n",
       "      <td>1.1763</td>\n",
       "      <td>0.035</td>\n",
       "    </tr>\n",
       "    <tr>\n",
       "      <th>antidepressants_100_pdds</th>\n",
       "      <td>1.0205</td>\n",
       "      <td>0.000</td>\n",
       "    </tr>\n",
       "    <tr>\n",
       "      <th>non_insomnia_GP_consultations</th>\n",
       "      <td>1.0005</td>\n",
       "      <td>0.000</td>\n",
       "    </tr>\n",
       "    <tr>\n",
       "      <th>intercept</th>\n",
       "      <td>1.0000</td>\n",
       "      <td>1.000</td>\n",
       "    </tr>\n",
       "  </tbody>\n",
       "</table>\n",
       "</div>"
      ],
      "text/plain": [
       "                                                   odds_ratio  p_value\n",
       "insomnia_consultations                                 1.0633    0.003\n",
       "gender                                                 1.0000    1.000\n",
       "age_at_index_date                                      1.0000    1.000\n",
       "stroke                                                 1.2961    0.003\n",
       "CHD_heart_failure_and_peripheral_vascular_disease      1.0746    0.152\n",
       "hypertension                                           0.9189    0.026\n",
       "diabetes                                               1.2102    0.010\n",
       "mental_illness_non_smi                                 1.3423    0.000\n",
       "mental_illness_smi                                     1.6162    0.000\n",
       "current_smoker                                         1.0290    0.612\n",
       "chronic_pulmonary_disease                              1.1185    0.130\n",
       "mood_stabilisers_100_pdds                              1.0327    0.000\n",
       "other_sedatives_100_pdds                               1.0060    0.585\n",
       "fgas_100_pdds                                          1.0195    0.073\n",
       "sgas_100_pdds                                          1.1763    0.035\n",
       "antidepressants_100_pdds                               1.0205    0.000\n",
       "non_insomnia_GP_consultations                          1.0005    0.000\n",
       "intercept                                              1.0000    1.000"
      ]
     },
     "execution_count": 29,
     "metadata": {},
     "output_type": "execute_result"
    }
   ],
   "source": [
    "univariate_results"
   ]
  },
  {
   "cell_type": "markdown",
   "metadata": {
    "deletable": true,
    "editable": true
   },
   "source": [
    "### *Multivariate results*"
   ]
  },
  {
   "cell_type": "code",
   "execution_count": 30,
   "metadata": {
    "collapsed": false,
    "deletable": true,
    "editable": true
   },
   "outputs": [
    {
     "data": {
      "text/html": [
       "<div>\n",
       "<table border=\"1\" class=\"dataframe\">\n",
       "  <thead>\n",
       "    <tr style=\"text-align: right;\">\n",
       "      <th></th>\n",
       "      <th>odds_ratio</th>\n",
       "      <th>p_value</th>\n",
       "    </tr>\n",
       "  </thead>\n",
       "  <tbody>\n",
       "    <tr>\n",
       "      <th>insomnia_consultations</th>\n",
       "      <td>1.0259</td>\n",
       "      <td>0.225</td>\n",
       "    </tr>\n",
       "    <tr>\n",
       "      <th>gender</th>\n",
       "      <td>0.9733</td>\n",
       "      <td>0.549</td>\n",
       "    </tr>\n",
       "    <tr>\n",
       "      <th>age_at_index_date</th>\n",
       "      <td>1.0001</td>\n",
       "      <td>0.897</td>\n",
       "    </tr>\n",
       "    <tr>\n",
       "      <th>stroke</th>\n",
       "      <td>1.2047</td>\n",
       "      <td>0.044</td>\n",
       "    </tr>\n",
       "    <tr>\n",
       "      <th>CHD_heart_failure_and_peripheral_vascular_disease</th>\n",
       "      <td>0.9533</td>\n",
       "      <td>0.418</td>\n",
       "    </tr>\n",
       "    <tr>\n",
       "      <th>hypertension</th>\n",
       "      <td>0.8312</td>\n",
       "      <td>0.000</td>\n",
       "    </tr>\n",
       "    <tr>\n",
       "      <th>diabetes</th>\n",
       "      <td>1.0729</td>\n",
       "      <td>0.386</td>\n",
       "    </tr>\n",
       "    <tr>\n",
       "      <th>mental_illness_non_smi</th>\n",
       "      <td>1.2681</td>\n",
       "      <td>0.000</td>\n",
       "    </tr>\n",
       "    <tr>\n",
       "      <th>mental_illness_smi</th>\n",
       "      <td>1.1442</td>\n",
       "      <td>0.331</td>\n",
       "    </tr>\n",
       "    <tr>\n",
       "      <th>current_smoker</th>\n",
       "      <td>0.9919</td>\n",
       "      <td>0.895</td>\n",
       "    </tr>\n",
       "    <tr>\n",
       "      <th>chronic_pulmonary_disease</th>\n",
       "      <td>1.0336</td>\n",
       "      <td>0.676</td>\n",
       "    </tr>\n",
       "    <tr>\n",
       "      <th>mood_stabilisers_100_pdds</th>\n",
       "      <td>1.0215</td>\n",
       "      <td>0.012</td>\n",
       "    </tr>\n",
       "    <tr>\n",
       "      <th>other_sedatives_100_pdds</th>\n",
       "      <td>0.9986</td>\n",
       "      <td>0.897</td>\n",
       "    </tr>\n",
       "    <tr>\n",
       "      <th>fgas_100_pdds</th>\n",
       "      <td>1.0068</td>\n",
       "      <td>0.498</td>\n",
       "    </tr>\n",
       "    <tr>\n",
       "      <th>sgas_100_pdds</th>\n",
       "      <td>1.0989</td>\n",
       "      <td>0.139</td>\n",
       "    </tr>\n",
       "    <tr>\n",
       "      <th>antidepressants_100_pdds</th>\n",
       "      <td>1.0087</td>\n",
       "      <td>0.037</td>\n",
       "    </tr>\n",
       "    <tr>\n",
       "      <th>non_insomnia_GP_consultations</th>\n",
       "      <td>1.0013</td>\n",
       "      <td>0.000</td>\n",
       "    </tr>\n",
       "    <tr>\n",
       "      <th>intercept</th>\n",
       "      <td>0.7862</td>\n",
       "      <td>0.003</td>\n",
       "    </tr>\n",
       "  </tbody>\n",
       "</table>\n",
       "</div>"
      ],
      "text/plain": [
       "                                                   odds_ratio  p_value\n",
       "insomnia_consultations                                 1.0259    0.225\n",
       "gender                                                 0.9733    0.549\n",
       "age_at_index_date                                      1.0001    0.897\n",
       "stroke                                                 1.2047    0.044\n",
       "CHD_heart_failure_and_peripheral_vascular_disease      0.9533    0.418\n",
       "hypertension                                           0.8312    0.000\n",
       "diabetes                                               1.0729    0.386\n",
       "mental_illness_non_smi                                 1.2681    0.000\n",
       "mental_illness_smi                                     1.1442    0.331\n",
       "current_smoker                                         0.9919    0.895\n",
       "chronic_pulmonary_disease                              1.0336    0.676\n",
       "mood_stabilisers_100_pdds                              1.0215    0.012\n",
       "other_sedatives_100_pdds                               0.9986    0.897\n",
       "fgas_100_pdds                                          1.0068    0.498\n",
       "sgas_100_pdds                                          1.0989    0.139\n",
       "antidepressants_100_pdds                               1.0087    0.037\n",
       "non_insomnia_GP_consultations                          1.0013    0.000\n",
       "intercept                                              0.7862    0.003"
      ]
     },
     "execution_count": 30,
     "metadata": {},
     "output_type": "execute_result"
    }
   ],
   "source": [
    "multivariate_results"
   ]
  },
  {
   "cell_type": "code",
   "execution_count": 32,
   "metadata": {
    "collapsed": false,
    "deletable": true,
    "editable": true
   },
   "outputs": [
    {
     "data": {
      "text/html": [
       "<table class=\"simpletable\">\n",
       "<caption>Logit Regression Results</caption>\n",
       "<tr>\n",
       "  <th>Dep. Variable:</th>      <td>isCase</td>      <th>  No. Observations:  </th>  <td>  8770</td>  \n",
       "</tr>\n",
       "<tr>\n",
       "  <th>Model:</th>               <td>Logit</td>      <th>  Df Residuals:      </th>  <td>  8752</td>  \n",
       "</tr>\n",
       "<tr>\n",
       "  <th>Method:</th>               <td>MLE</td>       <th>  Df Model:          </th>  <td>    17</td>  \n",
       "</tr>\n",
       "<tr>\n",
       "  <th>Date:</th>          <td>Wed, 10 May 2017</td> <th>  Pseudo R-squ.:     </th>  <td>0.01221</td> \n",
       "</tr>\n",
       "<tr>\n",
       "  <th>Time:</th>              <td>15:40:35</td>     <th>  Log-Likelihood:    </th> <td> -6004.7</td> \n",
       "</tr>\n",
       "<tr>\n",
       "  <th>converged:</th>           <td>True</td>       <th>  LL-Null:           </th> <td> -6078.9</td> \n",
       "</tr>\n",
       "<tr>\n",
       "  <th> </th>                      <td> </td>        <th>  LLR p-value:       </th> <td>4.808e-23</td>\n",
       "</tr>\n",
       "</table>"
      ],
      "text/plain": [
       "<class 'statsmodels.iolib.table.SimpleTable'>"
      ]
     },
     "execution_count": 32,
     "metadata": {},
     "output_type": "execute_result"
    }
   ],
   "source": [
    "multivariate_summary.tables[0]"
   ]
  },
  {
   "cell_type": "markdown",
   "metadata": {
    "deletable": true,
    "editable": true
   },
   "source": [
    "## Benzo and z-drug PDDs"
   ]
  },
  {
   "cell_type": "code",
   "execution_count": 33,
   "metadata": {
    "collapsed": false,
    "deletable": true,
    "editable": true
   },
   "outputs": [],
   "source": [
    "columns_not_for_inclusion = [\n",
    "        'patid', 'yob', 'pracid', 'index_date', 'isCase',\n",
    "       'final dementia medcode', 'data_start', 'data_end', 'matchid',\n",
    "       'insomnia','insomnia_consultations',\n",
    "#        'benzo_and_z_drugs_100_pdds'\n",
    "       'benzo_and_z_drugs_1_to_100pdds', 'benzo_and_z_drugs_101_to_1000pdds',\n",
    "       'benzo_and_z_drugs_more_than_1000pdds',\n",
    "]\n",
    "\n",
    "training_cols = [col for col in pt_features.columns if col not in columns_not_for_inclusion]\n",
    "training_cols.insert(0, training_cols.pop(training_cols.index('benzo_and_z_drugs_100_pdds')))\n",
    "# training_cols.insert(0, training_cols.pop(training_cols.index('benzo_and_z_drugs_more_than_1000pdds')))\n",
    "# training_cols.insert(0, training_cols.pop(training_cols.index('benzo_and_z_drugs_101_to_1000pdds')))\n",
    "# training_cols.insert(0, training_cols.pop(training_cols.index('benzo_and_z_drugs_1_to_100pdds')))"
   ]
  },
  {
   "cell_type": "code",
   "execution_count": 34,
   "metadata": {
    "collapsed": false,
    "deletable": true,
    "editable": true
   },
   "outputs": [
    {
     "name": "stdout",
     "output_type": "stream",
     "text": [
      "Optimization terminated successfully.\n",
      "         Current function value: 0.684724\n",
      "         Iterations 7\n"
     ]
    }
   ],
   "source": [
    "univariate_results, multivariate_results,multivariate_summary = get_univariate_and_multivariate_results(pt_features,training_cols)"
   ]
  },
  {
   "cell_type": "markdown",
   "metadata": {
    "deletable": true,
    "editable": true
   },
   "source": [
    "#### *Univariate results*"
   ]
  },
  {
   "cell_type": "code",
   "execution_count": 35,
   "metadata": {
    "collapsed": false,
    "deletable": true,
    "editable": true
   },
   "outputs": [
    {
     "data": {
      "text/html": [
       "<div>\n",
       "<table border=\"1\" class=\"dataframe\">\n",
       "  <thead>\n",
       "    <tr style=\"text-align: right;\">\n",
       "      <th></th>\n",
       "      <th>odds_ratio</th>\n",
       "      <th>p_value</th>\n",
       "    </tr>\n",
       "  </thead>\n",
       "  <tbody>\n",
       "    <tr>\n",
       "      <th>benzo_and_z_drugs_100_pdds</th>\n",
       "      <td>1.0131</td>\n",
       "      <td>0.002</td>\n",
       "    </tr>\n",
       "    <tr>\n",
       "      <th>gender</th>\n",
       "      <td>1.0000</td>\n",
       "      <td>1.000</td>\n",
       "    </tr>\n",
       "    <tr>\n",
       "      <th>age_at_index_date</th>\n",
       "      <td>1.0000</td>\n",
       "      <td>1.000</td>\n",
       "    </tr>\n",
       "    <tr>\n",
       "      <th>stroke</th>\n",
       "      <td>1.2961</td>\n",
       "      <td>0.003</td>\n",
       "    </tr>\n",
       "    <tr>\n",
       "      <th>CHD_heart_failure_and_peripheral_vascular_disease</th>\n",
       "      <td>1.0746</td>\n",
       "      <td>0.152</td>\n",
       "    </tr>\n",
       "    <tr>\n",
       "      <th>hypertension</th>\n",
       "      <td>0.9189</td>\n",
       "      <td>0.026</td>\n",
       "    </tr>\n",
       "    <tr>\n",
       "      <th>diabetes</th>\n",
       "      <td>1.2102</td>\n",
       "      <td>0.010</td>\n",
       "    </tr>\n",
       "    <tr>\n",
       "      <th>mental_illness_non_smi</th>\n",
       "      <td>1.3423</td>\n",
       "      <td>0.000</td>\n",
       "    </tr>\n",
       "    <tr>\n",
       "      <th>mental_illness_smi</th>\n",
       "      <td>1.6162</td>\n",
       "      <td>0.000</td>\n",
       "    </tr>\n",
       "    <tr>\n",
       "      <th>current_smoker</th>\n",
       "      <td>1.0290</td>\n",
       "      <td>0.612</td>\n",
       "    </tr>\n",
       "    <tr>\n",
       "      <th>chronic_pulmonary_disease</th>\n",
       "      <td>1.1185</td>\n",
       "      <td>0.130</td>\n",
       "    </tr>\n",
       "    <tr>\n",
       "      <th>mood_stabilisers_100_pdds</th>\n",
       "      <td>1.0327</td>\n",
       "      <td>0.000</td>\n",
       "    </tr>\n",
       "    <tr>\n",
       "      <th>other_sedatives_100_pdds</th>\n",
       "      <td>1.0060</td>\n",
       "      <td>0.585</td>\n",
       "    </tr>\n",
       "    <tr>\n",
       "      <th>fgas_100_pdds</th>\n",
       "      <td>1.0195</td>\n",
       "      <td>0.073</td>\n",
       "    </tr>\n",
       "    <tr>\n",
       "      <th>sgas_100_pdds</th>\n",
       "      <td>1.1763</td>\n",
       "      <td>0.035</td>\n",
       "    </tr>\n",
       "    <tr>\n",
       "      <th>antidepressants_100_pdds</th>\n",
       "      <td>1.0205</td>\n",
       "      <td>0.000</td>\n",
       "    </tr>\n",
       "    <tr>\n",
       "      <th>non_insomnia_GP_consultations</th>\n",
       "      <td>1.0005</td>\n",
       "      <td>0.000</td>\n",
       "    </tr>\n",
       "    <tr>\n",
       "      <th>intercept</th>\n",
       "      <td>1.0000</td>\n",
       "      <td>1.000</td>\n",
       "    </tr>\n",
       "  </tbody>\n",
       "</table>\n",
       "</div>"
      ],
      "text/plain": [
       "                                                   odds_ratio  p_value\n",
       "benzo_and_z_drugs_100_pdds                             1.0131    0.002\n",
       "gender                                                 1.0000    1.000\n",
       "age_at_index_date                                      1.0000    1.000\n",
       "stroke                                                 1.2961    0.003\n",
       "CHD_heart_failure_and_peripheral_vascular_disease      1.0746    0.152\n",
       "hypertension                                           0.9189    0.026\n",
       "diabetes                                               1.2102    0.010\n",
       "mental_illness_non_smi                                 1.3423    0.000\n",
       "mental_illness_smi                                     1.6162    0.000\n",
       "current_smoker                                         1.0290    0.612\n",
       "chronic_pulmonary_disease                              1.1185    0.130\n",
       "mood_stabilisers_100_pdds                              1.0327    0.000\n",
       "other_sedatives_100_pdds                               1.0060    0.585\n",
       "fgas_100_pdds                                          1.0195    0.073\n",
       "sgas_100_pdds                                          1.1763    0.035\n",
       "antidepressants_100_pdds                               1.0205    0.000\n",
       "non_insomnia_GP_consultations                          1.0005    0.000\n",
       "intercept                                              1.0000    1.000"
      ]
     },
     "execution_count": 35,
     "metadata": {},
     "output_type": "execute_result"
    }
   ],
   "source": [
    "univariate_results"
   ]
  },
  {
   "cell_type": "markdown",
   "metadata": {
    "deletable": true,
    "editable": true
   },
   "source": [
    "#### *Multivariate results*"
   ]
  },
  {
   "cell_type": "code",
   "execution_count": 36,
   "metadata": {
    "collapsed": false,
    "deletable": true,
    "editable": true
   },
   "outputs": [
    {
     "data": {
      "text/html": [
       "<div>\n",
       "<table border=\"1\" class=\"dataframe\">\n",
       "  <thead>\n",
       "    <tr style=\"text-align: right;\">\n",
       "      <th></th>\n",
       "      <th>odds_ratio</th>\n",
       "      <th>p_value</th>\n",
       "    </tr>\n",
       "  </thead>\n",
       "  <tbody>\n",
       "    <tr>\n",
       "      <th>benzo_and_z_drugs_100_pdds</th>\n",
       "      <td>1.0038</td>\n",
       "      <td>0.385</td>\n",
       "    </tr>\n",
       "    <tr>\n",
       "      <th>gender</th>\n",
       "      <td>0.9737</td>\n",
       "      <td>0.555</td>\n",
       "    </tr>\n",
       "    <tr>\n",
       "      <th>age_at_index_date</th>\n",
       "      <td>1.0001</td>\n",
       "      <td>0.879</td>\n",
       "    </tr>\n",
       "    <tr>\n",
       "      <th>stroke</th>\n",
       "      <td>1.2066</td>\n",
       "      <td>0.042</td>\n",
       "    </tr>\n",
       "    <tr>\n",
       "      <th>CHD_heart_failure_and_peripheral_vascular_disease</th>\n",
       "      <td>0.9524</td>\n",
       "      <td>0.408</td>\n",
       "    </tr>\n",
       "    <tr>\n",
       "      <th>hypertension</th>\n",
       "      <td>0.8311</td>\n",
       "      <td>0.000</td>\n",
       "    </tr>\n",
       "    <tr>\n",
       "      <th>diabetes</th>\n",
       "      <td>1.0712</td>\n",
       "      <td>0.397</td>\n",
       "    </tr>\n",
       "    <tr>\n",
       "      <th>mental_illness_non_smi</th>\n",
       "      <td>1.2752</td>\n",
       "      <td>0.000</td>\n",
       "    </tr>\n",
       "    <tr>\n",
       "      <th>mental_illness_smi</th>\n",
       "      <td>1.1447</td>\n",
       "      <td>0.330</td>\n",
       "    </tr>\n",
       "    <tr>\n",
       "      <th>current_smoker</th>\n",
       "      <td>0.9957</td>\n",
       "      <td>0.944</td>\n",
       "    </tr>\n",
       "    <tr>\n",
       "      <th>chronic_pulmonary_disease</th>\n",
       "      <td>1.0353</td>\n",
       "      <td>0.661</td>\n",
       "    </tr>\n",
       "    <tr>\n",
       "      <th>mood_stabilisers_100_pdds</th>\n",
       "      <td>1.0215</td>\n",
       "      <td>0.012</td>\n",
       "    </tr>\n",
       "    <tr>\n",
       "      <th>other_sedatives_100_pdds</th>\n",
       "      <td>0.9983</td>\n",
       "      <td>0.879</td>\n",
       "    </tr>\n",
       "    <tr>\n",
       "      <th>fgas_100_pdds</th>\n",
       "      <td>1.0068</td>\n",
       "      <td>0.498</td>\n",
       "    </tr>\n",
       "    <tr>\n",
       "      <th>sgas_100_pdds</th>\n",
       "      <td>1.0973</td>\n",
       "      <td>0.145</td>\n",
       "    </tr>\n",
       "    <tr>\n",
       "      <th>antidepressants_100_pdds</th>\n",
       "      <td>1.0084</td>\n",
       "      <td>0.047</td>\n",
       "    </tr>\n",
       "    <tr>\n",
       "      <th>non_insomnia_GP_consultations</th>\n",
       "      <td>1.0013</td>\n",
       "      <td>0.000</td>\n",
       "    </tr>\n",
       "    <tr>\n",
       "      <th>intercept</th>\n",
       "      <td>0.7870</td>\n",
       "      <td>0.003</td>\n",
       "    </tr>\n",
       "  </tbody>\n",
       "</table>\n",
       "</div>"
      ],
      "text/plain": [
       "                                                   odds_ratio  p_value\n",
       "benzo_and_z_drugs_100_pdds                             1.0038    0.385\n",
       "gender                                                 0.9737    0.555\n",
       "age_at_index_date                                      1.0001    0.879\n",
       "stroke                                                 1.2066    0.042\n",
       "CHD_heart_failure_and_peripheral_vascular_disease      0.9524    0.408\n",
       "hypertension                                           0.8311    0.000\n",
       "diabetes                                               1.0712    0.397\n",
       "mental_illness_non_smi                                 1.2752    0.000\n",
       "mental_illness_smi                                     1.1447    0.330\n",
       "current_smoker                                         0.9957    0.944\n",
       "chronic_pulmonary_disease                              1.0353    0.661\n",
       "mood_stabilisers_100_pdds                              1.0215    0.012\n",
       "other_sedatives_100_pdds                               0.9983    0.879\n",
       "fgas_100_pdds                                          1.0068    0.498\n",
       "sgas_100_pdds                                          1.0973    0.145\n",
       "antidepressants_100_pdds                               1.0084    0.047\n",
       "non_insomnia_GP_consultations                          1.0013    0.000\n",
       "intercept                                              0.7870    0.003"
      ]
     },
     "execution_count": 36,
     "metadata": {},
     "output_type": "execute_result"
    }
   ],
   "source": [
    "multivariate_results"
   ]
  },
  {
   "cell_type": "code",
   "execution_count": 37,
   "metadata": {
    "collapsed": false,
    "deletable": true,
    "editable": true
   },
   "outputs": [
    {
     "data": {
      "text/html": [
       "<table class=\"simpletable\">\n",
       "<caption>Logit Regression Results</caption>\n",
       "<tr>\n",
       "  <th>Dep. Variable:</th>      <td>isCase</td>      <th>  No. Observations:  </th>  <td>  8770</td>  \n",
       "</tr>\n",
       "<tr>\n",
       "  <th>Model:</th>               <td>Logit</td>      <th>  Df Residuals:      </th>  <td>  8752</td>  \n",
       "</tr>\n",
       "<tr>\n",
       "  <th>Method:</th>               <td>MLE</td>       <th>  Df Model:          </th>  <td>    17</td>  \n",
       "</tr>\n",
       "<tr>\n",
       "  <th>Date:</th>          <td>Wed, 10 May 2017</td> <th>  Pseudo R-squ.:     </th>  <td>0.01215</td> \n",
       "</tr>\n",
       "<tr>\n",
       "  <th>Time:</th>              <td>15:41:04</td>     <th>  Log-Likelihood:    </th> <td> -6005.0</td> \n",
       "</tr>\n",
       "<tr>\n",
       "  <th>converged:</th>           <td>True</td>       <th>  LL-Null:           </th> <td> -6078.9</td> \n",
       "</tr>\n",
       "<tr>\n",
       "  <th> </th>                      <td> </td>        <th>  LLR p-value:       </th> <td>6.766e-23</td>\n",
       "</tr>\n",
       "</table>"
      ],
      "text/plain": [
       "<class 'statsmodels.iolib.table.SimpleTable'>"
      ]
     },
     "execution_count": 37,
     "metadata": {},
     "output_type": "execute_result"
    }
   ],
   "source": [
    "multivariate_summary.tables[0]"
   ]
  },
  {
   "cell_type": "code",
   "execution_count": null,
   "metadata": {
    "collapsed": true
   },
   "outputs": [],
   "source": []
  },
  {
   "cell_type": "code",
   "execution_count": null,
   "metadata": {
    "collapsed": true
   },
   "outputs": [],
   "source": []
  },
  {
   "cell_type": "code",
   "execution_count": null,
   "metadata": {
    "collapsed": true
   },
   "outputs": [],
   "source": []
  }
 ],
 "metadata": {
  "kernelspec": {
   "display_name": "demres_kernel",
   "language": "python",
   "name": "demres_kernel"
  },
  "language_info": {
   "codemirror_mode": {
    "name": "ipython",
    "version": 3
   },
   "file_extension": ".py",
   "mimetype": "text/x-python",
   "name": "python",
   "nbconvert_exporter": "python",
   "pygments_lexer": "ipython3",
   "version": "3.5.0"
  }
 },
 "nbformat": 4,
 "nbformat_minor": 2
}
