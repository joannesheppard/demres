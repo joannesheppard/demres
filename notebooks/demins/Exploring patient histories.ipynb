{
 "cells": [
  {
   "cell_type": "code",
   "execution_count": 20,
   "metadata": {
    "collapsed": false,
    "deletable": true,
    "editable": true
   },
   "outputs": [
    {
     "name": "stdout",
     "output_type": "stream",
     "text": [
      "The autoreload extension is already loaded. To reload it, use:\n",
      "  %reload_ext autoreload\n"
     ]
    }
   ],
   "source": [
    "%load_ext autoreload\n",
    "%autoreload 2"
   ]
  },
  {
   "cell_type": "code",
   "execution_count": 21,
   "metadata": {
    "collapsed": false,
    "deletable": true,
    "editable": true
   },
   "outputs": [
    {
     "name": "stdout",
     "output_type": "stream",
     "text": [
      "/Users/zurfarosa/demres\n"
     ]
    }
   ],
   "source": [
    "cd ~/demres"
   ]
  },
  {
   "cell_type": "code",
   "execution_count": 22,
   "metadata": {
    "collapsed": false,
    "deletable": true,
    "editable": true
   },
   "outputs": [],
   "source": [
    "import os\n",
    "import sys\n",
    "\n",
    "module_path = os.path.abspath(os.path.join('..'))\n",
    "if module_path not in sys.path:\n",
    "    sys.path.append(module_path)\n",
    "\n",
    "import pandas as pd\n",
    "import numpy as np\n",
    "from datetime import date, timedelta\n",
    "\n",
    "from demres.common.helper_functions import *\n",
    "from demres.common.process_entries import *"
   ]
  },
  {
   "cell_type": "code",
   "execution_count": 23,
   "metadata": {
    "collapsed": true,
    "deletable": true,
    "editable": true
   },
   "outputs": [],
   "source": [
    "pd.options.display.max_rows = 5000\n",
    "pd.set_option('display.max_columns', None)"
   ]
  },
  {
   "cell_type": "code",
   "execution_count": 24,
   "metadata": {
    "collapsed": false,
    "deletable": true,
    "editable": true
   },
   "outputs": [
    {
     "data": {
      "text/html": [
       "<style>.container { width:95% !important; }</style>"
      ],
      "text/plain": [
       "<IPython.core.display.HTML object>"
      ]
     },
     "metadata": {},
     "output_type": "display_data"
    }
   ],
   "source": [
    "from IPython.core.display import display, HTML\n",
    "display(HTML(\"<style>.container { width:95% !important; }</style>\"))"
   ]
  },
  {
   "cell_type": "code",
   "execution_count": null,
   "metadata": {
    "collapsed": false,
    "deletable": true,
    "editable": true
   },
   "outputs": [],
   "source": [
    "all_encounters = get_all_encounters()"
   ]
  },
  {
   "cell_type": "code",
   "execution_count": null,
   "metadata": {
    "collapsed": true,
    "deletable": true,
    "editable": true
   },
   "outputs": [],
   "source": [
    "all_entries = get_all_entries(all_encounters)"
   ]
  },
  {
   "cell_type": "code",
   "execution_count": 25,
   "metadata": {
    "collapsed": false,
    "deletable": true,
    "editable": true
   },
   "outputs": [],
   "source": [
    "prescriptions = pd.read_hdf('data/pt_data/processed_data/hdf/prescriptions.hdf')"
   ]
  },
  {
   "cell_type": "code",
   "execution_count": 26,
   "metadata": {
    "collapsed": false,
    "deletable": true,
    "editable": true
   },
   "outputs": [],
   "source": [
    "pt_features = pd.read_csv('data/pt_data/processed_data/pt_features_demins_all_dementia_10_to_5.csv',delimiter=',')"
   ]
  },
  {
   "cell_type": "code",
   "execution_count": 27,
   "metadata": {
    "collapsed": false,
    "deletable": true,
    "editable": true
   },
   "outputs": [],
   "source": [
    "pegprod = pd.read_csv('data/dicts/proc_pegasus_prod.csv')\n",
    "prescs = pd.merge(prescriptions,pegprod[['prodcode','route','substance strength','drug substance name']],how='left')"
   ]
  },
  {
   "cell_type": "code",
   "execution_count": 28,
   "metadata": {
    "collapsed": true,
    "deletable": true,
    "editable": true
   },
   "outputs": [],
   "source": [
    "prescs = pd.merge(prescs,pt_features[['patid','index_date']],how='left')"
   ]
  },
  {
   "cell_type": "code",
   "execution_count": 11,
   "metadata": {
    "collapsed": false,
    "deletable": true,
    "editable": true
   },
   "outputs": [],
   "source": [
    "# pt_features[pt_features['current_smoker']==1].sample(15)"
   ]
  },
  {
   "cell_type": "markdown",
   "metadata": {
    "deletable": true,
    "editable": true
   },
   "source": [
    "## Explore patient history"
   ]
  },
  {
   "cell_type": "code",
   "execution_count": 32,
   "metadata": {
    "collapsed": true,
    "deletable": true,
    "editable": true
   },
   "outputs": [],
   "source": [
    "patid=20376223"
   ]
  },
  {
   "cell_type": "code",
   "execution_count": null,
   "metadata": {
    "collapsed": false,
    "deletable": true,
    "editable": true
   },
   "outputs": [],
   "source": [
    "hist = get_patient_history(all_entries,patid).sort_values(by='eventdate')"
   ]
  },
  {
   "cell_type": "code",
   "execution_count": null,
   "metadata": {
    "collapsed": false,
    "deletable": true,
    "editable": true
   },
   "outputs": [],
   "source": [
    "hist.sort_values(by='eventdate',ascending=True)"
   ]
  },
  {
   "cell_type": "code",
   "execution_count": 22,
   "metadata": {
    "collapsed": false,
    "deletable": true,
    "editable": true
   },
   "outputs": [],
   "source": [
    "pt_details = pt_features[pt_features['patid']==patid]"
   ]
  },
  {
   "cell_type": "code",
   "execution_count": 15,
   "metadata": {
    "collapsed": false,
    "deletable": true,
    "editable": true
   },
   "outputs": [
    {
     "data": {
      "text/html": [
       "<div>\n",
       "<table border=\"1\" class=\"dataframe\">\n",
       "  <thead>\n",
       "    <tr style=\"text-align: right;\">\n",
       "      <th></th>\n",
       "    </tr>\n",
       "  </thead>\n",
       "  <tbody>\n",
       "    <tr>\n",
       "      <th>patid</th>\n",
       "    </tr>\n",
       "    <tr>\n",
       "      <th>yob</th>\n",
       "    </tr>\n",
       "    <tr>\n",
       "      <th>pracid</th>\n",
       "    </tr>\n",
       "    <tr>\n",
       "      <th>female</th>\n",
       "    </tr>\n",
       "    <tr>\n",
       "      <th>index_date</th>\n",
       "    </tr>\n",
       "    <tr>\n",
       "      <th>isCase</th>\n",
       "    </tr>\n",
       "    <tr>\n",
       "      <th>final dementia medcode</th>\n",
       "    </tr>\n",
       "    <tr>\n",
       "      <th>data_start</th>\n",
       "    </tr>\n",
       "    <tr>\n",
       "      <th>data_end</th>\n",
       "    </tr>\n",
       "    <tr>\n",
       "      <th>matchid</th>\n",
       "    </tr>\n",
       "    <tr>\n",
       "      <th>age_at_index_date</th>\n",
       "    </tr>\n",
       "    <tr>\n",
       "      <th>insomnia</th>\n",
       "    </tr>\n",
       "    <tr>\n",
       "      <th>stroke</th>\n",
       "    </tr>\n",
       "    <tr>\n",
       "      <th>non_stroke_vascular_disease</th>\n",
       "    </tr>\n",
       "    <tr>\n",
       "      <th>hypertension</th>\n",
       "    </tr>\n",
       "    <tr>\n",
       "      <th>diabetes</th>\n",
       "    </tr>\n",
       "    <tr>\n",
       "      <th>mental_illness_non_smi</th>\n",
       "    </tr>\n",
       "    <tr>\n",
       "      <th>mental_illness_smi</th>\n",
       "    </tr>\n",
       "    <tr>\n",
       "      <th>sleep_apnoea</th>\n",
       "    </tr>\n",
       "    <tr>\n",
       "      <th>chronic_pulmonary_disease</th>\n",
       "    </tr>\n",
       "    <tr>\n",
       "      <th>epilepsy</th>\n",
       "    </tr>\n",
       "    <tr>\n",
       "      <th>mood_stabilisers_100_pdds</th>\n",
       "    </tr>\n",
       "    <tr>\n",
       "      <th>benzo_and_z_drugs_100_pdds</th>\n",
       "    </tr>\n",
       "    <tr>\n",
       "      <th>other_sedatives_100_pdds</th>\n",
       "    </tr>\n",
       "    <tr>\n",
       "      <th>antipsychotics_100_pdds</th>\n",
       "    </tr>\n",
       "    <tr>\n",
       "      <th>depot_antipsychotics_100_pdds</th>\n",
       "    </tr>\n",
       "    <tr>\n",
       "      <th>antidepressants_100_pdds</th>\n",
       "    </tr>\n",
       "    <tr>\n",
       "      <th>non_insomnia_GP_consultations</th>\n",
       "    </tr>\n",
       "    <tr>\n",
       "      <th>benzo_and_z_drugs_any</th>\n",
       "    </tr>\n",
       "    <tr>\n",
       "      <th>insomnia_any</th>\n",
       "    </tr>\n",
       "    <tr>\n",
       "      <th>insomnia_count:0</th>\n",
       "    </tr>\n",
       "    <tr>\n",
       "      <th>insomnia_count:1_5</th>\n",
       "    </tr>\n",
       "    <tr>\n",
       "      <th>insomnia_count:6_10</th>\n",
       "    </tr>\n",
       "    <tr>\n",
       "      <th>insomnia_count:above_10</th>\n",
       "    </tr>\n",
       "    <tr>\n",
       "      <th>non_insomnia_GP_consultations:0</th>\n",
       "    </tr>\n",
       "    <tr>\n",
       "      <th>non_insomnia_GP_consultations:1_10</th>\n",
       "    </tr>\n",
       "    <tr>\n",
       "      <th>non_insomnia_GP_consultations:11_100</th>\n",
       "    </tr>\n",
       "    <tr>\n",
       "      <th>non_insomnia_GP_consultations:101_1000</th>\n",
       "    </tr>\n",
       "    <tr>\n",
       "      <th>non_insomnia_GP_consultations:above_1000</th>\n",
       "    </tr>\n",
       "    <tr>\n",
       "      <th>age_at_index_date:65-69</th>\n",
       "    </tr>\n",
       "    <tr>\n",
       "      <th>age_at_index_date:70-74</th>\n",
       "    </tr>\n",
       "    <tr>\n",
       "      <th>age_at_index_date:75-79</th>\n",
       "    </tr>\n",
       "    <tr>\n",
       "      <th>age_at_index_date:80-84</th>\n",
       "    </tr>\n",
       "    <tr>\n",
       "      <th>age_at_index_date:85-89</th>\n",
       "    </tr>\n",
       "    <tr>\n",
       "      <th>age_at_index_date:90-99</th>\n",
       "    </tr>\n",
       "    <tr>\n",
       "      <th>age_at_index_date:above_99</th>\n",
       "    </tr>\n",
       "    <tr>\n",
       "      <th>antidepressant_pdds:00000</th>\n",
       "    </tr>\n",
       "    <tr>\n",
       "      <th>antidepressant_pdds:00001_10</th>\n",
       "    </tr>\n",
       "    <tr>\n",
       "      <th>antidepressant_pdds:00011_100</th>\n",
       "    </tr>\n",
       "    <tr>\n",
       "      <th>antidepressant_pdds:00101_1000</th>\n",
       "    </tr>\n",
       "    <tr>\n",
       "      <th>antidepressant_pdds:01001_10000</th>\n",
       "    </tr>\n",
       "    <tr>\n",
       "      <th>antidepressant_pdds:10000_and_above</th>\n",
       "    </tr>\n",
       "    <tr>\n",
       "      <th>antidepressant_pdds:10000_and_above</th>\n",
       "    </tr>\n",
       "    <tr>\n",
       "      <th>antipsychotic_pdds:00000</th>\n",
       "    </tr>\n",
       "    <tr>\n",
       "      <th>antipsychotic_pdds:00001_10</th>\n",
       "    </tr>\n",
       "    <tr>\n",
       "      <th>antipsychotic_pdds:00011_100</th>\n",
       "    </tr>\n",
       "    <tr>\n",
       "      <th>antipsychotic_pdds:00101_1000</th>\n",
       "    </tr>\n",
       "    <tr>\n",
       "      <th>antipsychotic_pdds:01001_10000</th>\n",
       "    </tr>\n",
       "    <tr>\n",
       "      <th>antipsychotic_pdds:10000_and_above</th>\n",
       "    </tr>\n",
       "    <tr>\n",
       "      <th>antipsychotic_pdds:10000_and_above</th>\n",
       "    </tr>\n",
       "    <tr>\n",
       "      <th>depot_antipsychotic_pdds:00000</th>\n",
       "    </tr>\n",
       "    <tr>\n",
       "      <th>depot_antipsychotic_pdds:00001_10</th>\n",
       "    </tr>\n",
       "    <tr>\n",
       "      <th>depot_antipsychotic_pdds:00011_100</th>\n",
       "    </tr>\n",
       "    <tr>\n",
       "      <th>depot_antipsychotic_pdds:00101_1000</th>\n",
       "    </tr>\n",
       "    <tr>\n",
       "      <th>depot_antipsychotic_pdds:01001_10000</th>\n",
       "    </tr>\n",
       "    <tr>\n",
       "      <th>depot_antipsychotic_pdds:10000_and_above</th>\n",
       "    </tr>\n",
       "    <tr>\n",
       "      <th>depot_antipsychotic_pdds:10000_and_above</th>\n",
       "    </tr>\n",
       "    <tr>\n",
       "      <th>other_sedative_pdds:00000</th>\n",
       "    </tr>\n",
       "    <tr>\n",
       "      <th>other_sedative_pdds:00001_10</th>\n",
       "    </tr>\n",
       "    <tr>\n",
       "      <th>other_sedative_pdds:00011_100</th>\n",
       "    </tr>\n",
       "    <tr>\n",
       "      <th>other_sedative_pdds:00101_1000</th>\n",
       "    </tr>\n",
       "    <tr>\n",
       "      <th>other_sedative_pdds:01001_10000</th>\n",
       "    </tr>\n",
       "    <tr>\n",
       "      <th>other_sedative_pdds:10000_and_above</th>\n",
       "    </tr>\n",
       "    <tr>\n",
       "      <th>other_sedative_pdds:10000_and_above</th>\n",
       "    </tr>\n",
       "    <tr>\n",
       "      <th>benzo_and_z_drug_pdds:00000</th>\n",
       "    </tr>\n",
       "    <tr>\n",
       "      <th>benzo_and_z_drug_pdds:00001_10</th>\n",
       "    </tr>\n",
       "    <tr>\n",
       "      <th>benzo_and_z_drug_pdds:00011_100</th>\n",
       "    </tr>\n",
       "    <tr>\n",
       "      <th>benzo_and_z_drug_pdds:00101_1000</th>\n",
       "    </tr>\n",
       "    <tr>\n",
       "      <th>benzo_and_z_drug_pdds:01001_10000</th>\n",
       "    </tr>\n",
       "    <tr>\n",
       "      <th>benzo_and_z_drug_pdds:10000_and_above</th>\n",
       "    </tr>\n",
       "    <tr>\n",
       "      <th>benzo_and_z_drug_pdds:10000_and_above</th>\n",
       "    </tr>\n",
       "    <tr>\n",
       "      <th>mood_stabiliser_pdds:00000</th>\n",
       "    </tr>\n",
       "    <tr>\n",
       "      <th>mood_stabiliser_pdds:00001_10</th>\n",
       "    </tr>\n",
       "    <tr>\n",
       "      <th>mood_stabiliser_pdds:00011_100</th>\n",
       "    </tr>\n",
       "    <tr>\n",
       "      <th>mood_stabiliser_pdds:00101_1000</th>\n",
       "    </tr>\n",
       "    <tr>\n",
       "      <th>mood_stabiliser_pdds:01001_10000</th>\n",
       "    </tr>\n",
       "    <tr>\n",
       "      <th>mood_stabiliser_pdds:10000_and_above</th>\n",
       "    </tr>\n",
       "    <tr>\n",
       "      <th>mood_stabiliser_pdds:10000_and_above</th>\n",
       "    </tr>\n",
       "  </tbody>\n",
       "</table>\n",
       "</div>"
      ],
      "text/plain": [
       "Empty DataFrame\n",
       "Columns: []\n",
       "Index: [patid, yob, pracid, female, index_date, isCase, final dementia medcode, data_start, data_end, matchid, age_at_index_date, insomnia, stroke, non_stroke_vascular_disease, hypertension, diabetes, mental_illness_non_smi, mental_illness_smi, sleep_apnoea, chronic_pulmonary_disease, epilepsy, mood_stabilisers_100_pdds, benzo_and_z_drugs_100_pdds, other_sedatives_100_pdds, antipsychotics_100_pdds, depot_antipsychotics_100_pdds, antidepressants_100_pdds, non_insomnia_GP_consultations, benzo_and_z_drugs_any, insomnia_any, insomnia_count:0, insomnia_count:1_5, insomnia_count:6_10, insomnia_count:above_10, non_insomnia_GP_consultations:0, non_insomnia_GP_consultations:1_10, non_insomnia_GP_consultations:11_100, non_insomnia_GP_consultations:101_1000, non_insomnia_GP_consultations:above_1000, age_at_index_date:65-69, age_at_index_date:70-74, age_at_index_date:75-79, age_at_index_date:80-84, age_at_index_date:85-89, age_at_index_date:90-99, age_at_index_date:above_99, antidepressant_pdds:00000, antidepressant_pdds:00001_10, antidepressant_pdds:00011_100, antidepressant_pdds:00101_1000, antidepressant_pdds:01001_10000, antidepressant_pdds:10000_and_above, antidepressant_pdds:10000_and_above    , antipsychotic_pdds:00000, antipsychotic_pdds:00001_10, antipsychotic_pdds:00011_100, antipsychotic_pdds:00101_1000, antipsychotic_pdds:01001_10000, antipsychotic_pdds:10000_and_above, antipsychotic_pdds:10000_and_above    , depot_antipsychotic_pdds:00000, depot_antipsychotic_pdds:00001_10, depot_antipsychotic_pdds:00011_100, depot_antipsychotic_pdds:00101_1000, depot_antipsychotic_pdds:01001_10000, depot_antipsychotic_pdds:10000_and_above, depot_antipsychotic_pdds:10000_and_above    , other_sedative_pdds:00000, other_sedative_pdds:00001_10, other_sedative_pdds:00011_100, other_sedative_pdds:00101_1000, other_sedative_pdds:01001_10000, other_sedative_pdds:10000_and_above, other_sedative_pdds:10000_and_above    , benzo_and_z_drug_pdds:00000, benzo_and_z_drug_pdds:00001_10, benzo_and_z_drug_pdds:00011_100, benzo_and_z_drug_pdds:00101_1000, benzo_and_z_drug_pdds:01001_10000, benzo_and_z_drug_pdds:10000_and_above, benzo_and_z_drug_pdds:10000_and_above    , mood_stabiliser_pdds:00000, mood_stabiliser_pdds:00001_10, mood_stabiliser_pdds:00011_100, mood_stabiliser_pdds:00101_1000, mood_stabiliser_pdds:01001_10000, mood_stabiliser_pdds:10000_and_above, mood_stabiliser_pdds:10000_and_above    ]"
      ]
     },
     "execution_count": 15,
     "metadata": {},
     "output_type": "execute_result"
    }
   ],
   "source": [
    "pt_details.T"
   ]
  },
  {
   "cell_type": "code",
   "execution_count": 16,
   "metadata": {
    "collapsed": false,
    "deletable": true,
    "editable": true
   },
   "outputs": [],
   "source": [
    "# matching_pt = pt_features[(pt_features['matchid']==pt_details['matchid'].iloc[0])&(pt_features['patid']!=pt_details['patid'].iloc[0])]\n",
    "# matching_pt_id = matching_pt['patid'].iloc[0]"
   ]
  },
  {
   "cell_type": "code",
   "execution_count": 17,
   "metadata": {
    "collapsed": false,
    "deletable": true,
    "editable": true
   },
   "outputs": [],
   "source": [
    "# matching_pt.T"
   ]
  },
  {
   "cell_type": "code",
   "execution_count": 18,
   "metadata": {
    "collapsed": true,
    "deletable": true,
    "editable": true
   },
   "outputs": [],
   "source": [
    "# matching_pt_hist = get_patient_history(all_entries,matching_pt_id).sort_values(by='eventdate')"
   ]
  },
  {
   "cell_type": "code",
   "execution_count": 36,
   "metadata": {
    "collapsed": false,
    "deletable": true,
    "editable": true
   },
   "outputs": [],
   "source": [
    "index_date = pd.to_datetime(pt_features['index_date']).iloc[0]"
   ]
  },
  {
   "cell_type": "code",
   "execution_count": 20,
   "metadata": {
    "collapsed": false,
    "deletable": true,
    "editable": true
   },
   "outputs": [],
   "source": [
    "# hist.sort_values(by='eventdate')"
   ]
  },
  {
   "cell_type": "code",
   "execution_count": 21,
   "metadata": {
    "collapsed": false,
    "deletable": true,
    "editable": true,
    "scrolled": false
   },
   "outputs": [],
   "source": [
    "focused_history = hist[(hist['eventdate']>index_date - timedelta(days=3650))&(hist['eventdate']<index_date-timedelta(days=1825))].sort_values(by='eventdate')"
   ]
  },
  {
   "cell_type": "code",
   "execution_count": 16,
   "metadata": {
    "collapsed": false,
    "deletable": true,
    "editable": true
   },
   "outputs": [],
   "source": [
    "focused_history"
   ]
  },
  {
   "cell_type": "code",
   "execution_count": 23,
   "metadata": {
    "collapsed": false,
    "deletable": true,
    "editable": true
   },
   "outputs": [
    {
     "data": {
      "text/plain": [
       "276"
      ]
     },
     "execution_count": 23,
     "metadata": {},
     "output_type": "execute_result"
    }
   ],
   "source": [
    "len(focused_history.loc[focused_history['type']=='consultation'])"
   ]
  },
  {
   "cell_type": "markdown",
   "metadata": {
    "deletable": true,
    "editable": true
   },
   "source": [
    "## Explore patient prescriptions"
   ]
  },
  {
   "cell_type": "code",
   "execution_count": 29,
   "metadata": {
    "collapsed": false,
    "deletable": true,
    "editable": true
   },
   "outputs": [
    {
     "data": {
      "text/html": [
       "<div>\n",
       "<table border=\"1\" class=\"dataframe\">\n",
       "  <thead>\n",
       "    <tr style=\"text-align: right;\">\n",
       "      <th></th>\n",
       "      <th>patid</th>\n",
       "      <th>eventdate</th>\n",
       "      <th>sysdate</th>\n",
       "      <th>consid</th>\n",
       "      <th>prodcode</th>\n",
       "      <th>staffid</th>\n",
       "      <th>textid</th>\n",
       "      <th>bnfcode</th>\n",
       "      <th>qty</th>\n",
       "      <th>ndd</th>\n",
       "      <th>numdays</th>\n",
       "      <th>numpacks</th>\n",
       "      <th>packtype</th>\n",
       "      <th>issueseq</th>\n",
       "    </tr>\n",
       "  </thead>\n",
       "  <tbody>\n",
       "    <tr>\n",
       "      <th>0</th>\n",
       "      <td>57001</td>\n",
       "      <td>1989-02-08</td>\n",
       "      <td>1997-03-08</td>\n",
       "      <td>9457</td>\n",
       "      <td>807</td>\n",
       "      <td>0</td>\n",
       "      <td>4</td>\n",
       "      <td>4</td>\n",
       "      <td>50.0</td>\n",
       "      <td>2.0</td>\n",
       "      <td>0</td>\n",
       "      <td>0.0</td>\n",
       "      <td>0</td>\n",
       "      <td>0</td>\n",
       "    </tr>\n",
       "  </tbody>\n",
       "</table>\n",
       "</div>"
      ],
      "text/plain": [
       "   patid  eventdate    sysdate  consid  prodcode  staffid  textid  bnfcode  \\\n",
       "0  57001 1989-02-08 1997-03-08    9457       807        0       4        4   \n",
       "\n",
       "    qty  ndd  numdays  numpacks  packtype  issueseq  \n",
       "0  50.0  2.0        0       0.0         0         0  "
      ]
     },
     "execution_count": 29,
     "metadata": {},
     "output_type": "execute_result"
    }
   ],
   "source": [
    "prescriptions.head(1)"
   ]
  },
  {
   "cell_type": "code",
   "execution_count": 30,
   "metadata": {
    "collapsed": false,
    "deletable": true,
    "editable": true
   },
   "outputs": [
    {
     "data": {
      "text/html": [
       "<div>\n",
       "<table border=\"1\" class=\"dataframe\">\n",
       "  <thead>\n",
       "    <tr style=\"text-align: right;\">\n",
       "      <th></th>\n",
       "      <th>patid</th>\n",
       "      <th>eventdate</th>\n",
       "      <th>sysdate</th>\n",
       "      <th>consid</th>\n",
       "      <th>prodcode</th>\n",
       "      <th>staffid</th>\n",
       "      <th>textid</th>\n",
       "      <th>bnfcode</th>\n",
       "      <th>qty</th>\n",
       "      <th>ndd</th>\n",
       "      <th>numdays</th>\n",
       "      <th>numpacks</th>\n",
       "      <th>packtype</th>\n",
       "      <th>issueseq</th>\n",
       "      <th>route</th>\n",
       "      <th>substance strength</th>\n",
       "      <th>drug substance name</th>\n",
       "      <th>index_date</th>\n",
       "    </tr>\n",
       "  </thead>\n",
       "  <tbody>\n",
       "    <tr>\n",
       "      <th>13689604</th>\n",
       "      <td>6425143</td>\n",
       "      <td>2011-02-11</td>\n",
       "      <td>2011-02-11</td>\n",
       "      <td>1814843</td>\n",
       "      <td>9752</td>\n",
       "      <td>12143</td>\n",
       "      <td>0</td>\n",
       "      <td>305</td>\n",
       "      <td>20.0</td>\n",
       "      <td>0.0</td>\n",
       "      <td>0</td>\n",
       "      <td>0.0</td>\n",
       "      <td>22</td>\n",
       "      <td>0</td>\n",
       "      <td>NaN</td>\n",
       "      <td>NaN</td>\n",
       "      <td>NaN</td>\n",
       "      <td>NaN</td>\n",
       "    </tr>\n",
       "    <tr>\n",
       "      <th>20977494</th>\n",
       "      <td>205212</td>\n",
       "      <td>2006-10-02</td>\n",
       "      <td>2006-10-02</td>\n",
       "      <td>27279</td>\n",
       "      <td>2</td>\n",
       "      <td>5212</td>\n",
       "      <td>7</td>\n",
       "      <td>17</td>\n",
       "      <td>28.0</td>\n",
       "      <td>1.0</td>\n",
       "      <td>0</td>\n",
       "      <td>0.0</td>\n",
       "      <td>1</td>\n",
       "      <td>2</td>\n",
       "      <td>Oral</td>\n",
       "      <td>2.5mg</td>\n",
       "      <td>Bendroflumethiazide</td>\n",
       "      <td>2005-01-04</td>\n",
       "    </tr>\n",
       "    <tr>\n",
       "      <th>2604054</th>\n",
       "      <td>2003025</td>\n",
       "      <td>1990-10-05</td>\n",
       "      <td>2000-04-27</td>\n",
       "      <td>626611</td>\n",
       "      <td>6</td>\n",
       "      <td>12025</td>\n",
       "      <td>3</td>\n",
       "      <td>151</td>\n",
       "      <td>30.0</td>\n",
       "      <td>1.0</td>\n",
       "      <td>0</td>\n",
       "      <td>0.0</td>\n",
       "      <td>0</td>\n",
       "      <td>0</td>\n",
       "      <td>Oral</td>\n",
       "      <td>40mg</td>\n",
       "      <td>Furosemide</td>\n",
       "      <td>2003-10-08</td>\n",
       "    </tr>\n",
       "    <tr>\n",
       "      <th>12945551</th>\n",
       "      <td>4810135</td>\n",
       "      <td>2004-02-24</td>\n",
       "      <td>2004-02-24</td>\n",
       "      <td>541684</td>\n",
       "      <td>3</td>\n",
       "      <td>3135</td>\n",
       "      <td>5</td>\n",
       "      <td>15</td>\n",
       "      <td>28.0</td>\n",
       "      <td>1.0</td>\n",
       "      <td>0</td>\n",
       "      <td>0.0</td>\n",
       "      <td>1</td>\n",
       "      <td>8</td>\n",
       "      <td>Oral</td>\n",
       "      <td>75mg</td>\n",
       "      <td>Aspirin</td>\n",
       "      <td>2005-07-06</td>\n",
       "    </tr>\n",
       "    <tr>\n",
       "      <th>6293213</th>\n",
       "      <td>12803071</td>\n",
       "      <td>2006-10-03</td>\n",
       "      <td>2006-10-03</td>\n",
       "      <td>2530717</td>\n",
       "      <td>23</td>\n",
       "      <td>6071</td>\n",
       "      <td>187</td>\n",
       "      <td>85</td>\n",
       "      <td>168.0</td>\n",
       "      <td>6.0</td>\n",
       "      <td>0</td>\n",
       "      <td>0.0</td>\n",
       "      <td>1</td>\n",
       "      <td>1</td>\n",
       "      <td>Oral</td>\n",
       "      <td>500mg</td>\n",
       "      <td>Metformin hydrochloride</td>\n",
       "      <td>NaN</td>\n",
       "    </tr>\n",
       "  </tbody>\n",
       "</table>\n",
       "</div>"
      ],
      "text/plain": [
       "             patid  eventdate    sysdate   consid  prodcode  staffid  textid  \\\n",
       "13689604   6425143 2011-02-11 2011-02-11  1814843      9752    12143       0   \n",
       "20977494    205212 2006-10-02 2006-10-02    27279         2     5212       7   \n",
       "2604054    2003025 1990-10-05 2000-04-27   626611         6    12025       3   \n",
       "12945551   4810135 2004-02-24 2004-02-24   541684         3     3135       5   \n",
       "6293213   12803071 2006-10-03 2006-10-03  2530717        23     6071     187   \n",
       "\n",
       "          bnfcode    qty  ndd  numdays  numpacks  packtype  issueseq route  \\\n",
       "13689604      305   20.0  0.0        0       0.0        22         0   NaN   \n",
       "20977494       17   28.0  1.0        0       0.0         1         2  Oral   \n",
       "2604054       151   30.0  1.0        0       0.0         0         0  Oral   \n",
       "12945551       15   28.0  1.0        0       0.0         1         8  Oral   \n",
       "6293213        85  168.0  6.0        0       0.0         1         1  Oral   \n",
       "\n",
       "         substance strength      drug substance name  index_date  \n",
       "13689604                NaN                      NaN         NaN  \n",
       "20977494              2.5mg      Bendroflumethiazide  2005-01-04  \n",
       "2604054                40mg               Furosemide  2003-10-08  \n",
       "12945551               75mg                  Aspirin  2005-07-06  \n",
       "6293213               500mg  Metformin hydrochloride         NaN  "
      ]
     },
     "execution_count": 30,
     "metadata": {},
     "output_type": "execute_result"
    }
   ],
   "source": [
    "prescs.sample(5)"
   ]
  },
  {
   "cell_type": "code",
   "execution_count": 33,
   "metadata": {
    "collapsed": false,
    "deletable": true,
    "editable": true
   },
   "outputs": [],
   "source": [
    "pt_prescs = prescs[prescs['patid']==patid]"
   ]
  },
  {
   "cell_type": "code",
   "execution_count": 49,
   "metadata": {
    "collapsed": false,
    "deletable": true,
    "editable": true
   },
   "outputs": [],
   "source": [
    "relev_pt_prescs = pt_prescs[(pt_prescs['eventdate']>(index_date-timedelta(days=365)*10))&(pt_prescs['eventdate']<(index_date-timedelta(days=365)*5))]"
   ]
  },
  {
   "cell_type": "code",
   "execution_count": 53,
   "metadata": {
    "collapsed": false,
    "deletable": true,
    "editable": true
   },
   "outputs": [
    {
     "data": {
      "text/html": [
       "<div>\n",
       "<table border=\"1\" class=\"dataframe\">\n",
       "  <thead>\n",
       "    <tr style=\"text-align: right;\">\n",
       "      <th></th>\n",
       "      <th>patid</th>\n",
       "      <th>eventdate</th>\n",
       "      <th>sysdate</th>\n",
       "      <th>consid</th>\n",
       "      <th>prodcode</th>\n",
       "      <th>staffid</th>\n",
       "      <th>textid</th>\n",
       "      <th>bnfcode</th>\n",
       "      <th>qty</th>\n",
       "      <th>ndd</th>\n",
       "      <th>numdays</th>\n",
       "      <th>numpacks</th>\n",
       "      <th>packtype</th>\n",
       "      <th>issueseq</th>\n",
       "      <th>route</th>\n",
       "      <th>substance strength</th>\n",
       "      <th>drug substance name</th>\n",
       "      <th>index_date</th>\n",
       "    </tr>\n",
       "  </thead>\n",
       "  <tbody>\n",
       "    <tr>\n",
       "      <th>21970627</th>\n",
       "      <td>20376223</td>\n",
       "      <td>1996-12-20</td>\n",
       "      <td>1999-01-26</td>\n",
       "      <td>2513253</td>\n",
       "      <td>20</td>\n",
       "      <td>50223</td>\n",
       "      <td>120</td>\n",
       "      <td>56</td>\n",
       "      <td>60.0</td>\n",
       "      <td>1.5</td>\n",
       "      <td>0</td>\n",
       "      <td>0.0</td>\n",
       "      <td>0</td>\n",
       "      <td>0</td>\n",
       "      <td>Oral</td>\n",
       "      <td>10mg</td>\n",
       "      <td>Temazepam</td>\n",
       "      <td>2006-10-18</td>\n",
       "    </tr>\n",
       "    <tr>\n",
       "      <th>21970653</th>\n",
       "      <td>20376223</td>\n",
       "      <td>1997-09-19</td>\n",
       "      <td>1999-01-26</td>\n",
       "      <td>2513269</td>\n",
       "      <td>47</td>\n",
       "      <td>8223</td>\n",
       "      <td>127</td>\n",
       "      <td>57</td>\n",
       "      <td>30.0</td>\n",
       "      <td>1.0</td>\n",
       "      <td>0</td>\n",
       "      <td>0.0</td>\n",
       "      <td>0</td>\n",
       "      <td>0</td>\n",
       "      <td>Oral</td>\n",
       "      <td>5mg</td>\n",
       "      <td>Diazepam</td>\n",
       "      <td>2006-10-18</td>\n",
       "    </tr>\n",
       "    <tr>\n",
       "      <th>21970654</th>\n",
       "      <td>20376223</td>\n",
       "      <td>1997-11-10</td>\n",
       "      <td>1999-01-26</td>\n",
       "      <td>2513271</td>\n",
       "      <td>4141</td>\n",
       "      <td>4223</td>\n",
       "      <td>127</td>\n",
       "      <td>57</td>\n",
       "      <td>7.0</td>\n",
       "      <td>1.0</td>\n",
       "      <td>0</td>\n",
       "      <td>0.0</td>\n",
       "      <td>0</td>\n",
       "      <td>0</td>\n",
       "      <td>Oral</td>\n",
       "      <td>15mg</td>\n",
       "      <td>Oxazepam</td>\n",
       "      <td>2006-10-18</td>\n",
       "    </tr>\n",
       "    <tr>\n",
       "      <th>21970666</th>\n",
       "      <td>20376223</td>\n",
       "      <td>1998-01-05</td>\n",
       "      <td>1999-01-26</td>\n",
       "      <td>2513275</td>\n",
       "      <td>20</td>\n",
       "      <td>4223</td>\n",
       "      <td>127</td>\n",
       "      <td>56</td>\n",
       "      <td>6.0</td>\n",
       "      <td>1.0</td>\n",
       "      <td>0</td>\n",
       "      <td>0.0</td>\n",
       "      <td>0</td>\n",
       "      <td>0</td>\n",
       "      <td>Oral</td>\n",
       "      <td>10mg</td>\n",
       "      <td>Temazepam</td>\n",
       "      <td>2006-10-18</td>\n",
       "    </tr>\n",
       "    <tr>\n",
       "      <th>21970668</th>\n",
       "      <td>20376223</td>\n",
       "      <td>1998-01-09</td>\n",
       "      <td>1999-01-26</td>\n",
       "      <td>2513276</td>\n",
       "      <td>66</td>\n",
       "      <td>4223</td>\n",
       "      <td>127</td>\n",
       "      <td>56</td>\n",
       "      <td>10.0</td>\n",
       "      <td>1.0</td>\n",
       "      <td>0</td>\n",
       "      <td>0.0</td>\n",
       "      <td>0</td>\n",
       "      <td>0</td>\n",
       "      <td>Oral</td>\n",
       "      <td>7.5mg</td>\n",
       "      <td>Zopiclone</td>\n",
       "      <td>2006-10-18</td>\n",
       "    </tr>\n",
       "    <tr>\n",
       "      <th>21969604</th>\n",
       "      <td>20376223</td>\n",
       "      <td>1999-02-17</td>\n",
       "      <td>1999-02-17</td>\n",
       "      <td>2513405</td>\n",
       "      <td>4141</td>\n",
       "      <td>3223</td>\n",
       "      <td>239</td>\n",
       "      <td>57</td>\n",
       "      <td>30.0</td>\n",
       "      <td>1.0</td>\n",
       "      <td>0</td>\n",
       "      <td>0.0</td>\n",
       "      <td>1</td>\n",
       "      <td>0</td>\n",
       "      <td>Oral</td>\n",
       "      <td>15mg</td>\n",
       "      <td>Oxazepam</td>\n",
       "      <td>2006-10-18</td>\n",
       "    </tr>\n",
       "    <tr>\n",
       "      <th>21970503</th>\n",
       "      <td>20376223</td>\n",
       "      <td>1999-11-18</td>\n",
       "      <td>1999-11-22</td>\n",
       "      <td>2513437</td>\n",
       "      <td>3126</td>\n",
       "      <td>6223</td>\n",
       "      <td>346</td>\n",
       "      <td>56</td>\n",
       "      <td>14.0</td>\n",
       "      <td>1.0</td>\n",
       "      <td>0</td>\n",
       "      <td>0.0</td>\n",
       "      <td>1</td>\n",
       "      <td>0</td>\n",
       "      <td>Oral</td>\n",
       "      <td>5mg</td>\n",
       "      <td>Zolpidem tartrate</td>\n",
       "      <td>2006-10-18</td>\n",
       "    </tr>\n",
       "    <tr>\n",
       "      <th>21969706</th>\n",
       "      <td>20376223</td>\n",
       "      <td>2001-03-02</td>\n",
       "      <td>2001-03-02</td>\n",
       "      <td>2513492</td>\n",
       "      <td>1559</td>\n",
       "      <td>3223</td>\n",
       "      <td>36</td>\n",
       "      <td>185</td>\n",
       "      <td>56.0</td>\n",
       "      <td>1.0</td>\n",
       "      <td>0</td>\n",
       "      <td>0.0</td>\n",
       "      <td>1</td>\n",
       "      <td>0</td>\n",
       "      <td>Oral</td>\n",
       "      <td>500microgram</td>\n",
       "      <td>Clonazepam</td>\n",
       "      <td>2006-10-18</td>\n",
       "    </tr>\n",
       "    <tr>\n",
       "      <th>21969723</th>\n",
       "      <td>20376223</td>\n",
       "      <td>2001-06-18</td>\n",
       "      <td>2001-06-18</td>\n",
       "      <td>2513500</td>\n",
       "      <td>47</td>\n",
       "      <td>6223</td>\n",
       "      <td>270</td>\n",
       "      <td>57</td>\n",
       "      <td>14.0</td>\n",
       "      <td>1.0</td>\n",
       "      <td>0</td>\n",
       "      <td>0.0</td>\n",
       "      <td>1</td>\n",
       "      <td>0</td>\n",
       "      <td>Oral</td>\n",
       "      <td>5mg</td>\n",
       "      <td>Diazepam</td>\n",
       "      <td>2006-10-18</td>\n",
       "    </tr>\n",
       "    <tr>\n",
       "      <th>21970495</th>\n",
       "      <td>20376223</td>\n",
       "      <td>2001-06-27</td>\n",
       "      <td>2001-06-28</td>\n",
       "      <td>2513505</td>\n",
       "      <td>4566</td>\n",
       "      <td>6223</td>\n",
       "      <td>270</td>\n",
       "      <td>57</td>\n",
       "      <td>28.0</td>\n",
       "      <td>1.0</td>\n",
       "      <td>0</td>\n",
       "      <td>0.0</td>\n",
       "      <td>1</td>\n",
       "      <td>0</td>\n",
       "      <td>Oral</td>\n",
       "      <td>10mg</td>\n",
       "      <td>Oxazepam</td>\n",
       "      <td>2006-10-18</td>\n",
       "    </tr>\n",
       "    <tr>\n",
       "      <th>21969726</th>\n",
       "      <td>20376223</td>\n",
       "      <td>2001-07-12</td>\n",
       "      <td>2001-07-12</td>\n",
       "      <td>2513510</td>\n",
       "      <td>4566</td>\n",
       "      <td>3223</td>\n",
       "      <td>1451</td>\n",
       "      <td>57</td>\n",
       "      <td>56.0</td>\n",
       "      <td>1.5</td>\n",
       "      <td>0</td>\n",
       "      <td>0.0</td>\n",
       "      <td>1</td>\n",
       "      <td>1</td>\n",
       "      <td>Oral</td>\n",
       "      <td>10mg</td>\n",
       "      <td>Oxazepam</td>\n",
       "      <td>2006-10-18</td>\n",
       "    </tr>\n",
       "    <tr>\n",
       "      <th>21969733</th>\n",
       "      <td>20376223</td>\n",
       "      <td>2001-08-17</td>\n",
       "      <td>2001-08-17</td>\n",
       "      <td>2513518</td>\n",
       "      <td>4566</td>\n",
       "      <td>3223</td>\n",
       "      <td>1451</td>\n",
       "      <td>57</td>\n",
       "      <td>56.0</td>\n",
       "      <td>1.5</td>\n",
       "      <td>0</td>\n",
       "      <td>0.0</td>\n",
       "      <td>1</td>\n",
       "      <td>2</td>\n",
       "      <td>Oral</td>\n",
       "      <td>10mg</td>\n",
       "      <td>Oxazepam</td>\n",
       "      <td>2006-10-18</td>\n",
       "    </tr>\n",
       "    <tr>\n",
       "      <th>21970493</th>\n",
       "      <td>20376223</td>\n",
       "      <td>2001-09-22</td>\n",
       "      <td>2001-09-24</td>\n",
       "      <td>2513526</td>\n",
       "      <td>46</td>\n",
       "      <td>9223</td>\n",
       "      <td>131</td>\n",
       "      <td>57</td>\n",
       "      <td>20.0</td>\n",
       "      <td>3.0</td>\n",
       "      <td>0</td>\n",
       "      <td>0.0</td>\n",
       "      <td>1</td>\n",
       "      <td>0</td>\n",
       "      <td>Oral</td>\n",
       "      <td>2mg</td>\n",
       "      <td>Diazepam</td>\n",
       "      <td>2006-10-18</td>\n",
       "    </tr>\n",
       "    <tr>\n",
       "      <th>21969742</th>\n",
       "      <td>20376223</td>\n",
       "      <td>2001-09-26</td>\n",
       "      <td>2001-09-26</td>\n",
       "      <td>2513527</td>\n",
       "      <td>47</td>\n",
       "      <td>9223</td>\n",
       "      <td>346</td>\n",
       "      <td>57</td>\n",
       "      <td>28.0</td>\n",
       "      <td>1.0</td>\n",
       "      <td>0</td>\n",
       "      <td>0.0</td>\n",
       "      <td>1</td>\n",
       "      <td>0</td>\n",
       "      <td>Oral</td>\n",
       "      <td>5mg</td>\n",
       "      <td>Diazepam</td>\n",
       "      <td>2006-10-18</td>\n",
       "    </tr>\n",
       "  </tbody>\n",
       "</table>\n",
       "</div>"
      ],
      "text/plain": [
       "             patid  eventdate    sysdate   consid  prodcode  staffid  textid  \\\n",
       "21970627  20376223 1996-12-20 1999-01-26  2513253        20    50223     120   \n",
       "21970653  20376223 1997-09-19 1999-01-26  2513269        47     8223     127   \n",
       "21970654  20376223 1997-11-10 1999-01-26  2513271      4141     4223     127   \n",
       "21970666  20376223 1998-01-05 1999-01-26  2513275        20     4223     127   \n",
       "21970668  20376223 1998-01-09 1999-01-26  2513276        66     4223     127   \n",
       "21969604  20376223 1999-02-17 1999-02-17  2513405      4141     3223     239   \n",
       "21970503  20376223 1999-11-18 1999-11-22  2513437      3126     6223     346   \n",
       "21969706  20376223 2001-03-02 2001-03-02  2513492      1559     3223      36   \n",
       "21969723  20376223 2001-06-18 2001-06-18  2513500        47     6223     270   \n",
       "21970495  20376223 2001-06-27 2001-06-28  2513505      4566     6223     270   \n",
       "21969726  20376223 2001-07-12 2001-07-12  2513510      4566     3223    1451   \n",
       "21969733  20376223 2001-08-17 2001-08-17  2513518      4566     3223    1451   \n",
       "21970493  20376223 2001-09-22 2001-09-24  2513526        46     9223     131   \n",
       "21969742  20376223 2001-09-26 2001-09-26  2513527        47     9223     346   \n",
       "\n",
       "          bnfcode   qty  ndd  numdays  numpacks  packtype  issueseq route  \\\n",
       "21970627       56  60.0  1.5        0       0.0         0         0  Oral   \n",
       "21970653       57  30.0  1.0        0       0.0         0         0  Oral   \n",
       "21970654       57   7.0  1.0        0       0.0         0         0  Oral   \n",
       "21970666       56   6.0  1.0        0       0.0         0         0  Oral   \n",
       "21970668       56  10.0  1.0        0       0.0         0         0  Oral   \n",
       "21969604       57  30.0  1.0        0       0.0         1         0  Oral   \n",
       "21970503       56  14.0  1.0        0       0.0         1         0  Oral   \n",
       "21969706      185  56.0  1.0        0       0.0         1         0  Oral   \n",
       "21969723       57  14.0  1.0        0       0.0         1         0  Oral   \n",
       "21970495       57  28.0  1.0        0       0.0         1         0  Oral   \n",
       "21969726       57  56.0  1.5        0       0.0         1         1  Oral   \n",
       "21969733       57  56.0  1.5        0       0.0         1         2  Oral   \n",
       "21970493       57  20.0  3.0        0       0.0         1         0  Oral   \n",
       "21969742       57  28.0  1.0        0       0.0         1         0  Oral   \n",
       "\n",
       "         substance strength drug substance name  index_date  \n",
       "21970627               10mg           Temazepam  2006-10-18  \n",
       "21970653                5mg            Diazepam  2006-10-18  \n",
       "21970654               15mg            Oxazepam  2006-10-18  \n",
       "21970666               10mg           Temazepam  2006-10-18  \n",
       "21970668              7.5mg           Zopiclone  2006-10-18  \n",
       "21969604               15mg            Oxazepam  2006-10-18  \n",
       "21970503                5mg   Zolpidem tartrate  2006-10-18  \n",
       "21969706       500microgram          Clonazepam  2006-10-18  \n",
       "21969723                5mg            Diazepam  2006-10-18  \n",
       "21970495               10mg            Oxazepam  2006-10-18  \n",
       "21969726               10mg            Oxazepam  2006-10-18  \n",
       "21969733               10mg            Oxazepam  2006-10-18  \n",
       "21970493                2mg            Diazepam  2006-10-18  \n",
       "21969742                5mg            Diazepam  2006-10-18  "
      ]
     },
     "execution_count": 53,
     "metadata": {},
     "output_type": "execute_result"
    }
   ],
   "source": [
    "relev_pt_prescs[relev_pt_prescs['drug substance name'].str.contains('zopiclone|zolpidem|epam',na=False,case=False)].sort_values(by='eventdate')"
   ]
  },
  {
   "cell_type": "code",
   "execution_count": 63,
   "metadata": {
    "collapsed": false,
    "deletable": true,
    "editable": true
   },
   "outputs": [
    {
     "data": {
      "text/plain": [
       "{'Aluminium hydroxide / Magnesium carbonate co-gel/Magnesium alginate/Potassium bicarbonate/Magnesium carbonate',\n",
       " 'Amoxicillin trihydrate',\n",
       " 'Amoxicillin trihydrate/Potassium clavulanate',\n",
       " 'Beclometasone dipropionate',\n",
       " 'Citric acid monohydrate',\n",
       " 'Diazepam',\n",
       " 'Diclofenac sodium/Misoprostol',\n",
       " 'Dihydrocodeine tartrate',\n",
       " 'Diphenoxylate hydrochloride/Atropine sulfate',\n",
       " 'Estradiol',\n",
       " 'Fluoxetine hydrochloride',\n",
       " 'Furosemide',\n",
       " 'Glyceryl Trinitrate',\n",
       " 'Ibuprofen',\n",
       " 'Ipratropium Bromide',\n",
       " 'Lansoprazole',\n",
       " 'Loratadine',\n",
       " 'Lorazepam',\n",
       " 'Oxybutynin hydrochloride',\n",
       " 'Oxytetracycline dihydrate',\n",
       " 'Paracetamol/Codeine phosphate',\n",
       " 'Paroxetine hydrochloride',\n",
       " 'Prednisolone',\n",
       " 'Promethazine hydrochloride',\n",
       " 'Propiverine hydrochloride',\n",
       " 'Risperidone',\n",
       " 'Salbutamol sulfate',\n",
       " 'Sodium alginate/Calcium carbonate/Sodium bicarbonate',\n",
       " 'Sodium valproate',\n",
       " 'Terbutaline sulfate',\n",
       " 'Thioridazine',\n",
       " 'Venlafaxine hydrochloride'}"
      ]
     },
     "execution_count": 63,
     "metadata": {},
     "output_type": "execute_result"
    }
   ],
   "source": [
    "set(relev_pt_prescs['drug substance name'])"
   ]
  },
  {
   "cell_type": "code",
   "execution_count": 30,
   "metadata": {
    "collapsed": false,
    "deletable": true,
    "editable": true
   },
   "outputs": [
    {
     "data": {
      "text/html": [
       "<div>\n",
       "<table border=\"1\" class=\"dataframe\">\n",
       "  <thead>\n",
       "    <tr style=\"text-align: right;\">\n",
       "      <th></th>\n",
       "      <th>patid</th>\n",
       "      <th>eventdate</th>\n",
       "      <th>sysdate</th>\n",
       "      <th>consid</th>\n",
       "      <th>prodcode</th>\n",
       "      <th>staffid</th>\n",
       "      <th>textid</th>\n",
       "      <th>bnfcode</th>\n",
       "      <th>qty</th>\n",
       "      <th>ndd</th>\n",
       "      <th>numdays</th>\n",
       "      <th>numpacks</th>\n",
       "      <th>packtype</th>\n",
       "      <th>issueseq</th>\n",
       "      <th>route</th>\n",
       "      <th>substance strength</th>\n",
       "      <th>drug substance name</th>\n",
       "      <th>index_date</th>\n",
       "    </tr>\n",
       "  </thead>\n",
       "  <tbody>\n",
       "  </tbody>\n",
       "</table>\n",
       "</div>"
      ],
      "text/plain": [
       "Empty DataFrame\n",
       "Columns: [patid, eventdate, sysdate, consid, prodcode, staffid, textid, bnfcode, qty, ndd, numdays, numpacks, packtype, issueseq, route, substance strength, drug substance name, index_date]\n",
       "Index: []"
      ]
     },
     "execution_count": 30,
     "metadata": {},
     "output_type": "execute_result"
    }
   ],
   "source": [
    "relev_pt_prescs.loc[relev_pt_prescs['drug substance name'].str.contains('zolpidem|zopiclone',case=False,na=False)].sort_values(by='eventdate')"
   ]
  },
  {
   "cell_type": "code",
   "execution_count": 61,
   "metadata": {
    "collapsed": false,
    "deletable": true,
    "editable": true
   },
   "outputs": [],
   "source": [
    "# pegmed = pd.read_csv('data/dicts/proc_pegasus_medical.csv',delimiter=',')"
   ]
  },
  {
   "cell_type": "code",
   "execution_count": 213,
   "metadata": {
    "collapsed": false,
    "deletable": true,
    "editable": true
   },
   "outputs": [
    {
     "data": {
      "text/html": [
       "<div>\n",
       "<table border=\"1\" class=\"dataframe\">\n",
       "  <thead>\n",
       "    <tr style=\"text-align: right;\">\n",
       "      <th></th>\n",
       "      <th>medcode</th>\n",
       "      <th>readcode</th>\n",
       "      <th>clinical events</th>\n",
       "      <th>immunisation events</th>\n",
       "      <th>referral events</th>\n",
       "      <th>test events</th>\n",
       "      <th>read term</th>\n",
       "      <th>database build</th>\n",
       "    </tr>\n",
       "  </thead>\n",
       "  <tbody>\n",
       "    <tr>\n",
       "      <th>35842</th>\n",
       "      <td>11788</td>\n",
       "      <td>1371.11</td>\n",
       "      <td>737374</td>\n",
       "      <td>0</td>\n",
       "      <td>12</td>\n",
       "      <td>1</td>\n",
       "      <td>Non-smoker</td>\n",
       "      <td>February 2009</td>\n",
       "    </tr>\n",
       "  </tbody>\n",
       "</table>\n",
       "</div>"
      ],
      "text/plain": [
       "       medcode readcode  clinical events  immunisation events  \\\n",
       "35842    11788  1371.11           737374                    0   \n",
       "\n",
       "       referral events  test events   read term database build  \n",
       "35842               12            1  Non-smoker  February 2009  "
      ]
     },
     "execution_count": 213,
     "metadata": {},
     "output_type": "execute_result"
    }
   ],
   "source": [
    "pegmed[pegmed['medcode']==11788.0]"
   ]
  },
  {
   "cell_type": "code",
   "execution_count": null,
   "metadata": {
    "collapsed": true,
    "deletable": true,
    "editable": true
   },
   "outputs": [],
   "source": []
  }
 ],
 "metadata": {
  "kernelspec": {
   "display_name": "Python 3",
   "language": "python",
   "name": "python3"
  },
  "language_info": {
   "codemirror_mode": {
    "name": "ipython",
    "version": 3
   },
   "file_extension": ".py",
   "mimetype": "text/x-python",
   "name": "python",
   "nbconvert_exporter": "python",
   "pygments_lexer": "ipython3",
   "version": "3.5.0"
  }
 },
 "nbformat": 4,
 "nbformat_minor": 0
}
