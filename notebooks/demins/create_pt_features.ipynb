{
 "cells": [
  {
   "cell_type": "code",
   "execution_count": 1,
   "metadata": {
    "scrolled": true
   },
   "outputs": [],
   "source": [
    "%load_ext autoreload\n",
    "%autoreload 2"
   ]
  },
  {
   "cell_type": "code",
   "execution_count": 2,
   "metadata": {
    "scrolled": true
   },
   "outputs": [
    {
     "name": "stdout",
     "output_type": "stream",
     "text": [
      "/Users/zurfarosa/demres\n"
     ]
    }
   ],
   "source": [
    "cd ~/demres"
   ]
  },
  {
   "cell_type": "code",
   "execution_count": 3,
   "metadata": {
    "scrolled": true
   },
   "outputs": [
    {
     "name": "stderr",
     "output_type": "stream",
     "text": [
      "/Users/zurfarosa/demres/env/lib/python3.6/site-packages/statsmodels/compat/pandas.py:56: FutureWarning: The pandas.core.datetools module is deprecated and will be removed in a future version. Please use the pandas.tseries module instead.\n",
      "  from pandas.core import datetools\n"
     ]
    }
   ],
   "source": [
    "import os\n",
    "import sys\n",
    "\n",
    "module_path = os.path.abspath(os.path.join('..'))\n",
    "if module_path not in sys.path:\n",
    "    sys.path.append(module_path)\n",
    "\n",
    "import pandas as pd\n",
    "import numpy as np\n",
    "from datetime import date, timedelta\n",
    "\n",
    "import demres\n",
    "from demres.common.constants import entry_type\n",
    "from demres.common import codelists\n",
    "from demres.common.helper_functions import *\n",
    "from demres.common.process_pt_features import *\n",
    "from demres.common.process_entries import *\n",
    "from demres.demins.constants import Study_Design as sd\n",
    "from demres.demins.statistical_functions import *\n",
    "from common.helper_functions import *\n",
    "from pprint import pprint\n",
    "from IPython.display import display"
   ]
  },
  {
   "cell_type": "code",
   "execution_count": 4,
   "metadata": {
    "scrolled": true
   },
   "outputs": [],
   "source": [
    "pd.set_option('display.max_columns', None)"
   ]
  },
  {
   "cell_type": "code",
   "execution_count": 5,
   "metadata": {},
   "outputs": [],
   "source": [
    "pd.set_option('display.max_rows', None)"
   ]
  },
  {
   "cell_type": "markdown",
   "metadata": {},
   "source": [
    "## Process raw CSV files"
   ]
  },
  {
   "cell_type": "code",
   "execution_count": 6,
   "metadata": {
    "scrolled": true
   },
   "outputs": [],
   "source": [
    "# create_pegmed()"
   ]
  },
  {
   "cell_type": "code",
   "execution_count": 7,
   "metadata": {
    "scrolled": true
   },
   "outputs": [],
   "source": [
    "# create_pegprod()"
   ]
  },
  {
   "cell_type": "code",
   "execution_count": 8,
   "metadata": {
    "scrolled": true
   },
   "outputs": [],
   "source": [
    "# create_prescriptions()"
   ]
  },
  {
   "cell_type": "code",
   "execution_count": 9,
   "metadata": {
    "scrolled": true
   },
   "outputs": [],
   "source": [
    "# create_consultations()"
   ]
  },
  {
   "cell_type": "code",
   "execution_count": 10,
   "metadata": {
    "scrolled": true
   },
   "outputs": [],
   "source": [
    "# create_clinicals()"
   ]
  },
  {
   "cell_type": "code",
   "execution_count": 11,
   "metadata": {
    "scrolled": true
   },
   "outputs": [],
   "source": [
    "# create_tests()"
   ]
  },
  {
   "cell_type": "code",
   "execution_count": 12,
   "metadata": {
    "scrolled": true
   },
   "outputs": [],
   "source": [
    "# create_referrals()"
   ]
  },
  {
   "cell_type": "code",
   "execution_count": 13,
   "metadata": {
    "scrolled": true
   },
   "outputs": [],
   "source": [
    "# create_immunisations()"
   ]
  },
  {
   "cell_type": "code",
   "execution_count": 14,
   "metadata": {
    "scrolled": true
   },
   "outputs": [],
   "source": [
    "# create_medcoded_entries()"
   ]
  },
  {
   "cell_type": "markdown",
   "metadata": {},
   "source": [
    "## Create processed CVS files to share with DEMINS teams\n",
    "*convert the newly created HDF files to CVS (for use in other projects)*"
   ]
  },
  {
   "cell_type": "code",
   "execution_count": 15,
   "metadata": {},
   "outputs": [],
   "source": [
    "# prescriptions = pd.read_hdf('data/pt_data/processed_data/hdf/prescriptions.hdf')\n",
    "# prescriptions.to_csv('data/pt_data/processed_data/to_share_with_DEMINS/prescriptions.csv',index=False)"
   ]
  },
  {
   "cell_type": "code",
   "execution_count": 16,
   "metadata": {},
   "outputs": [],
   "source": [
    "# consultations = pd.read_hdf('data/pt_data/processed_data/hdf/consultations.hdf')\n",
    "# consultations.to_csv('data/pt_data/processed_data/to_share_with_DEMINS/consultations.csv',index=False)"
   ]
  },
  {
   "cell_type": "code",
   "execution_count": 17,
   "metadata": {},
   "outputs": [],
   "source": [
    "# immunisations = pd.read_hdf('data/pt_data/processed_data/hdf/immunisations.hdf')\n",
    "# immunisations.to_csv('data/pt_data/processed_data/to_share_with_DEMINS/immunisations.csv',index=False)"
   ]
  },
  {
   "cell_type": "code",
   "execution_count": 18,
   "metadata": {},
   "outputs": [],
   "source": [
    "# clinicals = pd.read_hdf('data/pt_data/processed_data/hdf/clinicals.hdf')\n",
    "# clinicals.to_csv('data/pt_data/processed_data/to_share_with_DEMINS/clinicals.csv',index=False)"
   ]
  },
  {
   "cell_type": "code",
   "execution_count": 19,
   "metadata": {},
   "outputs": [],
   "source": [
    "# tests = pd.read_hdf('data/pt_data/processed_data/hdf/tests.hdf')\n",
    "# tests.to_csv('data/pt_data/processed_data/to_share_with_DEMINS/tests.csv',index=False)"
   ]
  },
  {
   "cell_type": "code",
   "execution_count": 20,
   "metadata": {},
   "outputs": [],
   "source": [
    "# referrals = pd.read_hdf('data/pt_data/processed_data/hdf/referrals.hdf')\n",
    "# referrals.to_csv('data/pt_data/processed_data/to_share_with_DEMINS/referrals.csv',index=False)"
   ]
  },
  {
   "cell_type": "code",
   "execution_count": 21,
   "metadata": {},
   "outputs": [],
   "source": [
    "# medcoded_entries = pd.read_hdf('data/pt_data/processed_data/hdf/medcoded_entries.hdf')\n",
    "# medcoded_entries.to_csv('data/pt_data/processed_data/to_share_with_DEMINS/medcoded_entries.csv',index=False)"
   ]
  },
  {
   "cell_type": "markdown",
   "metadata": {},
   "source": [
    "## Create basic pt_features dataframe\n",
    "*pt_features will contain all the variables (e.g. age, female gender, insomnia) used in the logistic regression*"
   ]
  },
  {
   "cell_type": "code",
   "execution_count": 6,
   "metadata": {
    "scrolled": true
   },
   "outputs": [],
   "source": [
    "all_encounters = get_all_encounters()"
   ]
  },
  {
   "cell_type": "code",
   "execution_count": null,
   "metadata": {
    "scrolled": true
   },
   "outputs": [],
   "source": [
    "all_entries = get_all_entries(all_encounters)"
   ]
  },
  {
   "cell_type": "code",
   "execution_count": null,
   "metadata": {
    "scrolled": true
   },
   "outputs": [],
   "source": [
    "pt_features = create_pt_features()"
   ]
  },
  {
   "cell_type": "code",
   "execution_count": null,
   "metadata": {
    "scrolled": true
   },
   "outputs": [],
   "source": [
    "pt_features = get_index_date_and_caseness_and_add_final_dementia_subtype(all_entries,pt_features)"
   ]
  },
  {
   "cell_type": "code",
   "execution_count": null,
   "metadata": {},
   "outputs": [],
   "source": [
    "pt_features.head(5)"
   ]
  },
  {
   "cell_type": "code",
   "execution_count": null,
   "metadata": {
    "scrolled": true
   },
   "outputs": [],
   "source": [
    "pt_features = avoid_specific_dementia_subtypes(pt_features) "
   ]
  },
  {
   "cell_type": "code",
   "execution_count": null,
   "metadata": {
    "scrolled": true
   },
   "outputs": [],
   "source": [
    "pt_features = add_data_start_and_end_dates(all_encounters,pt_features)"
   ]
  },
  {
   "cell_type": "code",
   "execution_count": null,
   "metadata": {},
   "outputs": [],
   "source": [
    "# pt_features.to_csv('data/pt_data/processed_data/pt_features_demins.csv',index=False)"
   ]
  },
  {
   "cell_type": "code",
   "execution_count": null,
   "metadata": {
    "scrolled": true
   },
   "outputs": [],
   "source": [
    "for window in sd.exposure_windows:\n",
    "    print(window['name'],' being matched')    \n",
    "    pt_features = pd.read_csv('data/pt_data/processed_data/pt_features_demins.csv',delimiter=',',parse_dates=['index_date','data_end','data_start'],infer_datetime_format=True)\n",
    "    pt_features = match_cases_and_controls(pt_features,window)\n",
    "    display(pt_features.head(1))\n",
    "    pt_features.to_csv('data/pt_data/processed_data/pt_features_demins_'+ window['name'] +'.csv',index=False)"
   ]
  },
  {
   "cell_type": "markdown",
   "metadata": {},
   "source": [
    "## Add derived variables to pt_features \n",
    "*e.g. insomnia count, history of stroke, consultation count*"
   ]
  },
  {
   "cell_type": "code",
   "execution_count": 7,
   "metadata": {
    "scrolled": true
   },
   "outputs": [],
   "source": [
    "medcoded_entries = pd.read_hdf('data/pt_data/processed_data/hdf/medcoded_entries.hdf')"
   ]
  },
  {
   "cell_type": "code",
   "execution_count": 8,
   "metadata": {
    "scrolled": true
   },
   "outputs": [],
   "source": [
    "prescriptions = pd.read_hdf('data/pt_data/processed_data/hdf/prescriptions.hdf')"
   ]
  },
  {
   "cell_type": "code",
   "execution_count": 9,
   "metadata": {},
   "outputs": [],
   "source": [
    "pt_features = pd.read_csv('data/pt_data/processed_data/pt_features_demins_'+sd.exposure_windows[1]['name']+'.csv',delimiter=',',parse_dates=['index_date','data_end','data_start'],infer_datetime_format=True)"
   ]
  },
  {
   "cell_type": "code",
   "execution_count": 33,
   "metadata": {
    "scrolled": true
   },
   "outputs": [
    {
     "name": "stdout",
     "output_type": "stream",
     "text": [
      "['CLOMETHIAZOLE', 'DIAZEPAM', 'FLURAZEPAM', 'FLURAZEPAM HYDROCHLORIDE', 'LOPRAZOLAM', 'LOPRAZOLAM MESILATELORAZEPAM', 'LORMETAZEPAM', 'MELATONIN', 'NITRAZEPAM', 'OXAZEPAM', 'TEMAZEPAM', 'ZALEPLON', 'ZOLPIDEM TARTRATE', 'ZOLPIDEM ', 'ZOPICLONE']\n",
      "CLOMETHIAZOLE \tpdd: 314.3554376657825\n",
      "DIAZEPAM \tpdd: 4.661071466315938\n",
      "FLURAZEPAM \tNo prescriptions found\n",
      "FLURAZEPAM HYDROCHLORIDE \tpdd: 29.39175572519084\n",
      "LOPRAZOLAM \tNo prescriptions found\n",
      "LOPRAZOLAM MESILATELORAZEPAM \tNo prescriptions found\n",
      "LORMETAZEPAM \tpdd: 0.9058665784132888\n",
      "MELATONIN \tpdd: 3.0\n",
      "NITRAZEPAM \tpdd: 5.991664723363171\n",
      "OXAZEPAM \tpdd: 20.785283646707338\n",
      "TEMAZEPAM \tpdd: 14.246090863790956\n",
      "ZALEPLON \tpdd: 7.073170731707317\n",
      "ZOLPIDEM TARTRATE \tpdd: 7.135525904770405\n",
      "ZOLPIDEM  \tNo prescriptions found\n",
      "ZOPICLONE \tpdd: 6.4285431565793205\n"
     ]
    }
   ],
   "source": [
    "create_pdd_for_each_drug(prescriptions,pt_features,sd.exposure_windows[1])"
   ]
  },
  {
   "cell_type": "code",
   "execution_count": 15,
   "metadata": {
    "scrolled": true
   },
   "outputs": [
    {
     "name": "stdout",
     "output_type": "stream",
     "text": [
      "12_to_7 ...\n",
      "insomnia\n",
      "insomnia_no_hypnotics\n",
      "stroke\n",
      "heart_failure\n",
      "mental_illness\n",
      "sleep_apnoea\n",
      "chronic_pulmonary_disease\n",
      "epilepsy\n",
      "hypnotics\n",
      "There are 2739 relevant prescription entries for hypnotics\n"
     ]
    },
    {
     "data": {
      "text/html": [
       "<div>\n",
       "<style scoped>\n",
       "    .dataframe tbody tr th:only-of-type {\n",
       "        vertical-align: middle;\n",
       "    }\n",
       "\n",
       "    .dataframe tbody tr th {\n",
       "        vertical-align: top;\n",
       "    }\n",
       "\n",
       "    .dataframe thead th {\n",
       "        text-align: right;\n",
       "    }\n",
       "</style>\n",
       "<table border=\"1\" class=\"dataframe\">\n",
       "  <thead>\n",
       "    <tr style=\"text-align: right;\">\n",
       "      <th></th>\n",
       "      <th>patid</th>\n",
       "      <th>yob</th>\n",
       "      <th>pracid</th>\n",
       "      <th>female</th>\n",
       "      <th>index_date</th>\n",
       "      <th>isCase</th>\n",
       "      <th>final dementia medcode</th>\n",
       "      <th>data_end</th>\n",
       "      <th>data_start</th>\n",
       "      <th>matchid</th>\n",
       "      <th>age_at_index_date</th>\n",
       "      <th>CLOMETHIAZOLE_100_pdds</th>\n",
       "      <th>DIAZEPAM_100_pdds</th>\n",
       "      <th>FLURAZEPAM_100_pdds</th>\n",
       "      <th>FLURAZEPAM HYDROCHLORIDE_100_pdds</th>\n",
       "      <th>LOPRAZOLAM_100_pdds</th>\n",
       "      <th>LOPRAZOLAM MESILATELORAZEPAM_100_pdds</th>\n",
       "      <th>LORMETAZEPAM_100_pdds</th>\n",
       "      <th>MELATONIN_100_pdds</th>\n",
       "      <th>NITRAZEPAM_100_pdds</th>\n",
       "      <th>OXAZEPAM_100_pdds</th>\n",
       "      <th>TEMAZEPAM_100_pdds</th>\n",
       "      <th>ZALEPLON_100_pdds</th>\n",
       "      <th>ZOLPIDEM TARTRATE_100_pdds</th>\n",
       "      <th>ZOLPIDEM _100_pdds</th>\n",
       "      <th>ZOPICLONE_100_pdds</th>\n",
       "      <th>insomnia</th>\n",
       "      <th>insomnia_no_hypnotics</th>\n",
       "      <th>stroke</th>\n",
       "      <th>heart_failure</th>\n",
       "      <th>mental_illness</th>\n",
       "      <th>sleep_apnoea</th>\n",
       "      <th>chronic_pulmonary_disease</th>\n",
       "      <th>epilepsy</th>\n",
       "      <th>hypnotics_100_pdds</th>\n",
       "      <th>age_at_index_date:65-69</th>\n",
       "      <th>age_at_index_date:70-74</th>\n",
       "      <th>age_at_index_date:75-79</th>\n",
       "      <th>age_at_index_date:80-84</th>\n",
       "      <th>age_at_index_date:85-89</th>\n",
       "      <th>age_at_index_date:90-99</th>\n",
       "      <th>age_at_index_date:above_99</th>\n",
       "      <th>hypnotic_pdds:00000</th>\n",
       "      <th>hypnotic_pdds:00001_10</th>\n",
       "      <th>hypnotic_pdds:00011_100</th>\n",
       "      <th>hypnotic_pdds:00101_1000</th>\n",
       "      <th>hypnotic_pdds:01001_10000</th>\n",
       "      <th>hypnotic_pdds:10000_and_above</th>\n",
       "    </tr>\n",
       "  </thead>\n",
       "  <tbody>\n",
       "    <tr>\n",
       "      <th>0</th>\n",
       "      <td>4031018</td>\n",
       "      <td>34</td>\n",
       "      <td>18</td>\n",
       "      <td>1</td>\n",
       "      <td>2007-12-10</td>\n",
       "      <td>True</td>\n",
       "      <td>49513.0</td>\n",
       "      <td>2007-12-21</td>\n",
       "      <td>1995-12-05</td>\n",
       "      <td>2819</td>\n",
       "      <td>73</td>\n",
       "      <td>0.0</td>\n",
       "      <td>0.0</td>\n",
       "      <td>0.0</td>\n",
       "      <td>0.0</td>\n",
       "      <td>0.0</td>\n",
       "      <td>0.0</td>\n",
       "      <td>0.0</td>\n",
       "      <td>0.0</td>\n",
       "      <td>0.000000</td>\n",
       "      <td>0.0</td>\n",
       "      <td>0.0</td>\n",
       "      <td>0.0</td>\n",
       "      <td>0.0</td>\n",
       "      <td>0.0</td>\n",
       "      <td>0.0</td>\n",
       "      <td>0</td>\n",
       "      <td>0</td>\n",
       "      <td>0</td>\n",
       "      <td>1</td>\n",
       "      <td>0</td>\n",
       "      <td>0</td>\n",
       "      <td>0</td>\n",
       "      <td>0</td>\n",
       "      <td>0.000000</td>\n",
       "      <td>0.0</td>\n",
       "      <td>1.0</td>\n",
       "      <td>0.0</td>\n",
       "      <td>0.0</td>\n",
       "      <td>0.0</td>\n",
       "      <td>0.0</td>\n",
       "      <td>0.0</td>\n",
       "      <td>1.0</td>\n",
       "      <td>0.0</td>\n",
       "      <td>0.0</td>\n",
       "      <td>0.0</td>\n",
       "      <td>0.0</td>\n",
       "      <td>0.0</td>\n",
       "    </tr>\n",
       "    <tr>\n",
       "      <th>1</th>\n",
       "      <td>1245425</td>\n",
       "      <td>27</td>\n",
       "      <td>425</td>\n",
       "      <td>1</td>\n",
       "      <td>2008-05-13</td>\n",
       "      <td>True</td>\n",
       "      <td>1350.0</td>\n",
       "      <td>2008-05-20</td>\n",
       "      <td>1996-04-27</td>\n",
       "      <td>58446</td>\n",
       "      <td>81</td>\n",
       "      <td>0.0</td>\n",
       "      <td>0.0</td>\n",
       "      <td>0.0</td>\n",
       "      <td>0.0</td>\n",
       "      <td>0.0</td>\n",
       "      <td>0.0</td>\n",
       "      <td>0.0</td>\n",
       "      <td>0.0</td>\n",
       "      <td>0.000000</td>\n",
       "      <td>0.0</td>\n",
       "      <td>0.0</td>\n",
       "      <td>0.0</td>\n",
       "      <td>0.0</td>\n",
       "      <td>0.0</td>\n",
       "      <td>0.0</td>\n",
       "      <td>0</td>\n",
       "      <td>0</td>\n",
       "      <td>0</td>\n",
       "      <td>0</td>\n",
       "      <td>0</td>\n",
       "      <td>0</td>\n",
       "      <td>0</td>\n",
       "      <td>0</td>\n",
       "      <td>0.000000</td>\n",
       "      <td>0.0</td>\n",
       "      <td>0.0</td>\n",
       "      <td>0.0</td>\n",
       "      <td>1.0</td>\n",
       "      <td>0.0</td>\n",
       "      <td>0.0</td>\n",
       "      <td>0.0</td>\n",
       "      <td>1.0</td>\n",
       "      <td>0.0</td>\n",
       "      <td>0.0</td>\n",
       "      <td>0.0</td>\n",
       "      <td>0.0</td>\n",
       "      <td>0.0</td>\n",
       "    </tr>\n",
       "    <tr>\n",
       "      <th>2</th>\n",
       "      <td>8070027</td>\n",
       "      <td>24</td>\n",
       "      <td>27</td>\n",
       "      <td>1</td>\n",
       "      <td>2009-12-06</td>\n",
       "      <td>True</td>\n",
       "      <td>1916.0</td>\n",
       "      <td>2009-12-23</td>\n",
       "      <td>1997-11-28</td>\n",
       "      <td>4039</td>\n",
       "      <td>85</td>\n",
       "      <td>0.0</td>\n",
       "      <td>0.0</td>\n",
       "      <td>0.0</td>\n",
       "      <td>0.0</td>\n",
       "      <td>0.0</td>\n",
       "      <td>0.0</td>\n",
       "      <td>0.0</td>\n",
       "      <td>0.0</td>\n",
       "      <td>0.000000</td>\n",
       "      <td>0.0</td>\n",
       "      <td>0.0</td>\n",
       "      <td>0.0</td>\n",
       "      <td>0.0</td>\n",
       "      <td>0.0</td>\n",
       "      <td>0.0</td>\n",
       "      <td>0</td>\n",
       "      <td>0</td>\n",
       "      <td>0</td>\n",
       "      <td>0</td>\n",
       "      <td>0</td>\n",
       "      <td>0</td>\n",
       "      <td>0</td>\n",
       "      <td>0</td>\n",
       "      <td>0.000000</td>\n",
       "      <td>0.0</td>\n",
       "      <td>0.0</td>\n",
       "      <td>0.0</td>\n",
       "      <td>0.0</td>\n",
       "      <td>1.0</td>\n",
       "      <td>0.0</td>\n",
       "      <td>0.0</td>\n",
       "      <td>1.0</td>\n",
       "      <td>0.0</td>\n",
       "      <td>0.0</td>\n",
       "      <td>0.0</td>\n",
       "      <td>0.0</td>\n",
       "      <td>0.0</td>\n",
       "    </tr>\n",
       "    <tr>\n",
       "      <th>3</th>\n",
       "      <td>5865223</td>\n",
       "      <td>10</td>\n",
       "      <td>223</td>\n",
       "      <td>1</td>\n",
       "      <td>2004-02-25</td>\n",
       "      <td>True</td>\n",
       "      <td>1916.0</td>\n",
       "      <td>2004-02-27</td>\n",
       "      <td>1992-01-31</td>\n",
       "      <td>31786</td>\n",
       "      <td>94</td>\n",
       "      <td>0.0</td>\n",
       "      <td>0.0</td>\n",
       "      <td>0.0</td>\n",
       "      <td>0.0</td>\n",
       "      <td>0.0</td>\n",
       "      <td>0.0</td>\n",
       "      <td>0.0</td>\n",
       "      <td>0.0</td>\n",
       "      <td>18.025041</td>\n",
       "      <td>0.0</td>\n",
       "      <td>0.0</td>\n",
       "      <td>0.0</td>\n",
       "      <td>0.0</td>\n",
       "      <td>0.0</td>\n",
       "      <td>0.0</td>\n",
       "      <td>0</td>\n",
       "      <td>0</td>\n",
       "      <td>0</td>\n",
       "      <td>0</td>\n",
       "      <td>0</td>\n",
       "      <td>0</td>\n",
       "      <td>0</td>\n",
       "      <td>0</td>\n",
       "      <td>18.025041</td>\n",
       "      <td>0.0</td>\n",
       "      <td>0.0</td>\n",
       "      <td>0.0</td>\n",
       "      <td>0.0</td>\n",
       "      <td>0.0</td>\n",
       "      <td>1.0</td>\n",
       "      <td>0.0</td>\n",
       "      <td>0.0</td>\n",
       "      <td>0.0</td>\n",
       "      <td>0.0</td>\n",
       "      <td>0.0</td>\n",
       "      <td>1.0</td>\n",
       "      <td>0.0</td>\n",
       "    </tr>\n",
       "    <tr>\n",
       "      <th>4</th>\n",
       "      <td>9591471</td>\n",
       "      <td>30</td>\n",
       "      <td>471</td>\n",
       "      <td>0</td>\n",
       "      <td>2008-12-15</td>\n",
       "      <td>True</td>\n",
       "      <td>1350.0</td>\n",
       "      <td>2008-12-23</td>\n",
       "      <td>1996-11-22</td>\n",
       "      <td>66373</td>\n",
       "      <td>78</td>\n",
       "      <td>0.0</td>\n",
       "      <td>0.0</td>\n",
       "      <td>0.0</td>\n",
       "      <td>0.0</td>\n",
       "      <td>0.0</td>\n",
       "      <td>0.0</td>\n",
       "      <td>0.0</td>\n",
       "      <td>0.0</td>\n",
       "      <td>0.000000</td>\n",
       "      <td>0.0</td>\n",
       "      <td>0.0</td>\n",
       "      <td>0.0</td>\n",
       "      <td>0.0</td>\n",
       "      <td>0.0</td>\n",
       "      <td>0.0</td>\n",
       "      <td>0</td>\n",
       "      <td>0</td>\n",
       "      <td>0</td>\n",
       "      <td>0</td>\n",
       "      <td>1</td>\n",
       "      <td>0</td>\n",
       "      <td>0</td>\n",
       "      <td>0</td>\n",
       "      <td>0.000000</td>\n",
       "      <td>0.0</td>\n",
       "      <td>0.0</td>\n",
       "      <td>1.0</td>\n",
       "      <td>0.0</td>\n",
       "      <td>0.0</td>\n",
       "      <td>0.0</td>\n",
       "      <td>0.0</td>\n",
       "      <td>1.0</td>\n",
       "      <td>0.0</td>\n",
       "      <td>0.0</td>\n",
       "      <td>0.0</td>\n",
       "      <td>0.0</td>\n",
       "      <td>0.0</td>\n",
       "    </tr>\n",
       "  </tbody>\n",
       "</table>\n",
       "</div>"
      ],
      "text/plain": [
       "     patid  yob  pracid  female index_date  isCase  final dementia medcode  \\\n",
       "0  4031018   34      18       1 2007-12-10    True                 49513.0   \n",
       "1  1245425   27     425       1 2008-05-13    True                  1350.0   \n",
       "2  8070027   24      27       1 2009-12-06    True                  1916.0   \n",
       "3  5865223   10     223       1 2004-02-25    True                  1916.0   \n",
       "4  9591471   30     471       0 2008-12-15    True                  1350.0   \n",
       "\n",
       "    data_end data_start  matchid  age_at_index_date  CLOMETHIAZOLE_100_pdds  \\\n",
       "0 2007-12-21 1995-12-05     2819                 73                     0.0   \n",
       "1 2008-05-20 1996-04-27    58446                 81                     0.0   \n",
       "2 2009-12-23 1997-11-28     4039                 85                     0.0   \n",
       "3 2004-02-27 1992-01-31    31786                 94                     0.0   \n",
       "4 2008-12-23 1996-11-22    66373                 78                     0.0   \n",
       "\n",
       "   DIAZEPAM_100_pdds  FLURAZEPAM_100_pdds  FLURAZEPAM HYDROCHLORIDE_100_pdds  \\\n",
       "0                0.0                  0.0                                0.0   \n",
       "1                0.0                  0.0                                0.0   \n",
       "2                0.0                  0.0                                0.0   \n",
       "3                0.0                  0.0                                0.0   \n",
       "4                0.0                  0.0                                0.0   \n",
       "\n",
       "   LOPRAZOLAM_100_pdds  LOPRAZOLAM MESILATELORAZEPAM_100_pdds  \\\n",
       "0                  0.0                                    0.0   \n",
       "1                  0.0                                    0.0   \n",
       "2                  0.0                                    0.0   \n",
       "3                  0.0                                    0.0   \n",
       "4                  0.0                                    0.0   \n",
       "\n",
       "   LORMETAZEPAM_100_pdds  MELATONIN_100_pdds  NITRAZEPAM_100_pdds  \\\n",
       "0                    0.0                 0.0             0.000000   \n",
       "1                    0.0                 0.0             0.000000   \n",
       "2                    0.0                 0.0             0.000000   \n",
       "3                    0.0                 0.0            18.025041   \n",
       "4                    0.0                 0.0             0.000000   \n",
       "\n",
       "   OXAZEPAM_100_pdds  TEMAZEPAM_100_pdds  ZALEPLON_100_pdds  \\\n",
       "0                0.0                 0.0                0.0   \n",
       "1                0.0                 0.0                0.0   \n",
       "2                0.0                 0.0                0.0   \n",
       "3                0.0                 0.0                0.0   \n",
       "4                0.0                 0.0                0.0   \n",
       "\n",
       "   ZOLPIDEM TARTRATE_100_pdds  ZOLPIDEM _100_pdds  ZOPICLONE_100_pdds  \\\n",
       "0                         0.0                 0.0                 0.0   \n",
       "1                         0.0                 0.0                 0.0   \n",
       "2                         0.0                 0.0                 0.0   \n",
       "3                         0.0                 0.0                 0.0   \n",
       "4                         0.0                 0.0                 0.0   \n",
       "\n",
       "   insomnia  insomnia_no_hypnotics  stroke  heart_failure  mental_illness  \\\n",
       "0         0                      0       0              1               0   \n",
       "1         0                      0       0              0               0   \n",
       "2         0                      0       0              0               0   \n",
       "3         0                      0       0              0               0   \n",
       "4         0                      0       0              0               1   \n",
       "\n",
       "   sleep_apnoea  chronic_pulmonary_disease  epilepsy  hypnotics_100_pdds  \\\n",
       "0             0                          0         0            0.000000   \n",
       "1             0                          0         0            0.000000   \n",
       "2             0                          0         0            0.000000   \n",
       "3             0                          0         0           18.025041   \n",
       "4             0                          0         0            0.000000   \n",
       "\n",
       "   age_at_index_date:65-69  age_at_index_date:70-74  age_at_index_date:75-79  \\\n",
       "0                      0.0                      1.0                      0.0   \n",
       "1                      0.0                      0.0                      0.0   \n",
       "2                      0.0                      0.0                      0.0   \n",
       "3                      0.0                      0.0                      0.0   \n",
       "4                      0.0                      0.0                      1.0   \n",
       "\n",
       "   age_at_index_date:80-84  age_at_index_date:85-89  age_at_index_date:90-99  \\\n",
       "0                      0.0                      0.0                      0.0   \n",
       "1                      1.0                      0.0                      0.0   \n",
       "2                      0.0                      1.0                      0.0   \n",
       "3                      0.0                      0.0                      1.0   \n",
       "4                      0.0                      0.0                      0.0   \n",
       "\n",
       "   age_at_index_date:above_99  hypnotic_pdds:00000  hypnotic_pdds:00001_10  \\\n",
       "0                         0.0                  1.0                     0.0   \n",
       "1                         0.0                  1.0                     0.0   \n",
       "2                         0.0                  1.0                     0.0   \n",
       "3                         0.0                  0.0                     0.0   \n",
       "4                         0.0                  1.0                     0.0   \n",
       "\n",
       "   hypnotic_pdds:00011_100  hypnotic_pdds:00101_1000  \\\n",
       "0                      0.0                       0.0   \n",
       "1                      0.0                       0.0   \n",
       "2                      0.0                       0.0   \n",
       "3                      0.0                       0.0   \n",
       "4                      0.0                       0.0   \n",
       "\n",
       "   hypnotic_pdds:01001_10000  hypnotic_pdds:10000_and_above  \n",
       "0                        0.0                            0.0  \n",
       "1                        0.0                            0.0  \n",
       "2                        0.0                            0.0  \n",
       "3                        1.0                            0.0  \n",
       "4                        0.0                            0.0  "
      ]
     },
     "metadata": {},
     "output_type": "display_data"
    },
    {
     "name": "stdout",
     "output_type": "stream",
     "text": [
      "8_to_3 ...\n",
      "insomnia\n",
      "insomnia_no_hypnotics\n",
      "stroke\n",
      "heart_failure\n",
      "mental_illness\n",
      "sleep_apnoea\n",
      "chronic_pulmonary_disease\n",
      "epilepsy\n",
      "hypnotics\n",
      "There are 5224 relevant prescription entries for hypnotics\n"
     ]
    },
    {
     "data": {
      "text/html": [
       "<div>\n",
       "<style scoped>\n",
       "    .dataframe tbody tr th:only-of-type {\n",
       "        vertical-align: middle;\n",
       "    }\n",
       "\n",
       "    .dataframe tbody tr th {\n",
       "        vertical-align: top;\n",
       "    }\n",
       "\n",
       "    .dataframe thead th {\n",
       "        text-align: right;\n",
       "    }\n",
       "</style>\n",
       "<table border=\"1\" class=\"dataframe\">\n",
       "  <thead>\n",
       "    <tr style=\"text-align: right;\">\n",
       "      <th></th>\n",
       "      <th>patid</th>\n",
       "      <th>yob</th>\n",
       "      <th>pracid</th>\n",
       "      <th>female</th>\n",
       "      <th>index_date</th>\n",
       "      <th>isCase</th>\n",
       "      <th>final dementia medcode</th>\n",
       "      <th>data_end</th>\n",
       "      <th>data_start</th>\n",
       "      <th>matchid</th>\n",
       "      <th>age_at_index_date</th>\n",
       "      <th>insomnia</th>\n",
       "      <th>insomnia_no_hypnotics</th>\n",
       "      <th>stroke</th>\n",
       "      <th>heart_failure</th>\n",
       "      <th>mental_illness</th>\n",
       "      <th>sleep_apnoea</th>\n",
       "      <th>chronic_pulmonary_disease</th>\n",
       "      <th>epilepsy</th>\n",
       "      <th>hypnotics_100_pdds</th>\n",
       "      <th>age_at_index_date:65-69</th>\n",
       "      <th>age_at_index_date:70-74</th>\n",
       "      <th>age_at_index_date:75-79</th>\n",
       "      <th>age_at_index_date:80-84</th>\n",
       "      <th>age_at_index_date:85-89</th>\n",
       "      <th>age_at_index_date:90-99</th>\n",
       "      <th>age_at_index_date:above_99</th>\n",
       "      <th>hypnotic_pdds:00000</th>\n",
       "      <th>hypnotic_pdds:00001_10</th>\n",
       "      <th>hypnotic_pdds:00011_100</th>\n",
       "      <th>hypnotic_pdds:00101_1000</th>\n",
       "      <th>hypnotic_pdds:01001_10000</th>\n",
       "      <th>hypnotic_pdds:10000_and_above</th>\n",
       "    </tr>\n",
       "  </thead>\n",
       "  <tbody>\n",
       "    <tr>\n",
       "      <th>0</th>\n",
       "      <td>3952335</td>\n",
       "      <td>22</td>\n",
       "      <td>335</td>\n",
       "      <td>1</td>\n",
       "      <td>2002-10-01</td>\n",
       "      <td>True</td>\n",
       "      <td>1917.0</td>\n",
       "      <td>2002-10-21</td>\n",
       "      <td>1994-09-30</td>\n",
       "      <td>47221</td>\n",
       "      <td>80</td>\n",
       "      <td>0</td>\n",
       "      <td>0</td>\n",
       "      <td>1</td>\n",
       "      <td>0</td>\n",
       "      <td>0</td>\n",
       "      <td>0</td>\n",
       "      <td>0</td>\n",
       "      <td>0</td>\n",
       "      <td>0.0</td>\n",
       "      <td>0.0</td>\n",
       "      <td>0.0</td>\n",
       "      <td>0.0</td>\n",
       "      <td>1.0</td>\n",
       "      <td>0.0</td>\n",
       "      <td>0.0</td>\n",
       "      <td>0.0</td>\n",
       "      <td>1.0</td>\n",
       "      <td>0.0</td>\n",
       "      <td>0.0</td>\n",
       "      <td>0.0</td>\n",
       "      <td>0.0</td>\n",
       "      <td>0.0</td>\n",
       "    </tr>\n",
       "    <tr>\n",
       "      <th>1</th>\n",
       "      <td>4688370</td>\n",
       "      <td>22</td>\n",
       "      <td>370</td>\n",
       "      <td>1</td>\n",
       "      <td>2007-09-21</td>\n",
       "      <td>True</td>\n",
       "      <td>6578.0</td>\n",
       "      <td>2007-10-11</td>\n",
       "      <td>1999-09-15</td>\n",
       "      <td>51463</td>\n",
       "      <td>85</td>\n",
       "      <td>0</td>\n",
       "      <td>0</td>\n",
       "      <td>0</td>\n",
       "      <td>0</td>\n",
       "      <td>0</td>\n",
       "      <td>0</td>\n",
       "      <td>0</td>\n",
       "      <td>0</td>\n",
       "      <td>0.0</td>\n",
       "      <td>0.0</td>\n",
       "      <td>0.0</td>\n",
       "      <td>0.0</td>\n",
       "      <td>0.0</td>\n",
       "      <td>1.0</td>\n",
       "      <td>0.0</td>\n",
       "      <td>0.0</td>\n",
       "      <td>1.0</td>\n",
       "      <td>0.0</td>\n",
       "      <td>0.0</td>\n",
       "      <td>0.0</td>\n",
       "      <td>0.0</td>\n",
       "      <td>0.0</td>\n",
       "    </tr>\n",
       "    <tr>\n",
       "      <th>2</th>\n",
       "      <td>3636234</td>\n",
       "      <td>27</td>\n",
       "      <td>234</td>\n",
       "      <td>0</td>\n",
       "      <td>2007-12-17</td>\n",
       "      <td>True</td>\n",
       "      <td>6578.0</td>\n",
       "      <td>2008-01-04</td>\n",
       "      <td>1999-12-01</td>\n",
       "      <td>33483</td>\n",
       "      <td>80</td>\n",
       "      <td>0</td>\n",
       "      <td>0</td>\n",
       "      <td>0</td>\n",
       "      <td>0</td>\n",
       "      <td>0</td>\n",
       "      <td>0</td>\n",
       "      <td>0</td>\n",
       "      <td>0</td>\n",
       "      <td>0.0</td>\n",
       "      <td>0.0</td>\n",
       "      <td>0.0</td>\n",
       "      <td>0.0</td>\n",
       "      <td>1.0</td>\n",
       "      <td>0.0</td>\n",
       "      <td>0.0</td>\n",
       "      <td>0.0</td>\n",
       "      <td>1.0</td>\n",
       "      <td>0.0</td>\n",
       "      <td>0.0</td>\n",
       "      <td>0.0</td>\n",
       "      <td>0.0</td>\n",
       "      <td>0.0</td>\n",
       "    </tr>\n",
       "    <tr>\n",
       "      <th>3</th>\n",
       "      <td>465452</td>\n",
       "      <td>18</td>\n",
       "      <td>452</td>\n",
       "      <td>1</td>\n",
       "      <td>2006-03-08</td>\n",
       "      <td>True</td>\n",
       "      <td>1916.0</td>\n",
       "      <td>2006-03-08</td>\n",
       "      <td>1998-01-31</td>\n",
       "      <td>62534</td>\n",
       "      <td>88</td>\n",
       "      <td>0</td>\n",
       "      <td>0</td>\n",
       "      <td>0</td>\n",
       "      <td>0</td>\n",
       "      <td>0</td>\n",
       "      <td>0</td>\n",
       "      <td>0</td>\n",
       "      <td>0</td>\n",
       "      <td>0.0</td>\n",
       "      <td>0.0</td>\n",
       "      <td>0.0</td>\n",
       "      <td>0.0</td>\n",
       "      <td>0.0</td>\n",
       "      <td>1.0</td>\n",
       "      <td>0.0</td>\n",
       "      <td>0.0</td>\n",
       "      <td>1.0</td>\n",
       "      <td>0.0</td>\n",
       "      <td>0.0</td>\n",
       "      <td>0.0</td>\n",
       "      <td>0.0</td>\n",
       "      <td>0.0</td>\n",
       "    </tr>\n",
       "    <tr>\n",
       "      <th>4</th>\n",
       "      <td>5890114</td>\n",
       "      <td>34</td>\n",
       "      <td>114</td>\n",
       "      <td>0</td>\n",
       "      <td>2008-12-01</td>\n",
       "      <td>True</td>\n",
       "      <td>6578.0</td>\n",
       "      <td>2009-01-06</td>\n",
       "      <td>2000-11-28</td>\n",
       "      <td>14917</td>\n",
       "      <td>74</td>\n",
       "      <td>0</td>\n",
       "      <td>0</td>\n",
       "      <td>0</td>\n",
       "      <td>1</td>\n",
       "      <td>0</td>\n",
       "      <td>0</td>\n",
       "      <td>0</td>\n",
       "      <td>0</td>\n",
       "      <td>0.0</td>\n",
       "      <td>0.0</td>\n",
       "      <td>1.0</td>\n",
       "      <td>0.0</td>\n",
       "      <td>0.0</td>\n",
       "      <td>0.0</td>\n",
       "      <td>0.0</td>\n",
       "      <td>0.0</td>\n",
       "      <td>1.0</td>\n",
       "      <td>0.0</td>\n",
       "      <td>0.0</td>\n",
       "      <td>0.0</td>\n",
       "      <td>0.0</td>\n",
       "      <td>0.0</td>\n",
       "    </tr>\n",
       "  </tbody>\n",
       "</table>\n",
       "</div>"
      ],
      "text/plain": [
       "     patid  yob  pracid  female index_date  isCase  final dementia medcode  \\\n",
       "0  3952335   22     335       1 2002-10-01    True                  1917.0   \n",
       "1  4688370   22     370       1 2007-09-21    True                  6578.0   \n",
       "2  3636234   27     234       0 2007-12-17    True                  6578.0   \n",
       "3   465452   18     452       1 2006-03-08    True                  1916.0   \n",
       "4  5890114   34     114       0 2008-12-01    True                  6578.0   \n",
       "\n",
       "    data_end data_start  matchid  age_at_index_date  insomnia  \\\n",
       "0 2002-10-21 1994-09-30    47221                 80         0   \n",
       "1 2007-10-11 1999-09-15    51463                 85         0   \n",
       "2 2008-01-04 1999-12-01    33483                 80         0   \n",
       "3 2006-03-08 1998-01-31    62534                 88         0   \n",
       "4 2009-01-06 2000-11-28    14917                 74         0   \n",
       "\n",
       "   insomnia_no_hypnotics  stroke  heart_failure  mental_illness  sleep_apnoea  \\\n",
       "0                      0       1              0               0             0   \n",
       "1                      0       0              0               0             0   \n",
       "2                      0       0              0               0             0   \n",
       "3                      0       0              0               0             0   \n",
       "4                      0       0              1               0             0   \n",
       "\n",
       "   chronic_pulmonary_disease  epilepsy  hypnotics_100_pdds  \\\n",
       "0                          0         0                 0.0   \n",
       "1                          0         0                 0.0   \n",
       "2                          0         0                 0.0   \n",
       "3                          0         0                 0.0   \n",
       "4                          0         0                 0.0   \n",
       "\n",
       "   age_at_index_date:65-69  age_at_index_date:70-74  age_at_index_date:75-79  \\\n",
       "0                      0.0                      0.0                      0.0   \n",
       "1                      0.0                      0.0                      0.0   \n",
       "2                      0.0                      0.0                      0.0   \n",
       "3                      0.0                      0.0                      0.0   \n",
       "4                      0.0                      1.0                      0.0   \n",
       "\n",
       "   age_at_index_date:80-84  age_at_index_date:85-89  age_at_index_date:90-99  \\\n",
       "0                      1.0                      0.0                      0.0   \n",
       "1                      0.0                      1.0                      0.0   \n",
       "2                      1.0                      0.0                      0.0   \n",
       "3                      0.0                      1.0                      0.0   \n",
       "4                      0.0                      0.0                      0.0   \n",
       "\n",
       "   age_at_index_date:above_99  hypnotic_pdds:00000  hypnotic_pdds:00001_10  \\\n",
       "0                         0.0                  1.0                     0.0   \n",
       "1                         0.0                  1.0                     0.0   \n",
       "2                         0.0                  1.0                     0.0   \n",
       "3                         0.0                  1.0                     0.0   \n",
       "4                         0.0                  1.0                     0.0   \n",
       "\n",
       "   hypnotic_pdds:00011_100  hypnotic_pdds:00101_1000  \\\n",
       "0                      0.0                       0.0   \n",
       "1                      0.0                       0.0   \n",
       "2                      0.0                       0.0   \n",
       "3                      0.0                       0.0   \n",
       "4                      0.0                       0.0   \n",
       "\n",
       "   hypnotic_pdds:01001_10000  hypnotic_pdds:10000_and_above  \n",
       "0                        0.0                            0.0  \n",
       "1                        0.0                            0.0  \n",
       "2                        0.0                            0.0  \n",
       "3                        0.0                            0.0  \n",
       "4                        0.0                            0.0  "
      ]
     },
     "metadata": {},
     "output_type": "display_data"
    }
   ],
   "source": [
    "for window in [sd.exposure_windows[0], sd.exposure_windows[2]]:\n",
    "    print(window['name'],'...')\n",
    "    pt_features = pd.read_csv('data/pt_data/processed_data/pt_features_demins_'+ window['name'] +'.csv',delimiter=',',parse_dates=['index_date','data_end','data_start'],infer_datetime_format=True)\n",
    "    pt_features = get_multiple_condition_statuses(pt_features,medcoded_entries,prescriptions,window,codelists.all_codelists)\n",
    "    pt_features = create_PDD_columns_for_each_pt(pt_features,window,[codelists.insomnia['medications']],prescriptions)\n",
    "    pt_features = create_quantiles_and_booleans(pt_features)\n",
    "    display(pt_features.head(5))    \n",
    "    pt_features.to_csv('data/pt_data/processed_data/pt_features_demins_'+ window['name'] +'.csv',index=False)"
   ]
  },
  {
   "cell_type": "code",
   "execution_count": null,
   "metadata": {},
   "outputs": [],
   "source": []
  }
 ],
 "metadata": {
  "kernelspec": {
   "display_name": "toadkern",
   "language": "python",
   "name": "toadkern"
  },
  "language_info": {
   "codemirror_mode": {
    "name": "ipython",
    "version": 3
   },
   "file_extension": ".py",
   "mimetype": "text/x-python",
   "name": "python",
   "nbconvert_exporter": "python",
   "pygments_lexer": "ipython3",
   "version": "3.6.4"
  }
 },
 "nbformat": 4,
 "nbformat_minor": 2
}
