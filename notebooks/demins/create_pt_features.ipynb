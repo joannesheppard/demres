{
 "cells": [
  {
   "cell_type": "code",
   "execution_count": 1,
   "metadata": {
    "scrolled": true
   },
   "outputs": [],
   "source": [
    "%load_ext autoreload\n",
    "%autoreload 2"
   ]
  },
  {
   "cell_type": "code",
   "execution_count": 2,
   "metadata": {
    "scrolled": true
   },
   "outputs": [
    {
     "name": "stdout",
     "output_type": "stream",
     "text": [
      "/Users/zurfarosa/demres\n"
     ]
    }
   ],
   "source": [
    "cd ~/demres"
   ]
  },
  {
   "cell_type": "code",
   "execution_count": 3,
   "metadata": {
    "scrolled": true
   },
   "outputs": [],
   "source": [
    "import os\n",
    "import sys\n",
    "\n",
    "module_path = os.path.abspath(os.path.join('..'))\n",
    "if module_path not in sys.path:\n",
    "    sys.path.append(module_path)\n",
    "\n",
    "import pandas as pd\n",
    "import numpy as np\n",
    "from datetime import date, timedelta\n",
    "\n",
    "import demres\n",
    "from demres.common.constants import entry_type\n",
    "from demres.common import codelists,druglists\n",
    "from demres.common.process_pt_features import *\n",
    "from demres.common.process_entries import *\n",
    "from demres.demins.constants import Study_Design as sd\n",
    "from demres.demins.statistical_functions import *\n",
    "from common.helper_functions import *\n",
    "from pprint import pprint\n",
    "from IPython.display import display"
   ]
  },
  {
   "cell_type": "code",
   "execution_count": 4,
   "metadata": {
    "scrolled": true
   },
   "outputs": [],
   "source": [
    "pd.set_option('display.max_columns', None)"
   ]
  },
  {
   "cell_type": "code",
   "execution_count": 5,
   "metadata": {},
   "outputs": [],
   "source": [
    "pd.set_option('display.max_rows', None)"
   ]
  },
  {
   "cell_type": "markdown",
   "metadata": {},
   "source": [
    "## Process raw CSV files"
   ]
  },
  {
   "cell_type": "code",
   "execution_count": 6,
   "metadata": {
    "scrolled": true
   },
   "outputs": [],
   "source": [
    "create_pegmed()"
   ]
  },
  {
   "cell_type": "code",
   "execution_count": 7,
   "metadata": {
    "scrolled": true
   },
   "outputs": [],
   "source": [
    "create_pegprod()"
   ]
  },
  {
   "cell_type": "code",
   "execution_count": 250,
   "metadata": {
    "scrolled": true
   },
   "outputs": [],
   "source": [
    "# create_prescriptions()"
   ]
  },
  {
   "cell_type": "code",
   "execution_count": 9,
   "metadata": {
    "scrolled": true
   },
   "outputs": [],
   "source": [
    "# create_consultations()"
   ]
  },
  {
   "cell_type": "code",
   "execution_count": 10,
   "metadata": {
    "scrolled": true
   },
   "outputs": [],
   "source": [
    "# create_clinicals()"
   ]
  },
  {
   "cell_type": "code",
   "execution_count": 11,
   "metadata": {
    "scrolled": true
   },
   "outputs": [],
   "source": [
    "# create_tests()"
   ]
  },
  {
   "cell_type": "code",
   "execution_count": 12,
   "metadata": {
    "scrolled": true
   },
   "outputs": [],
   "source": [
    "# create_referrals()"
   ]
  },
  {
   "cell_type": "code",
   "execution_count": 13,
   "metadata": {
    "scrolled": true
   },
   "outputs": [],
   "source": [
    "# create_immunisations()"
   ]
  },
  {
   "cell_type": "code",
   "execution_count": 14,
   "metadata": {
    "scrolled": true
   },
   "outputs": [],
   "source": [
    "# create_medcoded_entries()"
   ]
  },
  {
   "cell_type": "markdown",
   "metadata": {},
   "source": [
    "## Create processed CVS files to share with DEMINS teams\n",
    "*convert the newly created HDF files to CVS (for use in other projects)*"
   ]
  },
  {
   "cell_type": "code",
   "execution_count": 15,
   "metadata": {},
   "outputs": [],
   "source": [
    "# prescriptions = pd.read_hdf('data/pt_data/processed_data/hdf/prescriptions.hdf')\n",
    "# prescriptions.to_csv('data/pt_data/processed_data/to_share_with_DEMINS/prescriptions.csv',index=False)"
   ]
  },
  {
   "cell_type": "code",
   "execution_count": 16,
   "metadata": {},
   "outputs": [],
   "source": [
    "# consultations = pd.read_hdf('data/pt_data/processed_data/hdf/consultations.hdf')\n",
    "# consultations.to_csv('data/pt_data/processed_data/to_share_with_DEMINS/consultations.csv',index=False)"
   ]
  },
  {
   "cell_type": "code",
   "execution_count": 17,
   "metadata": {},
   "outputs": [],
   "source": [
    "# immunisations = pd.read_hdf('data/pt_data/processed_data/hdf/immunisations.hdf')\n",
    "# immunisations.to_csv('data/pt_data/processed_data/to_share_with_DEMINS/immunisations.csv',index=False)"
   ]
  },
  {
   "cell_type": "code",
   "execution_count": 18,
   "metadata": {},
   "outputs": [],
   "source": [
    "# clinicals = pd.read_hdf('data/pt_data/processed_data/hdf/clinicals.hdf')\n",
    "# clinicals.to_csv('data/pt_data/processed_data/to_share_with_DEMINS/clinicals.csv',index=False)"
   ]
  },
  {
   "cell_type": "code",
   "execution_count": 19,
   "metadata": {},
   "outputs": [],
   "source": [
    "# tests = pd.read_hdf('data/pt_data/processed_data/hdf/tests.hdf')\n",
    "# tests.to_csv('data/pt_data/processed_data/to_share_with_DEMINS/tests.csv',index=False)"
   ]
  },
  {
   "cell_type": "code",
   "execution_count": 20,
   "metadata": {},
   "outputs": [],
   "source": [
    "# referrals = pd.read_hdf('data/pt_data/processed_data/hdf/referrals.hdf')\n",
    "# referrals.to_csv('data/pt_data/processed_data/to_share_with_DEMINS/referrals.csv',index=False)"
   ]
  },
  {
   "cell_type": "code",
   "execution_count": 21,
   "metadata": {},
   "outputs": [],
   "source": [
    "# medcoded_entries = pd.read_hdf('data/pt_data/processed_data/hdf/medcoded_entries.hdf')\n",
    "# medcoded_entries.to_csv('data/pt_data/processed_data/to_share_with_DEMINS/medcoded_entries.csv',index=False)"
   ]
  },
  {
   "cell_type": "markdown",
   "metadata": {},
   "source": [
    "## Create basic pt_features dataframe\n",
    "*pt_features will contain all the variables (e.g. age, female gender, insomnia) used in the logistic regression*"
   ]
  },
  {
   "cell_type": "code",
   "execution_count": 7,
   "metadata": {
    "scrolled": true
   },
   "outputs": [],
   "source": [
    "# specify subtype of dementia we're interested in - 'vascular','alzheimers' or 'all_dementia'\n",
    "subtype = 'all_dementia' "
   ]
  },
  {
   "cell_type": "code",
   "execution_count": 9,
   "metadata": {
    "scrolled": true
   },
   "outputs": [],
   "source": [
    "all_encounters = get_all_encounters()"
   ]
  },
  {
   "cell_type": "code",
   "execution_count": 10,
   "metadata": {
    "scrolled": true
   },
   "outputs": [],
   "source": [
    "all_entries = get_all_entries(all_encounters)"
   ]
  },
  {
   "cell_type": "code",
   "execution_count": 298,
   "metadata": {
    "scrolled": true
   },
   "outputs": [],
   "source": [
    "pt_features = create_pt_features()"
   ]
  },
  {
   "cell_type": "code",
   "execution_count": 299,
   "metadata": {
    "scrolled": true
   },
   "outputs": [],
   "source": [
    "pt_features = get_index_date_and_caseness_and_add_final_dementia_subtype(all_entries,pt_features)"
   ]
  },
  {
   "cell_type": "code",
   "execution_count": null,
   "metadata": {
    "scrolled": true
   },
   "outputs": [],
   "source": [
    "# pt_features = only_include_specific_dementia_subtype(pt_features,subtype=subtype) #does nothing if we're interested in all dementia"
   ]
  },
  {
   "cell_type": "code",
   "execution_count": 300,
   "metadata": {
    "scrolled": true
   },
   "outputs": [
    {
     "name": "stdout",
     "output_type": "stream",
     "text": [
      "calculating latest_sysdate\n",
      "calculating earliest_sysdate\n",
      "resampling all_encounters - may take some time...\n",
      "locating converted codes\n",
      "choosing most appropriate measure of data_start\n",
      "removing patients without any events\n",
      "There are 14 patients without any events\n"
     ]
    }
   ],
   "source": [
    "pt_features = add_data_start_and_end_dates(all_encounters,pt_features,subtype)"
   ]
  },
  {
   "cell_type": "code",
   "execution_count": 301,
   "metadata": {},
   "outputs": [
    {
     "data": {
      "text/html": [
       "<div>\n",
       "<table border=\"1\" class=\"dataframe\">\n",
       "  <thead>\n",
       "    <tr style=\"text-align: right;\">\n",
       "      <th></th>\n",
       "      <th>patid</th>\n",
       "      <th>yob</th>\n",
       "      <th>pracid</th>\n",
       "      <th>female</th>\n",
       "      <th>index_date</th>\n",
       "      <th>isCase</th>\n",
       "      <th>final dementia medcode</th>\n",
       "      <th>data_end</th>\n",
       "      <th>data_start</th>\n",
       "    </tr>\n",
       "  </thead>\n",
       "  <tbody>\n",
       "    <tr>\n",
       "      <th>0</th>\n",
       "      <td>57001</td>\n",
       "      <td>32</td>\n",
       "      <td>001</td>\n",
       "      <td>0</td>\n",
       "      <td>2006-12-05</td>\n",
       "      <td>True</td>\n",
       "      <td>19477.0</td>\n",
       "      <td>2013-05-17</td>\n",
       "      <td>1997-03-07</td>\n",
       "    </tr>\n",
       "    <tr>\n",
       "      <th>1</th>\n",
       "      <td>60001</td>\n",
       "      <td>24</td>\n",
       "      <td>001</td>\n",
       "      <td>0</td>\n",
       "      <td>NaT</td>\n",
       "      <td>False</td>\n",
       "      <td>NaN</td>\n",
       "      <td>2013-05-20</td>\n",
       "      <td>1997-03-07</td>\n",
       "    </tr>\n",
       "    <tr>\n",
       "      <th>2</th>\n",
       "      <td>149001</td>\n",
       "      <td>19</td>\n",
       "      <td>001</td>\n",
       "      <td>1</td>\n",
       "      <td>2004-07-02</td>\n",
       "      <td>True</td>\n",
       "      <td>7572.0</td>\n",
       "      <td>2004-11-17</td>\n",
       "      <td>1997-03-07</td>\n",
       "    </tr>\n",
       "    <tr>\n",
       "      <th>3</th>\n",
       "      <td>364001</td>\n",
       "      <td>37</td>\n",
       "      <td>001</td>\n",
       "      <td>1</td>\n",
       "      <td>NaT</td>\n",
       "      <td>False</td>\n",
       "      <td>NaN</td>\n",
       "      <td>2013-05-17</td>\n",
       "      <td>1997-03-07</td>\n",
       "    </tr>\n",
       "    <tr>\n",
       "      <th>4</th>\n",
       "      <td>432001</td>\n",
       "      <td>20</td>\n",
       "      <td>001</td>\n",
       "      <td>1</td>\n",
       "      <td>NaT</td>\n",
       "      <td>False</td>\n",
       "      <td>NaN</td>\n",
       "      <td>2013-04-15</td>\n",
       "      <td>1997-03-07</td>\n",
       "    </tr>\n",
       "    <tr>\n",
       "      <th>5</th>\n",
       "      <td>519001</td>\n",
       "      <td>27</td>\n",
       "      <td>001</td>\n",
       "      <td>1</td>\n",
       "      <td>NaT</td>\n",
       "      <td>False</td>\n",
       "      <td>NaN</td>\n",
       "      <td>2013-05-07</td>\n",
       "      <td>1997-03-07</td>\n",
       "    </tr>\n",
       "    <tr>\n",
       "      <th>6</th>\n",
       "      <td>543001</td>\n",
       "      <td>40</td>\n",
       "      <td>001</td>\n",
       "      <td>0</td>\n",
       "      <td>2006-02-09</td>\n",
       "      <td>True</td>\n",
       "      <td>9509.0</td>\n",
       "      <td>2006-10-05</td>\n",
       "      <td>1995-01-31</td>\n",
       "    </tr>\n",
       "    <tr>\n",
       "      <th>7</th>\n",
       "      <td>558001</td>\n",
       "      <td>37</td>\n",
       "      <td>001</td>\n",
       "      <td>1</td>\n",
       "      <td>NaT</td>\n",
       "      <td>False</td>\n",
       "      <td>NaN</td>\n",
       "      <td>2013-04-17</td>\n",
       "      <td>1997-03-07</td>\n",
       "    </tr>\n",
       "    <tr>\n",
       "      <th>8</th>\n",
       "      <td>644001</td>\n",
       "      <td>35</td>\n",
       "      <td>001</td>\n",
       "      <td>1</td>\n",
       "      <td>2008-08-12</td>\n",
       "      <td>True</td>\n",
       "      <td>1350.0</td>\n",
       "      <td>2013-05-17</td>\n",
       "      <td>1997-03-07</td>\n",
       "    </tr>\n",
       "    <tr>\n",
       "      <th>9</th>\n",
       "      <td>663001</td>\n",
       "      <td>18</td>\n",
       "      <td>001</td>\n",
       "      <td>1</td>\n",
       "      <td>NaT</td>\n",
       "      <td>False</td>\n",
       "      <td>NaN</td>\n",
       "      <td>2013-05-14</td>\n",
       "      <td>1997-03-07</td>\n",
       "    </tr>\n",
       "    <tr>\n",
       "      <th>10</th>\n",
       "      <td>676001</td>\n",
       "      <td>30</td>\n",
       "      <td>001</td>\n",
       "      <td>1</td>\n",
       "      <td>NaT</td>\n",
       "      <td>False</td>\n",
       "      <td>NaN</td>\n",
       "      <td>2013-04-30</td>\n",
       "      <td>1997-03-07</td>\n",
       "    </tr>\n",
       "    <tr>\n",
       "      <th>11</th>\n",
       "      <td>702001</td>\n",
       "      <td>22</td>\n",
       "      <td>001</td>\n",
       "      <td>1</td>\n",
       "      <td>2006-03-27</td>\n",
       "      <td>True</td>\n",
       "      <td>6578.0</td>\n",
       "      <td>2009-08-03</td>\n",
       "      <td>1992-01-31</td>\n",
       "    </tr>\n",
       "    <tr>\n",
       "      <th>12</th>\n",
       "      <td>718001</td>\n",
       "      <td>22</td>\n",
       "      <td>001</td>\n",
       "      <td>0</td>\n",
       "      <td>2007-02-26</td>\n",
       "      <td>True</td>\n",
       "      <td>1917.0</td>\n",
       "      <td>2013-02-12</td>\n",
       "      <td>1997-03-07</td>\n",
       "    </tr>\n",
       "    <tr>\n",
       "      <th>13</th>\n",
       "      <td>746001</td>\n",
       "      <td>27</td>\n",
       "      <td>001</td>\n",
       "      <td>1</td>\n",
       "      <td>NaT</td>\n",
       "      <td>False</td>\n",
       "      <td>NaN</td>\n",
       "      <td>2008-12-19</td>\n",
       "      <td>1997-03-07</td>\n",
       "    </tr>\n",
       "    <tr>\n",
       "      <th>14</th>\n",
       "      <td>774001</td>\n",
       "      <td>29</td>\n",
       "      <td>001</td>\n",
       "      <td>0</td>\n",
       "      <td>NaT</td>\n",
       "      <td>False</td>\n",
       "      <td>NaN</td>\n",
       "      <td>2013-05-16</td>\n",
       "      <td>1997-03-07</td>\n",
       "    </tr>\n",
       "  </tbody>\n",
       "</table>\n",
       "</div>"
      ],
      "text/plain": [
       "     patid yob pracid  female index_date isCase  final dementia medcode  \\\n",
       "0    57001  32    001       0 2006-12-05   True                 19477.0   \n",
       "1    60001  24    001       0        NaT  False                     NaN   \n",
       "2   149001  19    001       1 2004-07-02   True                  7572.0   \n",
       "3   364001  37    001       1        NaT  False                     NaN   \n",
       "4   432001  20    001       1        NaT  False                     NaN   \n",
       "5   519001  27    001       1        NaT  False                     NaN   \n",
       "6   543001  40    001       0 2006-02-09   True                  9509.0   \n",
       "7   558001  37    001       1        NaT  False                     NaN   \n",
       "8   644001  35    001       1 2008-08-12   True                  1350.0   \n",
       "9   663001  18    001       1        NaT  False                     NaN   \n",
       "10  676001  30    001       1        NaT  False                     NaN   \n",
       "11  702001  22    001       1 2006-03-27   True                  6578.0   \n",
       "12  718001  22    001       0 2007-02-26   True                  1917.0   \n",
       "13  746001  27    001       1        NaT  False                     NaN   \n",
       "14  774001  29    001       0        NaT  False                     NaN   \n",
       "\n",
       "     data_end data_start  \n",
       "0  2013-05-17 1997-03-07  \n",
       "1  2013-05-20 1997-03-07  \n",
       "2  2004-11-17 1997-03-07  \n",
       "3  2013-05-17 1997-03-07  \n",
       "4  2013-04-15 1997-03-07  \n",
       "5  2013-05-07 1997-03-07  \n",
       "6  2006-10-05 1995-01-31  \n",
       "7  2013-04-17 1997-03-07  \n",
       "8  2013-05-17 1997-03-07  \n",
       "9  2013-05-14 1997-03-07  \n",
       "10 2013-04-30 1997-03-07  \n",
       "11 2009-08-03 1992-01-31  \n",
       "12 2013-02-12 1997-03-07  \n",
       "13 2008-12-19 1997-03-07  \n",
       "14 2013-05-16 1997-03-07  "
      ]
     },
     "execution_count": 301,
     "metadata": {},
     "output_type": "execute_result"
    }
   ],
   "source": [
    "pt_features.head(15)"
   ]
  },
  {
   "cell_type": "code",
   "execution_count": 302,
   "metadata": {
    "scrolled": true
   },
   "outputs": [
    {
     "name": "stdout",
     "output_type": "stream",
     "text": [
      "12_to_7  being matched\n",
      "All patients 94500\n",
      "Number of suitable cases 12216\n",
      "Number of controls 47020\n",
      "75714  patients being removed as unmatchable\n",
      "10_to_5  being matched\n",
      "All patients 94500\n",
      "Number of suitable cases 18849\n",
      "Number of controls 47020\n",
      "64082  patients being removed as unmatchable\n",
      "8_to_3  being matched\n",
      "All patients 94500\n",
      "Number of suitable cases 26042\n",
      "Number of controls 47020\n",
      "50622  patients being removed as unmatchable\n"
     ]
    }
   ],
   "source": [
    "for window in sd.exposure_windows:\n",
    "    print(window['name'],' being matched')    \n",
    "    pt_features = pd.read_csv('data/pt_data/processed_data/pt_features_demins_'+subtype+'.csv',delimiter=',',parse_dates=['index_date','data_end','data_start'],infer_datetime_format=True)\n",
    "    pt_features = match_cases_and_controls(pt_features,window)\n",
    "    pt_features.to_csv('data/pt_data/processed_data/pt_features_demins_'+subtype+'_'+ window['name'] +'.csv',index=False)"
   ]
  },
  {
   "cell_type": "markdown",
   "metadata": {},
   "source": [
    "## Add derived variables to pt_features \n",
    "*e.g. insomnia count, history of stroke, consultation count*"
   ]
  },
  {
   "cell_type": "code",
   "execution_count": 9,
   "metadata": {
    "scrolled": true
   },
   "outputs": [],
   "source": [
    "medcoded_entries = pd.read_hdf('data/pt_data/processed_data/hdf/medcoded_entries.hdf')"
   ]
  },
  {
   "cell_type": "code",
   "execution_count": 12,
   "metadata": {
    "scrolled": true
   },
   "outputs": [],
   "source": [
    "prescriptions = pd.read_hdf('data/pt_data/processed_data/hdf/prescriptions.hdf')"
   ]
  },
  {
   "cell_type": "code",
   "execution_count": 304,
   "metadata": {},
   "outputs": [],
   "source": [
    "pt_features = pd.read_csv('data/pt_data/processed_data/pt_features_demins_'+subtype+'_'+sd.exposure_windows[1]['name']+'.csv',delimiter=',',parse_dates=['index_date','data_end','data_start'],infer_datetime_format=True)"
   ]
  },
  {
   "cell_type": "code",
   "execution_count": 305,
   "metadata": {
    "scrolled": true
   },
   "outputs": [
    {
     "name": "stdout",
     "output_type": "stream",
     "text": [
      "CARBAMAZEPINE \tpdd: 329.571934268\n",
      "GABAPENTIN \tpdd: 711.545805055\n",
      "LAMOTRIGINE \tpdd: 187.326325773\n",
      "PREGABALIN \tpdd: 169.484271346\n",
      "SODIUM VALPROATE \tpdd: 721.028033855\n",
      "VALPROATE SEMISODIUM \tpdd: 496.21653085\n",
      "OXCARBAZEPINE \tpdd: 573.913043478\n",
      "BRIVARACETAM \tNo prescriptions found\n",
      "ETHOSUXIMIDE \tpdd: 500.0\n",
      "LEVETIRACETAM \tpdd: 502.131478084\n",
      "OXCARBAZEPINE \tpdd: 573.913043478\n",
      "TOPIRAMATE \tpdd: 91.4574845578\n",
      "VIGABATRIN \tpdd: 1000.0\n",
      "LITHIUM CITRATE \tpdd: 891.292307692\n",
      "LITHIUM CARBONATE \tpdd: 464.293337538\n",
      "ALPRAZOLAM \tpdd: 0.239361702128\n",
      "CHLORDIAZEPOXIDE HYDROCHLORIDE \tpdd: 10.8586489863\n",
      "CLOBAZAM \tpdd: 11.7033750594\n",
      "CLONAZEPAM \tpdd: 0.823051344315\n",
      "DIAZEPAM \tpdd: 4.66742792872\n",
      "FLUNITRAZEPAM \tpdd: 1.0\n",
      "FLURAZEPAM \tNo prescriptions found\n",
      "FLURAZEPAM HYDROCHLORIDE \tpdd: 27.2297441592\n",
      "LOPRAZOLAM \tNo prescriptions found\n",
      "LORAZEPAM \tpdd: 1.46318357973\n",
      "LORMETAZEPAM \tpdd: 0.865905116329\n",
      "MIDAZOLAM \tNo prescriptions found\n",
      "MIDAZOLAM HYDROCHLORIDE \tNo prescriptions found\n",
      "NITRAZEPAM \tpdd: 5.97603790155\n",
      "OXAZEPAM \tpdd: 19.0568681231\n",
      "TEMAZEPAM \tpdd: 14.2202967324\n",
      "CHLORDIAZEPOXIDE \tNo prescriptions found\n",
      "BROMAZEPAM \tNo prescriptions found\n",
      "CLORAZEPATE DIPOTASSIUM \tNo prescriptions found\n",
      "LOPRAZOLAM MESILATE \tpdd: 1.09609611852\n",
      "ZALEPLON \tpdd: 6.97840172786\n",
      "ZOPICLONE \tpdd: 6.57257823592\n",
      "ZOLPIDEM TARTRATE \tpdd: 7.23277765645\n",
      "ZOLPIDEM \tNo prescriptions found\n",
      "AMITRIPTYLINE WITH PERPHENAZINE \tNo prescriptions found\n",
      "BENPERIDOL \tpdd: 0.75\n",
      "CHLORPROMAZINE HYDROCHLORIDE \tpdd: 43.9860869041\n",
      "DROPERIDOL \tNo prescriptions found\n",
      "FLUPENTIXOL \tNo prescriptions found\n",
      "HALOPERIDOL \tpdd: 5.80282608749\n",
      "LEVOMEPROMAZINE \tNo prescriptions found\n",
      "METHOTRIMEPRAZINE \tNo prescriptions found\n",
      "PERICYAZINE \tpdd: 11.7475116543\n",
      "PERPHENAZINE \tpdd: 7.43706977755\n",
      "PIMOZIDE \tpdd: 2.84615384615\n",
      "PROCHLORPERAZINE \tNo prescriptions found\n",
      "PROMAZINE HYDROCHLORIDE \tpdd: 47.5813548066\n",
      "THIORIDAZINE \tpdd: 7.96979865772\n",
      "SULPIRIDE \tpdd: 418.635291873\n",
      "TRIFLUOPERAZINE \tNo prescriptions found\n",
      "ZUCLOPENTHIXOL \tNo prescriptions found\n",
      "ZUCLOPENTHIXOL ACETATE \tNo prescriptions found\n",
      "AMISULPRIDE \tpdd: 52.0345879959\n",
      "ARIPIPRAZOLE \tpdd: 10.7692307692\n",
      "ASENAPINE \tNo prescriptions found\n",
      "CLOZAPINE \tNo prescriptions found\n",
      "LURASIDONE HYDROCHLORIDE \tNo prescriptions found\n",
      "OLANZAPINE \tpdd: 5.41906783955\n",
      "PALIPERIDONE \tNo prescriptions found\n",
      "QUETIAPINE FUMARATE \tpdd: 112.345178214\n",
      "RISPERIDONE \tpdd: 1.80221359782\n",
      "ZOTEPINE \tNo prescriptions found\n",
      "PROCHLORPERAZINE MALEATE \tpdd: 11.6023248143\n",
      "PROCHLORPERAZINE MESILATE \tpdd: 7.25393890897\n",
      "ZUCLOPENTHIXOL DIHYDROCHLORIDE \tpdd: 8.23348933079\n",
      "FLUPHENAZINE HYDROCHLORIDE \tpdd: 1.51761299662\n",
      "LOXAPINE \tNo prescriptions found\n",
      "OXYPERTINE \tpdd: 40.0\n",
      "PERICYAZINE \tpdd: 11.7475116543\n",
      "THIORIDAZINE HYDROCHLORIDE \tpdd: 55.567986316\n",
      "VORTIOXETINE \tNo prescriptions found\n",
      "MIANSERIN HYDROCHLORIDE \tpdd: 28.2104135993\n",
      "MIRTAZAPINE \tpdd: 26.8274540742\n",
      "CLOMIPRAMINE HYDROCHLORIDE \tpdd: 52.0074042077\n",
      "DOSULEPIN HYDROCHLORIDE \tpdd: 59.1905955976\n",
      "DOXEPIN \tNo prescriptions found\n",
      "IMIPRAMINE HYDROCHLORIDE \tpdd: 44.5226133047\n",
      "LOFEPRAMINE \tNo prescriptions found\n",
      "NORTRIPTYLINE \tNo prescriptions found\n",
      "TRIMIPRAMINE \tNo prescriptions found\n",
      "CITALOPRAM \tNo prescriptions found\n",
      "DAPOXETINE \tNo prescriptions found\n",
      "ESCITALOPRAM \tNo prescriptions found\n",
      "FLUOXETINE \tNo prescriptions found\n",
      "FLUVOXAMINE MALEATE \tpdd: 93.6567553469\n",
      "PAROXETINE \tNo prescriptions found\n",
      "SERTRALINE \tNo prescriptions found\n",
      "BUPROPION HYDROCHLORIDE \tpdd: 206.030769231\n",
      "DULOXETINE \tNo prescriptions found\n",
      "VENLAFAXINE \tNo prescriptions found\n",
      "BUSPIRONE HYDROCHLORIDE \tpdd: 13.095246482\n",
      "TRAZODONE HYDROCHLORIDE \tpdd: 112.403622276\n",
      "REBOXETINE \tNo prescriptions found\n",
      "CITALOPRAM HYDROBROMIDE \tpdd: 18.0333430724\n",
      "CITALOPRAM HYDROCHLORIDE \tpdd: 40.0\n",
      "DOSULEPIN HYDROCHLORIDE \tpdd: 59.1905955976\n",
      "DOXEPIN HYDROCHLORIDE \tpdd: 51.8345140662\n",
      "DULOXETINE HYDROCHLORIDE \tpdd: 44.0758293839\n",
      "ESCITALOPRAM OXALATE \tpdd: 10.7675393224\n",
      "FLUOXETINE HYDROCHLORIDE \tpdd: 21.229155532\n",
      "FLUVOXAMINE MALEATE \tpdd: 93.6567553469\n",
      "LOFEPRAMINE HYDROCHLORIDE \tpdd: 123.973286423\n",
      "MIANSERIN \tNo prescriptions found\n",
      "NORTRIPTYLINE HYDROCHLORIDE \tpdd: 28.7420342311\n",
      "PAROXETINE HYDROCHLORIDE \tpdd: 21.0103795824\n",
      "REBOXETINE MESILATE \tpdd: 6.61356297094\n",
      "SERTRALINE HYDROCHLORIDE \tpdd: 65.8550792413\n",
      "TRIMIPRAMINE MALEATE \tpdd: 54.4692944562\n",
      "TRIMIPRAMINE MALEATE \tpdd: 54.4692944562\n",
      "VENLAFAXINE HYDROCHLORIDE \tpdd: 95.062481852\n",
      "AMOXAPINE \tpdd: 65.0084317032\n",
      "MAPROTILINE HYDROCHLORIDE \tpdd: 122.294220665\n",
      "PHENELZINE \tNo prescriptions found\n",
      "ISOCARBOXAZID \tNo prescriptions found\n",
      "TRANYLCYPROMINE \tNo prescriptions found\n",
      "MOCLOBEMINE \tNo prescriptions found\n",
      "TRYPTOPHAN \tpdd: 2363.63636364\n"
     ]
    }
   ],
   "source": [
    "pt_features = pd.read_csv('data/pt_data/processed_data/pt_features_demins_'+subtype+'_'+sd.exposure_windows[1]['name']+'.csv',delimiter=',',parse_dates=['index_date','data_end','data_start'],infer_datetime_format=True)\n",
    "create_pdd_for_each_drug(prescriptions,druglists.all_druglists,pt_features,sd.exposure_windows[1])"
   ]
  },
  {
   "cell_type": "code",
   "execution_count": 12,
   "metadata": {
    "scrolled": true
   },
   "outputs": [
    {
     "name": "stdout",
     "output_type": "stream",
     "text": [
      "12_to_7 ...\n",
      "Index(['patid', 'yob', 'pracid', 'female', 'index_date', 'isCase',\n",
      "       'final dementia medcode', 'data_end', 'data_start', 'matchid',\n",
      "       'reason_for_removal', 'age_at_index_date',\n",
      "       'non_insomnia_GP_consultations', 'mood_stabilisers_and_AEDs_100_pdds',\n",
      "       'lithium_100_pdds', 'benzodiazepines_100_pdds', 'z_drugs_100_pdds',\n",
      "       'antipsychotics_100_pdds', 'antidepressants_100_pdds', 'insomnia',\n",
      "       'stroke', 'heart_failure', 'mental_illness', 'sleep_apnoea',\n",
      "       'chronic_pulmonary_disease', 'epilepsy', 'insomnia_any',\n",
      "       'insomnia_count:0', 'insomnia_count:1_5', 'insomnia_count:above_5',\n",
      "       'non_insomnia_GP_consultations:0', 'non_insomnia_GP_consultations:1_10',\n",
      "       'non_insomnia_GP_consultations:11_100',\n",
      "       'non_insomnia_GP_consultations:101_1000',\n",
      "       'non_insomnia_GP_consultations:above_1000', 'age_at_index_date:65-69',\n",
      "       'age_at_index_date:70-74', 'age_at_index_date:75-79',\n",
      "       'age_at_index_date:80-84', 'age_at_index_date:85-89',\n",
      "       'age_at_index_date:90-99', 'age_at_index_date:above_99',\n",
      "       'antidepressant_pdds:00000', 'antidepressant_pdds:00001_10',\n",
      "       'antidepressant_pdds:00011_100', 'antidepressant_pdds:00101_1000',\n",
      "       'antidepressant_pdds:01001_10000',\n",
      "       'antidepressant_pdds:10000_and_above', 'antipsychotic_pdds:00000',\n",
      "       'antipsychotic_pdds:00001_10', 'antipsychotic_pdds:00011_100',\n",
      "       'antipsychotic_pdds:00101_1000', 'antipsychotic_pdds:01001_10000',\n",
      "       'antipsychotic_pdds:10000_and_above', 'benzodiazepine_pdds:00000',\n",
      "       'benzodiazepine_pdds:00001_10', 'benzodiazepine_pdds:00011_100',\n",
      "       'benzodiazepine_pdds:00101_1000', 'benzodiazepine_pdds:01001_10000',\n",
      "       'benzodiazepine_pdds:10000_and_above', 'z_drug_pdds:00000',\n",
      "       'z_drug_pdds:00001_10', 'z_drug_pdds:00011_100',\n",
      "       'z_drug_pdds:00101_1000', 'z_drug_pdds:01001_10000',\n",
      "       'z_drug_pdds:10000_and_above', 'lithium_pdds:00000',\n",
      "       'lithium_pdds:00001_10', 'lithium_pdds:00011_100',\n",
      "       'lithium_pdds:00101_1000', 'lithium_pdds:01001_10000',\n",
      "       'lithium_pdds:10000_and_above', 'mood_stabilisers_and_AED_pdds:00000',\n",
      "       'mood_stabilisers_and_AED_pdds:00001_10',\n",
      "       'mood_stabilisers_and_AED_pdds:00011_100',\n",
      "       'mood_stabilisers_and_AED_pdds:00101_1000',\n",
      "       'mood_stabilisers_and_AED_pdds:01001_10000',\n",
      "       'mood_stabilisers_and_AED_pdds:10000_and_above'],\n",
      "      dtype='object')\n",
      "10_to_5 ...\n",
      "Index(['patid', 'yob', 'pracid', 'female', 'index_date', 'isCase',\n",
      "       'final dementia medcode', 'data_end', 'data_start', 'matchid',\n",
      "       'reason_for_removal', 'age_at_index_date',\n",
      "       'mood_stabilisers_and_AEDs_100_pdds', 'lithium_100_pdds',\n",
      "       'benzodiazepines_100_pdds', 'z_drugs_100_pdds',\n",
      "       'antipsychotics_100_pdds', 'antidepressants_100_pdds',\n",
      "       'non_insomnia_GP_consultations', 'insomnia', 'stroke', 'heart_failure',\n",
      "       'mental_illness', 'sleep_apnoea', 'chronic_pulmonary_disease',\n",
      "       'epilepsy', 'insomnia_any', 'insomnia_count:0', 'insomnia_count:1_5',\n",
      "       'insomnia_count:above_5', 'non_insomnia_GP_consultations:0',\n",
      "       'non_insomnia_GP_consultations:1_10',\n",
      "       'non_insomnia_GP_consultations:11_100',\n",
      "       'non_insomnia_GP_consultations:101_1000',\n",
      "       'non_insomnia_GP_consultations:above_1000', 'age_at_index_date:65-69',\n",
      "       'age_at_index_date:70-74', 'age_at_index_date:75-79',\n",
      "       'age_at_index_date:80-84', 'age_at_index_date:85-89',\n",
      "       'age_at_index_date:90-99', 'age_at_index_date:above_99',\n",
      "       'antidepressant_pdds:00000', 'antidepressant_pdds:00001_10',\n",
      "       'antidepressant_pdds:00011_100', 'antidepressant_pdds:00101_1000',\n",
      "       'antidepressant_pdds:01001_10000',\n",
      "       'antidepressant_pdds:10000_and_above', 'antipsychotic_pdds:00000',\n",
      "       'antipsychotic_pdds:00001_10', 'antipsychotic_pdds:00011_100',\n",
      "       'antipsychotic_pdds:00101_1000', 'antipsychotic_pdds:01001_10000',\n",
      "       'antipsychotic_pdds:10000_and_above', 'benzodiazepine_pdds:00000',\n",
      "       'benzodiazepine_pdds:00001_10', 'benzodiazepine_pdds:00011_100',\n",
      "       'benzodiazepine_pdds:00101_1000', 'benzodiazepine_pdds:01001_10000',\n",
      "       'benzodiazepine_pdds:10000_and_above', 'z_drug_pdds:00000',\n",
      "       'z_drug_pdds:00001_10', 'z_drug_pdds:00011_100',\n",
      "       'z_drug_pdds:00101_1000', 'z_drug_pdds:01001_10000',\n",
      "       'z_drug_pdds:10000_and_above', 'lithium_pdds:00000',\n",
      "       'lithium_pdds:00001_10', 'lithium_pdds:00011_100',\n",
      "       'lithium_pdds:00101_1000', 'lithium_pdds:01001_10000',\n",
      "       'lithium_pdds:10000_and_above', 'mood_stabilisers_and_AED_pdds:00000',\n",
      "       'mood_stabilisers_and_AED_pdds:00001_10',\n",
      "       'mood_stabilisers_and_AED_pdds:00011_100',\n",
      "       'mood_stabilisers_and_AED_pdds:00101_1000',\n",
      "       'mood_stabilisers_and_AED_pdds:01001_10000',\n",
      "       'mood_stabilisers_and_AED_pdds:10000_and_above'],\n",
      "      dtype='object')\n",
      "8_to_3 ...\n",
      "Index(['patid', 'yob', 'pracid', 'female', 'index_date', 'isCase',\n",
      "       'final dementia medcode', 'data_end', 'data_start', 'matchid',\n",
      "       'reason_for_removal', 'age_at_index_date',\n",
      "       'mood_stabilisers_and_AEDs_100_pdds', 'lithium_100_pdds',\n",
      "       'benzodiazepines_100_pdds', 'z_drugs_100_pdds',\n",
      "       'antipsychotics_100_pdds', 'antidepressants_100_pdds',\n",
      "       'non_insomnia_GP_consultations', 'insomnia', 'stroke', 'heart_failure',\n",
      "       'mental_illness', 'sleep_apnoea', 'chronic_pulmonary_disease',\n",
      "       'epilepsy', 'insomnia_any', 'insomnia_count:0', 'insomnia_count:1_5',\n",
      "       'insomnia_count:above_5', 'non_insomnia_GP_consultations:0',\n",
      "       'non_insomnia_GP_consultations:1_10',\n",
      "       'non_insomnia_GP_consultations:11_100',\n",
      "       'non_insomnia_GP_consultations:101_1000',\n",
      "       'non_insomnia_GP_consultations:above_1000', 'age_at_index_date:65-69',\n",
      "       'age_at_index_date:70-74', 'age_at_index_date:75-79',\n",
      "       'age_at_index_date:80-84', 'age_at_index_date:85-89',\n",
      "       'age_at_index_date:90-99', 'age_at_index_date:above_99',\n",
      "       'antidepressant_pdds:00000', 'antidepressant_pdds:00001_10',\n",
      "       'antidepressant_pdds:00011_100', 'antidepressant_pdds:00101_1000',\n",
      "       'antidepressant_pdds:01001_10000',\n",
      "       'antidepressant_pdds:10000_and_above', 'antipsychotic_pdds:00000',\n",
      "       'antipsychotic_pdds:00001_10', 'antipsychotic_pdds:00011_100',\n",
      "       'antipsychotic_pdds:00101_1000', 'antipsychotic_pdds:01001_10000',\n",
      "       'antipsychotic_pdds:10000_and_above', 'benzodiazepine_pdds:00000',\n",
      "       'benzodiazepine_pdds:00001_10', 'benzodiazepine_pdds:00011_100',\n",
      "       'benzodiazepine_pdds:00101_1000', 'benzodiazepine_pdds:01001_10000',\n",
      "       'benzodiazepine_pdds:10000_and_above', 'z_drug_pdds:00000',\n",
      "       'z_drug_pdds:00001_10', 'z_drug_pdds:00011_100',\n",
      "       'z_drug_pdds:00101_1000', 'z_drug_pdds:01001_10000',\n",
      "       'z_drug_pdds:10000_and_above', 'lithium_pdds:00000',\n",
      "       'lithium_pdds:00001_10', 'lithium_pdds:00011_100',\n",
      "       'lithium_pdds:00101_1000', 'lithium_pdds:01001_10000',\n",
      "       'lithium_pdds:10000_and_above', 'mood_stabilisers_and_AED_pdds:00000',\n",
      "       'mood_stabilisers_and_AED_pdds:00001_10',\n",
      "       'mood_stabilisers_and_AED_pdds:00011_100',\n",
      "       'mood_stabilisers_and_AED_pdds:00101_1000',\n",
      "       'mood_stabilisers_and_AED_pdds:01001_10000',\n",
      "       'mood_stabilisers_and_AED_pdds:10000_and_above'],\n",
      "      dtype='object')\n"
     ]
    }
   ],
   "source": [
    "pd.options.mode.chained_assignment = None  # default='warn'\n",
    "\n",
    "# Add condition status (e.g. insomnia count, presence of diabetes, presence of stroke)\n",
    "for window in sd.exposure_windows:\n",
    "    print(window['name'],'...')\n",
    "    pt_features = pd.read_csv('data/pt_data/processed_data/pt_features_demins_'+subtype+'_'+ window['name'] +'.csv',delimiter=',',parse_dates=['index_date','data_end','data_start'],infer_datetime_format=True)\n",
    "#     pt_features = get_multiple_condition_statuses(pt_features,medcoded_entries,window,codelists.all_codelists)\n",
    "#     pt_features = create_PDD_columns_for_each_pt(pt_features,window,druglists.all_druglists,prescriptions)\n",
    "    print(pt_features.columns)\n",
    "#     pt_features = get_consultation_count(pt_features,all_encounters,window)\n",
    "#     pt_features = create_quantiles_and_booleans(pt_features)\n",
    "    pt_features.to_csv('data/pt_data/processed_data/pt_features_demins_'+subtype+'_'+ window['name'] +'.csv',index=False)"
   ]
  },
  {
   "cell_type": "code",
   "execution_count": null,
   "metadata": {},
   "outputs": [],
   "source": []
  }
 ],
 "metadata": {
  "kernelspec": {
   "display_name": "toadkern",
   "language": "python",
   "name": "toadkern"
  },
  "language_info": {
   "codemirror_mode": {
    "name": "ipython",
    "version": 3
   },
   "file_extension": ".py",
   "mimetype": "text/x-python",
   "name": "python",
   "nbconvert_exporter": "python",
   "pygments_lexer": "ipython3",
   "version": "3.6.4"
  }
 },
 "nbformat": 4,
 "nbformat_minor": 2
}
