{
 "cells": [
  {
   "cell_type": "code",
   "execution_count": 15,
   "metadata": {
    "scrolled": true
   },
   "outputs": [
    {
     "name": "stdout",
     "output_type": "stream",
     "text": [
      "The autoreload extension is already loaded. To reload it, use:\n",
      "  %reload_ext autoreload\n"
     ]
    }
   ],
   "source": [
    "%load_ext autoreload\n",
    "%autoreload 2"
   ]
  },
  {
   "cell_type": "code",
   "execution_count": 16,
   "metadata": {
    "scrolled": true
   },
   "outputs": [
    {
     "name": "stdout",
     "output_type": "stream",
     "text": [
      "/Users/zurfarosa/demres\n"
     ]
    }
   ],
   "source": [
    "cd ~/demres"
   ]
  },
  {
   "cell_type": "code",
   "execution_count": 17,
   "metadata": {
    "scrolled": true
   },
   "outputs": [],
   "source": [
    "import os\n",
    "import sys\n",
    "\n",
    "module_path = os.path.abspath(os.path.join('..'))\n",
    "if module_path not in sys.path:\n",
    "    sys.path.append(module_path)\n",
    "\n",
    "import pandas as pd\n",
    "import numpy as np\n",
    "from datetime import date, timedelta\n",
    "\n",
    "import demres\n",
    "from demres.common.constants import entry_type\n",
    "from demres.common import codelists\n",
    "from demres.common.helper_functions import *\n",
    "from demres.common.process_pt_features import *\n",
    "from demres.common.process_entries import *\n",
    "from demres.demins.constants import Study_Design as sd\n",
    "from demres.demins.statistical_functions import *\n",
    "from common.helper_functions import *\n",
    "from pprint import pprint\n",
    "from IPython.display import display"
   ]
  },
  {
   "cell_type": "code",
   "execution_count": 18,
   "metadata": {
    "scrolled": true
   },
   "outputs": [],
   "source": [
    "pd.set_option('display.max_columns', None)"
   ]
  },
  {
   "cell_type": "code",
   "execution_count": 19,
   "metadata": {},
   "outputs": [],
   "source": [
    "pd.set_option('display.max_rows', None)"
   ]
  },
  {
   "cell_type": "markdown",
   "metadata": {},
   "source": [
    "## Process raw CSV files"
   ]
  },
  {
   "cell_type": "code",
   "execution_count": 20,
   "metadata": {
    "scrolled": true
   },
   "outputs": [],
   "source": [
    "# create_pegmed()"
   ]
  },
  {
   "cell_type": "code",
   "execution_count": 21,
   "metadata": {
    "scrolled": true
   },
   "outputs": [],
   "source": [
    "# create_pegprod()"
   ]
  },
  {
   "cell_type": "code",
   "execution_count": 22,
   "metadata": {
    "scrolled": true
   },
   "outputs": [],
   "source": [
    "# create_prescriptions()"
   ]
  },
  {
   "cell_type": "code",
   "execution_count": 23,
   "metadata": {
    "scrolled": true
   },
   "outputs": [],
   "source": [
    "# create_consultations()"
   ]
  },
  {
   "cell_type": "code",
   "execution_count": 24,
   "metadata": {
    "scrolled": true
   },
   "outputs": [],
   "source": [
    "# create_clinicals()"
   ]
  },
  {
   "cell_type": "code",
   "execution_count": 25,
   "metadata": {
    "scrolled": true
   },
   "outputs": [],
   "source": [
    "# create_tests()"
   ]
  },
  {
   "cell_type": "code",
   "execution_count": 26,
   "metadata": {
    "scrolled": true
   },
   "outputs": [],
   "source": [
    "# create_referrals()"
   ]
  },
  {
   "cell_type": "code",
   "execution_count": 27,
   "metadata": {
    "scrolled": true
   },
   "outputs": [],
   "source": [
    "# create_immunisations()"
   ]
  },
  {
   "cell_type": "code",
   "execution_count": 28,
   "metadata": {
    "scrolled": true
   },
   "outputs": [],
   "source": [
    "# create_medcoded_entries()"
   ]
  },
  {
   "cell_type": "markdown",
   "metadata": {},
   "source": [
    "## Create processed CVS files to share with DEMINS teams\n",
    "*convert the newly created HDF files to CVS (for use in other projects)*"
   ]
  },
  {
   "cell_type": "code",
   "execution_count": 29,
   "metadata": {},
   "outputs": [],
   "source": [
    "# prescriptions = pd.read_hdf('data/processed_data/hdf/prescriptions.hdf')\n",
    "# prescriptions.to_csv('data/processed_data/to_share_with_DEMINS/prescriptions.csv',index=False)"
   ]
  },
  {
   "cell_type": "code",
   "execution_count": 30,
   "metadata": {},
   "outputs": [],
   "source": [
    "# consultations = pd.read_hdf('data/processed_data/hdf/consultations.hdf')\n",
    "# consultations.to_csv('data/processed_data/to_share_with_DEMINS/consultations.csv',index=False)"
   ]
  },
  {
   "cell_type": "code",
   "execution_count": 31,
   "metadata": {},
   "outputs": [],
   "source": [
    "# immunisations = pd.read_hdf('data/processed_data/hdf/immunisations.hdf')\n",
    "# immunisations.to_csv('data/processed_data/to_share_with_DEMINS/immunisations.csv',index=False)"
   ]
  },
  {
   "cell_type": "code",
   "execution_count": 32,
   "metadata": {},
   "outputs": [],
   "source": [
    "# clinicals = pd.read_hdf('data/processed_data/hdf/clinicals.hdf')\n",
    "# clinicals.to_csv('data/processed_data/to_share_with_DEMINS/clinicals.csv',index=False)"
   ]
  },
  {
   "cell_type": "code",
   "execution_count": 33,
   "metadata": {},
   "outputs": [],
   "source": [
    "# tests = pd.read_hdf('data/processed_data/hdf/tests.hdf')\n",
    "# tests.to_csv('data/processed_data/to_share_with_DEMINS/tests.csv',index=False)"
   ]
  },
  {
   "cell_type": "code",
   "execution_count": 34,
   "metadata": {},
   "outputs": [],
   "source": [
    "# referrals = pd.read_hdf('data/processed_data/hdf/referrals.hdf')\n",
    "# referrals.to_csv('data/processed_data/to_share_with_DEMINS/referrals.csv',index=False)"
   ]
  },
  {
   "cell_type": "code",
   "execution_count": 35,
   "metadata": {},
   "outputs": [],
   "source": [
    "# medcoded_entries = pd.read_hdf('data/processed_data/hdf/medcoded_entries.hdf')\n",
    "# medcoded_entries.to_csv('data/processed_data/to_share_with_DEMINS/medcoded_entries.csv',index=False)"
   ]
  },
  {
   "cell_type": "markdown",
   "metadata": {},
   "source": [
    "## Create basic pt_features dataframe\n",
    "*pt_features will contain all the variables (e.g. age, female gender, insomnia) used in the logistic regression*"
   ]
  },
  {
   "cell_type": "code",
   "execution_count": 37,
   "metadata": {
    "scrolled": true
   },
   "outputs": [
    {
     "name": "stderr",
     "output_type": "stream",
     "text": [
      "/Users/zurfarosa/demres/common/process_entries.py:156: FutureWarning: Sorting because non-concatenation axis is not aligned. A future version\n",
      "of pandas will change to not sort by default.\n",
      "\n",
      "To accept the future behavior, pass 'sort=False'.\n",
      "\n",
      "To retain the current behavior and silence the warning, pass 'sort=True'.\n",
      "\n",
      "  all_encounters = pd.concat([consultations,medcoded_entries],ignore_index=True)\n"
     ]
    }
   ],
   "source": [
    "all_encounters = get_all_encounters()"
   ]
  },
  {
   "cell_type": "code",
   "execution_count": 43,
   "metadata": {
    "scrolled": true
   },
   "outputs": [
    {
     "name": "stderr",
     "output_type": "stream",
     "text": [
      "/Users/zurfarosa/demres/common/process_entries.py:166: FutureWarning: Sorting because non-concatenation axis is not aligned. A future version\n",
      "of pandas will change to not sort by default.\n",
      "\n",
      "To accept the future behavior, pass 'sort=False'.\n",
      "\n",
      "To retain the current behavior and silence the warning, pass 'sort=True'.\n",
      "\n",
      "  all_entries = pd.concat([all_encounters,prescriptions],ignore_index=True)\n"
     ]
    }
   ],
   "source": [
    "all_entries = get_all_entries(all_encounters)"
   ]
  },
  {
   "cell_type": "code",
   "execution_count": 86,
   "metadata": {
    "scrolled": true
   },
   "outputs": [],
   "source": [
    "pt_features = create_pt_features()"
   ]
  },
  {
   "cell_type": "code",
   "execution_count": 88,
   "metadata": {},
   "outputs": [
    {
     "name": "stdout",
     "output_type": "stream",
     "text": [
      "Number of patients prescribed antidementia drugs but not diagnosed with dementia: 321\n"
     ]
    }
   ],
   "source": [
    "pt_features = get_index_date_and_caseness_and_add_final_dementia_subtype(all_entries,pt_features)"
   ]
  },
  {
   "cell_type": "code",
   "execution_count": 89,
   "metadata": {
    "scrolled": true
   },
   "outputs": [
    {
     "name": "stdout",
     "output_type": "stream",
     "text": [
      "calculating latest_sysdate\n",
      "calculating earliest_sysdate\n",
      "resampling all_encounters - may take some time...\n",
      "locating converted codes\n",
      "choosing most appropriate measure of data_start\n",
      "removing patients without any events\n",
      "There are 14 patients without any events\n"
     ]
    }
   ],
   "source": [
    "pt_features = add_data_start_and_end_dates(all_encounters,pt_features)"
   ]
  },
  {
   "cell_type": "code",
   "execution_count": 90,
   "metadata": {},
   "outputs": [],
   "source": [
    "pt_features.to_csv('data/processed_data/pt_features.csv',index=False)"
   ]
  },
  {
   "cell_type": "code",
   "execution_count": 91,
   "metadata": {
    "scrolled": true
   },
   "outputs": [
    {
     "name": "stdout",
     "output_type": "stream",
     "text": [
      "removing cases where final dementia subtype is a specific, non-Alzheimer, non-VaD dementia\n",
      "Number of cases removed:  6442\n",
      "Number of patients (cases and controls) 88058\n"
     ]
    }
   ],
   "source": [
    "#For sensitivity analysis, remove specific dementias (e.g. FTLD, DLB) from pt_features, but save this to a different CSV file\n",
    "pt_features_avoid_specific_dementia = avoid_specific_dementia_subtypes(pt_features) \n",
    "pt_features_avoid_specific_dementia.to_csv('data/processed_data/pt_features_avoid_specific_dementia.csv',index=False)"
   ]
  },
  {
   "cell_type": "code",
   "execution_count": 42,
   "metadata": {
    "scrolled": true
   },
   "outputs": [
    {
     "data": {
      "text/markdown": [
       "**\n",
       "12_to_7**"
      ],
      "text/plain": [
       "<IPython.core.display.Markdown object>"
      ]
     },
     "metadata": {},
     "output_type": "display_data"
    },
    {
     "name": "stdout",
     "output_type": "stream",
     "text": [
      "All cases 40130\n",
      "Number of cases with 10 years of data 10374\n",
      "Number of cases without 10 years of data (to be discarded): 29756\n",
      "Number of controls 47928\n",
      "32157  cases being removed as unmatchable\n",
      "39955  controls being removed as unmatchable\n",
      "72112  total patients being removed as unmatchable\n"
     ]
    },
    {
     "data": {
      "text/markdown": [
       "**\n",
       "8_to_3**"
      ],
      "text/plain": [
       "<IPython.core.display.Markdown object>"
      ]
     },
     "metadata": {},
     "output_type": "display_data"
    },
    {
     "name": "stdout",
     "output_type": "stream",
     "text": [
      "All cases 40130\n",
      "Number of cases with 10 years of data 22094\n",
      "Number of cases without 10 years of data (to be discarded): 18036\n",
      "Number of controls 47928\n",
      "21527  cases being removed as unmatchable\n",
      "29325  controls being removed as unmatchable\n",
      "50852  total patients being removed as unmatchable\n"
     ]
    }
   ],
   "source": [
    "for window in [sd.exposure_windows[0],sd.exposure_windows[2]]:\n",
    "    printbold(window['name'])  \n",
    "    pt_features = pd.read_csv('data/processed_data/pt_features_avoid_specific_dementia.csv',delimiter=',',parse_dates=['index_date','data_end','data_start'],infer_datetime_format=True)\n",
    "    pt_features = match_cases_and_controls(pt_features,window)\n",
    "    pt_features.to_csv('data/processed_data/pt_features_avoid_specific_dementia_'+ window['name'] +'.csv',index=False)\n"
   ]
  },
  {
   "cell_type": "markdown",
   "metadata": {},
   "source": [
    "## Add derived variables to pt_features \n",
    "*e.g. insomnia count, history of stroke, consultation count*"
   ]
  },
  {
   "cell_type": "code",
   "execution_count": 44,
   "metadata": {
    "scrolled": true
   },
   "outputs": [],
   "source": [
    "medcoded_entries = pd.read_hdf('data/processed_data/hdf/medcoded_entries.hdf')"
   ]
  },
  {
   "cell_type": "code",
   "execution_count": 45,
   "metadata": {
    "scrolled": true
   },
   "outputs": [],
   "source": [
    "prescriptions = pd.read_hdf('data/processed_data/hdf/prescriptions.hdf')"
   ]
  },
  {
   "cell_type": "code",
   "execution_count": 22,
   "metadata": {},
   "outputs": [],
   "source": [
    "pt_features = pd.read_csv('data/processed_data/pt_features_avoid_specific_dementia_'+ sd.exposure_windows[1]['name'] +'.csv',delimiter=',',parse_dates=['index_date','data_end','data_start'],infer_datetime_format=True)"
   ]
  },
  {
   "cell_type": "code",
   "execution_count": 24,
   "metadata": {
    "scrolled": true
   },
   "outputs": [],
   "source": [
    "create_pdd_for_each_drug(prescriptions,pt_features,sd.exposure_windows[1])"
   ]
  },
  {
   "cell_type": "code",
   "execution_count": 49,
   "metadata": {
    "scrolled": true
   },
   "outputs": [
    {
     "name": "stdout",
     "output_type": "stream",
     "text": [
      "12_to_7 ...\n"
     ]
    },
    {
     "data": {
      "text/html": [
       "<div>\n",
       "<style scoped>\n",
       "    .dataframe tbody tr th:only-of-type {\n",
       "        vertical-align: middle;\n",
       "    }\n",
       "\n",
       "    .dataframe tbody tr th {\n",
       "        vertical-align: top;\n",
       "    }\n",
       "\n",
       "    .dataframe thead th {\n",
       "        text-align: right;\n",
       "    }\n",
       "</style>\n",
       "<table border=\"1\" class=\"dataframe\">\n",
       "  <thead>\n",
       "    <tr style=\"text-align: right;\">\n",
       "      <th></th>\n",
       "      <th>patid</th>\n",
       "      <th>yob</th>\n",
       "      <th>pracid</th>\n",
       "      <th>female</th>\n",
       "      <th>index_date</th>\n",
       "      <th>isCase</th>\n",
       "      <th>final dementia medcode</th>\n",
       "      <th>data_end</th>\n",
       "      <th>data_start</th>\n",
       "      <th>matchid</th>\n",
       "      <th>age_at_index_date</th>\n",
       "      <th>insomnia</th>\n",
       "      <th>stroke</th>\n",
       "      <th>heart_failure</th>\n",
       "      <th>mental_illness</th>\n",
       "      <th>sleep_apnoea</th>\n",
       "      <th>chronic_pulmonary_disease</th>\n",
       "      <th>hypnotics_100_pdds</th>\n",
       "      <th>age_at_index_date:65-69</th>\n",
       "      <th>age_at_index_date:70-74</th>\n",
       "      <th>age_at_index_date:75-79</th>\n",
       "      <th>age_at_index_date:80-84</th>\n",
       "      <th>age_at_index_date:85-89</th>\n",
       "      <th>age_at_index_date:90-99</th>\n",
       "      <th>age_at_index_date:above_99</th>\n",
       "      <th>hypnotic_pdds:00000</th>\n",
       "      <th>hypnotic_pdds:00001_10</th>\n",
       "      <th>hypnotic_pdds:00011_100</th>\n",
       "      <th>hypnotic_pdds:00101_1000</th>\n",
       "      <th>hypnotic_pdds:01001_10000</th>\n",
       "      <th>hypnotic_pdds:10000_and_above</th>\n",
       "    </tr>\n",
       "  </thead>\n",
       "  <tbody>\n",
       "    <tr>\n",
       "      <th>4152</th>\n",
       "      <td>7894586</td>\n",
       "      <td>21</td>\n",
       "      <td>586</td>\n",
       "      <td>1</td>\n",
       "      <td>2010-06-15</td>\n",
       "      <td>True</td>\n",
       "      <td>6578.0</td>\n",
       "      <td>2011-07-21</td>\n",
       "      <td>1996-08-08</td>\n",
       "      <td>78383</td>\n",
       "      <td>89</td>\n",
       "      <td>0</td>\n",
       "      <td>0</td>\n",
       "      <td>0</td>\n",
       "      <td>1</td>\n",
       "      <td>0</td>\n",
       "      <td>1</td>\n",
       "      <td>0.000000</td>\n",
       "      <td>0.0</td>\n",
       "      <td>0.0</td>\n",
       "      <td>0.0</td>\n",
       "      <td>0.0</td>\n",
       "      <td>1.0</td>\n",
       "      <td>0.0</td>\n",
       "      <td>0.0</td>\n",
       "      <td>1.0</td>\n",
       "      <td>0.0</td>\n",
       "      <td>0.0</td>\n",
       "      <td>0.0</td>\n",
       "      <td>0.0</td>\n",
       "      <td>0.0</td>\n",
       "    </tr>\n",
       "    <tr>\n",
       "      <th>8220</th>\n",
       "      <td>2975189</td>\n",
       "      <td>16</td>\n",
       "      <td>189</td>\n",
       "      <td>0</td>\n",
       "      <td>2003-12-02</td>\n",
       "      <td>False</td>\n",
       "      <td>NaN</td>\n",
       "      <td>2007-11-29</td>\n",
       "      <td>1991-11-30</td>\n",
       "      <td>3343</td>\n",
       "      <td>87</td>\n",
       "      <td>1</td>\n",
       "      <td>0</td>\n",
       "      <td>0</td>\n",
       "      <td>0</td>\n",
       "      <td>0</td>\n",
       "      <td>0</td>\n",
       "      <td>0.098273</td>\n",
       "      <td>0.0</td>\n",
       "      <td>0.0</td>\n",
       "      <td>0.0</td>\n",
       "      <td>0.0</td>\n",
       "      <td>1.0</td>\n",
       "      <td>0.0</td>\n",
       "      <td>0.0</td>\n",
       "      <td>0.0</td>\n",
       "      <td>1.0</td>\n",
       "      <td>0.0</td>\n",
       "      <td>0.0</td>\n",
       "      <td>0.0</td>\n",
       "      <td>0.0</td>\n",
       "    </tr>\n",
       "  </tbody>\n",
       "</table>\n",
       "</div>"
      ],
      "text/plain": [
       "        patid  yob  pracid  female index_date  isCase  final dementia medcode  \\\n",
       "4152  7894586   21     586       1 2010-06-15    True                  6578.0   \n",
       "8220  2975189   16     189       0 2003-12-02   False                     NaN   \n",
       "\n",
       "       data_end data_start  matchid  age_at_index_date  insomnia  stroke  \\\n",
       "4152 2011-07-21 1996-08-08    78383                 89         0       0   \n",
       "8220 2007-11-29 1991-11-30     3343                 87         1       0   \n",
       "\n",
       "      heart_failure  mental_illness  sleep_apnoea  chronic_pulmonary_disease  \\\n",
       "4152              0               1             0                          1   \n",
       "8220              0               0             0                          0   \n",
       "\n",
       "      hypnotics_100_pdds  age_at_index_date:65-69  age_at_index_date:70-74  \\\n",
       "4152            0.000000                      0.0                      0.0   \n",
       "8220            0.098273                      0.0                      0.0   \n",
       "\n",
       "      age_at_index_date:75-79  age_at_index_date:80-84  \\\n",
       "4152                      0.0                      0.0   \n",
       "8220                      0.0                      0.0   \n",
       "\n",
       "      age_at_index_date:85-89  age_at_index_date:90-99  \\\n",
       "4152                      1.0                      0.0   \n",
       "8220                      1.0                      0.0   \n",
       "\n",
       "      age_at_index_date:above_99  hypnotic_pdds:00000  hypnotic_pdds:00001_10  \\\n",
       "4152                         0.0                  1.0                     0.0   \n",
       "8220                         0.0                  0.0                     1.0   \n",
       "\n",
       "      hypnotic_pdds:00011_100  hypnotic_pdds:00101_1000  \\\n",
       "4152                      0.0                       0.0   \n",
       "8220                      0.0                       0.0   \n",
       "\n",
       "      hypnotic_pdds:01001_10000  hypnotic_pdds:10000_and_above  \n",
       "4152                        0.0                            0.0  \n",
       "8220                        0.0                            0.0  "
      ]
     },
     "metadata": {},
     "output_type": "display_data"
    },
    {
     "name": "stdout",
     "output_type": "stream",
     "text": [
      "8_to_3 ...\n"
     ]
    },
    {
     "data": {
      "text/html": [
       "<div>\n",
       "<style scoped>\n",
       "    .dataframe tbody tr th:only-of-type {\n",
       "        vertical-align: middle;\n",
       "    }\n",
       "\n",
       "    .dataframe tbody tr th {\n",
       "        vertical-align: top;\n",
       "    }\n",
       "\n",
       "    .dataframe thead th {\n",
       "        text-align: right;\n",
       "    }\n",
       "</style>\n",
       "<table border=\"1\" class=\"dataframe\">\n",
       "  <thead>\n",
       "    <tr style=\"text-align: right;\">\n",
       "      <th></th>\n",
       "      <th>patid</th>\n",
       "      <th>yob</th>\n",
       "      <th>pracid</th>\n",
       "      <th>female</th>\n",
       "      <th>index_date</th>\n",
       "      <th>isCase</th>\n",
       "      <th>final dementia medcode</th>\n",
       "      <th>data_end</th>\n",
       "      <th>data_start</th>\n",
       "      <th>matchid</th>\n",
       "      <th>age_at_index_date</th>\n",
       "      <th>insomnia</th>\n",
       "      <th>stroke</th>\n",
       "      <th>heart_failure</th>\n",
       "      <th>mental_illness</th>\n",
       "      <th>sleep_apnoea</th>\n",
       "      <th>chronic_pulmonary_disease</th>\n",
       "      <th>hypnotics_100_pdds</th>\n",
       "      <th>age_at_index_date:65-69</th>\n",
       "      <th>age_at_index_date:70-74</th>\n",
       "      <th>age_at_index_date:75-79</th>\n",
       "      <th>age_at_index_date:80-84</th>\n",
       "      <th>age_at_index_date:85-89</th>\n",
       "      <th>age_at_index_date:90-99</th>\n",
       "      <th>age_at_index_date:above_99</th>\n",
       "      <th>hypnotic_pdds:00000</th>\n",
       "      <th>hypnotic_pdds:00001_10</th>\n",
       "      <th>hypnotic_pdds:00011_100</th>\n",
       "      <th>hypnotic_pdds:00101_1000</th>\n",
       "      <th>hypnotic_pdds:01001_10000</th>\n",
       "      <th>hypnotic_pdds:10000_and_above</th>\n",
       "    </tr>\n",
       "  </thead>\n",
       "  <tbody>\n",
       "    <tr>\n",
       "      <th>30906</th>\n",
       "      <td>17236154</td>\n",
       "      <td>29</td>\n",
       "      <td>154</td>\n",
       "      <td>1</td>\n",
       "      <td>2010-08-19</td>\n",
       "      <td>True</td>\n",
       "      <td>32057.0</td>\n",
       "      <td>2012-09-11</td>\n",
       "      <td>1996-08-14</td>\n",
       "      <td>21185</td>\n",
       "      <td>81</td>\n",
       "      <td>0</td>\n",
       "      <td>0</td>\n",
       "      <td>0</td>\n",
       "      <td>0</td>\n",
       "      <td>0</td>\n",
       "      <td>0</td>\n",
       "      <td>0.0</td>\n",
       "      <td>0.0</td>\n",
       "      <td>0.0</td>\n",
       "      <td>0.0</td>\n",
       "      <td>1.0</td>\n",
       "      <td>0.0</td>\n",
       "      <td>0.0</td>\n",
       "      <td>0.0</td>\n",
       "      <td>1.0</td>\n",
       "      <td>0.0</td>\n",
       "      <td>0.0</td>\n",
       "      <td>0.0</td>\n",
       "      <td>0.0</td>\n",
       "      <td>0.0</td>\n",
       "    </tr>\n",
       "    <tr>\n",
       "      <th>2480</th>\n",
       "      <td>10586249</td>\n",
       "      <td>21</td>\n",
       "      <td>249</td>\n",
       "      <td>1</td>\n",
       "      <td>2011-01-24</td>\n",
       "      <td>False</td>\n",
       "      <td>NaN</td>\n",
       "      <td>2013-05-10</td>\n",
       "      <td>2003-01-03</td>\n",
       "      <td>45417</td>\n",
       "      <td>90</td>\n",
       "      <td>0</td>\n",
       "      <td>0</td>\n",
       "      <td>0</td>\n",
       "      <td>0</td>\n",
       "      <td>0</td>\n",
       "      <td>0</td>\n",
       "      <td>0.0</td>\n",
       "      <td>0.0</td>\n",
       "      <td>0.0</td>\n",
       "      <td>0.0</td>\n",
       "      <td>0.0</td>\n",
       "      <td>0.0</td>\n",
       "      <td>1.0</td>\n",
       "      <td>0.0</td>\n",
       "      <td>1.0</td>\n",
       "      <td>0.0</td>\n",
       "      <td>0.0</td>\n",
       "      <td>0.0</td>\n",
       "      <td>0.0</td>\n",
       "      <td>0.0</td>\n",
       "    </tr>\n",
       "  </tbody>\n",
       "</table>\n",
       "</div>"
      ],
      "text/plain": [
       "          patid  yob  pracid  female index_date  isCase  \\\n",
       "30906  17236154   29     154       1 2010-08-19    True   \n",
       "2480   10586249   21     249       1 2011-01-24   False   \n",
       "\n",
       "       final dementia medcode   data_end data_start  matchid  \\\n",
       "30906                 32057.0 2012-09-11 1996-08-14    21185   \n",
       "2480                      NaN 2013-05-10 2003-01-03    45417   \n",
       "\n",
       "       age_at_index_date  insomnia  stroke  heart_failure  mental_illness  \\\n",
       "30906                 81         0       0              0               0   \n",
       "2480                  90         0       0              0               0   \n",
       "\n",
       "       sleep_apnoea  chronic_pulmonary_disease  hypnotics_100_pdds  \\\n",
       "30906             0                          0                 0.0   \n",
       "2480              0                          0                 0.0   \n",
       "\n",
       "       age_at_index_date:65-69  age_at_index_date:70-74  \\\n",
       "30906                      0.0                      0.0   \n",
       "2480                       0.0                      0.0   \n",
       "\n",
       "       age_at_index_date:75-79  age_at_index_date:80-84  \\\n",
       "30906                      0.0                      1.0   \n",
       "2480                       0.0                      0.0   \n",
       "\n",
       "       age_at_index_date:85-89  age_at_index_date:90-99  \\\n",
       "30906                      0.0                      0.0   \n",
       "2480                       0.0                      1.0   \n",
       "\n",
       "       age_at_index_date:above_99  hypnotic_pdds:00000  \\\n",
       "30906                         0.0                  1.0   \n",
       "2480                          0.0                  1.0   \n",
       "\n",
       "       hypnotic_pdds:00001_10  hypnotic_pdds:00011_100  \\\n",
       "30906                     0.0                      0.0   \n",
       "2480                      0.0                      0.0   \n",
       "\n",
       "       hypnotic_pdds:00101_1000  hypnotic_pdds:01001_10000  \\\n",
       "30906                       0.0                        0.0   \n",
       "2480                        0.0                        0.0   \n",
       "\n",
       "       hypnotic_pdds:10000_and_above  \n",
       "30906                            0.0  \n",
       "2480                             0.0  "
      ]
     },
     "metadata": {},
     "output_type": "display_data"
    }
   ],
   "source": [
    "for window in [sd.exposure_windows[0],sd.exposure_windows[2]]:\n",
    "    print(window['name'],'...')\n",
    "    pt_features = pd.read_csv('data/processed_data/pt_features_avoid_specific_dementia_' + window['name'] +'.csv',delimiter=',',parse_dates=['index_date','data_end','data_start'],infer_datetime_format=True)\n",
    "#     pt_features = get_multiple_condition_statuses(pt_features,medcoded_entries,prescriptions,window,codelists.all_codelists)\n",
    "#     pt_features = create_PDD_columns_for_each_pt(pt_features,window,[codelists.insomnia['medications']],prescriptions)\n",
    "    pt_features = create_quantiles_and_booleans(pt_features)\n",
    "    display(pt_features.sample(2))    \n",
    "    pt_features.to_csv('data/processed_data/pt_features_avoid_specific_dementia_'+ window['name'] +'.csv',index=False)"
   ]
  },
  {
   "cell_type": "code",
   "execution_count": null,
   "metadata": {},
   "outputs": [],
   "source": []
  }
 ],
 "metadata": {
  "kernelspec": {
   "display_name": "toadkern3",
   "language": "python",
   "name": "toadkern3"
  },
  "language_info": {
   "codemirror_mode": {
    "name": "ipython",
    "version": 3
   },
   "file_extension": ".py",
   "mimetype": "text/x-python",
   "name": "python",
   "nbconvert_exporter": "python",
   "pygments_lexer": "ipython3",
   "version": "3.7.0"
  }
 },
 "nbformat": 4,
 "nbformat_minor": 2
}
