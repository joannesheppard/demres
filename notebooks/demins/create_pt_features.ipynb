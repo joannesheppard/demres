{
 "cells": [
  {
   "cell_type": "code",
   "execution_count": 1,
   "metadata": {
    "collapsed": false,
    "deletable": true,
    "editable": true,
    "scrolled": true
   },
   "outputs": [],
   "source": [
    "%load_ext autoreload\n",
    "%autoreload 2"
   ]
  },
  {
   "cell_type": "code",
   "execution_count": 2,
   "metadata": {
    "collapsed": false,
    "deletable": true,
    "editable": true,
    "scrolled": true
   },
   "outputs": [
    {
     "name": "stdout",
     "output_type": "stream",
     "text": [
      "/Users/zurfarosa/demres\n"
     ]
    }
   ],
   "source": [
    "cd ~/demres"
   ]
  },
  {
   "cell_type": "code",
   "execution_count": 3,
   "metadata": {
    "collapsed": false,
    "deletable": true,
    "editable": true,
    "scrolled": true
   },
   "outputs": [],
   "source": [
    "import os\n",
    "import sys\n",
    "\n",
    "module_path = os.path.abspath(os.path.join('..'))\n",
    "if module_path not in sys.path:\n",
    "    sys.path.append(module_path)\n",
    "\n",
    "import pandas as pd\n",
    "import numpy as np\n",
    "from datetime import date, timedelta\n",
    "\n",
    "import demres\n",
    "from demres.common.constants import entry_type\n",
    "from demres.common import codelists,druglists\n",
    "from demres.common.process_pt_features import *\n",
    "from demres.common.process_entries import *\n",
    "from demres.demins.constants import Study_Design as sd\n",
    "from demres.demins.statistical_functions import *\n",
    "from common.helper_functions import *\n",
    "from pprint import pprint"
   ]
  },
  {
   "cell_type": "code",
   "execution_count": 4,
   "metadata": {
    "collapsed": false,
    "deletable": true,
    "editable": true,
    "scrolled": true
   },
   "outputs": [],
   "source": [
    "pd.set_option('display.max_columns', None)"
   ]
  },
  {
   "cell_type": "markdown",
   "metadata": {
    "deletable": true,
    "editable": true
   },
   "source": [
    "## Process raw CSV files"
   ]
  },
  {
   "cell_type": "code",
   "execution_count": null,
   "metadata": {
    "collapsed": true,
    "deletable": true,
    "editable": true,
    "scrolled": true
   },
   "outputs": [],
   "source": [
    "# create_pegmed()"
   ]
  },
  {
   "cell_type": "code",
   "execution_count": null,
   "metadata": {
    "collapsed": true,
    "deletable": true,
    "editable": true,
    "scrolled": true
   },
   "outputs": [],
   "source": [
    "# create_pegprod()"
   ]
  },
  {
   "cell_type": "code",
   "execution_count": null,
   "metadata": {
    "collapsed": true,
    "deletable": true,
    "editable": true,
    "scrolled": true
   },
   "outputs": [],
   "source": [
    "# create_prescriptions()"
   ]
  },
  {
   "cell_type": "code",
   "execution_count": null,
   "metadata": {
    "collapsed": false,
    "deletable": true,
    "editable": true,
    "scrolled": true
   },
   "outputs": [],
   "source": [
    "# create_consultations()"
   ]
  },
  {
   "cell_type": "code",
   "execution_count": null,
   "metadata": {
    "collapsed": false,
    "deletable": true,
    "editable": true,
    "scrolled": true
   },
   "outputs": [],
   "source": [
    "# create_clinicals()"
   ]
  },
  {
   "cell_type": "code",
   "execution_count": null,
   "metadata": {
    "collapsed": true,
    "deletable": true,
    "editable": true,
    "scrolled": true
   },
   "outputs": [],
   "source": [
    "# create_tests()"
   ]
  },
  {
   "cell_type": "code",
   "execution_count": null,
   "metadata": {
    "collapsed": false,
    "deletable": true,
    "editable": true,
    "scrolled": true
   },
   "outputs": [],
   "source": [
    "# create_referrals()"
   ]
  },
  {
   "cell_type": "code",
   "execution_count": null,
   "metadata": {
    "collapsed": true,
    "deletable": true,
    "editable": true,
    "scrolled": true
   },
   "outputs": [],
   "source": [
    "# create_immunisations()"
   ]
  },
  {
   "cell_type": "code",
   "execution_count": null,
   "metadata": {
    "collapsed": true,
    "deletable": true,
    "editable": true,
    "scrolled": true
   },
   "outputs": [],
   "source": [
    "# create_medcoded_entries()"
   ]
  },
  {
   "cell_type": "markdown",
   "metadata": {
    "deletable": true,
    "editable": true
   },
   "source": [
    "## Create basic pt_features dataframe\n",
    "*pt_features will contain all the variables (e.g. age, female gender, insomnia) used in the logistic regression*"
   ]
  },
  {
   "cell_type": "code",
   "execution_count": 5,
   "metadata": {
    "collapsed": true,
    "deletable": true,
    "editable": true,
    "scrolled": true
   },
   "outputs": [],
   "source": [
    "# specify subtype of dementia we're interested in - 'vascular','alzheimers' or 'all_dementia'\n",
    "subtype = 'all_dementia' "
   ]
  },
  {
   "cell_type": "code",
   "execution_count": 6,
   "metadata": {
    "collapsed": false,
    "deletable": true,
    "editable": true,
    "scrolled": true
   },
   "outputs": [],
   "source": [
    "all_encounters = get_all_encounters()"
   ]
  },
  {
   "cell_type": "code",
   "execution_count": 7,
   "metadata": {
    "collapsed": false,
    "deletable": true,
    "editable": true,
    "scrolled": true
   },
   "outputs": [],
   "source": [
    "all_entries = get_all_entries(all_encounters)"
   ]
  },
  {
   "cell_type": "code",
   "execution_count": 8,
   "metadata": {
    "collapsed": true,
    "deletable": true,
    "editable": true,
    "scrolled": true
   },
   "outputs": [],
   "source": [
    "pt_features = create_pt_features()"
   ]
  },
  {
   "cell_type": "code",
   "execution_count": 9,
   "metadata": {
    "collapsed": true,
    "deletable": true,
    "editable": true,
    "scrolled": true
   },
   "outputs": [],
   "source": [
    "pt_features = get_index_date_and_caseness_and_add_final_dementia_subtype(all_entries,pt_features)"
   ]
  },
  {
   "cell_type": "code",
   "execution_count": null,
   "metadata": {
    "collapsed": true,
    "deletable": true,
    "editable": true,
    "scrolled": true
   },
   "outputs": [],
   "source": [
    "# pt_features = only_include_specific_dementia_subtype(pt_features,subtype=subtype) #does nothing if we're interested in all dementia"
   ]
  },
  {
   "cell_type": "code",
   "execution_count": 14,
   "metadata": {
    "collapsed": false,
    "deletable": true,
    "editable": true,
    "scrolled": true
   },
   "outputs": [
    {
     "name": "stdout",
     "output_type": "stream",
     "text": [
      "calculating latest_sysdate\n",
      "calculating earliest_sysdate\n",
      "resampling all_encounters - may take some time...\n",
      "locating converted codes\n",
      "choosing most appropriate measure of data_start\n",
      "removing patients without any events\n",
      "There are 14 patients without any events\n"
     ]
    }
   ],
   "source": [
    "pt_features = add_data_start_and_end_dates(all_encounters,pt_features,subtype)"
   ]
  },
  {
   "cell_type": "code",
   "execution_count": 16,
   "metadata": {
    "collapsed": false,
    "deletable": true,
    "editable": true,
    "scrolled": true
   },
   "outputs": [
    {
     "name": "stdout",
     "output_type": "stream",
     "text": [
      "12_to_7  being matched\n",
      "All patients 94500\n",
      "Number of suitable cases 12216\n",
      "Number of controls 47020\n",
      "75714  patients being removed as unmatchable\n",
      "10_to_5  being matched\n",
      "All patients 94500\n",
      "Number of suitable cases 18849\n",
      "Number of controls 47020\n",
      "64082  patients being removed as unmatchable\n",
      "8_to_3  being matched\n",
      "All patients 94500\n",
      "Number of suitable cases 26042\n",
      "Number of controls 47020\n",
      "50622  patients being removed as unmatchable\n"
     ]
    }
   ],
   "source": [
    "for window in sd.exposure_windows:\n",
    "    print(window['name'],' being matched')    \n",
    "    pt_features = pd.read_csv('data/pt_data/processed_data/pt_features_demins_'+subtype+'.csv',delimiter=',',parse_dates=['index_date','data_end','data_start'],infer_datetime_format=True)\n",
    "    pt_features = match_cases_and_controls(pt_features,window)\n",
    "    pt_features.to_csv('data/pt_data/processed_data/pt_features_demins_'+subtype+'_'+ window['name'] +'.csv',index=False)"
   ]
  },
  {
   "cell_type": "markdown",
   "metadata": {
    "deletable": true,
    "editable": true
   },
   "source": [
    "## Add derived variables to pt_features \n",
    "*e.g. insomnia count, history of stroke, consultation count*"
   ]
  },
  {
   "cell_type": "code",
   "execution_count": 17,
   "metadata": {
    "collapsed": false,
    "deletable": true,
    "editable": true,
    "scrolled": true
   },
   "outputs": [],
   "source": [
    "medcoded_entries = pd.read_hdf('data/pt_data/processed_data/hdf/medcoded_entries.hdf')"
   ]
  },
  {
   "cell_type": "code",
   "execution_count": 18,
   "metadata": {
    "collapsed": false,
    "deletable": true,
    "editable": true,
    "scrolled": true
   },
   "outputs": [],
   "source": [
    "prescriptions = pd.read_hdf('data/pt_data/processed_data/hdf/prescriptions.hdf')"
   ]
  },
  {
   "cell_type": "code",
   "execution_count": 21,
   "metadata": {
    "collapsed": true
   },
   "outputs": [],
   "source": [
    "pt_features = pd.read_csv('data/pt_data/processed_data/pt_features_demins_'+subtype+'_'+sd.exposure_windowss[1]['name']+'.csv',delimiter=',',parse_dates=['index_date','data_end','data_start'],infer_datetime_format=True)"
   ]
  },
  {
   "cell_type": "code",
   "execution_count": 40,
   "metadata": {
    "collapsed": false,
    "deletable": true,
    "editable": true,
    "scrolled": true
   },
   "outputs": [
    {
     "name": "stdout",
     "output_type": "stream",
     "text": [
      "CARBAMAZEPINE \tpdd: 329.571934268\n",
      "GABAPENTIN \tpdd: 711.545805055\n",
      "LAMOTRIGINE \tpdd: 187.326325773\n",
      "PREGABALIN \tpdd: 169.484271346\n",
      "SODIUM VALPROATE \tpdd: 721.028033855\n",
      "VALPROIC ACID \tNo prescriptions found\n",
      "LITHIUM CITRATE \tpdd: 891.292307692\n",
      "LITHIUM CARBONATE \tpdd: 464.293337538\n",
      "VALPROATE SEMISODIUM \tpdd: 496.21653085\n",
      "OXCARBAZEPINE \tpdd: 573.913043478\n",
      "ALPRAZOLAM \tpdd: 0.239361702128\n",
      "CHLORDIAZEPOXIDE HYDROCHLORIDE \tpdd: 10.8586489863\n",
      "CLOBAZAM \tpdd: 11.7033750594\n",
      "CLONAZEPAM \tpdd: 0.823051344315\n",
      "DIAZEPAM \tpdd: 4.66742792872\n",
      "FLUNITRAZEPAM \tpdd: 1.0\n",
      "FLURAZEPAM \tNo prescriptions found\n",
      "FLURAZEPAM HYDROCHLORIDE \tpdd: 27.2297441592\n",
      "LOPRAZOLAM \tNo prescriptions found\n",
      "LORAZEPAM \tpdd: 1.46318357973\n",
      "LORMETAZEPAM \tpdd: 0.865905116329\n",
      "MIDAZOLAM \tNo prescriptions found\n",
      "MIDAZOLAM HYDROCHLORIDE \tNo prescriptions found\n",
      "NITRAZEPAM \tpdd: 5.97603790155\n",
      "OXAZEPAM \tpdd: 19.0568681231\n",
      "TEMAZEPAM \tpdd: 14.2202967324\n",
      "ZALEPLON \tpdd: 6.97840172786\n",
      "ZOPICLONE \tpdd: 6.57257823592\n",
      "ZOLPIDEM TARTRATE \tpdd: 7.23277765645\n",
      "ZOLPIDEM \tNo prescriptions found\n",
      "CHLORDIAZEPOXIDE \tNo prescriptions found\n",
      "BROMAZEPAM \tNo prescriptions found\n",
      "CLORAZEPATE DIPOTASSIUM \tNo prescriptions found\n",
      "LOPRAZOLAM MESILATE \tpdd: 1.09609611852\n",
      "CHLORAL HYDRATE \tpdd: 1660.71428571\n",
      "CLOMETHIAZOLE \tpdd: 312.301222494\n",
      "DEXMEDETOMIDINE \tNo prescriptions found\n",
      "MELATONIN \tpdd: 3.0\n",
      "MEPROBAMATE \tpdd: 496.723580988\n",
      "ALIMEMAZINE TARTRATE \tpdd: 12.8954583383\n",
      "ANTAZOLINE WITH XYLOMETAZOLINE \tNo prescriptions found\n",
      "CHLORPHENAMINE MALEATE \tpdd: 7.12923119297\n",
      "CINNARIZINE \tpdd: 43.464466968\n",
      "CINNARIZINE WITH DIMENHYDRINATE \tNo prescriptions found\n",
      "CLEMASTINE \tNo prescriptions found\n",
      "CYPROHEPTADINE HYDROCHLORIDE \tpdd: 9.02850260939\n",
      "ERGOTAMINE TARTRATE WITH CAFFEINE HYDRATE AND CYCLIZINE HYDROCHLORIDE \tNo prescriptions found\n",
      "HYDROXYZINE HYDROCHLORIDE \tpdd: 20.126845608\n",
      "KETOTIFEN \tNo prescriptions found\n",
      "MORPHINE WITH CYCLIZINE \tNo prescriptions found\n",
      "BUCLIZINE HYDROCHLORIDE/PARACETAMOL/CODEINE PHOSPHATE \tpdd: 6.86920244812\n",
      "PIZOTIFEN \tNo prescriptions found\n",
      "PROMETHAZINE TEOCLATE \tpdd: 33.1542758917\n",
      "PROMETHAZINE HYDROCHLORIDE \tpdd: 27.2528352524\n",
      "TRICLOFOS SODIUM \tpdd: 1000.0\n",
      "AMITRIPTYLINE WITH PERPHENAZINE \tNo prescriptions found\n",
      "BENPERIDOL \tpdd: 0.75\n",
      "CHLORPROMAZINE HYDROCHLORIDE \tpdd: 43.9860869041\n",
      "DROPERIDOL \tNo prescriptions found\n",
      "FLUPENTIXOL \tNo prescriptions found\n",
      "HALOPERIDOL \tpdd: 5.80282608749\n",
      "LEVOMEPROMAZINE \tNo prescriptions found\n",
      "METHOTRIMEPRAZINE \tNo prescriptions found\n",
      "PERICYAZINE \tpdd: 11.7475116543\n",
      "PERPHENAZINE \tpdd: 7.43706977755\n",
      "PIMOZIDE \tpdd: 2.84615384615\n",
      "PROCHLORPERAZINE \tNo prescriptions found\n",
      "PROMAZINE HYDROCHLORIDE \tpdd: 47.5813548066\n",
      "THIORIDAZINE \tpdd: 7.96979865772\n",
      "SULPIRIDE \tpdd: 418.635291873\n",
      "TRIFLUOPERAZINE \tNo prescriptions found\n",
      "ZUCLOPENTHIXOL \tNo prescriptions found\n",
      "ZUCLOPENTHIXOL ACETATE \tNo prescriptions found\n",
      "AMISULPRIDE \tpdd: 52.0345879959\n",
      "ARIPIPRAZOLE \tpdd: 10.7692307692\n",
      "ASENAPINE \tNo prescriptions found\n",
      "CLOZAPINE \tNo prescriptions found\n",
      "LURASIDONE HYDROCHLORIDE \tNo prescriptions found\n",
      "OLANZAPINE \tpdd: 5.41906783955\n",
      "PALIPERIDONE \tNo prescriptions found\n",
      "QUETIAPINE FUMARATE \tpdd: 112.345178214\n",
      "RISPERIDONE \tpdd: 1.80221359782\n",
      "ZOTEPINE \tNo prescriptions found\n",
      "PROCHLORPERAZINE MALEATE \tpdd: 11.6023248143\n",
      "PROCHLORPERAZINE MESILATE \tpdd: 7.25393890897\n",
      "ZUCLOPENTHIXOL DIHYDROCHLORIDE \tpdd: 8.23348933079\n",
      "FLUPHENAZINE HYDROCHLORIDE \tpdd: 1.51761299662\n",
      "LOXAPINE \tNo prescriptions found\n",
      "OXYPERTINE \tpdd: 40.0\n",
      "PERICYAZINE \tpdd: 11.7475116543\n",
      "THIORIDAZINE HYDROCHLORIDE \tpdd: 55.567986316\n",
      "VORTIOXETINE \tNo prescriptions found\n",
      "MIANSERIN HYDROCHLORIDE \tpdd: 28.2104135993\n",
      "MIRTAZAPINE \tpdd: 26.8274540742\n",
      "CLOMIPRAMINE HYDROCHLORIDE \tpdd: 52.0074042077\n",
      "DOSULEPIN HYDROCHLORIDE \tpdd: 59.1905955976\n",
      "DOXEPIN \tNo prescriptions found\n",
      "IMIPRAMINE HYDROCHLORIDE \tpdd: 44.5226133047\n",
      "LOFEPRAMINE \tNo prescriptions found\n",
      "NORTRIPTYLINE \tNo prescriptions found\n",
      "TRIMIPRAMINE \tNo prescriptions found\n",
      "CITALOPRAM \tNo prescriptions found\n",
      "DAPOXETINE \tNo prescriptions found\n",
      "ESCITALOPRAM \tNo prescriptions found\n",
      "FLUOXETINE \tNo prescriptions found\n",
      "FLUVOXAMINE MALEATE \tpdd: 93.6567553469\n",
      "PAROXETINE \tNo prescriptions found\n",
      "SERTRALINE \tNo prescriptions found\n",
      "BUPROPION HYDROCHLORIDE \tpdd: 206.030769231\n",
      "DULOXETINE \tNo prescriptions found\n",
      "VENLAFAXINE \tNo prescriptions found\n",
      "BUSPIRONE HYDROCHLORIDE \tpdd: 13.095246482\n",
      "TRAZODONE HYDROCHLORIDE \tpdd: 112.403622276\n",
      "REBOXETINE \tNo prescriptions found\n",
      "CITALOPRAM HYDROBROMIDE \tpdd: 18.0333430724\n",
      "CITALOPRAM HYDROCHLORIDE \tpdd: 40.0\n",
      "DOSULEPIN HYDROCHLORIDE \tpdd: 59.1905955976\n",
      "DOXEPIN HYDROCHLORIDE \tpdd: 51.8345140662\n",
      "DULOXETINE HYDROCHLORIDE \tpdd: 44.0758293839\n",
      "ESCITALOPRAM OXALATE \tpdd: 10.7675393224\n",
      "FLUOXETINE HYDROCHLORIDE \tpdd: 21.229155532\n",
      "FLUVOXAMINE MALEATE \tpdd: 93.6567553469\n",
      "LOFEPRAMINE HYDROCHLORIDE \tpdd: 123.973286423\n",
      "MIANSERIN \tNo prescriptions found\n",
      "NORTRIPTYLINE HYDROCHLORIDE \tpdd: 28.7420342311\n",
      "PAROXETINE HYDROCHLORIDE \tpdd: 21.0103795824\n",
      "REBOXETINE MESILATE \tpdd: 6.61356297094\n",
      "SERTRALINE HYDROCHLORIDE \tpdd: 65.8550792413\n",
      "TRIMIPRAMINE MALEATE \tpdd: 54.4692944562\n",
      "TRIMIPRAMINE MALEATE \tpdd: 54.4692944562\n",
      "VENLAFAXINE HYDROCHLORIDE \tpdd: 95.062481852\n",
      "AMOXAPINE \tpdd: 65.0084317032\n",
      "MAPROTILINE HYDROCHLORIDE \tpdd: 122.294220665\n",
      "PHENELZINE \tNo prescriptions found\n",
      "ISOCARBOXAZID \tNo prescriptions found\n",
      "TRANYLCYPROMINE \tNo prescriptions found\n",
      "MOCLOBEMINE \tNo prescriptions found\n",
      "TRYPTOPHAN \tpdd: 2363.63636364\n"
     ]
    }
   ],
   "source": [
    "pt_features = pd.read_csv('data/pt_data/processed_data/pt_features_demins_'+subtype+'_'+sd.exposure_windows[1]['name']+'.csv',delimiter=',',parse_dates=['index_date','data_end','data_start'],infer_datetime_format=True)\n",
    "create_pdd_for_each_drug(prescriptions,druglists.all_druglists,pt_features,sd.exposure_windows[1])"
   ]
  },
  {
   "cell_type": "code",
   "execution_count": 53,
   "metadata": {
    "collapsed": false,
    "deletable": true,
    "editable": true,
    "scrolled": true
   },
   "outputs": [],
   "source": [
    "pd.options.mode.chained_assignment = None  # default='warn'\n",
    "\n",
    "# Add condition status (e.g. insomnia count, presence of diabetes, presence of stroke)\n",
    "for window in sd.exposure_windows:\n",
    "    print(window['name'],'...')\n",
    "    pt_features = pd.read_csv('data/pt_data/processed_data/pt_features_demins_'+subtype+'_'+ window['name'] +'.csv',delimiter=',',parse_dates=['index_date','data_end','data_start'],infer_datetime_format=True)\n",
    "    pt_features = get_multiple_condition_statuses(pt_features,medcoded_entries,window,[codelists.mental_illness])\n",
    "    pt_features = create_PDD_columns_for_each_pt(pt_features,window,druglists.all_druglists,prescriptions)\n",
    "    pt_features = get_consultation_count(pt_features,all_encounters,window)\n",
    "    pt_features = create_quantiles_and_booleans(pt_features)\n",
    "    pt_features.to_csv('data/pt_data/processed_data/pt_features_demins_'+subtype+'_'+ window['name'] +'.csv',index=False)"
   ]
  },
  {
   "cell_type": "code",
   "execution_count": null,
   "metadata": {
    "collapsed": true
   },
   "outputs": [],
   "source": []
  }
 ],
 "metadata": {
  "kernelspec": {
   "display_name": "demkern",
   "language": "python",
   "name": "demkern"
  },
  "language_info": {
   "codemirror_mode": {
    "name": "ipython",
    "version": 3
   },
   "file_extension": ".py",
   "mimetype": "text/x-python",
   "name": "python",
   "nbconvert_exporter": "python",
   "pygments_lexer": "ipython3",
   "version": "3.5.0"
  }
 },
 "nbformat": 4,
 "nbformat_minor": 2
}
