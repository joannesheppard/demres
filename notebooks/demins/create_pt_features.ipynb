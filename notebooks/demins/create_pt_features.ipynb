{
 "cells": [
  {
   "cell_type": "code",
   "execution_count": 9,
   "metadata": {
    "scrolled": true
   },
   "outputs": [
    {
     "name": "stdout",
     "output_type": "stream",
     "text": [
      "The autoreload extension is already loaded. To reload it, use:\n",
      "  %reload_ext autoreload\n"
     ]
    }
   ],
   "source": [
    "%load_ext autoreload\n",
    "%autoreload 2"
   ]
  },
  {
   "cell_type": "code",
   "execution_count": 10,
   "metadata": {
    "scrolled": true
   },
   "outputs": [
    {
     "name": "stdout",
     "output_type": "stream",
     "text": [
      "/Users/zurfarosa/demres\n"
     ]
    }
   ],
   "source": [
    "cd ~/demres"
   ]
  },
  {
   "cell_type": "code",
   "execution_count": 11,
   "metadata": {
    "scrolled": true
   },
   "outputs": [],
   "source": [
    "import os\n",
    "import sys\n",
    "\n",
    "module_path = os.path.abspath(os.path.join('..'))\n",
    "if module_path not in sys.path:\n",
    "    sys.path.append(module_path)\n",
    "\n",
    "import pandas as pd\n",
    "import numpy as np\n",
    "from datetime import date, timedelta\n",
    "\n",
    "import demres\n",
    "from demres.common.constants import entry_type\n",
    "from demres.common import codelists\n",
    "from demres.common.helper_functions import *\n",
    "from demres.common.process_pt_features import *\n",
    "from demres.common.process_entries import *\n",
    "from demres.demins.constants import Study_Design as sd\n",
    "from demres.demins.statistical_functions import *\n",
    "from common.helper_functions import *\n",
    "from pprint import pprint\n",
    "from IPython.display import display"
   ]
  },
  {
   "cell_type": "code",
   "execution_count": 12,
   "metadata": {
    "scrolled": true
   },
   "outputs": [],
   "source": [
    "pd.set_option('display.max_columns', None)"
   ]
  },
  {
   "cell_type": "code",
   "execution_count": 13,
   "metadata": {},
   "outputs": [],
   "source": [
    "pd.set_option('display.max_rows', None)"
   ]
  },
  {
   "cell_type": "markdown",
   "metadata": {},
   "source": [
    "## Process raw CSV files"
   ]
  },
  {
   "cell_type": "code",
   "execution_count": 6,
   "metadata": {
    "collapsed": true,
    "scrolled": true
   },
   "outputs": [],
   "source": [
    "# create_pegmed()"
   ]
  },
  {
   "cell_type": "code",
   "execution_count": 7,
   "metadata": {
    "collapsed": true,
    "scrolled": true
   },
   "outputs": [],
   "source": [
    "# create_pegprod()"
   ]
  },
  {
   "cell_type": "code",
   "execution_count": 8,
   "metadata": {
    "collapsed": true,
    "scrolled": true
   },
   "outputs": [],
   "source": [
    "# create_prescriptions()"
   ]
  },
  {
   "cell_type": "code",
   "execution_count": 9,
   "metadata": {
    "collapsed": true,
    "scrolled": true
   },
   "outputs": [],
   "source": [
    "# create_consultations()"
   ]
  },
  {
   "cell_type": "code",
   "execution_count": 10,
   "metadata": {
    "collapsed": true,
    "scrolled": true
   },
   "outputs": [],
   "source": [
    "# create_clinicals()"
   ]
  },
  {
   "cell_type": "code",
   "execution_count": 11,
   "metadata": {
    "collapsed": true,
    "scrolled": true
   },
   "outputs": [],
   "source": [
    "# create_tests()"
   ]
  },
  {
   "cell_type": "code",
   "execution_count": 12,
   "metadata": {
    "collapsed": true,
    "scrolled": true
   },
   "outputs": [],
   "source": [
    "# create_referrals()"
   ]
  },
  {
   "cell_type": "code",
   "execution_count": 13,
   "metadata": {
    "collapsed": true,
    "scrolled": true
   },
   "outputs": [],
   "source": [
    "# create_immunisations()"
   ]
  },
  {
   "cell_type": "code",
   "execution_count": 14,
   "metadata": {
    "collapsed": true,
    "scrolled": true
   },
   "outputs": [],
   "source": [
    "# create_medcoded_entries()"
   ]
  },
  {
   "cell_type": "markdown",
   "metadata": {},
   "source": [
    "## Create processed CVS files to share with DEMINS teams\n",
    "*convert the newly created HDF files to CVS (for use in other projects)*"
   ]
  },
  {
   "cell_type": "code",
   "execution_count": 15,
   "metadata": {
    "collapsed": true
   },
   "outputs": [],
   "source": [
    "# prescriptions = pd.read_hdf('data/processed_data/hdf/prescriptions.hdf')\n",
    "# prescriptions.to_csv('data/processed_data/to_share_with_DEMINS/prescriptions.csv',index=False)"
   ]
  },
  {
   "cell_type": "code",
   "execution_count": 16,
   "metadata": {
    "collapsed": true
   },
   "outputs": [],
   "source": [
    "# consultations = pd.read_hdf('data/processed_data/hdf/consultations.hdf')\n",
    "# consultations.to_csv('data/processed_data/to_share_with_DEMINS/consultations.csv',index=False)"
   ]
  },
  {
   "cell_type": "code",
   "execution_count": 17,
   "metadata": {
    "collapsed": true
   },
   "outputs": [],
   "source": [
    "# immunisations = pd.read_hdf('data/processed_data/hdf/immunisations.hdf')\n",
    "# immunisations.to_csv('data/processed_data/to_share_with_DEMINS/immunisations.csv',index=False)"
   ]
  },
  {
   "cell_type": "code",
   "execution_count": 18,
   "metadata": {
    "collapsed": true
   },
   "outputs": [],
   "source": [
    "# clinicals = pd.read_hdf('data/processed_data/hdf/clinicals.hdf')\n",
    "# clinicals.to_csv('data/processed_data/to_share_with_DEMINS/clinicals.csv',index=False)"
   ]
  },
  {
   "cell_type": "code",
   "execution_count": 19,
   "metadata": {
    "collapsed": true
   },
   "outputs": [],
   "source": [
    "# tests = pd.read_hdf('data/processed_data/hdf/tests.hdf')\n",
    "# tests.to_csv('data/processed_data/to_share_with_DEMINS/tests.csv',index=False)"
   ]
  },
  {
   "cell_type": "code",
   "execution_count": 20,
   "metadata": {
    "collapsed": true
   },
   "outputs": [],
   "source": [
    "# referrals = pd.read_hdf('data/processed_data/hdf/referrals.hdf')\n",
    "# referrals.to_csv('data/processed_data/to_share_with_DEMINS/referrals.csv',index=False)"
   ]
  },
  {
   "cell_type": "code",
   "execution_count": 21,
   "metadata": {
    "collapsed": true
   },
   "outputs": [],
   "source": [
    "# medcoded_entries = pd.read_hdf('data/processed_data/hdf/medcoded_entries.hdf')\n",
    "# medcoded_entries.to_csv('data/processed_data/to_share_with_DEMINS/medcoded_entries.csv',index=False)"
   ]
  },
  {
   "cell_type": "markdown",
   "metadata": {},
   "source": [
    "## Create basic pt_features dataframe\n",
    "*pt_features will contain all the variables (e.g. age, female gender, insomnia) used in the logistic regression*"
   ]
  },
  {
   "cell_type": "code",
   "execution_count": 14,
   "metadata": {
    "scrolled": true
   },
   "outputs": [],
   "source": [
    "all_encounters = get_all_encounters()"
   ]
  },
  {
   "cell_type": "code",
   "execution_count": 15,
   "metadata": {
    "scrolled": true
   },
   "outputs": [
    {
     "ename": "KeyboardInterrupt",
     "evalue": "",
     "output_type": "error",
     "traceback": [
      "\u001b[0;31m---------------------------------------------------------------------------\u001b[0m",
      "\u001b[0;31mKeyboardInterrupt\u001b[0m                         Traceback (most recent call last)",
      "\u001b[0;32m<ipython-input-15-481dbc34b8d3>\u001b[0m in \u001b[0;36m<module>\u001b[0;34m()\u001b[0m\n\u001b[0;32m----> 1\u001b[0;31m \u001b[0mall_entries\u001b[0m \u001b[0;34m=\u001b[0m \u001b[0mget_all_entries\u001b[0m\u001b[0;34m(\u001b[0m\u001b[0mall_encounters\u001b[0m\u001b[0;34m)\u001b[0m\u001b[0;34m\u001b[0m\u001b[0m\n\u001b[0m",
      "\u001b[0;32m/Users/zurfarosa/demres/common/process_entries.py\u001b[0m in \u001b[0;36mget_all_entries\u001b[0;34m(all_encounters)\u001b[0m\n\u001b[1;32m    164\u001b[0m     \u001b[0mprescriptions\u001b[0m\u001b[0;34m[\u001b[0m\u001b[0;34m'type'\u001b[0m\u001b[0;34m]\u001b[0m\u001b[0;34m=\u001b[0m\u001b[0mentry_type\u001b[0m\u001b[0;34m[\u001b[0m\u001b[0;34m'prescription'\u001b[0m\u001b[0;34m]\u001b[0m\u001b[0;34m\u001b[0m\u001b[0m\n\u001b[1;32m    165\u001b[0m \u001b[0;34m\u001b[0m\u001b[0m\n\u001b[0;32m--> 166\u001b[0;31m     \u001b[0mall_entries\u001b[0m \u001b[0;34m=\u001b[0m \u001b[0mpd\u001b[0m\u001b[0;34m.\u001b[0m\u001b[0mconcat\u001b[0m\u001b[0;34m(\u001b[0m\u001b[0;34m[\u001b[0m\u001b[0mall_encounters\u001b[0m\u001b[0;34m,\u001b[0m\u001b[0mprescriptions\u001b[0m\u001b[0;34m]\u001b[0m\u001b[0;34m,\u001b[0m\u001b[0mignore_index\u001b[0m\u001b[0;34m=\u001b[0m\u001b[0;32mTrue\u001b[0m\u001b[0;34m)\u001b[0m\u001b[0;34m\u001b[0m\u001b[0m\n\u001b[0m\u001b[1;32m    167\u001b[0m     \u001b[0;32mreturn\u001b[0m \u001b[0mall_entries\u001b[0m\u001b[0;34m\u001b[0m\u001b[0m\n",
      "\u001b[0;32m/Users/zurfarosa/demres/env/lib/python3.6/site-packages/pandas/core/reshape/concat.py\u001b[0m in \u001b[0;36mconcat\u001b[0;34m(objs, axis, join, join_axes, ignore_index, keys, levels, names, verify_integrity, copy)\u001b[0m\n\u001b[1;32m    210\u001b[0m                        \u001b[0mkeys\u001b[0m\u001b[0;34m=\u001b[0m\u001b[0mkeys\u001b[0m\u001b[0;34m,\u001b[0m \u001b[0mlevels\u001b[0m\u001b[0;34m=\u001b[0m\u001b[0mlevels\u001b[0m\u001b[0;34m,\u001b[0m \u001b[0mnames\u001b[0m\u001b[0;34m=\u001b[0m\u001b[0mnames\u001b[0m\u001b[0;34m,\u001b[0m\u001b[0;34m\u001b[0m\u001b[0m\n\u001b[1;32m    211\u001b[0m                        \u001b[0mverify_integrity\u001b[0m\u001b[0;34m=\u001b[0m\u001b[0mverify_integrity\u001b[0m\u001b[0;34m,\u001b[0m\u001b[0;34m\u001b[0m\u001b[0m\n\u001b[0;32m--> 212\u001b[0;31m                        copy=copy)\n\u001b[0m\u001b[1;32m    213\u001b[0m     \u001b[0;32mreturn\u001b[0m \u001b[0mop\u001b[0m\u001b[0;34m.\u001b[0m\u001b[0mget_result\u001b[0m\u001b[0;34m(\u001b[0m\u001b[0;34m)\u001b[0m\u001b[0;34m\u001b[0m\u001b[0m\n\u001b[1;32m    214\u001b[0m \u001b[0;34m\u001b[0m\u001b[0m\n",
      "\u001b[0;32m/Users/zurfarosa/demres/env/lib/python3.6/site-packages/pandas/core/reshape/concat.py\u001b[0m in \u001b[0;36m__init__\u001b[0;34m(self, objs, axis, join, join_axes, keys, levels, names, ignore_index, verify_integrity, copy)\u001b[0m\n\u001b[1;32m    273\u001b[0m \u001b[0;34m\u001b[0m\u001b[0m\n\u001b[1;32m    274\u001b[0m             \u001b[0;31m# consolidate\u001b[0m\u001b[0;34m\u001b[0m\u001b[0;34m\u001b[0m\u001b[0m\n\u001b[0;32m--> 275\u001b[0;31m             \u001b[0mobj\u001b[0m\u001b[0;34m.\u001b[0m\u001b[0m_consolidate\u001b[0m\u001b[0;34m(\u001b[0m\u001b[0minplace\u001b[0m\u001b[0;34m=\u001b[0m\u001b[0;32mTrue\u001b[0m\u001b[0;34m)\u001b[0m\u001b[0;34m\u001b[0m\u001b[0m\n\u001b[0m\u001b[1;32m    276\u001b[0m             \u001b[0mndims\u001b[0m\u001b[0;34m.\u001b[0m\u001b[0madd\u001b[0m\u001b[0;34m(\u001b[0m\u001b[0mobj\u001b[0m\u001b[0;34m.\u001b[0m\u001b[0mndim\u001b[0m\u001b[0;34m)\u001b[0m\u001b[0;34m\u001b[0m\u001b[0m\n\u001b[1;32m    277\u001b[0m \u001b[0;34m\u001b[0m\u001b[0m\n",
      "\u001b[0;32m/Users/zurfarosa/demres/env/lib/python3.6/site-packages/pandas/core/generic.py\u001b[0m in \u001b[0;36m_consolidate\u001b[0;34m(self, inplace)\u001b[0m\n\u001b[1;32m   3693\u001b[0m         \u001b[0minplace\u001b[0m \u001b[0;34m=\u001b[0m \u001b[0mvalidate_bool_kwarg\u001b[0m\u001b[0;34m(\u001b[0m\u001b[0minplace\u001b[0m\u001b[0;34m,\u001b[0m \u001b[0;34m'inplace'\u001b[0m\u001b[0;34m)\u001b[0m\u001b[0;34m\u001b[0m\u001b[0m\n\u001b[1;32m   3694\u001b[0m         \u001b[0;32mif\u001b[0m \u001b[0minplace\u001b[0m\u001b[0;34m:\u001b[0m\u001b[0;34m\u001b[0m\u001b[0m\n\u001b[0;32m-> 3695\u001b[0;31m             \u001b[0mself\u001b[0m\u001b[0;34m.\u001b[0m\u001b[0m_consolidate_inplace\u001b[0m\u001b[0;34m(\u001b[0m\u001b[0;34m)\u001b[0m\u001b[0;34m\u001b[0m\u001b[0m\n\u001b[0m\u001b[1;32m   3696\u001b[0m         \u001b[0;32melse\u001b[0m\u001b[0;34m:\u001b[0m\u001b[0;34m\u001b[0m\u001b[0m\n\u001b[1;32m   3697\u001b[0m             \u001b[0mf\u001b[0m \u001b[0;34m=\u001b[0m \u001b[0;32mlambda\u001b[0m\u001b[0;34m:\u001b[0m \u001b[0mself\u001b[0m\u001b[0;34m.\u001b[0m\u001b[0m_data\u001b[0m\u001b[0;34m.\u001b[0m\u001b[0mconsolidate\u001b[0m\u001b[0;34m(\u001b[0m\u001b[0;34m)\u001b[0m\u001b[0;34m\u001b[0m\u001b[0m\n",
      "\u001b[0;32m/Users/zurfarosa/demres/env/lib/python3.6/site-packages/pandas/core/generic.py\u001b[0m in \u001b[0;36m_consolidate_inplace\u001b[0;34m(self)\u001b[0m\n\u001b[1;32m   3675\u001b[0m             \u001b[0mself\u001b[0m\u001b[0;34m.\u001b[0m\u001b[0m_data\u001b[0m \u001b[0;34m=\u001b[0m \u001b[0mself\u001b[0m\u001b[0;34m.\u001b[0m\u001b[0m_data\u001b[0m\u001b[0;34m.\u001b[0m\u001b[0mconsolidate\u001b[0m\u001b[0;34m(\u001b[0m\u001b[0;34m)\u001b[0m\u001b[0;34m\u001b[0m\u001b[0m\n\u001b[1;32m   3676\u001b[0m \u001b[0;34m\u001b[0m\u001b[0m\n\u001b[0;32m-> 3677\u001b[0;31m         \u001b[0mself\u001b[0m\u001b[0;34m.\u001b[0m\u001b[0m_protect_consolidate\u001b[0m\u001b[0;34m(\u001b[0m\u001b[0mf\u001b[0m\u001b[0;34m)\u001b[0m\u001b[0;34m\u001b[0m\u001b[0m\n\u001b[0m\u001b[1;32m   3678\u001b[0m \u001b[0;34m\u001b[0m\u001b[0m\n\u001b[1;32m   3679\u001b[0m     \u001b[0;32mdef\u001b[0m \u001b[0m_consolidate\u001b[0m\u001b[0;34m(\u001b[0m\u001b[0mself\u001b[0m\u001b[0;34m,\u001b[0m \u001b[0minplace\u001b[0m\u001b[0;34m=\u001b[0m\u001b[0;32mFalse\u001b[0m\u001b[0;34m)\u001b[0m\u001b[0;34m:\u001b[0m\u001b[0;34m\u001b[0m\u001b[0m\n",
      "\u001b[0;32m/Users/zurfarosa/demres/env/lib/python3.6/site-packages/pandas/core/generic.py\u001b[0m in \u001b[0;36m_protect_consolidate\u001b[0;34m(self, f)\u001b[0m\n\u001b[1;32m   3664\u001b[0m         \"\"\"\n\u001b[1;32m   3665\u001b[0m         \u001b[0mblocks_before\u001b[0m \u001b[0;34m=\u001b[0m \u001b[0mlen\u001b[0m\u001b[0;34m(\u001b[0m\u001b[0mself\u001b[0m\u001b[0;34m.\u001b[0m\u001b[0m_data\u001b[0m\u001b[0;34m.\u001b[0m\u001b[0mblocks\u001b[0m\u001b[0;34m)\u001b[0m\u001b[0;34m\u001b[0m\u001b[0m\n\u001b[0;32m-> 3666\u001b[0;31m         \u001b[0mresult\u001b[0m \u001b[0;34m=\u001b[0m \u001b[0mf\u001b[0m\u001b[0;34m(\u001b[0m\u001b[0;34m)\u001b[0m\u001b[0;34m\u001b[0m\u001b[0m\n\u001b[0m\u001b[1;32m   3667\u001b[0m         \u001b[0;32mif\u001b[0m \u001b[0mlen\u001b[0m\u001b[0;34m(\u001b[0m\u001b[0mself\u001b[0m\u001b[0;34m.\u001b[0m\u001b[0m_data\u001b[0m\u001b[0;34m.\u001b[0m\u001b[0mblocks\u001b[0m\u001b[0;34m)\u001b[0m \u001b[0;34m!=\u001b[0m \u001b[0mblocks_before\u001b[0m\u001b[0;34m:\u001b[0m\u001b[0;34m\u001b[0m\u001b[0m\n\u001b[1;32m   3668\u001b[0m             \u001b[0mself\u001b[0m\u001b[0;34m.\u001b[0m\u001b[0m_clear_item_cache\u001b[0m\u001b[0;34m(\u001b[0m\u001b[0;34m)\u001b[0m\u001b[0;34m\u001b[0m\u001b[0m\n",
      "\u001b[0;32m/Users/zurfarosa/demres/env/lib/python3.6/site-packages/pandas/core/generic.py\u001b[0m in \u001b[0;36mf\u001b[0;34m()\u001b[0m\n\u001b[1;32m   3673\u001b[0m \u001b[0;34m\u001b[0m\u001b[0m\n\u001b[1;32m   3674\u001b[0m         \u001b[0;32mdef\u001b[0m \u001b[0mf\u001b[0m\u001b[0;34m(\u001b[0m\u001b[0;34m)\u001b[0m\u001b[0;34m:\u001b[0m\u001b[0;34m\u001b[0m\u001b[0m\n\u001b[0;32m-> 3675\u001b[0;31m             \u001b[0mself\u001b[0m\u001b[0;34m.\u001b[0m\u001b[0m_data\u001b[0m \u001b[0;34m=\u001b[0m \u001b[0mself\u001b[0m\u001b[0;34m.\u001b[0m\u001b[0m_data\u001b[0m\u001b[0;34m.\u001b[0m\u001b[0mconsolidate\u001b[0m\u001b[0;34m(\u001b[0m\u001b[0;34m)\u001b[0m\u001b[0;34m\u001b[0m\u001b[0m\n\u001b[0m\u001b[1;32m   3676\u001b[0m \u001b[0;34m\u001b[0m\u001b[0m\n\u001b[1;32m   3677\u001b[0m         \u001b[0mself\u001b[0m\u001b[0;34m.\u001b[0m\u001b[0m_protect_consolidate\u001b[0m\u001b[0;34m(\u001b[0m\u001b[0mf\u001b[0m\u001b[0;34m)\u001b[0m\u001b[0;34m\u001b[0m\u001b[0m\n",
      "\u001b[0;32m/Users/zurfarosa/demres/env/lib/python3.6/site-packages/pandas/core/internals.py\u001b[0m in \u001b[0;36mconsolidate\u001b[0;34m(self)\u001b[0m\n\u001b[1;32m   3824\u001b[0m         \u001b[0mbm\u001b[0m \u001b[0;34m=\u001b[0m \u001b[0mself\u001b[0m\u001b[0;34m.\u001b[0m\u001b[0m__class__\u001b[0m\u001b[0;34m(\u001b[0m\u001b[0mself\u001b[0m\u001b[0;34m.\u001b[0m\u001b[0mblocks\u001b[0m\u001b[0;34m,\u001b[0m \u001b[0mself\u001b[0m\u001b[0;34m.\u001b[0m\u001b[0maxes\u001b[0m\u001b[0;34m)\u001b[0m\u001b[0;34m\u001b[0m\u001b[0m\n\u001b[1;32m   3825\u001b[0m         \u001b[0mbm\u001b[0m\u001b[0;34m.\u001b[0m\u001b[0m_is_consolidated\u001b[0m \u001b[0;34m=\u001b[0m \u001b[0;32mFalse\u001b[0m\u001b[0;34m\u001b[0m\u001b[0m\n\u001b[0;32m-> 3826\u001b[0;31m         \u001b[0mbm\u001b[0m\u001b[0;34m.\u001b[0m\u001b[0m_consolidate_inplace\u001b[0m\u001b[0;34m(\u001b[0m\u001b[0;34m)\u001b[0m\u001b[0;34m\u001b[0m\u001b[0m\n\u001b[0m\u001b[1;32m   3827\u001b[0m         \u001b[0;32mreturn\u001b[0m \u001b[0mbm\u001b[0m\u001b[0;34m\u001b[0m\u001b[0m\n\u001b[1;32m   3828\u001b[0m \u001b[0;34m\u001b[0m\u001b[0m\n",
      "\u001b[0;32m/Users/zurfarosa/demres/env/lib/python3.6/site-packages/pandas/core/internals.py\u001b[0m in \u001b[0;36m_consolidate_inplace\u001b[0;34m(self)\u001b[0m\n\u001b[1;32m   3829\u001b[0m     \u001b[0;32mdef\u001b[0m \u001b[0m_consolidate_inplace\u001b[0m\u001b[0;34m(\u001b[0m\u001b[0mself\u001b[0m\u001b[0;34m)\u001b[0m\u001b[0;34m:\u001b[0m\u001b[0;34m\u001b[0m\u001b[0m\n\u001b[1;32m   3830\u001b[0m         \u001b[0;32mif\u001b[0m \u001b[0;32mnot\u001b[0m \u001b[0mself\u001b[0m\u001b[0;34m.\u001b[0m\u001b[0mis_consolidated\u001b[0m\u001b[0;34m(\u001b[0m\u001b[0;34m)\u001b[0m\u001b[0;34m:\u001b[0m\u001b[0;34m\u001b[0m\u001b[0m\n\u001b[0;32m-> 3831\u001b[0;31m             \u001b[0mself\u001b[0m\u001b[0;34m.\u001b[0m\u001b[0mblocks\u001b[0m \u001b[0;34m=\u001b[0m \u001b[0mtuple\u001b[0m\u001b[0;34m(\u001b[0m\u001b[0m_consolidate\u001b[0m\u001b[0;34m(\u001b[0m\u001b[0mself\u001b[0m\u001b[0;34m.\u001b[0m\u001b[0mblocks\u001b[0m\u001b[0;34m)\u001b[0m\u001b[0;34m)\u001b[0m\u001b[0;34m\u001b[0m\u001b[0m\n\u001b[0m\u001b[1;32m   3832\u001b[0m             \u001b[0mself\u001b[0m\u001b[0;34m.\u001b[0m\u001b[0m_is_consolidated\u001b[0m \u001b[0;34m=\u001b[0m \u001b[0;32mTrue\u001b[0m\u001b[0;34m\u001b[0m\u001b[0m\n\u001b[1;32m   3833\u001b[0m             \u001b[0mself\u001b[0m\u001b[0;34m.\u001b[0m\u001b[0m_known_consolidated\u001b[0m \u001b[0;34m=\u001b[0m \u001b[0;32mTrue\u001b[0m\u001b[0;34m\u001b[0m\u001b[0m\n",
      "\u001b[0;32m/Users/zurfarosa/demres/env/lib/python3.6/site-packages/pandas/core/internals.py\u001b[0m in \u001b[0;36m_consolidate\u001b[0;34m(blocks)\u001b[0m\n\u001b[1;32m   4851\u001b[0m     \u001b[0;32mfor\u001b[0m \u001b[0;34m(\u001b[0m\u001b[0m_can_consolidate\u001b[0m\u001b[0;34m,\u001b[0m \u001b[0mdtype\u001b[0m\u001b[0;34m)\u001b[0m\u001b[0;34m,\u001b[0m \u001b[0mgroup_blocks\u001b[0m \u001b[0;32min\u001b[0m \u001b[0mgrouper\u001b[0m\u001b[0;34m:\u001b[0m\u001b[0;34m\u001b[0m\u001b[0m\n\u001b[1;32m   4852\u001b[0m         merged_blocks = _merge_blocks(list(group_blocks), dtype=dtype,\n\u001b[0;32m-> 4853\u001b[0;31m                                       _can_consolidate=_can_consolidate)\n\u001b[0m\u001b[1;32m   4854\u001b[0m         \u001b[0mnew_blocks\u001b[0m \u001b[0;34m=\u001b[0m \u001b[0m_extend_blocks\u001b[0m\u001b[0;34m(\u001b[0m\u001b[0mmerged_blocks\u001b[0m\u001b[0;34m,\u001b[0m \u001b[0mnew_blocks\u001b[0m\u001b[0;34m)\u001b[0m\u001b[0;34m\u001b[0m\u001b[0m\n\u001b[1;32m   4855\u001b[0m     \u001b[0;32mreturn\u001b[0m \u001b[0mnew_blocks\u001b[0m\u001b[0;34m\u001b[0m\u001b[0m\n",
      "\u001b[0;32m/Users/zurfarosa/demres/env/lib/python3.6/site-packages/pandas/core/internals.py\u001b[0m in \u001b[0;36m_merge_blocks\u001b[0;34m(blocks, dtype, _can_consolidate)\u001b[0m\n\u001b[1;32m   4874\u001b[0m \u001b[0;34m\u001b[0m\u001b[0m\n\u001b[1;32m   4875\u001b[0m         \u001b[0margsort\u001b[0m \u001b[0;34m=\u001b[0m \u001b[0mnp\u001b[0m\u001b[0;34m.\u001b[0m\u001b[0margsort\u001b[0m\u001b[0;34m(\u001b[0m\u001b[0mnew_mgr_locs\u001b[0m\u001b[0;34m)\u001b[0m\u001b[0;34m\u001b[0m\u001b[0m\n\u001b[0;32m-> 4876\u001b[0;31m         \u001b[0mnew_values\u001b[0m \u001b[0;34m=\u001b[0m \u001b[0mnew_values\u001b[0m\u001b[0;34m[\u001b[0m\u001b[0margsort\u001b[0m\u001b[0;34m]\u001b[0m\u001b[0;34m\u001b[0m\u001b[0m\n\u001b[0m\u001b[1;32m   4877\u001b[0m         \u001b[0mnew_mgr_locs\u001b[0m \u001b[0;34m=\u001b[0m \u001b[0mnew_mgr_locs\u001b[0m\u001b[0;34m[\u001b[0m\u001b[0margsort\u001b[0m\u001b[0;34m]\u001b[0m\u001b[0;34m\u001b[0m\u001b[0m\n\u001b[1;32m   4878\u001b[0m \u001b[0;34m\u001b[0m\u001b[0m\n",
      "\u001b[0;31mKeyboardInterrupt\u001b[0m: "
     ]
    }
   ],
   "source": [
    "all_entries = get_all_entries(all_encounters)"
   ]
  },
  {
   "cell_type": "code",
   "execution_count": 86,
   "metadata": {
    "scrolled": true
   },
   "outputs": [],
   "source": [
    "pt_features = create_pt_features()"
   ]
  },
  {
   "cell_type": "code",
   "execution_count": 87,
   "metadata": {},
   "outputs": [
    {
     "data": {
      "text/html": [
       "<div>\n",
       "<style scoped>\n",
       "    .dataframe tbody tr th:only-of-type {\n",
       "        vertical-align: middle;\n",
       "    }\n",
       "\n",
       "    .dataframe tbody tr th {\n",
       "        vertical-align: top;\n",
       "    }\n",
       "\n",
       "    .dataframe thead th {\n",
       "        text-align: right;\n",
       "    }\n",
       "</style>\n",
       "<table border=\"1\" class=\"dataframe\">\n",
       "  <thead>\n",
       "    <tr style=\"text-align: right;\">\n",
       "      <th></th>\n",
       "      <th>patid</th>\n",
       "      <th>yob</th>\n",
       "      <th>pracid</th>\n",
       "      <th>female</th>\n",
       "    </tr>\n",
       "  </thead>\n",
       "  <tbody>\n",
       "    <tr>\n",
       "      <th>0</th>\n",
       "      <td>57001</td>\n",
       "      <td>32</td>\n",
       "      <td>001</td>\n",
       "      <td>0</td>\n",
       "    </tr>\n",
       "    <tr>\n",
       "      <th>1</th>\n",
       "      <td>60001</td>\n",
       "      <td>24</td>\n",
       "      <td>001</td>\n",
       "      <td>0</td>\n",
       "    </tr>\n",
       "    <tr>\n",
       "      <th>2</th>\n",
       "      <td>149001</td>\n",
       "      <td>19</td>\n",
       "      <td>001</td>\n",
       "      <td>1</td>\n",
       "    </tr>\n",
       "    <tr>\n",
       "      <th>3</th>\n",
       "      <td>364001</td>\n",
       "      <td>37</td>\n",
       "      <td>001</td>\n",
       "      <td>1</td>\n",
       "    </tr>\n",
       "    <tr>\n",
       "      <th>4</th>\n",
       "      <td>432001</td>\n",
       "      <td>20</td>\n",
       "      <td>001</td>\n",
       "      <td>1</td>\n",
       "    </tr>\n",
       "  </tbody>\n",
       "</table>\n",
       "</div>"
      ],
      "text/plain": [
       "    patid yob pracid  female\n",
       "0   57001  32    001       0\n",
       "1   60001  24    001       0\n",
       "2  149001  19    001       1\n",
       "3  364001  37    001       1\n",
       "4  432001  20    001       1"
      ]
     },
     "execution_count": 87,
     "metadata": {},
     "output_type": "execute_result"
    }
   ],
   "source": [
    "pt_features.head(5)"
   ]
  },
  {
   "cell_type": "code",
   "execution_count": 88,
   "metadata": {},
   "outputs": [
    {
     "name": "stdout",
     "output_type": "stream",
     "text": [
      "Number of patients prescribed antidementia drugs but not diagnosed with dementia: 321\n"
     ]
    }
   ],
   "source": [
    "pt_features = get_index_date_and_caseness_and_add_final_dementia_subtype(all_entries,pt_features)"
   ]
  },
  {
   "cell_type": "code",
   "execution_count": 89,
   "metadata": {
    "scrolled": true
   },
   "outputs": [
    {
     "name": "stdout",
     "output_type": "stream",
     "text": [
      "calculating latest_sysdate\n",
      "calculating earliest_sysdate\n",
      "resampling all_encounters - may take some time...\n",
      "locating converted codes\n",
      "choosing most appropriate measure of data_start\n",
      "removing patients without any events\n",
      "There are 14 patients without any events\n"
     ]
    }
   ],
   "source": [
    "pt_features = add_data_start_and_end_dates(all_encounters,pt_features)"
   ]
  },
  {
   "cell_type": "code",
   "execution_count": 90,
   "metadata": {},
   "outputs": [],
   "source": [
    "pt_features.to_csv('data/processed_data/pt_features.csv',index=False)"
   ]
  },
  {
   "cell_type": "code",
   "execution_count": 91,
   "metadata": {
    "scrolled": true
   },
   "outputs": [
    {
     "name": "stdout",
     "output_type": "stream",
     "text": [
      "removing cases where final dementia subtype is a specific, non-Alzheimer, non-VaD dementia\n",
      "Number of cases removed:  6442\n",
      "Number of patients (cases and controls) 88058\n"
     ]
    }
   ],
   "source": [
    "#For sensitivity analysis, remove specific dementias (e.g. FTLD, DLB) from pt_features, but save this to a different CSV file\n",
    "pt_features_avoid_specific_dementia = avoid_specific_dementia_subtypes(pt_features) \n",
    "pt_features_avoid_specific_dementia.to_csv('data/processed_data/pt_features_avoid_specific_dementia.csv',index=False)"
   ]
  },
  {
   "cell_type": "code",
   "execution_count": 19,
   "metadata": {
    "scrolled": true
   },
   "outputs": [
    {
     "name": "stdout",
     "output_type": "stream",
     "text": [
      "\n",
      "12_to_7\n",
      "pt_features\n",
      "All cases 46572\n",
      "Number of cases with 10 years of data 12021\n",
      "Number of cases without 10 years of data (to be discarded): 34551\n",
      "Number of controls 47928\n",
      "37349  cases being removed as unmatchable\n",
      "38705  controls being removed as unmatchable\n",
      "76054  total patients being removed as unmatchable\n",
      "\n",
      "10_to_5\n",
      "pt_features\n",
      "All cases 46572\n",
      "Number of cases with 10 years of data 18527\n",
      "Number of cases without 10 years of data (to be discarded): 28045\n",
      "Number of controls 47928\n",
      "31650  cases being removed as unmatchable\n",
      "33006  controls being removed as unmatchable\n",
      "64656  total patients being removed as unmatchable\n",
      "pt_features_avoid_specific_dementia\n",
      "All cases 40130\n",
      "Number of cases with 10 years of data 15973\n",
      "Number of cases without 10 years of data (to be discarded): 24157\n",
      "Number of controls 47928\n",
      "27251  cases being removed as unmatchable\n",
      "35049  controls being removed as unmatchable\n",
      "62300  total patients being removed as unmatchable\n",
      "\n",
      "8_to_3\n",
      "pt_features\n",
      "All cases 46572\n",
      "Number of cases with 10 years of data 25571\n",
      "Number of cases without 10 years of data (to be discarded): 21001\n",
      "Number of controls 47928\n",
      "25061  cases being removed as unmatchable\n",
      "26417  controls being removed as unmatchable\n",
      "51478  total patients being removed as unmatchable\n"
     ]
    }
   ],
   "source": [
    "for window in sd.exposure_windows:\n",
    "    print('\\n' + window['name'])  \n",
    "    if window == sd.exposure_windows[1]:\n",
    "        files = ['pt_features','pt_features_avoid_specific_dementia']\n",
    "    else:\n",
    "        files = ['pt_features']\n",
    "    for file in files:\n",
    "        print(file)  \n",
    "        pt_features = pd.read_csv('data/processed_data/' + file + '.csv',delimiter=',',parse_dates=['index_date','data_end','data_start'],infer_datetime_format=True)\n",
    "        pt_features = match_cases_and_controls(pt_features,window)\n",
    "        pt_features.to_csv('data/processed_data/' + file + '_'+ window['name'] +'.csv',index=False)\n"
   ]
  },
  {
   "cell_type": "markdown",
   "metadata": {},
   "source": [
    "## Add derived variables to pt_features \n",
    "*e.g. insomnia count, history of stroke, consultation count*"
   ]
  },
  {
   "cell_type": "code",
   "execution_count": 20,
   "metadata": {
    "scrolled": true
   },
   "outputs": [],
   "source": [
    "medcoded_entries = pd.read_hdf('data/processed_data/hdf/medcoded_entries.hdf')"
   ]
  },
  {
   "cell_type": "code",
   "execution_count": 21,
   "metadata": {
    "scrolled": true
   },
   "outputs": [],
   "source": [
    "prescriptions = pd.read_hdf('data/processed_data/hdf/prescriptions.hdf')"
   ]
  },
  {
   "cell_type": "code",
   "execution_count": 22,
   "metadata": {},
   "outputs": [],
   "source": [
    "pt_features = pd.read_csv('data/processed_data/' + file + '_'+ sd.exposure_windows[1]['name'] +'.csv',delimiter=',',parse_dates=['index_date','data_end','data_start'],infer_datetime_format=True)"
   ]
  },
  {
   "cell_type": "code",
   "execution_count": 24,
   "metadata": {
    "scrolled": true
   },
   "outputs": [],
   "source": [
    "create_pdd_for_each_drug(prescriptions,pt_features,sd.exposure_windows[1])"
   ]
  },
  {
   "cell_type": "code",
   "execution_count": 42,
   "metadata": {
    "scrolled": true
   },
   "outputs": [
    {
     "name": "stdout",
     "output_type": "stream",
     "text": [
      "12_to_7 ...\n",
      "pt_features :\n"
     ]
    },
    {
     "data": {
      "text/html": [
       "<div>\n",
       "<style scoped>\n",
       "    .dataframe tbody tr th:only-of-type {\n",
       "        vertical-align: middle;\n",
       "    }\n",
       "\n",
       "    .dataframe tbody tr th {\n",
       "        vertical-align: top;\n",
       "    }\n",
       "\n",
       "    .dataframe thead th {\n",
       "        text-align: right;\n",
       "    }\n",
       "</style>\n",
       "<table border=\"1\" class=\"dataframe\">\n",
       "  <thead>\n",
       "    <tr style=\"text-align: right;\">\n",
       "      <th></th>\n",
       "      <th>patid</th>\n",
       "      <th>yob</th>\n",
       "      <th>pracid</th>\n",
       "      <th>female</th>\n",
       "      <th>index_date</th>\n",
       "      <th>isCase</th>\n",
       "      <th>final dementia medcode</th>\n",
       "      <th>data_end</th>\n",
       "      <th>data_start</th>\n",
       "      <th>matchid</th>\n",
       "      <th>age_at_index_date</th>\n",
       "      <th>insomnia</th>\n",
       "      <th>stroke</th>\n",
       "      <th>heart_failure</th>\n",
       "      <th>mental_illness</th>\n",
       "      <th>sleep_apnoea</th>\n",
       "      <th>chronic_pulmonary_disease</th>\n",
       "      <th>hypnotics_100_pdds</th>\n",
       "      <th>age_at_index_date:65-69</th>\n",
       "      <th>age_at_index_date:70-74</th>\n",
       "      <th>age_at_index_date:75-79</th>\n",
       "      <th>age_at_index_date:80-84</th>\n",
       "      <th>age_at_index_date:85-89</th>\n",
       "      <th>age_at_index_date:90-99</th>\n",
       "      <th>age_at_index_date:above_99</th>\n",
       "      <th>hypnotic_pdds:00000</th>\n",
       "      <th>hypnotic_pdds:00001_10</th>\n",
       "      <th>hypnotic_pdds:00011_100</th>\n",
       "      <th>hypnotic_pdds:00101_1000</th>\n",
       "      <th>hypnotic_pdds:01001_10000</th>\n",
       "      <th>hypnotic_pdds:10000_and_above</th>\n",
       "    </tr>\n",
       "  </thead>\n",
       "  <tbody>\n",
       "    <tr>\n",
       "      <th>7328</th>\n",
       "      <td>7884266</td>\n",
       "      <td>13</td>\n",
       "      <td>266</td>\n",
       "      <td>1</td>\n",
       "      <td>2008-04-17</td>\n",
       "      <td>False</td>\n",
       "      <td>NaN</td>\n",
       "      <td>2011-10-03</td>\n",
       "      <td>1996-01-31</td>\n",
       "      <td>60669</td>\n",
       "      <td>95</td>\n",
       "      <td>0</td>\n",
       "      <td>0</td>\n",
       "      <td>0</td>\n",
       "      <td>1</td>\n",
       "      <td>0</td>\n",
       "      <td>0</td>\n",
       "      <td>0.0</td>\n",
       "      <td>0.0</td>\n",
       "      <td>0.0</td>\n",
       "      <td>0.0</td>\n",
       "      <td>0.0</td>\n",
       "      <td>0.0</td>\n",
       "      <td>0.0</td>\n",
       "      <td>0.0</td>\n",
       "      <td>1.0</td>\n",
       "      <td>0.0</td>\n",
       "      <td>0.0</td>\n",
       "      <td>0.0</td>\n",
       "      <td>0.0</td>\n",
       "      <td>0.0</td>\n",
       "    </tr>\n",
       "    <tr>\n",
       "      <th>4252</th>\n",
       "      <td>13285343</td>\n",
       "      <td>33</td>\n",
       "      <td>343</td>\n",
       "      <td>0</td>\n",
       "      <td>2009-10-01</td>\n",
       "      <td>False</td>\n",
       "      <td>NaN</td>\n",
       "      <td>2012-08-01</td>\n",
       "      <td>1997-09-16</td>\n",
       "      <td>6693</td>\n",
       "      <td>76</td>\n",
       "      <td>0</td>\n",
       "      <td>0</td>\n",
       "      <td>0</td>\n",
       "      <td>0</td>\n",
       "      <td>0</td>\n",
       "      <td>0</td>\n",
       "      <td>0.0</td>\n",
       "      <td>0.0</td>\n",
       "      <td>0.0</td>\n",
       "      <td>1.0</td>\n",
       "      <td>0.0</td>\n",
       "      <td>0.0</td>\n",
       "      <td>0.0</td>\n",
       "      <td>0.0</td>\n",
       "      <td>1.0</td>\n",
       "      <td>0.0</td>\n",
       "      <td>0.0</td>\n",
       "      <td>0.0</td>\n",
       "      <td>0.0</td>\n",
       "      <td>0.0</td>\n",
       "    </tr>\n",
       "  </tbody>\n",
       "</table>\n",
       "</div>"
      ],
      "text/plain": [
       "         patid  yob  pracid  female index_date  isCase  \\\n",
       "7328   7884266   13     266       1 2008-04-17   False   \n",
       "4252  13285343   33     343       0 2009-10-01   False   \n",
       "\n",
       "      final dementia medcode   data_end data_start  matchid  \\\n",
       "7328                     NaN 2011-10-03 1996-01-31    60669   \n",
       "4252                     NaN 2012-08-01 1997-09-16     6693   \n",
       "\n",
       "      age_at_index_date  insomnia  stroke  heart_failure  mental_illness  \\\n",
       "7328                 95         0       0              0               1   \n",
       "4252                 76         0       0              0               0   \n",
       "\n",
       "      sleep_apnoea  chronic_pulmonary_disease  hypnotics_100_pdds  \\\n",
       "7328             0                          0                 0.0   \n",
       "4252             0                          0                 0.0   \n",
       "\n",
       "      age_at_index_date:65-69  age_at_index_date:70-74  \\\n",
       "7328                      0.0                      0.0   \n",
       "4252                      0.0                      0.0   \n",
       "\n",
       "      age_at_index_date:75-79  age_at_index_date:80-84  \\\n",
       "7328                      0.0                      0.0   \n",
       "4252                      1.0                      0.0   \n",
       "\n",
       "      age_at_index_date:85-89  age_at_index_date:90-99  \\\n",
       "7328                      0.0                      0.0   \n",
       "4252                      0.0                      0.0   \n",
       "\n",
       "      age_at_index_date:above_99  hypnotic_pdds:00000  hypnotic_pdds:00001_10  \\\n",
       "7328                         0.0                  1.0                     0.0   \n",
       "4252                         0.0                  1.0                     0.0   \n",
       "\n",
       "      hypnotic_pdds:00011_100  hypnotic_pdds:00101_1000  \\\n",
       "7328                      0.0                       0.0   \n",
       "4252                      0.0                       0.0   \n",
       "\n",
       "      hypnotic_pdds:01001_10000  hypnotic_pdds:10000_and_above  \n",
       "7328                        0.0                            0.0  \n",
       "4252                        0.0                            0.0  "
      ]
     },
     "metadata": {},
     "output_type": "display_data"
    },
    {
     "name": "stdout",
     "output_type": "stream",
     "text": [
      "10_to_5 ...\n",
      "pt_features :\n"
     ]
    },
    {
     "data": {
      "text/html": [
       "<div>\n",
       "<style scoped>\n",
       "    .dataframe tbody tr th:only-of-type {\n",
       "        vertical-align: middle;\n",
       "    }\n",
       "\n",
       "    .dataframe tbody tr th {\n",
       "        vertical-align: top;\n",
       "    }\n",
       "\n",
       "    .dataframe thead th {\n",
       "        text-align: right;\n",
       "    }\n",
       "</style>\n",
       "<table border=\"1\" class=\"dataframe\">\n",
       "  <thead>\n",
       "    <tr style=\"text-align: right;\">\n",
       "      <th></th>\n",
       "      <th>patid</th>\n",
       "      <th>yob</th>\n",
       "      <th>pracid</th>\n",
       "      <th>female</th>\n",
       "      <th>index_date</th>\n",
       "      <th>isCase</th>\n",
       "      <th>final dementia medcode</th>\n",
       "      <th>data_end</th>\n",
       "      <th>data_start</th>\n",
       "      <th>matchid</th>\n",
       "      <th>age_at_index_date</th>\n",
       "      <th>insomnia</th>\n",
       "      <th>stroke</th>\n",
       "      <th>heart_failure</th>\n",
       "      <th>mental_illness</th>\n",
       "      <th>sleep_apnoea</th>\n",
       "      <th>chronic_pulmonary_disease</th>\n",
       "      <th>hypnotics_100_pdds</th>\n",
       "      <th>age_at_index_date:65-69</th>\n",
       "      <th>age_at_index_date:70-74</th>\n",
       "      <th>age_at_index_date:75-79</th>\n",
       "      <th>age_at_index_date:80-84</th>\n",
       "      <th>age_at_index_date:85-89</th>\n",
       "      <th>age_at_index_date:90-99</th>\n",
       "      <th>age_at_index_date:above_99</th>\n",
       "      <th>hypnotic_pdds:00000</th>\n",
       "      <th>hypnotic_pdds:00001_10</th>\n",
       "      <th>hypnotic_pdds:00011_100</th>\n",
       "      <th>hypnotic_pdds:00101_1000</th>\n",
       "      <th>hypnotic_pdds:01001_10000</th>\n",
       "      <th>hypnotic_pdds:10000_and_above</th>\n",
       "    </tr>\n",
       "  </thead>\n",
       "  <tbody>\n",
       "    <tr>\n",
       "      <th>14362</th>\n",
       "      <td>289282</td>\n",
       "      <td>17</td>\n",
       "      <td>282</td>\n",
       "      <td>1</td>\n",
       "      <td>2007-02-19</td>\n",
       "      <td>True</td>\n",
       "      <td>4693.0</td>\n",
       "      <td>2010-03-25</td>\n",
       "      <td>1995-10-31</td>\n",
       "      <td>42684</td>\n",
       "      <td>90</td>\n",
       "      <td>0</td>\n",
       "      <td>0</td>\n",
       "      <td>0</td>\n",
       "      <td>0</td>\n",
       "      <td>0</td>\n",
       "      <td>0</td>\n",
       "      <td>0.00000</td>\n",
       "      <td>0.0</td>\n",
       "      <td>0.0</td>\n",
       "      <td>0.0</td>\n",
       "      <td>0.0</td>\n",
       "      <td>0.0</td>\n",
       "      <td>1.0</td>\n",
       "      <td>0.0</td>\n",
       "      <td>1.0</td>\n",
       "      <td>0.0</td>\n",
       "      <td>0.0</td>\n",
       "      <td>0.0</td>\n",
       "      <td>0.0</td>\n",
       "      <td>0.0</td>\n",
       "    </tr>\n",
       "    <tr>\n",
       "      <th>906</th>\n",
       "      <td>4654159</td>\n",
       "      <td>28</td>\n",
       "      <td>159</td>\n",
       "      <td>1</td>\n",
       "      <td>2007-08-08</td>\n",
       "      <td>True</td>\n",
       "      <td>7664.0</td>\n",
       "      <td>2008-08-11</td>\n",
       "      <td>1996-10-31</td>\n",
       "      <td>23656</td>\n",
       "      <td>79</td>\n",
       "      <td>0</td>\n",
       "      <td>0</td>\n",
       "      <td>0</td>\n",
       "      <td>0</td>\n",
       "      <td>0</td>\n",
       "      <td>0</td>\n",
       "      <td>0.30036</td>\n",
       "      <td>0.0</td>\n",
       "      <td>0.0</td>\n",
       "      <td>1.0</td>\n",
       "      <td>0.0</td>\n",
       "      <td>0.0</td>\n",
       "      <td>0.0</td>\n",
       "      <td>0.0</td>\n",
       "      <td>0.0</td>\n",
       "      <td>0.0</td>\n",
       "      <td>1.0</td>\n",
       "      <td>0.0</td>\n",
       "      <td>0.0</td>\n",
       "      <td>0.0</td>\n",
       "    </tr>\n",
       "  </tbody>\n",
       "</table>\n",
       "</div>"
      ],
      "text/plain": [
       "         patid  yob  pracid  female index_date  isCase  \\\n",
       "14362   289282   17     282       1 2007-02-19    True   \n",
       "906    4654159   28     159       1 2007-08-08    True   \n",
       "\n",
       "       final dementia medcode   data_end data_start  matchid  \\\n",
       "14362                  4693.0 2010-03-25 1995-10-31    42684   \n",
       "906                    7664.0 2008-08-11 1996-10-31    23656   \n",
       "\n",
       "       age_at_index_date  insomnia  stroke  heart_failure  mental_illness  \\\n",
       "14362                 90         0       0              0               0   \n",
       "906                   79         0       0              0               0   \n",
       "\n",
       "       sleep_apnoea  chronic_pulmonary_disease  hypnotics_100_pdds  \\\n",
       "14362             0                          0             0.00000   \n",
       "906               0                          0             0.30036   \n",
       "\n",
       "       age_at_index_date:65-69  age_at_index_date:70-74  \\\n",
       "14362                      0.0                      0.0   \n",
       "906                        0.0                      0.0   \n",
       "\n",
       "       age_at_index_date:75-79  age_at_index_date:80-84  \\\n",
       "14362                      0.0                      0.0   \n",
       "906                        1.0                      0.0   \n",
       "\n",
       "       age_at_index_date:85-89  age_at_index_date:90-99  \\\n",
       "14362                      0.0                      1.0   \n",
       "906                        0.0                      0.0   \n",
       "\n",
       "       age_at_index_date:above_99  hypnotic_pdds:00000  \\\n",
       "14362                         0.0                  1.0   \n",
       "906                           0.0                  0.0   \n",
       "\n",
       "       hypnotic_pdds:00001_10  hypnotic_pdds:00011_100  \\\n",
       "14362                     0.0                      0.0   \n",
       "906                       0.0                      1.0   \n",
       "\n",
       "       hypnotic_pdds:00101_1000  hypnotic_pdds:01001_10000  \\\n",
       "14362                       0.0                        0.0   \n",
       "906                         0.0                        0.0   \n",
       "\n",
       "       hypnotic_pdds:10000_and_above  \n",
       "14362                            0.0  \n",
       "906                              0.0  "
      ]
     },
     "metadata": {},
     "output_type": "display_data"
    },
    {
     "name": "stdout",
     "output_type": "stream",
     "text": [
      "pt_features_avoid_specific_dementia :\n"
     ]
    },
    {
     "data": {
      "text/html": [
       "<div>\n",
       "<style scoped>\n",
       "    .dataframe tbody tr th:only-of-type {\n",
       "        vertical-align: middle;\n",
       "    }\n",
       "\n",
       "    .dataframe tbody tr th {\n",
       "        vertical-align: top;\n",
       "    }\n",
       "\n",
       "    .dataframe thead th {\n",
       "        text-align: right;\n",
       "    }\n",
       "</style>\n",
       "<table border=\"1\" class=\"dataframe\">\n",
       "  <thead>\n",
       "    <tr style=\"text-align: right;\">\n",
       "      <th></th>\n",
       "      <th>patid</th>\n",
       "      <th>yob</th>\n",
       "      <th>pracid</th>\n",
       "      <th>female</th>\n",
       "      <th>index_date</th>\n",
       "      <th>isCase</th>\n",
       "      <th>final dementia medcode</th>\n",
       "      <th>data_end</th>\n",
       "      <th>data_start</th>\n",
       "      <th>matchid</th>\n",
       "      <th>age_at_index_date</th>\n",
       "      <th>insomnia</th>\n",
       "      <th>stroke</th>\n",
       "      <th>heart_failure</th>\n",
       "      <th>mental_illness</th>\n",
       "      <th>sleep_apnoea</th>\n",
       "      <th>chronic_pulmonary_disease</th>\n",
       "      <th>hypnotics_100_pdds</th>\n",
       "      <th>age_at_index_date:65-69</th>\n",
       "      <th>age_at_index_date:70-74</th>\n",
       "      <th>age_at_index_date:75-79</th>\n",
       "      <th>age_at_index_date:80-84</th>\n",
       "      <th>age_at_index_date:85-89</th>\n",
       "      <th>age_at_index_date:90-99</th>\n",
       "      <th>age_at_index_date:above_99</th>\n",
       "      <th>hypnotic_pdds:00000</th>\n",
       "      <th>hypnotic_pdds:00001_10</th>\n",
       "      <th>hypnotic_pdds:00011_100</th>\n",
       "      <th>hypnotic_pdds:00101_1000</th>\n",
       "      <th>hypnotic_pdds:01001_10000</th>\n",
       "      <th>hypnotic_pdds:10000_and_above</th>\n",
       "    </tr>\n",
       "  </thead>\n",
       "  <tbody>\n",
       "    <tr>\n",
       "      <th>10969</th>\n",
       "      <td>5169017</td>\n",
       "      <td>13</td>\n",
       "      <td>17</td>\n",
       "      <td>1</td>\n",
       "      <td>2011-04-18</td>\n",
       "      <td>True</td>\n",
       "      <td>1350.0</td>\n",
       "      <td>2012-07-12</td>\n",
       "      <td>1998-08-17</td>\n",
       "      <td>2519</td>\n",
       "      <td>98</td>\n",
       "      <td>0</td>\n",
       "      <td>0</td>\n",
       "      <td>0</td>\n",
       "      <td>0</td>\n",
       "      <td>0</td>\n",
       "      <td>0</td>\n",
       "      <td>0.0</td>\n",
       "      <td>0.0</td>\n",
       "      <td>0.0</td>\n",
       "      <td>0.0</td>\n",
       "      <td>0.0</td>\n",
       "      <td>0.0</td>\n",
       "      <td>0.0</td>\n",
       "      <td>0.0</td>\n",
       "      <td>1.0</td>\n",
       "      <td>0.0</td>\n",
       "      <td>0.0</td>\n",
       "      <td>0.0</td>\n",
       "      <td>0.0</td>\n",
       "      <td>0.0</td>\n",
       "    </tr>\n",
       "    <tr>\n",
       "      <th>16968</th>\n",
       "      <td>5734483</td>\n",
       "      <td>22</td>\n",
       "      <td>483</td>\n",
       "      <td>0</td>\n",
       "      <td>2007-07-11</td>\n",
       "      <td>False</td>\n",
       "      <td>NaN</td>\n",
       "      <td>2011-11-03</td>\n",
       "      <td>1996-07-03</td>\n",
       "      <td>62956</td>\n",
       "      <td>85</td>\n",
       "      <td>0</td>\n",
       "      <td>0</td>\n",
       "      <td>0</td>\n",
       "      <td>0</td>\n",
       "      <td>0</td>\n",
       "      <td>0</td>\n",
       "      <td>0.0</td>\n",
       "      <td>0.0</td>\n",
       "      <td>0.0</td>\n",
       "      <td>0.0</td>\n",
       "      <td>0.0</td>\n",
       "      <td>1.0</td>\n",
       "      <td>0.0</td>\n",
       "      <td>0.0</td>\n",
       "      <td>1.0</td>\n",
       "      <td>0.0</td>\n",
       "      <td>0.0</td>\n",
       "      <td>0.0</td>\n",
       "      <td>0.0</td>\n",
       "      <td>0.0</td>\n",
       "    </tr>\n",
       "  </tbody>\n",
       "</table>\n",
       "</div>"
      ],
      "text/plain": [
       "         patid  yob  pracid  female index_date  isCase  \\\n",
       "10969  5169017   13      17       1 2011-04-18    True   \n",
       "16968  5734483   22     483       0 2007-07-11   False   \n",
       "\n",
       "       final dementia medcode   data_end data_start  matchid  \\\n",
       "10969                  1350.0 2012-07-12 1998-08-17     2519   \n",
       "16968                     NaN 2011-11-03 1996-07-03    62956   \n",
       "\n",
       "       age_at_index_date  insomnia  stroke  heart_failure  mental_illness  \\\n",
       "10969                 98         0       0              0               0   \n",
       "16968                 85         0       0              0               0   \n",
       "\n",
       "       sleep_apnoea  chronic_pulmonary_disease  hypnotics_100_pdds  \\\n",
       "10969             0                          0                 0.0   \n",
       "16968             0                          0                 0.0   \n",
       "\n",
       "       age_at_index_date:65-69  age_at_index_date:70-74  \\\n",
       "10969                      0.0                      0.0   \n",
       "16968                      0.0                      0.0   \n",
       "\n",
       "       age_at_index_date:75-79  age_at_index_date:80-84  \\\n",
       "10969                      0.0                      0.0   \n",
       "16968                      0.0                      0.0   \n",
       "\n",
       "       age_at_index_date:85-89  age_at_index_date:90-99  \\\n",
       "10969                      0.0                      0.0   \n",
       "16968                      1.0                      0.0   \n",
       "\n",
       "       age_at_index_date:above_99  hypnotic_pdds:00000  \\\n",
       "10969                         0.0                  1.0   \n",
       "16968                         0.0                  1.0   \n",
       "\n",
       "       hypnotic_pdds:00001_10  hypnotic_pdds:00011_100  \\\n",
       "10969                     0.0                      0.0   \n",
       "16968                     0.0                      0.0   \n",
       "\n",
       "       hypnotic_pdds:00101_1000  hypnotic_pdds:01001_10000  \\\n",
       "10969                       0.0                        0.0   \n",
       "16968                       0.0                        0.0   \n",
       "\n",
       "       hypnotic_pdds:10000_and_above  \n",
       "10969                            0.0  \n",
       "16968                            0.0  "
      ]
     },
     "metadata": {},
     "output_type": "display_data"
    },
    {
     "name": "stdout",
     "output_type": "stream",
     "text": [
      "8_to_3 ...\n",
      "pt_features :\n"
     ]
    },
    {
     "data": {
      "text/html": [
       "<div>\n",
       "<style scoped>\n",
       "    .dataframe tbody tr th:only-of-type {\n",
       "        vertical-align: middle;\n",
       "    }\n",
       "\n",
       "    .dataframe tbody tr th {\n",
       "        vertical-align: top;\n",
       "    }\n",
       "\n",
       "    .dataframe thead th {\n",
       "        text-align: right;\n",
       "    }\n",
       "</style>\n",
       "<table border=\"1\" class=\"dataframe\">\n",
       "  <thead>\n",
       "    <tr style=\"text-align: right;\">\n",
       "      <th></th>\n",
       "      <th>patid</th>\n",
       "      <th>yob</th>\n",
       "      <th>pracid</th>\n",
       "      <th>female</th>\n",
       "      <th>index_date</th>\n",
       "      <th>isCase</th>\n",
       "      <th>final dementia medcode</th>\n",
       "      <th>data_end</th>\n",
       "      <th>data_start</th>\n",
       "      <th>matchid</th>\n",
       "      <th>age_at_index_date</th>\n",
       "      <th>insomnia</th>\n",
       "      <th>stroke</th>\n",
       "      <th>heart_failure</th>\n",
       "      <th>mental_illness</th>\n",
       "      <th>sleep_apnoea</th>\n",
       "      <th>chronic_pulmonary_disease</th>\n",
       "      <th>hypnotics_100_pdds</th>\n",
       "      <th>age_at_index_date:65-69</th>\n",
       "      <th>age_at_index_date:70-74</th>\n",
       "      <th>age_at_index_date:75-79</th>\n",
       "      <th>age_at_index_date:80-84</th>\n",
       "      <th>age_at_index_date:85-89</th>\n",
       "      <th>age_at_index_date:90-99</th>\n",
       "      <th>age_at_index_date:above_99</th>\n",
       "      <th>hypnotic_pdds:00000</th>\n",
       "      <th>hypnotic_pdds:00001_10</th>\n",
       "      <th>hypnotic_pdds:00011_100</th>\n",
       "      <th>hypnotic_pdds:00101_1000</th>\n",
       "      <th>hypnotic_pdds:01001_10000</th>\n",
       "      <th>hypnotic_pdds:10000_and_above</th>\n",
       "    </tr>\n",
       "  </thead>\n",
       "  <tbody>\n",
       "    <tr>\n",
       "      <th>13466</th>\n",
       "      <td>14303416</td>\n",
       "      <td>20</td>\n",
       "      <td>416</td>\n",
       "      <td>1</td>\n",
       "      <td>2001-03-19</td>\n",
       "      <td>True</td>\n",
       "      <td>4693.0</td>\n",
       "      <td>2003-05-06</td>\n",
       "      <td>1991-01-31</td>\n",
       "      <td>61954</td>\n",
       "      <td>81</td>\n",
       "      <td>0</td>\n",
       "      <td>0</td>\n",
       "      <td>0</td>\n",
       "      <td>1</td>\n",
       "      <td>0</td>\n",
       "      <td>1</td>\n",
       "      <td>0.0</td>\n",
       "      <td>0.0</td>\n",
       "      <td>0.0</td>\n",
       "      <td>0.0</td>\n",
       "      <td>1.0</td>\n",
       "      <td>0.0</td>\n",
       "      <td>0.0</td>\n",
       "      <td>0.0</td>\n",
       "      <td>1.0</td>\n",
       "      <td>0.0</td>\n",
       "      <td>0.0</td>\n",
       "      <td>0.0</td>\n",
       "      <td>0.0</td>\n",
       "      <td>0.0</td>\n",
       "    </tr>\n",
       "    <tr>\n",
       "      <th>33258</th>\n",
       "      <td>32948229</td>\n",
       "      <td>25</td>\n",
       "      <td>229</td>\n",
       "      <td>1</td>\n",
       "      <td>2006-09-14</td>\n",
       "      <td>False</td>\n",
       "      <td>NaN</td>\n",
       "      <td>2008-10-28</td>\n",
       "      <td>1993-01-31</td>\n",
       "      <td>16457</td>\n",
       "      <td>81</td>\n",
       "      <td>0</td>\n",
       "      <td>0</td>\n",
       "      <td>0</td>\n",
       "      <td>0</td>\n",
       "      <td>0</td>\n",
       "      <td>0</td>\n",
       "      <td>0.0</td>\n",
       "      <td>0.0</td>\n",
       "      <td>0.0</td>\n",
       "      <td>0.0</td>\n",
       "      <td>1.0</td>\n",
       "      <td>0.0</td>\n",
       "      <td>0.0</td>\n",
       "      <td>0.0</td>\n",
       "      <td>1.0</td>\n",
       "      <td>0.0</td>\n",
       "      <td>0.0</td>\n",
       "      <td>0.0</td>\n",
       "      <td>0.0</td>\n",
       "      <td>0.0</td>\n",
       "    </tr>\n",
       "  </tbody>\n",
       "</table>\n",
       "</div>"
      ],
      "text/plain": [
       "          patid  yob  pracid  female index_date  isCase  \\\n",
       "13466  14303416   20     416       1 2001-03-19    True   \n",
       "33258  32948229   25     229       1 2006-09-14   False   \n",
       "\n",
       "       final dementia medcode   data_end data_start  matchid  \\\n",
       "13466                  4693.0 2003-05-06 1991-01-31    61954   \n",
       "33258                     NaN 2008-10-28 1993-01-31    16457   \n",
       "\n",
       "       age_at_index_date  insomnia  stroke  heart_failure  mental_illness  \\\n",
       "13466                 81         0       0              0               1   \n",
       "33258                 81         0       0              0               0   \n",
       "\n",
       "       sleep_apnoea  chronic_pulmonary_disease  hypnotics_100_pdds  \\\n",
       "13466             0                          1                 0.0   \n",
       "33258             0                          0                 0.0   \n",
       "\n",
       "       age_at_index_date:65-69  age_at_index_date:70-74  \\\n",
       "13466                      0.0                      0.0   \n",
       "33258                      0.0                      0.0   \n",
       "\n",
       "       age_at_index_date:75-79  age_at_index_date:80-84  \\\n",
       "13466                      0.0                      1.0   \n",
       "33258                      0.0                      1.0   \n",
       "\n",
       "       age_at_index_date:85-89  age_at_index_date:90-99  \\\n",
       "13466                      0.0                      0.0   \n",
       "33258                      0.0                      0.0   \n",
       "\n",
       "       age_at_index_date:above_99  hypnotic_pdds:00000  \\\n",
       "13466                         0.0                  1.0   \n",
       "33258                         0.0                  1.0   \n",
       "\n",
       "       hypnotic_pdds:00001_10  hypnotic_pdds:00011_100  \\\n",
       "13466                     0.0                      0.0   \n",
       "33258                     0.0                      0.0   \n",
       "\n",
       "       hypnotic_pdds:00101_1000  hypnotic_pdds:01001_10000  \\\n",
       "13466                       0.0                        0.0   \n",
       "33258                       0.0                        0.0   \n",
       "\n",
       "       hypnotic_pdds:10000_and_above  \n",
       "13466                            0.0  \n",
       "33258                            0.0  "
      ]
     },
     "metadata": {},
     "output_type": "display_data"
    }
   ],
   "source": [
    "for window in sd.exposure_windows:\n",
    "    print(window['name'],'...')\n",
    "    if window == sd.exposure_windows[1]:\n",
    "        files = ['pt_features','pt_features_avoid_specific_dementia']\n",
    "    else:\n",
    "        files = ['pt_features']\n",
    "    for file in files:\n",
    "        print(file,':')  \n",
    "        pt_features = pd.read_csv('data/processed_data/' + file + '_' + window['name'] +'.csv',delimiter=',',parse_dates=['index_date','data_end','data_start'],infer_datetime_format=True)\n",
    "#         pt_features = get_multiple_condition_statuses(pt_features,medcoded_entries,prescriptions,window,codelists.all_codelists)\n",
    "#         pt_features = create_PDD_columns_for_each_pt(pt_features,window,[codelists.insomnia['medications']],prescriptions)\n",
    "#         pt_features = create_quantiles_and_booleans(pt_features)\n",
    "        display(pt_features.sample(2))    \n",
    "        pt_features.to_csv('data/processed_data/' + file + '_'+ window['name'] +'.csv',index=False)"
   ]
  },
  {
   "cell_type": "code",
   "execution_count": null,
   "metadata": {},
   "outputs": [],
   "source": []
  }
 ],
 "metadata": {
  "kernelspec": {
   "display_name": "toadkern",
   "language": "python",
   "name": "toadkern"
  },
  "language_info": {
   "codemirror_mode": {
    "name": "ipython",
    "version": 3
   },
   "file_extension": ".py",
   "mimetype": "text/x-python",
   "name": "python",
   "nbconvert_exporter": "python",
   "pygments_lexer": "ipython3",
   "version": "3.6.4"
  }
 },
 "nbformat": 4,
 "nbformat_minor": 2
}
