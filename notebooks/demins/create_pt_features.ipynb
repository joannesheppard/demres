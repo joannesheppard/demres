{
 "cells": [
  {
   "cell_type": "code",
   "execution_count": 1,
   "metadata": {
    "collapsed": false,
    "deletable": true,
    "editable": true
   },
   "outputs": [],
   "source": [
    "%load_ext autoreload\n",
    "%autoreload 2"
   ]
  },
  {
   "cell_type": "code",
   "execution_count": 2,
   "metadata": {
    "collapsed": false,
    "deletable": true,
    "editable": true
   },
   "outputs": [
    {
     "name": "stdout",
     "output_type": "stream",
     "text": [
      "/Users/zurfarosa/demres\n"
     ]
    }
   ],
   "source": [
    "cd ~/demres"
   ]
  },
  {
   "cell_type": "code",
   "execution_count": 3,
   "metadata": {
    "collapsed": false,
    "deletable": true,
    "editable": true
   },
   "outputs": [],
   "source": [
    "import os\n",
    "import sys\n",
    "\n",
    "module_path = os.path.abspath(os.path.join('..'))\n",
    "if module_path not in sys.path:\n",
    "    sys.path.append(module_path)\n",
    "\n",
    "import pandas as pd\n",
    "import numpy as np\n",
    "from datetime import date, timedelta\n",
    "\n",
    "import demres\n",
    "from demres.common.constants import entry_type\n",
    "from demres.common import codelists,druglists\n",
    "from demres.common.process_pt_features import *\n",
    "from demres.common.process_entries import *\n",
    "from demres.demins.constants import Study_Design as sd\n",
    "from demres.demins.statistical_functions import *\n",
    "from common.helper_functions import *"
   ]
  },
  {
   "cell_type": "code",
   "execution_count": 4,
   "metadata": {
    "collapsed": true,
    "deletable": true,
    "editable": true
   },
   "outputs": [],
   "source": [
    "pd.set_option('display.max_columns', None)"
   ]
  },
  {
   "cell_type": "markdown",
   "metadata": {
    "deletable": true,
    "editable": true
   },
   "source": [
    "## Process raw CSV files"
   ]
  },
  {
   "cell_type": "code",
   "execution_count": 5,
   "metadata": {
    "collapsed": false,
    "deletable": true,
    "editable": true
   },
   "outputs": [],
   "source": [
    "# create_pegmed()"
   ]
  },
  {
   "cell_type": "code",
   "execution_count": 6,
   "metadata": {
    "collapsed": false,
    "deletable": true,
    "editable": true
   },
   "outputs": [],
   "source": [
    "# create_pegprod()"
   ]
  },
  {
   "cell_type": "code",
   "execution_count": 7,
   "metadata": {
    "collapsed": false,
    "deletable": true,
    "editable": true
   },
   "outputs": [],
   "source": [
    "# create_prescriptions()"
   ]
  },
  {
   "cell_type": "code",
   "execution_count": 8,
   "metadata": {
    "collapsed": true,
    "deletable": true,
    "editable": true
   },
   "outputs": [],
   "source": [
    "# create_consultations()"
   ]
  },
  {
   "cell_type": "code",
   "execution_count": 9,
   "metadata": {
    "collapsed": true,
    "deletable": true,
    "editable": true
   },
   "outputs": [],
   "source": [
    "# create_clinicals()"
   ]
  },
  {
   "cell_type": "code",
   "execution_count": 10,
   "metadata": {
    "collapsed": false,
    "deletable": true,
    "editable": true
   },
   "outputs": [],
   "source": [
    "# create_tests()"
   ]
  },
  {
   "cell_type": "code",
   "execution_count": 11,
   "metadata": {
    "collapsed": true,
    "deletable": true,
    "editable": true
   },
   "outputs": [],
   "source": [
    "# create_referrals()"
   ]
  },
  {
   "cell_type": "code",
   "execution_count": 12,
   "metadata": {
    "collapsed": false,
    "deletable": true,
    "editable": true
   },
   "outputs": [],
   "source": [
    "# create_immunisations()"
   ]
  },
  {
   "cell_type": "code",
   "execution_count": 13,
   "metadata": {
    "collapsed": false,
    "deletable": true,
    "editable": true
   },
   "outputs": [],
   "source": [
    "# create_medcoded_entries()"
   ]
  },
  {
   "cell_type": "markdown",
   "metadata": {
    "deletable": true,
    "editable": true
   },
   "source": [
    "## Create basic pt_features dataframe\n",
    "*pt_features will contain all the variables (e.g. age, male gender, insomnia count) used in the logistic regression*"
   ]
  },
  {
   "cell_type": "code",
   "execution_count": 5,
   "metadata": {
    "collapsed": false,
    "deletable": true,
    "editable": true
   },
   "outputs": [],
   "source": [
    "# specify subtype of dementia we're interested in - 'vascular','alzheimers' or 'all_dementia'\n",
    "subtype = 'all_dementia' "
   ]
  },
  {
   "cell_type": "code",
   "execution_count": 6,
   "metadata": {
    "collapsed": false,
    "deletable": true,
    "editable": true
   },
   "outputs": [
    {
     "name": "stdout",
     "output_type": "stream",
     "text": [
      "Traceback (most recent call last):\n",
      "  File \"/Library/Frameworks/Python.framework/Versions/3.5/lib/python3.5/site-packages/IPython/core/interactiveshell.py\", line 2881, in run_code\n",
      "    exec(code_obj, self.user_global_ns, self.user_ns)\n",
      "  File \"<ipython-input-6-da187026a2d2>\", line 1, in <module>\n",
      "    all_entries = get_all_entries()\n",
      "  File \"/Users/zurfarosa/demres/common/process_entries.py\", line 145, in get_all_entries\n",
      "    prescriptions = prescriptions.loc[:,['patid','sysdate','eventdate','prodcode']]\n",
      "  File \"/Library/Frameworks/Python.framework/Versions/3.5/lib/python3.5/site-packages/pandas/core/indexing.py\", line 1310, in __getitem__\n",
      "    return self._getitem_tuple(key)\n",
      "  File \"/Library/Frameworks/Python.framework/Versions/3.5/lib/python3.5/site-packages/pandas/core/indexing.py\", line 816, in _getitem_tuple\n",
      "    retval = getattr(retval, self.name)._getitem_axis(key, axis=i)\n",
      "  File \"/Library/Frameworks/Python.framework/Versions/3.5/lib/python3.5/site-packages/pandas/core/indexing.py\", line 1472, in _getitem_axis\n",
      "    return self._getitem_iterable(key, axis=axis)\n",
      "  File \"/Library/Frameworks/Python.framework/Versions/3.5/lib/python3.5/site-packages/pandas/core/indexing.py\", line 1073, in _getitem_iterable\n",
      "    level=level)\n",
      "  File \"/Library/Frameworks/Python.framework/Versions/3.5/lib/python3.5/site-packages/pandas/core/frame.py\", line 2829, in reindex_axis\n",
      "    limit=limit, fill_value=fill_value)\n",
      "  File \"/Library/Frameworks/Python.framework/Versions/3.5/lib/python3.5/site-packages/pandas/core/generic.py\", line 2348, in reindex_axis\n",
      "    fill_value=fill_value, copy=copy)\n",
      "  File \"/Library/Frameworks/Python.framework/Versions/3.5/lib/python3.5/site-packages/pandas/core/generic.py\", line 2371, in _reindex_with_indexers\n",
      "    copy=copy)\n",
      "  File \"/Library/Frameworks/Python.framework/Versions/3.5/lib/python3.5/site-packages/pandas/core/internals.py\", line 3846, in reindex_indexer\n",
      "    fill_tuple=(fill_value,))\n",
      "  File \"/Library/Frameworks/Python.framework/Versions/3.5/lib/python3.5/site-packages/pandas/core/internals.py\", line 3926, in _slice_take_blocks_ax0\n",
      "    fill_tuple=None))\n",
      "  File \"/Library/Frameworks/Python.framework/Versions/3.5/lib/python3.5/site-packages/pandas/core/internals.py\", line 1018, in take_nd\n",
      "    allow_fill=False)\n",
      "  File \"/Library/Frameworks/Python.framework/Versions/3.5/lib/python3.5/site-packages/pandas/core/algorithms.py\", line 1105, in take_nd\n",
      "    func(arr, indexer, out, fill_value)\n",
      "KeyboardInterrupt\n",
      "\n",
      "During handling of the above exception, another exception occurred:\n",
      "\n",
      "Traceback (most recent call last):\n",
      "  File \"/Library/Frameworks/Python.framework/Versions/3.5/lib/python3.5/site-packages/IPython/core/interactiveshell.py\", line 1821, in showtraceback\n",
      "    stb = value._render_traceback_()\n",
      "AttributeError: 'KeyboardInterrupt' object has no attribute '_render_traceback_'\n",
      "\n",
      "During handling of the above exception, another exception occurred:\n",
      "\n",
      "Traceback (most recent call last):\n",
      "  File \"/Library/Frameworks/Python.framework/Versions/3.5/lib/python3.5/site-packages/IPython/core/ultratb.py\", line 1132, in get_records\n",
      "    return _fixed_getinnerframes(etb, number_of_lines_of_context, tb_offset)\n",
      "  File \"/Library/Frameworks/Python.framework/Versions/3.5/lib/python3.5/site-packages/IPython/core/ultratb.py\", line 313, in wrapped\n",
      "    return f(*args, **kwargs)\n",
      "  File \"/Library/Frameworks/Python.framework/Versions/3.5/lib/python3.5/site-packages/IPython/core/ultratb.py\", line 358, in _fixed_getinnerframes\n",
      "    records = fix_frame_records_filenames(inspect.getinnerframes(etb, context))\n",
      "  File \"/Library/Frameworks/Python.framework/Versions/3.5/lib/python3.5/inspect.py\", line 1452, in getinnerframes\n",
      "    frameinfo = (tb.tb_frame,) + getframeinfo(tb, context)\n",
      "  File \"/Library/Frameworks/Python.framework/Versions/3.5/lib/python3.5/inspect.py\", line 1409, in getframeinfo\n",
      "    filename = getsourcefile(frame) or getfile(frame)\n",
      "  File \"/Library/Frameworks/Python.framework/Versions/3.5/lib/python3.5/inspect.py\", line 671, in getsourcefile\n",
      "    if getattr(getmodule(object, filename), '__loader__', None) is not None:\n",
      "  File \"/Library/Frameworks/Python.framework/Versions/3.5/lib/python3.5/inspect.py\", line 717, in getmodule\n",
      "    os.path.realpath(f)] = module.__name__\n",
      "  File \"/Library/Frameworks/Python.framework/Versions/3.5/lib/python3.5/posixpath.py\", line 372, in realpath\n",
      "    path, ok = _joinrealpath(filename[:0], filename, {})\n",
      "  File \"/Library/Frameworks/Python.framework/Versions/3.5/lib/python3.5/posixpath.py\", line 406, in _joinrealpath\n",
      "    if not islink(newpath):\n",
      "  File \"/Library/Frameworks/Python.framework/Versions/3.5/lib/python3.5/posixpath.py\", line 161, in islink\n",
      "    st = os.lstat(path)\n",
      "KeyboardInterrupt\n"
     ]
    },
    {
     "ename": "KeyboardInterrupt",
     "evalue": "",
     "output_type": "error",
     "traceback": [
      "\u001b[0;31m---------------------------------------------------------------------------\u001b[0m"
     ]
    }
   ],
   "source": [
    "all_entries = get_all_entries()"
   ]
  },
  {
   "cell_type": "code",
   "execution_count": null,
   "metadata": {
    "collapsed": false,
    "deletable": true,
    "editable": true
   },
   "outputs": [],
   "source": [
    "pt_features = create_pt_features()"
   ]
  },
  {
   "cell_type": "code",
   "execution_count": null,
   "metadata": {
    "collapsed": false,
    "deletable": true,
    "editable": true
   },
   "outputs": [],
   "source": [
    "pt_features = get_index_date_and_caseness_and_add_final_dementia_subtype(all_entries,pt_features)"
   ]
  },
  {
   "cell_type": "code",
   "execution_count": null,
   "metadata": {
    "collapsed": false,
    "deletable": true,
    "editable": true
   },
   "outputs": [],
   "source": [
    "pt_features = only_include_specific_dementia_subtype(pt_features,subtype=subtype)"
   ]
  },
  {
   "cell_type": "code",
   "execution_count": null,
   "metadata": {
    "collapsed": false,
    "deletable": true,
    "editable": true
   },
   "outputs": [],
   "source": [
    "pt_features = add_data_start_and_end_dates(all_entries,pt_features)"
   ]
  },
  {
   "cell_type": "code",
   "execution_count": null,
   "metadata": {
    "collapsed": false,
    "deletable": true,
    "editable": true
   },
   "outputs": [],
   "source": [
    "len(pt_features[pt_features['isCase']==True]),len(pt_features[pt_features['isCase']==False])"
   ]
  },
  {
   "cell_type": "code",
   "execution_count": null,
   "metadata": {
    "collapsed": false,
    "deletable": true,
    "editable": true,
    "scrolled": true
   },
   "outputs": [],
   "source": [
    "pt_features.head(3)"
   ]
  },
  {
   "cell_type": "code",
   "execution_count": null,
   "metadata": {
    "collapsed": true,
    "deletable": true,
    "editable": true
   },
   "outputs": [],
   "source": [
    "pt_features.to_csv('data/pt_data/processed_data/pt_features_demins_'+subtype+'.csv',index=False)"
   ]
  },
  {
   "cell_type": "code",
   "execution_count": null,
   "metadata": {
    "collapsed": false,
    "deletable": true,
    "editable": true
   },
   "outputs": [],
   "source": [
    "for window in sd.exposure_windows:\n",
    "    print(window['name'],' being matched')    \n",
    "    pt_features = pd.read_csv('data/pt_data/processed_data/pt_features_demins_'+subtype+'.csv',delimiter=',',parse_dates=['index_date','data_end','data_start'],infer_datetime_format=True)\n",
    "    pt_features = match_cases_and_controls(pt_features,req_yrs_post_index=sd.req_yrs_post_index,start_year=abs(window['start_year']))\n",
    "    pt_features = delete_unmatched_cases_and_controls(pt_features)\n",
    "    pt_features.to_csv('data/pt_data/processed_data/pt_features_demins_'+subtype+'_'+ window['name'] +'.csv',index=False)"
   ]
  },
  {
   "cell_type": "markdown",
   "metadata": {
    "deletable": true,
    "editable": true
   },
   "source": [
    "## Add derived variables to pt_features \n",
    "*e.g. insomnia count, presence of diabetes, consultation count*"
   ]
  },
  {
   "cell_type": "code",
   "execution_count": 7,
   "metadata": {
    "collapsed": true,
    "deletable": true,
    "editable": true
   },
   "outputs": [],
   "source": [
    "medcoded_entries = pd.read_hdf('hdf/medcoded_entries.hdf')"
   ]
  },
  {
   "cell_type": "code",
   "execution_count": null,
   "metadata": {
    "collapsed": true,
    "deletable": true,
    "editable": true
   },
   "outputs": [],
   "source": [
    "prescriptions = pd.read_hdf('hdf/prescriptions.hdf')"
   ]
  },
  {
   "cell_type": "code",
   "execution_count": 19,
   "metadata": {
    "collapsed": false,
    "deletable": true,
    "editable": true
   },
   "outputs": [
    {
     "name": "stdout",
     "output_type": "stream",
     "text": [
      "12_to_7 ...\n",
      "Index(['patid', 'yob', 'pracid', 'female', 'index_date', 'isCase',\n",
      "       'final dementia medcode', 'data_start', 'data_end', 'matchid',\n",
      "       'age_at_index_date', 'non_insomnia_GP_consultations', 'insomnia_count',\n",
      "       'insomnia_count:1-5', 'insomnia_count:>5', 'mood_stabilisers_100_pdds',\n",
      "       'benzo_and_z_drugs_100_pdds', 'benzo_and_z_drugs:1-1095_pdds',\n",
      "       'benzo_and_z_drugs:>1096_pdds', 'benzo_and_z_drugs',\n",
      "       'other_sedatives_100_pdds', 'fgas_100_pdds', 'sgas_100_pdds',\n",
      "       'sga_depots_100_pdds', 'fga_depots_100_pdds',\n",
      "       'antidepressants_100_pdds', 'insomnia', 'stroke',\n",
      "       'CHD_heart_failure_and_peripheral_vascular_disease', 'hypertension',\n",
      "       'diabetes', 'mental_illness_non_smi', 'mental_illness_smi',\n",
      "       'sleep_apnoea', 'chronic_pulmonary_disease', 'epilepsy'],\n",
      "      dtype='object')\n",
      "10_to_5 ...\n",
      "Index(['patid', 'yob', 'pracid', 'female', 'index_date', 'isCase',\n",
      "       'final dementia medcode', 'data_start', 'data_end', 'matchid',\n",
      "       'age_at_index_date', 'non_insomnia_GP_consultations', 'insomnia_count',\n",
      "       'insomnia_count:1-5', 'insomnia_count:>5',\n",
      "       'benzo_and_z_drugs:1-1095_pdds', 'benzo_and_z_drugs:>1096_pdds',\n",
      "       'benzo_and_z_drugs', 'mood_stabilisers_100_pdds',\n",
      "       'benzo_and_z_drugs_100_pdds', 'other_sedatives_100_pdds',\n",
      "       'fgas_100_pdds', 'sgas_100_pdds', 'sga_depots_100_pdds',\n",
      "       'fga_depots_100_pdds', 'antidepressants_100_pdds', 'insomnia', 'stroke',\n",
      "       'CHD_heart_failure_and_peripheral_vascular_disease', 'hypertension',\n",
      "       'diabetes', 'mental_illness_non_smi', 'mental_illness_smi',\n",
      "       'sleep_apnoea', 'chronic_pulmonary_disease', 'epilepsy'],\n",
      "      dtype='object')\n",
      "8_to_3 ...\n",
      "Index(['patid', 'yob', 'pracid', 'female', 'index_date', 'isCase',\n",
      "       'final dementia medcode', 'data_start', 'data_end', 'matchid',\n",
      "       'age_at_index_date', 'non_insomnia_GP_consultations', 'insomnia_count',\n",
      "       'insomnia_count:1-5', 'insomnia_count:>5', 'mood_stabilisers_100_pdds',\n",
      "       'benzo_and_z_drugs_100_pdds', 'benzo_and_z_drugs:1-1095_pdds',\n",
      "       'benzo_and_z_drugs:>1096_pdds', 'benzo_and_z_drugs',\n",
      "       'other_sedatives_100_pdds', 'fgas_100_pdds', 'sgas_100_pdds',\n",
      "       'sga_depots_100_pdds', 'fga_depots_100_pdds',\n",
      "       'antidepressants_100_pdds', 'insomnia', 'stroke',\n",
      "       'CHD_heart_failure_and_peripheral_vascular_disease', 'hypertension',\n",
      "       'diabetes', 'mental_illness_non_smi', 'mental_illness_smi',\n",
      "       'sleep_apnoea', 'chronic_pulmonary_disease', 'epilepsy'],\n",
      "      dtype='object')\n"
     ]
    }
   ],
   "source": [
    "# Add condition status (e.g. insomnia count, presence of diabetes, presence of stroke)\n",
    "for window in sd.exposure_windows:\n",
    "    print(window['name'],'...')\n",
    "    pt_features = pd.read_csv('data/pt_data/processed_data/pt_features_demins_'+subtype+'_'+ window['name'] +'.csv',delimiter=',',parse_dates=['index_date','data_end','data_start'],infer_datetime_format=True)\n",
    "#     pt_features = get_multiple_condition_statuses(pt_features,medcoded_entries,window,codelists.all_codelists)\n",
    "#     pt_features = create_pdds(pt_features,prescriptions,window,druglists.all_druglists)\n",
    "#     pt_features = get_consultation_count(pt_features,all_entries,window)\n",
    "    pt_features.to_csv('data/pt_data/processed_data/pt_features_demins_'+subtype+'_'+ window['name'] +'.csv',index=False)\n"
   ]
  },
  {
   "cell_type": "code",
   "execution_count": null,
   "metadata": {
    "collapsed": true
   },
   "outputs": [],
   "source": []
  }
 ],
 "metadata": {
  "kernelspec": {
   "display_name": "demres_kernel",
   "language": "python",
   "name": "demres_kernel"
  },
  "language_info": {
   "codemirror_mode": {
    "name": "ipython",
    "version": 3
   },
   "file_extension": ".py",
   "mimetype": "text/x-python",
   "name": "python",
   "nbconvert_exporter": "python",
   "pygments_lexer": "ipython3",
   "version": "3.5.0"
  }
 },
 "nbformat": 4,
 "nbformat_minor": 2
}
