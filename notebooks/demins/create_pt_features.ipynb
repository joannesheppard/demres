{
 "cells": [
  {
   "cell_type": "code",
   "execution_count": 1,
   "metadata": {
    "collapsed": false,
    "deletable": true,
    "editable": true
   },
   "outputs": [],
   "source": [
    "%load_ext autoreload\n",
    "%autoreload 2"
   ]
  },
  {
   "cell_type": "code",
   "execution_count": 2,
   "metadata": {
    "collapsed": false,
    "deletable": true,
    "editable": true
   },
   "outputs": [
    {
     "name": "stdout",
     "output_type": "stream",
     "text": [
      "/Users/zurfarosa/demres\n"
     ]
    }
   ],
   "source": [
    "cd ~/demres"
   ]
  },
  {
   "cell_type": "code",
   "execution_count": 3,
   "metadata": {
    "collapsed": false,
    "deletable": true,
    "editable": true
   },
   "outputs": [],
   "source": [
    "import os\n",
    "import sys\n",
    "\n",
    "module_path = os.path.abspath(os.path.join('..'))\n",
    "if module_path not in sys.path:\n",
    "    sys.path.append(module_path)\n",
    "\n",
    "import pandas as pd\n",
    "import numpy as np\n",
    "from datetime import date, timedelta\n",
    "\n",
    "import demres\n",
    "from demres.common.constants import entry_type\n",
    "from demres.common import codelists,druglists\n",
    "from demres.common.process_pt_features import *\n",
    "from demres.common.process_entries import *\n",
    "from demres.demins.constants import Study_Design as sd\n",
    "from demres.demins.statistical_functions import *\n",
    "from common.helper_functions import *"
   ]
  },
  {
   "cell_type": "code",
   "execution_count": 4,
   "metadata": {
    "collapsed": true,
    "deletable": true,
    "editable": true
   },
   "outputs": [],
   "source": [
    "pd.set_option('display.max_columns', None)"
   ]
  },
  {
   "cell_type": "markdown",
   "metadata": {
    "deletable": true,
    "editable": true
   },
   "source": [
    "## Process raw CSV files"
   ]
  },
  {
   "cell_type": "code",
   "execution_count": 5,
   "metadata": {
    "collapsed": false,
    "deletable": true,
    "editable": true
   },
   "outputs": [],
   "source": [
    "# create_pegmed()"
   ]
  },
  {
   "cell_type": "code",
   "execution_count": 6,
   "metadata": {
    "collapsed": false,
    "deletable": true,
    "editable": true
   },
   "outputs": [],
   "source": [
    "# create_pegprod()"
   ]
  },
  {
   "cell_type": "code",
   "execution_count": 7,
   "metadata": {
    "collapsed": false,
    "deletable": true,
    "editable": true
   },
   "outputs": [],
   "source": [
    "# create_prescriptions()"
   ]
  },
  {
   "cell_type": "code",
   "execution_count": 8,
   "metadata": {
    "collapsed": true,
    "deletable": true,
    "editable": true
   },
   "outputs": [],
   "source": [
    "# create_consultations()"
   ]
  },
  {
   "cell_type": "code",
   "execution_count": 9,
   "metadata": {
    "collapsed": true,
    "deletable": true,
    "editable": true
   },
   "outputs": [],
   "source": [
    "# create_clinicals()"
   ]
  },
  {
   "cell_type": "code",
   "execution_count": 10,
   "metadata": {
    "collapsed": false,
    "deletable": true,
    "editable": true
   },
   "outputs": [],
   "source": [
    "# create_tests()"
   ]
  },
  {
   "cell_type": "code",
   "execution_count": 11,
   "metadata": {
    "collapsed": true,
    "deletable": true,
    "editable": true
   },
   "outputs": [],
   "source": [
    "# create_referrals()"
   ]
  },
  {
   "cell_type": "code",
   "execution_count": 12,
   "metadata": {
    "collapsed": false,
    "deletable": true,
    "editable": true
   },
   "outputs": [],
   "source": [
    "# create_immunisations()"
   ]
  },
  {
   "cell_type": "code",
   "execution_count": 13,
   "metadata": {
    "collapsed": false,
    "deletable": true,
    "editable": true
   },
   "outputs": [],
   "source": [
    "# create_medcoded_entries()"
   ]
  },
  {
   "cell_type": "markdown",
   "metadata": {
    "deletable": true,
    "editable": true
   },
   "source": [
    "## Create basic pt_features dataframe\n",
    "*pt_features will contain all the variables (e.g. age, gender, insomnia count) used in the logistic regression*"
   ]
  },
  {
   "cell_type": "code",
   "execution_count": 14,
   "metadata": {
    "collapsed": false,
    "deletable": true,
    "editable": true
   },
   "outputs": [],
   "source": [
    "# specify subtype of dementia we're interested in - 'vascular','alzheimers' or 'all_dementia'\n",
    "subtype = 'all_dementia' "
   ]
  },
  {
   "cell_type": "code",
   "execution_count": 15,
   "metadata": {
    "collapsed": false,
    "deletable": true,
    "editable": true
   },
   "outputs": [],
   "source": [
    "all_entries = get_all_entries()"
   ]
  },
  {
   "cell_type": "code",
   "execution_count": 16,
   "metadata": {
    "collapsed": false,
    "deletable": true,
    "editable": true
   },
   "outputs": [],
   "source": [
    "pt_features = create_pt_features()"
   ]
  },
  {
   "cell_type": "code",
   "execution_count": 17,
   "metadata": {
    "collapsed": false,
    "deletable": true,
    "editable": true
   },
   "outputs": [],
   "source": [
    "pt_features = get_index_date_and_caseness_and_add_final_dementia_subtype(all_entries,pt_features)"
   ]
  },
  {
   "cell_type": "code",
   "execution_count": 18,
   "metadata": {
    "collapsed": false,
    "deletable": true,
    "editable": true
   },
   "outputs": [],
   "source": [
    "pt_features = only_include_specific_dementia_subtype(pt_features,subtype=subtype)"
   ]
  },
  {
   "cell_type": "code",
   "execution_count": 19,
   "metadata": {
    "collapsed": false,
    "deletable": true,
    "editable": true
   },
   "outputs": [
    {
     "name": "stderr",
     "output_type": "stream",
     "text": [
      "/Library/Frameworks/Python.framework/Versions/3.5/lib/python3.5/site-packages/pandas/core/indexing.py:297: SettingWithCopyWarning: \n",
      "A value is trying to be set on a copy of a slice from a DataFrame.\n",
      "Try using .loc[row_indexer,col_indexer] = value instead\n",
      "\n",
      "See the caveats in the documentation: http://pandas.pydata.org/pandas-docs/stable/indexing.html#indexing-view-versus-copy\n",
      "  self.obj[key] = _infer_fill_value(value)\n",
      "/Library/Frameworks/Python.framework/Versions/3.5/lib/python3.5/site-packages/pandas/core/indexing.py:477: SettingWithCopyWarning: \n",
      "A value is trying to be set on a copy of a slice from a DataFrame.\n",
      "Try using .loc[row_indexer,col_indexer] = value instead\n",
      "\n",
      "See the caveats in the documentation: http://pandas.pydata.org/pandas-docs/stable/indexing.html#indexing-view-versus-copy\n",
      "  self.obj[item] = s\n"
     ]
    }
   ],
   "source": [
    "pt_features = add_data_start_and_end_dates(all_entries,pt_features)"
   ]
  },
  {
   "cell_type": "code",
   "execution_count": 20,
   "metadata": {
    "collapsed": false,
    "deletable": true,
    "editable": true
   },
   "outputs": [
    {
     "data": {
      "text/plain": [
       "(47480, 47020)"
      ]
     },
     "execution_count": 20,
     "metadata": {},
     "output_type": "execute_result"
    }
   ],
   "source": [
    "len(pt_features[pt_features['isCase']==True]),len(pt_features[pt_features['isCase']==False])"
   ]
  },
  {
   "cell_type": "code",
   "execution_count": 21,
   "metadata": {
    "collapsed": false,
    "deletable": true,
    "editable": true,
    "scrolled": true
   },
   "outputs": [
    {
     "data": {
      "text/html": [
       "<div>\n",
       "<table border=\"1\" class=\"dataframe\">\n",
       "  <thead>\n",
       "    <tr style=\"text-align: right;\">\n",
       "      <th></th>\n",
       "      <th>patid</th>\n",
       "      <th>gender</th>\n",
       "      <th>yob</th>\n",
       "      <th>pracid</th>\n",
       "      <th>index_date</th>\n",
       "      <th>isCase</th>\n",
       "      <th>final dementia medcode</th>\n",
       "      <th>data_start</th>\n",
       "      <th>data_end</th>\n",
       "    </tr>\n",
       "  </thead>\n",
       "  <tbody>\n",
       "    <tr>\n",
       "      <th>0</th>\n",
       "      <td>57001</td>\n",
       "      <td>0</td>\n",
       "      <td>32</td>\n",
       "      <td>001</td>\n",
       "      <td>2006-12-05</td>\n",
       "      <td>True</td>\n",
       "      <td>19477.0</td>\n",
       "      <td>1997-03-07</td>\n",
       "      <td>2013-05-17</td>\n",
       "    </tr>\n",
       "    <tr>\n",
       "      <th>1</th>\n",
       "      <td>60001</td>\n",
       "      <td>0</td>\n",
       "      <td>24</td>\n",
       "      <td>001</td>\n",
       "      <td>NaT</td>\n",
       "      <td>False</td>\n",
       "      <td>NaN</td>\n",
       "      <td>1997-03-07</td>\n",
       "      <td>2013-05-20</td>\n",
       "    </tr>\n",
       "    <tr>\n",
       "      <th>2</th>\n",
       "      <td>149001</td>\n",
       "      <td>1</td>\n",
       "      <td>19</td>\n",
       "      <td>001</td>\n",
       "      <td>2004-07-02</td>\n",
       "      <td>True</td>\n",
       "      <td>7572.0</td>\n",
       "      <td>1997-03-07</td>\n",
       "      <td>2004-11-17</td>\n",
       "    </tr>\n",
       "  </tbody>\n",
       "</table>\n",
       "</div>"
      ],
      "text/plain": [
       "    patid  gender yob pracid index_date isCase  final dementia medcode  \\\n",
       "0   57001       0  32    001 2006-12-05   True                 19477.0   \n",
       "1   60001       0  24    001        NaT  False                     NaN   \n",
       "2  149001       1  19    001 2004-07-02   True                  7572.0   \n",
       "\n",
       "  data_start   data_end  \n",
       "0 1997-03-07 2013-05-17  \n",
       "1 1997-03-07 2013-05-20  \n",
       "2 1997-03-07 2004-11-17  "
      ]
     },
     "execution_count": 21,
     "metadata": {},
     "output_type": "execute_result"
    }
   ],
   "source": [
    "pt_features.head(3)"
   ]
  },
  {
   "cell_type": "code",
   "execution_count": 22,
   "metadata": {
    "collapsed": true,
    "deletable": true,
    "editable": true
   },
   "outputs": [],
   "source": [
    "pt_features.to_csv('data/pt_data/processed_data/pt_features_demins_'+subtype+'.csv',index=False)"
   ]
  },
  {
   "cell_type": "code",
   "execution_count": 23,
   "metadata": {
    "collapsed": false,
    "deletable": true,
    "editable": true
   },
   "outputs": [
    {
     "name": "stdout",
     "output_type": "stream",
     "text": [
      "12_to_7  being matched\n"
     ]
    },
    {
     "name": "stderr",
     "output_type": "stream",
     "text": [
      "/Library/Frameworks/Python.framework/Versions/3.5/lib/python3.5/site-packages/pandas/core/indexing.py:297: SettingWithCopyWarning: \n",
      "A value is trying to be set on a copy of a slice from a DataFrame.\n",
      "Try using .loc[row_indexer,col_indexer] = value instead\n",
      "\n",
      "See the caveats in the documentation: http://pandas.pydata.org/pandas-docs/stable/indexing.html#indexing-view-versus-copy\n",
      "  self.obj[key] = _infer_fill_value(value)\n",
      "/Library/Frameworks/Python.framework/Versions/3.5/lib/python3.5/site-packages/pandas/core/indexing.py:477: SettingWithCopyWarning: \n",
      "A value is trying to be set on a copy of a slice from a DataFrame.\n",
      "Try using .loc[row_indexer,col_indexer] = value instead\n",
      "\n",
      "See the caveats in the documentation: http://pandas.pydata.org/pandas-docs/stable/indexing.html#indexing-view-versus-copy\n",
      "  self.obj[item] = s\n",
      "/Users/zurfarosa/demres/common/process_pt_features.py:166: SettingWithCopyWarning: \n",
      "A value is trying to be set on a copy of a slice from a DataFrame.\n",
      "Try using .loc[row_indexer,col_indexer] = value instead\n",
      "\n",
      "See the caveats in the documentation: http://pandas.pydata.org/pandas-docs/stable/indexing.html#indexing-view-versus-copy\n",
      "  pt_features['matchid']=pt_features['matchid'].astype(int)\n"
     ]
    },
    {
     "name": "stdout",
     "output_type": "stream",
     "text": [
      "10_to_5  being matched\n",
      "8_to_3  being matched\n"
     ]
    }
   ],
   "source": [
    "for window in sd.exposure_windows:\n",
    "    print(window['name'],' being matched')    \n",
    "    pt_features = pd.read_csv('data/pt_data/processed_data/pt_features_demins_'+subtype+'.csv',delimiter=',',parse_dates=['index_date','data_end','data_start'],infer_datetime_format=True)\n",
    "    pt_features = match_cases_and_controls(pt_features,req_yrs_post_index=sd.req_yrs_post_index,start_year=abs(window['start_year']))\n",
    "    pt_features = delete_unmatched_cases_and_controls(pt_features)\n",
    "    pt_features.to_csv('data/pt_data/processed_data/pt_features_demins_'+subtype+'_'+ window['name'] +'.csv',index=False)"
   ]
  },
  {
   "cell_type": "markdown",
   "metadata": {
    "deletable": true,
    "editable": true
   },
   "source": [
    "## Add derived variables to pt_features \n",
    "*e.g. insomnia count, presence of diabetes, consultation count*"
   ]
  },
  {
   "cell_type": "code",
   "execution_count": 24,
   "metadata": {
    "collapsed": true,
    "deletable": true,
    "editable": true
   },
   "outputs": [],
   "source": [
    "medcoded_entries = pd.read_hdf('hdf/medcoded_entries.hdf')"
   ]
  },
  {
   "cell_type": "code",
   "execution_count": null,
   "metadata": {
    "collapsed": true,
    "deletable": true,
    "editable": true
   },
   "outputs": [],
   "source": [
    "prescriptions = pd.read_hdf('hdf/prescriptions.hdf')"
   ]
  },
  {
   "cell_type": "code",
   "execution_count": null,
   "metadata": {
    "collapsed": false,
    "deletable": true,
    "editable": true
   },
   "outputs": [
    {
     "name": "stdout",
     "output_type": "stream",
     "text": [
      "12_to_7 ...\n",
      "insomnia\n",
      "\tTotal insomnia events in all medcoded_events dataframe: 60413\n",
      "\tinsomnia events in this window for our patients: 1376\n",
      "stroke\n",
      "\tTotal stroke events in all medcoded_events dataframe: 48913\n",
      "\tstroke events in this window for our patients: 535\n",
      "intellectual_disability\n",
      "\tTotal intellectual_disability events in all medcoded_events dataframe: 163\n",
      "\tintellectual_disability events in this window for our patients: 3\n",
      "CHD_heart_failure_and_peripheral_vascular_disease\n",
      "\tTotal CHD_heart_failure_and_peripheral_vascular_disease events in all medcoded_events dataframe: 147199\n",
      "\tCHD_heart_failure_and_peripheral_vascular_disease events in this window for our patients: 1585\n",
      "hypertension\n",
      "\tTotal hypertension events in all medcoded_events dataframe: 185315\n",
      "\thypertension events in this window for our patients: 2767\n",
      "diabetes\n",
      "\tTotal diabetes events in all medcoded_events dataframe: 57533\n",
      "\tdiabetes events in this window for our patients: 736\n",
      "clin_sig_alcohol_use\n",
      "\tTotal clin_sig_alcohol_use events in all medcoded_events dataframe: 2282\n",
      "\tclin_sig_alcohol_use events in this window for our patients: 38\n",
      "mental_illness_non_smi\n",
      "\tTotal mental_illness_non_smi events in all medcoded_events dataframe: 140614\n",
      "\tmental_illness_non_smi events in this window for our patients: 1909\n",
      "mental_illness_smi\n",
      "\tTotal mental_illness_smi events in all medcoded_events dataframe: 21907\n",
      "\tmental_illness_smi events in this window for our patients: 259\n",
      "sleep_apnoea\n",
      "\tTotal sleep_apnoea events in all medcoded_events dataframe: 548\n",
      "\tsleep_apnoea events in this window for our patients: 8\n",
      "current_smoker\n",
      "\tTotal current_smoker events in all medcoded_events dataframe: 86908\n",
      "\tcurrent_smoker events in this window for our patients: 1260\n",
      "chronic_pulmonary_disease\n",
      "\tTotal chronic_pulmonary_disease events in all medcoded_events dataframe: 77094\n",
      "\tchronic_pulmonary_disease events in this window for our patients: 733\n",
      "CKD\n",
      "\tTotal CKD events in all medcoded_events dataframe: 5401\n",
      "\tCKD events in this window for our patients: 18\n",
      "10_to_5 ...\n",
      "insomnia\n",
      "\tTotal insomnia events in all medcoded_events dataframe: 60413\n",
      "\tinsomnia events in this window for our patients: 2379\n",
      "stroke\n",
      "\tTotal stroke events in all medcoded_events dataframe: 48913\n",
      "\tstroke events in this window for our patients: 957\n",
      "intellectual_disability\n",
      "\tTotal intellectual_disability events in all medcoded_events dataframe: 163\n",
      "\tintellectual_disability events in this window for our patients: 11\n",
      "CHD_heart_failure_and_peripheral_vascular_disease\n",
      "\tTotal CHD_heart_failure_and_peripheral_vascular_disease events in all medcoded_events dataframe: 147199\n",
      "\tCHD_heart_failure_and_peripheral_vascular_disease events in this window for our patients: 2905\n",
      "hypertension\n",
      "\tTotal hypertension events in all medcoded_events dataframe: 185315\n",
      "\thypertension events in this window for our patients: 4690\n",
      "diabetes\n",
      "\tTotal diabetes events in all medcoded_events dataframe: 57533\n",
      "\tdiabetes events in this window for our patients: 1339\n",
      "clin_sig_alcohol_use\n",
      "\tTotal clin_sig_alcohol_use events in all medcoded_events dataframe: 2282\n",
      "\tclin_sig_alcohol_use events in this window for our patients: 64\n",
      "mental_illness_non_smi\n",
      "\tTotal mental_illness_non_smi events in all medcoded_events dataframe: 140614\n",
      "\tmental_illness_non_smi events in this window for our patients: 3208\n",
      "mental_illness_smi\n",
      "\tTotal mental_illness_smi events in all medcoded_events dataframe: 21907\n",
      "\tmental_illness_smi events in this window for our patients: 480\n",
      "sleep_apnoea\n",
      "\tTotal sleep_apnoea events in all medcoded_events dataframe: 548\n",
      "\tsleep_apnoea events in this window for our patients: 21\n",
      "current_smoker\n",
      "\tTotal current_smoker events in all medcoded_events dataframe: 86908\n",
      "\tcurrent_smoker events in this window for our patients: 2413\n",
      "chronic_pulmonary_disease\n",
      "\tTotal chronic_pulmonary_disease events in all medcoded_events dataframe: 77094\n",
      "\tchronic_pulmonary_disease events in this window for our patients: 1242\n",
      "CKD\n",
      "\tTotal CKD events in all medcoded_events dataframe: 5401\n",
      "\tCKD events in this window for our patients: 34\n",
      "8_to_3 ...\n",
      "insomnia\n",
      "\tTotal insomnia events in all medcoded_events dataframe: 60413\n",
      "\tinsomnia events in this window for our patients: 2709\n",
      "stroke\n",
      "\tTotal stroke events in all medcoded_events dataframe: 48913\n",
      "\tstroke events in this window for our patients: 1077\n",
      "intellectual_disability\n",
      "\tTotal intellectual_disability events in all medcoded_events dataframe: 163\n",
      "\tintellectual_disability events in this window for our patients: 20\n",
      "CHD_heart_failure_and_peripheral_vascular_disease\n",
      "\tTotal CHD_heart_failure_and_peripheral_vascular_disease events in all medcoded_events dataframe: 147199\n",
      "\tCHD_heart_failure_and_peripheral_vascular_disease events in this window for our patients: 3535\n",
      "hypertension\n",
      "\tTotal hypertension events in all medcoded_events dataframe: 185315\n",
      "\thypertension events in this window for our patients: 5396\n",
      "diabetes\n",
      "\tTotal diabetes events in all medcoded_events dataframe: 57533\n",
      "\tdiabetes events in this window for our patients: 1610\n",
      "clin_sig_alcohol_use\n",
      "\tTotal clin_sig_alcohol_use events in all medcoded_events dataframe: 2282\n",
      "\tclin_sig_alcohol_use events in this window for our patients: 78\n",
      "mental_illness_non_smi\n",
      "\tTotal mental_illness_non_smi events in all medcoded_events dataframe: 140614\n",
      "\tmental_illness_non_smi events in this window for our patients: 3687\n",
      "mental_illness_smi\n",
      "\tTotal mental_illness_smi events in all medcoded_events dataframe: 21907\n",
      "\tmental_illness_smi events in this window for our patients: 596\n",
      "sleep_apnoea\n",
      "\tTotal sleep_apnoea events in all medcoded_events dataframe: 548\n",
      "\tsleep_apnoea events in this window for our patients: 22\n",
      "current_smoker\n",
      "\tTotal current_smoker events in all medcoded_events dataframe: 86908\n",
      "\tcurrent_smoker events in this window for our patients: 3065\n",
      "chronic_pulmonary_disease\n",
      "\tTotal chronic_pulmonary_disease events in all medcoded_events dataframe: 77094\n",
      "\tchronic_pulmonary_disease events in this window for our patients: 1544\n",
      "CKD\n",
      "\tTotal CKD events in all medcoded_events dataframe: 5401\n",
      "\tCKD events in this window for our patients: 40\n"
     ]
    }
   ],
   "source": [
    "# Add condition status (e.g. insomnia count, presence of diabetes, presence of stroke)\n",
    "for window in sd.exposure_windows:\n",
    "    print(window['name'],'...')\n",
    "    pt_features = pd.read_csv('data/pt_data/processed_data/pt_features_demins_'+subtype+'_'+ window['name'] +'.csv',delimiter=',',parse_dates=['index_date','data_end','data_start'],infer_datetime_format=True)\n",
    "    pt_features = get_multiple_condition_statuses(pt_features,medcoded_entries,window,codelists.codelist_list_of_lists)\n",
    "    pt_features = create_pdds(pt_features,prescriptions,window,druglists.psychotropic_list_of_lists)\n",
    "#     pt_features = divide_benzo_pdd_into_quantiles(pt_features,column_to_change='benzo_and_z_drugs_100_pdds')\n",
    "    pt_features = get_consultation_count(pt_features,all_entries,window)\n",
    "    pt_features.to_csv('data/pt_data/processed_data/pt_features_demins_'+subtype+'_'+ window['name'] +'.csv',index=False)"
   ]
  },
  {
   "cell_type": "code",
   "execution_count": null,
   "metadata": {
    "collapsed": true
   },
   "outputs": [],
   "source": []
  }
 ],
 "metadata": {
  "kernelspec": {
   "display_name": "demres_kernel",
   "language": "python",
   "name": "demres_kernel"
  },
  "language_info": {
   "codemirror_mode": {
    "name": "ipython",
    "version": 3
   },
   "file_extension": ".py",
   "mimetype": "text/x-python",
   "name": "python",
   "nbconvert_exporter": "python",
   "pygments_lexer": "ipython3",
   "version": "3.5.0"
  }
 },
 "nbformat": 4,
 "nbformat_minor": 2
}
