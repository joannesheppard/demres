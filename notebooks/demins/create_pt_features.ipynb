{
 "cells": [
  {
   "cell_type": "code",
   "execution_count": 74,
   "metadata": {
    "collapsed": false,
    "deletable": true,
    "editable": true
   },
   "outputs": [
    {
     "name": "stdout",
     "output_type": "stream",
     "text": [
      "The autoreload extension is already loaded. To reload it, use:\n",
      "  %reload_ext autoreload\n"
     ]
    }
   ],
   "source": [
    "%load_ext autoreload\n",
    "%autoreload 2"
   ]
  },
  {
   "cell_type": "code",
   "execution_count": 75,
   "metadata": {
    "collapsed": false,
    "deletable": true,
    "editable": true
   },
   "outputs": [
    {
     "name": "stdout",
     "output_type": "stream",
     "text": [
      "/Users/zurfarosa/demres\n"
     ]
    }
   ],
   "source": [
    "cd ~/demres"
   ]
  },
  {
   "cell_type": "code",
   "execution_count": 76,
   "metadata": {
    "collapsed": false,
    "deletable": true,
    "editable": true
   },
   "outputs": [],
   "source": [
    "import os\n",
    "import sys\n",
    "\n",
    "module_path = os.path.abspath(os.path.join('..'))\n",
    "if module_path not in sys.path:\n",
    "    sys.path.append(module_path)\n",
    "\n",
    "import pandas as pd\n",
    "import numpy as np\n",
    "from datetime import date, timedelta\n",
    "\n",
    "import demres\n",
    "from demres.common.constants import entry_type\n",
    "from demres.common import codelists,druglists\n",
    "from demres.common.process_pt_features import *\n",
    "from demres.common.process_entries import *\n",
    "from demres.demins.constants import Study_Design as sd\n",
    "from demres.demins.statistical_functions import *\n",
    "from common.helper_functions import *"
   ]
  },
  {
   "cell_type": "code",
   "execution_count": 77,
   "metadata": {
    "collapsed": true,
    "deletable": true,
    "editable": true
   },
   "outputs": [],
   "source": [
    "pd.set_option('display.max_columns', None)"
   ]
  },
  {
   "cell_type": "markdown",
   "metadata": {
    "deletable": true,
    "editable": true
   },
   "source": [
    "## Process raw CSV files"
   ]
  },
  {
   "cell_type": "code",
   "execution_count": 5,
   "metadata": {
    "collapsed": false,
    "deletable": true,
    "editable": true
   },
   "outputs": [],
   "source": [
    "# create_pegmed()"
   ]
  },
  {
   "cell_type": "code",
   "execution_count": 6,
   "metadata": {
    "collapsed": false,
    "deletable": true,
    "editable": true
   },
   "outputs": [],
   "source": [
    "# create_pegprod()"
   ]
  },
  {
   "cell_type": "code",
   "execution_count": 7,
   "metadata": {
    "collapsed": false,
    "deletable": true,
    "editable": true
   },
   "outputs": [],
   "source": [
    "# create_prescriptions()"
   ]
  },
  {
   "cell_type": "code",
   "execution_count": 8,
   "metadata": {
    "collapsed": true,
    "deletable": true,
    "editable": true
   },
   "outputs": [],
   "source": [
    "# create_consultations()"
   ]
  },
  {
   "cell_type": "code",
   "execution_count": 9,
   "metadata": {
    "collapsed": true,
    "deletable": true,
    "editable": true
   },
   "outputs": [],
   "source": [
    "# create_clinicals()"
   ]
  },
  {
   "cell_type": "code",
   "execution_count": 10,
   "metadata": {
    "collapsed": false,
    "deletable": true,
    "editable": true
   },
   "outputs": [],
   "source": [
    "# create_tests()"
   ]
  },
  {
   "cell_type": "code",
   "execution_count": 11,
   "metadata": {
    "collapsed": true,
    "deletable": true,
    "editable": true
   },
   "outputs": [],
   "source": [
    "# create_referrals()"
   ]
  },
  {
   "cell_type": "code",
   "execution_count": 12,
   "metadata": {
    "collapsed": false,
    "deletable": true,
    "editable": true
   },
   "outputs": [],
   "source": [
    "# create_immunisations()"
   ]
  },
  {
   "cell_type": "code",
   "execution_count": 13,
   "metadata": {
    "collapsed": false,
    "deletable": true,
    "editable": true
   },
   "outputs": [],
   "source": [
    "# create_medcoded_entries()"
   ]
  },
  {
   "cell_type": "markdown",
   "metadata": {
    "deletable": true,
    "editable": true
   },
   "source": [
    "## Create basic pt_features dataframe\n",
    "*pt_features will contain all the variables (e.g. age, male gender, insomnia count) used in the logistic regression*"
   ]
  },
  {
   "cell_type": "code",
   "execution_count": 8,
   "metadata": {
    "collapsed": false,
    "deletable": true,
    "editable": true
   },
   "outputs": [],
   "source": [
    "# specify subtype of dementia we're interested in - 'vascular','alzheimers' or 'all_dementia'\n",
    "subtype = 'all_dementia' "
   ]
  },
  {
   "cell_type": "code",
   "execution_count": 9,
   "metadata": {
    "collapsed": false,
    "deletable": true,
    "editable": true
   },
   "outputs": [
    {
     "ename": "KeyboardInterrupt",
     "evalue": "",
     "output_type": "error",
     "traceback": [
      "\u001b[0;31m---------------------------------------------------------------------------\u001b[0m",
      "\u001b[0;31mKeyboardInterrupt\u001b[0m                         Traceback (most recent call last)",
      "\u001b[0;32m<ipython-input-9-da187026a2d2>\u001b[0m in \u001b[0;36m<module>\u001b[0;34m()\u001b[0m\n\u001b[0;32m----> 1\u001b[0;31m \u001b[0mall_entries\u001b[0m \u001b[0;34m=\u001b[0m \u001b[0mget_all_entries\u001b[0m\u001b[0;34m(\u001b[0m\u001b[0;34m)\u001b[0m\u001b[0;34m\u001b[0m\u001b[0m\n\u001b[0m",
      "\u001b[0;32m/Users/zurfarosa/demres/common/process_entries.py\u001b[0m in \u001b[0;36mget_all_entries\u001b[0;34m()\u001b[0m\n\u001b[1;32m    139\u001b[0m \u001b[0;34m\u001b[0m\u001b[0m\n\u001b[1;32m    140\u001b[0m \u001b[0;32mdef\u001b[0m \u001b[0mget_all_entries\u001b[0m\u001b[0;34m(\u001b[0m\u001b[0;34m)\u001b[0m\u001b[0;34m:\u001b[0m\u001b[0;34m\u001b[0m\u001b[0m\n\u001b[0;32m--> 141\u001b[0;31m     \u001b[0mmedcoded_entries\u001b[0m \u001b[0;34m=\u001b[0m \u001b[0mpd\u001b[0m\u001b[0;34m.\u001b[0m\u001b[0mread_hdf\u001b[0m\u001b[0;34m(\u001b[0m\u001b[0;34m'hdf/medcoded_entries.hdf'\u001b[0m\u001b[0;34m)\u001b[0m\u001b[0;34m\u001b[0m\u001b[0m\n\u001b[0m\u001b[1;32m    142\u001b[0m     \u001b[0mmedcoded_entries\u001b[0m\u001b[0;34m[\u001b[0m\u001b[0;34m'prodcode'\u001b[0m\u001b[0;34m]\u001b[0m\u001b[0;34m=\u001b[0m\u001b[0mnp\u001b[0m\u001b[0;34m.\u001b[0m\u001b[0mnan\u001b[0m\u001b[0;34m\u001b[0m\u001b[0m\n\u001b[1;32m    143\u001b[0m \u001b[0;34m\u001b[0m\u001b[0m\n",
      "\u001b[0;32m/Library/Frameworks/Python.framework/Versions/3.5/lib/python3.5/site-packages/pandas/io/pytables.py\u001b[0m in \u001b[0;36mread_hdf\u001b[0;34m(path_or_buf, key, **kwargs)\u001b[0m\n\u001b[1;32m    358\u001b[0m                                      'contains multiple datasets.')\n\u001b[1;32m    359\u001b[0m             \u001b[0mkey\u001b[0m \u001b[0;34m=\u001b[0m \u001b[0mcandidate_only_group\u001b[0m\u001b[0;34m.\u001b[0m\u001b[0m_v_pathname\u001b[0m\u001b[0;34m\u001b[0m\u001b[0m\n\u001b[0;32m--> 360\u001b[0;31m         \u001b[0;32mreturn\u001b[0m \u001b[0mstore\u001b[0m\u001b[0;34m.\u001b[0m\u001b[0mselect\u001b[0m\u001b[0;34m(\u001b[0m\u001b[0mkey\u001b[0m\u001b[0;34m,\u001b[0m \u001b[0mauto_close\u001b[0m\u001b[0;34m=\u001b[0m\u001b[0mauto_close\u001b[0m\u001b[0;34m,\u001b[0m \u001b[0;34m**\u001b[0m\u001b[0mkwargs\u001b[0m\u001b[0;34m)\u001b[0m\u001b[0;34m\u001b[0m\u001b[0m\n\u001b[0m\u001b[1;32m    361\u001b[0m     \u001b[0;32mexcept\u001b[0m\u001b[0;34m:\u001b[0m\u001b[0;34m\u001b[0m\u001b[0m\n\u001b[1;32m    362\u001b[0m         \u001b[0;31m# if there is an error, close the store\u001b[0m\u001b[0;34m\u001b[0m\u001b[0;34m\u001b[0m\u001b[0m\n",
      "\u001b[0;32m/Library/Frameworks/Python.framework/Versions/3.5/lib/python3.5/site-packages/pandas/io/pytables.py\u001b[0m in \u001b[0;36mselect\u001b[0;34m(self, key, where, start, stop, columns, iterator, chunksize, auto_close, **kwargs)\u001b[0m\n\u001b[1;32m    722\u001b[0m                            chunksize=chunksize, auto_close=auto_close)\n\u001b[1;32m    723\u001b[0m \u001b[0;34m\u001b[0m\u001b[0m\n\u001b[0;32m--> 724\u001b[0;31m         \u001b[0;32mreturn\u001b[0m \u001b[0mit\u001b[0m\u001b[0;34m.\u001b[0m\u001b[0mget_result\u001b[0m\u001b[0;34m(\u001b[0m\u001b[0;34m)\u001b[0m\u001b[0;34m\u001b[0m\u001b[0m\n\u001b[0m\u001b[1;32m    725\u001b[0m \u001b[0;34m\u001b[0m\u001b[0m\n\u001b[1;32m    726\u001b[0m     def select_as_coordinates(\n",
      "\u001b[0;32m/Library/Frameworks/Python.framework/Versions/3.5/lib/python3.5/site-packages/pandas/io/pytables.py\u001b[0m in \u001b[0;36mget_result\u001b[0;34m(self, coordinates)\u001b[0m\n\u001b[1;32m   1421\u001b[0m \u001b[0;34m\u001b[0m\u001b[0m\n\u001b[1;32m   1422\u001b[0m         \u001b[0;31m# directly return the result\u001b[0m\u001b[0;34m\u001b[0m\u001b[0;34m\u001b[0m\u001b[0m\n\u001b[0;32m-> 1423\u001b[0;31m         \u001b[0mresults\u001b[0m \u001b[0;34m=\u001b[0m \u001b[0mself\u001b[0m\u001b[0;34m.\u001b[0m\u001b[0mfunc\u001b[0m\u001b[0;34m(\u001b[0m\u001b[0mself\u001b[0m\u001b[0;34m.\u001b[0m\u001b[0mstart\u001b[0m\u001b[0;34m,\u001b[0m \u001b[0mself\u001b[0m\u001b[0;34m.\u001b[0m\u001b[0mstop\u001b[0m\u001b[0;34m,\u001b[0m \u001b[0mwhere\u001b[0m\u001b[0;34m)\u001b[0m\u001b[0;34m\u001b[0m\u001b[0m\n\u001b[0m\u001b[1;32m   1424\u001b[0m         \u001b[0mself\u001b[0m\u001b[0;34m.\u001b[0m\u001b[0mclose\u001b[0m\u001b[0;34m(\u001b[0m\u001b[0;34m)\u001b[0m\u001b[0;34m\u001b[0m\u001b[0m\n\u001b[1;32m   1425\u001b[0m         \u001b[0;32mreturn\u001b[0m \u001b[0mresults\u001b[0m\u001b[0;34m\u001b[0m\u001b[0m\n",
      "\u001b[0;32m/Library/Frameworks/Python.framework/Versions/3.5/lib/python3.5/site-packages/pandas/io/pytables.py\u001b[0m in \u001b[0;36mfunc\u001b[0;34m(_start, _stop, _where)\u001b[0m\n\u001b[1;32m    715\u001b[0m             return s.read(start=_start, stop=_stop,\n\u001b[1;32m    716\u001b[0m                           \u001b[0mwhere\u001b[0m\u001b[0;34m=\u001b[0m\u001b[0m_where\u001b[0m\u001b[0;34m,\u001b[0m\u001b[0;34m\u001b[0m\u001b[0m\n\u001b[0;32m--> 717\u001b[0;31m                           columns=columns, **kwargs)\n\u001b[0m\u001b[1;32m    718\u001b[0m \u001b[0;34m\u001b[0m\u001b[0m\n\u001b[1;32m    719\u001b[0m         \u001b[0;31m# create the iterator\u001b[0m\u001b[0;34m\u001b[0m\u001b[0;34m\u001b[0m\u001b[0m\n",
      "\u001b[0;32m/Library/Frameworks/Python.framework/Versions/3.5/lib/python3.5/site-packages/pandas/io/pytables.py\u001b[0m in \u001b[0;36mread\u001b[0;34m(self, start, stop, **kwargs)\u001b[0m\n\u001b[1;32m   2849\u001b[0m             \u001b[0mblk_items\u001b[0m \u001b[0;34m=\u001b[0m \u001b[0mself\u001b[0m\u001b[0;34m.\u001b[0m\u001b[0mread_index\u001b[0m\u001b[0;34m(\u001b[0m\u001b[0;34m'block%d_items'\u001b[0m \u001b[0;34m%\u001b[0m \u001b[0mi\u001b[0m\u001b[0;34m)\u001b[0m\u001b[0;34m\u001b[0m\u001b[0m\n\u001b[1;32m   2850\u001b[0m             values = self.read_array('block%d_values' % i,\n\u001b[0;32m-> 2851\u001b[0;31m                                      start=_start, stop=_stop)\n\u001b[0m\u001b[1;32m   2852\u001b[0m             blk = make_block(values,\n\u001b[1;32m   2853\u001b[0m                              placement=items.get_indexer(blk_items))\n",
      "\u001b[0;31mKeyboardInterrupt\u001b[0m: "
     ]
    }
   ],
   "source": [
    "all_entries = get_all_entries()"
   ]
  },
  {
   "cell_type": "code",
   "execution_count": null,
   "metadata": {
    "collapsed": false,
    "deletable": true,
    "editable": true
   },
   "outputs": [],
   "source": [
    "pt_features = create_pt_features()"
   ]
  },
  {
   "cell_type": "code",
   "execution_count": null,
   "metadata": {
    "collapsed": false,
    "deletable": true,
    "editable": true
   },
   "outputs": [],
   "source": [
    "pt_features = get_index_date_and_caseness_and_add_final_dementia_subtype(all_entries,pt_features)"
   ]
  },
  {
   "cell_type": "code",
   "execution_count": null,
   "metadata": {
    "collapsed": false,
    "deletable": true,
    "editable": true
   },
   "outputs": [],
   "source": [
    "pt_features = only_include_specific_dementia_subtype(pt_features,subtype=subtype)"
   ]
  },
  {
   "cell_type": "code",
   "execution_count": null,
   "metadata": {
    "collapsed": false,
    "deletable": true,
    "editable": true
   },
   "outputs": [],
   "source": [
    "pt_features = add_data_start_and_end_dates(all_entries,pt_features)"
   ]
  },
  {
   "cell_type": "code",
   "execution_count": null,
   "metadata": {
    "collapsed": false,
    "deletable": true,
    "editable": true
   },
   "outputs": [],
   "source": [
    "len(pt_features[pt_features['isCase']==True]),len(pt_features[pt_features['isCase']==False])"
   ]
  },
  {
   "cell_type": "code",
   "execution_count": null,
   "metadata": {
    "collapsed": false,
    "deletable": true,
    "editable": true,
    "scrolled": true
   },
   "outputs": [],
   "source": [
    "pt_features.head(3)"
   ]
  },
  {
   "cell_type": "code",
   "execution_count": null,
   "metadata": {
    "collapsed": true,
    "deletable": true,
    "editable": true
   },
   "outputs": [],
   "source": [
    "pt_features.to_csv('data/pt_data/processed_data/pt_features_demins_'+subtype+'.csv',index=False)"
   ]
  },
  {
   "cell_type": "code",
   "execution_count": null,
   "metadata": {
    "collapsed": false,
    "deletable": true,
    "editable": true
   },
   "outputs": [],
   "source": [
    "for window in sd.exposure_windows:\n",
    "    print(window['name'],' being matched')    \n",
    "    pt_features = pd.read_csv('data/pt_data/processed_data/pt_features_demins_'+subtype+'.csv',delimiter=',',parse_dates=['index_date','data_end','data_start'],infer_datetime_format=True)\n",
    "    pt_features = match_cases_and_controls(pt_features,req_yrs_post_index=sd.req_yrs_post_index,start_year=abs(window['start_year']))\n",
    "    pt_features = delete_unmatched_cases_and_controls(pt_features)\n",
    "    pt_features.to_csv('data/pt_data/processed_data/pt_features_demins_'+subtype+'_'+ window['name'] +'.csv',index=False)"
   ]
  },
  {
   "cell_type": "markdown",
   "metadata": {
    "deletable": true,
    "editable": true
   },
   "source": [
    "## Add derived variables to pt_features \n",
    "*e.g. insomnia count, presence of diabetes, consultation count*"
   ]
  },
  {
   "cell_type": "code",
   "execution_count": 10,
   "metadata": {
    "collapsed": true,
    "deletable": true,
    "editable": true
   },
   "outputs": [],
   "source": [
    "medcoded_entries = pd.read_hdf('hdf/medcoded_entries.hdf')"
   ]
  },
  {
   "cell_type": "code",
   "execution_count": 36,
   "metadata": {
    "collapsed": true,
    "deletable": true,
    "editable": true
   },
   "outputs": [],
   "source": [
    "prescriptions = pd.read_hdf('hdf/prescriptions.hdf')"
   ]
  },
  {
   "cell_type": "code",
   "execution_count": 99,
   "metadata": {
    "collapsed": false,
    "deletable": true,
    "editable": true
   },
   "outputs": [
    {
     "name": "stdout",
     "output_type": "stream",
     "text": [
      "12_to_7 ...\n",
      "FLUPENTIXOL DECANOATE\n",
      "pdd:  8.49416992353\n",
      "unit:  {'mg'}\n",
      "FLUPHENAZINE DECANOATE\n",
      "pdd:  25.0\n",
      "unit:  {'mg'}\n",
      "HALOPERIDOL DECANOATE\n",
      "temp_prescs not > 0\n",
      "ZUCLOPENTHIXOL DECANOATE\n",
      "pdd:  42.3272664306\n",
      "unit:  {'mg'}\n",
      "pipotiazine palmitate\n",
      "temp_prescs not > 0\n",
      "ARIPIPRAZOLE\n",
      "temp_prescs not > 0\n",
      "OLANZAPINE EMBONATE\n",
      "temp_prescs not > 0\n",
      "PALIPERIDONE\n",
      "temp_prescs not > 0\n",
      "RISPERIDONE\n",
      "temp_prescs not > 0\n",
      "Olanzapine embonate monohydrate\n",
      "temp_prescs not > 0\n",
      "AMITRIPTYLINE WITH PERPHENAZINE\n",
      "temp_prescs not > 0\n",
      "BENPERIDOL\n",
      "temp_prescs not > 0\n",
      "CHLORPROMAZINE HYDROCHLORIDE\n",
      "pdd:  22.3312133826\n",
      "unit:  {'mg'}\n",
      "DROPERIDOL\n",
      "pdd:  10.0\n",
      "unit:  {'mg'}\n",
      "FLUPENTIXOL\n",
      "temp_prescs not > 0\n",
      "HALOPERIDOL\n",
      "pdd:  5.78503881603\n",
      "unit:  {'mg'}\n",
      "LEVOMEPROMAZINE\n",
      "temp_prescs not > 0\n",
      "methotrimeprazine\n",
      "temp_prescs not > 0\n",
      "PERICYAZINE\n",
      "pdd:  2.5\n",
      "unit:  {'mg'}\n",
      "PERPHENAZINE\n",
      "pdd:  2.55843227006\n",
      "unit:  {'mg'}\n",
      "PIMOZIDE\n",
      "pdd:  4.0\n",
      "unit:  {'mg'}\n",
      "PROCHLORPERAZINE\n",
      "temp_prescs not > 0\n",
      "PROMAZINE HYDROCHLORIDE\n",
      "pdd:  35.0789166017\n",
      "unit:  {'mg'}\n",
      "Thioridazine\n",
      "pdd:  5.0\n",
      "unit:  {'mg'}\n",
      "SULPIRIDE\n",
      "pdd:  397.76614137\n",
      "unit:  {'mg'}\n",
      "TRIFLUOPERAZINE\n",
      "temp_prescs not > 0\n",
      "ZUCLOPENTHIXOL\n",
      "temp_prescs not > 0\n",
      "ZUCLOPENTHIXOL ACETATE\n",
      "temp_prescs not > 0\n",
      "AMISULPRIDE\n",
      "pdd:  38.8888888889\n",
      "unit:  {'mg'}\n",
      "ARIPIPRAZOLE\n",
      "temp_prescs not > 0\n",
      "ASENAPINE\n",
      "temp_prescs not > 0\n",
      "CLOZAPINE\n",
      "temp_prescs not > 0\n",
      "LURASIDONE HYDROCHLORIDE\n",
      "temp_prescs not > 0\n",
      "OLANZAPINE\n",
      "pdd:  7.1460737405\n",
      "unit:  {'mg'}\n",
      "PALIPERIDONE\n",
      "temp_prescs not > 0\n",
      "QUETIAPINE\n",
      "temp_prescs not > 0\n",
      "RISPERIDONE\n",
      "pdd:  1.89491513997\n",
      "unit:  {'mg'}\n",
      "zotepine\n",
      "temp_prescs not > 0\n",
      "Prochlorperazine maleate\n",
      "pdd:  10.917700141\n",
      "unit:  {'mg'}\n",
      "Prochlorperazine mesilate\n",
      "pdd:  5.95911678454\n",
      "unit:  {'mg'}\n",
      "Zuclopenthixol dihydrochloride\n",
      "pdd:  13.2965094551\n",
      "unit:  {'mg'}\n",
      "fluphenazine hydrochloride\n",
      "pdd:  1.0\n",
      "unit:  {'mg'}\n",
      "loxapine\n",
      "temp_prescs not > 0\n",
      "oxypertine\n",
      "pdd:  35.9731543624\n",
      "unit:  {'mg'}\n",
      "pericyazine\n",
      "pdd:  2.5\n",
      "unit:  {'mg'}\n",
      "10_to_5 ...\n",
      "FLUPENTIXOL DECANOATE\n",
      "pdd:  8.5454291736\n",
      "unit:  {'mg'}\n",
      "FLUPHENAZINE DECANOATE\n",
      "pdd:  25.0\n",
      "unit:  {'mg'}\n",
      "HALOPERIDOL DECANOATE\n",
      "temp_prescs not > 0\n",
      "ZUCLOPENTHIXOL DECANOATE\n",
      "pdd:  43.9931917682\n",
      "unit:  {'mg'}\n",
      "pipotiazine palmitate\n",
      "temp_prescs not > 0\n",
      "ARIPIPRAZOLE\n",
      "temp_prescs not > 0\n",
      "OLANZAPINE EMBONATE\n",
      "temp_prescs not > 0\n",
      "PALIPERIDONE\n",
      "temp_prescs not > 0\n",
      "RISPERIDONE\n",
      "temp_prescs not > 0\n",
      "Olanzapine embonate monohydrate\n",
      "temp_prescs not > 0\n",
      "AMITRIPTYLINE WITH PERPHENAZINE\n",
      "temp_prescs not > 0\n",
      "BENPERIDOL\n",
      "temp_prescs not > 0\n",
      "CHLORPROMAZINE HYDROCHLORIDE\n",
      "pdd:  22.05801784\n",
      "unit:  {'mg'}\n",
      "DROPERIDOL\n",
      "temp_prescs not > 0\n",
      "FLUPENTIXOL\n",
      "temp_prescs not > 0\n",
      "HALOPERIDOL\n",
      "pdd:  5.69899603253\n",
      "unit:  {'mg'}\n",
      "LEVOMEPROMAZINE\n",
      "temp_prescs not > 0\n",
      "methotrimeprazine\n",
      "temp_prescs not > 0\n",
      "PERICYAZINE\n",
      "temp_prescs not > 0\n",
      "PERPHENAZINE\n",
      "pdd:  2.43704006541\n",
      "unit:  {'mg'}\n",
      "PIMOZIDE\n",
      "pdd:  4.0\n",
      "unit:  {'mg'}\n",
      "PROCHLORPERAZINE\n",
      "temp_prescs not > 0\n",
      "PROMAZINE HYDROCHLORIDE\n",
      "pdd:  35.0730994152\n",
      "unit:  {'mg'}\n",
      "Thioridazine\n",
      "pdd:  5.0\n",
      "unit:  {'mg'}\n",
      "SULPIRIDE\n",
      "pdd:  408.744338089\n",
      "unit:  {'mg'}\n",
      "TRIFLUOPERAZINE\n",
      "temp_prescs not > 0\n",
      "ZUCLOPENTHIXOL\n",
      "temp_prescs not > 0\n",
      "ZUCLOPENTHIXOL ACETATE\n",
      "temp_prescs not > 0\n",
      "AMISULPRIDE\n",
      "pdd:  38.8888888889\n",
      "unit:  {'mg'}\n",
      "ARIPIPRAZOLE\n",
      "temp_prescs not > 0\n",
      "ASENAPINE\n",
      "temp_prescs not > 0\n",
      "CLOZAPINE\n",
      "temp_prescs not > 0\n",
      "LURASIDONE HYDROCHLORIDE\n",
      "temp_prescs not > 0\n",
      "OLANZAPINE\n",
      "pdd:  7.21453539179\n",
      "unit:  {'mg'}\n",
      "PALIPERIDONE\n",
      "temp_prescs not > 0\n",
      "QUETIAPINE\n",
      "temp_prescs not > 0\n",
      "RISPERIDONE\n",
      "pdd:  1.94810553958\n",
      "unit:  {'mg'}\n",
      "zotepine\n",
      "temp_prescs not > 0\n",
      "Prochlorperazine maleate\n",
      "pdd:  10.9404636936\n",
      "unit:  {'mg'}\n",
      "Prochlorperazine mesilate\n",
      "pdd:  6.34530418036\n",
      "unit:  {'mg'}\n",
      "Zuclopenthixol dihydrochloride\n",
      "pdd:  14.0209762001\n",
      "unit:  {'mg'}\n",
      "fluphenazine hydrochloride\n",
      "pdd:  1.0\n",
      "unit:  {'mg'}\n",
      "loxapine\n",
      "temp_prescs not > 0\n",
      "oxypertine\n",
      "pdd:  40.0\n",
      "unit:  {'mg'}\n",
      "pericyazine\n",
      "temp_prescs not > 0\n",
      "8_to_3 ...\n",
      "FLUPENTIXOL DECANOATE\n",
      "pdd:  20.0\n",
      "unit:  {'mg'}\n",
      "FLUPHENAZINE DECANOATE\n",
      "pdd:  25.0\n",
      "unit:  {'mg'}\n",
      "HALOPERIDOL DECANOATE\n",
      "temp_prescs not > 0\n",
      "ZUCLOPENTHIXOL DECANOATE\n",
      "pdd:  53.0316509287\n",
      "unit:  {'mg'}\n",
      "pipotiazine palmitate\n",
      "temp_prescs not > 0\n",
      "ARIPIPRAZOLE\n",
      "temp_prescs not > 0\n",
      "OLANZAPINE EMBONATE\n",
      "temp_prescs not > 0\n",
      "PALIPERIDONE\n",
      "temp_prescs not > 0\n",
      "RISPERIDONE\n",
      "temp_prescs not > 0\n",
      "Olanzapine embonate monohydrate\n",
      "temp_prescs not > 0\n",
      "AMITRIPTYLINE WITH PERPHENAZINE\n",
      "temp_prescs not > 0\n",
      "BENPERIDOL\n",
      "temp_prescs not > 0\n",
      "CHLORPROMAZINE HYDROCHLORIDE\n",
      "pdd:  21.1593693971\n",
      "unit:  {'mg'}\n",
      "DROPERIDOL\n",
      "temp_prescs not > 0\n",
      "FLUPENTIXOL\n",
      "temp_prescs not > 0\n",
      "HALOPERIDOL\n",
      "pdd:  5.71136704092\n",
      "unit:  {'mg'}\n",
      "LEVOMEPROMAZINE\n",
      "temp_prescs not > 0\n",
      "methotrimeprazine\n",
      "temp_prescs not > 0\n",
      "PERICYAZINE\n",
      "temp_prescs not > 0\n",
      "PERPHENAZINE\n",
      "pdd:  2.49929577465\n",
      "unit:  {'mg'}\n",
      "PIMOZIDE\n",
      "pdd:  4.0\n",
      "unit:  {'mg'}\n",
      "PROCHLORPERAZINE\n",
      "temp_prescs not > 0\n",
      "PROMAZINE HYDROCHLORIDE\n",
      "pdd:  36.8289502282\n",
      "unit:  {'mg'}\n",
      "Thioridazine\n",
      "pdd:  5.0\n",
      "unit:  {'mg'}\n",
      "SULPIRIDE\n",
      "pdd:  373.319755601\n",
      "unit:  {'mg'}\n",
      "TRIFLUOPERAZINE\n",
      "temp_prescs not > 0\n",
      "ZUCLOPENTHIXOL\n",
      "temp_prescs not > 0\n",
      "ZUCLOPENTHIXOL ACETATE\n",
      "temp_prescs not > 0\n",
      "AMISULPRIDE\n",
      "pdd:  38.8888888889\n",
      "unit:  {'mg'}\n",
      "ARIPIPRAZOLE\n",
      "temp_prescs not > 0\n",
      "ASENAPINE\n",
      "temp_prescs not > 0\n",
      "CLOZAPINE\n",
      "temp_prescs not > 0\n",
      "LURASIDONE HYDROCHLORIDE\n",
      "temp_prescs not > 0\n",
      "OLANZAPINE\n",
      "pdd:  6.78472987872\n",
      "unit:  {'mg'}\n",
      "PALIPERIDONE\n",
      "temp_prescs not > 0\n",
      "QUETIAPINE\n",
      "temp_prescs not > 0\n",
      "RISPERIDONE\n",
      "pdd:  1.91523048286\n",
      "unit:  {'mg'}\n",
      "zotepine\n",
      "temp_prescs not > 0\n",
      "Prochlorperazine maleate\n",
      "pdd:  11.145304154\n",
      "unit:  {'mg'}\n",
      "Prochlorperazine mesilate\n",
      "pdd:  6.53712471606\n",
      "unit:  {'mg'}\n",
      "Zuclopenthixol dihydrochloride\n",
      "pdd:  10.8856117202\n",
      "unit:  {'mg'}\n",
      "fluphenazine hydrochloride\n",
      "pdd:  1.0\n",
      "unit:  {'mg'}\n",
      "loxapine\n",
      "temp_prescs not > 0\n",
      "oxypertine\n",
      "pdd:  40.0\n",
      "unit:  {'mg'}\n",
      "pericyazine\n",
      "temp_prescs not > 0\n"
     ]
    }
   ],
   "source": [
    "# Add condition status (e.g. insomnia count, presence of diabetes, presence of stroke)\n",
    "for window in sd.exposure_windows:\n",
    "    print(window['name'],'...')\n",
    "    pt_features = pd.read_csv('data/pt_data/processed_data/pt_features_demins_'+subtype+'_'+ window['name'] +'.csv',delimiter=',',parse_dates=['index_date','data_end','data_start'],infer_datetime_format=True)\n",
    "#     pt_features = get_multiple_condition_statuses(pt_features,medcoded_entries,window,[codelists.insomnia])\n",
    "    pt_features.drop(['sgas_pdds:0', 'sgas_pdds:1_10',\n",
    "       'sgas_pdds:11_100', 'sgas_pdds:101_1000', 'sgas_pdds:1001_10000',\n",
    "       'sgas_pdds:above_10000', 'fgas_pdds:0', 'fgas_pdds:1_10',\n",
    "       'fgas_pdds:11_100', 'fgas_pdds:101_1000', 'fgas_pdds:1001_10000',\n",
    "       'fgas_pdds:above_10000','fgas_pdds', 'sgas_pdds', 'sga_depots_pdds',\n",
    "       'fga_depots_pdds'],axis=1,inplace=True)\n",
    "    pt_features = create_pdds(pt_features,prescriptions,window,[druglists.depot_antipsychotics,druglists.antipsychotics])\n",
    "#     pt_features = get_consultation_count(pt_features,all_entries,window)\n",
    "    pt_features = create_quantiles_and_booleans(pt_features)\n",
    "    pt_features.to_csv('data/pt_data/processed_data/pt_features_demins_'+subtype+'_'+ window['name'] +'.csv',index=False)\n"
   ]
  },
  {
   "cell_type": "code",
   "execution_count": 96,
   "metadata": {
    "collapsed": false,
    "deletable": true,
    "editable": true
   },
   "outputs": [
    {
     "data": {
      "text/plain": [
       "Index(['patid', 'yob', 'pracid', 'female', 'index_date', 'isCase',\n",
       "       'final dementia medcode', 'data_start', 'data_end', 'matchid',\n",
       "       'age_at_index_date', 'non_insomnia_GP_consultations', 'stroke',\n",
       "       'CHD_heart_failure_and_peripheral_vascular_disease', 'hypertension',\n",
       "       'diabetes', 'mental_illness_non_smi', 'mental_illness_smi',\n",
       "       'sleep_apnoea', 'chronic_pulmonary_disease', 'epilepsy',\n",
       "       'age_at_index_date:65-69', 'age_at_index_date:70-74',\n",
       "       'age_at_index_date:75-79', 'age_at_index_date:80-84',\n",
       "       'age_at_index_date:85-89', 'age_at_index_date:90-99',\n",
       "       'age_at_index_date:above_99', 'non_insomnia_GP_consultations:1_10',\n",
       "       'non_insomnia_GP_consultations:11_100',\n",
       "       'non_insomnia_GP_consultations:101_1000',\n",
       "       'non_insomnia_GP_consultations:above_1000', 'antidepressants_pdds:0',\n",
       "       'antidepressants_pdds:1_10', 'antidepressants_pdds:11_100',\n",
       "       'antidepressants_pdds:101_1000', 'antidepressants_pdds:1001_10000',\n",
       "       'antidepressants_pdds:above_10000', 'sgas_pdds:0', 'sgas_pdds:1_10',\n",
       "       'sgas_pdds:11_100', 'sgas_pdds:101_1000', 'sgas_pdds:1001_10000',\n",
       "       'sgas_pdds:above_10000', 'fgas_pdds:0', 'fgas_pdds:1_10',\n",
       "       'fgas_pdds:11_100', 'fgas_pdds:101_1000', 'fgas_pdds:1001_10000',\n",
       "       'fgas_pdds:above_10000', 'other_sedatives_pdds:0',\n",
       "       'other_sedatives_pdds:1_10', 'other_sedatives_pdds:11_100',\n",
       "       'other_sedatives_pdds:101_1000', 'other_sedatives_pdds:1001_10000',\n",
       "       'other_sedatives_pdds:above_10000', 'benzo_and_z_drugs_pdds:0',\n",
       "       'benzo_and_z_drugs_pdds:1_10', 'benzo_and_z_drugs_pdds:11_100',\n",
       "       'benzo_and_z_drugs_pdds:101_1000', 'benzo_and_z_drugs_pdds:1001_10000',\n",
       "       'benzo_and_z_drugs_pdds:above_10000', 'mood_stabilisers_pdds:0',\n",
       "       'mood_stabilisers_pdds:1_10', 'mood_stabilisers_pdds:11_100',\n",
       "       'mood_stabilisers_pdds:101_1000', 'mood_stabilisers_pdds:1001_10000',\n",
       "       'mood_stabilisers_pdds:above_10000', 'benzo_and_z_drugs_any',\n",
       "       'mood_stabilisers_pdds', 'benzo_and_z_drugs_pdds',\n",
       "       'other_sedatives_pdds', 'fgas_pdds', 'sgas_pdds', 'sga_depots_pdds',\n",
       "       'fga_depots_pdds', 'antidepressants_pdds', 'insomnia', 'insomnia_any',\n",
       "       'insomnia_count:0', 'insomnia_count:1_10', 'insomnia_count:above_10',\n",
       "       'non_insomnia_GP_consultations:0'],\n",
       "      dtype='object')"
      ]
     },
     "execution_count": 96,
     "metadata": {},
     "output_type": "execute_result"
    }
   ],
   "source": [
    "pt_features.columns"
   ]
  },
  {
   "cell_type": "code",
   "execution_count": null,
   "metadata": {
    "collapsed": true,
    "scrolled": true
   },
   "outputs": [],
   "source": []
  }
 ],
 "metadata": {
  "kernelspec": {
   "display_name": "demres_kernel",
   "language": "python",
   "name": "demres_kernel"
  },
  "language_info": {
   "codemirror_mode": {
    "name": "ipython",
    "version": 3
   },
   "file_extension": ".py",
   "mimetype": "text/x-python",
   "name": "python",
   "nbconvert_exporter": "python",
   "pygments_lexer": "ipython3",
   "version": "3.5.0"
  }
 },
 "nbformat": 4,
 "nbformat_minor": 2
}
