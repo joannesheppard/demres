{
 "cells": [
  {
   "cell_type": "code",
   "execution_count": 1,
   "metadata": {
    "collapsed": true
   },
   "outputs": [],
   "source": [
    "%load_ext autoreload\n",
    "%autoreload 1"
   ]
  },
  {
   "cell_type": "code",
   "execution_count": 2,
   "metadata": {
    "collapsed": true
   },
   "outputs": [],
   "source": [
    "%aimport my_functions\n",
    "%aimport matching_functions\n",
    "%aimport csv_creator_functions\n",
    "%aimport codelists\n",
    "%aimport constants"
   ]
  },
  {
   "cell_type": "code",
   "execution_count": 3,
   "metadata": {
    "collapsed": true
   },
   "outputs": [],
   "source": [
    "import pandas as pd\n",
    "from my_functions import *\n",
    "from matching_functions import *\n",
    "from csv_creator_functions import *\n",
    "import codelists\n",
    "import constants\n",
    "import datetime"
   ]
  },
  {
   "cell_type": "code",
   "execution_count": 4,
   "metadata": {
    "collapsed": false
   },
   "outputs": [
    {
     "data": {
      "text/html": [
       "<style>.container { width:95% !important; }</style>"
      ],
      "text/plain": [
       "<IPython.core.display.HTML object>"
      ]
     },
     "metadata": {},
     "output_type": "display_data"
    }
   ],
   "source": [
    "from IPython.core.display import display, HTML\n",
    "display(HTML(\"<style>.container { width:95% !important; }</style>\"))"
   ]
  },
  {
   "cell_type": "code",
   "execution_count": 5,
   "metadata": {
    "collapsed": true
   },
   "outputs": [],
   "source": [
    "pt_features = pd.read_csv('data/pt_data/pt_features.csv',delimiter=',',parse_dates=['index_date'])"
   ]
  },
  {
   "cell_type": "code",
   "execution_count": 26,
   "metadata": {
    "collapsed": false
   },
   "outputs": [
    {
     "data": {
      "text/html": [
       "<div>\n",
       "<table border=\"1\" class=\"dataframe\">\n",
       "  <thead>\n",
       "    <tr style=\"text-align: right;\">\n",
       "      <th></th>\n",
       "      <th>patid</th>\n",
       "      <th>pracid</th>\n",
       "      <th>gender</th>\n",
       "      <th>birthyear</th>\n",
       "      <th>index_date</th>\n",
       "      <th>isCase</th>\n",
       "      <th>earliest_sysdate</th>\n",
       "      <th>latest_sysdate</th>\n",
       "      <th>days_pre_indexdate</th>\n",
       "      <th>days_post_indexdate</th>\n",
       "      <th>matchid</th>\n",
       "      <th>insomnia_event_count</th>\n",
       "      <th>zdrug prescription count</th>\n",
       "    </tr>\n",
       "  </thead>\n",
       "  <tbody>\n",
       "    <tr>\n",
       "      <th>0</th>\n",
       "      <td>14340043</td>\n",
       "      <td>43</td>\n",
       "      <td>1</td>\n",
       "      <td>1927</td>\n",
       "      <td>2010-04-20</td>\n",
       "      <td>True</td>\n",
       "      <td>1996-01-05</td>\n",
       "      <td>2013-04-22</td>\n",
       "      <td>5219.0</td>\n",
       "      <td>1098.0</td>\n",
       "      <td>9383.0</td>\n",
       "      <td>0</td>\n",
       "      <td>1.0</td>\n",
       "    </tr>\n",
       "    <tr>\n",
       "      <th>1</th>\n",
       "      <td>6415158</td>\n",
       "      <td>158</td>\n",
       "      <td>2</td>\n",
       "      <td>1934</td>\n",
       "      <td>2009-06-02</td>\n",
       "      <td>False</td>\n",
       "      <td>1997-10-22</td>\n",
       "      <td>2012-12-07</td>\n",
       "      <td>4241.0</td>\n",
       "      <td>1284.0</td>\n",
       "      <td>2214.0</td>\n",
       "      <td>0</td>\n",
       "      <td>1.0</td>\n",
       "    </tr>\n",
       "    <tr>\n",
       "      <th>2</th>\n",
       "      <td>7676314</td>\n",
       "      <td>314</td>\n",
       "      <td>2</td>\n",
       "      <td>1917</td>\n",
       "      <td>2010-05-19</td>\n",
       "      <td>False</td>\n",
       "      <td>1998-08-28</td>\n",
       "      <td>2013-01-11</td>\n",
       "      <td>4282.0</td>\n",
       "      <td>968.0</td>\n",
       "      <td>1558.0</td>\n",
       "      <td>2</td>\n",
       "      <td>2.0</td>\n",
       "    </tr>\n",
       "    <tr>\n",
       "      <th>3</th>\n",
       "      <td>495235</td>\n",
       "      <td>235</td>\n",
       "      <td>2</td>\n",
       "      <td>1931</td>\n",
       "      <td>2010-11-06</td>\n",
       "      <td>False</td>\n",
       "      <td>1997-08-13</td>\n",
       "      <td>2013-04-16</td>\n",
       "      <td>4833.0</td>\n",
       "      <td>892.0</td>\n",
       "      <td>1049.0</td>\n",
       "      <td>0</td>\n",
       "      <td>1.0</td>\n",
       "    </tr>\n",
       "    <tr>\n",
       "      <th>4</th>\n",
       "      <td>14931089</td>\n",
       "      <td>89</td>\n",
       "      <td>2</td>\n",
       "      <td>1928</td>\n",
       "      <td>2011-01-24</td>\n",
       "      <td>False</td>\n",
       "      <td>1997-07-25</td>\n",
       "      <td>2013-04-26</td>\n",
       "      <td>4931.0</td>\n",
       "      <td>823.0</td>\n",
       "      <td>1964.0</td>\n",
       "      <td>1</td>\n",
       "      <td>2.0</td>\n",
       "    </tr>\n",
       "  </tbody>\n",
       "</table>\n",
       "</div>"
      ],
      "text/plain": [
       "      patid  pracid  gender  birthyear index_date isCase earliest_sysdate  \\\n",
       "0  14340043      43       1       1927 2010-04-20   True       1996-01-05   \n",
       "1   6415158     158       2       1934 2009-06-02  False       1997-10-22   \n",
       "2   7676314     314       2       1917 2010-05-19  False       1998-08-28   \n",
       "3    495235     235       2       1931 2010-11-06  False       1997-08-13   \n",
       "4  14931089      89       2       1928 2011-01-24  False       1997-07-25   \n",
       "\n",
       "  latest_sysdate  days_pre_indexdate  days_post_indexdate  matchid  \\\n",
       "0     2013-04-22              5219.0               1098.0   9383.0   \n",
       "1     2012-12-07              4241.0               1284.0   2214.0   \n",
       "2     2013-01-11              4282.0                968.0   1558.0   \n",
       "3     2013-04-16              4833.0                892.0   1049.0   \n",
       "4     2013-04-26              4931.0                823.0   1964.0   \n",
       "\n",
       "   insomnia_event_count  zdrug prescription count  \n",
       "0                     0                       1.0  \n",
       "1                     0                       1.0  \n",
       "2                     2                       2.0  \n",
       "3                     0                       1.0  \n",
       "4                     1                       2.0  "
      ]
     },
     "execution_count": 26,
     "metadata": {},
     "output_type": "execute_result"
    }
   ],
   "source": [
    "pt_features.head(5)"
   ]
  },
  {
   "cell_type": "markdown",
   "metadata": {},
   "source": [
    "# Total cases"
   ]
  },
  {
   "cell_type": "code",
   "execution_count": 19,
   "metadata": {
    "collapsed": false
   },
   "outputs": [
    {
     "data": {
      "text/plain": [
       "12928"
      ]
     },
     "execution_count": 19,
     "metadata": {},
     "output_type": "execute_result"
    }
   ],
   "source": [
    "all_cases = len(pt_features)\n",
    "all_cases"
   ]
  },
  {
   "cell_type": "markdown",
   "metadata": {},
   "source": [
    "# Percentage of insomniacs in cases and controls"
   ]
  },
  {
   "cell_type": "code",
   "execution_count": 17,
   "metadata": {
    "collapsed": false
   },
   "outputs": [
    {
     "data": {
      "text/plain": [
       "418"
      ]
     },
     "execution_count": 17,
     "metadata": {},
     "output_type": "execute_result"
    }
   ],
   "source": [
    "total_insomniac_cases = len(pt_features[(pt_features['isCase']==True)&(pt_features['insomnia_event_count']>0)])\n",
    "total_insomniac_cases"
   ]
  },
  {
   "cell_type": "code",
   "execution_count": 23,
   "metadata": {
    "collapsed": false
   },
   "outputs": [
    {
     "data": {
      "text/plain": [
       "'3.23%'"
      ]
     },
     "execution_count": 23,
     "metadata": {},
     "output_type": "execute_result"
    }
   ],
   "source": [
    "\"{:.2%}\".format(total_insomniac_cases/all_cases)"
   ]
  },
  {
   "cell_type": "code",
   "execution_count": 24,
   "metadata": {
    "collapsed": false
   },
   "outputs": [
    {
     "data": {
      "text/plain": [
       "327"
      ]
     },
     "execution_count": 24,
     "metadata": {},
     "output_type": "execute_result"
    }
   ],
   "source": [
    "total_insomniac_controls = len(pt_features[(pt_features['isCase']==False)&(pt_features['insomnia_event_count']>0)])\n",
    "total_insomniac_controls"
   ]
  },
  {
   "cell_type": "code",
   "execution_count": 25,
   "metadata": {
    "collapsed": false
   },
   "outputs": [
    {
     "data": {
      "text/plain": [
       "'2.53%'"
      ]
     },
     "execution_count": 25,
     "metadata": {},
     "output_type": "execute_result"
    }
   ],
   "source": [
    "\"{:.2%}\".format(total_insomniac_controls/all_cases)"
   ]
  },
  {
   "cell_type": "code",
   "execution_count": null,
   "metadata": {
    "collapsed": true
   },
   "outputs": [],
   "source": []
  }
 ],
 "metadata": {
  "kernelspec": {
   "display_name": "Python 3",
   "language": "python",
   "name": "python3"
  },
  "language_info": {
   "codemirror_mode": {
    "name": "ipython",
    "version": 3
   },
   "file_extension": ".py",
   "mimetype": "text/x-python",
   "name": "python",
   "nbconvert_exporter": "python",
   "pygments_lexer": "ipython3",
   "version": "3.5.0"
  }
 },
 "nbformat": 4,
 "nbformat_minor": 0
}
