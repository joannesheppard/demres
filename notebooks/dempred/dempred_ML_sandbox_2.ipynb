{
 "cells": [
  {
   "cell_type": "code",
   "execution_count": 1,
   "metadata": {
    "collapsed": false,
    "deletable": true,
    "editable": true
   },
   "outputs": [],
   "source": [
    "%load_ext autoreload\n",
    "%autoreload 2"
   ]
  },
  {
   "cell_type": "code",
   "execution_count": 2,
   "metadata": {
    "collapsed": false,
    "deletable": true,
    "editable": true
   },
   "outputs": [
    {
     "name": "stdout",
     "output_type": "stream",
     "text": [
      "/Users/zurfarosa/demres\n"
     ]
    }
   ],
   "source": [
    "cd ~/demres"
   ]
  },
  {
   "cell_type": "code",
   "execution_count": 3,
   "metadata": {
    "collapsed": false,
    "deletable": true,
    "editable": true
   },
   "outputs": [],
   "source": [
    "# from IPython.core.display import display, HTML\n",
    "# display(HTML(\"<style>.container { width:95% !important; }</style>\"))"
   ]
  },
  {
   "cell_type": "code",
   "execution_count": 4,
   "metadata": {
    "collapsed": false,
    "deletable": true,
    "editable": true
   },
   "outputs": [],
   "source": [
    "import os\n",
    "import sys\n",
    "from pprint import pprint\n",
    "\n",
    "import pandas as pd\n",
    "import numpy as np\n",
    "import matplotlib.pyplot as plt\n",
    "\n",
    "from sklearn.model_selection import train_test_split\n"
   ]
  },
  {
   "cell_type": "code",
   "execution_count": 5,
   "metadata": {
    "collapsed": false,
    "deletable": true,
    "editable": true
   },
   "outputs": [],
   "source": [
    "%matplotlib notebook"
   ]
  },
  {
   "cell_type": "code",
   "execution_count": 6,
   "metadata": {
    "collapsed": true,
    "deletable": true,
    "editable": true
   },
   "outputs": [],
   "source": [
    "from sklearn.datasets import load_iris"
   ]
  },
  {
   "cell_type": "code",
   "execution_count": 7,
   "metadata": {
    "collapsed": true,
    "deletable": true,
    "editable": true
   },
   "outputs": [],
   "source": [
    "iris_ds = load_iris()"
   ]
  },
  {
   "cell_type": "code",
   "execution_count": 12,
   "metadata": {
    "collapsed": false
   },
   "outputs": [
    {
     "data": {
      "text/plain": [
       "array([[ 5.1,  3.5,  1.4,  0.2],\n",
       "       [ 4.9,  3. ,  1.4,  0.2],\n",
       "       [ 4.7,  3.2,  1.3,  0.2],\n",
       "       [ 4.6,  3.1,  1.5,  0.2],\n",
       "       [ 5. ,  3.6,  1.4,  0.2],\n",
       "       [ 5.4,  3.9,  1.7,  0.4],\n",
       "       [ 4.6,  3.4,  1.4,  0.3],\n",
       "       [ 5. ,  3.4,  1.5,  0.2],\n",
       "       [ 4.4,  2.9,  1.4,  0.2],\n",
       "       [ 4.9,  3.1,  1.5,  0.1],\n",
       "       [ 5.4,  3.7,  1.5,  0.2],\n",
       "       [ 4.8,  3.4,  1.6,  0.2],\n",
       "       [ 4.8,  3. ,  1.4,  0.1],\n",
       "       [ 4.3,  3. ,  1.1,  0.1],\n",
       "       [ 5.8,  4. ,  1.2,  0.2],\n",
       "       [ 5.7,  4.4,  1.5,  0.4],\n",
       "       [ 5.4,  3.9,  1.3,  0.4],\n",
       "       [ 5.1,  3.5,  1.4,  0.3],\n",
       "       [ 5.7,  3.8,  1.7,  0.3],\n",
       "       [ 5.1,  3.8,  1.5,  0.3],\n",
       "       [ 5.4,  3.4,  1.7,  0.2],\n",
       "       [ 5.1,  3.7,  1.5,  0.4],\n",
       "       [ 4.6,  3.6,  1. ,  0.2],\n",
       "       [ 5.1,  3.3,  1.7,  0.5],\n",
       "       [ 4.8,  3.4,  1.9,  0.2],\n",
       "       [ 5. ,  3. ,  1.6,  0.2],\n",
       "       [ 5. ,  3.4,  1.6,  0.4],\n",
       "       [ 5.2,  3.5,  1.5,  0.2],\n",
       "       [ 5.2,  3.4,  1.4,  0.2],\n",
       "       [ 4.7,  3.2,  1.6,  0.2],\n",
       "       [ 4.8,  3.1,  1.6,  0.2],\n",
       "       [ 5.4,  3.4,  1.5,  0.4],\n",
       "       [ 5.2,  4.1,  1.5,  0.1],\n",
       "       [ 5.5,  4.2,  1.4,  0.2],\n",
       "       [ 4.9,  3.1,  1.5,  0.1],\n",
       "       [ 5. ,  3.2,  1.2,  0.2],\n",
       "       [ 5.5,  3.5,  1.3,  0.2],\n",
       "       [ 4.9,  3.1,  1.5,  0.1],\n",
       "       [ 4.4,  3. ,  1.3,  0.2],\n",
       "       [ 5.1,  3.4,  1.5,  0.2],\n",
       "       [ 5. ,  3.5,  1.3,  0.3],\n",
       "       [ 4.5,  2.3,  1.3,  0.3],\n",
       "       [ 4.4,  3.2,  1.3,  0.2],\n",
       "       [ 5. ,  3.5,  1.6,  0.6],\n",
       "       [ 5.1,  3.8,  1.9,  0.4],\n",
       "       [ 4.8,  3. ,  1.4,  0.3],\n",
       "       [ 5.1,  3.8,  1.6,  0.2],\n",
       "       [ 4.6,  3.2,  1.4,  0.2],\n",
       "       [ 5.3,  3.7,  1.5,  0.2],\n",
       "       [ 5. ,  3.3,  1.4,  0.2],\n",
       "       [ 7. ,  3.2,  4.7,  1.4],\n",
       "       [ 6.4,  3.2,  4.5,  1.5],\n",
       "       [ 6.9,  3.1,  4.9,  1.5],\n",
       "       [ 5.5,  2.3,  4. ,  1.3],\n",
       "       [ 6.5,  2.8,  4.6,  1.5],\n",
       "       [ 5.7,  2.8,  4.5,  1.3],\n",
       "       [ 6.3,  3.3,  4.7,  1.6],\n",
       "       [ 4.9,  2.4,  3.3,  1. ],\n",
       "       [ 6.6,  2.9,  4.6,  1.3],\n",
       "       [ 5.2,  2.7,  3.9,  1.4],\n",
       "       [ 5. ,  2. ,  3.5,  1. ],\n",
       "       [ 5.9,  3. ,  4.2,  1.5],\n",
       "       [ 6. ,  2.2,  4. ,  1. ],\n",
       "       [ 6.1,  2.9,  4.7,  1.4],\n",
       "       [ 5.6,  2.9,  3.6,  1.3],\n",
       "       [ 6.7,  3.1,  4.4,  1.4],\n",
       "       [ 5.6,  3. ,  4.5,  1.5],\n",
       "       [ 5.8,  2.7,  4.1,  1. ],\n",
       "       [ 6.2,  2.2,  4.5,  1.5],\n",
       "       [ 5.6,  2.5,  3.9,  1.1],\n",
       "       [ 5.9,  3.2,  4.8,  1.8],\n",
       "       [ 6.1,  2.8,  4. ,  1.3],\n",
       "       [ 6.3,  2.5,  4.9,  1.5],\n",
       "       [ 6.1,  2.8,  4.7,  1.2],\n",
       "       [ 6.4,  2.9,  4.3,  1.3],\n",
       "       [ 6.6,  3. ,  4.4,  1.4],\n",
       "       [ 6.8,  2.8,  4.8,  1.4],\n",
       "       [ 6.7,  3. ,  5. ,  1.7],\n",
       "       [ 6. ,  2.9,  4.5,  1.5],\n",
       "       [ 5.7,  2.6,  3.5,  1. ],\n",
       "       [ 5.5,  2.4,  3.8,  1.1],\n",
       "       [ 5.5,  2.4,  3.7,  1. ],\n",
       "       [ 5.8,  2.7,  3.9,  1.2],\n",
       "       [ 6. ,  2.7,  5.1,  1.6],\n",
       "       [ 5.4,  3. ,  4.5,  1.5],\n",
       "       [ 6. ,  3.4,  4.5,  1.6],\n",
       "       [ 6.7,  3.1,  4.7,  1.5],\n",
       "       [ 6.3,  2.3,  4.4,  1.3],\n",
       "       [ 5.6,  3. ,  4.1,  1.3],\n",
       "       [ 5.5,  2.5,  4. ,  1.3],\n",
       "       [ 5.5,  2.6,  4.4,  1.2],\n",
       "       [ 6.1,  3. ,  4.6,  1.4],\n",
       "       [ 5.8,  2.6,  4. ,  1.2],\n",
       "       [ 5. ,  2.3,  3.3,  1. ],\n",
       "       [ 5.6,  2.7,  4.2,  1.3],\n",
       "       [ 5.7,  3. ,  4.2,  1.2],\n",
       "       [ 5.7,  2.9,  4.2,  1.3],\n",
       "       [ 6.2,  2.9,  4.3,  1.3],\n",
       "       [ 5.1,  2.5,  3. ,  1.1],\n",
       "       [ 5.7,  2.8,  4.1,  1.3],\n",
       "       [ 6.3,  3.3,  6. ,  2.5],\n",
       "       [ 5.8,  2.7,  5.1,  1.9],\n",
       "       [ 7.1,  3. ,  5.9,  2.1],\n",
       "       [ 6.3,  2.9,  5.6,  1.8],\n",
       "       [ 6.5,  3. ,  5.8,  2.2],\n",
       "       [ 7.6,  3. ,  6.6,  2.1],\n",
       "       [ 4.9,  2.5,  4.5,  1.7],\n",
       "       [ 7.3,  2.9,  6.3,  1.8],\n",
       "       [ 6.7,  2.5,  5.8,  1.8],\n",
       "       [ 7.2,  3.6,  6.1,  2.5],\n",
       "       [ 6.5,  3.2,  5.1,  2. ],\n",
       "       [ 6.4,  2.7,  5.3,  1.9],\n",
       "       [ 6.8,  3. ,  5.5,  2.1],\n",
       "       [ 5.7,  2.5,  5. ,  2. ],\n",
       "       [ 5.8,  2.8,  5.1,  2.4],\n",
       "       [ 6.4,  3.2,  5.3,  2.3],\n",
       "       [ 6.5,  3. ,  5.5,  1.8],\n",
       "       [ 7.7,  3.8,  6.7,  2.2],\n",
       "       [ 7.7,  2.6,  6.9,  2.3],\n",
       "       [ 6. ,  2.2,  5. ,  1.5],\n",
       "       [ 6.9,  3.2,  5.7,  2.3],\n",
       "       [ 5.6,  2.8,  4.9,  2. ],\n",
       "       [ 7.7,  2.8,  6.7,  2. ],\n",
       "       [ 6.3,  2.7,  4.9,  1.8],\n",
       "       [ 6.7,  3.3,  5.7,  2.1],\n",
       "       [ 7.2,  3.2,  6. ,  1.8],\n",
       "       [ 6.2,  2.8,  4.8,  1.8],\n",
       "       [ 6.1,  3. ,  4.9,  1.8],\n",
       "       [ 6.4,  2.8,  5.6,  2.1],\n",
       "       [ 7.2,  3. ,  5.8,  1.6],\n",
       "       [ 7.4,  2.8,  6.1,  1.9],\n",
       "       [ 7.9,  3.8,  6.4,  2. ],\n",
       "       [ 6.4,  2.8,  5.6,  2.2],\n",
       "       [ 6.3,  2.8,  5.1,  1.5],\n",
       "       [ 6.1,  2.6,  5.6,  1.4],\n",
       "       [ 7.7,  3. ,  6.1,  2.3],\n",
       "       [ 6.3,  3.4,  5.6,  2.4],\n",
       "       [ 6.4,  3.1,  5.5,  1.8],\n",
       "       [ 6. ,  3. ,  4.8,  1.8],\n",
       "       [ 6.9,  3.1,  5.4,  2.1],\n",
       "       [ 6.7,  3.1,  5.6,  2.4],\n",
       "       [ 6.9,  3.1,  5.1,  2.3],\n",
       "       [ 5.8,  2.7,  5.1,  1.9],\n",
       "       [ 6.8,  3.2,  5.9,  2.3],\n",
       "       [ 6.7,  3.3,  5.7,  2.5],\n",
       "       [ 6.7,  3. ,  5.2,  2.3],\n",
       "       [ 6.3,  2.5,  5. ,  1.9],\n",
       "       [ 6.5,  3. ,  5.2,  2. ],\n",
       "       [ 6.2,  3.4,  5.4,  2.3],\n",
       "       [ 5.9,  3. ,  5.1,  1.8]])"
      ]
     },
     "execution_count": 12,
     "metadata": {},
     "output_type": "execute_result"
    }
   ],
   "source": [
    "iris_ds.data"
   ]
  },
  {
   "cell_type": "code",
   "execution_count": 15,
   "metadata": {
    "collapsed": true
   },
   "outputs": [],
   "source": [
    "X_train,X_test,y_train,y_test = train_test_split(iris_ds.data,iris_ds.target)"
   ]
  },
  {
   "cell_type": "code",
   "execution_count": 16,
   "metadata": {
    "collapsed": true
   },
   "outputs": [],
   "source": [
    "from sklearn.neighbors import KNeighborsClassifier"
   ]
  },
  {
   "cell_type": "code",
   "execution_count": 41,
   "metadata": {
    "collapsed": true
   },
   "outputs": [],
   "source": [
    "clf = KNeighborsClassifier(n_neighbors=4)"
   ]
  },
  {
   "cell_type": "code",
   "execution_count": 42,
   "metadata": {
    "collapsed": false
   },
   "outputs": [
    {
     "data": {
      "text/plain": [
       "KNeighborsClassifier(algorithm='auto', leaf_size=30, metric='minkowski',\n",
       "           metric_params=None, n_jobs=1, n_neighbors=4, p=2,\n",
       "           weights='uniform')"
      ]
     },
     "execution_count": 42,
     "metadata": {},
     "output_type": "execute_result"
    }
   ],
   "source": [
    "clf.fit(X_train,y_train)"
   ]
  },
  {
   "cell_type": "code",
   "execution_count": 43,
   "metadata": {
    "collapsed": false
   },
   "outputs": [
    {
     "data": {
      "text/plain": [
       "0.92105263157894735"
      ]
     },
     "execution_count": 43,
     "metadata": {},
     "output_type": "execute_result"
    }
   ],
   "source": [
    "clf.score(X_test,y_test)"
   ]
  },
  {
   "cell_type": "code",
   "execution_count": 30,
   "metadata": {
    "collapsed": false
   },
   "outputs": [
    {
     "data": {
      "text/plain": [
       "array([1, 2, 2, 1, 1, 0, 0, 2, 2, 1, 1, 2, 0, 0, 2, 1, 0, 1, 2, 2, 0, 0, 0,\n",
       "       2, 0, 2, 1, 0, 2, 2, 0, 0, 1, 0, 1, 0, 1, 2])"
      ]
     },
     "execution_count": 30,
     "metadata": {},
     "output_type": "execute_result"
    }
   ],
   "source": [
    "clf.predict(X_test)"
   ]
  },
  {
   "cell_type": "code",
   "execution_count": 31,
   "metadata": {
    "collapsed": false
   },
   "outputs": [
    {
     "data": {
      "text/plain": [
       "array([2, 2, 2, 1, 1, 0, 0, 2, 2, 1, 1, 2, 0, 0, 2, 1, 0, 1, 2, 2, 0, 0, 0,\n",
       "       2, 0, 2, 1, 0, 2, 2, 0, 0, 2, 0, 1, 0, 1, 1])"
      ]
     },
     "execution_count": 31,
     "metadata": {},
     "output_type": "execute_result"
    }
   ],
   "source": [
    "y_test"
   ]
  },
  {
   "cell_type": "code",
   "execution_count": 57,
   "metadata": {
    "collapsed": true
   },
   "outputs": [],
   "source": [
    "training_accuracy = []"
   ]
  },
  {
   "cell_type": "code",
   "execution_count": 58,
   "metadata": {
    "collapsed": true
   },
   "outputs": [],
   "source": [
    "test_accuracy = []"
   ]
  },
  {
   "cell_type": "code",
   "execution_count": 59,
   "metadata": {
    "collapsed": true
   },
   "outputs": [],
   "source": [
    "neighbor_values = range(1,10)"
   ]
  },
  {
   "cell_type": "code",
   "execution_count": 60,
   "metadata": {
    "collapsed": false
   },
   "outputs": [],
   "source": [
    "for val in neighbor_values:\n",
    "    clf = KNeighborsClassifier(n_neighbors=val)\n",
    "    clf.fit(X_train,y_train)\n",
    "    training_accuracy.append(clf.score(X_train,y_train))\n",
    "    test_accuracy.append(clf.score(X_test,y_test))"
   ]
  },
  {
   "cell_type": "code",
   "execution_count": 61,
   "metadata": {
    "collapsed": false
   },
   "outputs": [
    {
     "data": {
      "text/plain": [
       "[0.97368421052631582,\n",
       " 0.89473684210526316,\n",
       " 0.94736842105263153,\n",
       " 0.92105263157894735,\n",
       " 0.92105263157894735,\n",
       " 0.92105263157894735,\n",
       " 0.94736842105263153,\n",
       " 0.92105263157894735,\n",
       " 0.94736842105263153]"
      ]
     },
     "execution_count": 61,
     "metadata": {},
     "output_type": "execute_result"
    }
   ],
   "source": [
    "test_accuracy"
   ]
  },
  {
   "cell_type": "code",
   "execution_count": 62,
   "metadata": {
    "collapsed": false
   },
   "outputs": [
    {
     "data": {
      "text/plain": [
       "[1.0,\n",
       " 0.9642857142857143,\n",
       " 0.9821428571428571,\n",
       " 0.9821428571428571,\n",
       " 0.9910714285714286,\n",
       " 0.9821428571428571,\n",
       " 0.9821428571428571,\n",
       " 0.9732142857142857,\n",
       " 0.9821428571428571]"
      ]
     },
     "execution_count": 62,
     "metadata": {},
     "output_type": "execute_result"
    }
   ],
   "source": [
    "training_accuracy"
   ]
  },
  {
   "cell_type": "code",
   "execution_count": 93,
   "metadata": {
    "collapsed": false
   },
   "outputs": [
    {
     "data": {
      "application/javascript": [
       "/* Put everything inside the global mpl namespace */\n",
       "window.mpl = {};\n",
       "\n",
       "\n",
       "mpl.get_websocket_type = function() {\n",
       "    if (typeof(WebSocket) !== 'undefined') {\n",
       "        return WebSocket;\n",
       "    } else if (typeof(MozWebSocket) !== 'undefined') {\n",
       "        return MozWebSocket;\n",
       "    } else {\n",
       "        alert('Your browser does not have WebSocket support.' +\n",
       "              'Please try Chrome, Safari or Firefox ≥ 6. ' +\n",
       "              'Firefox 4 and 5 are also supported but you ' +\n",
       "              'have to enable WebSockets in about:config.');\n",
       "    };\n",
       "}\n",
       "\n",
       "mpl.figure = function(figure_id, websocket, ondownload, parent_element) {\n",
       "    this.id = figure_id;\n",
       "\n",
       "    this.ws = websocket;\n",
       "\n",
       "    this.supports_binary = (this.ws.binaryType != undefined);\n",
       "\n",
       "    if (!this.supports_binary) {\n",
       "        var warnings = document.getElementById(\"mpl-warnings\");\n",
       "        if (warnings) {\n",
       "            warnings.style.display = 'block';\n",
       "            warnings.textContent = (\n",
       "                \"This browser does not support binary websocket messages. \" +\n",
       "                    \"Performance may be slow.\");\n",
       "        }\n",
       "    }\n",
       "\n",
       "    this.imageObj = new Image();\n",
       "\n",
       "    this.context = undefined;\n",
       "    this.message = undefined;\n",
       "    this.canvas = undefined;\n",
       "    this.rubberband_canvas = undefined;\n",
       "    this.rubberband_context = undefined;\n",
       "    this.format_dropdown = undefined;\n",
       "\n",
       "    this.image_mode = 'full';\n",
       "\n",
       "    this.root = $('<div/>');\n",
       "    this._root_extra_style(this.root)\n",
       "    this.root.attr('style', 'display: inline-block');\n",
       "\n",
       "    $(parent_element).append(this.root);\n",
       "\n",
       "    this._init_header(this);\n",
       "    this._init_canvas(this);\n",
       "    this._init_toolbar(this);\n",
       "\n",
       "    var fig = this;\n",
       "\n",
       "    this.waiting = false;\n",
       "\n",
       "    this.ws.onopen =  function () {\n",
       "            fig.send_message(\"supports_binary\", {value: fig.supports_binary});\n",
       "            fig.send_message(\"send_image_mode\", {});\n",
       "            if (mpl.ratio != 1) {\n",
       "                fig.send_message(\"set_dpi_ratio\", {'dpi_ratio': mpl.ratio});\n",
       "            }\n",
       "            fig.send_message(\"refresh\", {});\n",
       "        }\n",
       "\n",
       "    this.imageObj.onload = function() {\n",
       "            if (fig.image_mode == 'full') {\n",
       "                // Full images could contain transparency (where diff images\n",
       "                // almost always do), so we need to clear the canvas so that\n",
       "                // there is no ghosting.\n",
       "                fig.context.clearRect(0, 0, fig.canvas.width, fig.canvas.height);\n",
       "            }\n",
       "            fig.context.drawImage(fig.imageObj, 0, 0);\n",
       "        };\n",
       "\n",
       "    this.imageObj.onunload = function() {\n",
       "        this.ws.close();\n",
       "    }\n",
       "\n",
       "    this.ws.onmessage = this._make_on_message_function(this);\n",
       "\n",
       "    this.ondownload = ondownload;\n",
       "}\n",
       "\n",
       "mpl.figure.prototype._init_header = function() {\n",
       "    var titlebar = $(\n",
       "        '<div class=\"ui-dialog-titlebar ui-widget-header ui-corner-all ' +\n",
       "        'ui-helper-clearfix\"/>');\n",
       "    var titletext = $(\n",
       "        '<div class=\"ui-dialog-title\" style=\"width: 100%; ' +\n",
       "        'text-align: center; padding: 3px;\"/>');\n",
       "    titlebar.append(titletext)\n",
       "    this.root.append(titlebar);\n",
       "    this.header = titletext[0];\n",
       "}\n",
       "\n",
       "\n",
       "\n",
       "mpl.figure.prototype._canvas_extra_style = function(canvas_div) {\n",
       "\n",
       "}\n",
       "\n",
       "\n",
       "mpl.figure.prototype._root_extra_style = function(canvas_div) {\n",
       "\n",
       "}\n",
       "\n",
       "mpl.figure.prototype._init_canvas = function() {\n",
       "    var fig = this;\n",
       "\n",
       "    var canvas_div = $('<div/>');\n",
       "\n",
       "    canvas_div.attr('style', 'position: relative; clear: both; outline: 0');\n",
       "\n",
       "    function canvas_keyboard_event(event) {\n",
       "        return fig.key_event(event, event['data']);\n",
       "    }\n",
       "\n",
       "    canvas_div.keydown('key_press', canvas_keyboard_event);\n",
       "    canvas_div.keyup('key_release', canvas_keyboard_event);\n",
       "    this.canvas_div = canvas_div\n",
       "    this._canvas_extra_style(canvas_div)\n",
       "    this.root.append(canvas_div);\n",
       "\n",
       "    var canvas = $('<canvas/>');\n",
       "    canvas.addClass('mpl-canvas');\n",
       "    canvas.attr('style', \"left: 0; top: 0; z-index: 0; outline: 0\")\n",
       "\n",
       "    this.canvas = canvas[0];\n",
       "    this.context = canvas[0].getContext(\"2d\");\n",
       "\n",
       "    var backingStore = this.context.backingStorePixelRatio ||\n",
       "\tthis.context.webkitBackingStorePixelRatio ||\n",
       "\tthis.context.mozBackingStorePixelRatio ||\n",
       "\tthis.context.msBackingStorePixelRatio ||\n",
       "\tthis.context.oBackingStorePixelRatio ||\n",
       "\tthis.context.backingStorePixelRatio || 1;\n",
       "\n",
       "    mpl.ratio = (window.devicePixelRatio || 1) / backingStore;\n",
       "\n",
       "    var rubberband = $('<canvas/>');\n",
       "    rubberband.attr('style', \"position: absolute; left: 0; top: 0; z-index: 1;\")\n",
       "\n",
       "    var pass_mouse_events = true;\n",
       "\n",
       "    canvas_div.resizable({\n",
       "        start: function(event, ui) {\n",
       "            pass_mouse_events = false;\n",
       "        },\n",
       "        resize: function(event, ui) {\n",
       "            fig.request_resize(ui.size.width, ui.size.height);\n",
       "        },\n",
       "        stop: function(event, ui) {\n",
       "            pass_mouse_events = true;\n",
       "            fig.request_resize(ui.size.width, ui.size.height);\n",
       "        },\n",
       "    });\n",
       "\n",
       "    function mouse_event_fn(event) {\n",
       "        if (pass_mouse_events)\n",
       "            return fig.mouse_event(event, event['data']);\n",
       "    }\n",
       "\n",
       "    rubberband.mousedown('button_press', mouse_event_fn);\n",
       "    rubberband.mouseup('button_release', mouse_event_fn);\n",
       "    // Throttle sequential mouse events to 1 every 20ms.\n",
       "    rubberband.mousemove('motion_notify', mouse_event_fn);\n",
       "\n",
       "    rubberband.mouseenter('figure_enter', mouse_event_fn);\n",
       "    rubberband.mouseleave('figure_leave', mouse_event_fn);\n",
       "\n",
       "    canvas_div.on(\"wheel\", function (event) {\n",
       "        event = event.originalEvent;\n",
       "        event['data'] = 'scroll'\n",
       "        if (event.deltaY < 0) {\n",
       "            event.step = 1;\n",
       "        } else {\n",
       "            event.step = -1;\n",
       "        }\n",
       "        mouse_event_fn(event);\n",
       "    });\n",
       "\n",
       "    canvas_div.append(canvas);\n",
       "    canvas_div.append(rubberband);\n",
       "\n",
       "    this.rubberband = rubberband;\n",
       "    this.rubberband_canvas = rubberband[0];\n",
       "    this.rubberband_context = rubberband[0].getContext(\"2d\");\n",
       "    this.rubberband_context.strokeStyle = \"#000000\";\n",
       "\n",
       "    this._resize_canvas = function(width, height) {\n",
       "        // Keep the size of the canvas, canvas container, and rubber band\n",
       "        // canvas in synch.\n",
       "        canvas_div.css('width', width)\n",
       "        canvas_div.css('height', height)\n",
       "\n",
       "        canvas.attr('width', width * mpl.ratio);\n",
       "        canvas.attr('height', height * mpl.ratio);\n",
       "        canvas.attr('style', 'width: ' + width + 'px; height: ' + height + 'px;');\n",
       "\n",
       "        rubberband.attr('width', width);\n",
       "        rubberband.attr('height', height);\n",
       "    }\n",
       "\n",
       "    // Set the figure to an initial 600x600px, this will subsequently be updated\n",
       "    // upon first draw.\n",
       "    this._resize_canvas(600, 600);\n",
       "\n",
       "    // Disable right mouse context menu.\n",
       "    $(this.rubberband_canvas).bind(\"contextmenu\",function(e){\n",
       "        return false;\n",
       "    });\n",
       "\n",
       "    function set_focus () {\n",
       "        canvas.focus();\n",
       "        canvas_div.focus();\n",
       "    }\n",
       "\n",
       "    window.setTimeout(set_focus, 100);\n",
       "}\n",
       "\n",
       "mpl.figure.prototype._init_toolbar = function() {\n",
       "    var fig = this;\n",
       "\n",
       "    var nav_element = $('<div/>')\n",
       "    nav_element.attr('style', 'width: 100%');\n",
       "    this.root.append(nav_element);\n",
       "\n",
       "    // Define a callback function for later on.\n",
       "    function toolbar_event(event) {\n",
       "        return fig.toolbar_button_onclick(event['data']);\n",
       "    }\n",
       "    function toolbar_mouse_event(event) {\n",
       "        return fig.toolbar_button_onmouseover(event['data']);\n",
       "    }\n",
       "\n",
       "    for(var toolbar_ind in mpl.toolbar_items) {\n",
       "        var name = mpl.toolbar_items[toolbar_ind][0];\n",
       "        var tooltip = mpl.toolbar_items[toolbar_ind][1];\n",
       "        var image = mpl.toolbar_items[toolbar_ind][2];\n",
       "        var method_name = mpl.toolbar_items[toolbar_ind][3];\n",
       "\n",
       "        if (!name) {\n",
       "            // put a spacer in here.\n",
       "            continue;\n",
       "        }\n",
       "        var button = $('<button/>');\n",
       "        button.addClass('ui-button ui-widget ui-state-default ui-corner-all ' +\n",
       "                        'ui-button-icon-only');\n",
       "        button.attr('role', 'button');\n",
       "        button.attr('aria-disabled', 'false');\n",
       "        button.click(method_name, toolbar_event);\n",
       "        button.mouseover(tooltip, toolbar_mouse_event);\n",
       "\n",
       "        var icon_img = $('<span/>');\n",
       "        icon_img.addClass('ui-button-icon-primary ui-icon');\n",
       "        icon_img.addClass(image);\n",
       "        icon_img.addClass('ui-corner-all');\n",
       "\n",
       "        var tooltip_span = $('<span/>');\n",
       "        tooltip_span.addClass('ui-button-text');\n",
       "        tooltip_span.html(tooltip);\n",
       "\n",
       "        button.append(icon_img);\n",
       "        button.append(tooltip_span);\n",
       "\n",
       "        nav_element.append(button);\n",
       "    }\n",
       "\n",
       "    var fmt_picker_span = $('<span/>');\n",
       "\n",
       "    var fmt_picker = $('<select/>');\n",
       "    fmt_picker.addClass('mpl-toolbar-option ui-widget ui-widget-content');\n",
       "    fmt_picker_span.append(fmt_picker);\n",
       "    nav_element.append(fmt_picker_span);\n",
       "    this.format_dropdown = fmt_picker[0];\n",
       "\n",
       "    for (var ind in mpl.extensions) {\n",
       "        var fmt = mpl.extensions[ind];\n",
       "        var option = $(\n",
       "            '<option/>', {selected: fmt === mpl.default_extension}).html(fmt);\n",
       "        fmt_picker.append(option)\n",
       "    }\n",
       "\n",
       "    // Add hover states to the ui-buttons\n",
       "    $( \".ui-button\" ).hover(\n",
       "        function() { $(this).addClass(\"ui-state-hover\");},\n",
       "        function() { $(this).removeClass(\"ui-state-hover\");}\n",
       "    );\n",
       "\n",
       "    var status_bar = $('<span class=\"mpl-message\"/>');\n",
       "    nav_element.append(status_bar);\n",
       "    this.message = status_bar[0];\n",
       "}\n",
       "\n",
       "mpl.figure.prototype.request_resize = function(x_pixels, y_pixels) {\n",
       "    // Request matplotlib to resize the figure. Matplotlib will then trigger a resize in the client,\n",
       "    // which will in turn request a refresh of the image.\n",
       "    this.send_message('resize', {'width': x_pixels, 'height': y_pixels});\n",
       "}\n",
       "\n",
       "mpl.figure.prototype.send_message = function(type, properties) {\n",
       "    properties['type'] = type;\n",
       "    properties['figure_id'] = this.id;\n",
       "    this.ws.send(JSON.stringify(properties));\n",
       "}\n",
       "\n",
       "mpl.figure.prototype.send_draw_message = function() {\n",
       "    if (!this.waiting) {\n",
       "        this.waiting = true;\n",
       "        this.ws.send(JSON.stringify({type: \"draw\", figure_id: this.id}));\n",
       "    }\n",
       "}\n",
       "\n",
       "\n",
       "mpl.figure.prototype.handle_save = function(fig, msg) {\n",
       "    var format_dropdown = fig.format_dropdown;\n",
       "    var format = format_dropdown.options[format_dropdown.selectedIndex].value;\n",
       "    fig.ondownload(fig, format);\n",
       "}\n",
       "\n",
       "\n",
       "mpl.figure.prototype.handle_resize = function(fig, msg) {\n",
       "    var size = msg['size'];\n",
       "    if (size[0] != fig.canvas.width || size[1] != fig.canvas.height) {\n",
       "        fig._resize_canvas(size[0], size[1]);\n",
       "        fig.send_message(\"refresh\", {});\n",
       "    };\n",
       "}\n",
       "\n",
       "mpl.figure.prototype.handle_rubberband = function(fig, msg) {\n",
       "    var x0 = msg['x0'] / mpl.ratio;\n",
       "    var y0 = (fig.canvas.height - msg['y0']) / mpl.ratio;\n",
       "    var x1 = msg['x1'] / mpl.ratio;\n",
       "    var y1 = (fig.canvas.height - msg['y1']) / mpl.ratio;\n",
       "    x0 = Math.floor(x0) + 0.5;\n",
       "    y0 = Math.floor(y0) + 0.5;\n",
       "    x1 = Math.floor(x1) + 0.5;\n",
       "    y1 = Math.floor(y1) + 0.5;\n",
       "    var min_x = Math.min(x0, x1);\n",
       "    var min_y = Math.min(y0, y1);\n",
       "    var width = Math.abs(x1 - x0);\n",
       "    var height = Math.abs(y1 - y0);\n",
       "\n",
       "    fig.rubberband_context.clearRect(\n",
       "        0, 0, fig.canvas.width, fig.canvas.height);\n",
       "\n",
       "    fig.rubberband_context.strokeRect(min_x, min_y, width, height);\n",
       "}\n",
       "\n",
       "mpl.figure.prototype.handle_figure_label = function(fig, msg) {\n",
       "    // Updates the figure title.\n",
       "    fig.header.textContent = msg['label'];\n",
       "}\n",
       "\n",
       "mpl.figure.prototype.handle_cursor = function(fig, msg) {\n",
       "    var cursor = msg['cursor'];\n",
       "    switch(cursor)\n",
       "    {\n",
       "    case 0:\n",
       "        cursor = 'pointer';\n",
       "        break;\n",
       "    case 1:\n",
       "        cursor = 'default';\n",
       "        break;\n",
       "    case 2:\n",
       "        cursor = 'crosshair';\n",
       "        break;\n",
       "    case 3:\n",
       "        cursor = 'move';\n",
       "        break;\n",
       "    }\n",
       "    fig.rubberband_canvas.style.cursor = cursor;\n",
       "}\n",
       "\n",
       "mpl.figure.prototype.handle_message = function(fig, msg) {\n",
       "    fig.message.textContent = msg['message'];\n",
       "}\n",
       "\n",
       "mpl.figure.prototype.handle_draw = function(fig, msg) {\n",
       "    // Request the server to send over a new figure.\n",
       "    fig.send_draw_message();\n",
       "}\n",
       "\n",
       "mpl.figure.prototype.handle_image_mode = function(fig, msg) {\n",
       "    fig.image_mode = msg['mode'];\n",
       "}\n",
       "\n",
       "mpl.figure.prototype.updated_canvas_event = function() {\n",
       "    // Called whenever the canvas gets updated.\n",
       "    this.send_message(\"ack\", {});\n",
       "}\n",
       "\n",
       "// A function to construct a web socket function for onmessage handling.\n",
       "// Called in the figure constructor.\n",
       "mpl.figure.prototype._make_on_message_function = function(fig) {\n",
       "    return function socket_on_message(evt) {\n",
       "        if (evt.data instanceof Blob) {\n",
       "            /* FIXME: We get \"Resource interpreted as Image but\n",
       "             * transferred with MIME type text/plain:\" errors on\n",
       "             * Chrome.  But how to set the MIME type?  It doesn't seem\n",
       "             * to be part of the websocket stream */\n",
       "            evt.data.type = \"image/png\";\n",
       "\n",
       "            /* Free the memory for the previous frames */\n",
       "            if (fig.imageObj.src) {\n",
       "                (window.URL || window.webkitURL).revokeObjectURL(\n",
       "                    fig.imageObj.src);\n",
       "            }\n",
       "\n",
       "            fig.imageObj.src = (window.URL || window.webkitURL).createObjectURL(\n",
       "                evt.data);\n",
       "            fig.updated_canvas_event();\n",
       "            fig.waiting = false;\n",
       "            return;\n",
       "        }\n",
       "        else if (typeof evt.data === 'string' && evt.data.slice(0, 21) == \"data:image/png;base64\") {\n",
       "            fig.imageObj.src = evt.data;\n",
       "            fig.updated_canvas_event();\n",
       "            fig.waiting = false;\n",
       "            return;\n",
       "        }\n",
       "\n",
       "        var msg = JSON.parse(evt.data);\n",
       "        var msg_type = msg['type'];\n",
       "\n",
       "        // Call the  \"handle_{type}\" callback, which takes\n",
       "        // the figure and JSON message as its only arguments.\n",
       "        try {\n",
       "            var callback = fig[\"handle_\" + msg_type];\n",
       "        } catch (e) {\n",
       "            console.log(\"No handler for the '\" + msg_type + \"' message type: \", msg);\n",
       "            return;\n",
       "        }\n",
       "\n",
       "        if (callback) {\n",
       "            try {\n",
       "                // console.log(\"Handling '\" + msg_type + \"' message: \", msg);\n",
       "                callback(fig, msg);\n",
       "            } catch (e) {\n",
       "                console.log(\"Exception inside the 'handler_\" + msg_type + \"' callback:\", e, e.stack, msg);\n",
       "            }\n",
       "        }\n",
       "    };\n",
       "}\n",
       "\n",
       "// from http://stackoverflow.com/questions/1114465/getting-mouse-location-in-canvas\n",
       "mpl.findpos = function(e) {\n",
       "    //this section is from http://www.quirksmode.org/js/events_properties.html\n",
       "    var targ;\n",
       "    if (!e)\n",
       "        e = window.event;\n",
       "    if (e.target)\n",
       "        targ = e.target;\n",
       "    else if (e.srcElement)\n",
       "        targ = e.srcElement;\n",
       "    if (targ.nodeType == 3) // defeat Safari bug\n",
       "        targ = targ.parentNode;\n",
       "\n",
       "    // jQuery normalizes the pageX and pageY\n",
       "    // pageX,Y are the mouse positions relative to the document\n",
       "    // offset() returns the position of the element relative to the document\n",
       "    var x = e.pageX - $(targ).offset().left;\n",
       "    var y = e.pageY - $(targ).offset().top;\n",
       "\n",
       "    return {\"x\": x, \"y\": y};\n",
       "};\n",
       "\n",
       "/*\n",
       " * return a copy of an object with only non-object keys\n",
       " * we need this to avoid circular references\n",
       " * http://stackoverflow.com/a/24161582/3208463\n",
       " */\n",
       "function simpleKeys (original) {\n",
       "  return Object.keys(original).reduce(function (obj, key) {\n",
       "    if (typeof original[key] !== 'object')\n",
       "        obj[key] = original[key]\n",
       "    return obj;\n",
       "  }, {});\n",
       "}\n",
       "\n",
       "mpl.figure.prototype.mouse_event = function(event, name) {\n",
       "    var canvas_pos = mpl.findpos(event)\n",
       "\n",
       "    if (name === 'button_press')\n",
       "    {\n",
       "        this.canvas.focus();\n",
       "        this.canvas_div.focus();\n",
       "    }\n",
       "\n",
       "    var x = canvas_pos.x * mpl.ratio;\n",
       "    var y = canvas_pos.y * mpl.ratio;\n",
       "\n",
       "    this.send_message(name, {x: x, y: y, button: event.button,\n",
       "                             step: event.step,\n",
       "                             guiEvent: simpleKeys(event)});\n",
       "\n",
       "    /* This prevents the web browser from automatically changing to\n",
       "     * the text insertion cursor when the button is pressed.  We want\n",
       "     * to control all of the cursor setting manually through the\n",
       "     * 'cursor' event from matplotlib */\n",
       "    event.preventDefault();\n",
       "    return false;\n",
       "}\n",
       "\n",
       "mpl.figure.prototype._key_event_extra = function(event, name) {\n",
       "    // Handle any extra behaviour associated with a key event\n",
       "}\n",
       "\n",
       "mpl.figure.prototype.key_event = function(event, name) {\n",
       "\n",
       "    // Prevent repeat events\n",
       "    if (name == 'key_press')\n",
       "    {\n",
       "        if (event.which === this._key)\n",
       "            return;\n",
       "        else\n",
       "            this._key = event.which;\n",
       "    }\n",
       "    if (name == 'key_release')\n",
       "        this._key = null;\n",
       "\n",
       "    var value = '';\n",
       "    if (event.ctrlKey && event.which != 17)\n",
       "        value += \"ctrl+\";\n",
       "    if (event.altKey && event.which != 18)\n",
       "        value += \"alt+\";\n",
       "    if (event.shiftKey && event.which != 16)\n",
       "        value += \"shift+\";\n",
       "\n",
       "    value += 'k';\n",
       "    value += event.which.toString();\n",
       "\n",
       "    this._key_event_extra(event, name);\n",
       "\n",
       "    this.send_message(name, {key: value,\n",
       "                             guiEvent: simpleKeys(event)});\n",
       "    return false;\n",
       "}\n",
       "\n",
       "mpl.figure.prototype.toolbar_button_onclick = function(name) {\n",
       "    if (name == 'download') {\n",
       "        this.handle_save(this, null);\n",
       "    } else {\n",
       "        this.send_message(\"toolbar_button\", {name: name});\n",
       "    }\n",
       "};\n",
       "\n",
       "mpl.figure.prototype.toolbar_button_onmouseover = function(tooltip) {\n",
       "    this.message.textContent = tooltip;\n",
       "};\n",
       "mpl.toolbar_items = [[\"Home\", \"Reset original view\", \"fa fa-home icon-home\", \"home\"], [\"Back\", \"Back to  previous view\", \"fa fa-arrow-left icon-arrow-left\", \"back\"], [\"Forward\", \"Forward to next view\", \"fa fa-arrow-right icon-arrow-right\", \"forward\"], [\"\", \"\", \"\", \"\"], [\"Pan\", \"Pan axes with left mouse, zoom with right\", \"fa fa-arrows icon-move\", \"pan\"], [\"Zoom\", \"Zoom to rectangle\", \"fa fa-square-o icon-check-empty\", \"zoom\"], [\"\", \"\", \"\", \"\"], [\"Download\", \"Download plot\", \"fa fa-floppy-o icon-save\", \"download\"]];\n",
       "\n",
       "mpl.extensions = [\"eps\", \"pdf\", \"png\", \"ps\", \"raw\", \"svg\"];\n",
       "\n",
       "mpl.default_extension = \"png\";var comm_websocket_adapter = function(comm) {\n",
       "    // Create a \"websocket\"-like object which calls the given IPython comm\n",
       "    // object with the appropriate methods. Currently this is a non binary\n",
       "    // socket, so there is still some room for performance tuning.\n",
       "    var ws = {};\n",
       "\n",
       "    ws.close = function() {\n",
       "        comm.close()\n",
       "    };\n",
       "    ws.send = function(m) {\n",
       "        //console.log('sending', m);\n",
       "        comm.send(m);\n",
       "    };\n",
       "    // Register the callback with on_msg.\n",
       "    comm.on_msg(function(msg) {\n",
       "        //console.log('receiving', msg['content']['data'], msg);\n",
       "        // Pass the mpl event to the overriden (by mpl) onmessage function.\n",
       "        ws.onmessage(msg['content']['data'])\n",
       "    });\n",
       "    return ws;\n",
       "}\n",
       "\n",
       "mpl.mpl_figure_comm = function(comm, msg) {\n",
       "    // This is the function which gets called when the mpl process\n",
       "    // starts-up an IPython Comm through the \"matplotlib\" channel.\n",
       "\n",
       "    var id = msg.content.data.id;\n",
       "    // Get hold of the div created by the display call when the Comm\n",
       "    // socket was opened in Python.\n",
       "    var element = $(\"#\" + id);\n",
       "    var ws_proxy = comm_websocket_adapter(comm)\n",
       "\n",
       "    function ondownload(figure, format) {\n",
       "        window.open(figure.imageObj.src);\n",
       "    }\n",
       "\n",
       "    var fig = new mpl.figure(id, ws_proxy,\n",
       "                           ondownload,\n",
       "                           element.get(0));\n",
       "\n",
       "    // Call onopen now - mpl needs it, as it is assuming we've passed it a real\n",
       "    // web socket which is closed, not our websocket->open comm proxy.\n",
       "    ws_proxy.onopen();\n",
       "\n",
       "    fig.parent_element = element.get(0);\n",
       "    fig.cell_info = mpl.find_output_cell(\"<div id='\" + id + \"'></div>\");\n",
       "    if (!fig.cell_info) {\n",
       "        console.error(\"Failed to find cell for figure\", id, fig);\n",
       "        return;\n",
       "    }\n",
       "\n",
       "    var output_index = fig.cell_info[2]\n",
       "    var cell = fig.cell_info[0];\n",
       "\n",
       "};\n",
       "\n",
       "mpl.figure.prototype.handle_close = function(fig, msg) {\n",
       "    var width = fig.canvas.width/mpl.ratio\n",
       "    fig.root.unbind('remove')\n",
       "\n",
       "    // Update the output cell to use the data from the current canvas.\n",
       "    fig.push_to_output();\n",
       "    var dataURL = fig.canvas.toDataURL();\n",
       "    // Re-enable the keyboard manager in IPython - without this line, in FF,\n",
       "    // the notebook keyboard shortcuts fail.\n",
       "    IPython.keyboard_manager.enable()\n",
       "    $(fig.parent_element).html('<img src=\"' + dataURL + '\" width=\"' + width + '\">');\n",
       "    fig.close_ws(fig, msg);\n",
       "}\n",
       "\n",
       "mpl.figure.prototype.close_ws = function(fig, msg){\n",
       "    fig.send_message('closing', msg);\n",
       "    // fig.ws.close()\n",
       "}\n",
       "\n",
       "mpl.figure.prototype.push_to_output = function(remove_interactive) {\n",
       "    // Turn the data on the canvas into data in the output cell.\n",
       "    var width = this.canvas.width/mpl.ratio\n",
       "    var dataURL = this.canvas.toDataURL();\n",
       "    this.cell_info[1]['text/html'] = '<img src=\"' + dataURL + '\" width=\"' + width + '\">';\n",
       "}\n",
       "\n",
       "mpl.figure.prototype.updated_canvas_event = function() {\n",
       "    // Tell IPython that the notebook contents must change.\n",
       "    IPython.notebook.set_dirty(true);\n",
       "    this.send_message(\"ack\", {});\n",
       "    var fig = this;\n",
       "    // Wait a second, then push the new image to the DOM so\n",
       "    // that it is saved nicely (might be nice to debounce this).\n",
       "    setTimeout(function () { fig.push_to_output() }, 1000);\n",
       "}\n",
       "\n",
       "mpl.figure.prototype._init_toolbar = function() {\n",
       "    var fig = this;\n",
       "\n",
       "    var nav_element = $('<div/>')\n",
       "    nav_element.attr('style', 'width: 100%');\n",
       "    this.root.append(nav_element);\n",
       "\n",
       "    // Define a callback function for later on.\n",
       "    function toolbar_event(event) {\n",
       "        return fig.toolbar_button_onclick(event['data']);\n",
       "    }\n",
       "    function toolbar_mouse_event(event) {\n",
       "        return fig.toolbar_button_onmouseover(event['data']);\n",
       "    }\n",
       "\n",
       "    for(var toolbar_ind in mpl.toolbar_items){\n",
       "        var name = mpl.toolbar_items[toolbar_ind][0];\n",
       "        var tooltip = mpl.toolbar_items[toolbar_ind][1];\n",
       "        var image = mpl.toolbar_items[toolbar_ind][2];\n",
       "        var method_name = mpl.toolbar_items[toolbar_ind][3];\n",
       "\n",
       "        if (!name) { continue; };\n",
       "\n",
       "        var button = $('<button class=\"btn btn-default\" href=\"#\" title=\"' + name + '\"><i class=\"fa ' + image + ' fa-lg\"></i></button>');\n",
       "        button.click(method_name, toolbar_event);\n",
       "        button.mouseover(tooltip, toolbar_mouse_event);\n",
       "        nav_element.append(button);\n",
       "    }\n",
       "\n",
       "    // Add the status bar.\n",
       "    var status_bar = $('<span class=\"mpl-message\" style=\"text-align:right; float: right;\"/>');\n",
       "    nav_element.append(status_bar);\n",
       "    this.message = status_bar[0];\n",
       "\n",
       "    // Add the close button to the window.\n",
       "    var buttongrp = $('<div class=\"btn-group inline pull-right\"></div>');\n",
       "    var button = $('<button class=\"btn btn-mini btn-primary\" href=\"#\" title=\"Stop Interaction\"><i class=\"fa fa-power-off icon-remove icon-large\"></i></button>');\n",
       "    button.click(function (evt) { fig.handle_close(fig, {}); } );\n",
       "    button.mouseover('Stop Interaction', toolbar_mouse_event);\n",
       "    buttongrp.append(button);\n",
       "    var titlebar = this.root.find($('.ui-dialog-titlebar'));\n",
       "    titlebar.prepend(buttongrp);\n",
       "}\n",
       "\n",
       "mpl.figure.prototype._root_extra_style = function(el){\n",
       "    var fig = this\n",
       "    el.on(\"remove\", function(){\n",
       "\tfig.close_ws(fig, {});\n",
       "    });\n",
       "}\n",
       "\n",
       "mpl.figure.prototype._canvas_extra_style = function(el){\n",
       "    // this is important to make the div 'focusable\n",
       "    el.attr('tabindex', 0)\n",
       "    // reach out to IPython and tell the keyboard manager to turn it's self\n",
       "    // off when our div gets focus\n",
       "\n",
       "    // location in version 3\n",
       "    if (IPython.notebook.keyboard_manager) {\n",
       "        IPython.notebook.keyboard_manager.register_events(el);\n",
       "    }\n",
       "    else {\n",
       "        // location in version 2\n",
       "        IPython.keyboard_manager.register_events(el);\n",
       "    }\n",
       "\n",
       "}\n",
       "\n",
       "mpl.figure.prototype._key_event_extra = function(event, name) {\n",
       "    var manager = IPython.notebook.keyboard_manager;\n",
       "    if (!manager)\n",
       "        manager = IPython.keyboard_manager;\n",
       "\n",
       "    // Check for shift+enter\n",
       "    if (event.shiftKey && event.which == 13) {\n",
       "        this.canvas_div.blur();\n",
       "        // select the cell after this one\n",
       "        var index = IPython.notebook.find_cell_index(this.cell_info[0]);\n",
       "        IPython.notebook.select(index + 1);\n",
       "    }\n",
       "}\n",
       "\n",
       "mpl.figure.prototype.handle_save = function(fig, msg) {\n",
       "    fig.ondownload(fig, null);\n",
       "}\n",
       "\n",
       "\n",
       "mpl.find_output_cell = function(html_output) {\n",
       "    // Return the cell and output element which can be found *uniquely* in the notebook.\n",
       "    // Note - this is a bit hacky, but it is done because the \"notebook_saving.Notebook\"\n",
       "    // IPython event is triggered only after the cells have been serialised, which for\n",
       "    // our purposes (turning an active figure into a static one), is too late.\n",
       "    var cells = IPython.notebook.get_cells();\n",
       "    var ncells = cells.length;\n",
       "    for (var i=0; i<ncells; i++) {\n",
       "        var cell = cells[i];\n",
       "        if (cell.cell_type === 'code'){\n",
       "            for (var j=0; j<cell.output_area.outputs.length; j++) {\n",
       "                var data = cell.output_area.outputs[j];\n",
       "                if (data.data) {\n",
       "                    // IPython >= 3 moved mimebundle to data attribute of output\n",
       "                    data = data.data;\n",
       "                }\n",
       "                if (data['text/html'] == html_output) {\n",
       "                    return [cell, data, j];\n",
       "                }\n",
       "            }\n",
       "        }\n",
       "    }\n",
       "}\n",
       "\n",
       "// Register the function which deals with the matplotlib target/channel.\n",
       "// The kernel may be null if the page has been refreshed.\n",
       "if (IPython.notebook.kernel != null) {\n",
       "    IPython.notebook.kernel.comm_manager.register_target('matplotlib', mpl.mpl_figure_comm);\n",
       "}\n"
      ],
      "text/plain": [
       "<IPython.core.display.Javascript object>"
      ]
     },
     "metadata": {},
     "output_type": "display_data"
    },
    {
     "data": {
      "text/html": [
       "<img src=\"data:image/png;base64,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\" width=\"640\">"
      ],
      "text/plain": [
       "<IPython.core.display.HTML object>"
      ]
     },
     "metadata": {},
     "output_type": "display_data"
    }
   ],
   "source": [
    "fig,ax = plt.subplots()"
   ]
  },
  {
   "cell_type": "code",
   "execution_count": 94,
   "metadata": {
    "collapsed": false
   },
   "outputs": [
    {
     "data": {
      "text/plain": [
       "<matplotlib.text.Text at 0x10b5b8518>"
      ]
     },
     "execution_count": 94,
     "metadata": {},
     "output_type": "execute_result"
    }
   ],
   "source": [
    "ax.set_xlabel('n_neighbors')"
   ]
  },
  {
   "cell_type": "code",
   "execution_count": 95,
   "metadata": {
    "collapsed": false
   },
   "outputs": [
    {
     "data": {
      "text/plain": [
       "<matplotlib.text.Text at 0x10b2e8c50>"
      ]
     },
     "execution_count": 95,
     "metadata": {},
     "output_type": "execute_result"
    }
   ],
   "source": [
    "ax.set_ylabel('Accuracy')"
   ]
  },
  {
   "cell_type": "code",
   "execution_count": 96,
   "metadata": {
    "collapsed": false,
    "deletable": true,
    "editable": true
   },
   "outputs": [
    {
     "data": {
      "text/plain": [
       "[<matplotlib.lines.Line2D at 0x10b6061d0>]"
      ]
     },
     "execution_count": 96,
     "metadata": {},
     "output_type": "execute_result"
    }
   ],
   "source": [
    "ax.plot(neighbor_values,test_accuracy,label='Test accuracy')"
   ]
  },
  {
   "cell_type": "code",
   "execution_count": 98,
   "metadata": {
    "collapsed": false
   },
   "outputs": [
    {
     "data": {
      "text/plain": [
       "[<matplotlib.lines.Line2D at 0x109c5e1d0>]"
      ]
     },
     "execution_count": 98,
     "metadata": {},
     "output_type": "execute_result"
    }
   ],
   "source": [
    "ax.plot(neighbor_values,training_accuracy,label='Training accuracy')"
   ]
  },
  {
   "cell_type": "code",
   "execution_count": 99,
   "metadata": {
    "collapsed": false
   },
   "outputs": [
    {
     "data": {
      "text/plain": [
       "<matplotlib.legend.Legend at 0x109cfa6d8>"
      ]
     },
     "execution_count": 99,
     "metadata": {},
     "output_type": "execute_result"
    }
   ],
   "source": [
    "ax.legend()"
   ]
  },
  {
   "cell_type": "code",
   "execution_count": null,
   "metadata": {
    "collapsed": true
   },
   "outputs": [],
   "source": []
  }
 ],
 "metadata": {
  "kernelspec": {
   "display_name": "demres_kernel",
   "language": "python",
   "name": "demres_kernel"
  },
  "language_info": {
   "codemirror_mode": {
    "name": "ipython",
    "version": 3
   },
   "file_extension": ".py",
   "mimetype": "text/x-python",
   "name": "python",
   "nbconvert_exporter": "python",
   "pygments_lexer": "ipython3",
   "version": "3.5.0"
  }
 },
 "nbformat": 4,
 "nbformat_minor": 2
}
