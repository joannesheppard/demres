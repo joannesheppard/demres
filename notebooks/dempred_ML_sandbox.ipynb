{
 "cells": [
  {
   "cell_type": "code",
   "execution_count": 81,
   "metadata": {
    "collapsed": false,
    "deletable": true,
    "editable": true
   },
   "outputs": [
    {
     "name": "stdout",
     "output_type": "stream",
     "text": [
      "The autoreload extension is already loaded. To reload it, use:\n",
      "  %reload_ext autoreload\n"
     ]
    }
   ],
   "source": [
    "%load_ext autoreload\n",
    "%autoreload 2"
   ]
  },
  {
   "cell_type": "code",
   "execution_count": 82,
   "metadata": {
    "collapsed": false,
    "deletable": true,
    "editable": true
   },
   "outputs": [
    {
     "name": "stdout",
     "output_type": "stream",
     "text": [
      "/Users/zurfarosa/demres\n"
     ]
    }
   ],
   "source": [
    "cd ~/demres"
   ]
  },
  {
   "cell_type": "code",
   "execution_count": 83,
   "metadata": {
    "collapsed": false,
    "deletable": true,
    "editable": true
   },
   "outputs": [],
   "source": [
    "# from IPython.core.display import display, HTML\n",
    "# display(HTML(\"<style>.container { width:95% !important; }</style>\"))"
   ]
  },
  {
   "cell_type": "code",
   "execution_count": 84,
   "metadata": {
    "collapsed": false,
    "deletable": true,
    "editable": true
   },
   "outputs": [],
   "source": [
    "import os\n",
    "import sys\n",
    "from pprint import pprint\n",
    "\n",
    "import pandas as pd\n",
    "import numpy as np\n",
    "\n",
    "module_path = os.path.abspath(os.path.join('..'))\n",
    "if module_path not in sys.path:\n",
    "    sys.path.append(module_path)\n",
    "\n",
    "from sklearn.model_selection import train_test_split\n",
    "from sklearn.datasets import load_breast_cancer\n",
    "\n",
    "from sklearn.linear_model import LogisticRegression\n",
    "from sklearn.naive_bayes import GaussianNB\n",
    "from sklearn.tree import DecisionTreeClassifier"
   ]
  },
  {
   "cell_type": "code",
   "execution_count": 85,
   "metadata": {
    "collapsed": false,
    "deletable": true,
    "editable": true
   },
   "outputs": [],
   "source": [
    "pt_features = pd.read_csv('data/pt_data/processed_data/pt_features_dempred.csv',delimiter=',')[['isCase','mood_stabilisers_pdds','sedatives_pdds','sgas_pdds','fga_depots_pdds','antidepressants_pdds']]"
   ]
  },
  {
   "cell_type": "code",
   "execution_count": 86,
   "metadata": {
    "collapsed": false,
    "deletable": true,
    "editable": true
   },
   "outputs": [],
   "source": [
    "pt_features.fillna(value=0,inplace=True)"
   ]
  },
  {
   "cell_type": "code",
   "execution_count": 87,
   "metadata": {
    "collapsed": false,
    "deletable": true,
    "editable": true
   },
   "outputs": [],
   "source": [
    "mask = (pt_features['mood_stabilisers_pdds']==0)&(pt_features['sedatives_pdds']==0)&(pt_features['sgas_pdds']==0)&(pt_features['fga_depots_pdds']==0)&(pt_features['antidepressants_pdds']==0)"
   ]
  },
  {
   "cell_type": "code",
   "execution_count": 88,
   "metadata": {
    "collapsed": false
   },
   "outputs": [
    {
     "data": {
      "text/html": [
       "<div>\n",
       "<table border=\"1\" class=\"dataframe\">\n",
       "  <thead>\n",
       "    <tr style=\"text-align: right;\">\n",
       "      <th></th>\n",
       "      <th>isCase</th>\n",
       "      <th>mood_stabilisers_pdds</th>\n",
       "      <th>sedatives_pdds</th>\n",
       "      <th>sgas_pdds</th>\n",
       "      <th>fga_depots_pdds</th>\n",
       "      <th>antidepressants_pdds</th>\n",
       "    </tr>\n",
       "  </thead>\n",
       "  <tbody>\n",
       "    <tr>\n",
       "      <th>6</th>\n",
       "      <td>True</td>\n",
       "      <td>0.00</td>\n",
       "      <td>1005.79</td>\n",
       "      <td>171.23</td>\n",
       "      <td>0.0</td>\n",
       "      <td>0.00</td>\n",
       "    </tr>\n",
       "    <tr>\n",
       "      <th>7</th>\n",
       "      <td>True</td>\n",
       "      <td>610.68</td>\n",
       "      <td>478.93</td>\n",
       "      <td>0.00</td>\n",
       "      <td>0.0</td>\n",
       "      <td>0.00</td>\n",
       "    </tr>\n",
       "    <tr>\n",
       "      <th>9</th>\n",
       "      <td>True</td>\n",
       "      <td>765.45</td>\n",
       "      <td>596.55</td>\n",
       "      <td>0.00</td>\n",
       "      <td>0.0</td>\n",
       "      <td>0.00</td>\n",
       "    </tr>\n",
       "    <tr>\n",
       "      <th>13</th>\n",
       "      <td>True</td>\n",
       "      <td>0.00</td>\n",
       "      <td>0.00</td>\n",
       "      <td>106.72</td>\n",
       "      <td>0.0</td>\n",
       "      <td>167.17</td>\n",
       "    </tr>\n",
       "    <tr>\n",
       "      <th>14</th>\n",
       "      <td>True</td>\n",
       "      <td>0.00</td>\n",
       "      <td>26.82</td>\n",
       "      <td>0.00</td>\n",
       "      <td>0.0</td>\n",
       "      <td>0.00</td>\n",
       "    </tr>\n",
       "    <tr>\n",
       "      <th>25</th>\n",
       "      <td>True</td>\n",
       "      <td>0.00</td>\n",
       "      <td>0.00</td>\n",
       "      <td>0.00</td>\n",
       "      <td>0.0</td>\n",
       "      <td>2309.47</td>\n",
       "    </tr>\n",
       "    <tr>\n",
       "      <th>33</th>\n",
       "      <td>True</td>\n",
       "      <td>0.00</td>\n",
       "      <td>108.78</td>\n",
       "      <td>229.87</td>\n",
       "      <td>0.0</td>\n",
       "      <td>0.00</td>\n",
       "    </tr>\n",
       "    <tr>\n",
       "      <th>35</th>\n",
       "      <td>True</td>\n",
       "      <td>0.00</td>\n",
       "      <td>1415.49</td>\n",
       "      <td>1149.33</td>\n",
       "      <td>0.0</td>\n",
       "      <td>0.00</td>\n",
       "    </tr>\n",
       "    <tr>\n",
       "      <th>42</th>\n",
       "      <td>True</td>\n",
       "      <td>0.00</td>\n",
       "      <td>0.00</td>\n",
       "      <td>0.00</td>\n",
       "      <td>0.0</td>\n",
       "      <td>1370.25</td>\n",
       "    </tr>\n",
       "    <tr>\n",
       "      <th>45</th>\n",
       "      <td>True</td>\n",
       "      <td>0.00</td>\n",
       "      <td>1132.14</td>\n",
       "      <td>0.00</td>\n",
       "      <td>0.0</td>\n",
       "      <td>32.27</td>\n",
       "    </tr>\n",
       "    <tr>\n",
       "      <th>50</th>\n",
       "      <td>True</td>\n",
       "      <td>0.00</td>\n",
       "      <td>0.00</td>\n",
       "      <td>0.00</td>\n",
       "      <td>0.0</td>\n",
       "      <td>919.61</td>\n",
       "    </tr>\n",
       "    <tr>\n",
       "      <th>53</th>\n",
       "      <td>True</td>\n",
       "      <td>0.00</td>\n",
       "      <td>0.00</td>\n",
       "      <td>351.84</td>\n",
       "      <td>0.0</td>\n",
       "      <td>0.00</td>\n",
       "    </tr>\n",
       "    <tr>\n",
       "      <th>61</th>\n",
       "      <td>True</td>\n",
       "      <td>0.00</td>\n",
       "      <td>74.50</td>\n",
       "      <td>0.00</td>\n",
       "      <td>0.0</td>\n",
       "      <td>0.00</td>\n",
       "    </tr>\n",
       "    <tr>\n",
       "      <th>62</th>\n",
       "      <td>True</td>\n",
       "      <td>0.00</td>\n",
       "      <td>0.00</td>\n",
       "      <td>0.00</td>\n",
       "      <td>0.0</td>\n",
       "      <td>580.81</td>\n",
       "    </tr>\n",
       "    <tr>\n",
       "      <th>71</th>\n",
       "      <td>True</td>\n",
       "      <td>0.00</td>\n",
       "      <td>392.00</td>\n",
       "      <td>197.03</td>\n",
       "      <td>0.0</td>\n",
       "      <td>292.75</td>\n",
       "    </tr>\n",
       "    <tr>\n",
       "      <th>75</th>\n",
       "      <td>True</td>\n",
       "      <td>0.00</td>\n",
       "      <td>25.21</td>\n",
       "      <td>65.68</td>\n",
       "      <td>0.0</td>\n",
       "      <td>32.27</td>\n",
       "    </tr>\n",
       "    <tr>\n",
       "      <th>79</th>\n",
       "      <td>True</td>\n",
       "      <td>0.00</td>\n",
       "      <td>0.00</td>\n",
       "      <td>0.00</td>\n",
       "      <td>0.0</td>\n",
       "      <td>26.94</td>\n",
       "    </tr>\n",
       "    <tr>\n",
       "      <th>84</th>\n",
       "      <td>True</td>\n",
       "      <td>0.00</td>\n",
       "      <td>1025.31</td>\n",
       "      <td>0.00</td>\n",
       "      <td>0.0</td>\n",
       "      <td>247.68</td>\n",
       "    </tr>\n",
       "    <tr>\n",
       "      <th>85</th>\n",
       "      <td>True</td>\n",
       "      <td>0.00</td>\n",
       "      <td>0.00</td>\n",
       "      <td>295.54</td>\n",
       "      <td>0.0</td>\n",
       "      <td>0.00</td>\n",
       "    </tr>\n",
       "    <tr>\n",
       "      <th>101</th>\n",
       "      <td>True</td>\n",
       "      <td>0.00</td>\n",
       "      <td>0.00</td>\n",
       "      <td>0.00</td>\n",
       "      <td>0.0</td>\n",
       "      <td>16.13</td>\n",
       "    </tr>\n",
       "    <tr>\n",
       "      <th>102</th>\n",
       "      <td>True</td>\n",
       "      <td>0.00</td>\n",
       "      <td>0.00</td>\n",
       "      <td>0.00</td>\n",
       "      <td>0.0</td>\n",
       "      <td>738.44</td>\n",
       "    </tr>\n",
       "    <tr>\n",
       "      <th>105</th>\n",
       "      <td>True</td>\n",
       "      <td>0.00</td>\n",
       "      <td>32.70</td>\n",
       "      <td>0.00</td>\n",
       "      <td>0.0</td>\n",
       "      <td>0.00</td>\n",
       "    </tr>\n",
       "    <tr>\n",
       "      <th>111</th>\n",
       "      <td>True</td>\n",
       "      <td>0.00</td>\n",
       "      <td>1235.15</td>\n",
       "      <td>0.00</td>\n",
       "      <td>0.0</td>\n",
       "      <td>1149.81</td>\n",
       "    </tr>\n",
       "    <tr>\n",
       "      <th>118</th>\n",
       "      <td>True</td>\n",
       "      <td>0.00</td>\n",
       "      <td>18.09</td>\n",
       "      <td>0.00</td>\n",
       "      <td>0.0</td>\n",
       "      <td>0.00</td>\n",
       "    </tr>\n",
       "    <tr>\n",
       "      <th>119</th>\n",
       "      <td>True</td>\n",
       "      <td>0.00</td>\n",
       "      <td>111.75</td>\n",
       "      <td>47.43</td>\n",
       "      <td>0.0</td>\n",
       "      <td>114.93</td>\n",
       "    </tr>\n",
       "    <tr>\n",
       "      <th>121</th>\n",
       "      <td>True</td>\n",
       "      <td>0.00</td>\n",
       "      <td>0.00</td>\n",
       "      <td>469.11</td>\n",
       "      <td>0.0</td>\n",
       "      <td>0.00</td>\n",
       "    </tr>\n",
       "    <tr>\n",
       "      <th>122</th>\n",
       "      <td>True</td>\n",
       "      <td>0.00</td>\n",
       "      <td>58.83</td>\n",
       "      <td>0.00</td>\n",
       "      <td>0.0</td>\n",
       "      <td>0.00</td>\n",
       "    </tr>\n",
       "    <tr>\n",
       "      <th>123</th>\n",
       "      <td>True</td>\n",
       "      <td>0.00</td>\n",
       "      <td>0.00</td>\n",
       "      <td>0.00</td>\n",
       "      <td>0.0</td>\n",
       "      <td>124.38</td>\n",
       "    </tr>\n",
       "    <tr>\n",
       "      <th>125</th>\n",
       "      <td>True</td>\n",
       "      <td>0.00</td>\n",
       "      <td>4.66</td>\n",
       "      <td>0.00</td>\n",
       "      <td>0.0</td>\n",
       "      <td>201.12</td>\n",
       "    </tr>\n",
       "    <tr>\n",
       "      <th>126</th>\n",
       "      <td>True</td>\n",
       "      <td>0.00</td>\n",
       "      <td>0.00</td>\n",
       "      <td>0.00</td>\n",
       "      <td>0.0</td>\n",
       "      <td>712.51</td>\n",
       "    </tr>\n",
       "    <tr>\n",
       "      <th>...</th>\n",
       "      <td>...</td>\n",
       "      <td>...</td>\n",
       "      <td>...</td>\n",
       "      <td>...</td>\n",
       "      <td>...</td>\n",
       "      <td>...</td>\n",
       "    </tr>\n",
       "    <tr>\n",
       "      <th>69233</th>\n",
       "      <td>True</td>\n",
       "      <td>0.00</td>\n",
       "      <td>80.15</td>\n",
       "      <td>0.00</td>\n",
       "      <td>0.0</td>\n",
       "      <td>0.00</td>\n",
       "    </tr>\n",
       "    <tr>\n",
       "      <th>69253</th>\n",
       "      <td>True</td>\n",
       "      <td>10164.11</td>\n",
       "      <td>57.25</td>\n",
       "      <td>0.00</td>\n",
       "      <td>0.0</td>\n",
       "      <td>0.00</td>\n",
       "    </tr>\n",
       "    <tr>\n",
       "      <th>69254</th>\n",
       "      <td>False</td>\n",
       "      <td>0.00</td>\n",
       "      <td>748.02</td>\n",
       "      <td>0.00</td>\n",
       "      <td>0.0</td>\n",
       "      <td>0.00</td>\n",
       "    </tr>\n",
       "    <tr>\n",
       "      <th>69262</th>\n",
       "      <td>True</td>\n",
       "      <td>0.00</td>\n",
       "      <td>0.00</td>\n",
       "      <td>0.00</td>\n",
       "      <td>0.0</td>\n",
       "      <td>159.86</td>\n",
       "    </tr>\n",
       "    <tr>\n",
       "      <th>69297</th>\n",
       "      <td>False</td>\n",
       "      <td>0.00</td>\n",
       "      <td>0.00</td>\n",
       "      <td>0.00</td>\n",
       "      <td>0.0</td>\n",
       "      <td>14.37</td>\n",
       "    </tr>\n",
       "    <tr>\n",
       "      <th>69327</th>\n",
       "      <td>False</td>\n",
       "      <td>0.00</td>\n",
       "      <td>0.00</td>\n",
       "      <td>0.00</td>\n",
       "      <td>0.0</td>\n",
       "      <td>2616.60</td>\n",
       "    </tr>\n",
       "    <tr>\n",
       "      <th>69329</th>\n",
       "      <td>True</td>\n",
       "      <td>144.83</td>\n",
       "      <td>0.00</td>\n",
       "      <td>0.00</td>\n",
       "      <td>0.0</td>\n",
       "      <td>724.91</td>\n",
       "    </tr>\n",
       "    <tr>\n",
       "      <th>69332</th>\n",
       "      <td>False</td>\n",
       "      <td>6353.52</td>\n",
       "      <td>0.00</td>\n",
       "      <td>0.00</td>\n",
       "      <td>0.0</td>\n",
       "      <td>0.00</td>\n",
       "    </tr>\n",
       "    <tr>\n",
       "      <th>69335</th>\n",
       "      <td>True</td>\n",
       "      <td>0.00</td>\n",
       "      <td>1882.77</td>\n",
       "      <td>0.00</td>\n",
       "      <td>0.0</td>\n",
       "      <td>1046.82</td>\n",
       "    </tr>\n",
       "    <tr>\n",
       "      <th>69336</th>\n",
       "      <td>True</td>\n",
       "      <td>0.00</td>\n",
       "      <td>1808.48</td>\n",
       "      <td>0.00</td>\n",
       "      <td>0.0</td>\n",
       "      <td>0.00</td>\n",
       "    </tr>\n",
       "    <tr>\n",
       "      <th>69339</th>\n",
       "      <td>True</td>\n",
       "      <td>0.00</td>\n",
       "      <td>70.07</td>\n",
       "      <td>0.00</td>\n",
       "      <td>0.0</td>\n",
       "      <td>0.00</td>\n",
       "    </tr>\n",
       "    <tr>\n",
       "      <th>69358</th>\n",
       "      <td>True</td>\n",
       "      <td>0.00</td>\n",
       "      <td>252.07</td>\n",
       "      <td>0.00</td>\n",
       "      <td>0.0</td>\n",
       "      <td>0.00</td>\n",
       "    </tr>\n",
       "    <tr>\n",
       "      <th>69366</th>\n",
       "      <td>False</td>\n",
       "      <td>0.00</td>\n",
       "      <td>378.38</td>\n",
       "      <td>0.00</td>\n",
       "      <td>0.0</td>\n",
       "      <td>129.07</td>\n",
       "    </tr>\n",
       "    <tr>\n",
       "      <th>69370</th>\n",
       "      <td>True</td>\n",
       "      <td>14116.82</td>\n",
       "      <td>0.00</td>\n",
       "      <td>0.00</td>\n",
       "      <td>0.0</td>\n",
       "      <td>430.97</td>\n",
       "    </tr>\n",
       "    <tr>\n",
       "      <th>69381</th>\n",
       "      <td>True</td>\n",
       "      <td>0.00</td>\n",
       "      <td>1089.55</td>\n",
       "      <td>0.00</td>\n",
       "      <td>0.0</td>\n",
       "      <td>2413.96</td>\n",
       "    </tr>\n",
       "    <tr>\n",
       "      <th>69386</th>\n",
       "      <td>False</td>\n",
       "      <td>0.00</td>\n",
       "      <td>209.15</td>\n",
       "      <td>0.00</td>\n",
       "      <td>0.0</td>\n",
       "      <td>0.00</td>\n",
       "    </tr>\n",
       "    <tr>\n",
       "      <th>69394</th>\n",
       "      <td>True</td>\n",
       "      <td>0.00</td>\n",
       "      <td>0.00</td>\n",
       "      <td>0.00</td>\n",
       "      <td>0.0</td>\n",
       "      <td>441.65</td>\n",
       "    </tr>\n",
       "    <tr>\n",
       "      <th>69398</th>\n",
       "      <td>False</td>\n",
       "      <td>0.00</td>\n",
       "      <td>0.00</td>\n",
       "      <td>0.00</td>\n",
       "      <td>0.0</td>\n",
       "      <td>35.91</td>\n",
       "    </tr>\n",
       "    <tr>\n",
       "      <th>69405</th>\n",
       "      <td>True</td>\n",
       "      <td>0.00</td>\n",
       "      <td>0.00</td>\n",
       "      <td>0.00</td>\n",
       "      <td>0.0</td>\n",
       "      <td>14.37</td>\n",
       "    </tr>\n",
       "    <tr>\n",
       "      <th>69408</th>\n",
       "      <td>False</td>\n",
       "      <td>0.00</td>\n",
       "      <td>1296.33</td>\n",
       "      <td>0.00</td>\n",
       "      <td>0.0</td>\n",
       "      <td>0.00</td>\n",
       "    </tr>\n",
       "    <tr>\n",
       "      <th>69411</th>\n",
       "      <td>False</td>\n",
       "      <td>0.00</td>\n",
       "      <td>0.00</td>\n",
       "      <td>0.00</td>\n",
       "      <td>0.0</td>\n",
       "      <td>14.37</td>\n",
       "    </tr>\n",
       "    <tr>\n",
       "      <th>69413</th>\n",
       "      <td>True</td>\n",
       "      <td>0.00</td>\n",
       "      <td>0.00</td>\n",
       "      <td>0.00</td>\n",
       "      <td>0.0</td>\n",
       "      <td>2034.38</td>\n",
       "    </tr>\n",
       "    <tr>\n",
       "      <th>69414</th>\n",
       "      <td>True</td>\n",
       "      <td>0.00</td>\n",
       "      <td>0.00</td>\n",
       "      <td>0.00</td>\n",
       "      <td>0.0</td>\n",
       "      <td>144.69</td>\n",
       "    </tr>\n",
       "    <tr>\n",
       "      <th>69415</th>\n",
       "      <td>True</td>\n",
       "      <td>0.00</td>\n",
       "      <td>97.97</td>\n",
       "      <td>0.00</td>\n",
       "      <td>0.0</td>\n",
       "      <td>1864.64</td>\n",
       "    </tr>\n",
       "    <tr>\n",
       "      <th>69430</th>\n",
       "      <td>True</td>\n",
       "      <td>0.00</td>\n",
       "      <td>0.00</td>\n",
       "      <td>0.00</td>\n",
       "      <td>0.0</td>\n",
       "      <td>1976.24</td>\n",
       "    </tr>\n",
       "    <tr>\n",
       "      <th>69431</th>\n",
       "      <td>True</td>\n",
       "      <td>0.00</td>\n",
       "      <td>0.00</td>\n",
       "      <td>82.09</td>\n",
       "      <td>0.0</td>\n",
       "      <td>531.53</td>\n",
       "    </tr>\n",
       "    <tr>\n",
       "      <th>69435</th>\n",
       "      <td>False</td>\n",
       "      <td>0.00</td>\n",
       "      <td>32.70</td>\n",
       "      <td>0.00</td>\n",
       "      <td>0.0</td>\n",
       "      <td>0.00</td>\n",
       "    </tr>\n",
       "    <tr>\n",
       "      <th>69436</th>\n",
       "      <td>True</td>\n",
       "      <td>0.00</td>\n",
       "      <td>0.00</td>\n",
       "      <td>0.00</td>\n",
       "      <td>0.0</td>\n",
       "      <td>28.73</td>\n",
       "    </tr>\n",
       "    <tr>\n",
       "      <th>69439</th>\n",
       "      <td>True</td>\n",
       "      <td>0.00</td>\n",
       "      <td>0.00</td>\n",
       "      <td>0.00</td>\n",
       "      <td>0.0</td>\n",
       "      <td>1782.86</td>\n",
       "    </tr>\n",
       "    <tr>\n",
       "      <th>69443</th>\n",
       "      <td>True</td>\n",
       "      <td>0.00</td>\n",
       "      <td>0.00</td>\n",
       "      <td>0.00</td>\n",
       "      <td>0.0</td>\n",
       "      <td>619.34</td>\n",
       "    </tr>\n",
       "  </tbody>\n",
       "</table>\n",
       "<p>13736 rows × 6 columns</p>\n",
       "</div>"
      ],
      "text/plain": [
       "      isCase  mood_stabilisers_pdds  sedatives_pdds  sgas_pdds  \\\n",
       "6       True                   0.00         1005.79     171.23   \n",
       "7       True                 610.68          478.93       0.00   \n",
       "9       True                 765.45          596.55       0.00   \n",
       "13      True                   0.00            0.00     106.72   \n",
       "14      True                   0.00           26.82       0.00   \n",
       "25      True                   0.00            0.00       0.00   \n",
       "33      True                   0.00          108.78     229.87   \n",
       "35      True                   0.00         1415.49    1149.33   \n",
       "42      True                   0.00            0.00       0.00   \n",
       "45      True                   0.00         1132.14       0.00   \n",
       "50      True                   0.00            0.00       0.00   \n",
       "53      True                   0.00            0.00     351.84   \n",
       "61      True                   0.00           74.50       0.00   \n",
       "62      True                   0.00            0.00       0.00   \n",
       "71      True                   0.00          392.00     197.03   \n",
       "75      True                   0.00           25.21      65.68   \n",
       "79      True                   0.00            0.00       0.00   \n",
       "84      True                   0.00         1025.31       0.00   \n",
       "85      True                   0.00            0.00     295.54   \n",
       "101     True                   0.00            0.00       0.00   \n",
       "102     True                   0.00            0.00       0.00   \n",
       "105     True                   0.00           32.70       0.00   \n",
       "111     True                   0.00         1235.15       0.00   \n",
       "118     True                   0.00           18.09       0.00   \n",
       "119     True                   0.00          111.75      47.43   \n",
       "121     True                   0.00            0.00     469.11   \n",
       "122     True                   0.00           58.83       0.00   \n",
       "123     True                   0.00            0.00       0.00   \n",
       "125     True                   0.00            4.66       0.00   \n",
       "126     True                   0.00            0.00       0.00   \n",
       "...      ...                    ...             ...        ...   \n",
       "69233   True                   0.00           80.15       0.00   \n",
       "69253   True               10164.11           57.25       0.00   \n",
       "69254  False                   0.00          748.02       0.00   \n",
       "69262   True                   0.00            0.00       0.00   \n",
       "69297  False                   0.00            0.00       0.00   \n",
       "69327  False                   0.00            0.00       0.00   \n",
       "69329   True                 144.83            0.00       0.00   \n",
       "69332  False                6353.52            0.00       0.00   \n",
       "69335   True                   0.00         1882.77       0.00   \n",
       "69336   True                   0.00         1808.48       0.00   \n",
       "69339   True                   0.00           70.07       0.00   \n",
       "69358   True                   0.00          252.07       0.00   \n",
       "69366  False                   0.00          378.38       0.00   \n",
       "69370   True               14116.82            0.00       0.00   \n",
       "69381   True                   0.00         1089.55       0.00   \n",
       "69386  False                   0.00          209.15       0.00   \n",
       "69394   True                   0.00            0.00       0.00   \n",
       "69398  False                   0.00            0.00       0.00   \n",
       "69405   True                   0.00            0.00       0.00   \n",
       "69408  False                   0.00         1296.33       0.00   \n",
       "69411  False                   0.00            0.00       0.00   \n",
       "69413   True                   0.00            0.00       0.00   \n",
       "69414   True                   0.00            0.00       0.00   \n",
       "69415   True                   0.00           97.97       0.00   \n",
       "69430   True                   0.00            0.00       0.00   \n",
       "69431   True                   0.00            0.00      82.09   \n",
       "69435  False                   0.00           32.70       0.00   \n",
       "69436   True                   0.00            0.00       0.00   \n",
       "69439   True                   0.00            0.00       0.00   \n",
       "69443   True                   0.00            0.00       0.00   \n",
       "\n",
       "       fga_depots_pdds  antidepressants_pdds  \n",
       "6                  0.0                  0.00  \n",
       "7                  0.0                  0.00  \n",
       "9                  0.0                  0.00  \n",
       "13                 0.0                167.17  \n",
       "14                 0.0                  0.00  \n",
       "25                 0.0               2309.47  \n",
       "33                 0.0                  0.00  \n",
       "35                 0.0                  0.00  \n",
       "42                 0.0               1370.25  \n",
       "45                 0.0                 32.27  \n",
       "50                 0.0                919.61  \n",
       "53                 0.0                  0.00  \n",
       "61                 0.0                  0.00  \n",
       "62                 0.0                580.81  \n",
       "71                 0.0                292.75  \n",
       "75                 0.0                 32.27  \n",
       "79                 0.0                 26.94  \n",
       "84                 0.0                247.68  \n",
       "85                 0.0                  0.00  \n",
       "101                0.0                 16.13  \n",
       "102                0.0                738.44  \n",
       "105                0.0                  0.00  \n",
       "111                0.0               1149.81  \n",
       "118                0.0                  0.00  \n",
       "119                0.0                114.93  \n",
       "121                0.0                  0.00  \n",
       "122                0.0                  0.00  \n",
       "123                0.0                124.38  \n",
       "125                0.0                201.12  \n",
       "126                0.0                712.51  \n",
       "...                ...                   ...  \n",
       "69233              0.0                  0.00  \n",
       "69253              0.0                  0.00  \n",
       "69254              0.0                  0.00  \n",
       "69262              0.0                159.86  \n",
       "69297              0.0                 14.37  \n",
       "69327              0.0               2616.60  \n",
       "69329              0.0                724.91  \n",
       "69332              0.0                  0.00  \n",
       "69335              0.0               1046.82  \n",
       "69336              0.0                  0.00  \n",
       "69339              0.0                  0.00  \n",
       "69358              0.0                  0.00  \n",
       "69366              0.0                129.07  \n",
       "69370              0.0                430.97  \n",
       "69381              0.0               2413.96  \n",
       "69386              0.0                  0.00  \n",
       "69394              0.0                441.65  \n",
       "69398              0.0                 35.91  \n",
       "69405              0.0                 14.37  \n",
       "69408              0.0                  0.00  \n",
       "69411              0.0                 14.37  \n",
       "69413              0.0               2034.38  \n",
       "69414              0.0                144.69  \n",
       "69415              0.0               1864.64  \n",
       "69430              0.0               1976.24  \n",
       "69431              0.0                531.53  \n",
       "69435              0.0                  0.00  \n",
       "69436              0.0                 28.73  \n",
       "69439              0.0               1782.86  \n",
       "69443              0.0                619.34  \n",
       "\n",
       "[13736 rows x 6 columns]"
      ]
     },
     "execution_count": 88,
     "metadata": {},
     "output_type": "execute_result"
    }
   ],
   "source": [
    "pt_features[~mask]"
   ]
  },
  {
   "cell_type": "code",
   "execution_count": 91,
   "metadata": {
    "collapsed": false
   },
   "outputs": [
    {
     "data": {
      "text/plain": [
       "34741"
      ]
     },
     "execution_count": 91,
     "metadata": {},
     "output_type": "execute_result"
    }
   ],
   "source": [
    "len(pt_features[pt_features['isCase']==True])"
   ]
  },
  {
   "cell_type": "code",
   "execution_count": 92,
   "metadata": {
    "collapsed": false,
    "deletable": true,
    "editable": true
   },
   "outputs": [
    {
     "data": {
      "text/plain": [
       "(69482, 6)"
      ]
     },
     "execution_count": 92,
     "metadata": {},
     "output_type": "execute_result"
    }
   ],
   "source": [
    "pt_features.shape"
   ]
  },
  {
   "cell_type": "code",
   "execution_count": 93,
   "metadata": {
    "collapsed": false,
    "deletable": true,
    "editable": true
   },
   "outputs": [],
   "source": [
    "X = pt_features.loc[:,['mood_stabilisers_pdds','sedatives_pdds','sgas_pdds','fga_depots_pdds','antidepressants_pdds']]"
   ]
  },
  {
   "cell_type": "code",
   "execution_count": 94,
   "metadata": {
    "collapsed": false,
    "deletable": true,
    "editable": true
   },
   "outputs": [
    {
     "data": {
      "text/plain": [
       "(69482, 5)"
      ]
     },
     "execution_count": 94,
     "metadata": {},
     "output_type": "execute_result"
    }
   ],
   "source": [
    "X.shape"
   ]
  },
  {
   "cell_type": "code",
   "execution_count": 95,
   "metadata": {
    "collapsed": false,
    "deletable": true,
    "editable": true
   },
   "outputs": [],
   "source": [
    "y = pt_features.loc[:,['isCase']].values.ravel()"
   ]
  },
  {
   "cell_type": "code",
   "execution_count": 96,
   "metadata": {
    "collapsed": false,
    "deletable": true,
    "editable": true
   },
   "outputs": [
    {
     "data": {
      "text/plain": [
       "(69482,)"
      ]
     },
     "execution_count": 96,
     "metadata": {},
     "output_type": "execute_result"
    }
   ],
   "source": [
    "y.shape"
   ]
  },
  {
   "cell_type": "code",
   "execution_count": 97,
   "metadata": {
    "collapsed": true,
    "deletable": true,
    "editable": true
   },
   "outputs": [],
   "source": [
    "X_train,X_test,y_train,y_test = train_test_split(X,y,random_state=0)"
   ]
  },
  {
   "cell_type": "code",
   "execution_count": 98,
   "metadata": {
    "collapsed": false,
    "deletable": true,
    "editable": true
   },
   "outputs": [
    {
     "data": {
      "text/plain": [
       "(17371, 5)"
      ]
     },
     "execution_count": 98,
     "metadata": {},
     "output_type": "execute_result"
    }
   ],
   "source": [
    "X_test.shape"
   ]
  },
  {
   "cell_type": "code",
   "execution_count": 99,
   "metadata": {
    "collapsed": false,
    "deletable": true,
    "editable": true
   },
   "outputs": [
    {
     "data": {
      "text/plain": [
       "(17371,)"
      ]
     },
     "execution_count": 99,
     "metadata": {},
     "output_type": "execute_result"
    }
   ],
   "source": [
    "y_test.shape"
   ]
  },
  {
   "cell_type": "code",
   "execution_count": 100,
   "metadata": {
    "collapsed": false,
    "deletable": true,
    "editable": true
   },
   "outputs": [],
   "source": [
    "lr = LogisticRegression(C=0.1).fit(X_train,y_train)"
   ]
  },
  {
   "cell_type": "code",
   "execution_count": 101,
   "metadata": {
    "collapsed": false,
    "deletable": true,
    "editable": true
   },
   "outputs": [
    {
     "data": {
      "text/plain": [
       "array([False, False, False, ..., False, False, False], dtype=bool)"
      ]
     },
     "execution_count": 101,
     "metadata": {},
     "output_type": "execute_result"
    }
   ],
   "source": [
    "lr.predict(X_test)"
   ]
  },
  {
   "cell_type": "code",
   "execution_count": 102,
   "metadata": {
    "collapsed": false,
    "deletable": true,
    "editable": true
   },
   "outputs": [
    {
     "data": {
      "text/plain": [
       "0.55385412469057627"
      ]
     },
     "execution_count": 102,
     "metadata": {},
     "output_type": "execute_result"
    }
   ],
   "source": [
    "lr.score(X_test,y_test)"
   ]
  },
  {
   "cell_type": "code",
   "execution_count": 103,
   "metadata": {
    "collapsed": false,
    "deletable": true,
    "editable": true
   },
   "outputs": [],
   "source": [
    "gnb = GaussianNB().fit(X_train,y_train)"
   ]
  },
  {
   "cell_type": "code",
   "execution_count": 104,
   "metadata": {
    "collapsed": false
   },
   "outputs": [
    {
     "data": {
      "text/plain": [
       "array([False, False, False, ..., False, False, False], dtype=bool)"
      ]
     },
     "execution_count": 104,
     "metadata": {},
     "output_type": "execute_result"
    }
   ],
   "source": [
    "gnb.predict(X_test)"
   ]
  },
  {
   "cell_type": "code",
   "execution_count": 105,
   "metadata": {
    "collapsed": false
   },
   "outputs": [
    {
     "data": {
      "text/plain": [
       "0.52685510333314145"
      ]
     },
     "execution_count": 105,
     "metadata": {},
     "output_type": "execute_result"
    }
   ],
   "source": [
    "gnb.score(X_test,y_test)"
   ]
  },
  {
   "cell_type": "code",
   "execution_count": 106,
   "metadata": {
    "collapsed": true
   },
   "outputs": [],
   "source": [
    "tree = DecisionTreeClassifier(random_state=0)"
   ]
  },
  {
   "cell_type": "code",
   "execution_count": 107,
   "metadata": {
    "collapsed": false
   },
   "outputs": [
    {
     "data": {
      "text/plain": [
       "DecisionTreeClassifier(class_weight=None, criterion='gini', max_depth=None,\n",
       "            max_features=None, max_leaf_nodes=None,\n",
       "            min_impurity_split=1e-07, min_samples_leaf=1,\n",
       "            min_samples_split=2, min_weight_fraction_leaf=0.0,\n",
       "            presort=False, random_state=0, splitter='best')"
      ]
     },
     "execution_count": 107,
     "metadata": {},
     "output_type": "execute_result"
    }
   ],
   "source": [
    "tree.fit(X_train,y_train)"
   ]
  },
  {
   "cell_type": "code",
   "execution_count": 108,
   "metadata": {
    "collapsed": false,
    "deletable": true,
    "editable": true
   },
   "outputs": [
    {
     "data": {
      "text/plain": [
       "0.61622306230930135"
      ]
     },
     "execution_count": 108,
     "metadata": {},
     "output_type": "execute_result"
    }
   ],
   "source": [
    "tree.score(X_train,y_train)"
   ]
  },
  {
   "cell_type": "code",
   "execution_count": 109,
   "metadata": {
    "collapsed": false
   },
   "outputs": [
    {
     "data": {
      "text/plain": [
       "0.55748085890276899"
      ]
     },
     "execution_count": 109,
     "metadata": {},
     "output_type": "execute_result"
    }
   ],
   "source": [
    "tree.score(X_test,y_test)"
   ]
  }
 ],
 "metadata": {
  "kernelspec": {
   "display_name": "demres_kernel",
   "language": "python",
   "name": "demres_kernel"
  },
  "language_info": {
   "codemirror_mode": {
    "name": "ipython",
    "version": 3
   },
   "file_extension": ".py",
   "mimetype": "text/x-python",
   "name": "python",
   "nbconvert_exporter": "python",
   "pygments_lexer": "ipython3",
   "version": "3.5.0"
  }
 },
 "nbformat": 4,
 "nbformat_minor": 2
}
