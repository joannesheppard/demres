{
 "cells": [
  {
   "cell_type": "code",
   "execution_count": 25,
   "metadata": {
    "collapsed": false,
    "deletable": true,
    "editable": true
   },
   "outputs": [
    {
     "name": "stdout",
     "output_type": "stream",
     "text": [
      "The autoreload extension is already loaded. To reload it, use:\n",
      "  %reload_ext autoreload\n"
     ]
    }
   ],
   "source": [
    "%load_ext autoreload\n",
    "%autoreload 1"
   ]
  },
  {
   "cell_type": "code",
   "execution_count": 26,
   "metadata": {
    "collapsed": false,
    "deletable": true,
    "editable": true
   },
   "outputs": [],
   "source": [
    "%aimport data_processing\n",
    "%aimport codelists\n",
    "%aimport constants\n",
    "%aimport import_file"
   ]
  },
  {
   "cell_type": "code",
   "execution_count": 4,
   "metadata": {
    "collapsed": false,
    "deletable": true,
    "editable": true
   },
   "outputs": [
    {
     "data": {
      "text/html": [
       "<style>.container { width:97% !important; }</style>"
      ],
      "text/plain": [
       "<IPython.core.display.HTML object>"
      ]
     },
     "metadata": {},
     "output_type": "display_data"
    }
   ],
   "source": [
    "from IPython.core.display import display, HTML\n",
    "display(HTML(\"<style>.container { width:97% !important; }</style>\"))"
   ]
  },
  {
   "cell_type": "code",
   "execution_count": 28,
   "metadata": {
    "collapsed": true,
    "deletable": true,
    "editable": true
   },
   "outputs": [],
   "source": [
    "from data_processing import *"
   ]
  },
  {
   "cell_type": "code",
   "execution_count": 5,
   "metadata": {
    "collapsed": false,
    "deletable": true,
    "editable": true
   },
   "outputs": [
    {
     "ename": "SystemError",
     "evalue": "Parent module '' not loaded, cannot perform relative import",
     "output_type": "error",
     "traceback": [
      "\u001b[0;31m---------------------------------------------------------------------------\u001b[0m",
      "\u001b[0;31mSystemError\u001b[0m                               Traceback (most recent call last)",
      "\u001b[0;32m<ipython-input-5-3a1d7184a900>\u001b[0m in \u001b[0;36m<module>\u001b[0;34m()\u001b[0m\n\u001b[0;32m----> 1\u001b[0;31m \u001b[0;32mfrom\u001b[0m \u001b[0;34m.\u001b[0m\u001b[0;34m.\u001b[0m \u001b[0;32mimport\u001b[0m \u001b[0mimport_file\u001b[0m\u001b[0;34m\u001b[0m\u001b[0m\n\u001b[0m",
      "\u001b[0;31mSystemError\u001b[0m: Parent module '' not loaded, cannot perform relative import"
     ]
    }
   ],
   "source": [
    "from .. import import_file"
   ]
  },
  {
   "cell_type": "code",
   "execution_count": 30,
   "metadata": {
    "collapsed": false,
    "deletable": true,
    "editable": true
   },
   "outputs": [],
   "source": [
    "pd.set_option('display.max_columns', None)"
   ]
  },
  {
   "cell_type": "code",
   "execution_count": 31,
   "metadata": {
    "collapsed": false,
    "deletable": true,
    "editable": true
   },
   "outputs": [],
   "source": [
    "pd.options.display.max_rows = 1000"
   ]
  },
  {
   "cell_type": "code",
   "execution_count": 35,
   "metadata": {
    "collapsed": false,
    "deletable": true,
    "editable": true
   },
   "outputs": [],
   "source": [
    "pt_features = pd.read_csv('data/pt_data/pt_features.csv',delimiter=',')"
   ]
  },
  {
   "cell_type": "code",
   "execution_count": 42,
   "metadata": {
    "collapsed": false,
    "deletable": true,
    "editable": true
   },
   "outputs": [],
   "source": [
    "dem_pt_features = pt_features[(pt_features['isCase']==True)&(pt_features['days post_indexdate']>(365*5))&(pt_features['days pre_indexdate']>(365*2))]"
   ]
  },
  {
   "cell_type": "code",
   "execution_count": 44,
   "metadata": {
    "collapsed": false,
    "deletable": true,
    "editable": true
   },
   "outputs": [
    {
     "data": {
      "text/html": [
       "<div>\n",
       "<table border=\"1\" class=\"dataframe\">\n",
       "  <thead>\n",
       "    <tr style=\"text-align: right;\">\n",
       "      <th></th>\n",
       "      <th>patid</th>\n",
       "      <th>gender</th>\n",
       "      <th>yob</th>\n",
       "      <th>pracid</th>\n",
       "      <th>index_date</th>\n",
       "      <th>isCase</th>\n",
       "      <th>final dementia medcode</th>\n",
       "      <th>data_start</th>\n",
       "      <th>data_end</th>\n",
       "      <th>days pre_indexdate</th>\n",
       "      <th>days post_indexdate</th>\n",
       "    </tr>\n",
       "  </thead>\n",
       "  <tbody>\n",
       "    <tr>\n",
       "      <th>0</th>\n",
       "      <td>57001</td>\n",
       "      <td>1</td>\n",
       "      <td>1932</td>\n",
       "      <td>1</td>\n",
       "      <td>2006-12-05</td>\n",
       "      <td>True</td>\n",
       "      <td>19477.0</td>\n",
       "      <td>1997-03-07</td>\n",
       "      <td>2013-05-17</td>\n",
       "      <td>3560.0</td>\n",
       "      <td>2355.0</td>\n",
       "    </tr>\n",
       "    <tr>\n",
       "      <th>12</th>\n",
       "      <td>718001</td>\n",
       "      <td>1</td>\n",
       "      <td>1922</td>\n",
       "      <td>1</td>\n",
       "      <td>2007-02-26</td>\n",
       "      <td>True</td>\n",
       "      <td>1917.0</td>\n",
       "      <td>1997-03-07</td>\n",
       "      <td>2013-02-12</td>\n",
       "      <td>3643.0</td>\n",
       "      <td>2178.0</td>\n",
       "    </tr>\n",
       "    <tr>\n",
       "      <th>15</th>\n",
       "      <td>802001</td>\n",
       "      <td>2</td>\n",
       "      <td>1924</td>\n",
       "      <td>1</td>\n",
       "      <td>2005-05-24</td>\n",
       "      <td>True</td>\n",
       "      <td>4693.0</td>\n",
       "      <td>1997-03-07</td>\n",
       "      <td>2011-09-28</td>\n",
       "      <td>3000.0</td>\n",
       "      <td>2318.0</td>\n",
       "    </tr>\n",
       "    <tr>\n",
       "      <th>25</th>\n",
       "      <td>1645001</td>\n",
       "      <td>1</td>\n",
       "      <td>1929</td>\n",
       "      <td>1</td>\n",
       "      <td>2007-05-24</td>\n",
       "      <td>True</td>\n",
       "      <td>26270.0</td>\n",
       "      <td>1997-03-07</td>\n",
       "      <td>2013-04-23</td>\n",
       "      <td>3730.0</td>\n",
       "      <td>2161.0</td>\n",
       "    </tr>\n",
       "    <tr>\n",
       "      <th>26</th>\n",
       "      <td>1670001</td>\n",
       "      <td>2</td>\n",
       "      <td>1926</td>\n",
       "      <td>1</td>\n",
       "      <td>2003-02-01</td>\n",
       "      <td>True</td>\n",
       "      <td>1350.0</td>\n",
       "      <td>1997-03-07</td>\n",
       "      <td>2010-02-19</td>\n",
       "      <td>2157.0</td>\n",
       "      <td>2575.0</td>\n",
       "    </tr>\n",
       "  </tbody>\n",
       "</table>\n",
       "</div>"
      ],
      "text/plain": [
       "      patid  gender   yob  pracid  index_date isCase  final dementia medcode  \\\n",
       "0     57001       1  1932       1  2006-12-05   True                 19477.0   \n",
       "12   718001       1  1922       1  2007-02-26   True                  1917.0   \n",
       "15   802001       2  1924       1  2005-05-24   True                  4693.0   \n",
       "25  1645001       1  1929       1  2007-05-24   True                 26270.0   \n",
       "26  1670001       2  1926       1  2003-02-01   True                  1350.0   \n",
       "\n",
       "    data_start    data_end  days pre_indexdate  days post_indexdate  \n",
       "0   1997-03-07  2013-05-17              3560.0               2355.0  \n",
       "12  1997-03-07  2013-02-12              3643.0               2178.0  \n",
       "15  1997-03-07  2011-09-28              3000.0               2318.0  \n",
       "25  1997-03-07  2013-04-23              3730.0               2161.0  \n",
       "26  1997-03-07  2010-02-19              2157.0               2575.0  "
      ]
     },
     "execution_count": 44,
     "metadata": {},
     "output_type": "execute_result"
    }
   ],
   "source": [
    "dem_pt_features.head(5)"
   ]
  },
  {
   "cell_type": "code",
   "execution_count": 53,
   "metadata": {
    "collapsed": false,
    "deletable": true,
    "editable": true
   },
   "outputs": [],
   "source": [
    "raw_pts = pd.read_csv('data/pt_data/raw_data/Extract_Patient_001.txt', nrows=5, delimiter='\\t')"
   ]
  },
  {
   "cell_type": "code",
   "execution_count": 56,
   "metadata": {
    "collapsed": false,
    "deletable": true,
    "editable": true
   },
   "outputs": [
    {
     "data": {
      "text/html": [
       "<div>\n",
       "<table border=\"1\" class=\"dataframe\">\n",
       "  <thead>\n",
       "    <tr style=\"text-align: right;\">\n",
       "      <th></th>\n",
       "      <th>patid</th>\n",
       "      <th>vmid</th>\n",
       "      <th>gender</th>\n",
       "      <th>yob</th>\n",
       "      <th>mob</th>\n",
       "      <th>marital</th>\n",
       "      <th>famnum</th>\n",
       "      <th>chsreg</th>\n",
       "      <th>chsdate</th>\n",
       "      <th>prescr</th>\n",
       "      <th>capsup</th>\n",
       "      <th>ses</th>\n",
       "      <th>frd</th>\n",
       "      <th>crd</th>\n",
       "      <th>regstat</th>\n",
       "      <th>reggap</th>\n",
       "      <th>internal</th>\n",
       "      <th>tod</th>\n",
       "      <th>toreason</th>\n",
       "      <th>deathdate</th>\n",
       "      <th>accept</th>\n",
       "    </tr>\n",
       "  </thead>\n",
       "  <tbody>\n",
       "    <tr>\n",
       "      <th>0</th>\n",
       "      <td>57001</td>\n",
       "      <td>1682</td>\n",
       "      <td>1</td>\n",
       "      <td>132</td>\n",
       "      <td>0</td>\n",
       "      <td>2</td>\n",
       "      <td>730</td>\n",
       "      <td>2</td>\n",
       "      <td>NaN</td>\n",
       "      <td>0</td>\n",
       "      <td>4</td>\n",
       "      <td>0</td>\n",
       "      <td>10/05/1977</td>\n",
       "      <td>10/05/1977</td>\n",
       "      <td>0</td>\n",
       "      <td>0</td>\n",
       "      <td>0</td>\n",
       "      <td>NaN</td>\n",
       "      <td>0</td>\n",
       "      <td>NaN</td>\n",
       "      <td>1</td>\n",
       "    </tr>\n",
       "    <tr>\n",
       "      <th>1</th>\n",
       "      <td>60001</td>\n",
       "      <td>3405</td>\n",
       "      <td>1</td>\n",
       "      <td>124</td>\n",
       "      <td>0</td>\n",
       "      <td>6</td>\n",
       "      <td>1475</td>\n",
       "      <td>2</td>\n",
       "      <td>NaN</td>\n",
       "      <td>4</td>\n",
       "      <td>4</td>\n",
       "      <td>0</td>\n",
       "      <td>11/03/1988</td>\n",
       "      <td>11/03/1988</td>\n",
       "      <td>0</td>\n",
       "      <td>0</td>\n",
       "      <td>0</td>\n",
       "      <td>NaN</td>\n",
       "      <td>0</td>\n",
       "      <td>NaN</td>\n",
       "      <td>1</td>\n",
       "    </tr>\n",
       "    <tr>\n",
       "      <th>2</th>\n",
       "      <td>149001</td>\n",
       "      <td>3238</td>\n",
       "      <td>2</td>\n",
       "      <td>119</td>\n",
       "      <td>0</td>\n",
       "      <td>6</td>\n",
       "      <td>1398</td>\n",
       "      <td>2</td>\n",
       "      <td>NaN</td>\n",
       "      <td>3</td>\n",
       "      <td>4</td>\n",
       "      <td>0</td>\n",
       "      <td>28/04/1978</td>\n",
       "      <td>28/04/1978</td>\n",
       "      <td>0</td>\n",
       "      <td>0</td>\n",
       "      <td>0</td>\n",
       "      <td>15/10/2004</td>\n",
       "      <td>2</td>\n",
       "      <td>NaN</td>\n",
       "      <td>1</td>\n",
       "    </tr>\n",
       "    <tr>\n",
       "      <th>3</th>\n",
       "      <td>364001</td>\n",
       "      <td>13436</td>\n",
       "      <td>2</td>\n",
       "      <td>137</td>\n",
       "      <td>0</td>\n",
       "      <td>2</td>\n",
       "      <td>6628</td>\n",
       "      <td>2</td>\n",
       "      <td>NaN</td>\n",
       "      <td>0</td>\n",
       "      <td>4</td>\n",
       "      <td>0</td>\n",
       "      <td>30/03/1991</td>\n",
       "      <td>30/03/1991</td>\n",
       "      <td>0</td>\n",
       "      <td>0</td>\n",
       "      <td>0</td>\n",
       "      <td>NaN</td>\n",
       "      <td>0</td>\n",
       "      <td>NaN</td>\n",
       "      <td>1</td>\n",
       "    </tr>\n",
       "    <tr>\n",
       "      <th>4</th>\n",
       "      <td>432001</td>\n",
       "      <td>4006</td>\n",
       "      <td>2</td>\n",
       "      <td>120</td>\n",
       "      <td>0</td>\n",
       "      <td>6</td>\n",
       "      <td>1726</td>\n",
       "      <td>2</td>\n",
       "      <td>NaN</td>\n",
       "      <td>3</td>\n",
       "      <td>4</td>\n",
       "      <td>0</td>\n",
       "      <td>05/11/1979</td>\n",
       "      <td>05/11/1979</td>\n",
       "      <td>0</td>\n",
       "      <td>0</td>\n",
       "      <td>0</td>\n",
       "      <td>NaN</td>\n",
       "      <td>0</td>\n",
       "      <td>NaN</td>\n",
       "      <td>1</td>\n",
       "    </tr>\n",
       "  </tbody>\n",
       "</table>\n",
       "</div>"
      ],
      "text/plain": [
       "    patid   vmid  gender  yob  mob  marital  famnum  chsreg  chsdate  prescr  \\\n",
       "0   57001   1682       1  132    0        2     730       2      NaN       0   \n",
       "1   60001   3405       1  124    0        6    1475       2      NaN       4   \n",
       "2  149001   3238       2  119    0        6    1398       2      NaN       3   \n",
       "3  364001  13436       2  137    0        2    6628       2      NaN       0   \n",
       "4  432001   4006       2  120    0        6    1726       2      NaN       3   \n",
       "\n",
       "   capsup  ses         frd         crd  regstat  reggap  internal         tod  \\\n",
       "0       4    0  10/05/1977  10/05/1977        0       0         0         NaN   \n",
       "1       4    0  11/03/1988  11/03/1988        0       0         0         NaN   \n",
       "2       4    0  28/04/1978  28/04/1978        0       0         0  15/10/2004   \n",
       "3       4    0  30/03/1991  30/03/1991        0       0         0         NaN   \n",
       "4       4    0  05/11/1979  05/11/1979        0       0         0         NaN   \n",
       "\n",
       "   toreason  deathdate  accept  \n",
       "0         0        NaN       1  \n",
       "1         0        NaN       1  \n",
       "2         2        NaN       1  \n",
       "3         0        NaN       1  \n",
       "4         0        NaN       1  "
      ]
     },
     "execution_count": 56,
     "metadata": {},
     "output_type": "execute_result"
    }
   ],
   "source": [
    "raw_pts[pd.isnull(raw_pts['deathdate'])]"
   ]
  },
  {
   "cell_type": "code",
   "execution_count": null,
   "metadata": {
    "collapsed": true,
    "deletable": true,
    "editable": true
   },
   "outputs": [],
   "source": []
  }
 ],
 "metadata": {
  "kernelspec": {
   "display_name": "Python 3",
   "language": "python",
   "name": "python3"
  },
  "language_info": {
   "codemirror_mode": {
    "name": "ipython",
    "version": 3
   },
   "file_extension": ".py",
   "mimetype": "text/x-python",
   "name": "python",
   "nbconvert_exporter": "python",
   "pygments_lexer": "ipython3",
   "version": "3.5.0"
  }
 },
 "nbformat": 4,
 "nbformat_minor": 0
}
