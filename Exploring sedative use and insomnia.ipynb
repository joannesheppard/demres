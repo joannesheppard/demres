{
 "cells": [
  {
   "cell_type": "code",
   "execution_count": 1,
   "metadata": {
    "collapsed": false
   },
   "outputs": [],
   "source": [
    "%load_ext autoreload"
   ]
  },
  {
   "cell_type": "code",
   "execution_count": 2,
   "metadata": {
    "collapsed": true
   },
   "outputs": [],
   "source": [
    "%autoreload 1"
   ]
  },
  {
   "cell_type": "code",
   "execution_count": 3,
   "metadata": {
    "collapsed": false
   },
   "outputs": [],
   "source": [
    "%aimport my_functions\n",
    "%aimport matching_functions\n",
    "%aimport csv_creator_functions\n",
    "%aimport codelists\n",
    "%aimport constants"
   ]
  },
  {
   "cell_type": "code",
   "execution_count": 4,
   "metadata": {
    "collapsed": false
   },
   "outputs": [],
   "source": [
    "import pandas as pd\n",
    "from my_functions import *\n",
    "from matching_functions import *\n",
    "from csv_creator_functions import *\n",
    "import codelists\n",
    "import constants\n",
    "import datetime"
   ]
  },
  {
   "cell_type": "code",
   "execution_count": 5,
   "metadata": {
    "collapsed": false
   },
   "outputs": [
    {
     "data": {
      "text/html": [
       "<style>.container { width:98% !important; }</style>"
      ],
      "text/plain": [
       "<IPython.core.display.HTML object>"
      ]
     },
     "metadata": {},
     "output_type": "display_data"
    }
   ],
   "source": [
    "from IPython.core.display import display, HTML\n",
    "display(HTML(\"<style>.container { width:98% !important; }</style>\"))"
   ]
  },
  {
   "cell_type": "code",
   "execution_count": 6,
   "metadata": {
    "collapsed": false
   },
   "outputs": [],
   "source": [
    "pt_features=pd.read_csv('data/pt_data/pt_features.csv',delimiter=',')"
   ]
  },
  {
   "cell_type": "code",
   "execution_count": 7,
   "metadata": {
    "collapsed": false
   },
   "outputs": [
    {
     "data": {
      "text/html": [
       "<div>\n",
       "<table border=\"1\" class=\"dataframe\">\n",
       "  <thead>\n",
       "    <tr style=\"text-align: right;\">\n",
       "      <th></th>\n",
       "      <th>patid</th>\n",
       "      <th>pracid</th>\n",
       "      <th>gender</th>\n",
       "      <th>birthyear</th>\n",
       "      <th>index_date</th>\n",
       "      <th>isCase</th>\n",
       "      <th>earliest_sysdate</th>\n",
       "      <th>latest_sysdate</th>\n",
       "      <th>days_pre_indexdate</th>\n",
       "      <th>days_post_indexdate</th>\n",
       "      <th>matchid</th>\n",
       "      <th>insomnia_event_count</th>\n",
       "      <th>sedative prescription count</th>\n",
       "      <th>zdrug prescription count</th>\n",
       "    </tr>\n",
       "  </thead>\n",
       "  <tbody>\n",
       "    <tr>\n",
       "      <th>0</th>\n",
       "      <td>14340043</td>\n",
       "      <td>43</td>\n",
       "      <td>1</td>\n",
       "      <td>1927</td>\n",
       "      <td>2010-04-20</td>\n",
       "      <td>True</td>\n",
       "      <td>1996-01-05</td>\n",
       "      <td>2013-04-22</td>\n",
       "      <td>5219.0</td>\n",
       "      <td>1098.0</td>\n",
       "      <td>9383.0</td>\n",
       "      <td>0</td>\n",
       "      <td>1.0</td>\n",
       "      <td>1.0</td>\n",
       "    </tr>\n",
       "    <tr>\n",
       "      <th>1</th>\n",
       "      <td>6415158</td>\n",
       "      <td>158</td>\n",
       "      <td>2</td>\n",
       "      <td>1934</td>\n",
       "      <td>2009-06-02</td>\n",
       "      <td>False</td>\n",
       "      <td>1997-10-22</td>\n",
       "      <td>2012-12-07</td>\n",
       "      <td>4241.0</td>\n",
       "      <td>1284.0</td>\n",
       "      <td>2214.0</td>\n",
       "      <td>0</td>\n",
       "      <td>4.0</td>\n",
       "      <td>1.0</td>\n",
       "    </tr>\n",
       "    <tr>\n",
       "      <th>2</th>\n",
       "      <td>7676314</td>\n",
       "      <td>314</td>\n",
       "      <td>2</td>\n",
       "      <td>1917</td>\n",
       "      <td>2010-05-19</td>\n",
       "      <td>False</td>\n",
       "      <td>1998-08-28</td>\n",
       "      <td>2013-01-11</td>\n",
       "      <td>4282.0</td>\n",
       "      <td>968.0</td>\n",
       "      <td>1558.0</td>\n",
       "      <td>2</td>\n",
       "      <td>2.0</td>\n",
       "      <td>2.0</td>\n",
       "    </tr>\n",
       "    <tr>\n",
       "      <th>3</th>\n",
       "      <td>495235</td>\n",
       "      <td>235</td>\n",
       "      <td>2</td>\n",
       "      <td>1931</td>\n",
       "      <td>2010-11-06</td>\n",
       "      <td>False</td>\n",
       "      <td>1997-08-13</td>\n",
       "      <td>2013-04-16</td>\n",
       "      <td>4833.0</td>\n",
       "      <td>892.0</td>\n",
       "      <td>1049.0</td>\n",
       "      <td>0</td>\n",
       "      <td>1.0</td>\n",
       "      <td>1.0</td>\n",
       "    </tr>\n",
       "    <tr>\n",
       "      <th>4</th>\n",
       "      <td>14931089</td>\n",
       "      <td>89</td>\n",
       "      <td>2</td>\n",
       "      <td>1928</td>\n",
       "      <td>2011-01-24</td>\n",
       "      <td>False</td>\n",
       "      <td>1997-07-25</td>\n",
       "      <td>2013-04-26</td>\n",
       "      <td>4931.0</td>\n",
       "      <td>823.0</td>\n",
       "      <td>1964.0</td>\n",
       "      <td>1</td>\n",
       "      <td>2.0</td>\n",
       "      <td>2.0</td>\n",
       "    </tr>\n",
       "  </tbody>\n",
       "</table>\n",
       "</div>"
      ],
      "text/plain": [
       "      patid  pracid  gender  birthyear  index_date isCase earliest_sysdate  \\\n",
       "0  14340043      43       1       1927  2010-04-20   True       1996-01-05   \n",
       "1   6415158     158       2       1934  2009-06-02  False       1997-10-22   \n",
       "2   7676314     314       2       1917  2010-05-19  False       1998-08-28   \n",
       "3    495235     235       2       1931  2010-11-06  False       1997-08-13   \n",
       "4  14931089      89       2       1928  2011-01-24  False       1997-07-25   \n",
       "\n",
       "  latest_sysdate  days_pre_indexdate  days_post_indexdate  matchid  \\\n",
       "0     2013-04-22              5219.0               1098.0   9383.0   \n",
       "1     2012-12-07              4241.0               1284.0   2214.0   \n",
       "2     2013-01-11              4282.0                968.0   1558.0   \n",
       "3     2013-04-16              4833.0                892.0   1049.0   \n",
       "4     2013-04-26              4931.0                823.0   1964.0   \n",
       "\n",
       "   insomnia_event_count  sedative prescription count  zdrug prescription count  \n",
       "0                     0                          1.0                       1.0  \n",
       "1                     0                          4.0                       1.0  \n",
       "2                     2                          2.0                       2.0  \n",
       "3                     0                          1.0                       1.0  \n",
       "4                     1                          2.0                       2.0  "
      ]
     },
     "execution_count": 7,
     "metadata": {},
     "output_type": "execute_result"
    }
   ],
   "source": [
    "pt_features.head(5)"
   ]
  },
  {
   "cell_type": "code",
   "execution_count": 8,
   "metadata": {
    "collapsed": false
   },
   "outputs": [
    {
     "data": {
      "text/plain": [
       "12928"
      ]
     },
     "execution_count": 8,
     "metadata": {},
     "output_type": "execute_result"
    }
   ],
   "source": [
    "all_cases = len(pt_features)\n",
    "all_cases"
   ]
  },
  {
   "cell_type": "code",
   "execution_count": 9,
   "metadata": {
    "collapsed": false,
    "scrolled": true
   },
   "outputs": [
    {
     "data": {
      "text/html": [
       "<div>\n",
       "<table border=\"1\" class=\"dataframe\">\n",
       "  <thead>\n",
       "    <tr style=\"text-align: right;\">\n",
       "      <th></th>\n",
       "      <th>patid</th>\n",
       "      <th>pracid</th>\n",
       "      <th>gender</th>\n",
       "      <th>birthyear</th>\n",
       "      <th>index_date</th>\n",
       "      <th>isCase</th>\n",
       "      <th>earliest_sysdate</th>\n",
       "      <th>latest_sysdate</th>\n",
       "      <th>days_pre_indexdate</th>\n",
       "      <th>days_post_indexdate</th>\n",
       "      <th>matchid</th>\n",
       "      <th>insomnia_event_count</th>\n",
       "      <th>sedative prescription count</th>\n",
       "      <th>zdrug prescription count</th>\n",
       "    </tr>\n",
       "  </thead>\n",
       "  <tbody>\n",
       "    <tr>\n",
       "      <th>2381</th>\n",
       "      <td>6029463</td>\n",
       "      <td>463</td>\n",
       "      <td>2</td>\n",
       "      <td>1930</td>\n",
       "      <td>2007-01-01</td>\n",
       "      <td>True</td>\n",
       "      <td>1995-12-13</td>\n",
       "      <td>2009-01-09</td>\n",
       "      <td>4037.0</td>\n",
       "      <td>739.0</td>\n",
       "      <td>8814.0</td>\n",
       "      <td>2</td>\n",
       "      <td>NaN</td>\n",
       "      <td>NaN</td>\n",
       "    </tr>\n",
       "    <tr>\n",
       "      <th>2984</th>\n",
       "      <td>3704085</td>\n",
       "      <td>85</td>\n",
       "      <td>2</td>\n",
       "      <td>1933</td>\n",
       "      <td>2011-02-02</td>\n",
       "      <td>True</td>\n",
       "      <td>1999-09-22</td>\n",
       "      <td>2013-04-26</td>\n",
       "      <td>4151.0</td>\n",
       "      <td>814.0</td>\n",
       "      <td>3257.0</td>\n",
       "      <td>2</td>\n",
       "      <td>1.0</td>\n",
       "      <td>NaN</td>\n",
       "    </tr>\n",
       "    <tr>\n",
       "      <th>6236</th>\n",
       "      <td>3456099</td>\n",
       "      <td>99</td>\n",
       "      <td>1</td>\n",
       "      <td>1930</td>\n",
       "      <td>2010-02-26</td>\n",
       "      <td>True</td>\n",
       "      <td>1995-09-12</td>\n",
       "      <td>2013-03-28</td>\n",
       "      <td>5281.0</td>\n",
       "      <td>1126.0</td>\n",
       "      <td>11033.0</td>\n",
       "      <td>1</td>\n",
       "      <td>NaN</td>\n",
       "      <td>NaN</td>\n",
       "    </tr>\n",
       "  </tbody>\n",
       "</table>\n",
       "</div>"
      ],
      "text/plain": [
       "        patid  pracid  gender  birthyear  index_date isCase earliest_sysdate  \\\n",
       "2381  6029463     463       2       1930  2007-01-01   True       1995-12-13   \n",
       "2984  3704085      85       2       1933  2011-02-02   True       1999-09-22   \n",
       "6236  3456099      99       1       1930  2010-02-26   True       1995-09-12   \n",
       "\n",
       "     latest_sysdate  days_pre_indexdate  days_post_indexdate  matchid  \\\n",
       "2381     2009-01-09              4037.0                739.0   8814.0   \n",
       "2984     2013-04-26              4151.0                814.0   3257.0   \n",
       "6236     2013-03-28              5281.0               1126.0  11033.0   \n",
       "\n",
       "      insomnia_event_count  sedative prescription count  \\\n",
       "2381                     2                          NaN   \n",
       "2984                     2                          1.0   \n",
       "6236                     1                          NaN   \n",
       "\n",
       "      zdrug prescription count  \n",
       "2381                       NaN  \n",
       "2984                       NaN  \n",
       "6236                       NaN  "
      ]
     },
     "execution_count": 9,
     "metadata": {},
     "output_type": "execute_result"
    }
   ],
   "source": [
    "have_insomnia = pt_features['insomnia_event_count']>0\n",
    "pt_features[have_insomnia].sample(3)"
   ]
  },
  {
   "cell_type": "code",
   "execution_count": 10,
   "metadata": {
    "collapsed": false
   },
   "outputs": [
    {
     "data": {
      "text/plain": [
       "745"
      ]
     },
     "execution_count": 10,
     "metadata": {},
     "output_type": "execute_result"
    }
   ],
   "source": [
    "total_pts_with_insomnia=len(pt_features[have_insomnia])\n",
    "total_pts_with_insomnia"
   ]
  },
  {
   "cell_type": "code",
   "execution_count": 11,
   "metadata": {
    "collapsed": false
   },
   "outputs": [
    {
     "data": {
      "text/html": [
       "<div>\n",
       "<table border=\"1\" class=\"dataframe\">\n",
       "  <thead>\n",
       "    <tr style=\"text-align: right;\">\n",
       "      <th></th>\n",
       "      <th>patid</th>\n",
       "      <th>pracid</th>\n",
       "      <th>gender</th>\n",
       "      <th>birthyear</th>\n",
       "      <th>index_date</th>\n",
       "      <th>isCase</th>\n",
       "      <th>earliest_sysdate</th>\n",
       "      <th>latest_sysdate</th>\n",
       "      <th>days_pre_indexdate</th>\n",
       "      <th>days_post_indexdate</th>\n",
       "      <th>matchid</th>\n",
       "      <th>insomnia_event_count</th>\n",
       "      <th>sedative prescription count</th>\n",
       "      <th>zdrug prescription count</th>\n",
       "    </tr>\n",
       "  </thead>\n",
       "  <tbody>\n",
       "    <tr>\n",
       "      <th>10688</th>\n",
       "      <td>4972159</td>\n",
       "      <td>159</td>\n",
       "      <td>2</td>\n",
       "      <td>1929</td>\n",
       "      <td>2010-08-30</td>\n",
       "      <td>False</td>\n",
       "      <td>1997-07-27</td>\n",
       "      <td>2013-05-02</td>\n",
       "      <td>4782.0</td>\n",
       "      <td>976.0</td>\n",
       "      <td>7553.0</td>\n",
       "      <td>1</td>\n",
       "      <td>1.0</td>\n",
       "      <td>1.0</td>\n",
       "    </tr>\n",
       "    <tr>\n",
       "      <th>4401</th>\n",
       "      <td>17999030</td>\n",
       "      <td>30</td>\n",
       "      <td>1</td>\n",
       "      <td>1931</td>\n",
       "      <td>2010-08-18</td>\n",
       "      <td>True</td>\n",
       "      <td>1998-04-07</td>\n",
       "      <td>2013-05-16</td>\n",
       "      <td>4516.0</td>\n",
       "      <td>1002.0</td>\n",
       "      <td>6743.0</td>\n",
       "      <td>0</td>\n",
       "      <td>56.0</td>\n",
       "      <td>56.0</td>\n",
       "    </tr>\n",
       "    <tr>\n",
       "      <th>11733</th>\n",
       "      <td>2010250</td>\n",
       "      <td>250</td>\n",
       "      <td>1</td>\n",
       "      <td>1921</td>\n",
       "      <td>2008-12-05</td>\n",
       "      <td>False</td>\n",
       "      <td>1996-03-26</td>\n",
       "      <td>2011-06-20</td>\n",
       "      <td>4637.0</td>\n",
       "      <td>927.0</td>\n",
       "      <td>9493.0</td>\n",
       "      <td>2</td>\n",
       "      <td>17.0</td>\n",
       "      <td>15.0</td>\n",
       "    </tr>\n",
       "  </tbody>\n",
       "</table>\n",
       "</div>"
      ],
      "text/plain": [
       "          patid  pracid  gender  birthyear  index_date isCase  \\\n",
       "10688   4972159     159       2       1929  2010-08-30  False   \n",
       "4401   17999030      30       1       1931  2010-08-18   True   \n",
       "11733   2010250     250       1       1921  2008-12-05  False   \n",
       "\n",
       "      earliest_sysdate latest_sysdate  days_pre_indexdate  \\\n",
       "10688       1997-07-27     2013-05-02              4782.0   \n",
       "4401        1998-04-07     2013-05-16              4516.0   \n",
       "11733       1996-03-26     2011-06-20              4637.0   \n",
       "\n",
       "       days_post_indexdate  matchid  insomnia_event_count  \\\n",
       "10688                976.0   7553.0                     1   \n",
       "4401                1002.0   6743.0                     0   \n",
       "11733                927.0   9493.0                     2   \n",
       "\n",
       "       sedative prescription count  zdrug prescription count  \n",
       "10688                          1.0                       1.0  \n",
       "4401                          56.0                      56.0  \n",
       "11733                         17.0                      15.0  "
      ]
     },
     "execution_count": 11,
     "metadata": {},
     "output_type": "execute_result"
    }
   ],
   "source": [
    "on_zdrugs = pt_features['zdrug prescription count']>0\n",
    "pt_features[on_zdrugs].sample(3)"
   ]
  },
  {
   "cell_type": "code",
   "execution_count": 12,
   "metadata": {
    "collapsed": false
   },
   "outputs": [
    {
     "data": {
      "text/plain": [
       "480"
      ]
     },
     "execution_count": 12,
     "metadata": {},
     "output_type": "execute_result"
    }
   ],
   "source": [
    "total_pts_on_zdrugs = len(pt_features[on_zdrugs])\n",
    "total_pts_on_zdrugs"
   ]
  },
  {
   "cell_type": "code",
   "execution_count": 20,
   "metadata": {
    "collapsed": false
   },
   "outputs": [
    {
     "data": {
      "text/plain": [
       "268"
      ]
     },
     "execution_count": 20,
     "metadata": {},
     "output_type": "execute_result"
    }
   ],
   "source": [
    "zdruggers_without_insomnia = pt_features[(have_insomnia==False) & (on_zdrugs==True)]\n",
    "len(zdruggers_without_insomnia)"
   ]
  },
  {
   "cell_type": "code",
   "execution_count": 21,
   "metadata": {
    "collapsed": false
   },
   "outputs": [
    {
     "data": {
      "text/html": [
       "<div>\n",
       "<table border=\"1\" class=\"dataframe\">\n",
       "  <thead>\n",
       "    <tr style=\"text-align: right;\">\n",
       "      <th></th>\n",
       "      <th>patid</th>\n",
       "      <th>pracid</th>\n",
       "      <th>gender</th>\n",
       "      <th>birthyear</th>\n",
       "      <th>index_date</th>\n",
       "      <th>isCase</th>\n",
       "      <th>earliest_sysdate</th>\n",
       "      <th>latest_sysdate</th>\n",
       "      <th>days_pre_indexdate</th>\n",
       "      <th>days_post_indexdate</th>\n",
       "      <th>matchid</th>\n",
       "      <th>insomnia_event_count</th>\n",
       "      <th>sedative prescription count</th>\n",
       "      <th>zdrug prescription count</th>\n",
       "    </tr>\n",
       "  </thead>\n",
       "  <tbody>\n",
       "    <tr>\n",
       "      <th>7200</th>\n",
       "      <td>2046251</td>\n",
       "      <td>251</td>\n",
       "      <td>2</td>\n",
       "      <td>1924</td>\n",
       "      <td>2010-07-23</td>\n",
       "      <td>False</td>\n",
       "      <td>1999-01-27</td>\n",
       "      <td>2013-05-02</td>\n",
       "      <td>4195.0</td>\n",
       "      <td>1014.0</td>\n",
       "      <td>1226.0</td>\n",
       "      <td>0</td>\n",
       "      <td>1.0</td>\n",
       "      <td>1.0</td>\n",
       "    </tr>\n",
       "    <tr>\n",
       "      <th>8723</th>\n",
       "      <td>8675021</td>\n",
       "      <td>21</td>\n",
       "      <td>2</td>\n",
       "      <td>1926</td>\n",
       "      <td>2009-10-21</td>\n",
       "      <td>False</td>\n",
       "      <td>1998-09-18</td>\n",
       "      <td>2012-03-22</td>\n",
       "      <td>4051.0</td>\n",
       "      <td>883.0</td>\n",
       "      <td>7024.0</td>\n",
       "      <td>0</td>\n",
       "      <td>68.0</td>\n",
       "      <td>50.0</td>\n",
       "    </tr>\n",
       "    <tr>\n",
       "      <th>4605</th>\n",
       "      <td>8388304</td>\n",
       "      <td>304</td>\n",
       "      <td>2</td>\n",
       "      <td>1925</td>\n",
       "      <td>2010-05-01</td>\n",
       "      <td>True</td>\n",
       "      <td>1997-10-16</td>\n",
       "      <td>2010-04-01</td>\n",
       "      <td>4580.0</td>\n",
       "      <td>-30.0</td>\n",
       "      <td>6115.0</td>\n",
       "      <td>0</td>\n",
       "      <td>67.0</td>\n",
       "      <td>67.0</td>\n",
       "    </tr>\n",
       "  </tbody>\n",
       "</table>\n",
       "</div>"
      ],
      "text/plain": [
       "        patid  pracid  gender  birthyear  index_date isCase earliest_sysdate  \\\n",
       "7200  2046251     251       2       1924  2010-07-23  False       1999-01-27   \n",
       "8723  8675021      21       2       1926  2009-10-21  False       1998-09-18   \n",
       "4605  8388304     304       2       1925  2010-05-01   True       1997-10-16   \n",
       "\n",
       "     latest_sysdate  days_pre_indexdate  days_post_indexdate  matchid  \\\n",
       "7200     2013-05-02              4195.0               1014.0   1226.0   \n",
       "8723     2012-03-22              4051.0                883.0   7024.0   \n",
       "4605     2010-04-01              4580.0                -30.0   6115.0   \n",
       "\n",
       "      insomnia_event_count  sedative prescription count  \\\n",
       "7200                     0                          1.0   \n",
       "8723                     0                         68.0   \n",
       "4605                     0                         67.0   \n",
       "\n",
       "      zdrug prescription count  \n",
       "7200                       1.0  \n",
       "8723                      50.0  \n",
       "4605                      67.0  "
      ]
     },
     "execution_count": 21,
     "metadata": {},
     "output_type": "execute_result"
    }
   ],
   "source": [
    "zdruggers_without_insomnia.sample(3)"
   ]
  },
  {
   "cell_type": "code",
   "execution_count": 19,
   "metadata": {
    "collapsed": false
   },
   "outputs": [
    {
     "data": {
      "text/plain": [
       "533"
      ]
     },
     "execution_count": 19,
     "metadata": {},
     "output_type": "execute_result"
    }
   ],
   "source": [
    "insomniacs_without_zdrugs = pt_features[(have_insomnia==True) & (on_zdrugs==False)]\n",
    "len(insomniacs_without_zdrugs)"
   ]
  },
  {
   "cell_type": "code",
   "execution_count": 15,
   "metadata": {
    "collapsed": false
   },
   "outputs": [
    {
     "data": {
      "text/plain": [
       "310"
      ]
     },
     "execution_count": 15,
     "metadata": {},
     "output_type": "execute_result"
    }
   ],
   "source": [
    "insomniac_cases_without_zdrugs = pt_features[(pt_features['isCase']==True)&(have_insomnia==True) & (on_zdrugs==False)]\n",
    "len(insomniac_cases_without_zdrugs)"
   ]
  },
  {
   "cell_type": "code",
   "execution_count": 16,
   "metadata": {
    "collapsed": false
   },
   "outputs": [
    {
     "data": {
      "text/plain": [
       "223"
      ]
     },
     "execution_count": 16,
     "metadata": {},
     "output_type": "execute_result"
    }
   ],
   "source": [
    "insomniac_controls_without_zdrugs = pt_features[(pt_features['isCase']==False)&(have_insomnia==True) & (on_zdrugs==False)]\n",
    "len(insomniac_controls_without_zdrugs)"
   ]
  }
 ],
 "metadata": {
  "kernelspec": {
   "display_name": "Python 3",
   "language": "python",
   "name": "python3"
  },
  "language_info": {
   "codemirror_mode": {
    "name": "ipython",
    "version": 3
   },
   "file_extension": ".py",
   "mimetype": "text/x-python",
   "name": "python",
   "nbconvert_exporter": "python",
   "pygments_lexer": "ipython3",
   "version": "3.5.0"
  }
 },
 "nbformat": 4,
 "nbformat_minor": 0
}
