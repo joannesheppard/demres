{
 "cells": [
  {
   "cell_type": "code",
   "execution_count": 1,
   "metadata": {
    "collapsed": true
   },
   "outputs": [],
   "source": [
    "import pandas as pd\n",
    "from constants import Entry_Type\n",
    "from my_functions import *"
   ]
  },
  {
   "cell_type": "code",
   "execution_count": 2,
   "metadata": {
    "collapsed": false
   },
   "outputs": [
    {
     "data": {
      "text/html": [
       "<div>\n",
       "<table border=\"1\" class=\"dataframe\">\n",
       "  <thead>\n",
       "    <tr style=\"text-align: right;\">\n",
       "      <th></th>\n",
       "      <th>medcode</th>\n",
       "      <th>readcode</th>\n",
       "      <th>clinical events</th>\n",
       "      <th>immunisation events</th>\n",
       "      <th>referral events</th>\n",
       "      <th>test events</th>\n",
       "      <th>read term</th>\n",
       "      <th>database build</th>\n",
       "    </tr>\n",
       "  </thead>\n",
       "  <tbody>\n",
       "    <tr>\n",
       "      <th>0</th>\n",
       "      <td>42602</td>\n",
       "      <td>E001000</td>\n",
       "      <td>30</td>\n",
       "      <td>0</td>\n",
       "      <td>1</td>\n",
       "      <td>0</td>\n",
       "      <td>Uncomplicated presenile dementia</td>\n",
       "      <td>February 2009</td>\n",
       "    </tr>\n",
       "    <tr>\n",
       "      <th>1</th>\n",
       "      <td>65166</td>\n",
       "      <td>TAy0.00</td>\n",
       "      <td>2</td>\n",
       "      <td>0</td>\n",
       "      <td>0</td>\n",
       "      <td>0</td>\n",
       "      <td>Mismatched blood transfused</td>\n",
       "      <td>February 2009</td>\n",
       "    </tr>\n",
       "    <tr>\n",
       "      <th>2</th>\n",
       "      <td>86183</td>\n",
       "      <td>K2284PH</td>\n",
       "      <td>0</td>\n",
       "      <td>0</td>\n",
       "      <td>0</td>\n",
       "      <td>0</td>\n",
       "      <td>NaN</td>\n",
       "      <td>February 2009</td>\n",
       "    </tr>\n",
       "    <tr>\n",
       "      <th>3</th>\n",
       "      <td>24730</td>\n",
       "      <td>ZC2C100</td>\n",
       "      <td>142</td>\n",
       "      <td>0</td>\n",
       "      <td>7</td>\n",
       "      <td>0</td>\n",
       "      <td>Dietary treatment for disorder</td>\n",
       "      <td>February 2009</td>\n",
       "    </tr>\n",
       "    <tr>\n",
       "      <th>4</th>\n",
       "      <td>12413</td>\n",
       "      <td>5C10.00</td>\n",
       "      <td>876</td>\n",
       "      <td>0</td>\n",
       "      <td>68</td>\n",
       "      <td>3966</td>\n",
       "      <td>Carotid artery doppler abnormal</td>\n",
       "      <td>February 2009</td>\n",
       "    </tr>\n",
       "  </tbody>\n",
       "</table>\n",
       "</div>"
      ],
      "text/plain": [
       "   medcode readcode  clinical events  immunisation events  referral events  \\\n",
       "0    42602  E001000               30                    0                1   \n",
       "1    65166  TAy0.00                2                    0                0   \n",
       "2    86183  K2284PH                0                    0                0   \n",
       "3    24730  ZC2C100              142                    0                7   \n",
       "4    12413  5C10.00              876                    0               68   \n",
       "\n",
       "   test events                         read term database build  \n",
       "0            0  Uncomplicated presenile dementia  February 2009  \n",
       "1            0       Mismatched blood transfused  February 2009  \n",
       "2            0                               NaN  February 2009  \n",
       "3            0    Dietary treatment for disorder  February 2009  \n",
       "4         3966   Carotid artery doppler abnormal  February 2009  "
      ]
     },
     "execution_count": 2,
     "metadata": {},
     "output_type": "execute_result"
    }
   ],
   "source": [
    "pegmed = pd.read_csv('data/dicts/proc_pegasus_medical.csv')\n",
    "pegmed.head(5)"
   ]
  },
  {
   "cell_type": "code",
   "execution_count": 3,
   "metadata": {
    "collapsed": false
   },
   "outputs": [],
   "source": [
    "matching = pd.read_csv('data/pt_data/matching_unmatched_removed.csv',delimiter=',')"
   ]
  },
  {
   "cell_type": "code",
   "execution_count": 4,
   "metadata": {
    "collapsed": false
   },
   "outputs": [
    {
     "data": {
      "text/html": [
       "<div>\n",
       "<table border=\"1\" class=\"dataframe\">\n",
       "  <thead>\n",
       "    <tr style=\"text-align: right;\">\n",
       "      <th></th>\n",
       "      <th>case_patid</th>\n",
       "      <th>case_pracid</th>\n",
       "      <th>case_gender</th>\n",
       "      <th>case_birthyear</th>\n",
       "      <th>case_index</th>\n",
       "      <th>match</th>\n",
       "      <th>control_patid</th>\n",
       "      <th>control_pracid</th>\n",
       "      <th>control_gender</th>\n",
       "      <th>control_birthyear</th>\n",
       "      <th>control_start</th>\n",
       "      <th>control_end</th>\n",
       "    </tr>\n",
       "  </thead>\n",
       "  <tbody>\n",
       "    <tr>\n",
       "      <th>0</th>\n",
       "      <td>4923328</td>\n",
       "      <td>328</td>\n",
       "      <td>2</td>\n",
       "      <td>1916</td>\n",
       "      <td>01/07/2003</td>\n",
       "      <td>1</td>\n",
       "      <td>4355328</td>\n",
       "      <td>328</td>\n",
       "      <td>2</td>\n",
       "      <td>1916</td>\n",
       "      <td>01/01/2000</td>\n",
       "      <td>07/02/2009</td>\n",
       "    </tr>\n",
       "    <tr>\n",
       "      <th>1</th>\n",
       "      <td>1959216</td>\n",
       "      <td>216</td>\n",
       "      <td>1</td>\n",
       "      <td>1933</td>\n",
       "      <td>25/02/2011</td>\n",
       "      <td>1</td>\n",
       "      <td>6290216</td>\n",
       "      <td>216</td>\n",
       "      <td>1</td>\n",
       "      <td>1933</td>\n",
       "      <td>01/01/2000</td>\n",
       "      <td>01/06/2012</td>\n",
       "    </tr>\n",
       "    <tr>\n",
       "      <th>2</th>\n",
       "      <td>9271420</td>\n",
       "      <td>420</td>\n",
       "      <td>1</td>\n",
       "      <td>1917</td>\n",
       "      <td>20/06/2003</td>\n",
       "      <td>1</td>\n",
       "      <td>2770420</td>\n",
       "      <td>420</td>\n",
       "      <td>1</td>\n",
       "      <td>1917</td>\n",
       "      <td>02/01/2003</td>\n",
       "      <td>29/12/2009</td>\n",
       "    </tr>\n",
       "    <tr>\n",
       "      <th>3</th>\n",
       "      <td>548429</td>\n",
       "      <td>429</td>\n",
       "      <td>2</td>\n",
       "      <td>1925</td>\n",
       "      <td>11/05/2005</td>\n",
       "      <td>1</td>\n",
       "      <td>5473429</td>\n",
       "      <td>429</td>\n",
       "      <td>2</td>\n",
       "      <td>1925</td>\n",
       "      <td>01/01/2000</td>\n",
       "      <td>01/06/2012</td>\n",
       "    </tr>\n",
       "    <tr>\n",
       "      <th>4</th>\n",
       "      <td>14185081</td>\n",
       "      <td>81</td>\n",
       "      <td>2</td>\n",
       "      <td>1917</td>\n",
       "      <td>28/02/2005</td>\n",
       "      <td>1</td>\n",
       "      <td>5951081</td>\n",
       "      <td>81</td>\n",
       "      <td>2</td>\n",
       "      <td>1917</td>\n",
       "      <td>01/01/2000</td>\n",
       "      <td>27/01/2007</td>\n",
       "    </tr>\n",
       "    <tr>\n",
       "      <th>5</th>\n",
       "      <td>7329438</td>\n",
       "      <td>438</td>\n",
       "      <td>2</td>\n",
       "      <td>1941</td>\n",
       "      <td>04/08/2008</td>\n",
       "      <td>1</td>\n",
       "      <td>17742438</td>\n",
       "      <td>438</td>\n",
       "      <td>2</td>\n",
       "      <td>1941</td>\n",
       "      <td>01/01/2000</td>\n",
       "      <td>01/06/2012</td>\n",
       "    </tr>\n",
       "    <tr>\n",
       "      <th>6</th>\n",
       "      <td>6327373</td>\n",
       "      <td>373</td>\n",
       "      <td>1</td>\n",
       "      <td>1941</td>\n",
       "      <td>26/03/2009</td>\n",
       "      <td>1</td>\n",
       "      <td>5262373</td>\n",
       "      <td>373</td>\n",
       "      <td>1</td>\n",
       "      <td>1941</td>\n",
       "      <td>22/12/2004</td>\n",
       "      <td>10/09/2010</td>\n",
       "    </tr>\n",
       "    <tr>\n",
       "      <th>7</th>\n",
       "      <td>5811024</td>\n",
       "      <td>24</td>\n",
       "      <td>1</td>\n",
       "      <td>1930</td>\n",
       "      <td>14/12/2010</td>\n",
       "      <td>1</td>\n",
       "      <td>6394024</td>\n",
       "      <td>24</td>\n",
       "      <td>1</td>\n",
       "      <td>1930</td>\n",
       "      <td>01/01/2000</td>\n",
       "      <td>01/06/2012</td>\n",
       "    </tr>\n",
       "    <tr>\n",
       "      <th>8</th>\n",
       "      <td>6905371</td>\n",
       "      <td>371</td>\n",
       "      <td>1</td>\n",
       "      <td>1926</td>\n",
       "      <td>19/09/2006</td>\n",
       "      <td>1</td>\n",
       "      <td>15830371</td>\n",
       "      <td>371</td>\n",
       "      <td>1</td>\n",
       "      <td>1926</td>\n",
       "      <td>07/11/2002</td>\n",
       "      <td>22/07/2009</td>\n",
       "    </tr>\n",
       "    <tr>\n",
       "      <th>9</th>\n",
       "      <td>7741629</td>\n",
       "      <td>629</td>\n",
       "      <td>1</td>\n",
       "      <td>1936</td>\n",
       "      <td>10/06/2004</td>\n",
       "      <td>1</td>\n",
       "      <td>9053629</td>\n",
       "      <td>629</td>\n",
       "      <td>1</td>\n",
       "      <td>1936</td>\n",
       "      <td>01/01/2000</td>\n",
       "      <td>01/06/2012</td>\n",
       "    </tr>\n",
       "  </tbody>\n",
       "</table>\n",
       "</div>"
      ],
      "text/plain": [
       "   case_patid  case_pracid  case_gender  case_birthyear  case_index  match  \\\n",
       "0     4923328          328            2            1916  01/07/2003      1   \n",
       "1     1959216          216            1            1933  25/02/2011      1   \n",
       "2     9271420          420            1            1917  20/06/2003      1   \n",
       "3      548429          429            2            1925  11/05/2005      1   \n",
       "4    14185081           81            2            1917  28/02/2005      1   \n",
       "5     7329438          438            2            1941  04/08/2008      1   \n",
       "6     6327373          373            1            1941  26/03/2009      1   \n",
       "7     5811024           24            1            1930  14/12/2010      1   \n",
       "8     6905371          371            1            1926  19/09/2006      1   \n",
       "9     7741629          629            1            1936  10/06/2004      1   \n",
       "\n",
       "   control_patid  control_pracid  control_gender  control_birthyear  \\\n",
       "0        4355328             328               2               1916   \n",
       "1        6290216             216               1               1933   \n",
       "2        2770420             420               1               1917   \n",
       "3        5473429             429               2               1925   \n",
       "4        5951081              81               2               1917   \n",
       "5       17742438             438               2               1941   \n",
       "6        5262373             373               1               1941   \n",
       "7        6394024              24               1               1930   \n",
       "8       15830371             371               1               1926   \n",
       "9        9053629             629               1               1936   \n",
       "\n",
       "  control_start control_end  \n",
       "0    01/01/2000  07/02/2009  \n",
       "1    01/01/2000  01/06/2012  \n",
       "2    02/01/2003  29/12/2009  \n",
       "3    01/01/2000  01/06/2012  \n",
       "4    01/01/2000  27/01/2007  \n",
       "5    01/01/2000  01/06/2012  \n",
       "6    22/12/2004  10/09/2010  \n",
       "7    01/01/2000  01/06/2012  \n",
       "8    07/11/2002  22/07/2009  \n",
       "9    01/01/2000  01/06/2012  "
      ]
     },
     "execution_count": 4,
     "metadata": {},
     "output_type": "execute_result"
    }
   ],
   "source": [
    "matching.head(10)"
   ]
  },
  {
   "cell_type": "code",
   "execution_count": 5,
   "metadata": {
    "collapsed": false
   },
   "outputs": [],
   "source": [
    "all_entries = pd.read_csv('data/pt_data/medcoded_clinical_entries.csv',delimiter=',')"
   ]
  },
  {
   "cell_type": "code",
   "execution_count": 6,
   "metadata": {
    "collapsed": false
   },
   "outputs": [
    {
     "data": {
      "text/html": [
       "<div>\n",
       "<table border=\"1\" class=\"dataframe\">\n",
       "  <thead>\n",
       "    <tr style=\"text-align: right;\">\n",
       "      <th></th>\n",
       "      <th>patid</th>\n",
       "      <th>sysdate</th>\n",
       "      <th>eventdate</th>\n",
       "      <th>medcode</th>\n",
       "      <th>type</th>\n",
       "    </tr>\n",
       "  </thead>\n",
       "  <tbody>\n",
       "    <tr>\n",
       "      <th>24448135</th>\n",
       "      <td>17775549</td>\n",
       "      <td>2004-05-06</td>\n",
       "      <td>2001-02-15</td>\n",
       "      <td>7995</td>\n",
       "      <td>2</td>\n",
       "    </tr>\n",
       "    <tr>\n",
       "      <th>3973061</th>\n",
       "      <td>8094091</td>\n",
       "      <td>1999-01-14</td>\n",
       "      <td>1999-01-14</td>\n",
       "      <td>855</td>\n",
       "      <td>2</td>\n",
       "    </tr>\n",
       "    <tr>\n",
       "      <th>32307649</th>\n",
       "      <td>4822106</td>\n",
       "      <td>2009-11-24</td>\n",
       "      <td>2009-11-23</td>\n",
       "      <td>15</td>\n",
       "      <td>3</td>\n",
       "    </tr>\n",
       "    <tr>\n",
       "      <th>40173312</th>\n",
       "      <td>6822282</td>\n",
       "      <td>2002-04-25</td>\n",
       "      <td>2002-04-24</td>\n",
       "      <td>13813</td>\n",
       "      <td>3</td>\n",
       "    </tr>\n",
       "    <tr>\n",
       "      <th>27424446</th>\n",
       "      <td>2544657</td>\n",
       "      <td>1999-04-14</td>\n",
       "      <td>1999-04-14</td>\n",
       "      <td>1</td>\n",
       "      <td>2</td>\n",
       "    </tr>\n",
       "    <tr>\n",
       "      <th>25692382</th>\n",
       "      <td>2021599</td>\n",
       "      <td>2013-03-11</td>\n",
       "      <td>2013-03-11</td>\n",
       "      <td>26</td>\n",
       "      <td>2</td>\n",
       "    </tr>\n",
       "    <tr>\n",
       "      <th>16376952</th>\n",
       "      <td>10873362</td>\n",
       "      <td>2005-01-10</td>\n",
       "      <td>2005-01-10</td>\n",
       "      <td>1</td>\n",
       "      <td>2</td>\n",
       "    </tr>\n",
       "    <tr>\n",
       "      <th>26451562</th>\n",
       "      <td>1567632</td>\n",
       "      <td>2008-01-19</td>\n",
       "      <td>1993-04-06</td>\n",
       "      <td>2515</td>\n",
       "      <td>2</td>\n",
       "    </tr>\n",
       "    <tr>\n",
       "      <th>12875893</th>\n",
       "      <td>278282</td>\n",
       "      <td>2006-06-02</td>\n",
       "      <td>2006-05-11</td>\n",
       "      <td>10792</td>\n",
       "      <td>2</td>\n",
       "    </tr>\n",
       "    <tr>\n",
       "      <th>4884829</th>\n",
       "      <td>7584114</td>\n",
       "      <td>2010-02-12</td>\n",
       "      <td>2010-02-12</td>\n",
       "      <td>1</td>\n",
       "      <td>2</td>\n",
       "    </tr>\n",
       "  </tbody>\n",
       "</table>\n",
       "</div>"
      ],
      "text/plain": [
       "             patid     sysdate   eventdate  medcode  type\n",
       "24448135  17775549  2004-05-06  2001-02-15     7995     2\n",
       "3973061    8094091  1999-01-14  1999-01-14      855     2\n",
       "32307649   4822106  2009-11-24  2009-11-23       15     3\n",
       "40173312   6822282  2002-04-25  2002-04-24    13813     3\n",
       "27424446   2544657  1999-04-14  1999-04-14        1     2\n",
       "25692382   2021599  2013-03-11  2013-03-11       26     2\n",
       "16376952  10873362  2005-01-10  2005-01-10        1     2\n",
       "26451562   1567632  2008-01-19  1993-04-06     2515     2\n",
       "12875893    278282  2006-06-02  2006-05-11    10792     2\n",
       "4884829    7584114  2010-02-12  2010-02-12        1     2"
      ]
     },
     "execution_count": 6,
     "metadata": {},
     "output_type": "execute_result"
    }
   ],
   "source": [
    "all_entries.sample(10)"
   ]
  },
  {
   "cell_type": "code",
   "execution_count": 40,
   "metadata": {
    "collapsed": true
   },
   "outputs": [],
   "source": [
    "row_num = 4343"
   ]
  },
  {
   "cell_type": "code",
   "execution_count": 41,
   "metadata": {
    "collapsed": false
   },
   "outputs": [
    {
     "data": {
      "text/plain": [
       "case_patid         15839181\n",
       "case_index       18/08/2008\n",
       "control_start    09/09/2001\n",
       "control_end      01/06/2012\n",
       "Name: 4343, dtype: object"
      ]
     },
     "execution_count": 41,
     "metadata": {},
     "output_type": "execute_result"
    }
   ],
   "source": [
    "matching.loc[row_num][['case_patid','case_index','control_start','control_end']]"
   ]
  },
  {
   "cell_type": "code",
   "execution_count": 42,
   "metadata": {
    "collapsed": false
   },
   "outputs": [
    {
     "data": {
      "text/plain": [
       "15839181"
      ]
     },
     "execution_count": 42,
     "metadata": {},
     "output_type": "execute_result"
    }
   ],
   "source": [
    "case = matching.loc[row_num]['case_patid']\n",
    "case"
   ]
  },
  {
   "cell_type": "code",
   "execution_count": 43,
   "metadata": {
    "collapsed": false
   },
   "outputs": [
    {
     "data": {
      "text/plain": [
       "6624181"
      ]
     },
     "execution_count": 43,
     "metadata": {},
     "output_type": "execute_result"
    }
   ],
   "source": [
    "control = int(matching.loc[row_num]['control_patid'])\n",
    "control"
   ]
  },
  {
   "cell_type": "code",
   "execution_count": 44,
   "metadata": {
    "collapsed": false
   },
   "outputs": [],
   "source": [
    "case_entries = all_entries[all_entries['patid']==case].sort_values(by='sysdate')\n",
    "case_entries['read_term']=case_entries['medcode'].map(lambda x: pegmed.loc[pegmed['medcode']==x]['read term'].iloc[0])\n",
    "case_entries['type']=case_entries['type'].map(lambda x: Entry_Type.look_up[x])"
   ]
  },
  {
   "cell_type": "code",
   "execution_count": 45,
   "metadata": {
    "collapsed": false
   },
   "outputs": [
    {
     "data": {
      "text/plain": [
       "8317605    2002-04-08\n",
       "Name: sysdate, dtype: object"
      ]
     },
     "execution_count": 45,
     "metadata": {},
     "output_type": "execute_result"
    }
   ],
   "source": [
    "case_entries.head(1)['sysdate']"
   ]
  },
  {
   "cell_type": "code",
   "execution_count": 46,
   "metadata": {
    "collapsed": false
   },
   "outputs": [
    {
     "data": {
      "text/plain": [
       "8317442    2012-05-09\n",
       "Name: sysdate, dtype: object"
      ]
     },
     "execution_count": 46,
     "metadata": {},
     "output_type": "execute_result"
    }
   ],
   "source": [
    "case_entries.tail(1)['sysdate']"
   ]
  },
  {
   "cell_type": "code",
   "execution_count": 47,
   "metadata": {
    "collapsed": false
   },
   "outputs": [],
   "source": [
    "control_entries = all_entries[all_entries['patid']==control].sort_values(by='sysdate')\n",
    "control_entries['read_term']=control_entries['medcode'].map(lambda x: pegmed.loc[pegmed['medcode']==x]['read term'].iloc[0])\n",
    "control_entries['type']=control_entries['type'].map(lambda x: Entry_Type.look_up[x])"
   ]
  },
  {
   "cell_type": "code",
   "execution_count": 48,
   "metadata": {
    "collapsed": false
   },
   "outputs": [
    {
     "data": {
      "text/plain": [
       "8283232    2002-04-09\n",
       "Name: sysdate, dtype: object"
      ]
     },
     "execution_count": 48,
     "metadata": {},
     "output_type": "execute_result"
    }
   ],
   "source": [
    "control_entries.head(1)['sysdate']"
   ]
  },
  {
   "cell_type": "code",
   "execution_count": 49,
   "metadata": {
    "collapsed": false
   },
   "outputs": [
    {
     "data": {
      "text/plain": [
       "35943765    2012-10-22\n",
       "Name: sysdate, dtype: object"
      ]
     },
     "execution_count": 49,
     "metadata": {},
     "output_type": "execute_result"
    }
   ],
   "source": [
    "control_entries.tail(1)['sysdate']"
   ]
  },
  {
   "cell_type": "code",
   "execution_count": null,
   "metadata": {
    "collapsed": true
   },
   "outputs": [],
   "source": []
  }
 ],
 "metadata": {
  "kernelspec": {
   "display_name": "Python 3",
   "language": "python",
   "name": "python3"
  },
  "language_info": {
   "codemirror_mode": {
    "name": "ipython",
    "version": 3
   },
   "file_extension": ".py",
   "mimetype": "text/x-python",
   "name": "python",
   "nbconvert_exporter": "python",
   "pygments_lexer": "ipython3",
   "version": "3.5.0"
  }
 },
 "nbformat": 4,
 "nbformat_minor": 0
}
