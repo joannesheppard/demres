{
 "cells": [
  {
   "cell_type": "code",
   "execution_count": 1,
   "metadata": {
    "collapsed": false
   },
   "outputs": [],
   "source": [
    "%load_ext autoreload"
   ]
  },
  {
   "cell_type": "code",
   "execution_count": 2,
   "metadata": {
    "collapsed": true
   },
   "outputs": [],
   "source": [
    "%autoreload 1"
   ]
  },
  {
   "cell_type": "code",
   "execution_count": 4,
   "metadata": {
    "collapsed": false
   },
   "outputs": [],
   "source": [
    "%aimport my_functions\n",
    "%aimport matching_functions\n",
    "%aimport csv_creator_functions\n",
    "%aimport codelists\n",
    "%aimport constants"
   ]
  },
  {
   "cell_type": "code",
   "execution_count": 5,
   "metadata": {
    "collapsed": false
   },
   "outputs": [],
   "source": [
    "import pandas as pd\n",
    "from my_functions import *\n",
    "from matching_functions import *\n",
    "from csv_creator_functions import *\n",
    "import codelists\n",
    "import constants\n",
    "import datetime"
   ]
  },
  {
   "cell_type": "code",
   "execution_count": 6,
   "metadata": {
    "collapsed": false
   },
   "outputs": [
    {
     "data": {
      "text/html": [
       "<style>.container { width:98% !important; }</style>"
      ],
      "text/plain": [
       "<IPython.core.display.HTML object>"
      ]
     },
     "metadata": {},
     "output_type": "display_data"
    }
   ],
   "source": [
    "from IPython.core.display import display, HTML\n",
    "display(HTML(\"<style>.container { width:98% !important; }</style>\"))"
   ]
  },
  {
   "cell_type": "code",
   "execution_count": 7,
   "metadata": {
    "collapsed": false
   },
   "outputs": [],
   "source": [
    "pt_features=pd.read_csv('data/pt_data/pt_features.csv',delimiter=',')"
   ]
  },
  {
   "cell_type": "code",
   "execution_count": 8,
   "metadata": {
    "collapsed": false
   },
   "outputs": [
    {
     "data": {
      "text/html": [
       "<div>\n",
       "<table border=\"1\" class=\"dataframe\">\n",
       "  <thead>\n",
       "    <tr style=\"text-align: right;\">\n",
       "      <th></th>\n",
       "      <th>patid</th>\n",
       "      <th>pracid</th>\n",
       "      <th>gender</th>\n",
       "      <th>birthyear</th>\n",
       "      <th>index_date</th>\n",
       "      <th>isCase</th>\n",
       "      <th>earliest_sysdate</th>\n",
       "      <th>latest_sysdate</th>\n",
       "      <th>days_pre_indexdate</th>\n",
       "      <th>days_post_indexdate</th>\n",
       "      <th>matchid</th>\n",
       "      <th>insomnia_event_count</th>\n",
       "      <th>zdrug prescription count</th>\n",
       "      <th>sedative prescription count</th>\n",
       "      <th>zopiclone prescription count</th>\n",
       "    </tr>\n",
       "  </thead>\n",
       "  <tbody>\n",
       "    <tr>\n",
       "      <th>0</th>\n",
       "      <td>14340043</td>\n",
       "      <td>43</td>\n",
       "      <td>1</td>\n",
       "      <td>1927</td>\n",
       "      <td>2010-04-20</td>\n",
       "      <td>True</td>\n",
       "      <td>1996-01-05</td>\n",
       "      <td>2013-04-22</td>\n",
       "      <td>5219.0</td>\n",
       "      <td>1098.0</td>\n",
       "      <td>9383.0</td>\n",
       "      <td>0</td>\n",
       "      <td>1.0</td>\n",
       "      <td>1.0</td>\n",
       "      <td>1.0</td>\n",
       "    </tr>\n",
       "    <tr>\n",
       "      <th>1</th>\n",
       "      <td>6415158</td>\n",
       "      <td>158</td>\n",
       "      <td>2</td>\n",
       "      <td>1934</td>\n",
       "      <td>2009-06-02</td>\n",
       "      <td>False</td>\n",
       "      <td>1997-10-22</td>\n",
       "      <td>2012-12-07</td>\n",
       "      <td>4241.0</td>\n",
       "      <td>1284.0</td>\n",
       "      <td>2214.0</td>\n",
       "      <td>0</td>\n",
       "      <td>1.0</td>\n",
       "      <td>4.0</td>\n",
       "      <td>1.0</td>\n",
       "    </tr>\n",
       "    <tr>\n",
       "      <th>2</th>\n",
       "      <td>7676314</td>\n",
       "      <td>314</td>\n",
       "      <td>2</td>\n",
       "      <td>1917</td>\n",
       "      <td>2010-05-19</td>\n",
       "      <td>False</td>\n",
       "      <td>1998-08-28</td>\n",
       "      <td>2013-01-11</td>\n",
       "      <td>4282.0</td>\n",
       "      <td>968.0</td>\n",
       "      <td>1558.0</td>\n",
       "      <td>2</td>\n",
       "      <td>2.0</td>\n",
       "      <td>1.0</td>\n",
       "      <td>2.0</td>\n",
       "    </tr>\n",
       "    <tr>\n",
       "      <th>3</th>\n",
       "      <td>495235</td>\n",
       "      <td>235</td>\n",
       "      <td>2</td>\n",
       "      <td>1931</td>\n",
       "      <td>2010-11-06</td>\n",
       "      <td>False</td>\n",
       "      <td>1997-08-13</td>\n",
       "      <td>2013-04-16</td>\n",
       "      <td>4833.0</td>\n",
       "      <td>892.0</td>\n",
       "      <td>1049.0</td>\n",
       "      <td>0</td>\n",
       "      <td>1.0</td>\n",
       "      <td>1.0</td>\n",
       "      <td>1.0</td>\n",
       "    </tr>\n",
       "    <tr>\n",
       "      <th>4</th>\n",
       "      <td>14931089</td>\n",
       "      <td>89</td>\n",
       "      <td>2</td>\n",
       "      <td>1928</td>\n",
       "      <td>2011-01-24</td>\n",
       "      <td>False</td>\n",
       "      <td>1997-07-25</td>\n",
       "      <td>2013-04-26</td>\n",
       "      <td>4931.0</td>\n",
       "      <td>823.0</td>\n",
       "      <td>1964.0</td>\n",
       "      <td>1</td>\n",
       "      <td>2.0</td>\n",
       "      <td>1.0</td>\n",
       "      <td>2.0</td>\n",
       "    </tr>\n",
       "    <tr>\n",
       "      <th>5</th>\n",
       "      <td>6681162</td>\n",
       "      <td>162</td>\n",
       "      <td>2</td>\n",
       "      <td>1936</td>\n",
       "      <td>2011-01-02</td>\n",
       "      <td>True</td>\n",
       "      <td>1996-05-05</td>\n",
       "      <td>2013-05-03</td>\n",
       "      <td>5355.0</td>\n",
       "      <td>852.0</td>\n",
       "      <td>8444.0</td>\n",
       "      <td>2</td>\n",
       "      <td>2.0</td>\n",
       "      <td>1.0</td>\n",
       "      <td>2.0</td>\n",
       "    </tr>\n",
       "    <tr>\n",
       "      <th>6</th>\n",
       "      <td>16779051</td>\n",
       "      <td>51</td>\n",
       "      <td>2</td>\n",
       "      <td>1922</td>\n",
       "      <td>2010-09-03</td>\n",
       "      <td>True</td>\n",
       "      <td>1997-03-05</td>\n",
       "      <td>2011-03-23</td>\n",
       "      <td>4930.0</td>\n",
       "      <td>201.0</td>\n",
       "      <td>1517.0</td>\n",
       "      <td>0</td>\n",
       "      <td>1.0</td>\n",
       "      <td>1.0</td>\n",
       "      <td>1.0</td>\n",
       "    </tr>\n",
       "    <tr>\n",
       "      <th>7</th>\n",
       "      <td>5245138</td>\n",
       "      <td>138</td>\n",
       "      <td>1</td>\n",
       "      <td>1926</td>\n",
       "      <td>2010-07-26</td>\n",
       "      <td>False</td>\n",
       "      <td>1996-11-03</td>\n",
       "      <td>2013-04-26</td>\n",
       "      <td>5013.0</td>\n",
       "      <td>1005.0</td>\n",
       "      <td>5055.0</td>\n",
       "      <td>2</td>\n",
       "      <td>2.0</td>\n",
       "      <td>1.0</td>\n",
       "      <td>2.0</td>\n",
       "    </tr>\n",
       "    <tr>\n",
       "      <th>8</th>\n",
       "      <td>7960162</td>\n",
       "      <td>162</td>\n",
       "      <td>2</td>\n",
       "      <td>1932</td>\n",
       "      <td>2009-05-03</td>\n",
       "      <td>True</td>\n",
       "      <td>1996-04-11</td>\n",
       "      <td>2013-04-23</td>\n",
       "      <td>4770.0</td>\n",
       "      <td>1451.0</td>\n",
       "      <td>6876.0</td>\n",
       "      <td>4</td>\n",
       "      <td>1.0</td>\n",
       "      <td>2.0</td>\n",
       "      <td>1.0</td>\n",
       "    </tr>\n",
       "    <tr>\n",
       "      <th>9</th>\n",
       "      <td>2463257</td>\n",
       "      <td>257</td>\n",
       "      <td>2</td>\n",
       "      <td>1927</td>\n",
       "      <td>2009-07-01</td>\n",
       "      <td>True</td>\n",
       "      <td>1996-11-12</td>\n",
       "      <td>2013-05-10</td>\n",
       "      <td>4614.0</td>\n",
       "      <td>1409.0</td>\n",
       "      <td>8798.0</td>\n",
       "      <td>0</td>\n",
       "      <td>4.0</td>\n",
       "      <td>33.0</td>\n",
       "      <td>4.0</td>\n",
       "    </tr>\n",
       "  </tbody>\n",
       "</table>\n",
       "</div>"
      ],
      "text/plain": [
       "      patid  pracid  gender  birthyear  index_date isCase earliest_sysdate  \\\n",
       "0  14340043      43       1       1927  2010-04-20   True       1996-01-05   \n",
       "1   6415158     158       2       1934  2009-06-02  False       1997-10-22   \n",
       "2   7676314     314       2       1917  2010-05-19  False       1998-08-28   \n",
       "3    495235     235       2       1931  2010-11-06  False       1997-08-13   \n",
       "4  14931089      89       2       1928  2011-01-24  False       1997-07-25   \n",
       "5   6681162     162       2       1936  2011-01-02   True       1996-05-05   \n",
       "6  16779051      51       2       1922  2010-09-03   True       1997-03-05   \n",
       "7   5245138     138       1       1926  2010-07-26  False       1996-11-03   \n",
       "8   7960162     162       2       1932  2009-05-03   True       1996-04-11   \n",
       "9   2463257     257       2       1927  2009-07-01   True       1996-11-12   \n",
       "\n",
       "  latest_sysdate  days_pre_indexdate  days_post_indexdate  matchid  \\\n",
       "0     2013-04-22              5219.0               1098.0   9383.0   \n",
       "1     2012-12-07              4241.0               1284.0   2214.0   \n",
       "2     2013-01-11              4282.0                968.0   1558.0   \n",
       "3     2013-04-16              4833.0                892.0   1049.0   \n",
       "4     2013-04-26              4931.0                823.0   1964.0   \n",
       "5     2013-05-03              5355.0                852.0   8444.0   \n",
       "6     2011-03-23              4930.0                201.0   1517.0   \n",
       "7     2013-04-26              5013.0               1005.0   5055.0   \n",
       "8     2013-04-23              4770.0               1451.0   6876.0   \n",
       "9     2013-05-10              4614.0               1409.0   8798.0   \n",
       "\n",
       "   insomnia_event_count  zdrug prescription count  \\\n",
       "0                     0                       1.0   \n",
       "1                     0                       1.0   \n",
       "2                     2                       2.0   \n",
       "3                     0                       1.0   \n",
       "4                     1                       2.0   \n",
       "5                     2                       2.0   \n",
       "6                     0                       1.0   \n",
       "7                     2                       2.0   \n",
       "8                     4                       1.0   \n",
       "9                     0                       4.0   \n",
       "\n",
       "   sedative prescription count  zopiclone prescription count  \n",
       "0                          1.0                           1.0  \n",
       "1                          4.0                           1.0  \n",
       "2                          1.0                           2.0  \n",
       "3                          1.0                           1.0  \n",
       "4                          1.0                           2.0  \n",
       "5                          1.0                           2.0  \n",
       "6                          1.0                           1.0  \n",
       "7                          1.0                           2.0  \n",
       "8                          2.0                           1.0  \n",
       "9                         33.0                           4.0  "
      ]
     },
     "execution_count": 8,
     "metadata": {},
     "output_type": "execute_result"
    }
   ],
   "source": [
    "pt_features.head(10)"
   ]
  },
  {
   "cell_type": "code",
   "execution_count": null,
   "metadata": {
    "collapsed": false
   },
   "outputs": [],
   "source": [
    "all_cases = len(pt_features)\n",
    "all_cases"
   ]
  },
  {
   "cell_type": "code",
   "execution_count": null,
   "metadata": {
    "collapsed": false,
    "scrolled": true
   },
   "outputs": [],
   "source": [
    "have_insomnia = pt_features['insomnia_event_count']>0\n",
    "pt_features[have_insomnia].sample(3)"
   ]
  },
  {
   "cell_type": "code",
   "execution_count": null,
   "metadata": {
    "collapsed": false
   },
   "outputs": [],
   "source": [
    "total_pts_with_insomnia=len(pt_features[have_insomnia])\n",
    "total_pts_with_insomnia"
   ]
  },
  {
   "cell_type": "code",
   "execution_count": null,
   "metadata": {
    "collapsed": false
   },
   "outputs": [],
   "source": [
    "on_zdrugs = pt_features['zdrug prescription count']>0\n",
    "pt_features[on_zdrugs].sample(3)"
   ]
  },
  {
   "cell_type": "code",
   "execution_count": null,
   "metadata": {
    "collapsed": false
   },
   "outputs": [],
   "source": [
    "total_pts_on_zdrugs = len(pt_features[on_zdrugs])\n",
    "total_pts_on_zdrugs"
   ]
  },
  {
   "cell_type": "code",
   "execution_count": null,
   "metadata": {
    "collapsed": false
   },
   "outputs": [],
   "source": [
    "zdruggers_without_insomnia = pt_features[(have_insomnia==False) & (on_zdrugs==True)]\n",
    "zdruggers_without_insomnia.sample(3)"
   ]
  },
  {
   "cell_type": "code",
   "execution_count": null,
   "metadata": {
    "collapsed": false
   },
   "outputs": [],
   "source": [
    "insomniacs_without_zdrugs = pt_features[(have_insomnia==True) & (on_zdrugs==False)]\n",
    "insomniacs_without_zdrugs.sample(3)"
   ]
  },
  {
   "cell_type": "code",
   "execution_count": null,
   "metadata": {
    "collapsed": false
   },
   "outputs": [],
   "source": [
    "insomniac_cases_without_zdrugs = pt_features[(pt_features['isCase']==True)&(have_insomnia==True) & (on_zdrugs==False)]\n",
    "len(insomniac_cases_without_zdrugs)"
   ]
  },
  {
   "cell_type": "code",
   "execution_count": null,
   "metadata": {
    "collapsed": false
   },
   "outputs": [],
   "source": [
    "insomniac_controls_without_zdrugs = pt_features[(pt_features['isCase']==False)&(have_insomnia==True) & (on_zdrugs==False)]\n",
    "len(insomniac_controls_without_zdrugs)"
   ]
  },
  {
   "cell_type": "code",
   "execution_count": null,
   "metadata": {
    "collapsed": false
   },
   "outputs": [],
   "source": [
    "get_specific_prescription_count_then_add_to_pt_features(codelists.sedatives,'sedative prescription count')"
   ]
  },
  {
   "cell_type": "code",
   "execution_count": null,
   "metadata": {
    "collapsed": false
   },
   "outputs": [],
   "source": [
    "get_specific_prescription_count_then_add_to_pt_features(codelists.zdrugs,'zdrug prescription count')"
   ]
  },
  {
   "cell_type": "code",
   "execution_count": null,
   "metadata": {
    "collapsed": true
   },
   "outputs": [],
   "source": [
    "pegprod=pd.read_csv('data/dicts/proc_pegasus_prod.csv',delimiter=',')"
   ]
  },
  {
   "cell_type": "code",
   "execution_count": null,
   "metadata": {
    "collapsed": false
   },
   "outputs": [],
   "source": [
    "pegprod.head(2)"
   ]
  },
  {
   "cell_type": "code",
   "execution_count": null,
   "metadata": {
    "collapsed": false
   },
   "outputs": [],
   "source": [
    "pegprod[pegprod['drug substance name'].str.contains('zolpidem tartrate',na=False,case=False)]"
   ]
  },
  {
   "cell_type": "code",
   "execution_count": null,
   "metadata": {
    "collapsed": true
   },
   "outputs": [],
   "source": []
  }
 ],
 "metadata": {
  "kernelspec": {
   "display_name": "Python 3",
   "language": "python",
   "name": "python3"
  },
  "language_info": {
   "codemirror_mode": {
    "name": "ipython",
    "version": 3
   },
   "file_extension": ".py",
   "mimetype": "text/x-python",
   "name": "python",
   "nbconvert_exporter": "python",
   "pygments_lexer": "ipython3",
   "version": "3.5.0"
  }
 },
 "nbformat": 4,
 "nbformat_minor": 0
}
