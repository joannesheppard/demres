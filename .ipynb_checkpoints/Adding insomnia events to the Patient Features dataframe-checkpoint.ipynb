{
 "cells": [
  {
   "cell_type": "code",
   "execution_count": 91,
   "metadata": {
    "collapsed": true
   },
   "outputs": [],
   "source": [
    "import pandas as pd\n",
    "from my_functions import *\n",
    "import numpy as np"
   ]
  },
  {
   "cell_type": "code",
   "execution_count": 3,
   "metadata": {
    "collapsed": true
   },
   "outputs": [],
   "source": [
    "insents = pd.read_csv('data/pt_data/proc_insomnia_clinicalentries.csv',delimiter=',')"
   ]
  },
  {
   "cell_type": "code",
   "execution_count": 4,
   "metadata": {
    "collapsed": false
   },
   "outputs": [
    {
     "data": {
      "text/html": [
       "<div>\n",
       "<table border=\"1\" class=\"dataframe\">\n",
       "  <thead>\n",
       "    <tr style=\"text-align: right;\">\n",
       "      <th></th>\n",
       "      <th>patid</th>\n",
       "      <th>eventdate</th>\n",
       "      <th>sysdate</th>\n",
       "      <th>constype</th>\n",
       "      <th>consid</th>\n",
       "      <th>medcode</th>\n",
       "      <th>staffid</th>\n",
       "      <th>textid</th>\n",
       "      <th>episode</th>\n",
       "      <th>enttype</th>\n",
       "      <th>adid</th>\n",
       "      <th>file</th>\n",
       "    </tr>\n",
       "  </thead>\n",
       "  <tbody>\n",
       "    <tr>\n",
       "      <th>0</th>\n",
       "      <td>149001</td>\n",
       "      <td>27/11/1989</td>\n",
       "      <td>28/05/2003</td>\n",
       "      <td>3</td>\n",
       "      <td>25478</td>\n",
       "      <td>750</td>\n",
       "      <td>0</td>\n",
       "      <td>0</td>\n",
       "      <td>1</td>\n",
       "      <td>2</td>\n",
       "      <td>0</td>\n",
       "      <td>1</td>\n",
       "    </tr>\n",
       "    <tr>\n",
       "      <th>1</th>\n",
       "      <td>702001</td>\n",
       "      <td>08/03/2004</td>\n",
       "      <td>08/03/2004</td>\n",
       "      <td>3</td>\n",
       "      <td>117651</td>\n",
       "      <td>750</td>\n",
       "      <td>7001</td>\n",
       "      <td>20671</td>\n",
       "      <td>1</td>\n",
       "      <td>2</td>\n",
       "      <td>0</td>\n",
       "      <td>1</td>\n",
       "    </tr>\n",
       "    <tr>\n",
       "      <th>2</th>\n",
       "      <td>702001</td>\n",
       "      <td>27/01/2005</td>\n",
       "      <td>27/01/2005</td>\n",
       "      <td>3</td>\n",
       "      <td>117733</td>\n",
       "      <td>750</td>\n",
       "      <td>7001</td>\n",
       "      <td>20682</td>\n",
       "      <td>1</td>\n",
       "      <td>2</td>\n",
       "      <td>0</td>\n",
       "      <td>1</td>\n",
       "    </tr>\n",
       "    <tr>\n",
       "      <th>3</th>\n",
       "      <td>802001</td>\n",
       "      <td>27/09/1991</td>\n",
       "      <td>07/03/1997</td>\n",
       "      <td>3</td>\n",
       "      <td>131148</td>\n",
       "      <td>750</td>\n",
       "      <td>0</td>\n",
       "      <td>0</td>\n",
       "      <td>4</td>\n",
       "      <td>2</td>\n",
       "      <td>0</td>\n",
       "      <td>1</td>\n",
       "    </tr>\n",
       "    <tr>\n",
       "      <th>4</th>\n",
       "      <td>802001</td>\n",
       "      <td>03/01/2006</td>\n",
       "      <td>03/01/2006</td>\n",
       "      <td>3</td>\n",
       "      <td>131283</td>\n",
       "      <td>750</td>\n",
       "      <td>5001</td>\n",
       "      <td>23141</td>\n",
       "      <td>2</td>\n",
       "      <td>2</td>\n",
       "      <td>0</td>\n",
       "      <td>1</td>\n",
       "    </tr>\n",
       "  </tbody>\n",
       "</table>\n",
       "</div>"
      ],
      "text/plain": [
       "    patid   eventdate     sysdate  constype  consid  medcode  staffid  textid  \\\n",
       "0  149001  27/11/1989  28/05/2003         3   25478      750        0       0   \n",
       "1  702001  08/03/2004  08/03/2004         3  117651      750     7001   20671   \n",
       "2  702001  27/01/2005  27/01/2005         3  117733      750     7001   20682   \n",
       "3  802001  27/09/1991  07/03/1997         3  131148      750        0       0   \n",
       "4  802001  03/01/2006  03/01/2006         3  131283      750     5001   23141   \n",
       "\n",
       "   episode  enttype  adid  file  \n",
       "0        1        2     0     1  \n",
       "1        1        2     0     1  \n",
       "2        1        2     0     1  \n",
       "3        4        2     0     1  \n",
       "4        2        2     0     1  "
      ]
     },
     "execution_count": 4,
     "metadata": {},
     "output_type": "execute_result"
    }
   ],
   "source": [
    "insents.head(5)"
   ]
  },
  {
   "cell_type": "code",
   "execution_count": 5,
   "metadata": {
    "collapsed": true
   },
   "outputs": [],
   "source": [
    "pegmed = pd.read_csv('data/dicts/proc_pegasus_medical.csv',delimiter=',')"
   ]
  },
  {
   "cell_type": "code",
   "execution_count": 6,
   "metadata": {
    "collapsed": false
   },
   "outputs": [
    {
     "data": {
      "text/html": [
       "<div>\n",
       "<table border=\"1\" class=\"dataframe\">\n",
       "  <thead>\n",
       "    <tr style=\"text-align: right;\">\n",
       "      <th></th>\n",
       "      <th>medcode</th>\n",
       "      <th>readcode</th>\n",
       "      <th>clinical events</th>\n",
       "      <th>immunisation events</th>\n",
       "      <th>referral events</th>\n",
       "      <th>test events</th>\n",
       "      <th>read term</th>\n",
       "      <th>database build</th>\n",
       "    </tr>\n",
       "  </thead>\n",
       "  <tbody>\n",
       "    <tr>\n",
       "      <th>0</th>\n",
       "      <td>42602</td>\n",
       "      <td>E001000</td>\n",
       "      <td>30</td>\n",
       "      <td>0</td>\n",
       "      <td>1</td>\n",
       "      <td>0</td>\n",
       "      <td>Uncomplicated presenile dementia</td>\n",
       "      <td>February 2009</td>\n",
       "    </tr>\n",
       "    <tr>\n",
       "      <th>1</th>\n",
       "      <td>65166</td>\n",
       "      <td>TAy0.00</td>\n",
       "      <td>2</td>\n",
       "      <td>0</td>\n",
       "      <td>0</td>\n",
       "      <td>0</td>\n",
       "      <td>Mismatched blood transfused</td>\n",
       "      <td>February 2009</td>\n",
       "    </tr>\n",
       "    <tr>\n",
       "      <th>2</th>\n",
       "      <td>86183</td>\n",
       "      <td>K2284PH</td>\n",
       "      <td>0</td>\n",
       "      <td>0</td>\n",
       "      <td>0</td>\n",
       "      <td>0</td>\n",
       "      <td>NaN</td>\n",
       "      <td>February 2009</td>\n",
       "    </tr>\n",
       "    <tr>\n",
       "      <th>3</th>\n",
       "      <td>24730</td>\n",
       "      <td>ZC2C100</td>\n",
       "      <td>142</td>\n",
       "      <td>0</td>\n",
       "      <td>7</td>\n",
       "      <td>0</td>\n",
       "      <td>Dietary treatment for disorder</td>\n",
       "      <td>February 2009</td>\n",
       "    </tr>\n",
       "    <tr>\n",
       "      <th>4</th>\n",
       "      <td>12413</td>\n",
       "      <td>5C10.00</td>\n",
       "      <td>876</td>\n",
       "      <td>0</td>\n",
       "      <td>68</td>\n",
       "      <td>3966</td>\n",
       "      <td>Carotid artery doppler abnormal</td>\n",
       "      <td>February 2009</td>\n",
       "    </tr>\n",
       "  </tbody>\n",
       "</table>\n",
       "</div>"
      ],
      "text/plain": [
       "   medcode readcode  clinical events  immunisation events  referral events  \\\n",
       "0    42602  E001000               30                    0                1   \n",
       "1    65166  TAy0.00                2                    0                0   \n",
       "2    86183  K2284PH                0                    0                0   \n",
       "3    24730  ZC2C100              142                    0                7   \n",
       "4    12413  5C10.00              876                    0               68   \n",
       "\n",
       "   test events                         read term database build  \n",
       "0            0  Uncomplicated presenile dementia  February 2009  \n",
       "1            0       Mismatched blood transfused  February 2009  \n",
       "2            0                               NaN  February 2009  \n",
       "3            0    Dietary treatment for disorder  February 2009  \n",
       "4         3966   Carotid artery doppler abnormal  February 2009  "
      ]
     },
     "execution_count": 6,
     "metadata": {},
     "output_type": "execute_result"
    }
   ],
   "source": [
    "pegmed.head(5)"
   ]
  },
  {
   "cell_type": "code",
   "execution_count": 155,
   "metadata": {
    "collapsed": false
   },
   "outputs": [
    {
     "data": {
      "text/plain": [
       "patid     eventdate \n",
       "1467      01/02/2008    1\n",
       "          01/03/2013    1\n",
       "          02/06/2008    1\n",
       "          03/01/2008    1\n",
       "          08/09/2009    1\n",
       "          15/02/2008    1\n",
       "          18/05/2009    1\n",
       "          23/11/2007    1\n",
       "          24/01/2008    1\n",
       "          29/11/2007    1\n",
       "3432      10/11/2008    1\n",
       "          31/12/2004    1\n",
       "3549      09/11/2007    1\n",
       "          10/10/2005    1\n",
       "          20/01/2006    1\n",
       "          23/06/2006    1\n",
       "4290      29/06/2005    1\n",
       "6365      19/05/2008    1\n",
       "9609      23/05/2006    1\n",
       "12043     14/02/1990    1\n",
       "12137     18/06/2008    1\n",
       "13638     15/05/2003    1\n",
       "14280     13/03/2007    1\n",
       "          15/10/2007    1\n",
       "          18/10/2004    1\n",
       "          29/03/2013    1\n",
       "          31/03/2006    1\n",
       "15385     26/04/1993    1\n",
       "          28/05/1998    1\n",
       "16064     23/06/2006    1\n",
       "                       ..\n",
       "55411640  19/05/2010    1\n",
       "55488470  01/07/2005    1\n",
       "55779640  26/05/2006    1\n",
       "55953229  17/12/2003    1\n",
       "56211470  23/01/2006    1\n",
       "57701470  01/05/2006    1\n",
       "          25/01/2011    1\n",
       "59826470  30/12/2011    1\n",
       "60161229  11/04/2005    1\n",
       "60806470  27/03/2008    1\n",
       "61259470  21/10/2008    1\n",
       "61341229  15/11/2012    1\n",
       "61429670  09/07/2008    1\n",
       "63057229  23/03/2009    1\n",
       "63231229  18/05/2005    1\n",
       "          28/01/2005    1\n",
       "68877229  28/03/2013    1\n",
       "73871229  02/10/2008    1\n",
       "          07/11/2007    1\n",
       "          14/11/2008    1\n",
       "          18/03/2008    1\n",
       "          21/08/2008    1\n",
       "          30/10/2007    1\n",
       "          30/10/2008    1\n",
       "74205229  13/08/2007    1\n",
       "75633229  09/07/2007    1\n",
       "          23/09/2008    1\n",
       "          25/09/2009    1\n",
       "77718229  28/01/2010    1\n",
       "79208229  05/11/2008    1\n",
       "dtype: int64"
      ]
     },
     "execution_count": 155,
     "metadata": {},
     "output_type": "execute_result"
    }
   ],
   "source": [
    "pt_insom_events = insents.groupby(['patid','eventdate']).size()\n",
    "pt_insom_events"
   ]
  },
  {
   "cell_type": "code",
   "execution_count": 178,
   "metadata": {
    "collapsed": false
   },
   "outputs": [
    {
     "data": {
      "text/plain": [
       "7"
      ]
     },
     "execution_count": 178,
     "metadata": {},
     "output_type": "execute_result"
    }
   ],
   "source": [
    "len(pt_insom_events.loc[73871229])"
   ]
  },
  {
   "cell_type": "code",
   "execution_count": 67,
   "metadata": {
    "collapsed": false
   },
   "outputs": [
    {
     "data": {
      "text/plain": [
       "Index(['01/02/2008', '01/03/2013', '02/06/2008', '03/01/2008', '08/09/2009',\n",
       "       '15/02/2008', '18/05/2009', '23/11/2007', '24/01/2008', '29/11/2007',\n",
       "       ...\n",
       "       '18/03/2008', '21/08/2008', '30/10/2007', '30/10/2008', '13/08/2007',\n",
       "       '09/07/2007', '23/09/2008', '25/09/2009', '28/01/2010', '05/11/2008'],\n",
       "      dtype='object', name='eventdate', length=35738)"
      ]
     },
     "execution_count": 67,
     "metadata": {},
     "output_type": "execute_result"
    }
   ],
   "source": [
    "pt_insom_events.index.get_level_values(1)"
   ]
  },
  {
   "cell_type": "code",
   "execution_count": 42,
   "metadata": {
    "collapsed": false
   },
   "outputs": [
    {
     "data": {
      "text/plain": [
       "<pandas.core.groupby.DataFrameGroupBy object at 0x108f24f28>"
      ]
     },
     "execution_count": 42,
     "metadata": {},
     "output_type": "execute_result"
    }
   ],
   "source": [
    "insents.groupby(['patid','eventdate'])"
   ]
  },
  {
   "cell_type": "code",
   "execution_count": 110,
   "metadata": {
    "collapsed": false
   },
   "outputs": [],
   "source": [
    "features = pd.read_csv('data/pt_data/pt_features.csv',delimiter=',',low_memory=False)"
   ]
  },
  {
   "cell_type": "code",
   "execution_count": 111,
   "metadata": {
    "collapsed": false
   },
   "outputs": [],
   "source": [
    "features['insom_events']=np.nan"
   ]
  },
  {
   "cell_type": "code",
   "execution_count": 112,
   "metadata": {
    "collapsed": false
   },
   "outputs": [
    {
     "data": {
      "text/html": [
       "<div>\n",
       "<table border=\"1\" class=\"dataframe\">\n",
       "  <thead>\n",
       "    <tr style=\"text-align: right;\">\n",
       "      <th></th>\n",
       "      <th>patID</th>\n",
       "      <th>pracID</th>\n",
       "      <th>gender</th>\n",
       "      <th>birthyear</th>\n",
       "      <th>case_index</th>\n",
       "      <th>matchID</th>\n",
       "      <th>data_start</th>\n",
       "      <th>data_end</th>\n",
       "      <th>isCase</th>\n",
       "      <th>insom_events</th>\n",
       "    </tr>\n",
       "  </thead>\n",
       "  <tbody>\n",
       "    <tr>\n",
       "      <th>0</th>\n",
       "      <td>4923328</td>\n",
       "      <td>328</td>\n",
       "      <td>2</td>\n",
       "      <td>1916</td>\n",
       "      <td>01/07/2003</td>\n",
       "      <td>4355328</td>\n",
       "      <td>01/01/2000</td>\n",
       "      <td>07/02/2009</td>\n",
       "      <td>True</td>\n",
       "      <td>NaN</td>\n",
       "    </tr>\n",
       "    <tr>\n",
       "      <th>1</th>\n",
       "      <td>1959216</td>\n",
       "      <td>216</td>\n",
       "      <td>1</td>\n",
       "      <td>1933</td>\n",
       "      <td>25/02/2011</td>\n",
       "      <td>6290216</td>\n",
       "      <td>01/01/2000</td>\n",
       "      <td>01/06/2012</td>\n",
       "      <td>True</td>\n",
       "      <td>NaN</td>\n",
       "    </tr>\n",
       "    <tr>\n",
       "      <th>2</th>\n",
       "      <td>9271420</td>\n",
       "      <td>420</td>\n",
       "      <td>1</td>\n",
       "      <td>1917</td>\n",
       "      <td>20/06/2003</td>\n",
       "      <td>2770420</td>\n",
       "      <td>02/01/2003</td>\n",
       "      <td>29/12/2009</td>\n",
       "      <td>True</td>\n",
       "      <td>NaN</td>\n",
       "    </tr>\n",
       "    <tr>\n",
       "      <th>3</th>\n",
       "      <td>548429</td>\n",
       "      <td>429</td>\n",
       "      <td>2</td>\n",
       "      <td>1925</td>\n",
       "      <td>11/05/2005</td>\n",
       "      <td>5473429</td>\n",
       "      <td>01/01/2000</td>\n",
       "      <td>01/06/2012</td>\n",
       "      <td>True</td>\n",
       "      <td>NaN</td>\n",
       "    </tr>\n",
       "    <tr>\n",
       "      <th>4</th>\n",
       "      <td>14185081</td>\n",
       "      <td>81</td>\n",
       "      <td>2</td>\n",
       "      <td>1917</td>\n",
       "      <td>28/02/2005</td>\n",
       "      <td>5951081</td>\n",
       "      <td>01/01/2000</td>\n",
       "      <td>27/01/2007</td>\n",
       "      <td>True</td>\n",
       "      <td>NaN</td>\n",
       "    </tr>\n",
       "    <tr>\n",
       "      <th>5</th>\n",
       "      <td>7329438</td>\n",
       "      <td>438</td>\n",
       "      <td>2</td>\n",
       "      <td>1941</td>\n",
       "      <td>04/08/2008</td>\n",
       "      <td>17742438</td>\n",
       "      <td>01/01/2000</td>\n",
       "      <td>01/06/2012</td>\n",
       "      <td>True</td>\n",
       "      <td>NaN</td>\n",
       "    </tr>\n",
       "    <tr>\n",
       "      <th>6</th>\n",
       "      <td>6327373</td>\n",
       "      <td>373</td>\n",
       "      <td>1</td>\n",
       "      <td>1941</td>\n",
       "      <td>26/03/2009</td>\n",
       "      <td>5262373</td>\n",
       "      <td>22/12/2004</td>\n",
       "      <td>10/09/2010</td>\n",
       "      <td>True</td>\n",
       "      <td>NaN</td>\n",
       "    </tr>\n",
       "    <tr>\n",
       "      <th>7</th>\n",
       "      <td>5811024</td>\n",
       "      <td>24</td>\n",
       "      <td>1</td>\n",
       "      <td>1930</td>\n",
       "      <td>14/12/2010</td>\n",
       "      <td>6394024</td>\n",
       "      <td>01/01/2000</td>\n",
       "      <td>01/06/2012</td>\n",
       "      <td>True</td>\n",
       "      <td>NaN</td>\n",
       "    </tr>\n",
       "    <tr>\n",
       "      <th>8</th>\n",
       "      <td>6905371</td>\n",
       "      <td>371</td>\n",
       "      <td>1</td>\n",
       "      <td>1926</td>\n",
       "      <td>19/09/2006</td>\n",
       "      <td>15830371</td>\n",
       "      <td>07/11/2002</td>\n",
       "      <td>22/07/2009</td>\n",
       "      <td>True</td>\n",
       "      <td>NaN</td>\n",
       "    </tr>\n",
       "    <tr>\n",
       "      <th>9</th>\n",
       "      <td>7741629</td>\n",
       "      <td>629</td>\n",
       "      <td>1</td>\n",
       "      <td>1936</td>\n",
       "      <td>10/06/2004</td>\n",
       "      <td>9053629</td>\n",
       "      <td>01/01/2000</td>\n",
       "      <td>01/06/2012</td>\n",
       "      <td>True</td>\n",
       "      <td>NaN</td>\n",
       "    </tr>\n",
       "  </tbody>\n",
       "</table>\n",
       "</div>"
      ],
      "text/plain": [
       "      patID pracID gender birthyear  case_index   matchID  data_start  \\\n",
       "0   4923328    328      2      1916  01/07/2003   4355328  01/01/2000   \n",
       "1   1959216    216      1      1933  25/02/2011   6290216  01/01/2000   \n",
       "2   9271420    420      1      1917  20/06/2003   2770420  02/01/2003   \n",
       "3    548429    429      2      1925  11/05/2005   5473429  01/01/2000   \n",
       "4  14185081     81      2      1917  28/02/2005   5951081  01/01/2000   \n",
       "5   7329438    438      2      1941  04/08/2008  17742438  01/01/2000   \n",
       "6   6327373    373      1      1941  26/03/2009   5262373  22/12/2004   \n",
       "7   5811024     24      1      1930  14/12/2010   6394024  01/01/2000   \n",
       "8   6905371    371      1      1926  19/09/2006  15830371  07/11/2002   \n",
       "9   7741629    629      1      1936  10/06/2004   9053629  01/01/2000   \n",
       "\n",
       "     data_end isCase  insom_events  \n",
       "0  07/02/2009   True           NaN  \n",
       "1  01/06/2012   True           NaN  \n",
       "2  29/12/2009   True           NaN  \n",
       "3  01/06/2012   True           NaN  \n",
       "4  27/01/2007   True           NaN  \n",
       "5  01/06/2012   True           NaN  \n",
       "6  10/09/2010   True           NaN  \n",
       "7  01/06/2012   True           NaN  \n",
       "8  22/07/2009   True           NaN  \n",
       "9  01/06/2012   True           NaN  "
      ]
     },
     "execution_count": 112,
     "metadata": {},
     "output_type": "execute_result"
    }
   ],
   "source": [
    "features.head(10)"
   ]
  },
  {
   "cell_type": "code",
   "execution_count": 181,
   "metadata": {
    "collapsed": false
   },
   "outputs": [],
   "source": [
    "for count,pt in features[:100].iterrows():\n",
    "    patid=int(pt['patID'])\n",
    "    if 3==4:\n",
    "        print(len(pt_insom_events.loc[patid]))\n",
    "#     features.loc[features['patID']=='patid','insom_events']=len(pt_insom_events[patid])"
   ]
  },
  {
   "cell_type": "code",
   "execution_count": null,
   "metadata": {
    "collapsed": true
   },
   "outputs": [],
   "source": []
  }
 ],
 "metadata": {
  "kernelspec": {
   "display_name": "Python 3",
   "language": "python",
   "name": "python3"
  },
  "language_info": {
   "codemirror_mode": {
    "name": "ipython",
    "version": 3
   },
   "file_extension": ".py",
   "mimetype": "text/x-python",
   "name": "python",
   "nbconvert_exporter": "python",
   "pygments_lexer": "ipython3",
   "version": "3.5.0"
  }
 },
 "nbformat": 4,
 "nbformat_minor": 0
}
