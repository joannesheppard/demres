{
 "cells": [
  {
   "cell_type": "code",
   "execution_count": null,
   "metadata": {
    "collapsed": false
   },
   "outputs": [],
   "source": [
    "import pandas as pd\n",
    "import numpy as np\n",
    "from my_functions import *"
   ]
  },
  {
   "cell_type": "code",
   "execution_count": null,
   "metadata": {
    "collapsed": false
   },
   "outputs": [],
   "source": [
    "# create_pegmed()\n",
    "# create_insomnia_medcodes()\n",
    "create_insomnia_clinentries()"
   ]
  },
  {
   "cell_type": "code",
   "execution_count": null,
   "metadata": {
    "collapsed": true
   },
   "outputs": [],
   "source": [
    "insom_df = pd.read_csv('data/pt_data/proc_insomnia_clinicalentries.csv',delimiter=',')"
   ]
  },
  {
   "cell_type": "code",
   "execution_count": null,
   "metadata": {
    "collapsed": false
   },
   "outputs": [],
   "source": [
    "insom_df.head(10)"
   ]
  },
  {
   "cell_type": "code",
   "execution_count": null,
   "metadata": {
    "collapsed": true
   },
   "outputs": [],
   "source": [
    "!cd"
   ]
  },
  {
   "cell_type": "code",
   "execution_count": null,
   "metadata": {
    "collapsed": false
   },
   "outputs": [],
   "source": [
    "pd.read_csv('Case_file.txt',delimiter='\\t').head(5)"
   ]
  },
  {
   "cell_type": "code",
   "execution_count": null,
   "metadata": {
    "collapsed": false
   },
   "outputs": [],
   "source": [
    "matching = pd.read_csv('data/pt_data/Matching_File.txt',delimiter='\\t')"
   ]
  },
  {
   "cell_type": "code",
   "execution_count": null,
   "metadata": {
    "collapsed": false
   },
   "outputs": [],
   "source": [
    "matching.head(5)"
   ]
  },
  {
   "cell_type": "code",
   "execution_count": null,
   "metadata": {
    "collapsed": false
   },
   "outputs": [],
   "source": [
    "feature_index=['patID','pracID','gender','birthyear','isCase','matchid','case_index','data_start','data_end']\n",
    "features = pd.DataFrame(columns=feature_index)\n",
    "features"
   ]
  },
  {
   "cell_type": "code",
   "execution_count": null,
   "metadata": {
    "collapsed": false
   },
   "outputs": [],
   "source": [
    "for index,row in matching.iterrows():\n",
    "# first append the case\n",
    "    index = len(features)\n",
    "    features.loc[index,feature_index[0]]=row[0] #patID\n",
    "    features.loc[index,feature_index[1]]=row[1] #pracID\n",
    "    features.loc[index,feature_index[2]]=row[2] #gender\n",
    "    features.loc[index,feature_index[3]]=row[3] #birthyear\n",
    "    features.loc[index,feature_index[4]]=True #isCase\n",
    "    features.loc[index,feature_index[5]]=row[6] #matchid\n",
    "    features.loc[index,feature_index[6]]=row[4] #case_index\n",
    "    features.loc[index,feature_index[7]]=row[10] #data_start\n",
    "    features.loc[index,feature_index[8]]=row[11] #data_end\n",
    "# now append the control\n",
    "    index = len(features)\n",
    "    features.loc[index,feature_index[0]]=row[6] #patID\n",
    "    features.loc[index,feature_index[1]]=row[7] #pracID\n",
    "    features.loc[index,feature_index[2]]=row[8] #gender\n",
    "    features.loc[index,feature_index[3]]=row[9] #birthyear\n",
    "    features.loc[index,feature_index[4]]=False #isCase\n",
    "    features.loc[index,feature_index[5]]=row[0] #matchid\n",
    "    features.loc[index,feature_index[6]]=row[4] #case_index\n",
    "    features.loc[index,feature_index[7]]=row[10] #data_start\n",
    "    features.loc[index,feature_index[8]]=row[11] #data_end"
   ]
  },
  {
   "cell_type": "code",
   "execution_count": null,
   "metadata": {
    "collapsed": false
   },
   "outputs": [],
   "source": [
    "features[:10]"
   ]
  },
  {
   "cell_type": "code",
   "execution_count": null,
   "metadata": {
    "collapsed": true
   },
   "outputs": [],
   "source": []
  },
  {
   "cell_type": "code",
   "execution_count": null,
   "metadata": {
    "collapsed": true
   },
   "outputs": [],
   "source": []
  },
  {
   "cell_type": "code",
   "execution_count": null,
   "metadata": {
    "collapsed": true
   },
   "outputs": [],
   "source": []
  }
 ],
 "metadata": {
  "kernelspec": {
   "display_name": "Python 3",
   "language": "python",
   "name": "python3"
  },
  "language_info": {
   "codemirror_mode": {
    "name": "ipython",
    "version": 3
   },
   "file_extension": ".py",
   "mimetype": "text/x-python",
   "name": "python",
   "nbconvert_exporter": "python",
   "pygments_lexer": "ipython3",
   "version": "3.5.0"
  }
 },
 "nbformat": 4,
 "nbformat_minor": 0
}
