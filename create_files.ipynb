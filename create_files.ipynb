{
 "cells": [
  {
   "cell_type": "code",
   "execution_count": 1,
   "metadata": {
    "collapsed": false
   },
   "outputs": [],
   "source": [
    "import pandas as pd\n",
    "from my_functions import *"
   ]
  },
  {
   "cell_type": "code",
   "execution_count": 2,
   "metadata": {
    "collapsed": true
   },
   "outputs": [],
   "source": [
    "# create_pegmed()"
   ]
  },
  {
   "cell_type": "code",
   "execution_count": 3,
   "metadata": {
    "collapsed": false
   },
   "outputs": [],
   "source": [
    "# create_pegprod()"
   ]
  },
  {
   "cell_type": "code",
   "execution_count": 4,
   "metadata": {
    "collapsed": true
   },
   "outputs": [],
   "source": [
    "# create_all_clinical_tests_referrals_just_patid_and_dates_csv()\n",
    "## this takes a long time to run!"
   ]
  },
  {
   "cell_type": "code",
   "execution_count": 5,
   "metadata": {
    "collapsed": false
   },
   "outputs": [],
   "source": [
    "# create_insomnia_entries()"
   ]
  },
  {
   "cell_type": "code",
   "execution_count": 6,
   "metadata": {
    "collapsed": true
   },
   "outputs": [],
   "source": [
    "# create_pt_features()"
   ]
  },
  {
   "cell_type": "code",
   "execution_count": 7,
   "metadata": {
    "collapsed": true
   },
   "outputs": [],
   "source": [
    "all_entries = pd.read_csv('data/pt_data/medcoded_clinical_entries.csv',delimiter=',')"
   ]
  },
  {
   "cell_type": "code",
   "execution_count": 8,
   "metadata": {
    "collapsed": false
   },
   "outputs": [],
   "source": [
    "add_sys_start_and_end_dates_plus_length_of_available_data_to_patient_features(all_entries)"
   ]
  },
  {
   "cell_type": "code",
   "execution_count": 11,
   "metadata": {
    "collapsed": true
   },
   "outputs": [],
   "source": [
    "pt_features = pd.read_csv('data/pt_data/pt_features.csv',delimiter=',')"
   ]
  },
  {
   "cell_type": "code",
   "execution_count": 12,
   "metadata": {
    "collapsed": false
   },
   "outputs": [
    {
     "data": {
      "text/html": [
       "<div>\n",
       "<table border=\"1\" class=\"dataframe\">\n",
       "  <thead>\n",
       "    <tr style=\"text-align: right;\">\n",
       "      <th></th>\n",
       "      <th>patID</th>\n",
       "      <th>pracID</th>\n",
       "      <th>gender</th>\n",
       "      <th>birthyear</th>\n",
       "      <th>case_index</th>\n",
       "      <th>matchID</th>\n",
       "      <th>data_start</th>\n",
       "      <th>data_end</th>\n",
       "      <th>isCase</th>\n",
       "      <th>prediagnosis_data_length_in_days</th>\n",
       "      <th>sysdate_start</th>\n",
       "      <th>sysdate_end</th>\n",
       "      <th>length_of_data_pre_index_date</th>\n",
       "      <th>length_of_data_post_index_date</th>\n",
       "    </tr>\n",
       "  </thead>\n",
       "  <tbody>\n",
       "    <tr>\n",
       "      <th>0</th>\n",
       "      <td>4923328</td>\n",
       "      <td>328</td>\n",
       "      <td>2</td>\n",
       "      <td>1916</td>\n",
       "      <td>2003-07-01</td>\n",
       "      <td>4355328</td>\n",
       "      <td>2000-01-01</td>\n",
       "      <td>2009-02-07</td>\n",
       "      <td>True</td>\n",
       "      <td>1277</td>\n",
       "      <td>2001-06-04</td>\n",
       "      <td>2005-05-16</td>\n",
       "      <td>757</td>\n",
       "      <td>685</td>\n",
       "    </tr>\n",
       "    <tr>\n",
       "      <th>1</th>\n",
       "      <td>1959216</td>\n",
       "      <td>216</td>\n",
       "      <td>1</td>\n",
       "      <td>1933</td>\n",
       "      <td>2011-02-25</td>\n",
       "      <td>6290216</td>\n",
       "      <td>2000-01-01</td>\n",
       "      <td>2012-06-01</td>\n",
       "      <td>True</td>\n",
       "      <td>4073</td>\n",
       "      <td>1995-12-20</td>\n",
       "      <td>2013-02-22</td>\n",
       "      <td>5546</td>\n",
       "      <td>728</td>\n",
       "    </tr>\n",
       "    <tr>\n",
       "      <th>2</th>\n",
       "      <td>9271420</td>\n",
       "      <td>420</td>\n",
       "      <td>1</td>\n",
       "      <td>1917</td>\n",
       "      <td>2003-06-20</td>\n",
       "      <td>2770420</td>\n",
       "      <td>2003-01-02</td>\n",
       "      <td>2009-12-29</td>\n",
       "      <td>True</td>\n",
       "      <td>169</td>\n",
       "      <td>1999-10-16</td>\n",
       "      <td>2004-05-26</td>\n",
       "      <td>1343</td>\n",
       "      <td>341</td>\n",
       "    </tr>\n",
       "    <tr>\n",
       "      <th>3</th>\n",
       "      <td>548429</td>\n",
       "      <td>429</td>\n",
       "      <td>2</td>\n",
       "      <td>1925</td>\n",
       "      <td>2005-05-11</td>\n",
       "      <td>5473429</td>\n",
       "      <td>2000-01-01</td>\n",
       "      <td>2012-06-01</td>\n",
       "      <td>True</td>\n",
       "      <td>1957</td>\n",
       "      <td>1999-11-29</td>\n",
       "      <td>2011-11-07</td>\n",
       "      <td>1990</td>\n",
       "      <td>2371</td>\n",
       "    </tr>\n",
       "    <tr>\n",
       "      <th>4</th>\n",
       "      <td>14185081</td>\n",
       "      <td>81</td>\n",
       "      <td>2</td>\n",
       "      <td>1917</td>\n",
       "      <td>2005-02-28</td>\n",
       "      <td>5951081</td>\n",
       "      <td>2000-01-01</td>\n",
       "      <td>2007-01-27</td>\n",
       "      <td>True</td>\n",
       "      <td>1885</td>\n",
       "      <td>1996-09-12</td>\n",
       "      <td>2006-02-16</td>\n",
       "      <td>3091</td>\n",
       "      <td>353</td>\n",
       "    </tr>\n",
       "    <tr>\n",
       "      <th>5</th>\n",
       "      <td>7329438</td>\n",
       "      <td>438</td>\n",
       "      <td>2</td>\n",
       "      <td>1941</td>\n",
       "      <td>2008-08-04</td>\n",
       "      <td>17742438</td>\n",
       "      <td>2000-01-01</td>\n",
       "      <td>2012-06-01</td>\n",
       "      <td>True</td>\n",
       "      <td>3138</td>\n",
       "      <td>1996-11-03</td>\n",
       "      <td>2013-05-09</td>\n",
       "      <td>4292</td>\n",
       "      <td>1739</td>\n",
       "    </tr>\n",
       "    <tr>\n",
       "      <th>6</th>\n",
       "      <td>6327373</td>\n",
       "      <td>373</td>\n",
       "      <td>1</td>\n",
       "      <td>1941</td>\n",
       "      <td>2009-03-26</td>\n",
       "      <td>5262373</td>\n",
       "      <td>2004-12-22</td>\n",
       "      <td>2010-09-10</td>\n",
       "      <td>True</td>\n",
       "      <td>1555</td>\n",
       "      <td>2001-12-11</td>\n",
       "      <td>2011-08-19</td>\n",
       "      <td>2662</td>\n",
       "      <td>876</td>\n",
       "    </tr>\n",
       "    <tr>\n",
       "      <th>7</th>\n",
       "      <td>5811024</td>\n",
       "      <td>24</td>\n",
       "      <td>1</td>\n",
       "      <td>1930</td>\n",
       "      <td>2010-12-14</td>\n",
       "      <td>6394024</td>\n",
       "      <td>2000-01-01</td>\n",
       "      <td>2012-06-01</td>\n",
       "      <td>True</td>\n",
       "      <td>4000</td>\n",
       "      <td>1997-10-31</td>\n",
       "      <td>2013-01-17</td>\n",
       "      <td>4792</td>\n",
       "      <td>765</td>\n",
       "    </tr>\n",
       "    <tr>\n",
       "      <th>8</th>\n",
       "      <td>6905371</td>\n",
       "      <td>371</td>\n",
       "      <td>1</td>\n",
       "      <td>1926</td>\n",
       "      <td>2006-09-19</td>\n",
       "      <td>15830371</td>\n",
       "      <td>2002-11-07</td>\n",
       "      <td>2009-07-22</td>\n",
       "      <td>True</td>\n",
       "      <td>1412</td>\n",
       "      <td>1999-03-12</td>\n",
       "      <td>2008-09-22</td>\n",
       "      <td>2748</td>\n",
       "      <td>734</td>\n",
       "    </tr>\n",
       "    <tr>\n",
       "      <th>9</th>\n",
       "      <td>7741629</td>\n",
       "      <td>629</td>\n",
       "      <td>1</td>\n",
       "      <td>1936</td>\n",
       "      <td>2004-06-10</td>\n",
       "      <td>9053629</td>\n",
       "      <td>2000-01-01</td>\n",
       "      <td>2012-06-01</td>\n",
       "      <td>True</td>\n",
       "      <td>1622</td>\n",
       "      <td>2001-12-06</td>\n",
       "      <td>2005-01-24</td>\n",
       "      <td>917</td>\n",
       "      <td>228</td>\n",
       "    </tr>\n",
       "  </tbody>\n",
       "</table>\n",
       "</div>"
      ],
      "text/plain": [
       "      patID  pracID  gender  birthyear  case_index   matchID  data_start  \\\n",
       "0   4923328     328       2       1916  2003-07-01   4355328  2000-01-01   \n",
       "1   1959216     216       1       1933  2011-02-25   6290216  2000-01-01   \n",
       "2   9271420     420       1       1917  2003-06-20   2770420  2003-01-02   \n",
       "3    548429     429       2       1925  2005-05-11   5473429  2000-01-01   \n",
       "4  14185081      81       2       1917  2005-02-28   5951081  2000-01-01   \n",
       "5   7329438     438       2       1941  2008-08-04  17742438  2000-01-01   \n",
       "6   6327373     373       1       1941  2009-03-26   5262373  2004-12-22   \n",
       "7   5811024      24       1       1930  2010-12-14   6394024  2000-01-01   \n",
       "8   6905371     371       1       1926  2006-09-19  15830371  2002-11-07   \n",
       "9   7741629     629       1       1936  2004-06-10   9053629  2000-01-01   \n",
       "\n",
       "     data_end isCase  prediagnosis_data_length_in_days sysdate_start  \\\n",
       "0  2009-02-07   True                              1277    2001-06-04   \n",
       "1  2012-06-01   True                              4073    1995-12-20   \n",
       "2  2009-12-29   True                               169    1999-10-16   \n",
       "3  2012-06-01   True                              1957    1999-11-29   \n",
       "4  2007-01-27   True                              1885    1996-09-12   \n",
       "5  2012-06-01   True                              3138    1996-11-03   \n",
       "6  2010-09-10   True                              1555    2001-12-11   \n",
       "7  2012-06-01   True                              4000    1997-10-31   \n",
       "8  2009-07-22   True                              1412    1999-03-12   \n",
       "9  2012-06-01   True                              1622    2001-12-06   \n",
       "\n",
       "  sysdate_end  length_of_data_pre_index_date  length_of_data_post_index_date  \n",
       "0  2005-05-16                            757                             685  \n",
       "1  2013-02-22                           5546                             728  \n",
       "2  2004-05-26                           1343                             341  \n",
       "3  2011-11-07                           1990                            2371  \n",
       "4  2006-02-16                           3091                             353  \n",
       "5  2013-05-09                           4292                            1739  \n",
       "6  2011-08-19                           2662                             876  \n",
       "7  2013-01-17                           4792                             765  \n",
       "8  2008-09-22                           2748                             734  \n",
       "9  2005-01-24                            917                             228  "
      ]
     },
     "execution_count": 12,
     "metadata": {},
     "output_type": "execute_result"
    }
   ],
   "source": [
    "pt_features"
   ]
  },
  {
   "cell_type": "code",
   "execution_count": null,
   "metadata": {
    "collapsed": true
   },
   "outputs": [],
   "source": []
  }
 ],
 "metadata": {
  "kernelspec": {
   "display_name": "Python 3",
   "language": "python",
   "name": "python3"
  },
  "language_info": {
   "codemirror_mode": {
    "name": "ipython",
    "version": 3
   },
   "file_extension": ".py",
   "mimetype": "text/x-python",
   "name": "python",
   "nbconvert_exporter": "python",
   "pygments_lexer": "ipython3",
   "version": "3.5.0"
  }
 },
 "nbformat": 4,
 "nbformat_minor": 0
}
