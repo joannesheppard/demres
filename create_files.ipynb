{
 "cells": [
  {
   "cell_type": "code",
   "execution_count": 134,
   "metadata": {
    "collapsed": false
   },
   "outputs": [],
   "source": [
    "import pandas as pd\n",
    "import numpy as np\n",
    "from my_functions import *"
   ]
  },
  {
   "cell_type": "code",
   "execution_count": 34,
   "metadata": {
    "collapsed": false
   },
   "outputs": [],
   "source": [
    "# create_pegmed()\n",
    "# create_insomnia_medcodes()\n",
    "create_insomnia_clinentries()"
   ]
  },
  {
   "cell_type": "code",
   "execution_count": 128,
   "metadata": {
    "collapsed": true
   },
   "outputs": [],
   "source": [
    "insom_df = pd.read_csv('data/pt_data/proc_insomnia_clinicalentries.csv',delimiter=',')"
   ]
  },
  {
   "cell_type": "code",
   "execution_count": 129,
   "metadata": {
    "collapsed": false
   },
   "outputs": [
    {
     "data": {
      "text/html": [
       "<div>\n",
       "<table border=\"1\" class=\"dataframe\">\n",
       "  <thead>\n",
       "    <tr style=\"text-align: right;\">\n",
       "      <th></th>\n",
       "      <th>patid</th>\n",
       "      <th>eventdate</th>\n",
       "      <th>sysdate</th>\n",
       "      <th>constype</th>\n",
       "      <th>consid</th>\n",
       "      <th>medcode</th>\n",
       "      <th>staffid</th>\n",
       "      <th>textid</th>\n",
       "      <th>episode</th>\n",
       "      <th>enttype</th>\n",
       "      <th>adid</th>\n",
       "      <th>file</th>\n",
       "    </tr>\n",
       "  </thead>\n",
       "  <tbody>\n",
       "    <tr>\n",
       "      <th>0</th>\n",
       "      <td>149001</td>\n",
       "      <td>27/11/1989</td>\n",
       "      <td>28/05/2003</td>\n",
       "      <td>3</td>\n",
       "      <td>25478</td>\n",
       "      <td>750</td>\n",
       "      <td>0</td>\n",
       "      <td>0</td>\n",
       "      <td>1</td>\n",
       "      <td>2</td>\n",
       "      <td>0</td>\n",
       "      <td>1</td>\n",
       "    </tr>\n",
       "    <tr>\n",
       "      <th>1</th>\n",
       "      <td>702001</td>\n",
       "      <td>08/03/2004</td>\n",
       "      <td>08/03/2004</td>\n",
       "      <td>3</td>\n",
       "      <td>117651</td>\n",
       "      <td>750</td>\n",
       "      <td>7001</td>\n",
       "      <td>20671</td>\n",
       "      <td>1</td>\n",
       "      <td>2</td>\n",
       "      <td>0</td>\n",
       "      <td>1</td>\n",
       "    </tr>\n",
       "    <tr>\n",
       "      <th>2</th>\n",
       "      <td>702001</td>\n",
       "      <td>27/01/2005</td>\n",
       "      <td>27/01/2005</td>\n",
       "      <td>3</td>\n",
       "      <td>117733</td>\n",
       "      <td>750</td>\n",
       "      <td>7001</td>\n",
       "      <td>20682</td>\n",
       "      <td>1</td>\n",
       "      <td>2</td>\n",
       "      <td>0</td>\n",
       "      <td>1</td>\n",
       "    </tr>\n",
       "    <tr>\n",
       "      <th>3</th>\n",
       "      <td>802001</td>\n",
       "      <td>27/09/1991</td>\n",
       "      <td>07/03/1997</td>\n",
       "      <td>3</td>\n",
       "      <td>131148</td>\n",
       "      <td>750</td>\n",
       "      <td>0</td>\n",
       "      <td>0</td>\n",
       "      <td>4</td>\n",
       "      <td>2</td>\n",
       "      <td>0</td>\n",
       "      <td>1</td>\n",
       "    </tr>\n",
       "    <tr>\n",
       "      <th>4</th>\n",
       "      <td>802001</td>\n",
       "      <td>03/01/2006</td>\n",
       "      <td>03/01/2006</td>\n",
       "      <td>3</td>\n",
       "      <td>131283</td>\n",
       "      <td>750</td>\n",
       "      <td>5001</td>\n",
       "      <td>23141</td>\n",
       "      <td>2</td>\n",
       "      <td>2</td>\n",
       "      <td>0</td>\n",
       "      <td>1</td>\n",
       "    </tr>\n",
       "    <tr>\n",
       "      <th>5</th>\n",
       "      <td>2150001</td>\n",
       "      <td>12/06/2001</td>\n",
       "      <td>12/06/2001</td>\n",
       "      <td>3</td>\n",
       "      <td>333643</td>\n",
       "      <td>750</td>\n",
       "      <td>7001</td>\n",
       "      <td>56302</td>\n",
       "      <td>1</td>\n",
       "      <td>2</td>\n",
       "      <td>0</td>\n",
       "      <td>1</td>\n",
       "    </tr>\n",
       "    <tr>\n",
       "      <th>6</th>\n",
       "      <td>2742001</td>\n",
       "      <td>23/10/1990</td>\n",
       "      <td>07/03/1997</td>\n",
       "      <td>3</td>\n",
       "      <td>424431</td>\n",
       "      <td>750</td>\n",
       "      <td>0</td>\n",
       "      <td>0</td>\n",
       "      <td>4</td>\n",
       "      <td>2</td>\n",
       "      <td>0</td>\n",
       "      <td>1</td>\n",
       "    </tr>\n",
       "    <tr>\n",
       "      <th>7</th>\n",
       "      <td>3891001</td>\n",
       "      <td>15/11/2001</td>\n",
       "      <td>15/11/2001</td>\n",
       "      <td>3</td>\n",
       "      <td>621180</td>\n",
       "      <td>4023</td>\n",
       "      <td>7001</td>\n",
       "      <td>100556</td>\n",
       "      <td>1</td>\n",
       "      <td>2</td>\n",
       "      <td>0</td>\n",
       "      <td>1</td>\n",
       "    </tr>\n",
       "    <tr>\n",
       "      <th>8</th>\n",
       "      <td>3891001</td>\n",
       "      <td>01/07/2002</td>\n",
       "      <td>01/07/2002</td>\n",
       "      <td>3</td>\n",
       "      <td>621193</td>\n",
       "      <td>750</td>\n",
       "      <td>7001</td>\n",
       "      <td>100561</td>\n",
       "      <td>1</td>\n",
       "      <td>2</td>\n",
       "      <td>0</td>\n",
       "      <td>1</td>\n",
       "    </tr>\n",
       "    <tr>\n",
       "      <th>9</th>\n",
       "      <td>4289001</td>\n",
       "      <td>01/01/1981</td>\n",
       "      <td>07/03/1997</td>\n",
       "      <td>3</td>\n",
       "      <td>680902</td>\n",
       "      <td>750</td>\n",
       "      <td>0</td>\n",
       "      <td>0</td>\n",
       "      <td>4</td>\n",
       "      <td>2</td>\n",
       "      <td>0</td>\n",
       "      <td>1</td>\n",
       "    </tr>\n",
       "  </tbody>\n",
       "</table>\n",
       "</div>"
      ],
      "text/plain": [
       "     patid   eventdate     sysdate  constype  consid  medcode  staffid  \\\n",
       "0   149001  27/11/1989  28/05/2003         3   25478      750        0   \n",
       "1   702001  08/03/2004  08/03/2004         3  117651      750     7001   \n",
       "2   702001  27/01/2005  27/01/2005         3  117733      750     7001   \n",
       "3   802001  27/09/1991  07/03/1997         3  131148      750        0   \n",
       "4   802001  03/01/2006  03/01/2006         3  131283      750     5001   \n",
       "5  2150001  12/06/2001  12/06/2001         3  333643      750     7001   \n",
       "6  2742001  23/10/1990  07/03/1997         3  424431      750        0   \n",
       "7  3891001  15/11/2001  15/11/2001         3  621180     4023     7001   \n",
       "8  3891001  01/07/2002  01/07/2002         3  621193      750     7001   \n",
       "9  4289001  01/01/1981  07/03/1997         3  680902      750        0   \n",
       "\n",
       "   textid  episode  enttype  adid  file  \n",
       "0       0        1        2     0     1  \n",
       "1   20671        1        2     0     1  \n",
       "2   20682        1        2     0     1  \n",
       "3       0        4        2     0     1  \n",
       "4   23141        2        2     0     1  \n",
       "5   56302        1        2     0     1  \n",
       "6       0        4        2     0     1  \n",
       "7  100556        1        2     0     1  \n",
       "8  100561        1        2     0     1  \n",
       "9       0        4        2     0     1  "
      ]
     },
     "execution_count": 129,
     "metadata": {},
     "output_type": "execute_result"
    }
   ],
   "source": [
    "insom_df.head(10)"
   ]
  },
  {
   "cell_type": "code",
   "execution_count": 130,
   "metadata": {
    "collapsed": true
   },
   "outputs": [],
   "source": [
    "!cd"
   ]
  },
  {
   "cell_type": "code",
   "execution_count": 119,
   "metadata": {
    "collapsed": false
   },
   "outputs": [
    {
     "data": {
      "text/html": [
       "<div>\n",
       "<table border=\"1\" class=\"dataframe\">\n",
       "  <thead>\n",
       "    <tr style=\"text-align: right;\">\n",
       "      <th></th>\n",
       "      <th>patid</th>\n",
       "      <th>pracid</th>\n",
       "      <th>gender</th>\n",
       "      <th>birthyear</th>\n",
       "      <th>indexdate</th>\n",
       "    </tr>\n",
       "  </thead>\n",
       "  <tbody>\n",
       "    <tr>\n",
       "      <th>0</th>\n",
       "      <td>1166</td>\n",
       "      <td>166</td>\n",
       "      <td>2</td>\n",
       "      <td>1917</td>\n",
       "      <td>02/05/2003</td>\n",
       "    </tr>\n",
       "    <tr>\n",
       "      <th>1</th>\n",
       "      <td>1633</td>\n",
       "      <td>633</td>\n",
       "      <td>2</td>\n",
       "      <td>1927</td>\n",
       "      <td>14/01/2011</td>\n",
       "    </tr>\n",
       "    <tr>\n",
       "      <th>2</th>\n",
       "      <td>2014</td>\n",
       "      <td>14</td>\n",
       "      <td>2</td>\n",
       "      <td>1922</td>\n",
       "      <td>04/04/2003</td>\n",
       "    </tr>\n",
       "    <tr>\n",
       "      <th>3</th>\n",
       "      <td>2477</td>\n",
       "      <td>477</td>\n",
       "      <td>2</td>\n",
       "      <td>1931</td>\n",
       "      <td>07/12/2009</td>\n",
       "    </tr>\n",
       "    <tr>\n",
       "      <th>4</th>\n",
       "      <td>3483</td>\n",
       "      <td>483</td>\n",
       "      <td>1</td>\n",
       "      <td>1920</td>\n",
       "      <td>20/06/2007</td>\n",
       "    </tr>\n",
       "  </tbody>\n",
       "</table>\n",
       "</div>"
      ],
      "text/plain": [
       "   patid  pracid  gender  birthyear   indexdate\n",
       "0   1166     166       2       1917  02/05/2003\n",
       "1   1633     633       2       1927  14/01/2011\n",
       "2   2014      14       2       1922  04/04/2003\n",
       "3   2477     477       2       1931  07/12/2009\n",
       "4   3483     483       1       1920  20/06/2007"
      ]
     },
     "execution_count": 119,
     "metadata": {},
     "output_type": "execute_result"
    }
   ],
   "source": [
    "pd.read_csv('Case_file.txt',delimiter='\\t').head(5)"
   ]
  },
  {
   "cell_type": "code",
   "execution_count": 131,
   "metadata": {
    "collapsed": false
   },
   "outputs": [],
   "source": [
    "matching = pd.read_csv('data/pt_data/Matching_File.txt',delimiter='\\t')"
   ]
  },
  {
   "cell_type": "code",
   "execution_count": 138,
   "metadata": {
    "collapsed": false
   },
   "outputs": [
    {
     "data": {
      "text/html": [
       "<div>\n",
       "<table border=\"1\" class=\"dataframe\">\n",
       "  <thead>\n",
       "    <tr style=\"text-align: right;\">\n",
       "      <th></th>\n",
       "      <th>case_patid</th>\n",
       "      <th>case_pracid</th>\n",
       "      <th>case_gender</th>\n",
       "      <th>case_birthyear</th>\n",
       "      <th>case_index</th>\n",
       "      <th>match</th>\n",
       "      <th>control_patid</th>\n",
       "      <th>control_pracid</th>\n",
       "      <th>control_gender</th>\n",
       "      <th>control_birthyear</th>\n",
       "      <th>control_start</th>\n",
       "      <th>control_end</th>\n",
       "    </tr>\n",
       "  </thead>\n",
       "  <tbody>\n",
       "    <tr>\n",
       "      <th>0</th>\n",
       "      <td>4923328</td>\n",
       "      <td>328</td>\n",
       "      <td>2</td>\n",
       "      <td>1916</td>\n",
       "      <td>01/07/2003</td>\n",
       "      <td>1</td>\n",
       "      <td>4355328</td>\n",
       "      <td>328</td>\n",
       "      <td>2</td>\n",
       "      <td>1916</td>\n",
       "      <td>01/01/2000</td>\n",
       "      <td>07/02/2009</td>\n",
       "    </tr>\n",
       "    <tr>\n",
       "      <th>1</th>\n",
       "      <td>1959216</td>\n",
       "      <td>216</td>\n",
       "      <td>1</td>\n",
       "      <td>1933</td>\n",
       "      <td>25/02/2011</td>\n",
       "      <td>1</td>\n",
       "      <td>6290216</td>\n",
       "      <td>216</td>\n",
       "      <td>1</td>\n",
       "      <td>1933</td>\n",
       "      <td>01/01/2000</td>\n",
       "      <td>01/06/2012</td>\n",
       "    </tr>\n",
       "    <tr>\n",
       "      <th>2</th>\n",
       "      <td>9271420</td>\n",
       "      <td>420</td>\n",
       "      <td>1</td>\n",
       "      <td>1917</td>\n",
       "      <td>20/06/2003</td>\n",
       "      <td>1</td>\n",
       "      <td>2770420</td>\n",
       "      <td>420</td>\n",
       "      <td>1</td>\n",
       "      <td>1917</td>\n",
       "      <td>02/01/2003</td>\n",
       "      <td>29/12/2009</td>\n",
       "    </tr>\n",
       "    <tr>\n",
       "      <th>3</th>\n",
       "      <td>548429</td>\n",
       "      <td>429</td>\n",
       "      <td>2</td>\n",
       "      <td>1925</td>\n",
       "      <td>11/05/2005</td>\n",
       "      <td>1</td>\n",
       "      <td>5473429</td>\n",
       "      <td>429</td>\n",
       "      <td>2</td>\n",
       "      <td>1925</td>\n",
       "      <td>01/01/2000</td>\n",
       "      <td>01/06/2012</td>\n",
       "    </tr>\n",
       "    <tr>\n",
       "      <th>4</th>\n",
       "      <td>14185081</td>\n",
       "      <td>81</td>\n",
       "      <td>2</td>\n",
       "      <td>1917</td>\n",
       "      <td>28/02/2005</td>\n",
       "      <td>1</td>\n",
       "      <td>5951081</td>\n",
       "      <td>81</td>\n",
       "      <td>2</td>\n",
       "      <td>1917</td>\n",
       "      <td>01/01/2000</td>\n",
       "      <td>27/01/2007</td>\n",
       "    </tr>\n",
       "  </tbody>\n",
       "</table>\n",
       "</div>"
      ],
      "text/plain": [
       "   case_patid  case_pracid  case_gender  case_birthyear  case_index  match  \\\n",
       "0     4923328          328            2            1916  01/07/2003      1   \n",
       "1     1959216          216            1            1933  25/02/2011      1   \n",
       "2     9271420          420            1            1917  20/06/2003      1   \n",
       "3      548429          429            2            1925  11/05/2005      1   \n",
       "4    14185081           81            2            1917  28/02/2005      1   \n",
       "\n",
       "  control_patid control_pracid control_gender control_birthyear control_start  \\\n",
       "0       4355328            328              2              1916    01/01/2000   \n",
       "1       6290216            216              1              1933    01/01/2000   \n",
       "2       2770420            420              1              1917    02/01/2003   \n",
       "3       5473429            429              2              1925    01/01/2000   \n",
       "4       5951081             81              2              1917    01/01/2000   \n",
       "\n",
       "  control_end  \n",
       "0  07/02/2009  \n",
       "1  01/06/2012  \n",
       "2  29/12/2009  \n",
       "3  01/06/2012  \n",
       "4  27/01/2007  "
      ]
     },
     "execution_count": 138,
     "metadata": {},
     "output_type": "execute_result"
    }
   ],
   "source": [
    "matching.head(5)"
   ]
  },
  {
   "cell_type": "code",
   "execution_count": 236,
   "metadata": {
    "collapsed": false
   },
   "outputs": [
    {
     "data": {
      "text/html": [
       "<div>\n",
       "<table border=\"1\" class=\"dataframe\">\n",
       "  <thead>\n",
       "    <tr style=\"text-align: right;\">\n",
       "      <th></th>\n",
       "      <th>patID</th>\n",
       "      <th>pracID</th>\n",
       "      <th>gender</th>\n",
       "      <th>birthyear</th>\n",
       "      <th>isCase</th>\n",
       "      <th>matchid</th>\n",
       "      <th>case_index</th>\n",
       "      <th>data_start</th>\n",
       "      <th>data_end</th>\n",
       "    </tr>\n",
       "  </thead>\n",
       "  <tbody>\n",
       "  </tbody>\n",
       "</table>\n",
       "</div>"
      ],
      "text/plain": [
       "Empty DataFrame\n",
       "Columns: [patID, pracID, gender, birthyear, isCase, matchid, case_index, data_start, data_end]\n",
       "Index: []"
      ]
     },
     "execution_count": 236,
     "metadata": {},
     "output_type": "execute_result"
    }
   ],
   "source": [
    "feature_index=['patID','pracID','gender','birthyear','isCase','matchid','case_index','data_start','data_end']\n",
    "features = pd.DataFrame(columns=feature_index)\n",
    "features"
   ]
  },
  {
   "cell_type": "code",
   "execution_count": null,
   "metadata": {
    "collapsed": false
   },
   "outputs": [],
   "source": [
    "for index,row in matching.iterrows():\n",
    "# first append the case\n",
    "    index = len(features)\n",
    "    features.loc[index,feature_index[0]]=row[0] #patID\n",
    "    features.loc[index,feature_index[1]]=row[1] #pracID\n",
    "    features.loc[index,feature_index[2]]=row[2] #gender\n",
    "    features.loc[index,feature_index[3]]=row[3] #birthyear\n",
    "    features.loc[index,feature_index[4]]=True #isCase\n",
    "    features.loc[index,feature_index[5]]=row[6] #matchid\n",
    "    features.loc[index,feature_index[6]]=row[4] #case_index\n",
    "    features.loc[index,feature_index[7]]=row[10] #data_start\n",
    "    features.loc[index,feature_index[8]]=row[11] #data_end\n",
    "# now append the control\n",
    "    index = len(features)\n",
    "    features.loc[index,feature_index[0]]=row[6] #patID\n",
    "    features.loc[index,feature_index[1]]=row[7] #pracID\n",
    "    features.loc[index,feature_index[2]]=row[8] #gender\n",
    "    features.loc[index,feature_index[3]]=row[9] #birthyear\n",
    "    features.loc[index,feature_index[4]]=False #isCase\n",
    "    features.loc[index,feature_index[5]]=row[0] #matchid\n",
    "    features.loc[index,feature_index[6]]=row[4] #case_index\n",
    "    features.loc[index,feature_index[7]]=row[10] #data_start\n",
    "    features.loc[index,feature_index[8]]=row[11] #data_end"
   ]
  },
  {
   "cell_type": "code",
   "execution_count": null,
   "metadata": {
    "collapsed": false
   },
   "outputs": [],
   "source": [
    "features[:10]"
   ]
  },
  {
   "cell_type": "code",
   "execution_count": null,
   "metadata": {
    "collapsed": true
   },
   "outputs": [],
   "source": []
  },
  {
   "cell_type": "code",
   "execution_count": null,
   "metadata": {
    "collapsed": true
   },
   "outputs": [],
   "source": []
  },
  {
   "cell_type": "code",
   "execution_count": null,
   "metadata": {
    "collapsed": true
   },
   "outputs": [],
   "source": []
  }
 ],
 "metadata": {
  "kernelspec": {
   "display_name": "Python 3",
   "language": "python",
   "name": "python3"
  },
  "language_info": {
   "codemirror_mode": {
    "name": "ipython",
    "version": 3
   },
   "file_extension": ".py",
   "mimetype": "text/x-python",
   "name": "python",
   "nbconvert_exporter": "python",
   "pygments_lexer": "ipython3",
   "version": "3.5.0"
  }
 },
 "nbformat": 4,
 "nbformat_minor": 0
}
