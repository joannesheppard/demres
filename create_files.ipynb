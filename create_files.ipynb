{
 "cells": [
  {
   "cell_type": "code",
   "execution_count": 1,
   "metadata": {
    "collapsed": false
   },
   "outputs": [],
   "source": [
    "import pandas as pd\n",
    "from my_functions import *"
   ]
  },
  {
   "cell_type": "code",
   "execution_count": 2,
   "metadata": {
    "collapsed": false
   },
   "outputs": [],
   "source": [
    "# matching = pd.read_csv('data/pt_data/Matching_File.txt',delimiter='\\t')"
   ]
  },
  {
   "cell_type": "code",
   "execution_count": 3,
   "metadata": {
    "collapsed": false
   },
   "outputs": [],
   "source": [
    "# matching.head(5)"
   ]
  },
  {
   "cell_type": "code",
   "execution_count": 4,
   "metadata": {
    "collapsed": false
   },
   "outputs": [],
   "source": [
    "# feature1 = matching.copy(deep=True)\n",
    "# del(feature1['match'])\n",
    "# del(feature1['control_birthyear'])\n",
    "# del(feature1['control_pracid'])\n",
    "# del(feature1['control_gender'])\n",
    "# feature1['isCase']=True\n",
    "# feature1.columns=['patID','pracID','gender','birthyear','case_index','matchID','data_start','data_end','isCase']\n",
    "# feature1"
   ]
  },
  {
   "cell_type": "code",
   "execution_count": 5,
   "metadata": {
    "collapsed": false
   },
   "outputs": [],
   "source": [
    "# feature2 = matching.copy(deep=True)\n",
    "# del(feature2['match'])\n",
    "# del(feature2['case_pracid'])\n",
    "# del(feature2['case_birthyear'])\n",
    "# del(feature2['case_gender'])\n",
    "# feature2['isCase']=False\n",
    "# cols = ['matchID',\n",
    "#  'case_index',\n",
    "#  'patID',\n",
    "#  'pracID',\n",
    "#  'gender',\n",
    "#  'birthyear',\n",
    "#  'data_start',\n",
    "#  'data_end',\n",
    "#  'isCase']\n",
    "# feature2.columns=cols\n",
    "# feature2.head(10)"
   ]
  },
  {
   "cell_type": "code",
   "execution_count": 6,
   "metadata": {
    "collapsed": false
   },
   "outputs": [],
   "source": [
    "# features = pd.concat([feature1,feature2])\n",
    "# features=features[['patID','pracID','gender','birthyear','case_index','matchID','data_start','data_end','isCase']]\n",
    "# features"
   ]
  },
  {
   "cell_type": "code",
   "execution_count": null,
   "metadata": {
    "collapsed": false
   },
   "outputs": [],
   "source": []
  },
  {
   "cell_type": "code",
   "execution_count": 7,
   "metadata": {
    "collapsed": false
   },
   "outputs": [],
   "source": [
    "# for index,row in matching.iterrows():\n",
    "# # first append the case\n",
    "#     index = len(features)\n",
    "#     features.loc[index,feature_index[0]]=row[0] #patID\n",
    "#     features.loc[index,feature_index[1]]=row[1] #pracID\n",
    "#     features.loc[index,feature_index[2]]=row[2] #gender\n",
    "#     features.loc[index,feature_index[3]]=row[3] #birthyear\n",
    "#     features.loc[index,feature_index[4]]=True #isCase\n",
    "#     features.loc[index,feature_index[5]]=row[6] #matchid\n",
    "#     features.loc[index,feature_index[6]]=row[4] #case_index\n",
    "#     features.loc[index,feature_index[7]]=row[10] #data_start\n",
    "#     features.loc[index,feature_index[8]]=row[11] #data_end\n",
    "# # now append the control\n",
    "#     index = len(features)\n",
    "#     features.loc[index,feature_index[0]]=row[6] #patID\n",
    "#     features.loc[index,feature_index[1]]=row[7] #pracID\n",
    "#     features.loc[index,feature_index[2]]=row[8] #gender\n",
    "#     features.loc[index,feature_index[3]]=row[9] #birthyear\n",
    "#     features.loc[index,feature_index[4]]=False #isCase\n",
    "#     features.loc[index,feature_index[5]]=row[0] #matchid\n",
    "#     features.loc[index,feature_index[6]]=row[4] #case_index\n",
    "#     features.loc[index,feature_index[7]]=row[10] #data_start\n",
    "#     features.loc[index,feature_index[8]]=row[11] #data_end"
   ]
  },
  {
   "cell_type": "code",
   "execution_count": 8,
   "metadata": {
    "collapsed": true
   },
   "outputs": [],
   "source": [
    "create_pt_features()"
   ]
  },
  {
   "cell_type": "code",
   "execution_count": null,
   "metadata": {
    "collapsed": true
   },
   "outputs": [],
   "source": []
  },
  {
   "cell_type": "code",
   "execution_count": null,
   "metadata": {
    "collapsed": true
   },
   "outputs": [],
   "source": []
  }
 ],
 "metadata": {
  "kernelspec": {
   "display_name": "Python 3",
   "language": "python",
   "name": "python3"
  },
  "language_info": {
   "codemirror_mode": {
    "name": "ipython",
    "version": 3
   },
   "file_extension": ".py",
   "mimetype": "text/x-python",
   "name": "python",
   "nbconvert_exporter": "python",
   "pygments_lexer": "ipython3",
   "version": "3.5.0"
  }
 },
 "nbformat": 4,
 "nbformat_minor": 0
}
