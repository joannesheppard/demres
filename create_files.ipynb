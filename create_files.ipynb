{
 "cells": [
  {
   "cell_type": "code",
   "execution_count": 1,
   "metadata": {
    "collapsed": false
   },
   "outputs": [],
   "source": [
    "import pandas as pd\n",
    "from my_functions import *"
   ]
  },
  {
   "cell_type": "code",
   "execution_count": 2,
   "metadata": {
    "collapsed": false
   },
   "outputs": [],
   "source": [
    "matching = pd.read_csv('data/pt_data/Matching_File.txt',delimiter='\\t')"
   ]
  },
  {
   "cell_type": "code",
   "execution_count": 3,
   "metadata": {
    "collapsed": false
   },
   "outputs": [
    {
     "data": {
      "text/html": [
       "<div>\n",
       "<table border=\"1\" class=\"dataframe\">\n",
       "  <thead>\n",
       "    <tr style=\"text-align: right;\">\n",
       "      <th></th>\n",
       "      <th>case_patid</th>\n",
       "      <th>case_pracid</th>\n",
       "      <th>case_gender</th>\n",
       "      <th>case_birthyear</th>\n",
       "      <th>case_index</th>\n",
       "      <th>match</th>\n",
       "      <th>control_patid</th>\n",
       "      <th>control_pracid</th>\n",
       "      <th>control_gender</th>\n",
       "      <th>control_birthyear</th>\n",
       "      <th>control_start</th>\n",
       "      <th>control_end</th>\n",
       "    </tr>\n",
       "  </thead>\n",
       "  <tbody>\n",
       "    <tr>\n",
       "      <th>0</th>\n",
       "      <td>4923328</td>\n",
       "      <td>328</td>\n",
       "      <td>2</td>\n",
       "      <td>1916</td>\n",
       "      <td>01/07/2003</td>\n",
       "      <td>1</td>\n",
       "      <td>4355328</td>\n",
       "      <td>328</td>\n",
       "      <td>2</td>\n",
       "      <td>1916</td>\n",
       "      <td>01/01/2000</td>\n",
       "      <td>07/02/2009</td>\n",
       "    </tr>\n",
       "    <tr>\n",
       "      <th>1</th>\n",
       "      <td>1959216</td>\n",
       "      <td>216</td>\n",
       "      <td>1</td>\n",
       "      <td>1933</td>\n",
       "      <td>25/02/2011</td>\n",
       "      <td>1</td>\n",
       "      <td>6290216</td>\n",
       "      <td>216</td>\n",
       "      <td>1</td>\n",
       "      <td>1933</td>\n",
       "      <td>01/01/2000</td>\n",
       "      <td>01/06/2012</td>\n",
       "    </tr>\n",
       "    <tr>\n",
       "      <th>2</th>\n",
       "      <td>9271420</td>\n",
       "      <td>420</td>\n",
       "      <td>1</td>\n",
       "      <td>1917</td>\n",
       "      <td>20/06/2003</td>\n",
       "      <td>1</td>\n",
       "      <td>2770420</td>\n",
       "      <td>420</td>\n",
       "      <td>1</td>\n",
       "      <td>1917</td>\n",
       "      <td>02/01/2003</td>\n",
       "      <td>29/12/2009</td>\n",
       "    </tr>\n",
       "    <tr>\n",
       "      <th>3</th>\n",
       "      <td>548429</td>\n",
       "      <td>429</td>\n",
       "      <td>2</td>\n",
       "      <td>1925</td>\n",
       "      <td>11/05/2005</td>\n",
       "      <td>1</td>\n",
       "      <td>5473429</td>\n",
       "      <td>429</td>\n",
       "      <td>2</td>\n",
       "      <td>1925</td>\n",
       "      <td>01/01/2000</td>\n",
       "      <td>01/06/2012</td>\n",
       "    </tr>\n",
       "    <tr>\n",
       "      <th>4</th>\n",
       "      <td>14185081</td>\n",
       "      <td>81</td>\n",
       "      <td>2</td>\n",
       "      <td>1917</td>\n",
       "      <td>28/02/2005</td>\n",
       "      <td>1</td>\n",
       "      <td>5951081</td>\n",
       "      <td>81</td>\n",
       "      <td>2</td>\n",
       "      <td>1917</td>\n",
       "      <td>01/01/2000</td>\n",
       "      <td>27/01/2007</td>\n",
       "    </tr>\n",
       "  </tbody>\n",
       "</table>\n",
       "</div>"
      ],
      "text/plain": [
       "   case_patid  case_pracid  case_gender  case_birthyear  case_index  match  \\\n",
       "0     4923328          328            2            1916  01/07/2003      1   \n",
       "1     1959216          216            1            1933  25/02/2011      1   \n",
       "2     9271420          420            1            1917  20/06/2003      1   \n",
       "3      548429          429            2            1925  11/05/2005      1   \n",
       "4    14185081           81            2            1917  28/02/2005      1   \n",
       "\n",
       "  control_patid control_pracid control_gender control_birthyear control_start  \\\n",
       "0       4355328            328              2              1916    01/01/2000   \n",
       "1       6290216            216              1              1933    01/01/2000   \n",
       "2       2770420            420              1              1917    02/01/2003   \n",
       "3       5473429            429              2              1925    01/01/2000   \n",
       "4       5951081             81              2              1917    01/01/2000   \n",
       "\n",
       "  control_end  \n",
       "0  07/02/2009  \n",
       "1  01/06/2012  \n",
       "2  29/12/2009  \n",
       "3  01/06/2012  \n",
       "4  27/01/2007  "
      ]
     },
     "execution_count": 3,
     "metadata": {},
     "output_type": "execute_result"
    }
   ],
   "source": [
    "matching.head(5)"
   ]
  },
  {
   "cell_type": "code",
   "execution_count": null,
   "metadata": {
    "collapsed": false
   },
   "outputs": [
    {
     "data": {
      "text/html": [
       "<div>\n",
       "<table border=\"1\" class=\"dataframe\">\n",
       "  <thead>\n",
       "    <tr style=\"text-align: right;\">\n",
       "      <th></th>\n",
       "      <th>patID</th>\n",
       "      <th>pracID</th>\n",
       "      <th>gender</th>\n",
       "      <th>birthyear</th>\n",
       "      <th>isCase</th>\n",
       "      <th>matchid</th>\n",
       "      <th>case_index</th>\n",
       "      <th>data_start</th>\n",
       "      <th>data_end</th>\n",
       "    </tr>\n",
       "  </thead>\n",
       "  <tbody>\n",
       "  </tbody>\n",
       "</table>\n",
       "</div>"
      ],
      "text/plain": [
       "Empty DataFrame\n",
       "Columns: [patID, pracID, gender, birthyear, isCase, matchid, case_index, data_start, data_end]\n",
       "Index: []"
      ]
     },
     "execution_count": 4,
     "metadata": {},
     "output_type": "execute_result"
    }
   ],
   "source": [
    "feature_index=['patID','pracID','gender','birthyear','isCase','matchid','case_index','data_start','data_end']\n",
    "features = pd.DataFrame(columns=feature_index)\n",
    "features"
   ]
  },
  {
   "cell_type": "code",
   "execution_count": null,
   "metadata": {
    "collapsed": false
   },
   "outputs": [],
   "source": [
    "for index,row in matching.iterrows():\n",
    "# first append the case\n",
    "    index = len(features)\n",
    "    features.loc[index,feature_index[0]]=row[0] #patID\n",
    "    features.loc[index,feature_index[1]]=row[1] #pracID\n",
    "    features.loc[index,feature_index[2]]=row[2] #gender\n",
    "    features.loc[index,feature_index[3]]=row[3] #birthyear\n",
    "    features.loc[index,feature_index[4]]=True #isCase\n",
    "    features.loc[index,feature_index[5]]=row[6] #matchid\n",
    "    features.loc[index,feature_index[6]]=row[4] #case_index\n",
    "    features.loc[index,feature_index[7]]=row[10] #data_start\n",
    "    features.loc[index,feature_index[8]]=row[11] #data_end\n",
    "# now append the control\n",
    "    index = len(features)\n",
    "    features.loc[index,feature_index[0]]=row[6] #patID\n",
    "    features.loc[index,feature_index[1]]=row[7] #pracID\n",
    "    features.loc[index,feature_index[2]]=row[8] #gender\n",
    "    features.loc[index,feature_index[3]]=row[9] #birthyear\n",
    "    features.loc[index,feature_index[4]]=False #isCase\n",
    "    features.loc[index,feature_index[5]]=row[0] #matchid\n",
    "    features.loc[index,feature_index[6]]=row[4] #case_index\n",
    "    features.loc[index,feature_index[7]]=row[10] #data_start\n",
    "    features.loc[index,feature_index[8]]=row[11] #data_end"
   ]
  },
  {
   "cell_type": "code",
   "execution_count": null,
   "metadata": {
    "collapsed": false
   },
   "outputs": [],
   "source": [
    "features.tail(20)"
   ]
  },
  {
   "cell_type": "code",
   "execution_count": null,
   "metadata": {
    "collapsed": true
   },
   "outputs": [],
   "source": []
  },
  {
   "cell_type": "code",
   "execution_count": null,
   "metadata": {
    "collapsed": true
   },
   "outputs": [],
   "source": []
  },
  {
   "cell_type": "code",
   "execution_count": null,
   "metadata": {
    "collapsed": true
   },
   "outputs": [],
   "source": []
  }
 ],
 "metadata": {
  "kernelspec": {
   "display_name": "Python 3",
   "language": "python",
   "name": "python3"
  },
  "language_info": {
   "codemirror_mode": {
    "name": "ipython",
    "version": 3
   },
   "file_extension": ".py",
   "mimetype": "text/x-python",
   "name": "python",
   "nbconvert_exporter": "python",
   "pygments_lexer": "ipython3",
   "version": "3.5.0"
  }
 },
 "nbformat": 4,
 "nbformat_minor": 0
}
